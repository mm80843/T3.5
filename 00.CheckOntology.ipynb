{
 "cells": [
  {
   "cell_type": "code",
   "execution_count": 1,
   "metadata": {},
   "outputs": [
    {
     "name": "stdout",
     "output_type": "stream",
     "text": [
      "0.40\n"
     ]
    }
   ],
   "source": [
    "import pandas as pd\n",
    "import os\n",
    "from owlready2 import *\n",
    "\n",
    "import owlready2\n",
    "print(owlready2.VERSION) ## Bugs when > 0.40 but works file at owlready2==0.40 "
   ]
  },
  {
   "cell_type": "code",
   "execution_count": 2,
   "metadata": {},
   "outputs": [],
   "source": [
    "onto = get_ontology(\"pbn_t3_5.owl\").load()"
   ]
  },
  {
   "cell_type": "code",
   "execution_count": null,
   "metadata": {},
   "outputs": [],
   "source": [
    "debug = True\n",
    "if debug:\n",
    "    print(\"\\n# Overview\\n\")\n",
    "    for k in onto.classes():\n",
    "        if len(k.instances()):\n",
    "            print(\"* \",\"_\"+str(k).split(\".\")[-1]+\"_\",\" -- \",len(k.instances()), \"instances.\")\n",
    "    print(\"\\n# Details\\n\")\n",
    "    for k in onto.classes():\n",
    "        K = str(k).split(\".\")[-1]\n",
    "        if K not in [\"Qid\",\"PBNThing\"]:\n",
    "            print(\"## \",K,\" -- \",len(k.instances()), \"instances.\")\n",
    "            for i in k.instances()[:2]: \n",
    "                I = str(i).split(\".\")[-1]\n",
    "                if K == \"Qid\":\n",
    "                    if len(i.has_Qid_alias) > 0:\n",
    "                        print(\"### \",I,\" -> \",i.has_Qid_alias[0])\n",
    "                    else:\n",
    "                        print(\"### \",I)\n",
    "                    for p in list(i.get_properties()):\n",
    "                        P = str(p).split(\".\")[-1]\n",
    "                        OBJ = \"onto.\"+str(I)+\".\"+str(P)\n",
    "                        if not P == \"label\":\n",
    "                            print(\"* \",\"pbn_t3_5.\"+str(I)+\".\"+str(P),\": \",eval(OBJ))\n",
    "                else:\n",
    "                    print(\"### \",I,\" -> \",i.label[0])\n",
    "                    for p in list(i.get_properties()):\n",
    "                        P = str(p).split(\".\")[-1]\n",
    "                        OBJ = \"onto.\"+str(I)+\".\"+str(P)\n",
    "                        if not P == \"label\":\n",
    "                            print(\"* \",\"pbn_t3_5.\"+str(I)+\".\"+str(P),\": \",eval(OBJ))\n"
   ]
  },
  {
   "cell_type": "code",
   "execution_count": 3,
   "metadata": {},
   "outputs": [
    {
     "name": "stderr",
     "output_type": "stream",
     "text": [
      "* Owlready2 * Running HermiT...\n",
      "    java -Xmx2000M -cp /home/kelu/.local/lib/python3.10/site-packages/owlready2/hermit:/home/kelu/.local/lib/python3.10/site-packages/owlready2/hermit/HermiT.jar org.semanticweb.HermiT.cli.CommandLine -c -O -D -I file:////tmp/tmpi53k4w3o\n",
      "* Owlready2 * HermiT took 18.855639219284058 seconds\n",
      "* Owlready * (NB: only changes on entities loaded in Python are shown, other changes are done but not listed)\n"
     ]
    }
   ],
   "source": [
    "with onto:\n",
    "    sync_reasoner()"
   ]
  }
 ],
 "metadata": {
  "kernelspec": {
   "display_name": "Python 3 (ipykernel)",
   "language": "python",
   "name": "python3"
  },
  "language_info": {
   "codemirror_mode": {
    "name": "ipython",
    "version": 3
   },
   "file_extension": ".py",
   "mimetype": "text/x-python",
   "name": "python",
   "nbconvert_exporter": "python",
   "pygments_lexer": "ipython3",
   "version": "3.8.15"
  }
 },
 "nbformat": 4,
 "nbformat_minor": 2
}
