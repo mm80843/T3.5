{
 "cells": [
  {
   "cell_type": "code",
   "execution_count": 4,
   "metadata": {},
   "outputs": [
    {
     "name": "stdout",
     "output_type": "stream",
     "text": [
      "0.40\n"
     ]
    }
   ],
   "source": [
    "import pandas as pd\n",
    "import os\n",
    "from owlready2 import *\n",
    "import json\n",
    "\n",
    "import owlready2\n",
    "print(owlready2.VERSION) ## Bugs when > 0.40 but works file at owlready2==0.40 "
   ]
  },
  {
   "cell_type": "code",
   "execution_count": 1,
   "metadata": {},
   "outputs": [
    {
     "name": "stderr",
     "output_type": "stream",
     "text": [
      "* Owlready2 * Warning: optimized Cython parser module 'owlready2_optimized' is not available, defaulting to slower Python implementation\n"
     ]
    }
   ],
   "source": [
    "%load_ext autoreload\n",
    "%autoreload 2\n",
    "\n",
    "import rdfutils as u"
   ]
  },
  {
   "cell_type": "code",
   "execution_count": 5,
   "metadata": {},
   "outputs": [],
   "source": [
    "onto = get_ontology(\"../rdf/work/currentWIP/WIP_w_SPARQL.owl\").load()"
   ]
  },
  {
   "cell_type": "code",
   "execution_count": 7,
   "metadata": {},
   "outputs": [
    {
     "name": "stdout",
     "output_type": "stream",
     "text": [
      "88182 items\n"
     ]
    },
    {
     "data": {
      "text/plain": [
       "'Saved at ../rdf/support/labels.json'"
      ]
     },
     "execution_count": 7,
     "metadata": {},
     "output_type": "execute_result"
    }
   ],
   "source": [
    "NAMES = u.getRosettaOnto(onto)\n",
    "print(len(NAMES),\"items\")\n",
    "u.saveRosettaOnto(NAMES,\"../rdf/support/labels.json\")"
   ]
  },
  {
   "cell_type": "code",
   "execution_count": 8,
   "metadata": {},
   "outputs": [
    {
     "data": {
      "text/plain": [
       "88182"
      ]
     },
     "execution_count": 8,
     "metadata": {},
     "output_type": "execute_result"
    }
   ],
   "source": [
    "len(NAMES)"
   ]
  },
  {
   "cell_type": "markdown",
   "metadata": {},
   "source": [
    "# Creating mardown files and excel"
   ]
  },
  {
   "cell_type": "code",
   "execution_count": 9,
   "metadata": {},
   "outputs": [],
   "source": [
    "def getNameLabel(x):\n",
    "    try :\n",
    "        b = x.label[0]\n",
    "    except:\n",
    "        b = str(x)\n",
    "    return b"
   ]
  },
  {
   "cell_type": "markdown",
   "metadata": {},
   "source": [
    "### Creating the rest"
   ]
  },
  {
   "cell_type": "code",
   "execution_count": 10,
   "metadata": {},
   "outputs": [
    {
     "name": "stdout",
     "output_type": "stream",
     "text": [
      "aBlueprint\n"
     ]
    }
   ],
   "source": [
    "LINK = \"https://github.com/mm80843/T3.5/blob/pages/\"\n",
    "CLASSES = []\n",
    "NAMECLASSES = []\n",
    "for k in onto.classes():\n",
    "    K = str(k).split(\".\")[-1]\n",
    "    if (K  in [\"aBlueprint\"]) and len(k.instances()):\n",
    "        ClassName = K\n",
    "        print(K)\n",
    "        NAMECLASSES.append(K)\n",
    "        CLASS = {}\n",
    "        PATH = \"../docs/\"+K+\"/\"\n",
    "        #PATH = '7.pages/'+K+\"/\"\n",
    "        if not os.path.isdir(PATH):\n",
    "            os.mkdir(PATH)\n",
    "        #print(\"## \",K,\" -- \",len(k.instances()), \"instances.\")\n",
    "        for i in k.instances(): \n",
    "            try:\n",
    "                I = str(i).split(\".\")[-1]\n",
    "                CLASS[i] = {}\n",
    "                CLASS[i][\"ID\"] = I\n",
    "                MD = \"[Home](https://github.com/mm80843/T3.5/blob/pages/index.md) >> Class: [\"+K+\"](https://github.com/mm80843/T3.5/tree/pages/docs/\"+K+\"/index.md)\"+\" >> Individual ID:\"+i.get_name()+\" \\n\\n\"\n",
    "                MD += \"# __\"+i.label[0]+\"__\\n\\n\"\n",
    "                FILENAME = PATH+i.get_name()+\".md\"\n",
    "                A = list(i.get_properties())\n",
    "                A.sort(key=lambda x: getNameLabel(x))\n",
    "                for p in A:\n",
    "                    P = str(p).split(\".\")[-1]\n",
    "                    OBJ = \"onto.\"+str(I)+\".\"+str(P)\n",
    "                    OB = eval(OBJ)\n",
    "                    E = eval(OBJ)[0]\n",
    "                    #print(I,A)\n",
    "                    if not (OB == [onto.nan]):\n",
    "                        if not P == \"label\":\n",
    "                            if not p.label:\n",
    "                                MD += \"## Property: \"+P+\"\\n\\n\"\n",
    "                            else:\n",
    "                                MD += \"## \"+str(p.label[0])+\"\\n\\n\"\n",
    "                                \n",
    "\n",
    "                            E = eval(OBJ)[0]\n",
    "\n",
    "                                                        \n",
    "                            if type(E) is str:\n",
    "                                MD += E + \"\\n\\n\"\n",
    "                                CLASS[i][P] = E\n",
    "                            else:\n",
    "\n",
    "                                A = [x.get_name() for x in eval(OBJ)]\n",
    "\n",
    "                                if \"_\" in str(A[0]):\n",
    "                                    #XX = x.split(\"PBN__\")[1].split(\"_\")\n",
    "                                    XX = \"_\".join(XX[:-1])\n",
    "                                    A = [LINK+XX+\"/\"+x+\".md\" for x in A]\n",
    "                                    #print(str(A[0]),A)\n",
    "                                else:                                \n",
    "                                    A = [LINK+\"/Qid/\"+x+\".md\" for x in A]\n",
    "                                #print(A,eval(OBJ))\n",
    "                                if (OB[0].is_instance_of[0] == onto.Qid):\n",
    "                                    B = [() for x in eval(OBJ)]\n",
    "                                else:\n",
    "                                    B = [x.label[0] for x in eval(OBJ)]\n",
    "                                B.sort(key=lambda x: getNameLabel(x))\n",
    "                                for k in range(len(A)):\n",
    "                                    if not B[k] == \"Nan\":\n",
    "                                        if not \"-----\" in B[k]:\n",
    "                                            MD += \"* [\"+B[k]+\"](\"+A[k]+\")\\n\"\n",
    "                                MD += \"\\n\"\n",
    "                                CLASS[i][P] = [str(x) for x in B]\n",
    "\n",
    "                            CLASS[i][\"NAME\"] = E\n",
    "                            CLASS[i][\"PBNTYPE\"] = ClassName                                \n",
    "                        else:\n",
    "                            E = eval(OBJ)[0]\n",
    "                            CLASS[i][\"NAME\"] = E\n",
    "                            CLASS[i][\"PBNTYPE\"] = ClassName\n",
    "                #print(MD)\n",
    "                with open(FILENAME,\"w\",encoding=\"utf-8\") as f:\n",
    "                    f.write(MD)\n",
    "                print(FILENAME,\"-- dONE\")\n",
    "            except:\n",
    "                pass\n",
    "        CLASSES.append(CLASS)"
   ]
  },
  {
   "cell_type": "code",
   "execution_count": 11,
   "metadata": {},
   "outputs": [
    {
     "name": "stdout",
     "output_type": "stream",
     "text": [
      "BenefReturn\n",
      "Benef\n",
      "Article\n",
      "Risk\n",
      "ISO_Scale\n",
      "RiskHealth\n",
      "RiskType\n",
      "Stakeholder\n",
      "Stakeholder_Type\n",
      "Technology\n",
      "ISO_Impact\n",
      "ISO_Purpose\n",
      "StakeholderGroup\n",
      "StakeholderSubgroup\n",
      "TechGroup\n",
      "TechSubgroup\n",
      "Mitigation\n",
      "BP_Enabler\n",
      "BP_Transmission\n",
      "Blueprint\n",
      "BP_Scale\n",
      "BP_Phase\n",
      "BP_Permanent\n",
      "BP_Type\n",
      "BP_Intervention\n",
      "PBNCategory\n",
      "RiskGroup\n",
      "RiskSubgroup\n",
      "CAO_Group\n",
      "CAO_Subgroup\n",
      "BP_Theme\n",
      "BP_Category\n",
      "aBlueprint\n"
     ]
    }
   ],
   "source": [
    "LINK = \"https://github.com/mm80843/T3.5/blob/pages/\"\n",
    "CLASSES = []\n",
    "NAMECLASSES = []\n",
    "for k in onto.classes():\n",
    "    K = str(k).split(\".\")[-1]\n",
    "    if (K not in [\"Qid\",\"PBNThing\"]) and len(k.instances()):\n",
    "        ClassName = K\n",
    "        print(K)\n",
    "        NAMECLASSES.append(K)\n",
    "        CLASS = {}\n",
    "        PATH = \"../docs/\"+K+\"/\"\n",
    "        #PATH = '7.pages/'+K+\"/\"\n",
    "        if not os.path.isdir(PATH):\n",
    "            os.mkdir(PATH)\n",
    "        #print(\"## \",K,\" -- \",len(k.instances()), \"instances.\")\n",
    "        for i in k.instances(): \n",
    "            try:\n",
    "                I = str(i).split(\".\")[-1]\n",
    "                CLASS[i] = {}\n",
    "                CLASS[i][\"ID\"] = I\n",
    "                MD = \"[Home](https://github.com/mm80843/T3.5/blob/pages/index.md) >> Class: [\"+K+\"](https://github.com/mm80843/T3.5/tree/pages/docs/\"+K+\"/index.md)\"+\" >> Individual ID:\"+i.get_name()+\" \\n\\n\"\n",
    "                MD += \"# __\"+i.label[0]+\"__\\n\\n\"\n",
    "                FILENAME = PATH+i.get_name()+\".md\"\n",
    "                A = list(i.get_properties())\n",
    "                A.sort(key=lambda x: getNameLabel(x))\n",
    "                for p in A:\n",
    "                    P = str(p).split(\".\")[-1]\n",
    "                    OBJ = \"onto.\"+str(I)+\".\"+str(P)\n",
    "                    OB = eval(OBJ)\n",
    "                    E = eval(OBJ)[0]\n",
    "                    if not (OB == [onto.nan]):\n",
    "                        if not P == \"label\":\n",
    "                            if not p.label:\n",
    "                                MD += \"## Property: \"+P+\"\\n\\n\"\n",
    "                            else:\n",
    "                                MD += \"## \"+str(p.label[0])+\"\\n\\n\"\n",
    "                                \n",
    "\n",
    "                            E = eval(OBJ)[0]\n",
    "\n",
    "                                                        \n",
    "                            if type(E) is str:\n",
    "                                MD += E + \"\\n\\n\"\n",
    "                                CLASS[i][P] = E\n",
    "                            else:\n",
    "\n",
    "                                A = [x.get_name() for x in eval(OBJ)]\n",
    "                                if \"_\" in str(A[0]):\n",
    "                                    #\"_\".join(I.split(\"PBN__\")[1]\n",
    "                                    A = [LINK+\"_\".join(x.split(\"PBN__\")[1].split(\"_\")[:-1])+\"/\"+x+\".md\" for x in A]\n",
    "                                    #print(str(A[0]),A)\n",
    "                                else:                           \n",
    "                                    A = [LINK+\"/Qid/\"+x+\".md\" for x in A]\n",
    "                                #print(A,eval(OBJ))\n",
    "                                if (OB[0].is_instance_of[0] == onto.Qid):\n",
    "                                    B = [() for x in eval(OBJ)]\n",
    "                                else:\n",
    "                                    B = [x.label[0] for x in eval(OBJ)]\n",
    "                                B.sort(key=lambda x: getNameLabel(x))\n",
    "                                for k in range(len(A)):\n",
    "                                    if not B[k] == \"Nan\":\n",
    "                                        if not \"-----\" in B[k]:\n",
    "                                            MD += \"* [\"+B[k]+\"](\"+A[k]+\")\\n\"\n",
    "                                MD += \"\\n\"\n",
    "                                CLASS[i][P] = [str(x) for x in B]\n",
    "\n",
    "                            CLASS[i][\"NAME\"] = E\n",
    "                            CLASS[i][\"PBNTYPE\"] = ClassName                                \n",
    "                        else:\n",
    "                            E = eval(OBJ)[0]\n",
    "                            CLASS[i][\"NAME\"] = E\n",
    "                            CLASS[i][\"PBNTYPE\"] = ClassName\n",
    "                #print(MD)\n",
    "                with open(FILENAME,\"w\",encoding=\"utf-8\") as f:\n",
    "                    f.write(MD)\n",
    "                #print(FILENAME,\"done\")\n",
    "            except:\n",
    "                pass\n",
    "        CLASSES.append(CLASS)"
   ]
  },
  {
   "cell_type": "code",
   "execution_count": 12,
   "metadata": {},
   "outputs": [
    {
     "data": {
      "text/plain": [
       "\"[Home](https://github.com/mm80843/T3.5/blob/pages/index.md) >> Class: [aBlueprint](https://github.com/mm80843/T3.5/tree/pages/docs/aBlueprint/index.md) >> Individual ID:PBN__aBlueprint_49 \\n\\n# __Implementing Disease Surveillance and Resilience Measures__\\n\\n## 0. Blueprints points to this category of risks\\n\\n* [The hidden and unnoticed occurrence of covid-19 instances contributes to the silent spread of the virus.](https://github.com/mm80843/T3.5/blob/pages/PBNCategory/PBN__PBNCategory_99.md)\\n\\n## 1. Summary of the blueprint\\n\\n* The Blueprint is designed to address the risks and challenges associated with the spread and management of contagious diseases specifically within green building neighbourhoods - a growing trend that aims to host a healthy living and working environment. In these neighbourhoods, the impact of such diseases could be amplified due to factors like interconnectedness and visibility. Furthermore, in the light of increasing globalization and travel, the risk of importation and introduction of new cases leaves these communities particularly vulnerable. \\n\\n* The risks in these neighbourhoods primarily revolve around a domino effect of disruptions that one incident can trigger, coupled with difficulties in timely identification of cases, and the high number of undetected cases, including asymptomatic ones, which poses challenges for surveillance and containment efforts. In addition, there is a lack of sufficient monitoring of asymptomatic and unreported cases, perpetuating the spread of the disease. Under-reporting of cases and instances of reinfections further compounds the problem, intensifying concerns about the duration and effectiveness of immunity.\\n\\n* The Blueprint leverages varied mitigation measures to counter the contagion. These include the implementation of comprehensive testing and reporting strategies, strengthening of surveillance systems to detect and treat asymptomatic cases, an augmentation of testing capacities, and resorting to alternative surveillance methods. To ensure system resilience, there is a need to diversify dependencies and establish robust backup systems, identifying dependencies and inter-dependencies.\\n\\n* The benefits of implementing this mitigation Blueprint are significant. These include a reduction in importation of cases consequently leading to reduced disease spread. It enables the creation of a robust frontline defence in green building neighbourhoods against the spread of contagious diseases to make these sustainable communities resilient. This not only aids in the creation of a healthy living environment but also serves as an example of proactive preparedness and response to infectious diseases.\\n\\n## 2. Details of the blueprint\\n\\n* The Blueprint is a strategic toolkit designed as an effective defense against the propagation of contagious diseases in green building neighborhoods. The implementation of the Blueprint involves enhancing thorough testing and reporting systems, fortifying active surveillance mechanisms for asymptomatic cases, extending testing capacities, and developing unconventional surveillance methods. Essentially, the goal is to augment system resilience, diversify dependencies, and construct comprehensive backup systems. This approach, coupled with efficient communication channels between healthcare providers and public health authorities, can contribute significantly to containing disease spread in such settings.\\n \\n* The main entities empowered to implement this Blueprint are Healthcare organizations, Critical infrastructure operators, Businesses, Public health authorities, and Government agencies.\\n\\n* 'Neighbourhood'\\n\\n* The risks outlined in the Blueprint primarily pertain to the heightened potential for disease spread in interconnected communities like green building neighbourhoods. These risks include cascading disruptions where one incident sets off a chain of further disruptions, challenges in timely case identification and handling, and the reality of a significant number of undetected cases, including asymptomatic ones. The latter contributes to insufficient surveillance and containment efforts, under-recording of cases, and uncertainties regarding the duration and effectiveness of immunity after infection and recovery.\\n\\n## 3. Blueprint impacts these stakeholders\\n\\n* [Businesses](https://github.com/mm80843/T3.5/blob/pages/Stakeholder/PBN__Stakeholder_68.md)\\n* [Critical infrastructure operators](https://github.com/mm80843/T3.5/blob/pages/Stakeholder/PBN__Stakeholder_9.md)\\n* [General population](https://github.com/mm80843/T3.5/blob/pages/Stakeholder/PBN__Stakeholder_29.md)\\n* [General public](https://github.com/mm80843/T3.5/blob/pages/Stakeholder/PBN__Stakeholder_147.md)\\n* [Healthcare workers](https://github.com/mm80843/T3.5/blob/pages/Stakeholder/PBN__Stakeholder_273.md)\\n\\n## 4. Blueprint links to these mitigations\\n\\n* [Enhance system resilience, diversify dependencies, and establish backup systems](https://github.com/mm80843/T3.5/blob/pages/Mitigation/PBN__Mitigation_2298.md)\\n* [Identifying dependencies and interdependencies](https://github.com/mm80843/T3.5/blob/pages/Mitigation/PBN__Mitigation_1861.md)\\n* [Implement comprehensive testing and reporting strategies, improve data collection and analysis systems, and strengthen communication channels between healthcare providers and public health authorities.](https://github.com/mm80843/T3.5/blob/pages/Mitigation/PBN__Mitigation_2898.md)\\n* [Increase testing capacity and use alternative surveillance methods such as sewage surveillance](https://github.com/mm80843/T3.5/blob/pages/Mitigation/PBN__Mitigation_2830.md)\\n* [Strengthen surveillance systems to actively detect and treat asymptomatic and unreported cases](https://github.com/mm80843/T3.5/blob/pages/Mitigation/PBN__Mitigation_645.md)\\n\\n## 5. Blueprint mitigation can be owned by these stakeholders\\n\\n* [Businesses](https://github.com/mm80843/T3.5/blob/pages/Stakeholder/PBN__Stakeholder_216.md)\\n* [Critical infrastructure operators](https://github.com/mm80843/T3.5/blob/pages/Stakeholder/PBN__Stakeholder_0.md)\\n* [Government agencies](https://github.com/mm80843/T3.5/blob/pages/Stakeholder/PBN__Stakeholder_147.md)\\n* [Healthcare organizations](https://github.com/mm80843/T3.5/blob/pages/Stakeholder/PBN__Stakeholder_55.md)\\n* [Public health authorities](https://github.com/mm80843/T3.5/blob/pages/Stakeholder/PBN__Stakeholder_273.md)\\n\\n## 6. Blueprint links to these benefits\\n\\n* [Reduced disease spread](https://github.com/mm80843/T3.5/blob/pages/Benef/PBN__Benef_958.md)\\n* [Reduced importation of cases](https://github.com/mm80843/T3.5/blob/pages/Benef/PBN__Benef_1194.md)\\n* [Reduced spread](https://github.com/mm80843/T3.5/blob/pages/Benef/PBN__Benef_549.md)\\n\\n## 7. Blueprint links to these technology\\n\\n* [Border control](https://github.com/mm80843/T3.5/blob/pages/Technology/PBN__Technology_22.md)\\n* [Border control measures](https://github.com/mm80843/T3.5/blob/pages/Technology/PBN__Technology_2485.md)\\n* [Border controls](https://github.com/mm80843/T3.5/blob/pages/Technology/PBN__Technology_3415.md)\\n* [Travel bans](https://github.com/mm80843/T3.5/blob/pages/Technology/PBN__Technology_3413.md)\\n* [Travel management systems](https://github.com/mm80843/T3.5/blob/pages/Technology/PBN__Technology_3414.md)\\n* [Travel monitoring](https://github.com/mm80843/T3.5/blob/pages/Technology/PBN__Technology_3024.md)\\n* [Travel policies](https://github.com/mm80843/T3.5/blob/pages/Technology/PBN__Technology_3488.md)\\n* [Travel regulations](https://github.com/mm80843/T3.5/blob/pages/Technology/PBN__Technology_2297.md)\\n* [Travel tracking and monitoring systems](https://github.com/mm80843/T3.5/blob/pages/Technology/PBN__Technology_700.md)\\n\\n\""
      ]
     },
     "execution_count": 12,
     "metadata": {},
     "output_type": "execute_result"
    }
   ],
   "source": [
    "MD"
   ]
  },
  {
   "cell_type": "code",
   "execution_count": 13,
   "metadata": {},
   "outputs": [
    {
     "data": {
      "text/plain": [
       "('aBlueprint', 'aBlueprint')"
      ]
     },
     "execution_count": 13,
     "metadata": {},
     "output_type": "execute_result"
    }
   ],
   "source": [
    "str(i.is_instance_of[0]).split(\".\")[-1],ClassName"
   ]
  },
  {
   "cell_type": "markdown",
   "metadata": {},
   "source": [
    "# Creating the excel of the KG"
   ]
  },
  {
   "cell_type": "code",
   "execution_count": 14,
   "metadata": {},
   "outputs": [],
   "source": [
    "if 0:\n",
    "    ALLDFs = []\n",
    "    for  k in range(len(CLASSES)):\n",
    "        D = pd.DataFrame(CLASSES[k]).T\n",
    "        if len(D):\n",
    "            D = D.convert_dtypes()\n",
    "            C = list(D.columns)\n",
    "            if len(C):\n",
    "                DT = D.dtypes\n",
    "                for x in range(len(DT)):\n",
    "                    if DT[x] == \"object\":\n",
    "                        if C[x] not in [ \"has_TechSource\"\t,\"has_TechGroup\",\t\"has_TechSubgroup\",\"has_BenefInArticle\"\t,\"has_RiskInArticle\",\t\"has_SourceMitigation\"\t,\"has_SourceTech\",\"has_BenefitForPeople\",\"has_Closest\",  \"has_SubjectRisk\", \"has_RiskOwner\" , \"has_RiskSource\", \"has_RiskHealth\",\"has_RiskISO_Purpose\",\"has_RiskISO_Impact\",\"has_RiskType\",\"has_RiskGBN\"]:\n",
    "                            D = D.explode(C[x])\n",
    "                D = D.convert_dtypes()\n",
    "                CC = [x for x in C if x not in [\"ID\",\"NAME\",\"PBNTYPE\"]]\n",
    "                CC = [\"PBNTYPE\",\"ID\",\"NAME\"] + CC\n",
    "                print(k,list(D.columns),list(CC))\n",
    "                D = D[CC]\n",
    "                ALLDFs.append(D)\n",
    "    # Sheets\n",
    "    i = 0\n",
    "    for OneSheet in ALLDFs:\n",
    "        title = OneSheet.iloc[0].PBNTYPE\n",
    "        print(i,title,len(OneSheet))\n",
    "        i += 1\n",
    "        \n",
    "    with pd.ExcelWriter(\"outputs/pbn_t3_5.xlsx\") as writer:\n",
    "        i = 0\n",
    "        for OneSheet in ALLDFs:\n",
    "            title = OneSheet.iloc[0].PBNTYPE\n",
    "            print(i,title,len(OneSheet))\n",
    "            i += 1\n",
    "            OneSheet[:(1048576-1)].to_excel(writer, sheet_name=title, index=False, engine=\"xlsxwriter\")\n",
    "            print(\"... done.\")\n"
   ]
  },
  {
   "cell_type": "markdown",
   "metadata": {},
   "source": [
    "# Creating  index"
   ]
  },
  {
   "cell_type": "markdown",
   "metadata": {},
   "source": [
    "### Creating general indexes"
   ]
  },
  {
   "cell_type": "code",
   "execution_count": 15,
   "metadata": {},
   "outputs": [
    {
     "name": "stdout",
     "output_type": "stream",
     "text": [
      "# Overview\n",
      "\n",
      "* _[aBlueprint](https://github.com/mm80843/T3.5/blob/pages/aBlueprint/index.md)_ -- 50 instances.\n",
      "* _[Article](https://github.com/mm80843/T3.5/blob/pages/Article/index.md)_ -- 699 instances.\n",
      "* _[Benef](https://github.com/mm80843/T3.5/blob/pages/Benef/index.md)_ -- 1409 instances.\n",
      "* _[BenefReturn](https://github.com/mm80843/T3.5/blob/pages/BenefReturn/index.md)_ -- 1606 instances.\n",
      "* _[Blueprint](https://github.com/mm80843/T3.5/blob/pages/Blueprint/index.md)_ -- 74 instances.\n",
      "* _[BP_Category](https://github.com/mm80843/T3.5/blob/pages/BP_Category/index.md)_ -- 3 instances.\n",
      "* _[BP_Enabler](https://github.com/mm80843/T3.5/blob/pages/BP_Enabler/index.md)_ -- 33 instances.\n",
      "* _[BP_Intervention](https://github.com/mm80843/T3.5/blob/pages/BP_Intervention/index.md)_ -- 47 instances.\n",
      "* _[BP_Permanent](https://github.com/mm80843/T3.5/blob/pages/BP_Permanent/index.md)_ -- 4 instances.\n",
      "* _[BP_Phase](https://github.com/mm80843/T3.5/blob/pages/BP_Phase/index.md)_ -- 4 instances.\n",
      "* _[BP_Scale](https://github.com/mm80843/T3.5/blob/pages/BP_Scale/index.md)_ -- 3 instances.\n",
      "* _[BP_Theme](https://github.com/mm80843/T3.5/blob/pages/BP_Theme/index.md)_ -- 10 instances.\n",
      "* _[BP_Transmission](https://github.com/mm80843/T3.5/blob/pages/BP_Transmission/index.md)_ -- 12 instances.\n",
      "* _[BP_Type](https://github.com/mm80843/T3.5/blob/pages/BP_Type/index.md)_ -- 2 instances.\n",
      "* _[CAO_Group](https://github.com/mm80843/T3.5/blob/pages/CAO_Group/index.md)_ -- 3 instances.\n",
      "* _[CAO_Subgroup](https://github.com/mm80843/T3.5/blob/pages/CAO_Subgroup/index.md)_ -- 48 instances.\n",
      "* _[ISO_Impact](https://github.com/mm80843/T3.5/blob/pages/ISO_Impact/index.md)_ -- 24 instances.\n",
      "* _[ISO_Purpose](https://github.com/mm80843/T3.5/blob/pages/ISO_Purpose/index.md)_ -- 18 instances.\n",
      "* _[ISO_Scale](https://github.com/mm80843/T3.5/blob/pages/ISO_Scale/index.md)_ -- 5 instances.\n",
      "* _[Mitigation](https://github.com/mm80843/T3.5/blob/pages/Mitigation/index.md)_ -- 22951 instances.\n",
      "* _[PBNCategory](https://github.com/mm80843/T3.5/blob/pages/PBNCategory/index.md)_ -- 330 instances.\n",
      "* _[Risk](https://github.com/mm80843/T3.5/blob/pages/Risk/index.md)_ -- 21160 instances.\n",
      "* _[RiskGroup](https://github.com/mm80843/T3.5/blob/pages/RiskGroup/index.md)_ -- 9 instances.\n",
      "* _[RiskHealth](https://github.com/mm80843/T3.5/blob/pages/RiskHealth/index.md)_ -- 14 instances.\n",
      "* _[RiskSubgroup](https://github.com/mm80843/T3.5/blob/pages/RiskSubgroup/index.md)_ -- 91 instances.\n",
      "* _[RiskType](https://github.com/mm80843/T3.5/blob/pages/RiskType/index.md)_ -- 22 instances.\n",
      "* _[Stakeholder](https://github.com/mm80843/T3.5/blob/pages/Stakeholder/index.md)_ -- 16129 instances.\n",
      "* _[Stakeholder_Type](https://github.com/mm80843/T3.5/blob/pages/Stakeholder_Type/index.md)_ -- 3 instances.\n",
      "* _[StakeholderGroup](https://github.com/mm80843/T3.5/blob/pages/StakeholderGroup/index.md)_ -- 18 instances.\n",
      "* _[StakeholderSubgroup](https://github.com/mm80843/T3.5/blob/pages/StakeholderSubgroup/index.md)_ -- 169 instances.\n",
      "* _[TechGroup](https://github.com/mm80843/T3.5/blob/pages/TechGroup/index.md)_ -- 15 instances.\n",
      "* _[Technology](https://github.com/mm80843/T3.5/blob/pages/Technology/index.md)_ -- 23140 instances.\n",
      "* _[TechSubgroup](https://github.com/mm80843/T3.5/blob/pages/TechSubgroup/index.md)_ -- 127 instances.\n",
      "\n"
     ]
    }
   ],
   "source": [
    "IDX = \"\"\n",
    "IDX += \"# Overview\\n\\n\"\n",
    "LINK = \"https://github.com/mm80843/T3.5/blob/pages/\"\n",
    "BB = list(onto.classes())\n",
    "BB.sort(key=lambda x: str(x).lower())\n",
    "for k in BB:\n",
    "    PATH =  \"../docs/\"\n",
    "    #PATH = \"7.pages/\" \n",
    "    if len(k.instances()):\n",
    "        MM = str(k).split(\".\")[-1]\n",
    "        if (not MM == \"RiskMitigation\") and (not MM == \"PBNThing\"):\n",
    "            IDX += \"* _[\"+MM+\"](\"+LINK+MM+\"/index.md)_ -- \"+str(len(k.instances()))+ \" instances.\\n\"\n",
    "with open(PATH+\"index.md\",\"w\",encoding=\"utf-8\") as f:\n",
    "        f.write(IDX)\n",
    "\n",
    "print(IDX)"
   ]
  },
  {
   "cell_type": "markdown",
   "metadata": {},
   "source": [
    "### Creating classes indexes"
   ]
  },
  {
   "cell_type": "code",
   "execution_count": 20,
   "metadata": {},
   "outputs": [
    {
     "name": "stdout",
     "output_type": "stream",
     "text": [
      "PBNThing\n",
      "BenefReturn\n",
      "Benef\n",
      "Article\n",
      "Risk\n",
      "ISO_Scale\n",
      "RiskHealth\n",
      "RiskType\n",
      "Stakeholder\n",
      "Stakeholder_Type\n",
      "Technology\n",
      "ISO_Impact\n",
      "ISO_Purpose\n",
      "StakeholderGroup\n",
      "StakeholderSubgroup\n",
      "TechGroup\n",
      "TechSubgroup\n",
      "Mitigation\n",
      "BP_Enabler\n",
      "BP_Transmission\n",
      "Blueprint\n",
      "BP_Scale\n",
      "BP_Phase\n",
      "BP_Permanent\n",
      "BP_Type\n",
      "BP_Intervention\n",
      "PBNCategory\n",
      "RiskGroup\n",
      "RiskSubgroup\n",
      "CAO_Group\n",
      "CAO_Subgroup\n",
      "BP_Theme\n",
      "BP_Category\n",
      "aBlueprint\n",
      "[Source](https://github.com/mm80843/T3.5/blob/pages/index.md)\n",
      "\n",
      "# aBlueprint -- 50 instances.\n",
      "\n",
      "* [Implementing Acoustic Design and Soundproofing Measures to Mitigate Noise Pollution Risks](https://github.com/mm80843/T3.5/blob/pages/aBlueprint/PBN__aBlueprint_16.md)\n",
      "* [Implementing Advanced Tech and Anti-Microbial Materials to Mitigate Contagious Disease Spread](https://github.com/mm80843/T3.5/blob/pages/aBlueprint/PBN__aBlueprint_47.md)\n",
      "* [Implementing Biohazard Mitigation Strategies](https://github.com/mm80843/T3.5/blob/pages/aBlueprint/PBN__aBlueprint_45.md)\n",
      "* [Implementing Biosecurity Measures and Technological Solutions to Counter Infectious Diseases](https://github.com/mm80843/T3.5/blob/pages/aBlueprint/PBN__aBlueprint_25.md)\n",
      "* [Implementing Collaborative Measures to Combat Contagious Diseases](https://github.com/mm80843/T3.5/blob/pages/aBlueprint/PBN__aBlueprint_4.md)\n",
      "* [Implementing Contagion Prevention Practices and Infrastructure](https://github.com/mm80843/T3.5/blob/pages/aBlueprint/PBN__aBlueprint_12.md)\n",
      "* [Implementing Contagious Disease Containment Strategies](https://github.com/mm80843/T3.5/blob/pages/aBlueprint/PBN__aBlueprint_42.md)\n",
      "* [Implementing Contagious Disease Control](https://github.com/mm80843/T3.5/blob/pages/aBlueprint/PBN__aBlueprint_35.md)\n",
      "* [Implementing Contagious Disease Control and Privacy Protection](https://github.com/mm80843/T3.5/blob/pages/aBlueprint/PBN__aBlueprint_30.md)\n",
      "* [Implementing Contagious Disease Control through Social Distancing and Digital Engagement](https://github.com/mm80843/T3.5/blob/pages/aBlueprint/PBN__aBlueprint_6.md)\n",
      "* [Implementing Contagious Disease Control: Stakeholders, Strategies, and Technologies](https://github.com/mm80843/T3.5/blob/pages/aBlueprint/PBN__aBlueprint_10.md)\n",
      "* [Implementing Contagious Disease Prevention](https://github.com/mm80843/T3.5/blob/pages/aBlueprint/PBN__aBlueprint_34.md)\n",
      "* [Implementing Cybersecurity and Transparency Strategies to Mitigate Contagious Disease Spread](https://github.com/mm80843/T3.5/blob/pages/aBlueprint/PBN__aBlueprint_36.md)\n",
      "* [Implementing Data-Driven Measures to Control Contagious Diseases](https://github.com/mm80843/T3.5/blob/pages/aBlueprint/PBN__aBlueprint_31.md)\n",
      "* [Implementing Digital Tracing and Proactive Infection Control Measures](https://github.com/mm80843/T3.5/blob/pages/aBlueprint/PBN__aBlueprint_7.md)\n",
      "* [Implementing Disease Containment Approaches](https://github.com/mm80843/T3.5/blob/pages/aBlueprint/PBN__aBlueprint_27.md)\n",
      "* [Implementing Disease Containment Scenarios and Supply Chain Adaptations](https://github.com/mm80843/T3.5/blob/pages/aBlueprint/PBN__aBlueprint_17.md)\n",
      "* [Implementing Disease Containment Strategies](https://github.com/mm80843/T3.5/blob/pages/aBlueprint/PBN__aBlueprint_14.md)\n",
      "* [Implementing Disease Containment Strategies and Technological Solutions](https://github.com/mm80843/T3.5/blob/pages/aBlueprint/PBN__aBlueprint_38.md)\n",
      "* [Implementing Disease Containment Strategies: Managing Contagious Risks with Social Distancing and Enhanced Sanitation Measures](https://github.com/mm80843/T3.5/blob/pages/aBlueprint/PBN__aBlueprint_8.md)\n",
      "* [Implementing Disease Control Strategies](https://github.com/mm80843/T3.5/blob/pages/aBlueprint/PBN__aBlueprint_24.md)\n",
      "* [Implementing Disease Control Strategies: Mitigating Contagion Risks through Hygiene Measures and Rapid Isolation](https://github.com/mm80843/T3.5/blob/pages/aBlueprint/PBN__aBlueprint_41.md)\n",
      "* [Implementing Disease Mitigation Strategies](https://github.com/mm80843/T3.5/blob/pages/aBlueprint/PBN__aBlueprint_19.md)\n",
      "* [Implementing Disease Mitigation Strategies: Addressing Wildlife Trade, Vector Control, and Environmental Hygiene](https://github.com/mm80843/T3.5/blob/pages/aBlueprint/PBN__aBlueprint_21.md)\n",
      "* [Implementing Disease Surveillance and Resilience Measures](https://github.com/mm80843/T3.5/blob/pages/aBlueprint/PBN__aBlueprint_49.md)\n",
      "* [Implementing Drainage System Improvements and PCR Protocol Standardization to Mitigate Disease Spread](https://github.com/mm80843/T3.5/blob/pages/aBlueprint/PBN__aBlueprint_18.md)\n",
      "* [Implementing Early-Warning Systems and Safety Protocols Against COVID-19 Spread](https://github.com/mm80843/T3.5/blob/pages/aBlueprint/PBN__aBlueprint_5.md)\n",
      "* [Implementing Effective Measures to Combat Contagious Diseases](https://github.com/mm80843/T3.5/blob/pages/aBlueprint/PBN__aBlueprint_2.md)\n",
      "* [Implementing Enhanced Sanitation and Hygiene Practices](https://github.com/mm80843/T3.5/blob/pages/aBlueprint/PBN__aBlueprint_44.md)\n",
      "* [Implementing Filtration and Protective Measures to Minimize Contagious Diseases](https://github.com/mm80843/T3.5/blob/pages/aBlueprint/PBN__aBlueprint_9.md)\n",
      "* [Implementing Indoor Air Quality Monitoring and Maintenance Protocols for Contagion Control](https://github.com/mm80843/T3.5/blob/pages/aBlueprint/PBN__aBlueprint_40.md)\n",
      "* [Implementing Infectious Disease Control Measures within Sustainable Urban Developments](https://github.com/mm80843/T3.5/blob/pages/aBlueprint/PBN__aBlueprint_22.md)\n",
      "* [Implementing Infectious Disease Prevention](https://github.com/mm80843/T3.5/blob/pages/aBlueprint/PBN__aBlueprint_26.md)\n",
      "* [Implementing Infrastructure Modifications and Community Engagement Strategies to Counter Contagious Diseases](https://github.com/mm80843/T3.5/blob/pages/aBlueprint/PBN__aBlueprint_23.md)\n",
      "* [Implementing Innovative Techniques to Thwart Contagious Disease Spread](https://github.com/mm80843/T3.5/blob/pages/aBlueprint/PBN__aBlueprint_37.md)\n",
      "* [Implementing Innovative Waste Management Strategies to Curtail Disease Spread](https://github.com/mm80843/T3.5/blob/pages/aBlueprint/PBN__aBlueprint_48.md)\n",
      "* [Implementing Mental Health Mitigation Strategies](https://github.com/mm80843/T3.5/blob/pages/aBlueprint/PBN__aBlueprint_3.md)\n",
      "* [Implementing Occupancy Controls and Physical Distancing](https://github.com/mm80843/T3.5/blob/pages/aBlueprint/PBN__aBlueprint_13.md)\n",
      "* [Implementing Pooled-Sample Analysis and Contact Tracing Systems](https://github.com/mm80843/T3.5/blob/pages/aBlueprint/PBN__aBlueprint_29.md)\n",
      "* [Implementing Proactive Measures to Control Disease Spread and Economic Disruptions](https://github.com/mm80843/T3.5/blob/pages/aBlueprint/PBN__aBlueprint_20.md)\n",
      "* [Implementing Real-time Epidemiological Data Collection and Analysis to Mitigate Virus Spread](https://github.com/mm80843/T3.5/blob/pages/aBlueprint/PBN__aBlueprint_28.md)\n",
      "* [Implementing Regular Cleaning, WBE and Quarantine Measures for Infectious Diseases Mitigation](https://github.com/mm80843/T3.5/blob/pages/aBlueprint/PBN__aBlueprint_0.md)\n",
      "* [Implementing Social Distancing and Surveillance](https://github.com/mm80843/T3.5/blob/pages/aBlueprint/PBN__aBlueprint_32.md)\n",
      "* [Implementing Strategic Measures to Counteract Contagious Diseases](https://github.com/mm80843/T3.5/blob/pages/aBlueprint/PBN__aBlueprint_33.md)\n",
      "* [Implementing Surface Disinfection Strategies](https://github.com/mm80843/T3.5/blob/pages/aBlueprint/PBN__aBlueprint_39.md)\n",
      "* [Implementing UV Based Technologies and Ventilation Improvements to Control Disease Spread](https://github.com/mm80843/T3.5/blob/pages/aBlueprint/PBN__aBlueprint_43.md)\n",
      "* [Implementing UVGI Systems to Combat Contagious Diseases](https://github.com/mm80843/T3.5/blob/pages/aBlueprint/PBN__aBlueprint_46.md)\n",
      "* [Implementing Vaccination Strategies and Awareness Campaigns](https://github.com/mm80843/T3.5/blob/pages/aBlueprint/PBN__aBlueprint_11.md)\n",
      "* [Implementing Ventilation and Filtration Strategies to Mitigate Disease Spread](https://github.com/mm80843/T3.5/blob/pages/aBlueprint/PBN__aBlueprint_15.md)\n",
      "* [Implementing Wastewater Monitoring and Enhanced Sanitation Measures to Mitigate SARS-CoV-2 Spread](https://github.com/mm80843/T3.5/blob/pages/aBlueprint/PBN__aBlueprint_1.md)\n",
      "\n"
     ]
    }
   ],
   "source": [
    "LINK = \"https://github.com/mm80843/T3.5/blob/pages/\"\n",
    "for k in onto.classes():\n",
    "    K = str(k).split(\".\")[-1]\n",
    "    if len(k.instances()):\n",
    "        print(K)\n",
    "        PATH =  \"../docs/\"\n",
    "        #PATH = \"7.pages/\" \n",
    "        if K not in [\"PBNThing\",\"Qid\",\"PBNCategory\",\"Stakeholder_Type\",\"Risk\"]:\n",
    "            IDX = \"[Source](https://github.com/mm80843/T3.5/blob/pages/index.md)\"\n",
    "            IDX += \"\\n\\n# \"+str(K)+\" -- \"+str(len(k.instances()))+ \" instances.\\n\\n\"\n",
    "            BB = list(k.instances())\n",
    "            BB.sort(key=lambda x: x.label[0].lower())\n",
    "            for i in BB: \n",
    "                I = str(i).split(\".\")[-1]\n",
    "                if K == \"Qid\":\n",
    "                    if len(i.has_Qid_alias) > 0:\n",
    "\n",
    "                        IDX += \"* [\"+i.has_Qid_alias[0]+\"](\"+LINK+\"Qid/\"+str(I)+\".md)\\n\"\n",
    "                    else:\n",
    "                        IDX += \"* [\"+str(I)+\"]\\n\"\n",
    "                else:\n",
    "                    II = \"_\".join(I.split(\"PBN__\")[1].split(\"_\")[:-1])\n",
    "                    A = i.label[0]\n",
    "                    if K == \"Article\":\n",
    "                        A = \" \".join(list(set(A.split(\" \")))).replace(\"nan\",\"\").strip()\n",
    "                    if \"Nan\" not in A:\n",
    "                        if \"----\" not in A:\n",
    "                            IDX += \"* [\"+A+\"](\"+LINK+II+\"/\"+str(I)+\".md)\\n\" \n",
    "            with open(PATH+K+\"/index.md\",\"w\",encoding=\"utf-8\") as f:\n",
    "                f.write(IDX)\n",
    "\n",
    "print(IDX)"
   ]
  },
  {
   "cell_type": "code",
   "execution_count": 17,
   "metadata": {},
   "outputs": [
    {
     "name": "stdout",
     "output_type": "stream",
     "text": [
      "../docs/PBNCategory/index.md\n"
     ]
    }
   ],
   "source": [
    "LINK = \"https://github.com/mm80843/T3.5/blob/pages/\"\n",
    "\n",
    "NAMES_CL = []\n",
    "CL = {}\n",
    "for k in onto.classes():\n",
    "    #print(k)\n",
    "    K = str(k).split(\".\")[-1]\n",
    "    if K in [\"PBNCategory\"]:\n",
    "        BB = list(k.instances())\n",
    "        BB.sort(key=lambda x: x.label[0].lower())\n",
    "        #print(K,len(BB))\n",
    "        for i in BB: \n",
    "            CLASS = i.has_CategoryElements[0].is_a[0]\n",
    "            if CLASS.name not in CL.keys():\n",
    "                CL[CLASS.name] = []\n",
    "            CL[CLASS.name].append(i)\n",
    "for k in onto.classes():\n",
    "    #print(k)\n",
    "    K = str(k).split(\".\")[-1]\n",
    "    if K in [\"PBNCategory\"]:\n",
    "        IDX = \"[Source](https://github.com/mm80843/T3.5/blob/pages/index.md)\"\n",
    "        IDX += \"\\n\\n# \"+str(K)+\" -- \"+str(len(k.instances()))+ \" instances.\\n\\n\"\n",
    "            \n",
    "for ke in CL.keys():\n",
    "    BB = list(CL[ke])\n",
    "    #BB = list(k.instances())\n",
    "    BB.sort(key=lambda x: x.label[0].lower())\n",
    "    IDX += \"\\n\\n## [\"+ke+\"](https://github.com/mm80843/T3.5/blob/pages/\"+ke+\"/)\\n\\n\"\n",
    "    for i in BB: \n",
    "        I = str(i).split(\".\")[-1]\n",
    "\n",
    "        II = \"_\".join(I.split(\"PBN__\")[1].split(\"_\")[:-1])\n",
    "        A = i.label[0]\n",
    "        if K == \"Article\":\n",
    "            A = \" \".join(list(set(A.split(\" \")))).replace(\"nan\",\"\").strip()\n",
    "        if \"Nan\" not in A:\n",
    "            if \"----\" not in A:\n",
    "                IDX += \"* [\"+A+\"](\"+LINK+II+\"/\"+str(I)+\".md)\\n\" \n",
    "    with open(PATH+\"PBNCategory/index.md\",\"w\",encoding=\"utf-8\") as f:\n",
    "        f.write(IDX)\n",
    "\n",
    "#print(IDX)\n",
    "print(PATH+\"PBNCategory/index.md\")"
   ]
  },
  {
   "cell_type": "code",
   "execution_count": null,
   "metadata": {},
   "outputs": [
    {
     "name": "stdout",
     "output_type": "stream",
     "text": [
      "DONE\n"
     ]
    }
   ],
   "source": [
    "\n",
    "print(\"DONE\")"
   ]
  },
  {
   "cell_type": "code",
   "execution_count": 6,
   "metadata": {},
   "outputs": [
    {
     "name": "stdout",
     "output_type": "stream",
     "text": [
      "BenefReturn\n",
      "Benef\n",
      "Article\n",
      "Risk\n",
      "ISO_Scale\n",
      "RiskHealth\n",
      "RiskType\n",
      "Stakeholder\n",
      "Stakeholder_Type\n",
      "Technology\n",
      "ISO_Impact\n",
      "ISO_Purpose\n",
      "StakeholderGroup\n",
      "StakeholderSubgroup\n",
      "TechGroup\n",
      "TechSubgroup\n",
      "Mitigation\n",
      "BP_Enabler\n",
      "BP_Transmission\n",
      "Blueprint\n",
      "BP_Scale\n",
      "BP_Phase\n",
      "BP_Permanent\n",
      "BP_Type\n",
      "BP_Intervention\n",
      "PBNCategory\n",
      "RiskGroup\n",
      "RiskSubgroup\n",
      "CAO_Group\n",
      "CAO_Subgroup\n",
      "BP_Theme\n",
      "BP_Category\n",
      "aBlueprint\n"
     ]
    }
   ],
   "source": [
    "LINK = \"https://github.com/mm80843/T3.5/blob/pages/\"\n",
    "CLASSES = []\n",
    "NAMECLASSES = []\n",
    "for k in onto.classes():\n",
    "    K = str(k).split(\".\")[-1]\n",
    "    if (K not in [\"Qid\",\"PBNThing\"]) and len(k.instances()):\n",
    "        ClassName = K\n",
    "        print(K)\n",
    "        NAMECLASSES.append(K)\n",
    "        CLASS = {}\n",
    "        PATH = \"../docs/\"+K+\"/\" \n",
    "        if not os.path.isdir(PATH):\n",
    "            os.mkdir(PATH) \n",
    "        for i in k.instances()[:3]: \n",
    "            try:\n",
    "                I = str(i).split(\".\")[-1]\n",
    "                CLASS[i] = {}\n",
    "                CLASS[i][\"ID\"] = I\n",
    "                MD = \"[Home](https://github.com/mm80843/T3.5/blob/pages/index.md) >> Class: [\"+K+\"](https://github.com/mm80843/T3.5/tree/pages/docs/\"+K+\"/index.md)\"+\" >> Individual ID:\"+i.get_name()+\" \\n\\n\"\n",
    "                MD += \"# __\"+i.label[0]+\"__\\n\\n\"\n",
    "                FILENAME = PATH+i.get_name()+\".md\"\n",
    "                A = list(i.get_properties())\n",
    "                A.sort(key=lambda x: getNameLabel(x))\n",
    "                for p in A:\n",
    "                    P = str(p).split(\".\")[-1]\n",
    "                    OBJ = \"onto.\"+str(I)+\".\"+str(P)\n",
    "                    OB = eval(OBJ)\n",
    "                    E = eval(OBJ)[0]\n",
    "                    if not (OB == [onto.nan]):\n",
    "                        if not P == \"label\":\n",
    "                            if not p.label:\n",
    "                                MD += \"## Property: \"+P+\"\\n\\n\"\n",
    "                            else:\n",
    "                                MD += \"## \"+str(p.label[0])+\"\\n\\n\"\n",
    "                                \n",
    "\n",
    "                            E = eval(OBJ)[0]\n",
    "\n",
    "                                                        \n",
    "                            if type(E) is str:\n",
    "                                MD += E + \"\\n\\n\"\n",
    "                                CLASS[i][P] = E\n",
    "                            else:\n",
    "\n",
    "                                A = [x.get_name() for x in eval(OBJ)]\n",
    "                                if \"_\" in str(A[0]):\n",
    "                                    #\"_\".join(I.split(\"PBN__\")[1]\n",
    "                                    A = [LINK+\"_\".join(x.split(\"PBN__\")[1].split(\"_\")[:-1])+\"/\"+x+\".md\" for x in A]\n",
    "                                    #print(str(A[0]),A)\n",
    "                                else:                           \n",
    "                                    A = [LINK+\"/Qid/\"+x+\".md\" for x in A]\n",
    "                                #print(A,eval(OBJ))\n",
    "                                if (OB[0].is_instance_of[0] == onto.Qid):\n",
    "                                    B = [() for x in eval(OBJ)]\n",
    "                                else:\n",
    "                                    B = [x.label[0] for x in eval(OBJ)]\n",
    "                                B.sort(key=lambda x: getNameLabel(x))\n",
    "                                for k in range(len(A)):\n",
    "                                    if not B[k] == \"Nan\":\n",
    "                                        if not \"-----\" in B[k]:\n",
    "                                            MD += \"* [\"+B[k]+\"](\"+A[k]+\")\\n\"\n",
    "                                MD += \"\\n\"\n",
    "                                CLASS[i][P] = [str(x) for x in B]\n",
    "\n",
    "                            CLASS[i][\"NAME\"] = E\n",
    "                            CLASS[i][\"PBNTYPE\"] = ClassName                                \n",
    "                        else:\n",
    "                            E = eval(OBJ)[0]\n",
    "                            CLASS[i][\"NAME\"] = E\n",
    "                            CLASS[i][\"PBNTYPE\"] = ClassName\n",
    "                #print(MD)\n",
    "                with open(FILENAME,\"w\",encoding=\"utf-8\") as f:\n",
    "                    f.write(MD)\n",
    "                #print(FILENAME,\"done\")\n",
    "            except:\n",
    "                pass\n",
    "        CLASSES.append(CLASS)"
   ]
  },
  {
   "attachments": {},
   "cell_type": "markdown",
   "metadata": {},
   "source": [
    "### Simpler version to write a page"
   ]
  },
  {
   "cell_type": "code",
   "execution_count": 23,
   "metadata": {},
   "outputs": [
    {
     "name": "stdout",
     "output_type": "stream",
     "text": [
      "[WIP_w_SPARQL.has_BlueprintOwner, WIP_w_SPARQL.has_BPCategory, WIP_w_SPARQL.has_BlueprintBenef, rdf-schema.label, WIP_w_SPARQL.has_BlueprintSubject, WIP_w_SPARQL.has_BlueprintMigitation, WIP_w_SPARQL.has_BlueprintSummary, WIP_w_SPARQL.has_BlueprintDetails, WIP_w_SPARQL.has_BlueprintTechnology]\n",
      "C [('PBN__PBNCategory_51', 'The repercussions of domestic violence, the pandemic’s transmission, extreme events, population dynamics, and systemic vulnerabilities persist.')]\n",
      "C [('PBN__Stakeholder_227', 'Decision-makers'), ('PBN__Stakeholder_7', 'Victims of domestic violence'), ('PBN__Stakeholder_562', 'Women experiencing intimate partner violence'), ('PBN__Stakeholder_928', 'Victims of domestic violence and intimate partner violence'), ('PBN__Stakeholder_23', 'Women')]\n",
      "C [('PBN__Mitigation_1853', 'Maintain transparency and objectivity in evidence generation and communication, actively combat misinformation, and build trust through consistent and reliable delivery of evidence'), ('PBN__Mitigation_2490', 'Design buildings with passive design strategies and multiple bathrooms for emergencies.'), ('PBN__Mitigation_2467', 'Enhance support services for victims, raise awareness, and strengthen legal and policy frameworks.'), ('PBN__Mitigation_2399', 'Provide support and resources for victims of domestic violence, ensure safety measures are in place for online gaming'), ('PBN__Mitigation_1878', 'Anticipate how the pandemic may affect variables of interest, measure and test these additional variables to assess their impact on study results.')]\n",
      "C [('PBN__Stakeholder_47', 'Governments'), ('PBN__Stakeholder_73', 'Government'), ('PBN__Stakeholder_601', 'Law enforcement agencies'), ('PBN__Stakeholder_234', 'Ngos'), ('PBN__Stakeholder_627', 'None')]\n",
      "C [('PBN__Benef_1366', 'Decrease in virus transmission'), ('PBN__Benef_632', 'Reduced financial losses'), ('PBN__Benef_631', 'Improved asset value')]\n",
      "C [('PBN__Technology_22', 'Nan'), ('PBN__Technology_358', 'Floor markings'), ('PBN__Technology_341', 'Physical barriers'), ('PBN__Technology_277', 'Iot'), ('PBN__Technology_2579', 'Wearable devices'), ('PBN__Technology_2770', 'Physical distance'), ('PBN__Technology_2482', 'Physical space'), ('PBN__Technology_2311', 'Technology-enabled monitoring systems'), ('PBN__Technology_3444', 'Public awareness and education campaigns'), ('PBN__Technology_23', 'Internet-based communication')]\n"
     ]
    }
   ],
   "source": [
    "A = list(i.get_properties())\n",
    "print(A)\n",
    "A.sort(key=lambda x: getNameLabel(x)) # Properties of the object\n",
    "for p in A:\n",
    "    P = str(p).split(\".\")[-1]\n",
    "    OBJ = \"onto.\"+str(I)+\".\"+str(P)\n",
    "    OB = eval(OBJ) # OBJ is the way to get the list of label of the object\n",
    "    E = eval(OBJ)[0] # Getting first\n",
    "    if not (OB == [onto.nan]):\n",
    "        if not P == \"label\":\n",
    "            # Label of the property\n",
    "            if not p.label:\n",
    "                # Unnamed properties\n",
    "                MD += \"## Property: \"+P+\"\\n\\n\"\n",
    "            else:\n",
    "                # Named properties\n",
    "                MD += \"## \"+str(p.label[0])+\"\\n\\n\"\n",
    "        \n",
    "            if type(E) is str:\n",
    "                # Only one thing to print\n",
    "                MD += E + \"\\n\\n\"\n",
    "            else:\n",
    "                A = [x.get_name() for x in OB]\n",
    "                B = [x.label[0] for x in OB]\n",
    "                #B.sort(key=lambda x: getNameLabel(x))\n",
    "                C = zip(A, B)\n",
    "                print(\"C\",list(C))\n",
    "                for c in C:\n",
    "                    linetoadd = \"* [\"+c[1]+\"](\"+c[0]+\")\\n\"\n",
    "                    MD += linetoadd\n",
    "                MD += \"\\n\" "
   ]
  },
  {
   "attachments": {},
   "cell_type": "markdown",
   "metadata": {},
   "source": [
    "# Create list for order of properties"
   ]
  },
  {
   "cell_type": "code",
   "execution_count": 37,
   "metadata": {},
   "outputs": [],
   "source": [
    "order = {}\n",
    "for k in onto.classes():\n",
    "    if k.name != \"PBNThing\":\n",
    "        order[k.name] = []\n",
    "        for i in k.instances(): \n",
    "            for p in list(i.get_properties()):\n",
    "                order[k.name].append(str(p).split(\".\")[-1])\n",
    "            order[k.name] = list(set(order[k.name] ))"
   ]
  },
  {
   "cell_type": "code",
   "execution_count": 40,
   "metadata": {},
   "outputs": [],
   "source": [
    "with open(\"../rdf/support/order.json\",\"w\") as f:\n",
    "    f.write(json.dumps(order,indent=3))"
   ]
  }
 ],
 "metadata": {
  "kernelspec": {
   "display_name": "venv",
   "language": "python",
   "name": "python3"
  },
  "language_info": {
   "codemirror_mode": {
    "name": "ipython",
    "version": 3
   },
   "file_extension": ".py",
   "mimetype": "text/x-python",
   "name": "python",
   "nbconvert_exporter": "python",
   "pygments_lexer": "ipython3",
   "version": "3.10.12"
  },
  "vscode": {
   "interpreter": {
    "hash": "f79bc2406addd2c06911dc053b733d86c52c13481e10d53afee492d28d2db597"
   }
  }
 },
 "nbformat": 4,
 "nbformat_minor": 2
}
