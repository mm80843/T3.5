{
 "cells": [
  {
   "cell_type": "code",
   "execution_count": 1,
   "metadata": {},
   "outputs": [
    {
     "name": "stdout",
     "output_type": "stream",
     "text": [
      "0.40\n"
     ]
    },
    {
     "name": "stderr",
     "output_type": "stream",
     "text": [
      "* Owlready2 * Warning: optimized Cython parser module 'owlready2_optimized' is not available, defaulting to slower Python implementation\n"
     ]
    }
   ],
   "source": [
    "import pandas as pd\n",
    "import os\n",
    "from owlready2 import *\n",
    "\n",
    "import owlready2\n",
    "print(owlready2.VERSION) ## Bugs when > 0.40 but works file at owlready2==0.40 "
   ]
  },
  {
   "cell_type": "code",
   "execution_count": 2,
   "metadata": {},
   "outputs": [],
   "source": [
    "onto = get_ontology(\"pbn_t3_5.owl\").load()"
   ]
  },
  {
   "cell_type": "markdown",
   "metadata": {},
   "source": [
    "# Overview"
   ]
  },
  {
   "cell_type": "code",
   "execution_count": 3,
   "metadata": {},
   "outputs": [
    {
     "name": "stdout",
     "output_type": "stream",
     "text": [
      "\n",
      "# Overview\n",
      "\n",
      "*  _PBNThing_  --  19156 instances.\n",
      "*  _BenefReturn_  --  1606 instances.\n",
      "*  _Benef_  --  1408 instances.\n",
      "*  _Article_  --  376 instances.\n",
      "*  _Risk_  --  3418 instances.\n",
      "*  _ISO_Scale_  --  5 instances.\n",
      "*  _RiskHealth_  --  14 instances.\n",
      "*  _RiskType_  --  22 instances.\n",
      "*  _Stakeholder_  --  2640 instances.\n",
      "*  _Technology_  --  3915 instances.\n",
      "*  _ISO_Impact_  --  24 instances.\n",
      "*  _ISO_Purpose_  --  18 instances.\n",
      "*  _Mitigation_  --  5295 instances.\n",
      "*  _BP_Enabler_  --  33 instances.\n",
      "*  _BP_Transmission_  --  12 instances.\n",
      "*  _Blueprint_  --  24 instances.\n",
      "*  _BP_Scale_  --  3 instances.\n",
      "*  _BP_Phase_  --  4 instances.\n",
      "*  _BP_Permanent_  --  4 instances.\n",
      "*  _BP_Type_  --  2 instances.\n",
      "*  _BP_Intervention_  --  40 instances.\n",
      "*  _BP_Category_  --  3 instances.\n",
      "*  _BP_Theme_  --  10 instances.\n",
      "*  _PBNCategory_  --  280 instances.\n"
     ]
    }
   ],
   "source": [
    "debug = True\n",
    "if debug:\n",
    "    print(\"\\n# Overview\\n\")\n",
    "    for k in onto.classes():\n",
    "        if len(k.instances()):\n",
    "            print(\"* \",\"_\"+str(k).split(\".\")[-1]+\"_\",\" -- \",len(k.instances()), \"instances.\")\n",
    "            "
   ]
  },
  {
   "cell_type": "markdown",
   "metadata": {},
   "source": [
    "# Analyses\n",
    "\n",
    "1. Extract dataframe with PBN Categories to create descriptions for the 50 generics using OpenAI\n",
    "2. PBN --> ClosestRisks --> Count top 50 risks closests\n",
    "\n",
    "\n"
   ]
  }
 ],
 "metadata": {
  "kernelspec": {
   "display_name": "Python 3 (ipykernel)",
   "language": "python",
   "name": "python3"
  },
  "language_info": {
   "codemirror_mode": {
    "name": "ipython",
    "version": 3
   },
   "file_extension": ".py",
   "mimetype": "text/x-python",
   "name": "python",
   "nbconvert_exporter": "python",
   "pygments_lexer": "ipython3",
   "version": "3.8.15"
  }
 },
 "nbformat": 4,
 "nbformat_minor": 2
}
