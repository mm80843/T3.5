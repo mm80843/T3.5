{
 "cells": [
  {
   "cell_type": "code",
   "execution_count": 1,
   "id": "6810107e",
   "metadata": {},
   "outputs": [
    {
     "name": "stdout",
     "output_type": "stream",
     "text": [
      "0.40\n"
     ]
    },
    {
     "name": "stderr",
     "output_type": "stream",
     "text": [
      "* Owlready2 * Warning: optimized Cython parser module 'owlready2_optimized' is not available, defaulting to slower Python implementation\n"
     ]
    }
   ],
   "source": [
    "import pandas as pd\n",
    "from owlready2 import *\n",
    "import owlready2\n",
    "\n",
    "import rdfutils as u\n",
    "\n",
    "print(owlready2.VERSION) ## Bugs when > 0.40 but works file at owlready2==0.40 "
   ]
  },
  {
   "cell_type": "markdown",
   "id": "d6db342b",
   "metadata": {},
   "source": [
    "#### Checking content of initial ontology"
   ]
  },
  {
   "cell_type": "code",
   "execution_count": 2,
   "id": "fc717ab4",
   "metadata": {},
   "outputs": [
    {
     "name": "stdout",
     "output_type": "stream",
     "text": [
      "\n",
      "# Overview\n",
      "\n",
      "*  _PBNThing_  --  19210 instances.\n",
      "*  _BenefReturn_  --  1606 instances.\n",
      "*  _Benef_  --  1409 instances.\n",
      "*  _Article_  --  376 instances.\n",
      "*  _Risk_  --  3418 instances.\n",
      "*  _ISO_Scale_  --  5 instances.\n",
      "*  _RiskHealth_  --  14 instances.\n",
      "*  _RiskType_  --  22 instances.\n",
      "*  _Stakeholder_  --  2640 instances.\n",
      "*  _Stakeholder_Type_  --  3 instances.\n",
      "*  _Technology_  --  3915 instances.\n",
      "*  _ISO_Impact_  --  24 instances.\n",
      "*  _ISO_Purpose_  --  18 instances.\n",
      "*  _Mitigation_  --  5295 instances.\n",
      "*  _BP_Enabler_  --  33 instances.\n",
      "*  _BP_Transmission_  --  12 instances.\n",
      "*  _Blueprint_  --  24 instances.\n",
      "*  _BP_Scale_  --  3 instances.\n",
      "*  _BP_Phase_  --  4 instances.\n",
      "*  _BP_Permanent_  --  4 instances.\n",
      "*  _BP_Type_  --  2 instances.\n",
      "*  _BP_Intervention_  --  40 instances.\n",
      "*  _BP_Category_  --  3 instances.\n",
      "*  _BP_Theme_  --  10 instances.\n",
      "*  _PBNCategory_  --  330 instances.\n"
     ]
    }
   ],
   "source": [
    "u.checkOnto(\"../rdf/pbn_t3_5.owl\",debug=False)"
   ]
  },
  {
   "cell_type": "markdown",
   "id": "d3c3f1fc",
   "metadata": {},
   "source": [
    "#### Creating blueprints only ontology"
   ]
  },
  {
   "cell_type": "code",
   "execution_count": 3,
   "id": "bf377ced",
   "metadata": {},
   "outputs": [
    {
     "data": {
      "text/plain": [
       "'File saved at ../rdf/prod/pbn_t3_5_BP.owl'"
      ]
     },
     "execution_count": 3,
     "metadata": {},
     "output_type": "execute_result"
    }
   ],
   "source": [
    "u.onto_BP(\"../rdf/pbn_t3_5.owl\",\"../rdf/prod/pbn_t3_5_BP.owl\")"
   ]
  },
  {
   "cell_type": "markdown",
   "id": "1d9ecbbc",
   "metadata": {},
   "source": [
    "#### Creating review only ontology"
   ]
  },
  {
   "cell_type": "code",
   "execution_count": 4,
   "id": "3466da99",
   "metadata": {},
   "outputs": [
    {
     "data": {
      "text/plain": [
       "'File saved at ../rdf/prod/pbn_t3_5_noBP.owl'"
      ]
     },
     "execution_count": 4,
     "metadata": {},
     "output_type": "execute_result"
    }
   ],
   "source": [
    "u.onto_noBP(\"../rdf/pbn_t3_5.owl\",\"../rdf/prod/pbn_t3_5_noBP.owl\")"
   ]
  },
  {
   "cell_type": "markdown",
   "id": "02d2129d",
   "metadata": {},
   "source": [
    "# Checks"
   ]
  },
  {
   "cell_type": "code",
   "execution_count": 5,
   "id": "430c55db",
   "metadata": {},
   "outputs": [
    {
     "name": "stdout",
     "output_type": "stream",
     "text": [
      "\n",
      "# Overview\n",
      "\n",
      "*  _PBNThing_  --  135 instances.\n",
      "*  _BP_Enabler_  --  33 instances.\n",
      "*  _BP_Transmission_  --  12 instances.\n",
      "*  _BP_Scale_  --  3 instances.\n",
      "*  _BP_Phase_  --  4 instances.\n",
      "*  _BP_Permanent_  --  4 instances.\n",
      "*  _BP_Type_  --  2 instances.\n",
      "*  _BP_Intervention_  --  40 instances.\n",
      "*  _BP_Category_  --  3 instances.\n",
      "*  _BP_Theme_  --  10 instances.\n",
      "*  _Blueprint_  --  24 instances.\n"
     ]
    }
   ],
   "source": [
    "u.checkOnto(\"../rdf/prod/pbn_t3_5_BP.owl\",debug = False)"
   ]
  },
  {
   "cell_type": "code",
   "execution_count": 7,
   "id": "bdef6947",
   "metadata": {},
   "outputs": [
    {
     "name": "stdout",
     "output_type": "stream",
     "text": [
      "ID: 0 \t Author: Luc Jonveaux\n",
      "ID: 1 \t Creation: 30/10/2023\n",
      "ID: 2 \t License: CC BY-NC-SA\n",
      "ID: 3 \t Language: English\n",
      "ID: 4 \t Version: 0.2.2\n",
      "ID: 5 \t Project: PROBONO\n",
      "ID: 6 \t Task: T3.5\n",
      "ID: 7 \t Library: owlready2==0.40\n",
      "ID: 8 \t Description: Creation of a knowledge graph based on a litterature review, augmented by use of LLMs.\n",
      "ID: 9 \t Changes from: 0.0\n",
      "ID: 10 \t Changes: Creation of the knowledge graph\n",
      "ID: 11 \t Changes from: 0.1\n",
      "ID: 12 \t Changes: Adding relations, simplified ontology, closest items, and descriptions\n",
      "ID: 13 \t Repository: https://github.com/mm80843/T3.5/\n",
      "ID: 14 \t TODOs: Quite a number! Creating metaRisks, making it accessible..\n",
      "ID: 15 \t limited to blueprints\n"
     ]
    }
   ],
   "source": [
    "onto = owlready2.get_ontology(\"../rdf/prod/pbn_t3_5_BP.owl\").load()\n",
    "lstOfComments = u.checkComments(onto)"
   ]
  }
 ],
 "metadata": {
  "kernelspec": {
   "display_name": "Python 3 (ipykernel)",
   "language": "python",
   "name": "python3"
  },
  "language_info": {
   "codemirror_mode": {
    "name": "ipython",
    "version": 3
   },
   "file_extension": ".py",
   "mimetype": "text/x-python",
   "name": "python",
   "nbconvert_exporter": "python",
   "pygments_lexer": "ipython3",
   "version": "3.8.15"
  }
 },
 "nbformat": 4,
 "nbformat_minor": 5
}
