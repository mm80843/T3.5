{
 "cells": [
  {
   "cell_type": "code",
   "execution_count": 1,
   "id": "6810107e",
   "metadata": {},
   "outputs": [
    {
     "name": "stdout",
     "output_type": "stream",
     "text": [
      "0.40\n"
     ]
    },
    {
     "name": "stderr",
     "output_type": "stream",
     "text": [
      "* Owlready2 * Warning: optimized Cython parser module 'owlready2_optimized' is not available, defaulting to slower Python implementation\n"
     ]
    }
   ],
   "source": [
    "import pandas as pd\n",
    "import os, glob, re\n",
    "\n",
    "from owlready2 import *\n",
    "import owlready2\n",
    "print(owlready2.VERSION)\n",
    "\n",
    "\n",
    "import importlib.util\n",
    "import sys\n",
    "spec = importlib.util.spec_from_file_location(\"rdfutils\", \"../../../utils/rdfutils.py\")\n",
    "u = importlib.util.module_from_spec(spec)\n",
    "sys.modules[\"rdfutils\"] = u\n",
    "spec.loader.exec_module(u)\n",
    "\n",
    "from datetime import datetime\n",
    "\n",
    "def NOW():\n",
    "    now = datetime.now()\n",
    "    current_time = now.strftime(\"%H:%M:%S\")\n",
    "    return \"Current Time = \"+ str(current_time)\n",
    "\n",
    "%load_ext autoreload\n",
    "%autoreload 2\n"
   ]
  },
  {
   "cell_type": "code",
   "execution_count": 2,
   "id": "89b39521",
   "metadata": {},
   "outputs": [
    {
     "name": "stdout",
     "output_type": "stream",
     "text": [
      "ID: 0 \t Author: Luc Jonveaux\n",
      "ID: 1 \t License: CC BY-NC-SA\n",
      "ID: 2 \t Language: English\n",
      "ID: 3 \t Project: PROBONO\n",
      "ID: 4 \t Task: T3.5\n",
      "ID: 5 \t Description: Creation of a knowledge graph based on a litterature review, augmented by use of LLMs.\n",
      "ID: 6 \t Changes from: 0.0\n",
      "ID: 7 \t Changes: Creation of the knowledge graph\n",
      "ID: 8 \t Changes from: 0.1\n",
      "ID: 9 \t Changes: Adding relations, simplified ontology, closest items, and descriptions\n",
      "ID: 10 \t Repository: https://github.com/mm80843/T3.5/\n",
      "ID: 11 \t TODOs: Quite a number! Creating metaRisks, making it accessible..\n",
      "ID: 12 \t Creation: 11/11/2023\n",
      "ID: 13 \t Version: 0.3\n",
      "ID: 14 \t VersionComment: New blueprints added in 0.3\n",
      "ID: 15 \t Library: owlready2==0.45\n"
     ]
    }
   ],
   "source": [
    "onto = get_ontology(\"../pbn_t3_5_v0.3.owl\").load()\n",
    "comments = u.checkComments(onto)"
   ]
  },
  {
   "cell_type": "code",
   "execution_count": 3,
   "id": "c3c01d54",
   "metadata": {},
   "outputs": [],
   "source": [
    "for a in onto.Article.instances():\n",
    "    LABELS = a.label\n",
    "    LABELS = sorted(LABELS, key=len)\n",
    "    a.label = [LABELS[-1].capitalize()]"
   ]
  },
  {
   "cell_type": "code",
   "execution_count": 4,
   "id": "1085b136",
   "metadata": {},
   "outputs": [],
   "source": [
    "dIDct = u.createDict(onto) "
   ]
  },
  {
   "cell_type": "code",
   "execution_count": 5,
   "id": "574f5153",
   "metadata": {},
   "outputs": [
    {
     "name": "stdout",
     "output_type": "stream",
     "text": [
      "\n",
      "# Overview\n",
      "\n",
      "*  _PBNThing_  --  19260 instances.\n",
      "*  _BenefReturn_  --  1606 instances.\n",
      "*  _Benef_  --  1409 instances.\n",
      "*  _Article_  --  376 instances.\n",
      "*  _Risk_  --  3418 instances.\n",
      "*  _ISO_Scale_  --  5 instances.\n",
      "*  _RiskHealth_  --  14 instances.\n",
      "*  _RiskType_  --  22 instances.\n",
      "*  _Stakeholder_  --  2640 instances.\n",
      "*  _Stakeholder_Type_  --  3 instances.\n",
      "*  _Technology_  --  3915 instances.\n",
      "*  _ISO_Impact_  --  24 instances.\n",
      "*  _ISO_Purpose_  --  18 instances.\n",
      "*  _Mitigation_  --  5295 instances.\n",
      "*  _BP_Enabler_  --  33 instances.\n",
      "*  _BP_Transmission_  --  12 instances.\n",
      "*  _Blueprint_  --  74 instances.\n",
      "*  _BP_Scale_  --  3 instances.\n",
      "*  _BP_Phase_  --  4 instances.\n",
      "*  _BP_Permanent_  --  4 instances.\n",
      "*  _BP_Type_  --  2 instances.\n",
      "*  _BP_Intervention_  --  40 instances.\n",
      "*  _PBNCategory_  --  330 instances.\n",
      "*  _BP_Theme_  --  10 instances.\n",
      "*  _BP_Category_  --  3 instances.\n",
      "*  _aBlueprint_  --  50 instances.\n"
     ]
    }
   ],
   "source": [
    "u.cOnto(onto)"
   ]
  },
  {
   "cell_type": "code",
   "execution_count": 6,
   "id": "9423f3e0",
   "metadata": {},
   "outputs": [],
   "source": [
    "def cleanTitle(x):\n",
    "    x = str(x).replace(\"(\",\" \").replace(\")\",\" \")\n",
    "    x = re.sub(' +', ' ',  str(x)).strip().capitalize()\n",
    "    return x"
   ]
  },
  {
   "cell_type": "code",
   "execution_count": 7,
   "id": "ee019d34",
   "metadata": {},
   "outputs": [
    {
     "data": {
      "text/html": [
       "<div>\n",
       "<style scoped>\n",
       "    .dataframe tbody tr th:only-of-type {\n",
       "        vertical-align: middle;\n",
       "    }\n",
       "\n",
       "    .dataframe tbody tr th {\n",
       "        vertical-align: top;\n",
       "    }\n",
       "\n",
       "    .dataframe thead th {\n",
       "        text-align: right;\n",
       "    }\n",
       "</style>\n",
       "<table border=\"1\" class=\"dataframe\">\n",
       "  <thead>\n",
       "    <tr style=\"text-align: right;\">\n",
       "      <th></th>\n",
       "      <th>doi</th>\n",
       "      <th>TITLE</th>\n",
       "      <th>LEN</th>\n",
       "    </tr>\n",
       "  </thead>\n",
       "  <tbody>\n",
       "    <tr>\n",
       "      <th>0</th>\n",
       "      <td>[10.1016/j.scitotenv.2020.141750]</td>\n",
       "      <td>[Detection of sars-cov-2 in raw and treated wa...</td>\n",
       "      <td>1</td>\n",
       "    </tr>\n",
       "    <tr>\n",
       "      <th>247</th>\n",
       "      <td>[10.1016/j.eap.2022.03.012]</td>\n",
       "      <td>[Covid-19 and regional solutions for mitigatin...</td>\n",
       "      <td>1</td>\n",
       "    </tr>\n",
       "    <tr>\n",
       "      <th>246</th>\n",
       "      <td>[10.1101/2020.05.10.20097329]</td>\n",
       "      <td>[A continuously active antimicrobial coating e...</td>\n",
       "      <td>1</td>\n",
       "    </tr>\n",
       "    <tr>\n",
       "      <th>245</th>\n",
       "      <td>[10.31219/osf.io/rf7xa]</td>\n",
       "      <td>[The impact of covid-19 on public space: a rev...</td>\n",
       "      <td>1</td>\n",
       "    </tr>\n",
       "    <tr>\n",
       "      <th>244</th>\n",
       "      <td>[10.21203/rs.3.rs-66806/v1]</td>\n",
       "      <td>[Overcoming the impact of covid-19 using integ...</td>\n",
       "      <td>1</td>\n",
       "    </tr>\n",
       "    <tr>\n",
       "      <th>243</th>\n",
       "      <td>[10.1016/j.jum.2021.01.002]</td>\n",
       "      <td>[Revisiting the built environment: 10 potentia...</td>\n",
       "      <td>1</td>\n",
       "    </tr>\n",
       "    <tr>\n",
       "      <th>242</th>\n",
       "      <td>[10.1136/bmj.m1066]</td>\n",
       "      <td>[Covid-19 and community mitigation strategies ...</td>\n",
       "      <td>1</td>\n",
       "    </tr>\n",
       "    <tr>\n",
       "      <th>241</th>\n",
       "      <td>[10.3390/smartcities2010007]</td>\n",
       "      <td>[The emergence of anti-privacy and control at ...</td>\n",
       "      <td>1</td>\n",
       "    </tr>\n",
       "    <tr>\n",
       "      <th>240</th>\n",
       "      <td>[10.1007/s42979-021-00923-y]</td>\n",
       "      <td>[Pandemic analytics: how countries are leverag...</td>\n",
       "      <td>1</td>\n",
       "    </tr>\n",
       "    <tr>\n",
       "      <th>248</th>\n",
       "      <td>[10.1007/s43069-020-0014-9]</td>\n",
       "      <td>[How architecture fails in conditions of crisi...</td>\n",
       "      <td>1</td>\n",
       "    </tr>\n",
       "  </tbody>\n",
       "</table>\n",
       "</div>"
      ],
      "text/plain": [
       "                                   doi  \\\n",
       "0    [10.1016/j.scitotenv.2020.141750]   \n",
       "247        [10.1016/j.eap.2022.03.012]   \n",
       "246      [10.1101/2020.05.10.20097329]   \n",
       "245            [10.31219/osf.io/rf7xa]   \n",
       "244        [10.21203/rs.3.rs-66806/v1]   \n",
       "243        [10.1016/j.jum.2021.01.002]   \n",
       "242                [10.1136/bmj.m1066]   \n",
       "241       [10.3390/smartcities2010007]   \n",
       "240       [10.1007/s42979-021-00923-y]   \n",
       "248        [10.1007/s43069-020-0014-9]   \n",
       "\n",
       "                                                 TITLE  LEN  \n",
       "0    [Detection of sars-cov-2 in raw and treated wa...    1  \n",
       "247  [Covid-19 and regional solutions for mitigatin...    1  \n",
       "246  [A continuously active antimicrobial coating e...    1  \n",
       "245  [The impact of covid-19 on public space: a rev...    1  \n",
       "244  [Overcoming the impact of covid-19 using integ...    1  \n",
       "243  [Revisiting the built environment: 10 potentia...    1  \n",
       "242  [Covid-19 and community mitigation strategies ...    1  \n",
       "241  [The emergence of anti-privacy and control at ...    1  \n",
       "240  [Pandemic analytics: how countries are leverag...    1  \n",
       "248  [How architecture fails in conditions of crisi...    1  "
      ]
     },
     "execution_count": 7,
     "metadata": {},
     "output_type": "execute_result"
    }
   ],
   "source": [
    "DOIs =[]\n",
    "for a in onto.Article.instances():\n",
    "    if a.label:\n",
    "        a.label = [cleanTitle(a.label[0]) ]\n",
    "    if a.has_ArticleDOI:\n",
    "        A = a.label\n",
    "        A = sorted(A, key=len)\n",
    "        DOIs.append([a.has_ArticleDOI,A[0]])\n",
    "dfDOI = pd.DataFrame(DOIs,columns=[\"doi\",\"TITLE\"])\n",
    "#dfDOI.TITLE = dfDOI.TITLE.apply(lambda x: cleanTitle(x))\n",
    "\n",
    "dfDOI[\"LEN\"] = dfDOI.TITLE.apply(lambda x: len(x))\n",
    "dfDOI.sort_values(by=\"LEN\").head(10)"
   ]
  },
  {
   "cell_type": "code",
   "execution_count": 8,
   "id": "29ef2270",
   "metadata": {},
   "outputs": [
    {
     "name": "stderr",
     "output_type": "stream",
     "text": [
      "/home/kelu/projets/T3.5/venv/lib/python3.10/site-packages/pandas/core/missing.py:106: FutureWarning: elementwise comparison failed; returning scalar instead, but in the future will perform elementwise comparison\n",
      "  new_mask[arr_mask] = arr[arr_mask] == x\n"
     ]
    },
    {
     "ename": "TypeError",
     "evalue": "unhashable type: 'IndividualValueList'",
     "output_type": "error",
     "traceback": [
      "\u001b[0;31m---------------------------------------------------------------------------\u001b[0m",
      "\u001b[0;31mTypeError\u001b[0m                                 Traceback (most recent call last)",
      "Cell \u001b[0;32mIn[8], line 3\u001b[0m\n\u001b[1;32m      1\u001b[0m dfR \u001b[39m=\u001b[39m pd\u001b[39m.\u001b[39mread_parquet(\u001b[39m\"\u001b[39m\u001b[39mnewrisks.parquet.gzip\u001b[39m\u001b[39m\"\u001b[39m)\n\u001b[1;32m      2\u001b[0m dfR \u001b[39m=\u001b[39m dfR\u001b[39m.\u001b[39mreplace(\u001b[39m\"\u001b[39m\u001b[39m\b\u001b[39m\u001b[39m\"\u001b[39m,\u001b[39m\"\u001b[39m\u001b[39m\"\u001b[39m)\n\u001b[0;32m----> 3\u001b[0m dfR \u001b[39m=\u001b[39m dfR\u001b[39m.\u001b[39;49mmerge(dfDOI,on\u001b[39m=\u001b[39;49m\u001b[39m\"\u001b[39;49m\u001b[39mdoi\u001b[39;49m\u001b[39m\"\u001b[39;49m,how\u001b[39m=\u001b[39;49m\u001b[39m\"\u001b[39;49m\u001b[39mleft\u001b[39;49m\u001b[39m\"\u001b[39;49m)\u001b[39m.\u001b[39msort_values(by\u001b[39m=\u001b[39m\u001b[39m\"\u001b[39m\u001b[39mTITLE\u001b[39m\u001b[39m\"\u001b[39m)\n\u001b[1;32m      4\u001b[0m dfR\n",
      "File \u001b[0;32m~/projets/T3.5/venv/lib/python3.10/site-packages/pandas/core/frame.py:9843\u001b[0m, in \u001b[0;36mDataFrame.merge\u001b[0;34m(self, right, how, on, left_on, right_on, left_index, right_index, sort, suffixes, copy, indicator, validate)\u001b[0m\n\u001b[1;32m   9824\u001b[0m \u001b[39m@Substitution\u001b[39m(\u001b[39m\"\u001b[39m\u001b[39m\"\u001b[39m)\n\u001b[1;32m   9825\u001b[0m \u001b[39m@Appender\u001b[39m(_merge_doc, indents\u001b[39m=\u001b[39m\u001b[39m2\u001b[39m)\n\u001b[1;32m   9826\u001b[0m \u001b[39mdef\u001b[39;00m \u001b[39mmerge\u001b[39m(\n\u001b[0;32m   (...)\u001b[0m\n\u001b[1;32m   9839\u001b[0m     validate: \u001b[39mstr\u001b[39m \u001b[39m|\u001b[39m \u001b[39mNone\u001b[39;00m \u001b[39m=\u001b[39m \u001b[39mNone\u001b[39;00m,\n\u001b[1;32m   9840\u001b[0m ) \u001b[39m-\u001b[39m\u001b[39m>\u001b[39m DataFrame:\n\u001b[1;32m   9841\u001b[0m     \u001b[39mfrom\u001b[39;00m \u001b[39mpandas\u001b[39;00m\u001b[39m.\u001b[39;00m\u001b[39mcore\u001b[39;00m\u001b[39m.\u001b[39;00m\u001b[39mreshape\u001b[39;00m\u001b[39m.\u001b[39;00m\u001b[39mmerge\u001b[39;00m \u001b[39mimport\u001b[39;00m merge\n\u001b[0;32m-> 9843\u001b[0m     \u001b[39mreturn\u001b[39;00m merge(\n\u001b[1;32m   9844\u001b[0m         \u001b[39mself\u001b[39;49m,\n\u001b[1;32m   9845\u001b[0m         right,\n\u001b[1;32m   9846\u001b[0m         how\u001b[39m=\u001b[39;49mhow,\n\u001b[1;32m   9847\u001b[0m         on\u001b[39m=\u001b[39;49mon,\n\u001b[1;32m   9848\u001b[0m         left_on\u001b[39m=\u001b[39;49mleft_on,\n\u001b[1;32m   9849\u001b[0m         right_on\u001b[39m=\u001b[39;49mright_on,\n\u001b[1;32m   9850\u001b[0m         left_index\u001b[39m=\u001b[39;49mleft_index,\n\u001b[1;32m   9851\u001b[0m         right_index\u001b[39m=\u001b[39;49mright_index,\n\u001b[1;32m   9852\u001b[0m         sort\u001b[39m=\u001b[39;49msort,\n\u001b[1;32m   9853\u001b[0m         suffixes\u001b[39m=\u001b[39;49msuffixes,\n\u001b[1;32m   9854\u001b[0m         copy\u001b[39m=\u001b[39;49mcopy,\n\u001b[1;32m   9855\u001b[0m         indicator\u001b[39m=\u001b[39;49mindicator,\n\u001b[1;32m   9856\u001b[0m         validate\u001b[39m=\u001b[39;49mvalidate,\n\u001b[1;32m   9857\u001b[0m     )\n",
      "File \u001b[0;32m~/projets/T3.5/venv/lib/python3.10/site-packages/pandas/core/reshape/merge.py:162\u001b[0m, in \u001b[0;36mmerge\u001b[0;34m(left, right, how, on, left_on, right_on, left_index, right_index, sort, suffixes, copy, indicator, validate)\u001b[0m\n\u001b[1;32m    131\u001b[0m \u001b[39m@Substitution\u001b[39m(\u001b[39m\"\u001b[39m\u001b[39m\\n\u001b[39;00m\u001b[39mleft : DataFrame or named Series\u001b[39m\u001b[39m\"\u001b[39m)\n\u001b[1;32m    132\u001b[0m \u001b[39m@Appender\u001b[39m(_merge_doc, indents\u001b[39m=\u001b[39m\u001b[39m0\u001b[39m)\n\u001b[1;32m    133\u001b[0m \u001b[39mdef\u001b[39;00m \u001b[39mmerge\u001b[39m(\n\u001b[0;32m   (...)\u001b[0m\n\u001b[1;32m    146\u001b[0m     validate: \u001b[39mstr\u001b[39m \u001b[39m|\u001b[39m \u001b[39mNone\u001b[39;00m \u001b[39m=\u001b[39m \u001b[39mNone\u001b[39;00m,\n\u001b[1;32m    147\u001b[0m ) \u001b[39m-\u001b[39m\u001b[39m>\u001b[39m DataFrame:\n\u001b[1;32m    148\u001b[0m     op \u001b[39m=\u001b[39m _MergeOperation(\n\u001b[1;32m    149\u001b[0m         left,\n\u001b[1;32m    150\u001b[0m         right,\n\u001b[0;32m   (...)\u001b[0m\n\u001b[1;32m    160\u001b[0m         validate\u001b[39m=\u001b[39mvalidate,\n\u001b[1;32m    161\u001b[0m     )\n\u001b[0;32m--> 162\u001b[0m     \u001b[39mreturn\u001b[39;00m op\u001b[39m.\u001b[39;49mget_result(copy\u001b[39m=\u001b[39;49mcopy)\n",
      "File \u001b[0;32m~/projets/T3.5/venv/lib/python3.10/site-packages/pandas/core/reshape/merge.py:809\u001b[0m, in \u001b[0;36m_MergeOperation.get_result\u001b[0;34m(self, copy)\u001b[0m\n\u001b[1;32m    806\u001b[0m \u001b[39mif\u001b[39;00m \u001b[39mself\u001b[39m\u001b[39m.\u001b[39mindicator:\n\u001b[1;32m    807\u001b[0m     \u001b[39mself\u001b[39m\u001b[39m.\u001b[39mleft, \u001b[39mself\u001b[39m\u001b[39m.\u001b[39mright \u001b[39m=\u001b[39m \u001b[39mself\u001b[39m\u001b[39m.\u001b[39m_indicator_pre_merge(\u001b[39mself\u001b[39m\u001b[39m.\u001b[39mleft, \u001b[39mself\u001b[39m\u001b[39m.\u001b[39mright)\n\u001b[0;32m--> 809\u001b[0m join_index, left_indexer, right_indexer \u001b[39m=\u001b[39m \u001b[39mself\u001b[39;49m\u001b[39m.\u001b[39;49m_get_join_info()\n\u001b[1;32m    811\u001b[0m result \u001b[39m=\u001b[39m \u001b[39mself\u001b[39m\u001b[39m.\u001b[39m_reindex_and_concat(\n\u001b[1;32m    812\u001b[0m     join_index, left_indexer, right_indexer, copy\u001b[39m=\u001b[39mcopy\n\u001b[1;32m    813\u001b[0m )\n\u001b[1;32m    814\u001b[0m result \u001b[39m=\u001b[39m result\u001b[39m.\u001b[39m__finalize__(\u001b[39mself\u001b[39m, method\u001b[39m=\u001b[39m\u001b[39mself\u001b[39m\u001b[39m.\u001b[39m_merge_type)\n",
      "File \u001b[0;32m~/projets/T3.5/venv/lib/python3.10/site-packages/pandas/core/reshape/merge.py:1065\u001b[0m, in \u001b[0;36m_MergeOperation._get_join_info\u001b[0;34m(self)\u001b[0m\n\u001b[1;32m   1061\u001b[0m     join_index, right_indexer, left_indexer \u001b[39m=\u001b[39m _left_join_on_index(\n\u001b[1;32m   1062\u001b[0m         right_ax, left_ax, \u001b[39mself\u001b[39m\u001b[39m.\u001b[39mright_join_keys, sort\u001b[39m=\u001b[39m\u001b[39mself\u001b[39m\u001b[39m.\u001b[39msort\n\u001b[1;32m   1063\u001b[0m     )\n\u001b[1;32m   1064\u001b[0m \u001b[39melse\u001b[39;00m:\n\u001b[0;32m-> 1065\u001b[0m     (left_indexer, right_indexer) \u001b[39m=\u001b[39m \u001b[39mself\u001b[39;49m\u001b[39m.\u001b[39;49m_get_join_indexers()\n\u001b[1;32m   1067\u001b[0m     \u001b[39mif\u001b[39;00m \u001b[39mself\u001b[39m\u001b[39m.\u001b[39mright_index:\n\u001b[1;32m   1068\u001b[0m         \u001b[39mif\u001b[39;00m \u001b[39mlen\u001b[39m(\u001b[39mself\u001b[39m\u001b[39m.\u001b[39mleft) \u001b[39m>\u001b[39m \u001b[39m0\u001b[39m:\n",
      "File \u001b[0;32m~/projets/T3.5/venv/lib/python3.10/site-packages/pandas/core/reshape/merge.py:1038\u001b[0m, in \u001b[0;36m_MergeOperation._get_join_indexers\u001b[0;34m(self)\u001b[0m\n\u001b[1;32m   1036\u001b[0m \u001b[39mdef\u001b[39;00m \u001b[39m_get_join_indexers\u001b[39m(\u001b[39mself\u001b[39m) \u001b[39m-\u001b[39m\u001b[39m>\u001b[39m \u001b[39mtuple\u001b[39m[npt\u001b[39m.\u001b[39mNDArray[np\u001b[39m.\u001b[39mintp], npt\u001b[39m.\u001b[39mNDArray[np\u001b[39m.\u001b[39mintp]]:\n\u001b[1;32m   1037\u001b[0m \u001b[39m    \u001b[39m\u001b[39m\"\"\"return the join indexers\"\"\"\u001b[39;00m\n\u001b[0;32m-> 1038\u001b[0m     \u001b[39mreturn\u001b[39;00m get_join_indexers(\n\u001b[1;32m   1039\u001b[0m         \u001b[39mself\u001b[39;49m\u001b[39m.\u001b[39;49mleft_join_keys, \u001b[39mself\u001b[39;49m\u001b[39m.\u001b[39;49mright_join_keys, sort\u001b[39m=\u001b[39;49m\u001b[39mself\u001b[39;49m\u001b[39m.\u001b[39;49msort, how\u001b[39m=\u001b[39;49m\u001b[39mself\u001b[39;49m\u001b[39m.\u001b[39;49mhow\n\u001b[1;32m   1040\u001b[0m     )\n",
      "File \u001b[0;32m~/projets/T3.5/venv/lib/python3.10/site-packages/pandas/core/reshape/merge.py:1665\u001b[0m, in \u001b[0;36mget_join_indexers\u001b[0;34m(left_keys, right_keys, sort, how, **kwargs)\u001b[0m\n\u001b[1;32m   1660\u001b[0m \u001b[39m# get left & right join labels and num. of levels at each location\u001b[39;00m\n\u001b[1;32m   1661\u001b[0m mapped \u001b[39m=\u001b[39m (\n\u001b[1;32m   1662\u001b[0m     _factorize_keys(left_keys[n], right_keys[n], sort\u001b[39m=\u001b[39msort, how\u001b[39m=\u001b[39mhow)\n\u001b[1;32m   1663\u001b[0m     \u001b[39mfor\u001b[39;00m n \u001b[39min\u001b[39;00m \u001b[39mrange\u001b[39m(\u001b[39mlen\u001b[39m(left_keys))\n\u001b[1;32m   1664\u001b[0m )\n\u001b[0;32m-> 1665\u001b[0m zipped \u001b[39m=\u001b[39m \u001b[39mzip\u001b[39;49m(\u001b[39m*\u001b[39;49mmapped)\n\u001b[1;32m   1666\u001b[0m llab, rlab, shape \u001b[39m=\u001b[39m (\u001b[39mlist\u001b[39m(x) \u001b[39mfor\u001b[39;00m x \u001b[39min\u001b[39;00m zipped)\n\u001b[1;32m   1668\u001b[0m \u001b[39m# get flat i8 keys from label lists\u001b[39;00m\n",
      "File \u001b[0;32m~/projets/T3.5/venv/lib/python3.10/site-packages/pandas/core/reshape/merge.py:1662\u001b[0m, in \u001b[0;36m<genexpr>\u001b[0;34m(.0)\u001b[0m\n\u001b[1;32m   1658\u001b[0m         \u001b[39mreturn\u001b[39;00m _get_no_sort_one_missing_indexer(left_n, \u001b[39mFalse\u001b[39;00m)\n\u001b[1;32m   1660\u001b[0m \u001b[39m# get left & right join labels and num. of levels at each location\u001b[39;00m\n\u001b[1;32m   1661\u001b[0m mapped \u001b[39m=\u001b[39m (\n\u001b[0;32m-> 1662\u001b[0m     _factorize_keys(left_keys[n], right_keys[n], sort\u001b[39m=\u001b[39;49msort, how\u001b[39m=\u001b[39;49mhow)\n\u001b[1;32m   1663\u001b[0m     \u001b[39mfor\u001b[39;00m n \u001b[39min\u001b[39;00m \u001b[39mrange\u001b[39m(\u001b[39mlen\u001b[39m(left_keys))\n\u001b[1;32m   1664\u001b[0m )\n\u001b[1;32m   1665\u001b[0m zipped \u001b[39m=\u001b[39m \u001b[39mzip\u001b[39m(\u001b[39m*\u001b[39mmapped)\n\u001b[1;32m   1666\u001b[0m llab, rlab, shape \u001b[39m=\u001b[39m (\u001b[39mlist\u001b[39m(x) \u001b[39mfor\u001b[39;00m x \u001b[39min\u001b[39;00m zipped)\n",
      "File \u001b[0;32m~/projets/T3.5/venv/lib/python3.10/site-packages/pandas/core/reshape/merge.py:2443\u001b[0m, in \u001b[0;36m_factorize_keys\u001b[0;34m(lk, rk, sort, how)\u001b[0m\n\u001b[1;32m   2438\u001b[0m \u001b[39melse\u001b[39;00m:\n\u001b[1;32m   2439\u001b[0m     \u001b[39m# Argument 1 to \"factorize\" of \"ObjectFactorizer\" has incompatible type\u001b[39;00m\n\u001b[1;32m   2440\u001b[0m     \u001b[39m# \"Union[ndarray[Any, dtype[signedinteger[_64Bit]]],\u001b[39;00m\n\u001b[1;32m   2441\u001b[0m     \u001b[39m# ndarray[Any, dtype[object_]]]\"; expected \"ndarray[Any, dtype[object_]]\"\u001b[39;00m\n\u001b[1;32m   2442\u001b[0m     llab \u001b[39m=\u001b[39m rizer\u001b[39m.\u001b[39mfactorize(lk)  \u001b[39m# type: ignore[arg-type]\u001b[39;00m\n\u001b[0;32m-> 2443\u001b[0m     rlab \u001b[39m=\u001b[39m rizer\u001b[39m.\u001b[39;49mfactorize(rk)  \u001b[39m# type: ignore[arg-type]\u001b[39;00m\n\u001b[1;32m   2444\u001b[0m \u001b[39massert\u001b[39;00m llab\u001b[39m.\u001b[39mdtype \u001b[39m==\u001b[39m np\u001b[39m.\u001b[39mdtype(np\u001b[39m.\u001b[39mintp), llab\u001b[39m.\u001b[39mdtype\n\u001b[1;32m   2445\u001b[0m \u001b[39massert\u001b[39;00m rlab\u001b[39m.\u001b[39mdtype \u001b[39m==\u001b[39m np\u001b[39m.\u001b[39mdtype(np\u001b[39m.\u001b[39mintp), rlab\u001b[39m.\u001b[39mdtype\n",
      "File \u001b[0;32m~/projets/T3.5/venv/lib/python3.10/site-packages/pandas/_libs/hashtable.pyx:122\u001b[0m, in \u001b[0;36mpandas._libs.hashtable.ObjectFactorizer.factorize\u001b[0;34m()\u001b[0m\n",
      "File \u001b[0;32mpandas/_libs/hashtable_class_helper.pxi:7288\u001b[0m, in \u001b[0;36mpandas._libs.hashtable.PyObjectHashTable.get_labels\u001b[0;34m()\u001b[0m\n",
      "File \u001b[0;32mpandas/_libs/hashtable_class_helper.pxi:7194\u001b[0m, in \u001b[0;36mpandas._libs.hashtable.PyObjectHashTable._unique\u001b[0;34m()\u001b[0m\n",
      "\u001b[0;31mTypeError\u001b[0m: unhashable type: 'IndividualValueList'"
     ]
    }
   ],
   "source": [
    "dfR = pd.read_parquet(\"newrisks.parquet.gzip\")\n",
    "dfR = dfR.replace(\"\b\",\"\")\n",
    "dfR = dfR.merge(dfDOI,on=\"doi\",how=\"left\").sort_values(by=\"TITLE\")\n",
    "dfR"
   ]
  },
  {
   "cell_type": "code",
   "execution_count": null,
   "id": "b3cf9eb4",
   "metadata": {},
   "outputs": [],
   "source": [
    "\n",
    "for ix, row in dfR.iterrows():\n",
    "    if ix < 20000:\n",
    "        try:\n",
    "            newRisk =  u.addItem(\"Risk\", row[\"Description\"], dIDct, onto )\n",
    "            newRisk.has_RiskName.append(row[\"Impact\"])\n",
    "\n",
    "            src= u.addItem(\"Article\",row[\"TITLE\"], dIDct, onto )\n",
    "            newRisk.has_RiskSource.append(src)\n",
    "\n",
    "            mitig = u.addItem(\"Mitigation\",row[\"Mitigation\"], dIDct, onto )\n",
    "            newRisk.has_RiskMitigation.append(mitig)\n",
    "            mitig.has_MitigationSource.append(src)\n",
    "            \n",
    "            for tech in row[\"Technologies\"]:\n",
    "                mytech = u.addItem(\"Technology\",tech, dIDct, onto ) \n",
    "                newRisk.has_RiskTechnology.append(mytech)\n",
    "                mytech.has_TechSource.append(src)\n",
    "\n",
    "            for stakeholder in row[\"People\"]:\n",
    "                newstakeholder = u.addItem(\"Stakeholder\",stakeholder, dIDct, onto )  \n",
    "                newRisk.has_RiskSubject.append(newstakeholder)\n",
    "                                \n",
    "            for stakeholder in row[\"Owner\"]:\n",
    "                newstakeholder = u.addItem(\"Stakeholder\",stakeholder, dIDct, onto )   \n",
    "                newRisk.has_RiskOwner.append(newstakeholder)\n",
    "        except:\n",
    "            pass\n"
   ]
  },
  {
   "cell_type": "code",
   "execution_count": null,
   "id": "72881ed4",
   "metadata": {},
   "outputs": [
    {
     "data": {
      "text/html": [
       "<div>\n",
       "<style scoped>\n",
       "    .dataframe tbody tr th:only-of-type {\n",
       "        vertical-align: middle;\n",
       "    }\n",
       "\n",
       "    .dataframe tbody tr th {\n",
       "        vertical-align: top;\n",
       "    }\n",
       "\n",
       "    .dataframe thead th {\n",
       "        text-align: right;\n",
       "    }\n",
       "</style>\n",
       "<table border=\"1\" class=\"dataframe\">\n",
       "  <thead>\n",
       "    <tr style=\"text-align: right;\">\n",
       "      <th></th>\n",
       "      <th>doi</th>\n",
       "      <th>TITLE</th>\n",
       "      <th>titre</th>\n",
       "    </tr>\n",
       "  </thead>\n",
       "  <tbody>\n",
       "    <tr>\n",
       "      <th>167</th>\n",
       "      <td>[10.1111/ciso.12282]</td>\n",
       "      <td>[10 Adaptive Measures for Public Places to fac...</td>\n",
       "      <td>10 adaptive measures for public places to face...</td>\n",
       "    </tr>\n",
       "    <tr>\n",
       "      <th>188</th>\n",
       "      <td>[10.1128/mSystems.00245-20]</td>\n",
       "      <td>[2019 Novel Coronavirus (COVID-19) Pandemic: B...</td>\n",
       "      <td>2019 novel coronavirus (covid-19) pandemic: bu...</td>\n",
       "    </tr>\n",
       "    <tr>\n",
       "      <th>376</th>\n",
       "      <td>[]</td>\n",
       "      <td>[]</td>\n",
       "      <td>2019 novel coronavirus covid-19 pandemic: buil...</td>\n",
       "    </tr>\n",
       "    <tr>\n",
       "      <th>318</th>\n",
       "      <td>[10.1016/j.ypmed.2021.106425]</td>\n",
       "      <td>[A call to action: Improving urban green space...</td>\n",
       "      <td>A call to action: improving urban green spaces...</td>\n",
       "    </tr>\n",
       "    <tr>\n",
       "      <th>212</th>\n",
       "      <td>[10.1088/1757-899x/1055/1/012083]</td>\n",
       "      <td>[A Comprehensive Review of Applications of Int...</td>\n",
       "      <td>A comprehensive review of applications of inte...</td>\n",
       "    </tr>\n",
       "    <tr>\n",
       "      <th>...</th>\n",
       "      <td>...</td>\n",
       "      <td>...</td>\n",
       "      <td>...</td>\n",
       "    </tr>\n",
       "    <tr>\n",
       "      <th>307</th>\n",
       "      <td>[10.1080/0960085X.2020.1770632]</td>\n",
       "      <td>[What drives unverified information sharing an...</td>\n",
       "      <td>What drives unverified information sharing and...</td>\n",
       "    </tr>\n",
       "    <tr>\n",
       "      <th>163</th>\n",
       "      <td>[10.1787/65cfc31c-en]</td>\n",
       "      <td>[What has been the impact of the COVID-19 pand...</td>\n",
       "      <td>What has been the impact of the covid-19 pande...</td>\n",
       "    </tr>\n",
       "    <tr>\n",
       "      <th>227</th>\n",
       "      <td>[10.1088/1748-9326/abb851]</td>\n",
       "      <td>[What our response to the COVID-19 pandemic te...</td>\n",
       "      <td>What our response to the covid-19 pandemic tel...</td>\n",
       "    </tr>\n",
       "    <tr>\n",
       "      <th>4</th>\n",
       "      <td>[10.1016/j.scitotenv.2020.140980]</td>\n",
       "      <td>[When the fourth water and digital revolution ...</td>\n",
       "      <td>When the fourth water and digital revolution e...</td>\n",
       "    </tr>\n",
       "    <tr>\n",
       "      <th>311</th>\n",
       "      <td>[10.3389/fevo.2021.639216]</td>\n",
       "      <td>[“Saving Lives, Protecting Livelihoods, and Sa...</td>\n",
       "      <td>“saving lives, protecting livelihoods, and saf...</td>\n",
       "    </tr>\n",
       "  </tbody>\n",
       "</table>\n",
       "<p>393 rows × 3 columns</p>\n",
       "</div>"
      ],
      "text/plain": [
       "                                   doi  \\\n",
       "167               [10.1111/ciso.12282]   \n",
       "188        [10.1128/mSystems.00245-20]   \n",
       "376                                 []   \n",
       "318      [10.1016/j.ypmed.2021.106425]   \n",
       "212  [10.1088/1757-899x/1055/1/012083]   \n",
       "..                                 ...   \n",
       "307    [10.1080/0960085X.2020.1770632]   \n",
       "163              [10.1787/65cfc31c-en]   \n",
       "227         [10.1088/1748-9326/abb851]   \n",
       "4    [10.1016/j.scitotenv.2020.140980]   \n",
       "311         [10.3389/fevo.2021.639216]   \n",
       "\n",
       "                                                 TITLE  \\\n",
       "167  [10 Adaptive Measures for Public Places to fac...   \n",
       "188  [2019 Novel Coronavirus (COVID-19) Pandemic: B...   \n",
       "376                                                 []   \n",
       "318  [A call to action: Improving urban green space...   \n",
       "212  [A Comprehensive Review of Applications of Int...   \n",
       "..                                                 ...   \n",
       "307  [What drives unverified information sharing an...   \n",
       "163  [What has been the impact of the COVID-19 pand...   \n",
       "227  [What our response to the COVID-19 pandemic te...   \n",
       "4    [When the fourth water and digital revolution ...   \n",
       "311  [“Saving Lives, Protecting Livelihoods, and Sa...   \n",
       "\n",
       "                                                 titre  \n",
       "167  10 adaptive measures for public places to face...  \n",
       "188  2019 novel coronavirus (covid-19) pandemic: bu...  \n",
       "376  2019 novel coronavirus covid-19 pandemic: buil...  \n",
       "318  A call to action: improving urban green spaces...  \n",
       "212  A comprehensive review of applications of inte...  \n",
       "..                                                 ...  \n",
       "307  What drives unverified information sharing and...  \n",
       "163  What has been the impact of the covid-19 pande...  \n",
       "227  What our response to the covid-19 pandemic tel...  \n",
       "4    When the fourth water and digital revolution e...  \n",
       "311  “saving lives, protecting livelihoods, and saf...  \n",
       "\n",
       "[393 rows x 3 columns]"
      ]
     },
     "execution_count": 9,
     "metadata": {},
     "output_type": "execute_result"
    }
   ],
   "source": [
    "DOIs =[]\n",
    "for a in onto.Article.instances():\n",
    "    DOIs.append([a.has_ArticleDOI,a.has_ArticleTitle,a.label[0]])\n",
    "dfDOIs = pd.DataFrame(DOIs,columns=[\"doi\",\"TITLE\",\"titre\"]).sort_values(by=\"titre\")\n",
    "dfDOIs"
   ]
  },
  {
   "cell_type": "code",
   "execution_count": null,
   "id": "b411e78b",
   "metadata": {},
   "outputs": [
    {
     "name": "stdout",
     "output_type": "stream",
     "text": [
      "\n",
      "# Overview\n",
      "\n",
      "*  _PBNThing_  --  86888 instances.\n",
      "*  _BenefReturn_  --  1606 instances.\n",
      "*  _Benef_  --  1409 instances.\n",
      "*  _Article_  --  393 instances.\n",
      "*  _Risk_  --  20899 instances.\n",
      "*  _ISO_Scale_  --  5 instances.\n",
      "*  _RiskHealth_  --  14 instances.\n",
      "*  _RiskType_  --  22 instances.\n",
      "*  _Stakeholder_  --  16002 instances.\n",
      "*  _Stakeholder_Type_  --  3 instances.\n",
      "*  _Technology_  --  23093 instances.\n",
      "*  _ISO_Impact_  --  24 instances.\n",
      "*  _ISO_Purpose_  --  18 instances.\n",
      "*  _Mitigation_  --  22885 instances.\n",
      "*  _BP_Enabler_  --  33 instances.\n",
      "*  _BP_Transmission_  --  12 instances.\n",
      "*  _Blueprint_  --  74 instances.\n",
      "*  _BP_Scale_  --  3 instances.\n",
      "*  _BP_Phase_  --  4 instances.\n",
      "*  _BP_Permanent_  --  4 instances.\n",
      "*  _BP_Type_  --  2 instances.\n",
      "*  _BP_Intervention_  --  40 instances.\n",
      "*  _PBNCategory_  --  330 instances.\n",
      "*  _BP_Theme_  --  10 instances.\n",
      "*  _BP_Category_  --  3 instances.\n",
      "*  _aBlueprint_  --  50 instances.\n"
     ]
    }
   ],
   "source": [
    "u.cOnto(onto)"
   ]
  },
  {
   "cell_type": "code",
   "execution_count": null,
   "id": "1b9be6f2",
   "metadata": {},
   "outputs": [],
   "source": [
    "onto.save(\"./WIP.owl\")"
   ]
  },
  {
   "cell_type": "code",
   "execution_count": null,
   "id": "2ad42013",
   "metadata": {},
   "outputs": [
    {
     "name": "stdout",
     "output_type": "stream",
     "text": [
      "Done\n"
     ]
    }
   ],
   "source": [
    "print(\"Done\")"
   ]
  }
 ],
 "metadata": {
  "kernelspec": {
   "display_name": "venv",
   "language": "python",
   "name": "python3"
  },
  "language_info": {
   "codemirror_mode": {
    "name": "ipython",
    "version": 3
   },
   "file_extension": ".py",
   "mimetype": "text/x-python",
   "name": "python",
   "nbconvert_exporter": "python",
   "pygments_lexer": "ipython3",
   "version": "3.10.12"
  },
  "vscode": {
   "interpreter": {
    "hash": "f79bc2406addd2c06911dc053b733d86c52c13481e10d53afee492d28d2db597"
   }
  }
 },
 "nbformat": 4,
 "nbformat_minor": 5
}
