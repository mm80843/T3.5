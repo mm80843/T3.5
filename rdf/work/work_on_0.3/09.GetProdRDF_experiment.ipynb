{
 "cells": [
  {
   "cell_type": "code",
   "execution_count": 2,
   "metadata": {},
   "outputs": [
    {
     "name": "stdout",
     "output_type": "stream",
     "text": [
      "0.40\n"
     ]
    },
    {
     "name": "stderr",
     "output_type": "stream",
     "text": [
      "* Owlready2 * Warning: optimized Cython parser module 'owlready2_optimized' is not available, defaulting to slower Python implementation\n"
     ]
    }
   ],
   "source": [
    "import pandas as pd\n",
    "import os, glob\n",
    "\n",
    "from owlready2 import *\n",
    "import owlready2\n",
    "print(owlready2.VERSION)\n",
    "\n",
    "\n",
    "import importlib.util\n",
    "import sys\n",
    "spec = importlib.util.spec_from_file_location(\"rdfutils\", \"../../../utils/rdfutils.py\")\n",
    "u = importlib.util.module_from_spec(spec)\n",
    "sys.modules[\"rdfutils\"] = u\n",
    "spec.loader.exec_module(u)\n",
    "\n",
    "from datetime import datetime\n",
    "\n",
    "def NOW():\n",
    "    now = datetime.now()\n",
    "    current_time = now.strftime(\"%H:%M:%S\")\n",
    "    return \"Current Time = \"+ str(current_time)\n",
    "\n",
    "%load_ext autoreload\n",
    "%autoreload 2\n"
   ]
  },
  {
   "cell_type": "code",
   "execution_count": 3,
   "metadata": {},
   "outputs": [],
   "source": [
    "from dotenv import load_dotenv\n",
    "load_dotenv('.env')\n",
    "import json, requests\n",
    "import importlib.util\n",
    "import sys\n",
    "\n",
    "spec = importlib.util.spec_from_file_location(\"llm\", \"../../../utils/llm.py\")\n",
    "h = importlib.util.module_from_spec(spec)\n",
    "sys.modules[\"llm\"] = h\n",
    "spec.loader.exec_module(h)\n",
    "\n",
    "URL = os.getenv(\"KG_URL_FCT\")\n",
    "TOK3N = os.getenv(\"KG_TOKEN\")"
   ]
  },
  {
   "cell_type": "code",
   "execution_count": 4,
   "metadata": {},
   "outputs": [],
   "source": [
    "onto = get_ontology(\"WIP_w_SPARQL.owl\").load()\n",
    "dIDct = u.createDict(onto) "
   ]
  },
  {
   "cell_type": "code",
   "execution_count": null,
   "metadata": {},
   "outputs": [
    {
     "name": "stdout",
     "output_type": "stream",
     "text": [
      "ID: 0 \t Description: Creation of a knowledge graph based on a litterature review, augmented by use of LLMs.\n",
      "ID: 1 \t Version: 0.4\n",
      "ID: 2 \t Library: owlready2==0.45\n",
      "ID: 3 \t Changes from: 0.3\n",
      "ID: 4 \t Next: Check formulas for selecting most repeated items in groups\n",
      "ID: 5 \t Changes: Adding new risks, groups of items, and new relationships\n",
      "ID: 6 \t Creation: 22/01/2024\n",
      "ID: 7 \t TODOs: Adding synonyms and solving classification with synonyms\n",
      "ID: 8 \t VersionComment: Grouping of items added in 0.4\n",
      "ID: 9 \t Project: PROBONO\n",
      "ID: 10 \t Next: Linking benefits to mitigations groups\n",
      "ID: 11 \t License: CC BY-NC-SA\n",
      "ID: 12 \t Task: T3.5\n",
      "ID: 13 \t Repository: https://github.com/mm80843/T3.5/\n",
      "ID: 14 \t Author: Luc Jonveaux\n",
      "ID: 15 \t Language: English\n"
     ]
    }
   ],
   "source": [
    "comments = u.checkComments(onto)"
   ]
  },
  {
   "attachments": {},
   "cell_type": "markdown",
   "metadata": {},
   "source": [
    "# Simplified versions"
   ]
  },
  {
   "attachments": {},
   "cell_type": "markdown",
   "metadata": {},
   "source": [
    "## Only blueprints"
   ]
  },
  {
   "cell_type": "code",
   "execution_count": 5,
   "metadata": {},
   "outputs": [
    {
     "name": "stdout",
     "output_type": "stream",
     "text": [
      "File saved at ../../prod/pbn_t3_5_BP.owl\n"
     ]
    }
   ],
   "source": [
    "pathrdfin  = \"WIP_w_SPARQL.owl\"\n",
    "pathrdfout = \"../../prod/pbn_t3_5_BP.owl\"\n",
    "\n",
    "ontoOne = owlready2.get_ontology(pathrdfin).load()\n",
    "ontoOne.metadata.comment[5] = 'limited to blueprints'\n",
    "\n",
    "with ontoOne:\n",
    "    for k in ontoOne.classes():\n",
    "        I = k.instances()\n",
    "        if len(I):\n",
    "            K = str(k).split(\".\")[-1]\n",
    "            if not( (K.startswith(\"Blueprint\") or K.startswith(\"BP_\") or K == \"PBNThing\" ) ):\n",
    "                for i in I:\n",
    "                    owlready2.destroy_entity(i)\n",
    "                owlready2.destroy_entity(k)\n",
    "\n",
    "ontoOne.save(file = pathrdfout)\n",
    "ontoOne.destroy()\n",
    "del(ontoOne)\n",
    "print(\"File saved at \"+pathrdfout)"
   ]
  },
  {
   "cell_type": "code",
   "execution_count": null,
   "metadata": {},
   "outputs": [
    {
     "ename": "NameError",
     "evalue": "name 'owlready2' is not defined",
     "output_type": "error",
     "traceback": [
      "\u001b[0;31m---------------------------------------------------------------------------\u001b[0m",
      "\u001b[0;31mNameError\u001b[0m                                 Traceback (most recent call last)",
      "Cell \u001b[0;32mIn[1], line 4\u001b[0m\n\u001b[1;32m      1\u001b[0m pathrdfin  \u001b[39m=\u001b[39m \u001b[39m\"\u001b[39m\u001b[39mWIP_w_SPARQL.owl\u001b[39m\u001b[39m\"\u001b[39m\n\u001b[1;32m      2\u001b[0m pathrdfout \u001b[39m=\u001b[39m \u001b[39m\"\u001b[39m\u001b[39m../../prod/pbn_t3_5_simple.owl\u001b[39m\u001b[39m\"\u001b[39m\n\u001b[0;32m----> 4\u001b[0m ontoBis \u001b[39m=\u001b[39m owlready2\u001b[39m.\u001b[39mget_ontology(pathrdfin)\u001b[39m.\u001b[39mload()\n\u001b[1;32m      5\u001b[0m ontoBis\u001b[39m.\u001b[39mmetadata\u001b[39m.\u001b[39mcomment[\u001b[39m5\u001b[39m] \u001b[39m=\u001b[39m \u001b[39m'\u001b[39m\u001b[39mlimited simple, no blueprints\u001b[39m\u001b[39m'\u001b[39m\n\u001b[1;32m      7\u001b[0m banned \u001b[39m=\u001b[39m [\u001b[39m'\u001b[39m\u001b[39mBP_Enabler\u001b[39m\u001b[39m'\u001b[39m,\n\u001b[1;32m      8\u001b[0m  \u001b[39m'\u001b[39m\u001b[39mBP_Transmission\u001b[39m\u001b[39m'\u001b[39m,\n\u001b[1;32m      9\u001b[0m  \u001b[39m'\u001b[39m\u001b[39mBlueprint\u001b[39m\u001b[39m'\u001b[39m,\n\u001b[0;32m   (...)\u001b[0m\n\u001b[1;32m     17\u001b[0m  \u001b[39m\"\u001b[39m\u001b[39mBenefReturn\u001b[39m\u001b[39m\"\u001b[39m,\n\u001b[1;32m     18\u001b[0m  \u001b[39m\"\u001b[39m\u001b[39mRisk\u001b[39m\u001b[39m\"\u001b[39m,\u001b[39m\"\u001b[39m\u001b[39mMitigation\u001b[39m\u001b[39m\"\u001b[39m,\u001b[39m\"\u001b[39m\u001b[39mTechnology\u001b[39m\u001b[39m\"\u001b[39m,\u001b[39m\"\u001b[39m\u001b[39mStakeholder\u001b[39m\u001b[39m\"\u001b[39m]\n",
      "\u001b[0;31mNameError\u001b[0m: name 'owlready2' is not defined"
     ]
    }
   ],
   "source": [
    "pathrdfin  = \"WIP_w_SPARQL.owl\"\n",
    "pathrdfout = \"../../prod/pbn_t3_5_simple.owl\"\n",
    "\n",
    "ontoBis = owlready2.get_ontology(pathrdfin).load()\n",
    "ontoBis.metadata.comment[5] = 'limited simple, no blueprints'\n",
    "\n",
    "banned = ['BP_Enabler',\n",
    " 'BP_Transmission',\n",
    " 'Blueprint',\n",
    " 'BP_Scale',\n",
    " 'BP_Phase',\n",
    " 'BP_Permanent',\n",
    " 'BP_Type',\n",
    " 'BP_Theme',\n",
    " 'BP_Category',\n",
    " \"Benef\",\n",
    " \"BenefReturn\",\n",
    " \"Risk\",\"Mitigation\",\"Technology\",\"Stakeholder\"]\n",
    "\n",
    "with ontoBis:\n",
    "    for k in ontoBis.classes():\n",
    "        I = k.instances()\n",
    "        if len(I):\n",
    "            K = str(k).split(\".\")[-1]\n",
    "            print(K)\n",
    "            if K in banned:\n",
    "                print(K,\"is banned.\")\n",
    "                for i in I:\n",
    "                    owlready2.destroy_entity(i)\n",
    "                owlready2.destroy_entity(k)\n",
    "\n",
    "ontoBis.save(file = pathrdfout)\n",
    "ontoBis.destroy()\n",
    "del(ontoBis)\n",
    "print(\"File saved at \"+pathrdfout)"
   ]
  },
  {
   "attachments": {},
   "cell_type": "markdown",
   "metadata": {},
   "source": [
    "## Removing Risk, Stakeholder, Mitigations, Benef "
   ]
  },
  {
   "cell_type": "markdown",
   "metadata": {},
   "source": [
    "# Testing custom SPARQL queries\n",
    "\n",
    "## Creating the support helper"
   ]
  },
  {
   "cell_type": "code",
   "execution_count": 7,
   "metadata": {},
   "outputs": [],
   "source": [
    "from IPython.display import display, Markdown"
   ]
  },
  {
   "cell_type": "code",
   "execution_count": 8,
   "metadata": {},
   "outputs": [],
   "source": [
    "def EX(REQ):\n",
    "    return list(default_world.sparql(REQ))\n",
    "    \n",
    "def ask(QUESTION,prefix=\"sparql\",overwrite=False,MODEL=\"gpt-3.5-turbo-1106\",seed=\"\"):\n",
    "    CONTEXT  = \"You are an expert in the sparql language.\"\n",
    "    CONTEXT += \"You will have to provide  a sparql request that counts the number of classes in a knowledge graph, \\\n",
    "          please answer with the request as between ```sparql ``` tags, and then provide details of how the request is built.\"\n",
    "    REQ = {\n",
    "        \"context\": CONTEXT,\n",
    "        \"question\": QUESTION,\n",
    "        \"model\": MODEL,\n",
    "        \"token\": TOK3N,\n",
    "        \"overwrite\": overwrite,\n",
    "        \"source\": \"local-sparqlqueries\",\n",
    "        \"seed\" : seed\n",
    "    }\n",
    "\n",
    "    H = h.hashme(CONTEXT+QUESTION+seed)\n",
    "    cached = \"cache/\"+prefix+\"_\"+H+\".json\"\n",
    "    \n",
    "    if not os.path.isfile(cached) or overwrite:\n",
    "        x = requests.post(URL+\"ask/\", json = REQ)\n",
    "        #print(x.text)\n",
    "        answer = json.loads(x.text)[\"answer\"]\n",
    "        h.svt(cached,answer)\n",
    "    else:\n",
    "        answer = h.ldt(cached)\n",
    "    A = [x.replace(\"sparql\\n\",\"\").strip() for x in answer.split(\"```\") if len(x)]\n",
    "    display(Markdown(\"### Explanation\"))\n",
    "    display(Markdown((A[-1])))\n",
    "    display(Markdown(\"--------\\n### Code\\n\"))\n",
    "    display(Markdown(\"```sparql\\n\"+(A[-2])+\"\\n```\"))\n",
    "    display(Markdown(\"--------\\n### Request result\"))\n",
    "    B = EX(A[-2])\n",
    "    return B"
   ]
  },
  {
   "cell_type": "code",
   "execution_count": 9,
   "metadata": {},
   "outputs": [],
   "source": [
    "specifics =\"\"\"The ontology we are reviewing has several classes:\n",
    "* 'Risk': A specific risk\n",
    "* 'Mitigation': A mitigation against a risk\n",
    "* 'Technology': A technology used to mitigate a risk\n",
    "* 'TechGroup' : A category used to classify Technology\n",
    "* 'Stakeholder': People related to risks\n",
    "* 'Article': Sources of information\n",
    "They are linked using the following properties:\n",
    "* A 'Risk' has a 'Mitigation' : noted with the property : 'has_RiskMitigation' \n",
    "* A 'Risk' has a 'Technology' : noted with the property : 'has_RiskTechnology'\n",
    "* A 'Risk' impacts a 'Stakeholder' : noted with the property : Risk->'has_RiskSubject'->Stakeholder . Inverse is 'has_SubjectRisk' .\n",
    "* A 'Risk' can be mitigated by a 'Stakeholder' :  noted with the property : 'has_RiskOwner'\n",
    "* A 'TechGroup' contains 'Technology', noted with the property:  Technology->'has_TechGroup'->TechGroup . Inverse is 'has_GroupTech' .\n",
    "Note that all classes have capital letters as part of their names.\n",
    "\n",
    "This ontology can be added in the sparql request introducing:\n",
    "PREFIX pbn: <https://github.com/mm80843/T3.5/raw/main/pbn_t3_5.owl#>\n",
    "\"\"\""
   ]
  },
  {
   "cell_type": "markdown",
   "metadata": {},
   "source": [
    "## Testing the helper"
   ]
  },
  {
   "cell_type": "code",
   "execution_count": 10,
   "metadata": {},
   "outputs": [
    {
     "data": {
      "text/markdown": [
       "### Explanation"
      ],
      "text/plain": [
       "<IPython.core.display.Markdown object>"
      ]
     },
     "metadata": {},
     "output_type": "display_data"
    },
    {
     "data": {
      "text/markdown": [
       "To count the number of classes in the knowledge graph, the SPARQL query uses a SELECT clause with the COUNT aggregate function to count the instances of a class. The WHERE clause specifies that the ?class variable must be an instance of the owl:Class. By using the PREFIX directive, the query associates the pbn namespace with the base ontology URI, enabling the use of the ontology's classes.\n",
       "\n",
       "The query does not include specific class names as it aims to retrieve a general count of all classes in the ontology. This way, it can capture any additional classes that might be added to the ontology in the future."
      ],
      "text/plain": [
       "<IPython.core.display.Markdown object>"
      ]
     },
     "metadata": {},
     "output_type": "display_data"
    },
    {
     "data": {
      "text/markdown": [
       "--------\n",
       "### Code\n"
      ],
      "text/plain": [
       "<IPython.core.display.Markdown object>"
      ]
     },
     "metadata": {},
     "output_type": "display_data"
    },
    {
     "data": {
      "text/markdown": [
       "```sparql\n",
       "PREFIX pbn: <https://github.com/mm80843/T3.5/raw/main/pbn_t3_5.owl#>\n",
       "\n",
       "SELECT (COUNT(?class) AS ?classCount)\n",
       "WHERE {\n",
       "  ?class a owl:Class\n",
       "}\n",
       "```"
      ],
      "text/plain": [
       "<IPython.core.display.Markdown object>"
      ]
     },
     "metadata": {},
     "output_type": "display_data"
    },
    {
     "data": {
      "text/markdown": [
       "--------\n",
       "### Request result"
      ],
      "text/plain": [
       "<IPython.core.display.Markdown object>"
      ]
     },
     "metadata": {},
     "output_type": "display_data"
    },
    {
     "data": {
      "text/plain": [
       "[[0]]"
      ]
     },
     "execution_count": 10,
     "metadata": {},
     "output_type": "execute_result"
    }
   ],
   "source": [
    "A = ask(specifics+\"How do I count the number of classes\",overwrite=False,MODEL=\"gpt-3.5-turbo-1106\",seed=\"\")\n",
    "A"
   ]
  },
  {
   "cell_type": "code",
   "execution_count": 11,
   "metadata": {},
   "outputs": [
    {
     "data": {
      "text/markdown": [
       "### Explanation"
      ],
      "text/plain": [
       "<IPython.core.display.Markdown object>"
      ]
     },
     "metadata": {},
     "output_type": "display_data"
    },
    {
     "data": {
      "text/markdown": [
       "This SPARQL query accomplishes the task of counting how many technologies belong to each TechGroup and sorting them in ascending order (largest TechGroup first) while keeping the top 7. Here's a breakdown of the query:\n",
       "\n",
       "1. The SPARQL query starts with a PREFIX declaration to define the namespace prefix for the ontology: `PREFIX pbn: <https://github.com/mm80843/T3.5/raw/main/pbn_t3_5.owl#>`. This prefix will be used to simplify the notation of the ontology classes and properties in the query.\n",
       "\n",
       "2. The SELECT clause includes the variables `?techGroup` and `(COUNT(?technology) AS ?techCount)`. This part of the query specifies the variables to be selected in the results. `?techGroup` will represent the label of the TechGroup, and `?techCount` will represent the count of technologies associated with each TechGroup.\n",
       "\n",
       "3. The WHERE clause includes the triple patterns to match the relationships between technologies and TechGroups. It specifies that a `?technology` entity is of type `pbn:Technology` and has the property `pbn:has_TechGroup` with the object `?techGroupObj`. Additionally, it retrieves the label of the `?techGroupObj` using the `rdfs:label` property and assigns it to the variable `?techGroup`.\n",
       "\n",
       "4. The GROUP BY clause groups the results based on the variable `?techGroup`, which represents the label of the TechGroup.\n",
       "\n",
       "5. The ORDER BY clause sorts the results in descending order of `?techCount`, which represents the count of technologies for each TechGroup.\n",
       "\n",
       "6. The LIMIT 7 clause ensures that only the top 7 results are returned, representing the largest TechGroups based on the count of technologies.\n",
       "\n",
       "Overall, this SPARQL query effectively counts the number of technologies belonging to each TechGroup and provides the results in the desired order and limit."
      ],
      "text/plain": [
       "<IPython.core.display.Markdown object>"
      ]
     },
     "metadata": {},
     "output_type": "display_data"
    },
    {
     "data": {
      "text/markdown": [
       "--------\n",
       "### Code\n"
      ],
      "text/plain": [
       "<IPython.core.display.Markdown object>"
      ]
     },
     "metadata": {},
     "output_type": "display_data"
    },
    {
     "data": {
      "text/markdown": [
       "```sparql\n",
       "PREFIX pbn: <https://github.com/mm80843/T3.5/raw/main/pbn_t3_5.owl#>\n",
       "SELECT ?techGroup (COUNT(?technology) AS ?techCount)\n",
       "WHERE {\n",
       "  ?technology a pbn:Technology ;\n",
       "             pbn:has_TechGroup ?techGroupObj .\n",
       "  ?techGroupObj a pbn:TechGroup ;\n",
       "               rdfs:label ?techGroup .\n",
       "} \n",
       "GROUP BY ?techGroup\n",
       "ORDER BY DESC(?techCount)\n",
       "LIMIT 7\n",
       "```"
      ],
      "text/plain": [
       "<IPython.core.display.Markdown object>"
      ]
     },
     "metadata": {},
     "output_type": "display_data"
    },
    {
     "data": {
      "text/markdown": [
       "--------\n",
       "### Request result"
      ],
      "text/plain": [
       "<IPython.core.display.Markdown object>"
      ]
     },
     "metadata": {},
     "output_type": "display_data"
    },
    {
     "data": {
      "text/plain": [
       "[]"
      ]
     },
     "execution_count": 11,
     "metadata": {},
     "output_type": "execute_result"
    }
   ],
   "source": [
    "A = ask(specifics+\"How do I count how many Technology belong to each TechGroup, and sort in ascending order (largest TechGroup first), keeping the top 7?\",overwrite=False,MODEL=\"gpt-3.5-turbo-1106\",seed=\"3\") # gpt-4-0613\n",
    "A"
   ]
  },
  {
   "cell_type": "code",
   "execution_count": 12,
   "metadata": {},
   "outputs": [
    {
     "data": {
      "text/plain": [
       "[]"
      ]
     },
     "execution_count": 12,
     "metadata": {},
     "output_type": "execute_result"
    }
   ],
   "source": [
    "EX(\"\"\"PREFIX pbn: <https://github.com/mm80843/T3.5/raw/main/pbn_t3_5.owl#>\n",
    "SELECT ?TechGroup (COUNT(?technology) AS ?techCount)\n",
    "WHERE {\n",
    "  ?technology a pbn:Technology ;\n",
    "             pbn:has_TechGroup ?TechGroupObj .\n",
    "  ?TechGroupObj a pbn:TechGroup ;\n",
    "               rdfs:label ?TechGroup .\n",
    "} \n",
    "GROUP BY ?TechGroup\n",
    "ORDER BY DESC(?techCount)\n",
    "LIMIT 7\"\"\")"
   ]
  },
  {
   "cell_type": "code",
   "execution_count": 13,
   "metadata": {},
   "outputs": [
    {
     "data": {
      "text/markdown": [
       "### Explanation"
      ],
      "text/plain": [
       "<IPython.core.display.Markdown object>"
      ]
     },
     "metadata": {},
     "output_type": "display_data"
    },
    {
     "data": {
      "text/markdown": [
       "In this SPARQL request, we first define the prefix `pbn` to represent the ontology namespace. We then use a SELECT query to retrieve the `?techGroup` and count the number of `?technology` items linked to a `?risk` through the properties `has_RiskTechnology`. \n",
       "\n",
       "We also include the `has_RiskMitigation` property to ensure that we are only considering risks that have mitigations. We then group the results by `?techGroup` and order the count of technologies in descending order. Finally, we limit the result to only 1 row, which will give us the tech group with the most linked technologies to a risk."
      ],
      "text/plain": [
       "<IPython.core.display.Markdown object>"
      ]
     },
     "metadata": {},
     "output_type": "display_data"
    },
    {
     "data": {
      "text/markdown": [
       "--------\n",
       "### Code\n"
      ],
      "text/plain": [
       "<IPython.core.display.Markdown object>"
      ]
     },
     "metadata": {},
     "output_type": "display_data"
    },
    {
     "data": {
      "text/markdown": [
       "```sparql\n",
       "PREFIX pbn: <https://github.com/mm80843/T3.5/raw/main/pbn_t3_5.owl#>\n",
       "SELECT ?techGroup (COUNT(?technology) as ?numTechnologies)\n",
       "WHERE {\n",
       "  ?risk a pbn:Risk ;\n",
       "        pbn:has_RiskTechnology ?technology ;\n",
       "        pbn:has_RiskMitigation ?mitigation .\n",
       "  ?technology pbn:has_TechGroup ?techGroup .\n",
       "}\n",
       "GROUP BY ?techGroup\n",
       "ORDER BY DESC(?numTechnologies)\n",
       "LIMIT 1\n",
       "```"
      ],
      "text/plain": [
       "<IPython.core.display.Markdown object>"
      ]
     },
     "metadata": {},
     "output_type": "display_data"
    },
    {
     "data": {
      "text/markdown": [
       "--------\n",
       "### Request result"
      ],
      "text/plain": [
       "<IPython.core.display.Markdown object>"
      ]
     },
     "metadata": {},
     "output_type": "display_data"
    },
    {
     "data": {
      "text/plain": [
       "[]"
      ]
     },
     "execution_count": 13,
     "metadata": {},
     "output_type": "execute_result"
    }
   ],
   "source": [
    "A = ask(specifics+\"How do I identify the TechGroup, and its label, that has the most Technology items linked to a Risk?\",overwrite=False,MODEL=\"gpt-3.5-turbo-1106\",seed=\"6\")\n",
    "A"
   ]
  },
  {
   "cell_type": "code",
   "execution_count": 14,
   "metadata": {},
   "outputs": [
    {
     "data": {
      "text/markdown": [
       "### Explanation"
      ],
      "text/plain": [
       "<IPython.core.display.Markdown object>"
      ]
     },
     "metadata": {},
     "output_type": "display_data"
    },
    {
     "data": {
      "text/markdown": [
       "In the given sparql query, we use the provided ontology prefix to specify the namespace of the classes and properties. The query starts by selecting the variables ?class and ?child. We then match all instances ?child of each class ?class using the triple pattern ?child a ?class. The COUNT function is used to count the number of instances for each class, and the results are grouped by ?class. The GROUP BY clause ensures that the count is performed for each unique class. We then order the results by the count in descending order using ORDER BY DESC(?count). Finally, we limit the results to the top 5 classes using the LIMIT 5 clause."
      ],
      "text/plain": [
       "<IPython.core.display.Markdown object>"
      ]
     },
     "metadata": {},
     "output_type": "display_data"
    },
    {
     "data": {
      "text/markdown": [
       "--------\n",
       "### Code\n"
      ],
      "text/plain": [
       "<IPython.core.display.Markdown object>"
      ]
     },
     "metadata": {},
     "output_type": "display_data"
    },
    {
     "data": {
      "text/markdown": [
       "```sparql\n",
       "PREFIX pbn: <https://github.com/mm80843/T3.5/raw/main/pbn_t3_5.owl#>\n",
       "\n",
       "SELECT ?class (COUNT(?child) AS ?count)\n",
       "WHERE {\n",
       "  ?child a ?class .\n",
       "} \n",
       "GROUP BY ?class\n",
       "ORDER BY DESC(?count)\n",
       "LIMIT 5\n",
       "```"
      ],
      "text/plain": [
       "<IPython.core.display.Markdown object>"
      ]
     },
     "metadata": {},
     "output_type": "display_data"
    },
    {
     "data": {
      "text/markdown": [
       "--------\n",
       "### Request result"
      ],
      "text/plain": [
       "<IPython.core.display.Markdown object>"
      ]
     },
     "metadata": {},
     "output_type": "display_data"
    },
    {
     "data": {
      "text/plain": [
       "[[80, 1]]"
      ]
     },
     "execution_count": 14,
     "metadata": {},
     "output_type": "execute_result"
    }
   ],
   "source": [
    "A = ask(specifics+\"How do I count the top 5 classes that have the children with most instances?\",overwrite=False,MODEL=\"gpt-3.5-turbo-1106\",seed=\"\")\n",
    "A"
   ]
  },
  {
   "cell_type": "code",
   "execution_count": 15,
   "metadata": {},
   "outputs": [],
   "source": [
    "import owlready2.sparql.parser\n",
    "owlready2.sparql.parser._DATA_PROPS = set()"
   ]
  },
  {
   "cell_type": "code",
   "execution_count": 16,
   "metadata": {},
   "outputs": [
    {
     "data": {
      "text/plain": [
       "[]"
      ]
     },
     "execution_count": 16,
     "metadata": {},
     "output_type": "execute_result"
    }
   ],
   "source": [
    "A = EX(\"\"\"PREFIX pbn: <https://github.com/mm80843/T3.5/raw/main/pbn_t3_5.owl#>\n",
    "\n",
    "SELECT ?riskGroup ?techGroup ?techSubgroup (COUNT(?technology) AS ?techCount)\n",
    "WHERE {\n",
    "\n",
    "  ?riskGroup a pbn:RiskGroup .\n",
    "  ?techSubgroup a pbn:TechSubgroup .\n",
    "  ?technology a pbn:Technology . \n",
    "  ?riskGroup a pbn:RiskGroup . \n",
    "  ?techGroup a pbn:TechGroup .\n",
    "\n",
    "  ?risk pbn:has_RiskGroup ?riskGroup .\n",
    "  ?risk pbn:has_RiskTechnology ?technology .\n",
    "  ?technology pbn:has_TechSubgroup ?techSubgroup . \n",
    "  ?technology pbn:has_TechGroup ?techGroup . \n",
    "       \n",
    "  FILTER (?riskGroup = pbn:PBN__RiskGroup_4) \n",
    "}\n",
    "GROUP BY ?techSubgroup\n",
    "ORDER BY DESC(?techCount)\n",
    "LIMIT 5\"\"\")\n",
    "A"
   ]
  },
  {
   "cell_type": "code",
   "execution_count": 17,
   "metadata": {},
   "outputs": [
    {
     "data": {
      "text/plain": [
       "[]"
      ]
     },
     "execution_count": 17,
     "metadata": {},
     "output_type": "execute_result"
    }
   ],
   "source": [
    "A = EX(\"\"\"PREFIX pbn: <https://github.com/mm80843/T3.5/raw/main/pbn_t3_5.owl#>\n",
    "\n",
    "SELECT ?riskGroup ?techGroup ?techSubgroup (COUNT(?technology) AS ?techCount)\n",
    "WHERE {\n",
    "\n",
    "  ?riskGroup a pbn:RiskGroup .\n",
    "  ?techSubgroup a pbn:TechSubgroup .\n",
    "  ?technology a pbn:Technology . \n",
    "  ?riskGroup a pbn:RiskGroup . \n",
    "  ?techGroup a pbn:TechGroup .\n",
    "\n",
    "  ?risk pbn:has_RiskGroup ?riskGroup .\n",
    "  ?risk pbn:has_RiskTechnology ?technology .\n",
    "  ?technology pbn:has_TechSubgroup ?techSubgroup . \n",
    "  ?technology pbn:has_TechGroup ?techGroup . \n",
    "       \n",
    "  FILTER (?riskGroup = pbn:PBN__RiskGroup_4) \n",
    "}\n",
    "GROUP BY ?techGroup\n",
    "ORDER BY DESC(?techCount)\n",
    "LIMIT 5\"\"\")\n",
    "A"
   ]
  },
  {
   "cell_type": "code",
   "execution_count": 18,
   "metadata": {},
   "outputs": [
    {
     "data": {
      "text/plain": [
       "[]"
      ]
     },
     "execution_count": 18,
     "metadata": {},
     "output_type": "execute_result"
    }
   ],
   "source": [
    "A = EX(\"\"\"PREFIX pbn: <https://github.com/mm80843/T3.5/raw/main/pbn_t3_5.owl#>\n",
    "\n",
    "SELECT ?riskGroup ?techGroup (COUNT(?technology) AS ?techCount)\n",
    "WHERE {\n",
    "\n",
    "  ?riskGroup a pbn:RiskGroup .\n",
    "  ?techGroup a pbn:TechGroup .\n",
    "  ?technology a pbn:Technology . \n",
    "  ?riskGroup a pbn:RiskGroup . \n",
    "\n",
    "  ?risk pbn:has_RiskGroup ?riskGroup .\n",
    "  ?risk pbn:has_RiskTechnology ?technology .\n",
    "  ?technology pbn:has_TechGroup ?techGroup . \n",
    "\n",
    "  FILTER (?riskGroup = pbn:PBN__RiskGroup_4) \n",
    "}\n",
    "GROUP BY ?techGroup\n",
    "ORDER BY DESC(?techCount)\n",
    "LIMIT 3\"\"\")\n",
    "A"
   ]
  }
 ],
 "metadata": {
  "kernelspec": {
   "display_name": "venv",
   "language": "python",
   "name": "python3"
  },
  "language_info": {
   "codemirror_mode": {
    "name": "ipython",
    "version": 3
   },
   "file_extension": ".py",
   "mimetype": "text/x-python",
   "name": "python",
   "nbconvert_exporter": "python",
   "pygments_lexer": "ipython3",
   "version": "3.10.12"
  },
  "vscode": {
   "interpreter": {
    "hash": "f79bc2406addd2c06911dc053b733d86c52c13481e10d53afee492d28d2db597"
   }
  }
 },
 "nbformat": 4,
 "nbformat_minor": 2
}
