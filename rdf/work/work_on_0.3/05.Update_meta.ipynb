{
 "cells": [
  {
   "cell_type": "code",
   "execution_count": 22,
   "metadata": {},
   "outputs": [
    {
     "name": "stdout",
     "output_type": "stream",
     "text": [
      "0.40\n",
      "The autoreload extension is already loaded. To reload it, use:\n",
      "  %reload_ext autoreload\n"
     ]
    }
   ],
   "source": [
    "import pandas as pd\n",
    "import os, glob\n",
    "\n",
    "from owlready2 import *\n",
    "import owlready2\n",
    "print(owlready2.VERSION)\n",
    "\n",
    "\n",
    "import importlib.util\n",
    "import sys\n",
    "spec = importlib.util.spec_from_file_location(\"rdfutils\", \"../../../utils/rdfutils.py\")\n",
    "u = importlib.util.module_from_spec(spec)\n",
    "sys.modules[\"rdfutils\"] = u\n",
    "spec.loader.exec_module(u)\n",
    "\n",
    "from datetime import datetime\n",
    "\n",
    "def NOW():\n",
    "    now = datetime.now()\n",
    "    current_time = now.strftime(\"%H:%M:%S\")\n",
    "    return \"Current Time = \"+ str(current_time)\n",
    "\n",
    "%load_ext autoreload\n",
    "%autoreload 2\n"
   ]
  },
  {
   "cell_type": "code",
   "execution_count": 23,
   "metadata": {},
   "outputs": [],
   "source": [
    "onto = get_ontology(\"WIP_w_SPARQL.owl\").load()"
   ]
  },
  {
   "cell_type": "code",
   "execution_count": 24,
   "metadata": {},
   "outputs": [
    {
     "name": "stdout",
     "output_type": "stream",
     "text": [
      "ID: 0 \t Author: Luc Jonveaux\n",
      "ID: 1 \t License: CC BY-NC-SA\n",
      "ID: 2 \t Language: English\n",
      "ID: 3 \t Project: PROBONO\n",
      "ID: 4 \t Task: T3.5\n",
      "ID: 5 \t Description: Creation of a knowledge graph based on a litterature review, augmented by use of LLMs.\n",
      "ID: 6 \t Changes from: 0.3\n",
      "ID: 7 \t Changes: Adding new risks, groups of items, and new relationships\n",
      "ID: 8 \t Next: Linking benefits to mitigations groups\n",
      "ID: 9 \t Next: Check formulas for selecting most repeated items in groups\n",
      "ID: 10 \t Repository: https://github.com/mm80843/T3.5/\n",
      "ID: 11 \t TODOs: Adding synonyms and solving classification with synonyms\n",
      "ID: 12 \t Creation: 22/01/2024\n",
      "ID: 13 \t Version: 0.4\n",
      "ID: 14 \t VersionComment: Grouping of items added in 0.4\n",
      "ID: 15 \t Library: owlready2==0.45\n"
     ]
    }
   ],
   "source": [
    "comments = u.checkComments(onto)[:16]"
   ]
  },
  {
   "cell_type": "code",
   "execution_count": 25,
   "metadata": {},
   "outputs": [
    {
     "data": {
      "text/plain": [
       "['Author: Luc Jonveaux',\n",
       " 'License: CC BY-NC-SA',\n",
       " 'Language: English',\n",
       " 'Project: PROBONO',\n",
       " 'Task: T3.5',\n",
       " 'Description: Creation of a knowledge graph based on a litterature review, augmented by use of LLMs.',\n",
       " 'Changes from: 0.3',\n",
       " 'Changes: Adding new risks, groups of items, and new relationships',\n",
       " 'Next: Linking benefits to mitigations groups',\n",
       " 'Next: Check formulas for selecting most repeated items in groups',\n",
       " 'Repository: https://github.com/mm80843/T3.5/',\n",
       " 'TODOs: Adding synonyms and solving classification with synonyms',\n",
       " 'Creation: 22/01/2024',\n",
       " 'Version: 0.4',\n",
       " 'VersionComment: Grouping of items added in 0.4',\n",
       " 'Library: owlready2==0.45']"
      ]
     },
     "execution_count": 25,
     "metadata": {},
     "output_type": "execute_result"
    }
   ],
   "source": [
    "comments[6]  = \"Changes from: 0.3\" \n",
    "comments[7]  = \"Changes: Adding new risks, groups of items, and new relationships\" \n",
    "comments[8]  = \"Next: Linking benefits to mitigations groups\" \n",
    "comments[9]  = \"Next: Check formulas for selecting most repeated items in groups\"\n",
    "comments[11] = \"TODOs: Adding synonyms and solving classification with synonyms\"\n",
    "comments[12] = \"Creation: 22/01/2024\"\n",
    "comments[13] = \"Version: 0.4\"\n",
    "comments[14] = \"VersionComment: Grouping of items added in 0.4\"\n",
    "comments"
   ]
  },
  {
   "cell_type": "code",
   "execution_count": 26,
   "metadata": {},
   "outputs": [],
   "source": [
    "onto.metadata.comment = []\n",
    "onto.metadata.comment  = comments"
   ]
  },
  {
   "cell_type": "code",
   "execution_count": 27,
   "metadata": {},
   "outputs": [
    {
     "data": {
      "text/plain": [
       "['Author: Luc Jonveaux',\n",
       " 'License: CC BY-NC-SA',\n",
       " 'Language: English',\n",
       " 'Project: PROBONO',\n",
       " 'Task: T3.5',\n",
       " 'Description: Creation of a knowledge graph based on a litterature review, augmented by use of LLMs.',\n",
       " 'Changes from: 0.3',\n",
       " 'Changes: Adding new risks, groups of items, and new relationships',\n",
       " 'Next: Linking benefits to mitigations groups',\n",
       " 'Next: Check formulas for selecting most repeated items in groups',\n",
       " 'Repository: https://github.com/mm80843/T3.5/',\n",
       " 'TODOs: Adding synonyms and solving classification with synonyms',\n",
       " 'Creation: 22/01/2024',\n",
       " 'Version: 0.4',\n",
       " 'VersionComment: Grouping of items added in 0.4',\n",
       " 'Library: owlready2==0.45']"
      ]
     },
     "execution_count": 27,
     "metadata": {},
     "output_type": "execute_result"
    }
   ],
   "source": [
    "onto.metadata.comment"
   ]
  },
  {
   "cell_type": "code",
   "execution_count": 28,
   "metadata": {},
   "outputs": [],
   "source": [
    "onto.save(\"WIP_w_SPARQL.owl\")"
   ]
  }
 ],
 "metadata": {
  "kernelspec": {
   "display_name": "venv",
   "language": "python",
   "name": "python3"
  },
  "language_info": {
   "codemirror_mode": {
    "name": "ipython",
    "version": 3
   },
   "file_extension": ".py",
   "mimetype": "text/x-python",
   "name": "python",
   "nbconvert_exporter": "python",
   "pygments_lexer": "ipython3",
   "version": "3.10.12"
  },
  "orig_nbformat": 4,
  "vscode": {
   "interpreter": {
    "hash": "f79bc2406addd2c06911dc053b733d86c52c13481e10d53afee492d28d2db597"
   }
  }
 },
 "nbformat": 4,
 "nbformat_minor": 2
}
