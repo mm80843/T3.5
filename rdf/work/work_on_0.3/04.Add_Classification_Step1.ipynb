{
 "cells": [
  {
   "cell_type": "code",
   "execution_count": 1,
   "metadata": {},
   "outputs": [
    {
     "name": "stdout",
     "output_type": "stream",
     "text": [
      "0.40\n"
     ]
    },
    {
     "name": "stderr",
     "output_type": "stream",
     "text": [
      "* Owlready2 * Warning: optimized Cython parser module 'owlready2_optimized' is not available, defaulting to slower Python implementation\n"
     ]
    }
   ],
   "source": [
    "import pandas as pd\n",
    "import os, glob\n",
    "\n",
    "from owlready2 import *\n",
    "import owlready2\n",
    "print(owlready2.VERSION)\n",
    "\n",
    "\n",
    "import importlib.util\n",
    "import sys\n",
    "spec = importlib.util.spec_from_file_location(\"rdfutils\", \"../../../utils/rdfutils.py\")\n",
    "u = importlib.util.module_from_spec(spec)\n",
    "sys.modules[\"rdfutils\"] = u\n",
    "spec.loader.exec_module(u)\n",
    "\n",
    "from datetime import datetime\n",
    "\n",
    "def NOW():\n",
    "    now = datetime.now()\n",
    "    current_time = now.strftime(\"%H:%M:%S\")\n",
    "    return \"Current Time = \"+ str(current_time)\n",
    "\n",
    "%load_ext autoreload\n",
    "%autoreload 2\n"
   ]
  },
  {
   "cell_type": "code",
   "execution_count": 2,
   "metadata": {},
   "outputs": [],
   "source": [
    "onto = get_ontology(\"WIP_377.owl\").load()\n",
    "dIDct = u.createDict(onto) "
   ]
  },
  {
   "cell_type": "code",
   "execution_count": 3,
   "metadata": {},
   "outputs": [
    {
     "name": "stdout",
     "output_type": "stream",
     "text": [
      "\n",
      "# Overview\n",
      "\n",
      "*  _PBNThing_  --  87289 instances.\n",
      "*  _BenefReturn_  --  1606 instances.\n",
      "*  _Benef_  --  1409 instances.\n",
      "*  _Article_  --  377 instances.\n",
      "*  _Risk_  --  21170 instances.\n",
      "*  _ISO_Scale_  --  5 instances.\n",
      "*  _RiskHealth_  --  14 instances.\n",
      "*  _RiskType_  --  22 instances.\n",
      "*  _Stakeholder_  --  16026 instances.\n",
      "*  _Stakeholder_Type_  --  3 instances.\n",
      "*  _Technology_  --  23103 instances.\n",
      "*  _ISO_Impact_  --  24 instances.\n",
      "*  _ISO_Purpose_  --  18 instances.\n",
      "*  _Mitigation_  --  22997 instances.\n",
      "*  _BP_Enabler_  --  33 instances.\n",
      "*  _BP_Transmission_  --  12 instances.\n",
      "*  _Blueprint_  --  74 instances.\n",
      "*  _BP_Scale_  --  3 instances.\n",
      "*  _BP_Phase_  --  4 instances.\n",
      "*  _BP_Permanent_  --  4 instances.\n",
      "*  _BP_Type_  --  2 instances.\n",
      "*  _BP_Intervention_  --  40 instances.\n",
      "*  _PBNCategory_  --  330 instances.\n",
      "*  _BP_Theme_  --  10 instances.\n",
      "*  _BP_Category_  --  3 instances.\n",
      "*  _aBlueprint_  --  50 instances.\n"
     ]
    }
   ],
   "source": [
    "u.cOnto(onto)"
   ]
  },
  {
   "cell_type": "markdown",
   "metadata": {},
   "source": [
    "# Adding the classification to the RDF"
   ]
  },
  {
   "cell_type": "code",
   "execution_count": 4,
   "metadata": {},
   "outputs": [],
   "source": [
    "with onto:\n",
    "    class has_for_synonym(onto.PBNThing >> str):\n",
    "        label = [\"synonyms for this element\"]\n",
    "        pass\n",
    "\n",
    "    class StakeholderGroup(onto.PBNThing):\n",
    "        pass\n",
    "    class StakeholderSubgroup(onto.PBNThing):\n",
    "        pass\n",
    "    class has_GroupStakeholder( StakeholderGroup >> onto.Stakeholder):\n",
    "        label = [\"Stakeholders in this stakeholder group\"]\n",
    "        pass\n",
    "    class has_SubgroupStakeholder( StakeholderSubgroup >> onto.Stakeholder):\n",
    "        label = [\"Stakeholders in this stakeholder subgroup\"]\n",
    "        pass  \n",
    "    class has_StakeholderGroup( onto.Stakeholder >> StakeholderGroup):\n",
    "        inverse_property = has_GroupStakeholder\n",
    "        label = [\"This Stakeholder belongs to this Stakeholder Group\"]\n",
    "        pass\n",
    "    class has_StakeholderSubgroup( onto.Stakeholder >> StakeholderSubgroup):\n",
    "        inverse_property = has_SubgroupStakeholder\n",
    "        label = [\"This Stakeholder belongs to this Stakeholder Subgroup\"]\n",
    "        pass    \n",
    "\n",
    "    class TechGroup(onto.PBNThing):\n",
    "        pass\n",
    "    class TechSubgroup(onto.PBNThing):\n",
    "        pass\n",
    "    class has_GroupTech(TechGroup >> onto.Technology):\n",
    "        label = [\"Technology in the TechnologyGroup\"]\n",
    "        pass\n",
    "    class has_SubgroupTech(TechSubgroup >> onto.Technology):\n",
    "        label = [\"This Technology belongs to this TechnologySubgroup\"]\n",
    "        pass \n",
    "    class has_TechGroup(onto.Technology >> TechGroup):\n",
    "        inverse_property = has_GroupTech\n",
    "        label = [\"This Technology belongs to this TechGroup\"]\n",
    "        pass\n",
    "    class has_TechSubgroup(onto.Technology >> TechSubgroup):\n",
    "        inverse_property = has_SubgroupTech\n",
    "        label = [\"This Technology belongs to this TechSubgroup\"]\n",
    "        pass \n",
    "\n",
    "\n",
    "    class RiskGroup(onto.PBNThing):\n",
    "        pass\n",
    "    class RiskSubgroup(onto.PBNThing):\n",
    "        pass\n",
    "    class has_GroupRisk(RiskGroup >> onto.Risk):\n",
    "        label = [\"Risk in the RiskGroup\"]\n",
    "        pass\n",
    "    class has_SubgroupRisk(RiskSubgroup >> onto.Risk):\n",
    "        label = [\"Risks in this RiskSubgroup\"]\n",
    "        pass \n",
    "    class has_RiskGroup(onto.Risk >> RiskGroup):\n",
    "        inverse_property = has_GroupRisk\n",
    "        label = [\"This Risk belongs to this RiskGroup\"]\n",
    "        pass\n",
    "    class has_RiskSubgroup(onto.Risk >> RiskSubgroup):\n",
    "        inverse_property = has_SubgroupRisk\n",
    "        label = [\"This Risk belongs to this RiskSubgroup\"]\n",
    "        pass \n",
    "\n",
    "    class has_MitigIntervention(onto.Mitigation >> onto.BP_Intervention):\n",
    "        label = [\"Main intervention linked to the Mitigation\"]\n",
    "        pass\n",
    "    class has_InterventionMitig(onto.BP_Intervention >> onto.Mitigation):\n",
    "        inverse_property = has_MitigIntervention\n",
    "        label = [\"Mitigations linked to this intervention\"]\n",
    "        pass\n"
   ]
  },
  {
   "cell_type": "code",
   "execution_count": 5,
   "metadata": {},
   "outputs": [],
   "source": [
    "df = pd.read_parquet(\"../../support/newstakeholders_classified_lv1.parquet.gzip\")\n",
    "for ix, row in df.iterrows():\n",
    "    newSH =  u.addItem(\"Stakeholder\", row[\"name\"], dIDct, onto )\n",
    "    if row[\"category\"]:\n",
    "        newGroup =  u.addItem(\"StakeholderGroup\", row[\"category\"], dIDct, onto )\n",
    "        newSH.has_StakeholderGroup.append(newGroup)\n",
    "        newSH.has_StakeholderGroup = list(set(newSH.has_StakeholderGroup))\n",
    "    if row[\"subcategory\"]:    \n",
    "        newGroup =  u.addItem(\"StakeholderSubgroup\", row[\"subcategory\"], dIDct, onto )\n",
    "        newSH.has_StakeholderSubgroup.append(newGroup)\n",
    "        newSH.has_StakeholderSubgroup = list(set(newSH.has_StakeholderSubgroup))\n",
    "# 2mins of processing"
   ]
  },
  {
   "cell_type": "markdown",
   "metadata": {},
   "source": [
    "## Adding technology classification"
   ]
  },
  {
   "cell_type": "code",
   "execution_count": 6,
   "metadata": {},
   "outputs": [
    {
     "data": {
      "text/html": [
       "<div>\n",
       "<style scoped>\n",
       "    .dataframe tbody tr th:only-of-type {\n",
       "        vertical-align: middle;\n",
       "    }\n",
       "\n",
       "    .dataframe tbody tr th {\n",
       "        vertical-align: top;\n",
       "    }\n",
       "\n",
       "    .dataframe thead th {\n",
       "        text-align: right;\n",
       "    }\n",
       "</style>\n",
       "<table border=\"1\" class=\"dataframe\">\n",
       "  <thead>\n",
       "    <tr style=\"text-align: right;\">\n",
       "      <th></th>\n",
       "      <th>name</th>\n",
       "      <th>category</th>\n",
       "      <th>confidence</th>\n",
       "      <th>co```nfidence</th>\n",
       "      <th>&amp;confidence</th>\n",
       "      <th>subcategory</th>\n",
       "      <th>confidence_lv2</th>\n",
       "    </tr>\n",
       "  </thead>\n",
       "  <tbody>\n",
       "    <tr>\n",
       "      <th>0</th>\n",
       "      <td>Nan</td>\n",
       "      <td>Privacy Enhancing Technologies</td>\n",
       "      <td>Low</td>\n",
       "      <td>None</td>\n",
       "      <td>None</td>\n",
       "      <td>Encryption and authentication</td>\n",
       "      <td>Low</td>\n",
       "    </tr>\n",
       "    <tr>\n",
       "      <th>1</th>\n",
       "      <td>Floor markings</td>\n",
       "      <td>Urban Planning</td>\n",
       "      <td>Medium-high</td>\n",
       "      <td>None</td>\n",
       "      <td>None</td>\n",
       "      <td>Spatial Planning and Layout Tools</td>\n",
       "      <td>High</td>\n",
       "    </tr>\n",
       "    <tr>\n",
       "      <th>2</th>\n",
       "      <td>Hvac systems</td>\n",
       "      <td>Healthcare</td>\n",
       "      <td>Medium-high</td>\n",
       "      <td>None</td>\n",
       "      <td>None</td>\n",
       "      <td>Ventilation and air quality systems</td>\n",
       "      <td>High</td>\n",
       "    </tr>\n",
       "  </tbody>\n",
       "</table>\n",
       "</div>"
      ],
      "text/plain": [
       "             name                        category   confidence co```nfidence  \\\n",
       "0             Nan  Privacy Enhancing Technologies          Low          None   \n",
       "1  Floor markings                  Urban Planning  Medium-high          None   \n",
       "2    Hvac systems                      Healthcare  Medium-high          None   \n",
       "\n",
       "  &confidence                          subcategory confidence_lv2  \n",
       "0        None        Encryption and authentication            Low  \n",
       "1        None    Spatial Planning and Layout Tools           High  \n",
       "2        None  Ventilation and air quality systems           High  "
      ]
     },
     "execution_count": 6,
     "metadata": {},
     "output_type": "execute_result"
    }
   ],
   "source": [
    "df = pd.read_parquet(\"../../support/newtechs_classified_lv1.parquet.gzip\")\n",
    "df.head(3)"
   ]
  },
  {
   "cell_type": "code",
   "execution_count": 7,
   "metadata": {},
   "outputs": [],
   "source": [
    "for ix, row in df.iterrows():\n",
    "    newTech =  u.addItem(\"Technology\", row[\"name\"], dIDct, onto )\n",
    "    if row[\"category\"]:\n",
    "        newGroup =  u.addItem(\"TechGroup\", row[\"category\"], dIDct, onto )\n",
    "        newTech.has_TechGroup.append(newGroup)\n",
    "        newTech.has_TechGroup = list(set(newTech.has_TechGroup))\n",
    "    if row[\"subcategory\"]:    \n",
    "        newGroup =  u.addItem(\"TechSubgroup\", row[\"subcategory\"], dIDct, onto )\n",
    "        newTech.has_TechSubgroup.append(newGroup)\n",
    "        newTech.has_TechSubgroup = list(set(newTech.has_TechSubgroup))\n",
    "#4mins with the max() method\n",
    "# 23s with the len() method to add elements"
   ]
  },
  {
   "cell_type": "markdown",
   "metadata": {},
   "source": [
    "## Adding Risks"
   ]
  },
  {
   "cell_type": "code",
   "execution_count": 8,
   "metadata": {},
   "outputs": [],
   "source": [
    "df = pd.read_parquet(\"../../support/newrisks_classified_lv1.parquet.gzip\")\n",
    "df.head()\n",
    "for ix, row in df.iterrows():\n",
    "    newRisk =  u.addItem(\"Risk\", row[\"name\"], dIDct, onto )\n",
    "    if row[\"category\"]:\n",
    "        newGroup =  u.addItem(\"RiskGroup\", row[\"category\"], dIDct, onto )\n",
    "        newRisk.has_RiskGroup.append(newGroup)\n",
    "        newRisk.has_RiskGroup = list(set(newRisk.has_RiskGroup))\n",
    "    if row[\"subcategory\"]:    \n",
    "        newGroup =  u.addItem(\"RiskSubgroup\", row[\"subcategory\"], dIDct, onto )\n",
    "        newRisk.has_RiskSubgroup.append(newGroup)\n",
    "        newRisk.has_RiskSubgroup = list(set(newRisk.has_RiskSubgroup))\n"
   ]
  },
  {
   "cell_type": "markdown",
   "metadata": {},
   "source": [
    "## Adding stakeholders"
   ]
  },
  {
   "cell_type": "code",
   "execution_count": 9,
   "metadata": {},
   "outputs": [],
   "source": [
    "df = pd.read_parquet(\"../../support/newstakeholders_classified_lv1.parquet.gzip\")\n",
    "for ix, row in df.iterrows():\n",
    "    newSH =  u.addItem(\"Stakeholder\", row[\"name\"], dIDct, onto )\n",
    "    if row[\"category\"]:\n",
    "        newGroup =  u.addItem(\"StakeholderGroup\", row[\"category\"], dIDct, onto )\n",
    "        newSH.has_StakeholderGroup.append(newGroup)\n",
    "        newSH.has_StakeholderGroup = list(set(newSH.has_StakeholderGroup))\n",
    "    if row[\"subcategory\"]:    \n",
    "        newGroup =  u.addItem(\"StakeholderSubgroup\", row[\"subcategory\"], dIDct, onto )\n",
    "        newSH.has_StakeholderSubgroup.append(newGroup)\n",
    "        newSH.has_StakeholderSubgroup = list(set(newSH.has_StakeholderSubgroup))\n"
   ]
  },
  {
   "cell_type": "markdown",
   "metadata": {},
   "source": [
    "## Adding mitigations"
   ]
  },
  {
   "cell_type": "code",
   "execution_count": 10,
   "metadata": {},
   "outputs": [],
   "source": [
    "import pandas as pd"
   ]
  },
  {
   "cell_type": "code",
   "execution_count": 11,
   "metadata": {},
   "outputs": [],
   "source": [
    "df = pd.read_parquet(\"../../support/newmitigation_classified_lv1.parquet.gzip\")\n",
    "df = df.dropna(how=\"all\",axis=1)\n",
    "df\n",
    "for ix, row in df.iterrows():\n",
    "    mitig =  u.addItem(\"Mitigation\", row[\"name\"], dIDct, onto )\n",
    "    interv = u.addItem(\"BP_Intervention\", row[\"category\"], dIDct, onto )\n",
    "    interv.has_InterventionMitig.append(mitig)\n",
    "    interv.has_InterventionMitig = list(set(interv.has_InterventionMitig))"
   ]
  },
  {
   "cell_type": "markdown",
   "metadata": {},
   "source": [
    "# Adding CAO"
   ]
  },
  {
   "cell_type": "code",
   "execution_count": 12,
   "metadata": {},
   "outputs": [],
   "source": [
    "with onto:\n",
    "    class CAO_Group(onto.PBNThing):\n",
    "        pass\n",
    "    class CAO_Subgroup(onto.PBNThing):\n",
    "        pass\n",
    "    class has_categoryCAORisk(CAO_Group >> onto.Risk):\n",
    "        label = [\"Risks in the this CAO category\"]\n",
    "        pass\n",
    "    class has_SubcategoryCAORisk(CAO_Subgroup >> onto.Risk):\n",
    "        label = [\"Risks in the this CAO subcategory\"]\n",
    "        pass \n",
    "    class has_RiskCAOGroup(onto.Risk >> CAO_Group):\n",
    "        inverse_property = has_categoryCAORisk\n",
    "        label = [\"This Risk belongs to this CAO group\"]\n",
    "        pass\n",
    "    class has_RiskCAOSubgroup(onto.Risk >> CAO_Subgroup):\n",
    "        inverse_property = has_SubcategoryCAORisk\n",
    "        label = [\"This Risk belongs to this CAO subgroup\"]\n",
    "        pass "
   ]
  },
  {
   "cell_type": "code",
   "execution_count": 13,
   "metadata": {},
   "outputs": [
    {
     "data": {
      "text/html": [
       "<div>\n",
       "<style scoped>\n",
       "    .dataframe tbody tr th:only-of-type {\n",
       "        vertical-align: middle;\n",
       "    }\n",
       "\n",
       "    .dataframe tbody tr th {\n",
       "        vertical-align: top;\n",
       "    }\n",
       "\n",
       "    .dataframe thead th {\n",
       "        text-align: right;\n",
       "    }\n",
       "</style>\n",
       "<table border=\"1\" class=\"dataframe\">\n",
       "  <thead>\n",
       "    <tr style=\"text-align: right;\">\n",
       "      <th></th>\n",
       "      <th>name</th>\n",
       "      <th>category</th>\n",
       "      <th>confidence</th>\n",
       "      <th>subcategory</th>\n",
       "      <th>confidence_lv2</th>\n",
       "      <th>confidence</th>\n",
       "    </tr>\n",
       "  </thead>\n",
       "  <tbody>\n",
       "    <tr>\n",
       "      <th>0</th>\n",
       "      <td>Spread of sars-cov-2 virus</td>\n",
       "      <td>Structure</td>\n",
       "      <td>Medium-high</td>\n",
       "      <td>Settlement</td>\n",
       "      <td>Medium</td>\n",
       "      <td>None</td>\n",
       "    </tr>\n",
       "    <tr>\n",
       "      <th>1</th>\n",
       "      <td>Rapid spread of sars-cov-2 virus</td>\n",
       "      <td>Structure</td>\n",
       "      <td>Medium-high</td>\n",
       "      <td>Settlement</td>\n",
       "      <td>Medium</td>\n",
       "      <td>None</td>\n",
       "    </tr>\n",
       "    <tr>\n",
       "      <th>2</th>\n",
       "      <td>Spread of sars-cov-2 infection</td>\n",
       "      <td>Structure</td>\n",
       "      <td>Medium-high</td>\n",
       "      <td>Settlement</td>\n",
       "      <td>Medium</td>\n",
       "      <td>None</td>\n",
       "    </tr>\n",
       "    <tr>\n",
       "      <th>3</th>\n",
       "      <td>Spread of sars-cov-2</td>\n",
       "      <td>Structure</td>\n",
       "      <td>Medium-high</td>\n",
       "      <td>Settlement</td>\n",
       "      <td>Medium</td>\n",
       "      <td>None</td>\n",
       "    </tr>\n",
       "    <tr>\n",
       "      <th>4</th>\n",
       "      <td>Spread of sars-cov-2 in hospitals</td>\n",
       "      <td>Structure</td>\n",
       "      <td>Medium-high</td>\n",
       "      <td>Settlement</td>\n",
       "      <td>Medium</td>\n",
       "      <td>None</td>\n",
       "    </tr>\n",
       "    <tr>\n",
       "      <th>...</th>\n",
       "      <td>...</td>\n",
       "      <td>...</td>\n",
       "      <td>...</td>\n",
       "      <td>...</td>\n",
       "      <td>...</td>\n",
       "      <td>...</td>\n",
       "    </tr>\n",
       "    <tr>\n",
       "      <th>19195</th>\n",
       "      <td>Regulaci\\u00f3n del teletrabajo a nivel mundial</td>\n",
       "      <td>Society</td>\n",
       "      <td>Medium</td>\n",
       "      <td>Laws&amp;Regulations</td>\n",
       "      <td>High</td>\n",
       "      <td>None</td>\n",
       "    </tr>\n",
       "    <tr>\n",
       "      <th>19196</th>\n",
       "      <td>Propagaci\\u00f3n acelerada del virus debido a ...</td>\n",
       "      <td>Society</td>\n",
       "      <td>Medium</td>\n",
       "      <td>Health</td>\n",
       "      <td>High</td>\n",
       "      <td>None</td>\n",
       "    </tr>\n",
       "    <tr>\n",
       "      <th>19197</th>\n",
       "      <td>Transmisi\\u00f3n de persona a persona del viru...</td>\n",
       "      <td>Interactions</td>\n",
       "      <td>High</td>\n",
       "      <td>Health</td>\n",
       "      <td>High</td>\n",
       "      <td>None</td>\n",
       "    </tr>\n",
       "    <tr>\n",
       "      <th>19198</th>\n",
       "      <td>El virus sars-cov-2 afecta a una amplia gama d...</td>\n",
       "      <td>Society</td>\n",
       "      <td>High</td>\n",
       "      <td>Biodiversity</td>\n",
       "      <td>High</td>\n",
       "      <td>None</td>\n",
       "    </tr>\n",
       "    <tr>\n",
       "      <th>19199</th>\n",
       "      <td>High probability of individuals having a body ...</td>\n",
       "      <td>Structure</td>\n",
       "      <td>Medium</td>\n",
       "      <td>None</td>\n",
       "      <td>None</td>\n",
       "      <td>None</td>\n",
       "    </tr>\n",
       "  </tbody>\n",
       "</table>\n",
       "<p>19200 rows × 6 columns</p>\n",
       "</div>"
      ],
      "text/plain": [
       "                                                    name      category  \\\n",
       "0                             Spread of sars-cov-2 virus     Structure   \n",
       "1                       Rapid spread of sars-cov-2 virus     Structure   \n",
       "2                         Spread of sars-cov-2 infection     Structure   \n",
       "3                                   Spread of sars-cov-2     Structure   \n",
       "4                      Spread of sars-cov-2 in hospitals     Structure   \n",
       "...                                                  ...           ...   \n",
       "19195    Regulaci\\u00f3n del teletrabajo a nivel mundial       Society   \n",
       "19196  Propagaci\\u00f3n acelerada del virus debido a ...       Society   \n",
       "19197  Transmisi\\u00f3n de persona a persona del viru...  Interactions   \n",
       "19198  El virus sars-cov-2 afecta a una amplia gama d...       Society   \n",
       "19199  High probability of individuals having a body ...     Structure   \n",
       "\n",
       "        confidence       subcategory confidence_lv2 confidence   \n",
       "0      Medium-high        Settlement         Medium        None  \n",
       "1      Medium-high        Settlement         Medium        None  \n",
       "2      Medium-high        Settlement         Medium        None  \n",
       "3      Medium-high        Settlement         Medium        None  \n",
       "4      Medium-high        Settlement         Medium        None  \n",
       "...            ...               ...            ...         ...  \n",
       "19195       Medium  Laws&Regulations           High        None  \n",
       "19196       Medium            Health           High        None  \n",
       "19197         High            Health           High        None  \n",
       "19198         High      Biodiversity           High        None  \n",
       "19199       Medium              None           None        None  \n",
       "\n",
       "[19200 rows x 6 columns]"
      ]
     },
     "execution_count": 13,
     "metadata": {},
     "output_type": "execute_result"
    }
   ],
   "source": [
    "import pandas as pd\n",
    "df = pd.read_parquet(\"../../support/newCAO_classified_lv1.parquet.gzip\")\n",
    "df"
   ]
  },
  {
   "cell_type": "code",
   "execution_count": 14,
   "metadata": {},
   "outputs": [],
   "source": [
    "df = pd.read_parquet(\"../../support/newCAO_classified_lv1.parquet.gzip\")\n",
    "for ix, row in df.iterrows():\n",
    "    newRisk =  u.addItem(\"Risk\", row[\"name\"], dIDct, onto )\n",
    "    if row[\"category\"]:\n",
    "        newCAO =  u.addItem(\"CAO_Group\", row[\"category\"], dIDct, onto )\n",
    "        newRisk.has_RiskCAOGroup.append(newCAO)\n",
    "        newRisk.has_RiskCAOGroup = list(set(newRisk.has_RiskCAOGroup))\n",
    "    if row[\"subcategory\"]:    \n",
    "        newCAO =  u.addItem(\"CAO_Subgroup\", row[\"subcategory\"], dIDct, onto )\n",
    "        newRisk.has_RiskCAOSubgroup.append(newCAO)\n",
    "        newRisk.has_RiskCAOSubgroup = list(set(newRisk.has_RiskCAOSubgroup))\n"
   ]
  },
  {
   "cell_type": "code",
   "execution_count": 15,
   "metadata": {},
   "outputs": [
    {
     "data": {
      "text/html": [
       "<div>\n",
       "<style scoped>\n",
       "    .dataframe tbody tr th:only-of-type {\n",
       "        vertical-align: middle;\n",
       "    }\n",
       "\n",
       "    .dataframe tbody tr th {\n",
       "        vertical-align: top;\n",
       "    }\n",
       "\n",
       "    .dataframe thead th {\n",
       "        text-align: right;\n",
       "    }\n",
       "</style>\n",
       "<table border=\"1\" class=\"dataframe\">\n",
       "  <thead>\n",
       "    <tr style=\"text-align: right;\">\n",
       "      <th></th>\n",
       "      <th>name</th>\n",
       "      <th>category</th>\n",
       "      <th>confidence</th>\n",
       "      <th>subcategory</th>\n",
       "      <th>confidence_lv2</th>\n",
       "      <th>confidence</th>\n",
       "    </tr>\n",
       "  </thead>\n",
       "  <tbody>\n",
       "    <tr>\n",
       "      <th>3553</th>\n",
       "      <td>Use of wastewater samples for early detection ...</td>\n",
       "      <td>Interactions</td>\n",
       "      <td>Medium-high</td>\n",
       "      <td>Health</td>\n",
       "      <td>Medium</td>\n",
       "      <td>None</td>\n",
       "    </tr>\n",
       "    <tr>\n",
       "      <th>13405</th>\n",
       "      <td>Use of wastewater to detect pathogenic organis...</td>\n",
       "      <td>Interactions</td>\n",
       "      <td>High</td>\n",
       "      <td>Health</td>\n",
       "      <td>High</td>\n",
       "      <td>None</td>\n",
       "    </tr>\n",
       "    <tr>\n",
       "      <th>16396</th>\n",
       "      <td>Use of wastewater \\n’analysis’ for monitoring ...</td>\n",
       "      <td>Interactions</td>\n",
       "      <td>High</td>\n",
       "      <td>Health</td>\n",
       "      <td>Medium-high</td>\n",
       "      <td>None</td>\n",
       "    </tr>\n",
       "  </tbody>\n",
       "</table>\n",
       "</div>"
      ],
      "text/plain": [
       "                                                    name      category  \\\n",
       "3553   Use of wastewater samples for early detection ...  Interactions   \n",
       "13405  Use of wastewater to detect pathogenic organis...  Interactions   \n",
       "16396  Use of wastewater \\n’analysis’ for monitoring ...  Interactions   \n",
       "\n",
       "        confidence subcategory confidence_lv2 confidence   \n",
       "3553   Medium-high      Health         Medium        None  \n",
       "13405         High      Health           High        None  \n",
       "16396         High      Health    Medium-high        None  "
      ]
     },
     "execution_count": 15,
     "metadata": {},
     "output_type": "execute_result"
    }
   ],
   "source": [
    "df[df.name.str.contains(\"Use of wastewater\")]"
   ]
  },
  {
   "cell_type": "code",
   "execution_count": 16,
   "metadata": {},
   "outputs": [
    {
     "data": {
      "text/plain": [
       "['WIP_377.StakeholderSubgroup',\n",
       " 'WIP_377.TechSubgroup',\n",
       " 'WIP_377.RiskSubgroup',\n",
       " 'WIP_377.CAO_Subgroup']"
      ]
     },
     "execution_count": 16,
     "metadata": {},
     "output_type": "execute_result"
    }
   ],
   "source": [
    "[str(x) for x in onto.classes() if \"Subgroup\" in str(x)]"
   ]
  },
  {
   "cell_type": "code",
   "execution_count": 17,
   "metadata": {},
   "outputs": [
    {
     "name": "stdout",
     "output_type": "stream",
     "text": [
      "\n",
      "# Overview\n",
      "\n",
      "*  _PBNThing_  --  87922 instances.\n",
      "*  _BenefReturn_  --  1606 instances.\n",
      "*  _Benef_  --  1409 instances.\n",
      "*  _Article_  --  377 instances.\n",
      "*  _Risk_  --  21170 instances.\n",
      "*  _ISO_Scale_  --  5 instances.\n",
      "*  _RiskHealth_  --  14 instances.\n",
      "*  _RiskType_  --  22 instances.\n",
      "*  _Stakeholder_  --  16131 instances.\n",
      "*  _Stakeholder_Type_  --  3 instances.\n",
      "*  _Technology_  --  23145 instances.\n",
      "*  _ISO_Impact_  --  24 instances.\n",
      "*  _ISO_Purpose_  --  18 instances.\n",
      "*  _Mitigation_  --  22997 instances.\n",
      "*  _BP_Enabler_  --  33 instances.\n",
      "*  _BP_Transmission_  --  12 instances.\n",
      "*  _Blueprint_  --  74 instances.\n",
      "*  _BP_Scale_  --  3 instances.\n",
      "*  _BP_Phase_  --  4 instances.\n",
      "*  _BP_Permanent_  --  4 instances.\n",
      "*  _BP_Type_  --  2 instances.\n",
      "*  _BP_Intervention_  --  46 instances.\n",
      "*  _PBNCategory_  --  330 instances.\n",
      "*  _BP_Theme_  --  10 instances.\n",
      "*  _BP_Category_  --  3 instances.\n",
      "*  _aBlueprint_  --  50 instances.\n",
      "*  _StakeholderGroup_  --  18 instances.\n",
      "*  _StakeholderSubgroup_  --  169 instances.\n",
      "*  _TechGroup_  --  15 instances.\n",
      "*  _TechSubgroup_  --  127 instances.\n",
      "*  _RiskGroup_  --  9 instances.\n",
      "*  _RiskSubgroup_  --  91 instances.\n",
      "*  _CAO_Group_  --  3 instances.\n",
      "*  _CAO_Subgroup_  --  48 instances.\n"
     ]
    }
   ],
   "source": [
    "u.cOnto(onto)"
   ]
  },
  {
   "cell_type": "code",
   "execution_count": 18,
   "metadata": {},
   "outputs": [],
   "source": [
    "onto.save(\"WIP_Step1.owl\")"
   ]
  },
  {
   "cell_type": "code",
   "execution_count": 19,
   "metadata": {},
   "outputs": [
    {
     "name": "stdout",
     "output_type": "stream",
     "text": [
      "DONE\n"
     ]
    }
   ],
   "source": [
    "print(\"DONE\")"
   ]
  }
 ],
 "metadata": {
  "kernelspec": {
   "display_name": "venv",
   "language": "python",
   "name": "python3"
  },
  "language_info": {
   "codemirror_mode": {
    "name": "ipython",
    "version": 3
   },
   "file_extension": ".py",
   "mimetype": "text/x-python",
   "name": "python",
   "nbconvert_exporter": "python",
   "pygments_lexer": "ipython3",
   "version": "3.10.12"
  },
  "vscode": {
   "interpreter": {
    "hash": "f79bc2406addd2c06911dc053b733d86c52c13481e10d53afee492d28d2db597"
   }
  }
 },
 "nbformat": 4,
 "nbformat_minor": 2
}
