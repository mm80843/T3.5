{
 "cells": [
  {
   "cell_type": "code",
   "execution_count": 1,
   "metadata": {},
   "outputs": [
    {
     "name": "stderr",
     "output_type": "stream",
     "text": [
      "* Owlready2 * Warning: optimized Cython parser module 'owlready2_optimized' is not available, defaulting to slower Python implementation\n"
     ]
    },
    {
     "name": "stdout",
     "output_type": "stream",
     "text": [
      "0.40\n"
     ]
    }
   ],
   "source": [
    "import pandas as pd\n",
    "import os, glob\n",
    "\n",
    "from owlready2 import *\n",
    "import owlready2\n",
    "print(owlready2.VERSION)\n",
    "\n",
    "\n",
    "import importlib.util\n",
    "import sys\n",
    "spec = importlib.util.spec_from_file_location(\"rdfutils\", \"../../../utils/rdfutils.py\")\n",
    "u = importlib.util.module_from_spec(spec)\n",
    "sys.modules[\"rdfutils\"] = u\n",
    "spec.loader.exec_module(u)\n",
    "\n",
    "from datetime import datetime\n",
    "\n",
    "def NOW():\n",
    "    now = datetime.now()\n",
    "    current_time = now.strftime(\"%H:%M:%S\")\n",
    "    return \"Current Time = \"+ str(current_time)\n",
    "\n",
    "%load_ext autoreload\n",
    "%autoreload 2\n"
   ]
  },
  {
   "cell_type": "code",
   "execution_count": 4,
   "metadata": {},
   "outputs": [],
   "source": [
    "from dotenv import load_dotenv\n",
    "load_dotenv('.env')\n",
    "import json, requests\n",
    "import importlib.util\n",
    "import sys\n",
    "\n",
    "spec = importlib.util.spec_from_file_location(\"llm\", \"../../../utils/llm.py\")\n",
    "h = importlib.util.module_from_spec(spec)\n",
    "sys.modules[\"llm\"] = h\n",
    "spec.loader.exec_module(h)\n",
    "\n",
    "URL = os.getenv(\"KG_URL_FCT\")\n",
    "TOK3N = os.getenv(\"KG_TOKEN\")"
   ]
  },
  {
   "cell_type": "code",
   "execution_count": 2,
   "metadata": {},
   "outputs": [
    {
     "name": "stdout",
     "output_type": "stream",
     "text": [
      "PBNThing\n",
      "BenefReturn\n",
      "Benef\n",
      "Article\n",
      "Risk\n",
      "ISO_Scale\n",
      "RiskHealth\n",
      "RiskType\n",
      "Stakeholder\n",
      "Stakeholder_Type\n",
      "Technology\n",
      "ISO_Impact\n",
      "ISO_Purpose\n",
      "StakeholderGroup\n",
      "TechGroup\n",
      "Mitigation\n",
      "BP_Enabler\n",
      "BP_Transmission\n",
      "Blueprint\n",
      "BP_Scale\n",
      "BP_Phase\n",
      "BP_Permanent\n",
      "BP_Type\n",
      "BP_Intervention\n",
      "PBNCategory\n",
      "RiskGroup\n",
      "CAO_item\n",
      "BP_Theme\n",
      "BP_Category\n",
      "aBlueprint\n"
     ]
    }
   ],
   "source": [
    "onto = get_ontology(\"WIP.owl\").load()\n",
    "dIDct = u.createDict(onto) "
   ]
  },
  {
   "cell_type": "code",
   "execution_count": 3,
   "metadata": {},
   "outputs": [
    {
     "name": "stdout",
     "output_type": "stream",
     "text": [
      "ID: 0 \t Author: Luc Jonveaux\n",
      "ID: 1 \t License: CC BY-NC-SA\n",
      "ID: 2 \t Language: English\n",
      "ID: 3 \t Project: PROBONO\n",
      "ID: 4 \t Task: T3.5\n",
      "ID: 5 \t Description: Creation of a knowledge graph based on a litterature review, augmented by use of LLMs.\n",
      "ID: 6 \t Changes from: 0.0\n",
      "ID: 7 \t Changes: Creation of the knowledge graph\n",
      "ID: 8 \t Changes from: 0.1\n",
      "ID: 9 \t Changes: Adding relations, simplified ontology, closest items, and descriptions\n",
      "ID: 10 \t Repository: https://github.com/mm80843/T3.5/\n",
      "ID: 11 \t TODOs: Quite a number! Creating metaRisks, making it accessible..\n",
      "ID: 12 \t Creation: 11/11/2023\n",
      "ID: 13 \t Version: 0.3\n",
      "ID: 14 \t VersionComment: New blueprints added in 0.3\n",
      "ID: 15 \t Library: owlready2==0.45\n"
     ]
    }
   ],
   "source": [
    "comments = u.checkComments(onto)"
   ]
  },
  {
   "cell_type": "markdown",
   "metadata": {},
   "source": [
    "# Testing custom SPARQL queries"
   ]
  },
  {
   "cell_type": "code",
   "execution_count": 102,
   "metadata": {},
   "outputs": [],
   "source": [
    "from IPython.display import display, Markdown"
   ]
  },
  {
   "cell_type": "code",
   "execution_count": 108,
   "metadata": {},
   "outputs": [],
   "source": [
    "def EX(REQ):\n",
    "    return list(default_world.sparql(REQ))\n",
    "    \n",
    "def ask(QUESTION,prefix=\"sparql\",overwrite=False,MODEL=\"gpt-3.5-turbo-1106\",seed=\"\"):\n",
    "    CONTEXT  = \"You are an expert in the sparql language.\"\n",
    "    CONTEXT += \"You will have to provide  a sparql request that counts the number of classes in a knowledge graph, \\\n",
    "          please answer with the request as between ```sparql ``` tags, and then provide details of how the request is built.\"\n",
    "    REQ = {\n",
    "        \"context\": CONTEXT,\n",
    "        \"question\": QUESTION,\n",
    "        \"model\": MODEL,\n",
    "        \"token\": TOK3N,\n",
    "        \"overwrite\": overwrite,\n",
    "        \"source\": \"local-sparqlqueries\",\n",
    "        \"seed\" : seed\n",
    "    }\n",
    "\n",
    "    H = h.hashme(CONTEXT+QUESTION+seed)\n",
    "    cached = \"cache/\"+prefix+\"_\"+H+\".json\"\n",
    "    if not os.path.isfile(cached) or overwrite:\n",
    "        x = requests.post(URL+\"ask/\", json = REQ)\n",
    "        #print(x.text)\n",
    "        answer = json.loads(x.text)[\"answer\"]\n",
    "        h.svt(cached,answer)\n",
    "    else:\n",
    "        answer = h.ldt(cached)\n",
    "    A = [x.replace(\"sparql\\n\",\"\").strip() for x in answer.split(\"```\") if len(x)]\n",
    "\n",
    "    display(Markdown((A[-1])))\n",
    "    display(Markdown(\"--------\"))\n",
    "    display(Markdown(\"```sparql\\n\"+(A[-2])+\"```\"))\n",
    "    display(Markdown(\"--------\"))\n",
    "    B = EX(A[-2])\n",
    "    return B"
   ]
  },
  {
   "cell_type": "code",
   "execution_count": 119,
   "metadata": {},
   "outputs": [],
   "source": [
    "specifics =\"\"\"The ontology we are reviewing has several classes:\n",
    "* 'Risk': A specific risk\n",
    "* 'Mitigation': A mitigation against a risk\n",
    "* 'Technology': A technology used to mitigate a risk\n",
    "* 'TechGroup' : A category used to classify Technology\n",
    "* 'Stakeholder': People related to risks\n",
    "* 'Article': Sources of information\n",
    "They are linked using the following properties:\n",
    "* A 'Risk' has a 'Mitigation' : noted with the property : 'has_RiskMitigation' \n",
    "* A 'Risk' has a 'Technology' : noted with the property : 'has_RiskTechnology'\n",
    "* A 'Risk' impacts a 'Stakeholder' : noted with the property : Risk->'has_RiskSubject'->Stakeholder . Inverse is 'has_SubjectRisk' .\n",
    "* A 'Risk' can be mitigated by a 'Stakeholder' :  noted with the property : 'has_RiskOwner'\n",
    "* A 'TechGroup' contains 'Technology', noted with the property:  Technology->'has_TechGroup'->TechGroup . Inverse is 'has_GroupTech' .\n",
    "Note that all classes have capital letters as part of their names.\n",
    "\n",
    "This ontology can be added in the sparql request introducing:\n",
    "PREFIX pbn: <https://github.com/mm80843/T3.5/raw/main/pbn_t3_5.owl#>\n",
    "\"\"\""
   ]
  },
  {
   "cell_type": "code",
   "execution_count": 109,
   "metadata": {},
   "outputs": [
    {
     "data": {
      "text/markdown": [
       "In the given ontology, the classes are represented by instances of the rdf:type predicate. To count the number of classes, the Sparql query uses the \"SELECT\" and \"COUNT\" keywords to count the distinct instances of rdf:type associated with the ontology's namespace. The PREFIX command is then used to define the namespace for the ontology, and the \"WHERE\" clause is utilized to specify the pattern of the triple. The FILTER clause is included to ensure that the queried instances belong to the specified namespace."
      ],
      "text/plain": [
       "<IPython.core.display.Markdown object>"
      ]
     },
     "metadata": {},
     "output_type": "display_data"
    },
    {
     "data": {
      "text/markdown": [
       "--------"
      ],
      "text/plain": [
       "<IPython.core.display.Markdown object>"
      ]
     },
     "metadata": {},
     "output_type": "display_data"
    },
    {
     "data": {
      "text/markdown": [
       "```sparql\n",
       "PREFIX pbn: <https://github.com/mm80843/T3.5/raw/main/pbn_t3_5.owl#>\n",
       "\n",
       "SELECT (COUNT(DISTINCT ?class) AS ?classCount)\n",
       "WHERE {\n",
       "  ?s a ?class \n",
       "  FILTER(REGEX(STR(?class), \"pbn\", \"i\"))\n",
       "}```"
      ],
      "text/plain": [
       "<IPython.core.display.Markdown object>"
      ]
     },
     "metadata": {},
     "output_type": "display_data"
    },
    {
     "data": {
      "text/markdown": [
       "--------"
      ],
      "text/plain": [
       "<IPython.core.display.Markdown object>"
      ]
     },
     "metadata": {},
     "output_type": "display_data"
    },
    {
     "data": {
      "text/plain": [
       "[[29]]"
      ]
     },
     "execution_count": 109,
     "metadata": {},
     "output_type": "execute_result"
    }
   ],
   "source": [
    "A = ask(specifics+\"How do I count the number of classes\",overwrite=False,MODEL=\"gpt-3.5-turbo-1106\",seed=\"\")\n",
    "A"
   ]
  },
  {
   "cell_type": "code",
   "execution_count": 110,
   "metadata": {},
   "outputs": [
    {
     "data": {
      "text/markdown": [
       "In this SPARQL request, we use the `PREFIX` declaration to define the namespace `pbn` as the ontology's URI. The `SELECT` statement is used to select the variables we are interested in, which in this case are `?techGroup` and the count of `?technology` as `?count`. \n",
       "\n",
       "The `WHERE` clause is used to specify the patterns to match against the data. Here, we're looking for instances of `pbn:Technology` that have a relationship with their corresponding `?techGroup` using the property `pbn:has_TechGroup`.\n",
       "\n",
       "The `GROUP BY` clause is used to group the results by the `?techGroup`, and the `COUNT` function is used to count the number of instances for each group.\n",
       "\n",
       "Finally, the `ORDER BY` clause is used to sort the results in descending order based on the count of technologies in each group."
      ],
      "text/plain": [
       "<IPython.core.display.Markdown object>"
      ]
     },
     "metadata": {},
     "output_type": "display_data"
    },
    {
     "data": {
      "text/markdown": [
       "--------"
      ],
      "text/plain": [
       "<IPython.core.display.Markdown object>"
      ]
     },
     "metadata": {},
     "output_type": "display_data"
    },
    {
     "data": {
      "text/markdown": [
       "```sparql\n",
       "PREFIX pbn: <https://github.com/mm80843/T3.5/raw/main/pbn_t3_5.owl#>\n",
       "\n",
       "SELECT ?techGroup (COUNT(?technology) as ?count)\n",
       "WHERE {\n",
       "  ?technology a pbn:Technology ;\n",
       "              pbn:has_TechGroup ?techGroup .\n",
       "}\n",
       "GROUP BY ?techGroup\n",
       "ORDER BY DESC(?count)```"
      ],
      "text/plain": [
       "<IPython.core.display.Markdown object>"
      ]
     },
     "metadata": {},
     "output_type": "display_data"
    },
    {
     "data": {
      "text/markdown": [
       "--------"
      ],
      "text/plain": [
       "<IPython.core.display.Markdown object>"
      ]
     },
     "metadata": {},
     "output_type": "display_data"
    },
    {
     "data": {
      "text/plain": [
       "[[WIP.PBN__TechGroup_4, 5805],\n",
       " [WIP.PBN__TechGroup_15, 3326],\n",
       " [WIP.PBN__TechGroup_2, 2131],\n",
       " [WIP.PBN__TechGroup_28, 2018],\n",
       " [WIP.PBN__TechGroup_6, 1814],\n",
       " [WIP.PBN__TechGroup_37, 1685],\n",
       " [WIP.PBN__TechGroup_30, 1271],\n",
       " [WIP.PBN__TechGroup_46, 1130],\n",
       " [WIP.PBN__TechGroup_0, 1062],\n",
       " [WIP.PBN__TechGroup_7, 877],\n",
       " [WIP.PBN__TechGroup_33, 716],\n",
       " [WIP.PBN__TechGroup_60, 555],\n",
       " [WIP.PBN__TechGroup_44, 472],\n",
       " [WIP.PBN__TechGroup_13, 333],\n",
       " [WIP.PBN__TechGroup_51, 265],\n",
       " [WIP.PBN__Technology_2164, 197],\n",
       " [WIP.PBN__Technology_2100, 176],\n",
       " [WIP.PBN__Technology_1316, 136],\n",
       " [WIP.PBN__Technology_2226, 128],\n",
       " [WIP.PBN__Technology_2270, 122],\n",
       " [WIP.PBN__Technology_2274, 108],\n",
       " [WIP.PBN__Technology_2215, 101],\n",
       " [WIP.PBN__Technology_572, 96],\n",
       " [WIP.PBN__Technology_277, 94],\n",
       " [WIP.PBN__Technology_0, 90],\n",
       " [WIP.PBN__Technology_896, 85],\n",
       " [WIP.PBN__Technology_1447, 84],\n",
       " [WIP.PBN__Technology_231, 76],\n",
       " [WIP.PBN__Technology_2255, 67],\n",
       " [WIP.PBN__Technology_2191, 61],\n",
       " [WIP.PBN__Technology_2238, 58],\n",
       " [WIP.PBN__Technology_2289, 53],\n",
       " [WIP.PBN__Technology_2241, 42],\n",
       " [WIP.PBN__Technology_2292, 26]]"
      ]
     },
     "execution_count": 110,
     "metadata": {},
     "output_type": "execute_result"
    }
   ],
   "source": [
    "A = ask(specifics+\"How do I count how many Technology belong to each TechGroup, and sort in ascending order (largest TechGroup first)?\",overwrite=False,MODEL=\"gpt-3.5-turbo-1106\",seed=\"3\") # gpt-4-0613\n",
    "A"
   ]
  },
  {
   "cell_type": "code",
   "execution_count": 122,
   "metadata": {},
   "outputs": [
    {
     "name": "stdout",
     "output_type": "stream",
     "text": [
      "{\"answer\":\"```sparql\\nPREFIX pbn: <https://github.com/mm80843/T3.5/raw/main/pbn_t3_5.owl#>\\n\\nSELECT ?techGroup (COUNT(?technology) AS ?numTechnologies)\\nWHERE {\\n  ?risk a pbn:Risk ;\\n        pbn:has_RiskTechnology ?technology .\\n  ?technology pbn:has_TechGroup ?techGroup .\\n}\\nGROUP BY ?techGroup\\nORDER BY DESC(?numTechnologies)\\nLIMIT 1\\n```\\n\\nThis SPARQL query is identifying the 'TechGroup' and its label that has the most 'Technology' items linked to a 'Risk'. The query consists of the following elements:\\n\\n1. First, we specify the prefix for our ontology using `PREFIX pbn: <https://github.com/mm80843/T3.5/raw/main/pbn_t3_5.owl#>`.\\n\\n2. We then use a SELECT query to retrieve the 'TechGroup' and count the number of 'Technology' items associated with a 'Risk'. We alias the count as `?numTechnologies`.\\n\\n3. In the WHERE clause, we specify the pattern where a 'Risk' is linked to a 'Technology' through the property `pbn:has_RiskTechnology`, and the 'Technology' is linked to a 'TechGroup' using the property `pbn:has_TechGroup`.\\n\\n4. We use the GROUP BY clause to group the results by the 'TechGroup'.\\n\\n5. We then use the ORDER BY clause to sort the results in descending order based on the count of 'Technology' items.\\n\\n6. Finally, we use the LIMIT 1 clause to retrieve only the top 'TechGroup' with the most linked 'Technology' items.\"}\n"
     ]
    },
    {
     "data": {
      "text/markdown": [
       "This SPARQL query is identifying the 'TechGroup' and its label that has the most 'Technology' items linked to a 'Risk'. The query consists of the following elements:\n",
       "\n",
       "1. First, we specify the prefix for our ontology using `PREFIX pbn: <https://github.com/mm80843/T3.5/raw/main/pbn_t3_5.owl#>`.\n",
       "\n",
       "2. We then use a SELECT query to retrieve the 'TechGroup' and count the number of 'Technology' items associated with a 'Risk'. We alias the count as `?numTechnologies`.\n",
       "\n",
       "3. In the WHERE clause, we specify the pattern where a 'Risk' is linked to a 'Technology' through the property `pbn:has_RiskTechnology`, and the 'Technology' is linked to a 'TechGroup' using the property `pbn:has_TechGroup`.\n",
       "\n",
       "4. We use the GROUP BY clause to group the results by the 'TechGroup'.\n",
       "\n",
       "5. We then use the ORDER BY clause to sort the results in descending order based on the count of 'Technology' items.\n",
       "\n",
       "6. Finally, we use the LIMIT 1 clause to retrieve only the top 'TechGroup' with the most linked 'Technology' items."
      ],
      "text/plain": [
       "<IPython.core.display.Markdown object>"
      ]
     },
     "metadata": {},
     "output_type": "display_data"
    },
    {
     "data": {
      "text/markdown": [
       "--------"
      ],
      "text/plain": [
       "<IPython.core.display.Markdown object>"
      ]
     },
     "metadata": {},
     "output_type": "display_data"
    },
    {
     "data": {
      "text/markdown": [
       "```sparql\n",
       "PREFIX pbn: <https://github.com/mm80843/T3.5/raw/main/pbn_t3_5.owl#>\n",
       "\n",
       "SELECT ?techGroup (COUNT(?technology) AS ?numTechnologies)\n",
       "WHERE {\n",
       "  ?risk a pbn:Risk ;\n",
       "        pbn:has_RiskTechnology ?technology .\n",
       "  ?technology pbn:has_TechGroup ?techGroup .\n",
       "}\n",
       "GROUP BY ?techGroup\n",
       "ORDER BY DESC(?numTechnologies)\n",
       "LIMIT 1```"
      ],
      "text/plain": [
       "<IPython.core.display.Markdown object>"
      ]
     },
     "metadata": {},
     "output_type": "display_data"
    },
    {
     "data": {
      "text/markdown": [
       "--------"
      ],
      "text/plain": [
       "<IPython.core.display.Markdown object>"
      ]
     },
     "metadata": {},
     "output_type": "display_data"
    },
    {
     "data": {
      "text/plain": [
       "[[WIP.PBN__TechGroup_4, 12740]]"
      ]
     },
     "execution_count": 122,
     "metadata": {},
     "output_type": "execute_result"
    }
   ],
   "source": [
    "A = ask(specifics+\"How do I identify the TechGroup, and its label, that has the most Technology items linked to a Risk?\",overwrite=False,MODEL=\"gpt-3.5-turbo-1106\",seed=\"5\")\n",
    "A"
   ]
  },
  {
   "cell_type": "code",
   "execution_count": 127,
   "metadata": {},
   "outputs": [
    {
     "name": "stdout",
     "output_type": "stream",
     "text": [
      "{\"answer\":\"```sparql\\nPREFIX pbn: <https://github.com/mm80843/T3.5/raw/main/pbn_t3_5.owl#>\\n\\nSELECT (COUNT(DISTINCT ?class) as ?classCount)\\nWHERE {\\n    ?s a ?class\\n}\\n```\\n\\nIn the SPARQL request provided, the PREFIX statement is used to define a namespace 'pbn' for the ontology. In this case, it is linked to the ontology in question. \\nThe SELECT statement is then used to count the number of distinct classes in the knowledge graph. The COUNT and DISTINCT functions are employed within the SELECT statement to achieve this. The COUNT function counts the number of instances found, while the DISTINCT function ensures that only unique instances are counted. The WHERE statement is utilized to specify the pattern to match, which in this case is any instance (?s) that belongs to a class (?class).\\nOnce the request is executed against the knowledge graph, it will return the count of distinct classes present in the ontology.\"}\n"
     ]
    },
    {
     "data": {
      "text/markdown": [
       "In the SPARQL request provided, the PREFIX statement is used to define a namespace 'pbn' for the ontology. In this case, it is linked to the ontology in question. \n",
       "The SELECT statement is then used to count the number of distinct classes in the knowledge graph. The COUNT and DISTINCT functions are employed within the SELECT statement to achieve this. The COUNT function counts the number of instances found, while the DISTINCT function ensures that only unique instances are counted. The WHERE statement is utilized to specify the pattern to match, which in this case is any instance (?s) that belongs to a class (?class).\n",
       "Once the request is executed against the knowledge graph, it will return the count of distinct classes present in the ontology."
      ],
      "text/plain": [
       "<IPython.core.display.Markdown object>"
      ]
     },
     "metadata": {},
     "output_type": "display_data"
    },
    {
     "data": {
      "text/markdown": [
       "--------"
      ],
      "text/plain": [
       "<IPython.core.display.Markdown object>"
      ]
     },
     "metadata": {},
     "output_type": "display_data"
    },
    {
     "data": {
      "text/markdown": [
       "```sparql\n",
       "PREFIX pbn: <https://github.com/mm80843/T3.5/raw/main/pbn_t3_5.owl#>\n",
       "\n",
       "SELECT (COUNT(DISTINCT ?class) as ?classCount)\n",
       "WHERE {\n",
       "    ?s a ?class\n",
       "}```"
      ],
      "text/plain": [
       "<IPython.core.display.Markdown object>"
      ]
     },
     "metadata": {},
     "output_type": "display_data"
    },
    {
     "data": {
      "text/markdown": [
       "--------"
      ],
      "text/plain": [
       "<IPython.core.display.Markdown object>"
      ]
     },
     "metadata": {},
     "output_type": "display_data"
    },
    {
     "data": {
      "text/plain": [
       "[[34]]"
      ]
     },
     "execution_count": 127,
     "metadata": {},
     "output_type": "execute_result"
    }
   ],
   "source": [
    "A = ask(specifics+\"Let's take the 'pbn:PBN__Risk_1', one of the Risk instance. How do I identify the different individual TechGroup to which the Technology instances linked to the Risk (through has_RiskTechnology) ?\",overwrite=False,MODEL=\"gpt-3.5-turbo-1106\",seed=\"5\")\n",
    "A"
   ]
  },
  {
   "cell_type": "code",
   "execution_count": 129,
   "metadata": {},
   "outputs": [
    {
     "data": {
      "text/markdown": [
       "In the given SPARQL request:\n",
       "1. We use the `SELECT` clause to select the `?class` and count the instances of its children.\n",
       "2. The `WHERE` clause fetches all the triples where a child is a class.\n",
       "3. The `GROUP BY` clause groups the results by the class.\n",
       "4. The `COUNT` function counts the instances of children for each class.\n",
       "5. The `ORDER BY` clause orders the results by the count of instances in descending order.\n",
       "6. Finally, the `LIMIT` clause restricts the results to the top 5 classes with the most instances as children."
      ],
      "text/plain": [
       "<IPython.core.display.Markdown object>"
      ]
     },
     "metadata": {},
     "output_type": "display_data"
    },
    {
     "data": {
      "text/markdown": [
       "--------"
      ],
      "text/plain": [
       "<IPython.core.display.Markdown object>"
      ]
     },
     "metadata": {},
     "output_type": "display_data"
    },
    {
     "data": {
      "text/markdown": [
       "```sparql\n",
       "SELECT ?class (COUNT(?child) as ?count)\n",
       "WHERE {\n",
       "  ?child a ?class .\n",
       "}\n",
       "GROUP BY ?class\n",
       "ORDER BY DESC(?count)\n",
       "LIMIT 5```"
      ],
      "text/plain": [
       "<IPython.core.display.Markdown object>"
      ]
     },
     "metadata": {},
     "output_type": "display_data"
    },
    {
     "data": {
      "text/markdown": [
       "--------"
      ],
      "text/plain": [
       "<IPython.core.display.Markdown object>"
      ]
     },
     "metadata": {},
     "output_type": "display_data"
    },
    {
     "data": {
      "text/plain": [
       "[[owl.NamedIndividual, 88050],\n",
       " [WIP.Technology, 23103],\n",
       " [WIP.Mitigation, 22926],\n",
       " [WIP.Risk, 21127],\n",
       " [WIP.Stakeholder, 16094]]"
      ]
     },
     "execution_count": 129,
     "metadata": {},
     "output_type": "execute_result"
    }
   ],
   "source": [
    "A = ask(\"How do I count the top 5 classes that have the children with most instances?\",overwrite=False,MODEL=\"gpt-3.5-turbo-1106\",seed=\"\")\n",
    "A"
   ]
  },
  {
   "cell_type": "code",
   "execution_count": 130,
   "metadata": {},
   "outputs": [
    {
     "name": "stdout",
     "output_type": "stream",
     "text": [
      "{\"answer\":\"To retrieve the list of stakeholders impacted by a specific risk, you can use the following SPARQL query:\\n\\n```sparql\\nSELECT ?stakeholder\\nWHERE {\\n  ?risk a <your-ontology-prefix:Risk> ;\\n        <your-ontology-prefix:impactsStakeholder> ?stakeholder .\\n}\\n```\\n\\nIn this query:\\n- `SELECT ?stakeholder` specifies that we want to retrieve the stakeholders.\\n- `WHERE` block is used to specify the pattern that the data should match.\\n- `?risk` is a variable representing the specific risk.\\n- `<your-ontology-prefix:Risk>` is a specific class representing the risk in your ontology.\\n- `<your-ontology-prefix:impactsStakeholder>` is a specific property that represents the impact of a risk on stakeholders.\\n- `?stakeholder` is a variable representing the stakeholders impacted by the specific risk.\\n\\nWhen you run this query on your knowledge graph, it will return the list of stakeholders impacted by the specific risk.\"}\n"
     ]
    },
    {
     "data": {
      "text/markdown": [
       "In this query:\n",
       "- `SELECT ?stakeholder` specifies that we want to retrieve the stakeholders.\n",
       "- `WHERE` block is used to specify the pattern that the data should match.\n",
       "- `?risk` is a variable representing the specific risk.\n",
       "- `<your-ontology-prefix:Risk>` is a specific class representing the risk in your ontology.\n",
       "- `<your-ontology-prefix:impactsStakeholder>` is a specific property that represents the impact of a risk on stakeholders.\n",
       "- `?stakeholder` is a variable representing the stakeholders impacted by the specific risk.\n",
       "\n",
       "When you run this query on your knowledge graph, it will return the list of stakeholders impacted by the specific risk."
      ],
      "text/plain": [
       "<IPython.core.display.Markdown object>"
      ]
     },
     "metadata": {},
     "output_type": "display_data"
    },
    {
     "data": {
      "text/markdown": [
       "--------"
      ],
      "text/plain": [
       "<IPython.core.display.Markdown object>"
      ]
     },
     "metadata": {},
     "output_type": "display_data"
    },
    {
     "data": {
      "text/markdown": [
       "```sparql\n",
       "SELECT ?stakeholder\n",
       "WHERE {\n",
       "  ?risk a <your-ontology-prefix:Risk> ;\n",
       "        <your-ontology-prefix:impactsStakeholder> ?stakeholder .\n",
       "}```"
      ],
      "text/plain": [
       "<IPython.core.display.Markdown object>"
      ]
     },
     "metadata": {},
     "output_type": "display_data"
    },
    {
     "data": {
      "text/markdown": [
       "--------"
      ],
      "text/plain": [
       "<IPython.core.display.Markdown object>"
      ]
     },
     "metadata": {},
     "output_type": "display_data"
    },
    {
     "ename": "ValueError",
     "evalue": "No existing entity for IRI 'your-ontology-prefix:Risk'! (use error_on_undefined_entities=False to accept unknown entities in SPARQL queries)",
     "output_type": "error",
     "traceback": [
      "\u001b[1;31m---------------------------------------------------------------------------\u001b[0m",
      "\u001b[1;31mValueError\u001b[0m                                Traceback (most recent call last)",
      "Cell \u001b[1;32mIn[130], line 1\u001b[0m\n\u001b[1;32m----> 1\u001b[0m A \u001b[38;5;241m=\u001b[39m \u001b[43mask\u001b[49m\u001b[43m(\u001b[49m\u001b[38;5;124;43m\"\u001b[39;49m\u001b[38;5;124;43mI have a specific Risk. How can I search for the list of Stakeholder impacted?\u001b[39;49m\u001b[38;5;124;43m\"\u001b[39;49m\u001b[43m,\u001b[49m\u001b[43moverwrite\u001b[49m\u001b[38;5;241;43m=\u001b[39;49m\u001b[38;5;28;43;01mFalse\u001b[39;49;00m\u001b[43m,\u001b[49m\u001b[43mMODEL\u001b[49m\u001b[38;5;241;43m=\u001b[39;49m\u001b[38;5;124;43m\"\u001b[39;49m\u001b[38;5;124;43mgpt-3.5-turbo-1106\u001b[39;49m\u001b[38;5;124;43m\"\u001b[39;49m\u001b[43m,\u001b[49m\u001b[43mseed\u001b[49m\u001b[38;5;241;43m=\u001b[39;49m\u001b[38;5;124;43m\"\u001b[39;49m\u001b[38;5;124;43m\"\u001b[39;49m\u001b[43m)\u001b[49m\n",
      "Cell \u001b[1;32mIn[108], line 33\u001b[0m, in \u001b[0;36mask\u001b[1;34m(QUESTION, prefix, overwrite, MODEL, seed)\u001b[0m\n\u001b[0;32m     31\u001b[0m display(Markdown(\u001b[38;5;124m\"\u001b[39m\u001b[38;5;124m```sparql\u001b[39m\u001b[38;5;130;01m\\n\u001b[39;00m\u001b[38;5;124m\"\u001b[39m\u001b[38;5;241m+\u001b[39m(A[\u001b[38;5;241m-\u001b[39m\u001b[38;5;241m2\u001b[39m])\u001b[38;5;241m+\u001b[39m\u001b[38;5;124m\"\u001b[39m\u001b[38;5;124m```\u001b[39m\u001b[38;5;124m\"\u001b[39m))\n\u001b[0;32m     32\u001b[0m display(Markdown(\u001b[38;5;124m\"\u001b[39m\u001b[38;5;124m--------\u001b[39m\u001b[38;5;124m\"\u001b[39m))\n\u001b[1;32m---> 33\u001b[0m B \u001b[38;5;241m=\u001b[39m \u001b[43mEX\u001b[49m\u001b[43m(\u001b[49m\u001b[43mA\u001b[49m\u001b[43m[\u001b[49m\u001b[38;5;241;43m-\u001b[39;49m\u001b[38;5;241;43m2\u001b[39;49m\u001b[43m]\u001b[49m\u001b[43m)\u001b[49m\n\u001b[0;32m     34\u001b[0m \u001b[38;5;28;01mreturn\u001b[39;00m B\n",
      "Cell \u001b[1;32mIn[108], line 2\u001b[0m, in \u001b[0;36mEX\u001b[1;34m(REQ)\u001b[0m\n\u001b[0;32m      1\u001b[0m \u001b[38;5;28;01mdef\u001b[39;00m \u001b[38;5;21mEX\u001b[39m(REQ):\n\u001b[1;32m----> 2\u001b[0m     \u001b[38;5;28;01mreturn\u001b[39;00m \u001b[38;5;28mlist\u001b[39m(\u001b[43mdefault_world\u001b[49m\u001b[38;5;241;43m.\u001b[39;49m\u001b[43msparql\u001b[49m\u001b[43m(\u001b[49m\u001b[43mREQ\u001b[49m\u001b[43m)\u001b[49m)\n",
      "File \u001b[1;32mc:\\Users\\JON80843\\Mott MacDonald\\H2020 PROBONO Green Deal - Do\\Develop\\WP3\\T3.5 - knowledge base - github pages\\.venv\\lib\\site-packages\\owlready2\\namespace.py:527\u001b[0m, in \u001b[0;36mWorld.sparql\u001b[1;34m(self, sparql, params, error_on_undefined_entities)\u001b[0m\n\u001b[0;32m    525\u001b[0m \u001b[38;5;28;01mdef\u001b[39;00m \u001b[38;5;21msparql\u001b[39m(\u001b[38;5;28mself\u001b[39m, sparql, params \u001b[38;5;241m=\u001b[39m (), error_on_undefined_entities \u001b[38;5;241m=\u001b[39m \u001b[38;5;28;01mTrue\u001b[39;00m):\n\u001b[0;32m    526\u001b[0m   \u001b[38;5;28;01mimport\u001b[39;00m \u001b[38;5;21;01mowlready2\u001b[39;00m\u001b[38;5;21;01m.\u001b[39;00m\u001b[38;5;21;01msparql\u001b[39;00m\u001b[38;5;21;01m.\u001b[39;00m\u001b[38;5;21;01mmain\u001b[39;00m\n\u001b[1;32m--> 527\u001b[0m   query \u001b[38;5;241m=\u001b[39m \u001b[38;5;28;43mself\u001b[39;49m\u001b[38;5;241;43m.\u001b[39;49m\u001b[43m_prepare_sparql\u001b[49m\u001b[43m(\u001b[49m\u001b[43msparql\u001b[49m\u001b[43m,\u001b[49m\u001b[43m \u001b[49m\u001b[43merror_on_undefined_entities\u001b[49m\u001b[43m)\u001b[49m\n\u001b[0;32m    528\u001b[0m   \u001b[38;5;28;01mreturn\u001b[39;00m query\u001b[38;5;241m.\u001b[39mexecute(params)\n",
      "File \u001b[1;32mc:\\Users\\JON80843\\Mott MacDonald\\H2020 PROBONO Green Deal - Do\\Develop\\WP3\\T3.5 - knowledge base - github pages\\.venv\\lib\\site-packages\\owlready2\\namespace.py:533\u001b[0m, in \u001b[0;36mWorld._prepare_sparql\u001b[1;34m(self, sparql, error_on_undefined_entities)\u001b[0m\n\u001b[0;32m    530\u001b[0m \u001b[38;5;129m@lru_cache\u001b[39m(maxsize \u001b[38;5;241m=\u001b[39m \u001b[38;5;241m1024\u001b[39m)\n\u001b[0;32m    531\u001b[0m \u001b[38;5;28;01mdef\u001b[39;00m \u001b[38;5;21m_prepare_sparql\u001b[39m(\u001b[38;5;28mself\u001b[39m, sparql, error_on_undefined_entities):\n\u001b[0;32m    532\u001b[0m   \u001b[38;5;28;01mimport\u001b[39;00m \u001b[38;5;21;01mowlready2\u001b[39;00m\u001b[38;5;21;01m.\u001b[39;00m\u001b[38;5;21;01msparql\u001b[39;00m\u001b[38;5;21;01m.\u001b[39;00m\u001b[38;5;21;01mmain\u001b[39;00m\n\u001b[1;32m--> 533\u001b[0m   \u001b[38;5;28;01mreturn\u001b[39;00m \u001b[43mowlready2\u001b[49m\u001b[38;5;241;43m.\u001b[39;49m\u001b[43msparql\u001b[49m\u001b[38;5;241;43m.\u001b[39;49m\u001b[43mmain\u001b[49m\u001b[38;5;241;43m.\u001b[39;49m\u001b[43mTranslator\u001b[49m\u001b[43m(\u001b[49m\u001b[38;5;28;43mself\u001b[39;49m\u001b[43m,\u001b[49m\u001b[43m \u001b[49m\u001b[43merror_on_undefined_entities\u001b[49m\u001b[43m)\u001b[49m\u001b[38;5;241;43m.\u001b[39;49m\u001b[43mparse\u001b[49m\u001b[43m(\u001b[49m\u001b[43msparql\u001b[49m\u001b[43m)\u001b[49m\n",
      "File \u001b[1;32mc:\\Users\\JON80843\\Mott MacDonald\\H2020 PROBONO Green Deal - Do\\Develop\\WP3\\T3.5 - knowledge base - github pages\\.venv\\lib\\site-packages\\owlready2\\sparql\\main.py:61\u001b[0m, in \u001b[0;36mTranslator.parse\u001b[1;34m(self, sparql)\u001b[0m\n\u001b[0;32m     59\u001b[0m   \u001b[38;5;28mself\u001b[39m\u001b[38;5;241m.\u001b[39mescape_mark \u001b[38;5;241m+\u001b[39m\u001b[38;5;241m=\u001b[39m \u001b[38;5;124m\"\u001b[39m\u001b[38;5;124mç\u001b[39m\u001b[38;5;124m\"\u001b[39m\n\u001b[0;32m     60\u001b[0m CURRENT_TRANSLATOR\u001b[38;5;241m.\u001b[39mset(\u001b[38;5;28mself\u001b[39m)\n\u001b[1;32m---> 61\u001b[0m \u001b[38;5;28mself\u001b[39m\u001b[38;5;241m.\u001b[39mmain_query \u001b[38;5;241m=\u001b[39m \u001b[43mPARSER\u001b[49m\u001b[38;5;241;43m.\u001b[39;49m\u001b[43mparse\u001b[49m\u001b[43m(\u001b[49m\u001b[43mLEXER\u001b[49m\u001b[38;5;241;43m.\u001b[39;49m\u001b[43mlex\u001b[49m\u001b[43m(\u001b[49m\u001b[43msparql\u001b[49m\u001b[43m)\u001b[49m\u001b[43m)\u001b[49m\n\u001b[0;32m     62\u001b[0m \u001b[38;5;28;01mreturn\u001b[39;00m \u001b[38;5;28mself\u001b[39m\u001b[38;5;241m.\u001b[39mfinalize()\n",
      "File \u001b[1;32mc:\\Users\\JON80843\\Mott MacDonald\\H2020 PROBONO Green Deal - Do\\Develop\\WP3\\T3.5 - knowledge base - github pages\\.venv\\lib\\site-packages\\owlready2\\rply.py:416\u001b[0m, in \u001b[0;36mLRParser.parse\u001b[1;34m(self, tokenizer, state)\u001b[0m\n\u001b[0;32m    414\u001b[0m \u001b[38;5;28;01mif\u001b[39;00m \u001b[38;5;28mself\u001b[39m\u001b[38;5;241m.\u001b[39mlr_table\u001b[38;5;241m.\u001b[39mdefault_reductions[current_state]:\n\u001b[0;32m    415\u001b[0m   t \u001b[38;5;241m=\u001b[39m \u001b[38;5;28mself\u001b[39m\u001b[38;5;241m.\u001b[39mlr_table\u001b[38;5;241m.\u001b[39mdefault_reductions[current_state]\n\u001b[1;32m--> 416\u001b[0m   current_state \u001b[38;5;241m=\u001b[39m \u001b[38;5;28;43mself\u001b[39;49m\u001b[38;5;241;43m.\u001b[39;49m\u001b[43m_reduce_production\u001b[49m\u001b[43m(\u001b[49m\n\u001b[0;32m    417\u001b[0m \u001b[43m    \u001b[49m\u001b[43mt\u001b[49m\u001b[43m,\u001b[49m\u001b[43m \u001b[49m\u001b[43msymstack\u001b[49m\u001b[43m,\u001b[49m\u001b[43m \u001b[49m\u001b[43mstatestack\u001b[49m\u001b[43m,\u001b[49m\u001b[43m \u001b[49m\u001b[43mstate\u001b[49m\n\u001b[0;32m    418\u001b[0m \u001b[43m  \u001b[49m\u001b[43m)\u001b[49m\n\u001b[0;32m    419\u001b[0m   \u001b[38;5;28;01mcontinue\u001b[39;00m\n\u001b[0;32m    421\u001b[0m \u001b[38;5;28;01mif\u001b[39;00m lookahead \u001b[38;5;129;01mis\u001b[39;00m \u001b[38;5;28;01mNone\u001b[39;00m:\n",
      "File \u001b[1;32mc:\\Users\\JON80843\\Mott MacDonald\\H2020 PROBONO Green Deal - Do\\Develop\\WP3\\T3.5 - knowledge base - github pages\\.venv\\lib\\site-packages\\owlready2\\rply.py:465\u001b[0m, in \u001b[0;36mLRParser._reduce_production\u001b[1;34m(self, t, symstack, statestack, state)\u001b[0m\n\u001b[0;32m    463\u001b[0m \u001b[38;5;28;01mdel\u001b[39;00m symstack[start:]\n\u001b[0;32m    464\u001b[0m \u001b[38;5;28;01mdel\u001b[39;00m statestack[start:]\n\u001b[1;32m--> 465\u001b[0m \u001b[38;5;28;01mif\u001b[39;00m state \u001b[38;5;129;01mis\u001b[39;00m \u001b[38;5;28;01mNone\u001b[39;00m: value \u001b[38;5;241m=\u001b[39m \u001b[43mp\u001b[49m\u001b[38;5;241;43m.\u001b[39;49m\u001b[43mfunc\u001b[49m\u001b[43m(\u001b[49m\u001b[43mtarg\u001b[49m\u001b[43m)\u001b[49m\n\u001b[0;32m    466\u001b[0m \u001b[38;5;28;01melse\u001b[39;00m:             value \u001b[38;5;241m=\u001b[39m p\u001b[38;5;241m.\u001b[39mfunc(state, targ)\n\u001b[0;32m    467\u001b[0m symstack\u001b[38;5;241m.\u001b[39mappend(value)\n",
      "File \u001b[1;32mc:\\Users\\JON80843\\Mott MacDonald\\H2020 PROBONO Green Deal - Do\\Develop\\WP3\\T3.5 - knowledge base - github pages\\.venv\\lib\\site-packages\\owlready2\\sparql\\parser.py:1006\u001b[0m, in \u001b[0;36mf\u001b[1;34m(p)\u001b[0m\n\u001b[0;32m   1004\u001b[0m p\u001b[38;5;241m.\u001b[39mvalue  \u001b[38;5;241m=\u001b[39m p\u001b[38;5;241m.\u001b[39mvalue[\u001b[38;5;241m1\u001b[39m:\u001b[38;5;241m-\u001b[39m\u001b[38;5;241m1\u001b[39m]\n\u001b[0;32m   1005\u001b[0m \u001b[38;5;28;01mif\u001b[39;00m \u001b[38;5;129;01mnot\u001b[39;00m \u001b[38;5;124m\"\u001b[39m\u001b[38;5;124m:\u001b[39m\u001b[38;5;124m\"\u001b[39m \u001b[38;5;129;01min\u001b[39;00m p\u001b[38;5;241m.\u001b[39mvalue: p\u001b[38;5;241m.\u001b[39mvalue \u001b[38;5;241m=\u001b[39m \u001b[38;5;124m\"\u001b[39m\u001b[38;5;132;01m%s\u001b[39;00m\u001b[38;5;132;01m%s\u001b[39;00m\u001b[38;5;124m\"\u001b[39m \u001b[38;5;241m%\u001b[39m (translator\u001b[38;5;241m.\u001b[39mbase_iri, p\u001b[38;5;241m.\u001b[39mvalue) \u001b[38;5;66;03m# Relative IRI\u001b[39;00m\n\u001b[1;32m-> 1006\u001b[0m p\u001b[38;5;241m.\u001b[39mstorid \u001b[38;5;241m=\u001b[39m p\u001b[38;5;241m.\u001b[39msql \u001b[38;5;241m=\u001b[39m \u001b[43mtranslator\u001b[49m\u001b[38;5;241;43m.\u001b[39;49m\u001b[43mabbreviate\u001b[49m\u001b[43m(\u001b[49m\u001b[43mp\u001b[49m\u001b[38;5;241;43m.\u001b[39;49m\u001b[43mvalue\u001b[49m\u001b[43m)\u001b[49m\n\u001b[0;32m   1007\u001b[0m \u001b[38;5;28;01mreturn\u001b[39;00m p\n",
      "File \u001b[1;32mc:\\Users\\JON80843\\Mott MacDonald\\H2020 PROBONO Green Deal - Do\\Develop\\WP3\\T3.5 - knowledge base - github pages\\.venv\\lib\\site-packages\\owlready2\\sparql\\main.py:293\u001b[0m, in \u001b[0;36mTranslator.abbreviate\u001b[1;34m(self, entity)\u001b[0m\n\u001b[0;32m    291\u001b[0m \u001b[38;5;28;01mif\u001b[39;00m \u001b[38;5;28mself\u001b[39m\u001b[38;5;241m.\u001b[39merror_on_undefined_entities:\n\u001b[0;32m    292\u001b[0m   r \u001b[38;5;241m=\u001b[39m \u001b[38;5;28mself\u001b[39m\u001b[38;5;241m.\u001b[39mworld\u001b[38;5;241m.\u001b[39m_abbreviate(entity, \u001b[38;5;28;01mFalse\u001b[39;00m)\n\u001b[1;32m--> 293\u001b[0m   \u001b[38;5;28;01mif\u001b[39;00m r \u001b[38;5;129;01mis\u001b[39;00m \u001b[38;5;28;01mNone\u001b[39;00m: \u001b[38;5;28;01mraise\u001b[39;00m \u001b[38;5;167;01mValueError\u001b[39;00m(\u001b[38;5;124m\"\u001b[39m\u001b[38;5;124mNo existing entity for IRI \u001b[39m\u001b[38;5;124m'\u001b[39m\u001b[38;5;132;01m%s\u001b[39;00m\u001b[38;5;124m'\u001b[39m\u001b[38;5;124m! (use error_on_undefined_entities=False to accept unknown entities in SPARQL queries)\u001b[39m\u001b[38;5;124m\"\u001b[39m \u001b[38;5;241m%\u001b[39m entity)\n\u001b[0;32m    294\u001b[0m   \u001b[38;5;28;01mreturn\u001b[39;00m r\n\u001b[0;32m    295\u001b[0m \u001b[38;5;28;01melse\u001b[39;00m:\n",
      "\u001b[1;31mValueError\u001b[0m: No existing entity for IRI 'your-ontology-prefix:Risk'! (use error_on_undefined_entities=False to accept unknown entities in SPARQL queries)"
     ]
    }
   ],
   "source": [
    "A = ask(\"I have a specific Risk. How can I search for the list of Stakeholder impacted?\",overwrite=False,MODEL=\"gpt-3.5-turbo-1106\",seed=\"\")"
   ]
  },
  {
   "cell_type": "code",
   "execution_count": 135,
   "metadata": {},
   "outputs": [
    {
     "ename": "ValueError",
     "evalue": "Cannot select 'VAR:'?Stakeholder''!",
     "output_type": "error",
     "traceback": [
      "\u001b[1;31m---------------------------------------------------------------------------\u001b[0m",
      "\u001b[1;31mValueError\u001b[0m                                Traceback (most recent call last)",
      "Cell \u001b[1;32mIn[135], line 1\u001b[0m\n\u001b[1;32m----> 1\u001b[0m \u001b[43mEX\u001b[49m\u001b[43m(\u001b[49m\u001b[38;5;124;43m\"\"\"\u001b[39;49m\u001b[38;5;124;43mPREFIX pbn: <https://github.com/mm80843/T3.5/raw/main/pbn_t3_5.owl#>\u001b[39;49m\n\u001b[0;32m      2\u001b[0m \u001b[38;5;124;43m   SELECT ?Stakeholder\u001b[39;49m\n\u001b[0;32m      3\u001b[0m \u001b[38;5;124;43mWHERE \u001b[39;49m\u001b[38;5;124;43m{\u001b[39;49m\n\u001b[0;32m      4\u001b[0m \u001b[38;5;124;43m  ?risk a pbn:Risk ;\u001b[39;49m\n\u001b[0;32m      5\u001b[0m \u001b[38;5;124;43m        pbn:has_RiskSubject ?stakeholder .\u001b[39;49m\n\u001b[0;32m      6\u001b[0m \u001b[38;5;124;43m}\u001b[39;49m\u001b[38;5;124;43m\"\"\"\u001b[39;49m\u001b[43m)\u001b[49m\n",
      "Cell \u001b[1;32mIn[108], line 2\u001b[0m, in \u001b[0;36mEX\u001b[1;34m(REQ)\u001b[0m\n\u001b[0;32m      1\u001b[0m \u001b[38;5;28;01mdef\u001b[39;00m \u001b[38;5;21mEX\u001b[39m(REQ):\n\u001b[1;32m----> 2\u001b[0m     \u001b[38;5;28;01mreturn\u001b[39;00m \u001b[38;5;28mlist\u001b[39m(\u001b[43mdefault_world\u001b[49m\u001b[38;5;241;43m.\u001b[39;49m\u001b[43msparql\u001b[49m\u001b[43m(\u001b[49m\u001b[43mREQ\u001b[49m\u001b[43m)\u001b[49m)\n",
      "File \u001b[1;32mc:\\Users\\JON80843\\Mott MacDonald\\H2020 PROBONO Green Deal - Do\\Develop\\WP3\\T3.5 - knowledge base - github pages\\.venv\\lib\\site-packages\\owlready2\\namespace.py:527\u001b[0m, in \u001b[0;36mWorld.sparql\u001b[1;34m(self, sparql, params, error_on_undefined_entities)\u001b[0m\n\u001b[0;32m    525\u001b[0m \u001b[38;5;28;01mdef\u001b[39;00m \u001b[38;5;21msparql\u001b[39m(\u001b[38;5;28mself\u001b[39m, sparql, params \u001b[38;5;241m=\u001b[39m (), error_on_undefined_entities \u001b[38;5;241m=\u001b[39m \u001b[38;5;28;01mTrue\u001b[39;00m):\n\u001b[0;32m    526\u001b[0m   \u001b[38;5;28;01mimport\u001b[39;00m \u001b[38;5;21;01mowlready2\u001b[39;00m\u001b[38;5;21;01m.\u001b[39;00m\u001b[38;5;21;01msparql\u001b[39;00m\u001b[38;5;21;01m.\u001b[39;00m\u001b[38;5;21;01mmain\u001b[39;00m\n\u001b[1;32m--> 527\u001b[0m   query \u001b[38;5;241m=\u001b[39m \u001b[38;5;28;43mself\u001b[39;49m\u001b[38;5;241;43m.\u001b[39;49m\u001b[43m_prepare_sparql\u001b[49m\u001b[43m(\u001b[49m\u001b[43msparql\u001b[49m\u001b[43m,\u001b[49m\u001b[43m \u001b[49m\u001b[43merror_on_undefined_entities\u001b[49m\u001b[43m)\u001b[49m\n\u001b[0;32m    528\u001b[0m   \u001b[38;5;28;01mreturn\u001b[39;00m query\u001b[38;5;241m.\u001b[39mexecute(params)\n",
      "File \u001b[1;32mc:\\Users\\JON80843\\Mott MacDonald\\H2020 PROBONO Green Deal - Do\\Develop\\WP3\\T3.5 - knowledge base - github pages\\.venv\\lib\\site-packages\\owlready2\\namespace.py:533\u001b[0m, in \u001b[0;36mWorld._prepare_sparql\u001b[1;34m(self, sparql, error_on_undefined_entities)\u001b[0m\n\u001b[0;32m    530\u001b[0m \u001b[38;5;129m@lru_cache\u001b[39m(maxsize \u001b[38;5;241m=\u001b[39m \u001b[38;5;241m1024\u001b[39m)\n\u001b[0;32m    531\u001b[0m \u001b[38;5;28;01mdef\u001b[39;00m \u001b[38;5;21m_prepare_sparql\u001b[39m(\u001b[38;5;28mself\u001b[39m, sparql, error_on_undefined_entities):\n\u001b[0;32m    532\u001b[0m   \u001b[38;5;28;01mimport\u001b[39;00m \u001b[38;5;21;01mowlready2\u001b[39;00m\u001b[38;5;21;01m.\u001b[39;00m\u001b[38;5;21;01msparql\u001b[39;00m\u001b[38;5;21;01m.\u001b[39;00m\u001b[38;5;21;01mmain\u001b[39;00m\n\u001b[1;32m--> 533\u001b[0m   \u001b[38;5;28;01mreturn\u001b[39;00m \u001b[43mowlready2\u001b[49m\u001b[38;5;241;43m.\u001b[39;49m\u001b[43msparql\u001b[49m\u001b[38;5;241;43m.\u001b[39;49m\u001b[43mmain\u001b[49m\u001b[38;5;241;43m.\u001b[39;49m\u001b[43mTranslator\u001b[49m\u001b[43m(\u001b[49m\u001b[38;5;28;43mself\u001b[39;49m\u001b[43m,\u001b[49m\u001b[43m \u001b[49m\u001b[43merror_on_undefined_entities\u001b[49m\u001b[43m)\u001b[49m\u001b[38;5;241;43m.\u001b[39;49m\u001b[43mparse\u001b[49m\u001b[43m(\u001b[49m\u001b[43msparql\u001b[49m\u001b[43m)\u001b[49m\n",
      "File \u001b[1;32mc:\\Users\\JON80843\\Mott MacDonald\\H2020 PROBONO Green Deal - Do\\Develop\\WP3\\T3.5 - knowledge base - github pages\\.venv\\lib\\site-packages\\owlready2\\sparql\\main.py:61\u001b[0m, in \u001b[0;36mTranslator.parse\u001b[1;34m(self, sparql)\u001b[0m\n\u001b[0;32m     59\u001b[0m   \u001b[38;5;28mself\u001b[39m\u001b[38;5;241m.\u001b[39mescape_mark \u001b[38;5;241m+\u001b[39m\u001b[38;5;241m=\u001b[39m \u001b[38;5;124m\"\u001b[39m\u001b[38;5;124mç\u001b[39m\u001b[38;5;124m\"\u001b[39m\n\u001b[0;32m     60\u001b[0m CURRENT_TRANSLATOR\u001b[38;5;241m.\u001b[39mset(\u001b[38;5;28mself\u001b[39m)\n\u001b[1;32m---> 61\u001b[0m \u001b[38;5;28mself\u001b[39m\u001b[38;5;241m.\u001b[39mmain_query \u001b[38;5;241m=\u001b[39m \u001b[43mPARSER\u001b[49m\u001b[38;5;241;43m.\u001b[39;49m\u001b[43mparse\u001b[49m\u001b[43m(\u001b[49m\u001b[43mLEXER\u001b[49m\u001b[38;5;241;43m.\u001b[39;49m\u001b[43mlex\u001b[49m\u001b[43m(\u001b[49m\u001b[43msparql\u001b[49m\u001b[43m)\u001b[49m\u001b[43m)\u001b[49m\n\u001b[0;32m     62\u001b[0m \u001b[38;5;28;01mreturn\u001b[39;00m \u001b[38;5;28mself\u001b[39m\u001b[38;5;241m.\u001b[39mfinalize()\n",
      "File \u001b[1;32mc:\\Users\\JON80843\\Mott MacDonald\\H2020 PROBONO Green Deal - Do\\Develop\\WP3\\T3.5 - knowledge base - github pages\\.venv\\lib\\site-packages\\owlready2\\rply.py:416\u001b[0m, in \u001b[0;36mLRParser.parse\u001b[1;34m(self, tokenizer, state)\u001b[0m\n\u001b[0;32m    414\u001b[0m \u001b[38;5;28;01mif\u001b[39;00m \u001b[38;5;28mself\u001b[39m\u001b[38;5;241m.\u001b[39mlr_table\u001b[38;5;241m.\u001b[39mdefault_reductions[current_state]:\n\u001b[0;32m    415\u001b[0m   t \u001b[38;5;241m=\u001b[39m \u001b[38;5;28mself\u001b[39m\u001b[38;5;241m.\u001b[39mlr_table\u001b[38;5;241m.\u001b[39mdefault_reductions[current_state]\n\u001b[1;32m--> 416\u001b[0m   current_state \u001b[38;5;241m=\u001b[39m \u001b[38;5;28;43mself\u001b[39;49m\u001b[38;5;241;43m.\u001b[39;49m\u001b[43m_reduce_production\u001b[49m\u001b[43m(\u001b[49m\n\u001b[0;32m    417\u001b[0m \u001b[43m    \u001b[49m\u001b[43mt\u001b[49m\u001b[43m,\u001b[49m\u001b[43m \u001b[49m\u001b[43msymstack\u001b[49m\u001b[43m,\u001b[49m\u001b[43m \u001b[49m\u001b[43mstatestack\u001b[49m\u001b[43m,\u001b[49m\u001b[43m \u001b[49m\u001b[43mstate\u001b[49m\n\u001b[0;32m    418\u001b[0m \u001b[43m  \u001b[49m\u001b[43m)\u001b[49m\n\u001b[0;32m    419\u001b[0m   \u001b[38;5;28;01mcontinue\u001b[39;00m\n\u001b[0;32m    421\u001b[0m \u001b[38;5;28;01mif\u001b[39;00m lookahead \u001b[38;5;129;01mis\u001b[39;00m \u001b[38;5;28;01mNone\u001b[39;00m:\n",
      "File \u001b[1;32mc:\\Users\\JON80843\\Mott MacDonald\\H2020 PROBONO Green Deal - Do\\Develop\\WP3\\T3.5 - knowledge base - github pages\\.venv\\lib\\site-packages\\owlready2\\rply.py:465\u001b[0m, in \u001b[0;36mLRParser._reduce_production\u001b[1;34m(self, t, symstack, statestack, state)\u001b[0m\n\u001b[0;32m    463\u001b[0m \u001b[38;5;28;01mdel\u001b[39;00m symstack[start:]\n\u001b[0;32m    464\u001b[0m \u001b[38;5;28;01mdel\u001b[39;00m statestack[start:]\n\u001b[1;32m--> 465\u001b[0m \u001b[38;5;28;01mif\u001b[39;00m state \u001b[38;5;129;01mis\u001b[39;00m \u001b[38;5;28;01mNone\u001b[39;00m: value \u001b[38;5;241m=\u001b[39m \u001b[43mp\u001b[49m\u001b[38;5;241;43m.\u001b[39;49m\u001b[43mfunc\u001b[49m\u001b[43m(\u001b[49m\u001b[43mtarg\u001b[49m\u001b[43m)\u001b[49m\n\u001b[0;32m    466\u001b[0m \u001b[38;5;28;01melse\u001b[39;00m:             value \u001b[38;5;241m=\u001b[39m p\u001b[38;5;241m.\u001b[39mfunc(state, targ)\n\u001b[0;32m    467\u001b[0m symstack\u001b[38;5;241m.\u001b[39mappend(value)\n",
      "File \u001b[1;32mc:\\Users\\JON80843\\Mott MacDonald\\H2020 PROBONO Green Deal - Do\\Develop\\WP3\\T3.5 - knowledge base - github pages\\.venv\\lib\\site-packages\\owlready2\\sparql\\parser.py:133\u001b[0m, in \u001b[0;36mf\u001b[1;34m(p)\u001b[0m\n\u001b[0;32m    129\u001b[0m \u001b[38;5;129m@pg\u001b[39m\u001b[38;5;241m.\u001b[39mproduction(\u001b[38;5;124m\"\u001b[39m\u001b[38;5;124mmain : prefix_decl* select_query\u001b[39m\u001b[38;5;124m\"\u001b[39m)\n\u001b[0;32m    130\u001b[0m \u001b[38;5;66;03m#@pg.production(\"main : prefix_decl* construct_query values_clause?\")\u001b[39;00m\n\u001b[0;32m    131\u001b[0m \u001b[38;5;66;03m#@pg.production(\"main : prefix_decl* describe_query values_clause?\")\u001b[39;00m\n\u001b[0;32m    132\u001b[0m \u001b[38;5;66;03m#@pg.production(\"main : prefix_decl* ask_query values_clause?\")\u001b[39;00m\n\u001b[1;32m--> 133\u001b[0m \u001b[38;5;28;01mdef\u001b[39;00m \u001b[38;5;21mf\u001b[39m(p): \u001b[38;5;28;01mreturn\u001b[39;00m _parse_select_query(p[\u001b[38;5;241m1\u001b[39m])\n",
      "File \u001b[1;32mc:\\Users\\JON80843\\Mott MacDonald\\H2020 PROBONO Green Deal - Do\\Develop\\WP3\\T3.5 - knowledge base - github pages\\.venv\\lib\\site-packages\\owlready2\\sparql\\parser.py:142\u001b[0m, in \u001b[0;36m_parse_select_query\u001b[1;34m(p)\u001b[0m\n\u001b[0;32m    140\u001b[0m \u001b[38;5;28;01mif\u001b[39;00m \u001b[38;5;28misinstance\u001b[39m(p[\u001b[38;5;241m4\u001b[39m], NotExistsBlock): \u001b[38;5;66;03m# FILTER NOT EXISTS alone; not supported as the main query.\u001b[39;00m\n\u001b[0;32m    141\u001b[0m   p[\u001b[38;5;241m4\u001b[39m] \u001b[38;5;241m=\u001b[39m SimpleTripleBlock([p[\u001b[38;5;241m4\u001b[39m]])\n\u001b[1;32m--> 142\u001b[0m main_query \u001b[38;5;241m=\u001b[39m \u001b[43mtranslator\u001b[49m\u001b[38;5;241;43m.\u001b[39;49m\u001b[43mnew_sql_query\u001b[49m\u001b[43m(\u001b[49m\u001b[38;5;124;43m\"\u001b[39;49m\u001b[38;5;124;43mmain\u001b[39;49m\u001b[38;5;124;43m\"\u001b[39;49m\u001b[43m,\u001b[49m\u001b[43m \u001b[49m\u001b[43mp\u001b[49m\u001b[43m[\u001b[49m\u001b[38;5;241;43m4\u001b[39;49m\u001b[43m]\u001b[49m\u001b[43m,\u001b[49m\u001b[43m \u001b[49m\u001b[43mp\u001b[49m\u001b[43m[\u001b[49m\u001b[38;5;241;43m2\u001b[39;49m\u001b[43m]\u001b[49m\u001b[43m,\u001b[49m\u001b[43m \u001b[49m\u001b[43mp\u001b[49m\u001b[43m[\u001b[49m\u001b[38;5;241;43m1\u001b[39;49m\u001b[43m]\u001b[49m\u001b[43m,\u001b[49m\u001b[43m \u001b[49m\u001b[43mp\u001b[49m\u001b[43m[\u001b[49m\u001b[38;5;241;43m5\u001b[39;49m\u001b[43m]\u001b[49m\u001b[43m)\u001b[49m\n\u001b[0;32m    143\u001b[0m main_query\u001b[38;5;241m.\u001b[39mtype \u001b[38;5;241m=\u001b[39m \u001b[38;5;124m\"\u001b[39m\u001b[38;5;124mselect\u001b[39m\u001b[38;5;124m\"\u001b[39m\n\u001b[0;32m    144\u001b[0m \u001b[38;5;28;01mreturn\u001b[39;00m main_query\n",
      "File \u001b[1;32mc:\\Users\\JON80843\\Mott MacDonald\\H2020 PROBONO Green Deal - Do\\Develop\\WP3\\T3.5 - knowledge base - github pages\\.venv\\lib\\site-packages\\owlready2\\sparql\\main.py:268\u001b[0m, in \u001b[0;36mTranslator.new_sql_query\u001b[1;34m(self, name, block, selects, distinct, solution_modifier, preliminary, extra_binds, nested_inside, copy_vars)\u001b[0m\n\u001b[0;32m    265\u001b[0m   s\u001b[38;5;241m.\u001b[39mparse_triples(block)\n\u001b[0;32m    266\u001b[0m   \u001b[38;5;28;01mfor\u001b[39;00m bind \u001b[38;5;129;01min\u001b[39;00m extra_binds: s\u001b[38;5;241m.\u001b[39mparse_bind(bind)\n\u001b[1;32m--> 268\u001b[0m   \u001b[43ms\u001b[49m\u001b[38;5;241;43m.\u001b[39;49m\u001b[43mfinalize_columns\u001b[49m\u001b[43m(\u001b[49m\u001b[43m)\u001b[49m\n\u001b[0;32m    270\u001b[0m \u001b[38;5;28;01melif\u001b[39;00m \u001b[38;5;28misinstance\u001b[39m(block, UnionBlock):\n\u001b[0;32m    271\u001b[0m   \u001b[38;5;28;01mfor\u001b[39;00m alternative \u001b[38;5;129;01min\u001b[39;00m block:\n",
      "File \u001b[1;32mc:\\Users\\JON80843\\Mott MacDonald\\H2020 PROBONO Green Deal - Do\\Develop\\WP3\\T3.5 - knowledge base - github pages\\.venv\\lib\\site-packages\\owlready2\\sparql\\main.py:1216\u001b[0m, in \u001b[0;36mSQLQuery.finalize_columns\u001b[1;34m(self)\u001b[0m\n\u001b[0;32m   1214\u001b[0m     sql_type \u001b[38;5;241m=\u001b[39m \u001b[38;5;124m\"\u001b[39m\u001b[38;5;124mobjs\u001b[39m\u001b[38;5;124m\"\u001b[39m\n\u001b[0;32m   1215\u001b[0m   \u001b[38;5;28;01melse\u001b[39;00m:\n\u001b[1;32m-> 1216\u001b[0m     \u001b[38;5;28;01mraise\u001b[39;00m \u001b[38;5;167;01mValueError\u001b[39;00m(\u001b[38;5;124m\"\u001b[39m\u001b[38;5;124mCannot select \u001b[39m\u001b[38;5;124m'\u001b[39m\u001b[38;5;132;01m%s\u001b[39;00m\u001b[38;5;124m'\u001b[39m\u001b[38;5;124m!\u001b[39m\u001b[38;5;124m\"\u001b[39m \u001b[38;5;241m%\u001b[39m select)\n\u001b[0;32m   1218\u001b[0m \u001b[38;5;28;01mif\u001b[39;00m \u001b[38;5;28misinstance\u001b[39m(sql, \u001b[38;5;28mstr\u001b[39m) \u001b[38;5;129;01mand\u001b[39;00m sql\u001b[38;5;241m.\u001b[39mstartswith(\u001b[38;5;124m\"\u001b[39m\u001b[38;5;124mIN \u001b[39m\u001b[38;5;124m\"\u001b[39m):\n\u001b[0;32m   1219\u001b[0m   \u001b[38;5;28;01mif\u001b[39;00m   \u001b[38;5;129;01mnot\u001b[39;00m \u001b[38;5;124m\"\u001b[39m\u001b[38;5;124m,\u001b[39m\u001b[38;5;124m\"\u001b[39m \u001b[38;5;129;01min\u001b[39;00m sql: sql \u001b[38;5;241m=\u001b[39m sql[\u001b[38;5;241m4\u001b[39m : \u001b[38;5;241m-\u001b[39m\u001b[38;5;241m1\u001b[39m]\n",
      "\u001b[1;31mValueError\u001b[0m: Cannot select 'VAR:'?Stakeholder''!"
     ]
    }
   ],
   "source": [
    "EX(\"\"\"PREFIX pbn: <https://github.com/mm80843/T3.5/raw/main/pbn_t3_5.owl#>\n",
    "   SELECT ?Stakeholder\n",
    "WHERE {\n",
    "  ?risk a pbn:Risk ;\n",
    "        pbn:has_RiskSubject ?stakeholder .\n",
    "}\"\"\")"
   ]
  }
 ],
 "metadata": {
  "kernelspec": {
   "display_name": ".venv",
   "language": "python",
   "name": "python3"
  },
  "language_info": {
   "codemirror_mode": {
    "name": "ipython",
    "version": 3
   },
   "file_extension": ".py",
   "mimetype": "text/x-python",
   "name": "python",
   "nbconvert_exporter": "python",
   "pygments_lexer": "ipython3",
   "version": "3.8.15"
  }
 },
 "nbformat": 4,
 "nbformat_minor": 2
}
