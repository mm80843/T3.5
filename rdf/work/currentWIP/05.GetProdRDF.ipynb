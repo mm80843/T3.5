{
 "cells": [
  {
   "cell_type": "code",
   "execution_count": 1,
   "metadata": {},
   "outputs": [
    {
     "name": "stdout",
     "output_type": "stream",
     "text": [
      "0.40\n"
     ]
    },
    {
     "name": "stderr",
     "output_type": "stream",
     "text": [
      "* Owlready2 * Warning: optimized Cython parser module 'owlready2_optimized' is not available, defaulting to slower Python implementation\n"
     ]
    }
   ],
   "source": [
    "import pandas as pd\n",
    "import os, glob\n",
    "\n",
    "from owlready2 import *\n",
    "import owlready2\n",
    "print(owlready2.VERSION)\n",
    "\n",
    "\n",
    "import importlib.util\n",
    "import sys\n",
    "spec = importlib.util.spec_from_file_location(\"rdfutils\", \"../../../utils/rdfutils.py\")\n",
    "u = importlib.util.module_from_spec(spec)\n",
    "sys.modules[\"rdfutils\"] = u\n",
    "spec.loader.exec_module(u)\n",
    "\n",
    "from datetime import datetime\n",
    "\n",
    "def NOW():\n",
    "    now = datetime.now()\n",
    "    current_time = now.strftime(\"%H:%M:%S\")\n",
    "    return \"Current Time = \"+ str(current_time)\n",
    "\n",
    "%load_ext autoreload\n",
    "%autoreload 2\n"
   ]
  },
  {
   "cell_type": "code",
   "execution_count": 2,
   "metadata": {},
   "outputs": [],
   "source": [
    "from dotenv import load_dotenv\n",
    "load_dotenv('.env')\n",
    "import json, requests\n",
    "import importlib.util\n",
    "import sys\n",
    "\n",
    "spec = importlib.util.spec_from_file_location(\"llm\", \"../../../utils/llm.py\")\n",
    "h = importlib.util.module_from_spec(spec)\n",
    "sys.modules[\"llm\"] = h\n",
    "spec.loader.exec_module(h)\n",
    "\n",
    "URL = os.getenv(\"KG_URL_FCT\")\n",
    "TOK3N = os.getenv(\"KG_TOKEN\")"
   ]
  },
  {
   "cell_type": "code",
   "execution_count": 3,
   "metadata": {},
   "outputs": [
    {
     "name": "stdout",
     "output_type": "stream",
     "text": [
      "PBNThing\n",
      "BenefReturn\n",
      "Benef\n",
      "Article\n",
      "Risk\n",
      "ISO_Scale\n",
      "RiskHealth\n",
      "RiskType\n",
      "Stakeholder\n",
      "Stakeholder_Type\n",
      "Technology\n",
      "ISO_Impact\n",
      "ISO_Purpose\n",
      "StakeholderGroup\n",
      "StakeholderSubgroup\n",
      "TechGroup\n",
      "TechSubGroup\n",
      "Mitigation\n",
      "BP_Enabler\n",
      "BP_Transmission\n",
      "Blueprint\n",
      "BP_Scale\n",
      "BP_Phase\n",
      "BP_Permanent\n",
      "BP_Type\n",
      "BP_Intervention\n",
      "PBNCategory\n",
      "RiskGroup\n",
      "RiskSubgroup\n",
      "CAO_Group\n",
      "CAO_Subgroup\n",
      "BP_Theme\n",
      "BP_Category\n",
      "aBlueprint\n"
     ]
    }
   ],
   "source": [
    "onto = get_ontology(\"WIP.owl\").load()\n",
    "dIDct = u.createDict(onto) "
   ]
  },
  {
   "cell_type": "code",
   "execution_count": 7,
   "metadata": {},
   "outputs": [
    {
     "name": "stdout",
     "output_type": "stream",
     "text": [
      "ID: 0 \t Author: Luc Jonveaux\n",
      "ID: 1 \t License: CC BY-NC-SA\n",
      "ID: 2 \t Language: English\n",
      "ID: 3 \t Project: PROBONO\n",
      "ID: 4 \t Task: T3.5\n",
      "ID: 5 \t Description: Creation of a knowledge graph based on a litterature review, augmented by use of LLMs.\n",
      "ID: 6 \t Changes from: 0.0\n",
      "ID: 7 \t Changes: Creation of the knowledge graph\n",
      "ID: 8 \t Changes from: 0.1\n",
      "ID: 9 \t Changes: Adding relations, simplified ontology, closest items, and descriptions\n",
      "ID: 10 \t Creation: 11/11/2023\n"
     ]
    }
   ],
   "source": [
    "comments = u.checkComments(onto)"
   ]
  },
  {
   "cell_type": "markdown",
   "metadata": {},
   "source": [
    "# Testing custom SPARQL queries"
   ]
  },
  {
   "cell_type": "code",
   "execution_count": 7,
   "metadata": {},
   "outputs": [
    {
     "name": "stderr",
     "output_type": "stream",
     "text": [
      "[autoreload of rdfutils failed: Traceback (most recent call last):\n",
      "  File \"/home/kelu/projets/T3.5/venv/lib/python3.10/site-packages/IPython/extensions/autoreload.py\", line 273, in check\n",
      "    superreload(m, reload, self.old_objects)\n",
      "  File \"/home/kelu/projets/T3.5/venv/lib/python3.10/site-packages/IPython/extensions/autoreload.py\", line 471, in superreload\n",
      "    module = reload(module)\n",
      "  File \"/usr/lib/python3.10/importlib/__init__.py\", line 168, in reload\n",
      "    raise ModuleNotFoundError(f\"spec not found for the module {name!r}\", name=name)\n",
      "ModuleNotFoundError: spec not found for the module 'rdfutils'\n",
      "]\n"
     ]
    }
   ],
   "source": [
    "from IPython.display import display, Markdown"
   ]
  },
  {
   "cell_type": "code",
   "execution_count": 8,
   "metadata": {},
   "outputs": [],
   "source": [
    "def EX(REQ):\n",
    "    return list(default_world.sparql(REQ))\n",
    "    \n",
    "def ask(QUESTION,prefix=\"sparql\",overwrite=False,MODEL=\"gpt-3.5-turbo-1106\",seed=\"\"):\n",
    "    CONTEXT  = \"You are an expert in the sparql language.\"\n",
    "    CONTEXT += \"You will have to provide  a sparql request that counts the number of classes in a knowledge graph, \\\n",
    "          please answer with the request as between ```sparql ``` tags, and then provide details of how the request is built.\"\n",
    "    REQ = {\n",
    "        \"context\": CONTEXT,\n",
    "        \"question\": QUESTION,\n",
    "        \"model\": MODEL,\n",
    "        \"token\": TOK3N,\n",
    "        \"overwrite\": overwrite,\n",
    "        \"source\": \"local-sparqlqueries\",\n",
    "        \"seed\" : seed\n",
    "    }\n",
    "\n",
    "    H = h.hashme(CONTEXT+QUESTION+seed)\n",
    "    cached = \"cache/\"+prefix+\"_\"+H+\".json\"\n",
    "    if not os.path.isfile(cached) or overwrite:\n",
    "        x = requests.post(URL+\"ask/\", json = REQ)\n",
    "        #print(x.text)\n",
    "        answer = json.loads(x.text)[\"answer\"]\n",
    "        h.svt(cached,answer)\n",
    "    else:\n",
    "        answer = h.ldt(cached)\n",
    "    A = [x.replace(\"sparql\\n\",\"\").strip() for x in answer.split(\"```\") if len(x)]\n",
    "\n",
    "    display(Markdown((A[-1])))\n",
    "    display(Markdown(\"--------\"))\n",
    "    display(Markdown(\"```sparql\\n\"+(A[-2])+\"\\n```\"))\n",
    "    display(Markdown(\"--------\"))\n",
    "    B = EX(A[-2])\n",
    "    return B"
   ]
  },
  {
   "cell_type": "code",
   "execution_count": 9,
   "metadata": {},
   "outputs": [],
   "source": [
    "specifics =\"\"\"The ontology we are reviewing has several classes:\n",
    "* 'Risk': A specific risk\n",
    "* 'Mitigation': A mitigation against a risk\n",
    "* 'Technology': A technology used to mitigate a risk\n",
    "* 'T' : A category used to classify Technology\n",
    "* 'Stakeholder': People related to risks\n",
    "* 'Article': Sources of information\n",
    "They are linked using the following properties:\n",
    "* A 'Risk' has a 'Mitigation' : noted with the property : 'has_RiskMitigation' \n",
    "* A 'Risk' has a 'Technology' : noted with the property : 'has_RiskTechnology'\n",
    "* A 'Risk' impacts a 'Stakeholder' : noted with the property : Risk->'has_RiskSubject'->Stakeholder . Inverse is 'has_SubjectRisk' .\n",
    "* A 'Risk' can be mitigated by a 'Stakeholder' :  noted with the property : 'has_RiskOwner'\n",
    "* A 'T' contains 'Technology', noted with the property:  Technology->'has_T'->T . Inverse is 'has_GroupTech' .\n",
    "Note that all classes have capital letters as part of their names.\n",
    "\n",
    "This ontology can be added in the sparql request introducing:\n",
    "PREFIX pbn: <https://github.com/mm80843/T3.5/raw/main/pbn_t3_5.owl#>\n",
    "\"\"\""
   ]
  },
  {
   "cell_type": "code",
   "execution_count": 10,
   "metadata": {},
   "outputs": [
    {
     "data": {
      "text/markdown": [
       "To count the number of classes in the knowledge graph, the SPARQL query uses a SELECT clause with the COUNT aggregate function to count the instances of a class. The WHERE clause specifies that the ?class variable must be an instance of the owl:Class. By using the PREFIX directive, the query associates the pbn namespace with the base ontology URI, enabling the use of the ontology's classes.\n",
       "\n",
       "The query does not include specific class names as it aims to retrieve a general count of all classes in the ontology. This way, it can capture any additional classes that might be added to the ontology in the future."
      ],
      "text/plain": [
       "<IPython.core.display.Markdown object>"
      ]
     },
     "metadata": {},
     "output_type": "display_data"
    },
    {
     "data": {
      "text/markdown": [
       "--------"
      ],
      "text/plain": [
       "<IPython.core.display.Markdown object>"
      ]
     },
     "metadata": {},
     "output_type": "display_data"
    },
    {
     "data": {
      "text/markdown": [
       "```sparql\n",
       "PREFIX pbn: <https://github.com/mm80843/T3.5/raw/main/pbn_t3_5.owl#>\n",
       "\n",
       "SELECT (COUNT(?class) AS ?classCount)\n",
       "WHERE {\n",
       "  ?class a owl:Class\n",
       "}\n",
       "```"
      ],
      "text/plain": [
       "<IPython.core.display.Markdown object>"
      ]
     },
     "metadata": {},
     "output_type": "display_data"
    },
    {
     "data": {
      "text/markdown": [
       "--------"
      ],
      "text/plain": [
       "<IPython.core.display.Markdown object>"
      ]
     },
     "metadata": {},
     "output_type": "display_data"
    },
    {
     "data": {
      "text/plain": [
       "[[34]]"
      ]
     },
     "execution_count": 10,
     "metadata": {},
     "output_type": "execute_result"
    }
   ],
   "source": [
    "A = ask(specifics+\"How do I count the number of classes\",overwrite=False,MODEL=\"gpt-3.5-turbo-1106\",seed=\"\")\n",
    "A"
   ]
  },
  {
   "cell_type": "code",
   "execution_count": 12,
   "metadata": {},
   "outputs": [
    {
     "data": {
      "text/markdown": [
       "This SPARQL query accomplishes the task of counting how many technologies belong to each TechGroup and sorting them in ascending order (largest TechGroup first) while keeping the top 7. Here's a breakdown of the query:\n",
       "\n",
       "1. The SPARQL query starts with a PREFIX declaration to define the namespace prefix for the ontology: `PREFIX pbn: <https://github.com/mm80843/T3.5/raw/main/pbn_t3_5.owl#>`. This prefix will be used to simplify the notation of the ontology classes and properties in the query.\n",
       "\n",
       "2. The SELECT clause includes the variables `?techGroup` and `(COUNT(?technology) AS ?techCount)`. This part of the query specifies the variables to be selected in the results. `?techGroup` will represent the label of the TechGroup, and `?techCount` will represent the count of technologies associated with each TechGroup.\n",
       "\n",
       "3. The WHERE clause includes the triple patterns to match the relationships between technologies and TechGroups. It specifies that a `?technology` entity is of type `pbn:Technology` and has the property `pbn:has_TechGroup` with the object `?techGroupObj`. Additionally, it retrieves the label of the `?techGroupObj` using the `rdfs:label` property and assigns it to the variable `?techGroup`.\n",
       "\n",
       "4. The GROUP BY clause groups the results based on the variable `?techGroup`, which represents the label of the TechGroup.\n",
       "\n",
       "5. The ORDER BY clause sorts the results in descending order of `?techCount`, which represents the count of technologies for each TechGroup.\n",
       "\n",
       "6. The LIMIT 7 clause ensures that only the top 7 results are returned, representing the largest TechGroups based on the count of technologies.\n",
       "\n",
       "Overall, this SPARQL query effectively counts the number of technologies belonging to each TechGroup and provides the results in the desired order and limit."
      ],
      "text/plain": [
       "<IPython.core.display.Markdown object>"
      ]
     },
     "metadata": {},
     "output_type": "display_data"
    },
    {
     "data": {
      "text/markdown": [
       "--------"
      ],
      "text/plain": [
       "<IPython.core.display.Markdown object>"
      ]
     },
     "metadata": {},
     "output_type": "display_data"
    },
    {
     "data": {
      "text/markdown": [
       "```sparql\n",
       "PREFIX pbn: <https://github.com/mm80843/T3.5/raw/main/pbn_t3_5.owl#>\n",
       "SELECT ?techGroup (COUNT(?technology) AS ?techCount)\n",
       "WHERE {\n",
       "  ?technology a pbn:Technology ;\n",
       "             pbn:has_TechGroup ?techGroupObj .\n",
       "  ?techGroupObj a pbn:TechGroup ;\n",
       "               rdfs:label ?techGroup .\n",
       "} \n",
       "GROUP BY ?techGroup\n",
       "ORDER BY DESC(?techCount)\n",
       "LIMIT 7\n",
       "```"
      ],
      "text/plain": [
       "<IPython.core.display.Markdown object>"
      ]
     },
     "metadata": {},
     "output_type": "display_data"
    },
    {
     "data": {
      "text/markdown": [
       "--------"
      ],
      "text/plain": [
       "<IPython.core.display.Markdown object>"
      ]
     },
     "metadata": {},
     "output_type": "display_data"
    },
    {
     "data": {
      "text/plain": [
       "[['Healthcare', 5802],\n",
       " ['Data analytics', 3322],\n",
       " ['Urban planning', 2131],\n",
       " ['Infrastructure management', 2017],\n",
       " ['Communication', 1813],\n",
       " ['Digital and information management', 1684],\n",
       " ['Sensors and monitoring', 1270]]"
      ]
     },
     "execution_count": 12,
     "metadata": {},
     "output_type": "execute_result"
    }
   ],
   "source": [
    "A = ask(specifics+\"How do I count how many Technology belong to each T, and sort in ascending order (largest T first), keeping the top 7?\",overwrite=False,MODEL=\"gpt-3.5-turbo-1106\",seed=\"3\") # gpt-4-0613\n",
    "A"
   ]
  },
  {
   "cell_type": "code",
   "execution_count": 13,
   "metadata": {},
   "outputs": [
    {
     "data": {
      "text/plain": [
       "[['Healthcare', 5802],\n",
       " ['Data analytics', 3322],\n",
       " ['Urban planning', 2131],\n",
       " ['Infrastructure management', 2017],\n",
       " ['Communication', 1813],\n",
       " ['Digital and information management', 1684],\n",
       " ['Sensors and monitoring', 1270]]"
      ]
     },
     "execution_count": 13,
     "metadata": {},
     "output_type": "execute_result"
    }
   ],
   "source": [
    "EX(\"\"\"PREFIX pbn: <https://github.com/mm80843/T3.5/raw/main/pbn_t3_5.owl#>\n",
    "SELECT ?T (COUNT(?technology) AS ?techCount)\n",
    "WHERE {\n",
    "  ?technology a pbn:Technology ;\n",
    "             pbn:has_T ?TObj .\n",
    "  ?TObj a pbn:T ;\n",
    "               rdfs:label ?T .\n",
    "} \n",
    "GROUP BY ?T\n",
    "ORDER BY DESC(?techCount)\n",
    "LIMIT 7\"\"\")"
   ]
  },
  {
   "cell_type": "code",
   "execution_count": 9,
   "metadata": {},
   "outputs": [
    {
     "data": {
      "text/markdown": [
       "This SPARQL query is identifying the 'TechGroup' and its label that has the most 'Technology' items linked to a 'Risk'. The query consists of the following elements:\n",
       "\n",
       "1. First, we specify the prefix for our ontology using `PREFIX pbn: <https://github.com/mm80843/T3.5/raw/main/pbn_t3_5.owl#>`.\n",
       "\n",
       "2. We then use a SELECT query to retrieve the 'TechGroup' and count the number of 'Technology' items associated with a 'Risk'. We alias the count as `?numTechnologies`.\n",
       "\n",
       "3. In the WHERE clause, we specify the pattern where a 'Risk' is linked to a 'Technology' through the property `pbn:has_RiskTechnology`, and the 'Technology' is linked to a 'TechGroup' using the property `pbn:has_TechGroup`.\n",
       "\n",
       "4. We use the GROUP BY clause to group the results by the 'TechGroup'.\n",
       "\n",
       "5. We then use the ORDER BY clause to sort the results in descending order based on the count of 'Technology' items.\n",
       "\n",
       "6. Finally, we use the LIMIT 1 clause to retrieve only the top 'TechGroup' with the most linked 'Technology' items."
      ],
      "text/plain": [
       "<IPython.core.display.Markdown object>"
      ]
     },
     "metadata": {},
     "output_type": "display_data"
    },
    {
     "data": {
      "text/markdown": [
       "--------"
      ],
      "text/plain": [
       "<IPython.core.display.Markdown object>"
      ]
     },
     "metadata": {},
     "output_type": "display_data"
    },
    {
     "data": {
      "text/markdown": [
       "```sparql\n",
       "PREFIX pbn: <https://github.com/mm80843/T3.5/raw/main/pbn_t3_5.owl#>\n",
       "\n",
       "SELECT ?techGroup (COUNT(?technology) AS ?numTechnologies)\n",
       "WHERE {\n",
       "  ?risk a pbn:Risk ;\n",
       "        pbn:has_RiskTechnology ?technology .\n",
       "  ?technology pbn:has_TechGroup ?techGroup .\n",
       "}\n",
       "GROUP BY ?techGroup\n",
       "ORDER BY DESC(?numTechnologies)\n",
       "LIMIT 1```"
      ],
      "text/plain": [
       "<IPython.core.display.Markdown object>"
      ]
     },
     "metadata": {},
     "output_type": "display_data"
    },
    {
     "data": {
      "text/markdown": [
       "--------"
      ],
      "text/plain": [
       "<IPython.core.display.Markdown object>"
      ]
     },
     "metadata": {},
     "output_type": "display_data"
    },
    {
     "data": {
      "text/plain": [
       "[[WIP.PBN__TechGroup_2, 12729]]"
      ]
     },
     "execution_count": 9,
     "metadata": {},
     "output_type": "execute_result"
    }
   ],
   "source": [
    "A = ask(specifics+\"How do I identify the T, and its label, that has the most Technology items linked to a Risk?\",overwrite=False,MODEL=\"gpt-3.5-turbo-1106\",seed=\"5\")\n",
    "A"
   ]
  },
  {
   "cell_type": "code",
   "execution_count": 10,
   "metadata": {},
   "outputs": [
    {
     "data": {
      "text/markdown": [
       "In the SPARQL request provided, the PREFIX statement is used to define a namespace 'pbn' for the ontology. In this case, it is linked to the ontology in question. \n",
       "The SELECT statement is then used to count the number of distinct classes in the knowledge graph. The COUNT and DISTINCT functions are employed within the SELECT statement to achieve this. The COUNT function counts the number of instances found, while the DISTINCT function ensures that only unique instances are counted. The WHERE statement is utilized to specify the pattern to match, which in this case is any instance (?s) that belongs to a class (?class).\n",
       "Once the request is executed against the knowledge graph, it will return the count of distinct classes present in the ontology."
      ],
      "text/plain": [
       "<IPython.core.display.Markdown object>"
      ]
     },
     "metadata": {},
     "output_type": "display_data"
    },
    {
     "data": {
      "text/markdown": [
       "--------"
      ],
      "text/plain": [
       "<IPython.core.display.Markdown object>"
      ]
     },
     "metadata": {},
     "output_type": "display_data"
    },
    {
     "data": {
      "text/markdown": [
       "```sparql\n",
       "PREFIX pbn: <https://github.com/mm80843/T3.5/raw/main/pbn_t3_5.owl#>\n",
       "\n",
       "SELECT (COUNT(DISTINCT ?class) as ?classCount)\n",
       "WHERE {\n",
       "    ?s a ?class\n",
       "}```"
      ],
      "text/plain": [
       "<IPython.core.display.Markdown object>"
      ]
     },
     "metadata": {},
     "output_type": "display_data"
    },
    {
     "data": {
      "text/markdown": [
       "--------"
      ],
      "text/plain": [
       "<IPython.core.display.Markdown object>"
      ]
     },
     "metadata": {},
     "output_type": "display_data"
    },
    {
     "data": {
      "text/plain": [
       "[[38]]"
      ]
     },
     "execution_count": 10,
     "metadata": {},
     "output_type": "execute_result"
    }
   ],
   "source": [
    "A = ask(specifics+\"Let's take the 'pbn:PBN__Risk_1', one of the Risk instance. How do I identify the different individual T to which the Technology instances linked to the Risk (through has_RiskTechnology) ?\",overwrite=False,MODEL=\"gpt-3.5-turbo-1106\",seed=\"5\")\n",
    "A"
   ]
  },
  {
   "cell_type": "code",
   "execution_count": 14,
   "metadata": {},
   "outputs": [
    {
     "data": {
      "text/markdown": [
       "In the given sparql query, we use the provided ontology prefix to specify the namespace of the classes and properties. The query starts by selecting the variables ?class and ?child. We then match all instances ?child of each class ?class using the triple pattern ?child a ?class. The COUNT function is used to count the number of instances for each class, and the results are grouped by ?class. The GROUP BY clause ensures that the count is performed for each unique class. We then order the results by the count in descending order using ORDER BY DESC(?count). Finally, we limit the results to the top 5 classes using the LIMIT 5 clause."
      ],
      "text/plain": [
       "<IPython.core.display.Markdown object>"
      ]
     },
     "metadata": {},
     "output_type": "display_data"
    },
    {
     "data": {
      "text/markdown": [
       "--------"
      ],
      "text/plain": [
       "<IPython.core.display.Markdown object>"
      ]
     },
     "metadata": {},
     "output_type": "display_data"
    },
    {
     "data": {
      "text/markdown": [
       "```sparql\n",
       "PREFIX pbn: <https://github.com/mm80843/T3.5/raw/main/pbn_t3_5.owl#>\n",
       "\n",
       "SELECT ?class (COUNT(?child) AS ?count)\n",
       "WHERE {\n",
       "  ?child a ?class .\n",
       "} \n",
       "GROUP BY ?class\n",
       "ORDER BY DESC(?count)\n",
       "LIMIT 5\n",
       "```"
      ],
      "text/plain": [
       "<IPython.core.display.Markdown object>"
      ]
     },
     "metadata": {},
     "output_type": "display_data"
    },
    {
     "data": {
      "text/markdown": [
       "--------"
      ],
      "text/plain": [
       "<IPython.core.display.Markdown object>"
      ]
     },
     "metadata": {},
     "output_type": "display_data"
    },
    {
     "data": {
      "text/plain": [
       "[[owl.NamedIndividual, 88171],\n",
       " [WIP.Technology, 23139],\n",
       " [WIP.Mitigation, 22950],\n",
       " [WIP.Risk, 21159],\n",
       " [WIP.Stakeholder, 16128]]"
      ]
     },
     "execution_count": 14,
     "metadata": {},
     "output_type": "execute_result"
    }
   ],
   "source": [
    "A = ask(specifics+\"How do I count the top 5 classes that have the children with most instances?\",overwrite=False,MODEL=\"gpt-3.5-turbo-1106\",seed=\"\")\n",
    "A"
   ]
  },
  {
   "cell_type": "code",
   "execution_count": 15,
   "metadata": {},
   "outputs": [
    {
     "data": {
      "text/markdown": [
       "In the provided SPARQL request, we start by defining a prefix for the ontology namespace using the `PREFIX` keyword. We use `pbn` as the prefix for `https://github.com/mm80843/T3.5/raw/main/pbn_t3_5.owl#`.\n",
       "\n",
       "We then use the `SELECT` clause to specify the variables we want to retrieve from the query. In this case, we want to count the number of distinct classes, so we use the `COUNT` function and alias the result as `?numberOfClasses`.\n",
       "\n",
       "The `WHERE` clause is used to specify the patterns to match in the data. In this case, we want to find all resources that are instances of the `owl:Class` class. The `?class` variable is used as a placeholder for these instances.\n",
       "\n",
       "Overall, the query will count the number of distinct classes in the knowledge graph by matching instances of the `owl:Class` class."
      ],
      "text/plain": [
       "<IPython.core.display.Markdown object>"
      ]
     },
     "metadata": {},
     "output_type": "display_data"
    },
    {
     "data": {
      "text/markdown": [
       "--------"
      ],
      "text/plain": [
       "<IPython.core.display.Markdown object>"
      ]
     },
     "metadata": {},
     "output_type": "display_data"
    },
    {
     "data": {
      "text/markdown": [
       "```sparql\n",
       "PREFIX pbn: <https://github.com/mm80843/T3.5/raw/main/pbn_t3_5.owl#>\n",
       "\n",
       "SELECT (COUNT(DISTINCT ?class) as ?numberOfClasses)\n",
       "WHERE {\n",
       "  ?class a owl:Class .\n",
       "}\n",
       "```"
      ],
      "text/plain": [
       "<IPython.core.display.Markdown object>"
      ]
     },
     "metadata": {},
     "output_type": "display_data"
    },
    {
     "data": {
      "text/markdown": [
       "--------"
      ],
      "text/plain": [
       "<IPython.core.display.Markdown object>"
      ]
     },
     "metadata": {},
     "output_type": "display_data"
    }
   ],
   "source": [
    "A = ask(specifics+\"I have a specific Risk. How can I search for the list of Stakeholder impacted?\",overwrite=False,MODEL=\"gpt-3.5-turbo-1106\",seed=\"\")"
   ]
  },
  {
   "cell_type": "code",
   "execution_count": 28,
   "metadata": {},
   "outputs": [
    {
     "data": {
      "text/plain": [
       "[[WIP.PBN__Technology_1010,\n",
       "  WIP.PBN__Risk_4243,\n",
       "  WIP.PBN__RiskSubgroup_46,\n",
       "  40,\n",
       "  WIP.PBN__TechSubGroup_75]]"
      ]
     },
     "execution_count": 28,
     "metadata": {},
     "output_type": "execute_result"
    }
   ],
   "source": [
    "A = EX(\"\"\"PREFIX pbn: <https://github.com/mm80843/T3.5/raw/main/pbn_t3_5.owl#>\n",
    "\n",
    "SELECT DISTINCT ?tech ?risk ?riskSubgroup (COUNT(?riskGroup) AS ?techCount) ?techSubgroup\n",
    "WHERE {\n",
    "  ?techSubgroup a pbn:TechSubGroup .\n",
    "  ?tech  pbn:has_TechSubgroup ?techSubgroup .\n",
    "  ?risk pbn:has_RiskTechnology ?tech .\n",
    "  ?risk pbn:has_RiskSubgroup ?riskSubgroup .\n",
    "  FILTER (?tech = pbn:PBN__Technology_1010)  # Replace 'SpecificTechnology' with the actual technology of interest\n",
    "}\n",
    "GROUP BY ?riskGroup\n",
    "ORDER BY DESC(?techCount)\n",
    "LIMIT 5\"\"\")\n",
    "A"
   ]
  },
  {
   "cell_type": "code",
   "execution_count": 24,
   "metadata": {},
   "outputs": [
    {
     "data": {
      "text/plain": [
       "[['Natural ventilation systems',\n",
       "  'Inadequate natural ventilation in hospital and built environments',\n",
       "  'Lack of emphasis on air quality',\n",
       "  'Green infrastructure management'],\n",
       " ['Natural ventilation systems',\n",
       "  'Inadequate natural ventilation in hospital and built environments',\n",
       "  'Lack of emphasis on air quality',\n",
       "  'Green infrastructure management'],\n",
       " ['Natural ventilation systems',\n",
       "  'Inadequate natural ventilation in hospital and built environments',\n",
       "  'Lack of emphasis on air quality',\n",
       "  'Green infrastructure management'],\n",
       " ['Natural ventilation systems',\n",
       "  'Inadequate natural ventilation in hospital and built environments',\n",
       "  'Lack of emphasis on air quality',\n",
       "  'Green infrastructure management'],\n",
       " ['Natural ventilation systems',\n",
       "  'Inadequate natural ventilation in hospital and built environments',\n",
       "  'Lack of emphasis on air quality',\n",
       "  'Green infrastructure management']]"
      ]
     },
     "execution_count": 24,
     "metadata": {},
     "output_type": "execute_result"
    }
   ],
   "source": [
    "[[x[0].label[0],x[1].label[0],x[2].label[0],x[4].label[0]] for x in A]"
   ]
  },
  {
   "cell_type": "code",
   "execution_count": 19,
   "metadata": {},
   "outputs": [
    {
     "data": {
      "text/plain": [
       "[[WIP.PBN__Technology_1010,\n",
       "  WIP.PBN__Risk_4243,\n",
       "  WIP.PBN__RiskSubgroup_46,\n",
       "  80,\n",
       "  WIP.PBN__Technology_2117],\n",
       " [WIP.PBN__Technology_1010,\n",
       "  WIP.PBN__Risk_4243,\n",
       "  WIP.PBN__RiskSubgroup_46,\n",
       "  80,\n",
       "  WIP.PBN__Technology_2117],\n",
       " [WIP.PBN__Technology_1010,\n",
       "  WIP.PBN__Risk_4243,\n",
       "  WIP.PBN__RiskSubgroup_46,\n",
       "  80,\n",
       "  WIP.PBN__Technology_2117],\n",
       " [WIP.PBN__Technology_1010,\n",
       "  WIP.PBN__Risk_4243,\n",
       "  WIP.PBN__RiskSubgroup_46,\n",
       "  80,\n",
       "  WIP.PBN__Technology_2117],\n",
       " [WIP.PBN__Technology_1010,\n",
       "  WIP.PBN__Risk_4243,\n",
       "  WIP.PBN__RiskSubgroup_46,\n",
       "  80,\n",
       "  WIP.PBN__Technology_2117]]"
      ]
     },
     "execution_count": 19,
     "metadata": {},
     "output_type": "execute_result"
    }
   ],
   "source": [
    "A = EX(\"\"\"PREFIX pbn: <https://github.com/mm80843/T3.5/raw/main/pbn_t3_5.owl#>\n",
    "\n",
    "SELECT ?tech ?risk ?riskSubgroup (COUNT(?riskGroup) AS ?techCount) ?techSubgroup\n",
    "WHERE {\n",
    "  ?tech a pbn:Technology .\n",
    "  ?tech  pbn:has_TechSubgroup ?techSubgroup .\n",
    "  ?risk pbn:has_RiskTechnology ?tech .\n",
    "  ?risk pbn:has_RiskSubgroup ?riskSubgroup .\n",
    "  FILTER (?tech = pbn:PBN__Technology_1010)  # Replace 'SpecificTechnology' with the actual technology of interest\n",
    "}\n",
    "GROUP BY ?riskGroup\n",
    "ORDER BY DESC(?techCount)\n",
    "LIMIT 5\"\"\")\n",
    "A"
   ]
  },
  {
   "cell_type": "code",
   "execution_count": 41,
   "metadata": {},
   "outputs": [
    {
     "data": {
      "text/plain": [
       "[WIP.Technology]"
      ]
     },
     "execution_count": 41,
     "metadata": {},
     "output_type": "execute_result"
    }
   ],
   "source": [
    "onto.PBN__Technology_2117.is_a"
   ]
  },
  {
   "cell_type": "code",
   "execution_count": 32,
   "metadata": {},
   "outputs": [
    {
     "data": {
      "text/plain": [
       "[['Hvac and ventilation systems',\n",
       "  'Natural ventilation systems',\n",
       "  'Inadequate natural ventilation in hospital and built environments',\n",
       "  'Lack of emphasis on air quality'],\n",
       " ['Hvac and ventilation systems',\n",
       "  'Natural ventilation systems',\n",
       "  'Open windows may lead to the uneven distribution of pollutants in a building, with some areas experiencing rapid reduction in pollutant concentration while others take longer to clear.',\n",
       "  'Air quality and pollution effects'],\n",
       " ['Hvac and ventilation systems',\n",
       "  'Natural ventilation systems',\n",
       "  'Decreased transmission during summer period by 22%',\n",
       "  'Climate change effects'],\n",
       " ['Hvac and ventilation systems',\n",
       "  'Natural ventilation systems',\n",
       "  'Human fear of infectious diseases has led to the emergence of artificial environments.',\n",
       "  'Health behaviors and compliance'],\n",
       " ['Hvac and ventilation systems',\n",
       "  'Natural ventilation systems',\n",
       "  'High scores for lighting and electricity domains, impacting energy efficiency and potential to reduce disease transmission',\n",
       "  'Energy consumption and sustainability issues']]"
      ]
     },
     "execution_count": 32,
     "metadata": {},
     "output_type": "execute_result"
    }
   ],
   "source": [
    "[[x[0].label[0],x[1].label[0],x[2].label[0],x[3].label[0]] for x in A]"
   ]
  },
  {
   "cell_type": "code",
   "execution_count": 123,
   "metadata": {},
   "outputs": [
    {
     "data": {
      "text/plain": [
       "[[WIP.PBN__RiskGroup_4, WIP.PBN__Risk_2240, WIP.PBN__Technology_22],\n",
       " [WIP.PBN__RiskGroup_4, WIP.PBN__Risk_1463, WIP.PBN__Technology_22],\n",
       " [WIP.PBN__RiskGroup_4, WIP.PBN__Risk_1243, WIP.PBN__Technology_22],\n",
       " [WIP.PBN__RiskGroup_4, WIP.PBN__Risk_1163, WIP.PBN__Technology_22],\n",
       " [WIP.PBN__RiskGroup_4, WIP.PBN__Risk_1763, WIP.PBN__Technology_22],\n",
       " [WIP.PBN__RiskGroup_4, WIP.PBN__Risk_1627, WIP.PBN__Technology_22],\n",
       " [WIP.PBN__RiskGroup_4, WIP.PBN__Risk_356, WIP.PBN__Technology_22],\n",
       " [WIP.PBN__RiskGroup_4, WIP.PBN__Risk_2365, WIP.PBN__Technology_22],\n",
       " [WIP.PBN__RiskGroup_4, WIP.PBN__Risk_1144, WIP.PBN__Technology_22],\n",
       " [WIP.PBN__RiskGroup_4, WIP.PBN__Risk_2293, WIP.PBN__Technology_22],\n",
       " [WIP.PBN__RiskGroup_4, WIP.PBN__Risk_1649, WIP.PBN__Technology_22],\n",
       " [WIP.PBN__RiskGroup_4, WIP.PBN__Risk_1628, WIP.PBN__Technology_22],\n",
       " [WIP.PBN__RiskGroup_4, WIP.PBN__Risk_264, WIP.PBN__Technology_358],\n",
       " [WIP.PBN__RiskGroup_4, WIP.PBN__Risk_939, WIP.PBN__Technology_185],\n",
       " [WIP.PBN__RiskGroup_4, WIP.PBN__Risk_1666, WIP.PBN__Technology_185],\n",
       " [WIP.PBN__RiskGroup_4, WIP.PBN__Risk_4215, WIP.PBN__Technology_185],\n",
       " [WIP.PBN__RiskGroup_4, WIP.PBN__Risk_4309, WIP.PBN__Technology_185],\n",
       " [WIP.PBN__RiskGroup_4, WIP.PBN__Risk_4410, WIP.PBN__Technology_185],\n",
       " [WIP.PBN__RiskGroup_4, WIP.PBN__Risk_4443, WIP.PBN__Technology_185],\n",
       " [WIP.PBN__RiskGroup_4, WIP.PBN__Risk_4786, WIP.PBN__Technology_185],\n",
       " [WIP.PBN__RiskGroup_4, WIP.PBN__Risk_4789, WIP.PBN__Technology_185],\n",
       " [WIP.PBN__RiskGroup_4, WIP.PBN__Risk_4935, WIP.PBN__Technology_185],\n",
       " [WIP.PBN__RiskGroup_4, WIP.PBN__Risk_5621, WIP.PBN__Technology_185],\n",
       " [WIP.PBN__RiskGroup_4, WIP.PBN__Risk_5664, WIP.PBN__Technology_185],\n",
       " [WIP.PBN__RiskGroup_4, WIP.PBN__Risk_6309, WIP.PBN__Technology_185],\n",
       " [WIP.PBN__RiskGroup_4, WIP.PBN__Risk_6319, WIP.PBN__Technology_185],\n",
       " [WIP.PBN__RiskGroup_4, WIP.PBN__Risk_7498, WIP.PBN__Technology_185],\n",
       " [WIP.PBN__RiskGroup_4, WIP.PBN__Risk_7998, WIP.PBN__Technology_185],\n",
       " [WIP.PBN__RiskGroup_4, WIP.PBN__Risk_8232, WIP.PBN__Technology_185],\n",
       " [WIP.PBN__RiskGroup_4, WIP.PBN__Risk_8309, WIP.PBN__Technology_185],\n",
       " [WIP.PBN__RiskGroup_4, WIP.PBN__Risk_8311, WIP.PBN__Technology_185],\n",
       " [WIP.PBN__RiskGroup_4, WIP.PBN__Risk_8339, WIP.PBN__Technology_185],\n",
       " [WIP.PBN__RiskGroup_4, WIP.PBN__Risk_8340, WIP.PBN__Technology_185],\n",
       " [WIP.PBN__RiskGroup_4, WIP.PBN__Risk_8345, WIP.PBN__Technology_185],\n",
       " [WIP.PBN__RiskGroup_4, WIP.PBN__Risk_8404, WIP.PBN__Technology_185],\n",
       " [WIP.PBN__RiskGroup_4, WIP.PBN__Risk_8910, WIP.PBN__Technology_185],\n",
       " [WIP.PBN__RiskGroup_4, WIP.PBN__Risk_8999, WIP.PBN__Technology_185],\n",
       " [WIP.PBN__RiskGroup_4, WIP.PBN__Risk_9091, WIP.PBN__Technology_185],\n",
       " [WIP.PBN__RiskGroup_4, WIP.PBN__Risk_9834, WIP.PBN__Technology_185],\n",
       " [WIP.PBN__RiskGroup_4, WIP.PBN__Risk_10230, WIP.PBN__Technology_185],\n",
       " [WIP.PBN__RiskGroup_4, WIP.PBN__Risk_10336, WIP.PBN__Technology_185],\n",
       " [WIP.PBN__RiskGroup_4, WIP.PBN__Risk_10530, WIP.PBN__Technology_185],\n",
       " [WIP.PBN__RiskGroup_4, WIP.PBN__Risk_10538, WIP.PBN__Technology_185],\n",
       " [WIP.PBN__RiskGroup_4, WIP.PBN__Risk_12175, WIP.PBN__Technology_185],\n",
       " [WIP.PBN__RiskGroup_4, WIP.PBN__Risk_12750, WIP.PBN__Technology_185],\n",
       " [WIP.PBN__RiskGroup_4, WIP.PBN__Risk_12757, WIP.PBN__Technology_185],\n",
       " [WIP.PBN__RiskGroup_4, WIP.PBN__Risk_12796, WIP.PBN__Technology_185],\n",
       " [WIP.PBN__RiskGroup_4, WIP.PBN__Risk_13711, WIP.PBN__Technology_185],\n",
       " [WIP.PBN__RiskGroup_4, WIP.PBN__Risk_13715, WIP.PBN__Technology_185],\n",
       " [WIP.PBN__RiskGroup_4, WIP.PBN__Risk_13732, WIP.PBN__Technology_185],\n",
       " [WIP.PBN__RiskGroup_4, WIP.PBN__Risk_16439, WIP.PBN__Technology_185],\n",
       " [WIP.PBN__RiskGroup_4, WIP.PBN__Risk_16447, WIP.PBN__Technology_185],\n",
       " [WIP.PBN__RiskGroup_4, WIP.PBN__Risk_16472, WIP.PBN__Technology_185],\n",
       " [WIP.PBN__RiskGroup_4, WIP.PBN__Risk_16488, WIP.PBN__Technology_185],\n",
       " [WIP.PBN__RiskGroup_4, WIP.PBN__Risk_16552, WIP.PBN__Technology_185],\n",
       " [WIP.PBN__RiskGroup_4, WIP.PBN__Risk_16564, WIP.PBN__Technology_185],\n",
       " [WIP.PBN__RiskGroup_4, WIP.PBN__Risk_16930, WIP.PBN__Technology_185],\n",
       " [WIP.PBN__RiskGroup_4, WIP.PBN__Risk_17589, WIP.PBN__Technology_185],\n",
       " [WIP.PBN__RiskGroup_4, WIP.PBN__Risk_17655, WIP.PBN__Technology_185],\n",
       " [WIP.PBN__RiskGroup_4, WIP.PBN__Risk_17657, WIP.PBN__Technology_185],\n",
       " [WIP.PBN__RiskGroup_4, WIP.PBN__Risk_17663, WIP.PBN__Technology_185],\n",
       " [WIP.PBN__RiskGroup_4, WIP.PBN__Risk_17963, WIP.PBN__Technology_185],\n",
       " [WIP.PBN__RiskGroup_4, WIP.PBN__Risk_17989, WIP.PBN__Technology_185],\n",
       " [WIP.PBN__RiskGroup_4, WIP.PBN__Risk_18088, WIP.PBN__Technology_185],\n",
       " [WIP.PBN__RiskGroup_4, WIP.PBN__Risk_18098, WIP.PBN__Technology_185],\n",
       " [WIP.PBN__RiskGroup_4, WIP.PBN__Risk_19919, WIP.PBN__Technology_185],\n",
       " [WIP.PBN__RiskGroup_4, WIP.PBN__Risk_19938, WIP.PBN__Technology_185],\n",
       " [WIP.PBN__RiskGroup_4, WIP.PBN__Risk_20245, WIP.PBN__Technology_185],\n",
       " [WIP.PBN__RiskGroup_4, WIP.PBN__Risk_20480, WIP.PBN__Technology_185],\n",
       " [WIP.PBN__RiskGroup_4, WIP.PBN__Risk_264, WIP.PBN__Technology_230],\n",
       " [WIP.PBN__RiskGroup_4, WIP.PBN__Risk_1687, WIP.PBN__Technology_230],\n",
       " [WIP.PBN__RiskGroup_4, WIP.PBN__Risk_271, WIP.PBN__Technology_230],\n",
       " [WIP.PBN__RiskGroup_4, WIP.PBN__Risk_19104, WIP.PBN__Technology_230],\n",
       " [WIP.PBN__RiskGroup_4, WIP.PBN__Risk_2367, WIP.PBN__Technology_341],\n",
       " [WIP.PBN__RiskGroup_4, WIP.PBN__Risk_264, WIP.PBN__Technology_341],\n",
       " [WIP.PBN__RiskGroup_4, WIP.PBN__Risk_2118, WIP.PBN__Technology_341],\n",
       " [WIP.PBN__RiskGroup_4, WIP.PBN__Risk_269, WIP.PBN__Technology_341],\n",
       " [WIP.PBN__RiskGroup_4, WIP.PBN__Risk_4808, WIP.PBN__Technology_341],\n",
       " [WIP.PBN__RiskGroup_4, WIP.PBN__Risk_4961, WIP.PBN__Technology_341],\n",
       " [WIP.PBN__RiskGroup_4, WIP.PBN__Risk_9745, WIP.PBN__Technology_341],\n",
       " [WIP.PBN__RiskGroup_4, WIP.PBN__Risk_13846, WIP.PBN__Technology_341],\n",
       " [WIP.PBN__RiskGroup_4, WIP.PBN__Risk_939, WIP.PBN__Technology_138],\n",
       " [WIP.PBN__RiskGroup_4, WIP.PBN__Risk_1666, WIP.PBN__Technology_138],\n",
       " [WIP.PBN__RiskGroup_4, WIP.PBN__Risk_1327, WIP.PBN__Technology_138],\n",
       " [WIP.PBN__RiskGroup_4, WIP.PBN__Risk_1406, WIP.PBN__Technology_138],\n",
       " [WIP.PBN__RiskGroup_4, WIP.PBN__Risk_1727, WIP.PBN__Technology_138],\n",
       " [WIP.PBN__RiskGroup_4, WIP.PBN__Risk_3542, WIP.PBN__Technology_138],\n",
       " [WIP.PBN__RiskGroup_4, WIP.PBN__Risk_3782, WIP.PBN__Technology_138],\n",
       " [WIP.PBN__RiskGroup_4, WIP.PBN__Risk_4243, WIP.PBN__Technology_138],\n",
       " [WIP.PBN__RiskGroup_4, WIP.PBN__Risk_4270, WIP.PBN__Technology_138],\n",
       " [WIP.PBN__RiskGroup_4, WIP.PBN__Risk_4273, WIP.PBN__Technology_138],\n",
       " [WIP.PBN__RiskGroup_4, WIP.PBN__Risk_4410, WIP.PBN__Technology_138],\n",
       " [WIP.PBN__RiskGroup_4, WIP.PBN__Risk_4428, WIP.PBN__Technology_138],\n",
       " [WIP.PBN__RiskGroup_4, WIP.PBN__Risk_4443, WIP.PBN__Technology_138],\n",
       " [WIP.PBN__RiskGroup_4, WIP.PBN__Risk_4451, WIP.PBN__Technology_138],\n",
       " [WIP.PBN__RiskGroup_4, WIP.PBN__Risk_4929, WIP.PBN__Technology_138],\n",
       " [WIP.PBN__RiskGroup_4, WIP.PBN__Risk_4945, WIP.PBN__Technology_138],\n",
       " [WIP.PBN__RiskGroup_4, WIP.PBN__Risk_5113, WIP.PBN__Technology_138],\n",
       " [WIP.PBN__RiskGroup_4, WIP.PBN__Risk_5114, WIP.PBN__Technology_138],\n",
       " [WIP.PBN__RiskGroup_4, WIP.PBN__Risk_5115, WIP.PBN__Technology_138],\n",
       " [WIP.PBN__RiskGroup_4, WIP.PBN__Risk_5116, WIP.PBN__Technology_138],\n",
       " [WIP.PBN__RiskGroup_4, WIP.PBN__Risk_5390, WIP.PBN__Technology_138],\n",
       " [WIP.PBN__RiskGroup_4, WIP.PBN__Risk_5563, WIP.PBN__Technology_138],\n",
       " [WIP.PBN__RiskGroup_4, WIP.PBN__Risk_5587, WIP.PBN__Technology_138],\n",
       " [WIP.PBN__RiskGroup_4, WIP.PBN__Risk_5664, WIP.PBN__Technology_138],\n",
       " [WIP.PBN__RiskGroup_4, WIP.PBN__Risk_5727, WIP.PBN__Technology_138],\n",
       " [WIP.PBN__RiskGroup_4, WIP.PBN__Risk_5729, WIP.PBN__Technology_138],\n",
       " [WIP.PBN__RiskGroup_4, WIP.PBN__Risk_6093, WIP.PBN__Technology_138],\n",
       " [WIP.PBN__RiskGroup_4, WIP.PBN__Risk_6094, WIP.PBN__Technology_138],\n",
       " [WIP.PBN__RiskGroup_4, WIP.PBN__Risk_6139, WIP.PBN__Technology_138],\n",
       " [WIP.PBN__RiskGroup_4, WIP.PBN__Risk_6140, WIP.PBN__Technology_138],\n",
       " [WIP.PBN__RiskGroup_4, WIP.PBN__Risk_6145, WIP.PBN__Technology_138],\n",
       " [WIP.PBN__RiskGroup_4, WIP.PBN__Risk_6146, WIP.PBN__Technology_138],\n",
       " [WIP.PBN__RiskGroup_4, WIP.PBN__Risk_6147, WIP.PBN__Technology_138],\n",
       " [WIP.PBN__RiskGroup_4, WIP.PBN__Risk_6153, WIP.PBN__Technology_138],\n",
       " [WIP.PBN__RiskGroup_4, WIP.PBN__Risk_6156, WIP.PBN__Technology_138],\n",
       " [WIP.PBN__RiskGroup_4, WIP.PBN__Risk_6200, WIP.PBN__Technology_138],\n",
       " [WIP.PBN__RiskGroup_4, WIP.PBN__Risk_6201, WIP.PBN__Technology_138],\n",
       " [WIP.PBN__RiskGroup_4, WIP.PBN__Risk_6215, WIP.PBN__Technology_138],\n",
       " [WIP.PBN__RiskGroup_4, WIP.PBN__Risk_6309, WIP.PBN__Technology_138],\n",
       " [WIP.PBN__RiskGroup_4, WIP.PBN__Risk_6319, WIP.PBN__Technology_138],\n",
       " [WIP.PBN__RiskGroup_4, WIP.PBN__Risk_6865, WIP.PBN__Technology_138],\n",
       " [WIP.PBN__RiskGroup_4, WIP.PBN__Risk_6989, WIP.PBN__Technology_138],\n",
       " [WIP.PBN__RiskGroup_4, WIP.PBN__Risk_7000, WIP.PBN__Technology_138],\n",
       " [WIP.PBN__RiskGroup_4, WIP.PBN__Risk_7199, WIP.PBN__Technology_138],\n",
       " [WIP.PBN__RiskGroup_4, WIP.PBN__Risk_7227, WIP.PBN__Technology_138],\n",
       " [WIP.PBN__RiskGroup_4, WIP.PBN__Risk_7484, WIP.PBN__Technology_138],\n",
       " [WIP.PBN__RiskGroup_4, WIP.PBN__Risk_7509, WIP.PBN__Technology_138],\n",
       " [WIP.PBN__RiskGroup_4, WIP.PBN__Risk_7628, WIP.PBN__Technology_138],\n",
       " [WIP.PBN__RiskGroup_4, WIP.PBN__Risk_7825, WIP.PBN__Technology_138],\n",
       " [WIP.PBN__RiskGroup_4, WIP.PBN__Risk_7880, WIP.PBN__Technology_138],\n",
       " [WIP.PBN__RiskGroup_4, WIP.PBN__Risk_7881, WIP.PBN__Technology_138],\n",
       " [WIP.PBN__RiskGroup_4, WIP.PBN__Risk_7897, WIP.PBN__Technology_138],\n",
       " [WIP.PBN__RiskGroup_4, WIP.PBN__Risk_7998, WIP.PBN__Technology_138],\n",
       " [WIP.PBN__RiskGroup_4, WIP.PBN__Risk_8308, WIP.PBN__Technology_138],\n",
       " [WIP.PBN__RiskGroup_4, WIP.PBN__Risk_8309, WIP.PBN__Technology_138],\n",
       " [WIP.PBN__RiskGroup_4, WIP.PBN__Risk_8351, WIP.PBN__Technology_138],\n",
       " [WIP.PBN__RiskGroup_4, WIP.PBN__Risk_8362, WIP.PBN__Technology_138],\n",
       " [WIP.PBN__RiskGroup_4, WIP.PBN__Risk_8365, WIP.PBN__Technology_138],\n",
       " [WIP.PBN__RiskGroup_4, WIP.PBN__Risk_8386, WIP.PBN__Technology_138],\n",
       " [WIP.PBN__RiskGroup_4, WIP.PBN__Risk_8387, WIP.PBN__Technology_138],\n",
       " [WIP.PBN__RiskGroup_4, WIP.PBN__Risk_8390, WIP.PBN__Technology_138],\n",
       " [WIP.PBN__RiskGroup_4, WIP.PBN__Risk_8404, WIP.PBN__Technology_138],\n",
       " [WIP.PBN__RiskGroup_4, WIP.PBN__Risk_8910, WIP.PBN__Technology_138],\n",
       " [WIP.PBN__RiskGroup_4, WIP.PBN__Risk_9039, WIP.PBN__Technology_138],\n",
       " [WIP.PBN__RiskGroup_4, WIP.PBN__Risk_9165, WIP.PBN__Technology_138],\n",
       " [WIP.PBN__RiskGroup_4, WIP.PBN__Risk_9465, WIP.PBN__Technology_138],\n",
       " [WIP.PBN__RiskGroup_4, WIP.PBN__Risk_9470, WIP.PBN__Technology_138],\n",
       " [WIP.PBN__RiskGroup_4, WIP.PBN__Risk_9811, WIP.PBN__Technology_138],\n",
       " [WIP.PBN__RiskGroup_4, WIP.PBN__Risk_9834, WIP.PBN__Technology_138],\n",
       " [WIP.PBN__RiskGroup_4, WIP.PBN__Risk_9835, WIP.PBN__Technology_138],\n",
       " [WIP.PBN__RiskGroup_4, WIP.PBN__Risk_10136, WIP.PBN__Technology_138],\n",
       " [WIP.PBN__RiskGroup_4, WIP.PBN__Risk_10158, WIP.PBN__Technology_138],\n",
       " [WIP.PBN__RiskGroup_4, WIP.PBN__Risk_10198, WIP.PBN__Technology_138],\n",
       " [WIP.PBN__RiskGroup_4, WIP.PBN__Risk_10204, WIP.PBN__Technology_138],\n",
       " [WIP.PBN__RiskGroup_4, WIP.PBN__Risk_10208, WIP.PBN__Technology_138],\n",
       " [WIP.PBN__RiskGroup_4, WIP.PBN__Risk_10210, WIP.PBN__Technology_138],\n",
       " [WIP.PBN__RiskGroup_4, WIP.PBN__Risk_10305, WIP.PBN__Technology_138],\n",
       " [WIP.PBN__RiskGroup_4, WIP.PBN__Risk_10336, WIP.PBN__Technology_138],\n",
       " [WIP.PBN__RiskGroup_4, WIP.PBN__Risk_10394, WIP.PBN__Technology_138],\n",
       " [WIP.PBN__RiskGroup_4, WIP.PBN__Risk_10424, WIP.PBN__Technology_138],\n",
       " [WIP.PBN__RiskGroup_4, WIP.PBN__Risk_10460, WIP.PBN__Technology_138],\n",
       " [WIP.PBN__RiskGroup_4, WIP.PBN__Risk_10528, WIP.PBN__Technology_138],\n",
       " [WIP.PBN__RiskGroup_4, WIP.PBN__Risk_10538, WIP.PBN__Technology_138],\n",
       " [WIP.PBN__RiskGroup_4, WIP.PBN__Risk_10680, WIP.PBN__Technology_138],\n",
       " [WIP.PBN__RiskGroup_4, WIP.PBN__Risk_10700, WIP.PBN__Technology_138],\n",
       " [WIP.PBN__RiskGroup_4, WIP.PBN__Risk_10897, WIP.PBN__Technology_138],\n",
       " [WIP.PBN__RiskGroup_4, WIP.PBN__Risk_11720, WIP.PBN__Technology_138],\n",
       " [WIP.PBN__RiskGroup_4, WIP.PBN__Risk_12750, WIP.PBN__Technology_138],\n",
       " [WIP.PBN__RiskGroup_4, WIP.PBN__Risk_12754, WIP.PBN__Technology_138],\n",
       " [WIP.PBN__RiskGroup_4, WIP.PBN__Risk_12784, WIP.PBN__Technology_138],\n",
       " [WIP.PBN__RiskGroup_4, WIP.PBN__Risk_13104, WIP.PBN__Technology_138],\n",
       " [WIP.PBN__RiskGroup_4, WIP.PBN__Risk_13119, WIP.PBN__Technology_138],\n",
       " [WIP.PBN__RiskGroup_4, WIP.PBN__Risk_13715, WIP.PBN__Technology_138],\n",
       " [WIP.PBN__RiskGroup_4, WIP.PBN__Risk_13822, WIP.PBN__Technology_138],\n",
       " [WIP.PBN__RiskGroup_4, WIP.PBN__Risk_13837, WIP.PBN__Technology_138],\n",
       " [WIP.PBN__RiskGroup_4, WIP.PBN__Risk_14069, WIP.PBN__Technology_138],\n",
       " [WIP.PBN__RiskGroup_4, WIP.PBN__Risk_15313, WIP.PBN__Technology_138],\n",
       " [WIP.PBN__RiskGroup_4, WIP.PBN__Risk_15354, WIP.PBN__Technology_138],\n",
       " [WIP.PBN__RiskGroup_4, WIP.PBN__Risk_16472, WIP.PBN__Technology_138],\n",
       " [WIP.PBN__RiskGroup_4, WIP.PBN__Risk_16473, WIP.PBN__Technology_138],\n",
       " [WIP.PBN__RiskGroup_4, WIP.PBN__Risk_16483, WIP.PBN__Technology_138],\n",
       " [WIP.PBN__RiskGroup_4, WIP.PBN__Risk_16488, WIP.PBN__Technology_138],\n",
       " [WIP.PBN__RiskGroup_4, WIP.PBN__Risk_16529, WIP.PBN__Technology_138],\n",
       " [WIP.PBN__RiskGroup_4, WIP.PBN__Risk_16552, WIP.PBN__Technology_138],\n",
       " [WIP.PBN__RiskGroup_4, WIP.PBN__Risk_16564, WIP.PBN__Technology_138],\n",
       " [WIP.PBN__RiskGroup_4, WIP.PBN__Risk_16582, WIP.PBN__Technology_138],\n",
       " [WIP.PBN__RiskGroup_4, WIP.PBN__Risk_16705, WIP.PBN__Technology_138],\n",
       " [WIP.PBN__RiskGroup_4, WIP.PBN__Risk_16930, WIP.PBN__Technology_138],\n",
       " [WIP.PBN__RiskGroup_4, WIP.PBN__Risk_17070, WIP.PBN__Technology_138],\n",
       " [WIP.PBN__RiskGroup_4, WIP.PBN__Risk_17591, WIP.PBN__Technology_138],\n",
       " [WIP.PBN__RiskGroup_4, WIP.PBN__Risk_17639, WIP.PBN__Technology_138],\n",
       " [WIP.PBN__RiskGroup_4, WIP.PBN__Risk_17655, WIP.PBN__Technology_138],\n",
       " [WIP.PBN__RiskGroup_4, WIP.PBN__Risk_17657, WIP.PBN__Technology_138],\n",
       " [WIP.PBN__RiskGroup_4, WIP.PBN__Risk_17663, WIP.PBN__Technology_138],\n",
       " [WIP.PBN__RiskGroup_4, WIP.PBN__Risk_17726, WIP.PBN__Technology_138],\n",
       " [WIP.PBN__RiskGroup_4, WIP.PBN__Risk_17847, WIP.PBN__Technology_138],\n",
       " [WIP.PBN__RiskGroup_4, WIP.PBN__Risk_17849, WIP.PBN__Technology_138],\n",
       " [WIP.PBN__RiskGroup_4, WIP.PBN__Risk_17850, WIP.PBN__Technology_138],\n",
       " [WIP.PBN__RiskGroup_4, WIP.PBN__Risk_17969, WIP.PBN__Technology_138],\n",
       " [WIP.PBN__RiskGroup_4, WIP.PBN__Risk_17984, WIP.PBN__Technology_138],\n",
       " [WIP.PBN__RiskGroup_4, WIP.PBN__Risk_17985, WIP.PBN__Technology_138],\n",
       " [WIP.PBN__RiskGroup_4, WIP.PBN__Risk_17989, WIP.PBN__Technology_138],\n",
       " [WIP.PBN__RiskGroup_4, WIP.PBN__Risk_17993, WIP.PBN__Technology_138],\n",
       " [WIP.PBN__RiskGroup_4, WIP.PBN__Risk_18118, WIP.PBN__Technology_138],\n",
       " [WIP.PBN__RiskGroup_4, WIP.PBN__Risk_18764, WIP.PBN__Technology_138],\n",
       " [WIP.PBN__RiskGroup_4, WIP.PBN__Risk_18965, WIP.PBN__Technology_138],\n",
       " [WIP.PBN__RiskGroup_4, WIP.PBN__Risk_18974, WIP.PBN__Technology_138],\n",
       " [WIP.PBN__RiskGroup_4, WIP.PBN__Risk_19184, WIP.PBN__Technology_138],\n",
       " [WIP.PBN__RiskGroup_4, WIP.PBN__Risk_19457, WIP.PBN__Technology_138],\n",
       " [WIP.PBN__RiskGroup_4, WIP.PBN__Risk_19469, WIP.PBN__Technology_138],\n",
       " [WIP.PBN__RiskGroup_4, WIP.PBN__Risk_19938, WIP.PBN__Technology_138],\n",
       " [WIP.PBN__RiskGroup_4, WIP.PBN__Risk_20042, WIP.PBN__Technology_138],\n",
       " [WIP.PBN__RiskGroup_4, WIP.PBN__Risk_20242, WIP.PBN__Technology_138],\n",
       " [WIP.PBN__RiskGroup_4, WIP.PBN__Risk_20244, WIP.PBN__Technology_138],\n",
       " [WIP.PBN__RiskGroup_4, WIP.PBN__Risk_20245, WIP.PBN__Technology_138],\n",
       " [WIP.PBN__RiskGroup_4, WIP.PBN__Risk_20248, WIP.PBN__Technology_138],\n",
       " [WIP.PBN__RiskGroup_4, WIP.PBN__Risk_20274, WIP.PBN__Technology_138],\n",
       " [WIP.PBN__RiskGroup_4, WIP.PBN__Risk_20480, WIP.PBN__Technology_138],\n",
       " [WIP.PBN__RiskGroup_4, WIP.PBN__Risk_20599, WIP.PBN__Technology_138],\n",
       " [WIP.PBN__RiskGroup_4, WIP.PBN__Risk_2049, WIP.PBN__Technology_1546],\n",
       " [WIP.PBN__RiskGroup_4, WIP.PBN__Risk_1710, WIP.PBN__Technology_1090],\n",
       " [WIP.PBN__RiskGroup_4, WIP.PBN__Risk_1091, WIP.PBN__Technology_139],\n",
       " [WIP.PBN__RiskGroup_4, WIP.PBN__Risk_3057, WIP.PBN__Technology_139],\n",
       " [WIP.PBN__RiskGroup_4, WIP.PBN__Risk_1758, WIP.PBN__Technology_139],\n",
       " [WIP.PBN__RiskGroup_4, WIP.PBN__Risk_1312, WIP.PBN__Technology_139],\n",
       " [WIP.PBN__RiskGroup_4, WIP.PBN__Risk_1418, WIP.PBN__Technology_139],\n",
       " [WIP.PBN__RiskGroup_4, WIP.PBN__Risk_1327, WIP.PBN__Technology_139],\n",
       " [WIP.PBN__RiskGroup_4, WIP.PBN__Risk_2118, WIP.PBN__Technology_139],\n",
       " [WIP.PBN__RiskGroup_4, WIP.PBN__Risk_1761, WIP.PBN__Technology_139],\n",
       " [WIP.PBN__RiskGroup_4, WIP.PBN__Risk_4246, WIP.PBN__Technology_139],\n",
       " [WIP.PBN__RiskGroup_4, WIP.PBN__Risk_4428, WIP.PBN__Technology_139],\n",
       " [WIP.PBN__RiskGroup_4, WIP.PBN__Risk_4429, WIP.PBN__Technology_139],\n",
       " [WIP.PBN__RiskGroup_4, WIP.PBN__Risk_4451, WIP.PBN__Technology_139],\n",
       " [WIP.PBN__RiskGroup_4, WIP.PBN__Risk_4788, WIP.PBN__Technology_139],\n",
       " [WIP.PBN__RiskGroup_4, WIP.PBN__Risk_4945, WIP.PBN__Technology_139],\n",
       " [WIP.PBN__RiskGroup_4, WIP.PBN__Risk_4979, WIP.PBN__Technology_139],\n",
       " [WIP.PBN__RiskGroup_4, WIP.PBN__Risk_5115, WIP.PBN__Technology_139],\n",
       " [WIP.PBN__RiskGroup_4, WIP.PBN__Risk_5116, WIP.PBN__Technology_139],\n",
       " [WIP.PBN__RiskGroup_4, WIP.PBN__Risk_5117, WIP.PBN__Technology_139],\n",
       " [WIP.PBN__RiskGroup_4, WIP.PBN__Risk_5118, WIP.PBN__Technology_139],\n",
       " [WIP.PBN__RiskGroup_4, WIP.PBN__Risk_5119, WIP.PBN__Technology_139],\n",
       " [WIP.PBN__RiskGroup_4, WIP.PBN__Risk_5120, WIP.PBN__Technology_139],\n",
       " [WIP.PBN__RiskGroup_4, WIP.PBN__Risk_5127, WIP.PBN__Technology_139],\n",
       " [WIP.PBN__RiskGroup_4, WIP.PBN__Risk_5129, WIP.PBN__Technology_139],\n",
       " [WIP.PBN__RiskGroup_4, WIP.PBN__Risk_5480, WIP.PBN__Technology_139],\n",
       " [WIP.PBN__RiskGroup_4, WIP.PBN__Risk_5585, WIP.PBN__Technology_139],\n",
       " [WIP.PBN__RiskGroup_4, WIP.PBN__Risk_5602, WIP.PBN__Technology_139],\n",
       " [WIP.PBN__RiskGroup_4, WIP.PBN__Risk_6143, WIP.PBN__Technology_139],\n",
       " [WIP.PBN__RiskGroup_4, WIP.PBN__Risk_6215, WIP.PBN__Technology_139],\n",
       " [WIP.PBN__RiskGroup_4, WIP.PBN__Risk_6304, WIP.PBN__Technology_139],\n",
       " [WIP.PBN__RiskGroup_4, WIP.PBN__Risk_6865, WIP.PBN__Technology_139],\n",
       " [WIP.PBN__RiskGroup_4, WIP.PBN__Risk_7226, WIP.PBN__Technology_139],\n",
       " [WIP.PBN__RiskGroup_4, WIP.PBN__Risk_7616, WIP.PBN__Technology_139],\n",
       " [WIP.PBN__RiskGroup_4, WIP.PBN__Risk_7624, WIP.PBN__Technology_139],\n",
       " [WIP.PBN__RiskGroup_4, WIP.PBN__Risk_7625, WIP.PBN__Technology_139],\n",
       " [WIP.PBN__RiskGroup_4, WIP.PBN__Risk_7796, WIP.PBN__Technology_139],\n",
       " [WIP.PBN__RiskGroup_4, WIP.PBN__Risk_7824, WIP.PBN__Technology_139],\n",
       " [WIP.PBN__RiskGroup_4, WIP.PBN__Risk_7841, WIP.PBN__Technology_139],\n",
       " [WIP.PBN__RiskGroup_4, WIP.PBN__Risk_7881, WIP.PBN__Technology_139],\n",
       " [WIP.PBN__RiskGroup_4, WIP.PBN__Risk_8315, WIP.PBN__Technology_139],\n",
       " [WIP.PBN__RiskGroup_4, WIP.PBN__Risk_8329, WIP.PBN__Technology_139],\n",
       " [WIP.PBN__RiskGroup_4, WIP.PBN__Risk_8359, WIP.PBN__Technology_139],\n",
       " [WIP.PBN__RiskGroup_4, WIP.PBN__Risk_8362, WIP.PBN__Technology_139],\n",
       " [WIP.PBN__RiskGroup_4, WIP.PBN__Risk_8386, WIP.PBN__Technology_139],\n",
       " [WIP.PBN__RiskGroup_4, WIP.PBN__Risk_8387, WIP.PBN__Technology_139],\n",
       " [WIP.PBN__RiskGroup_4, WIP.PBN__Risk_8417, WIP.PBN__Technology_139],\n",
       " [WIP.PBN__RiskGroup_4, WIP.PBN__Risk_8459, WIP.PBN__Technology_139],\n",
       " [WIP.PBN__RiskGroup_4, WIP.PBN__Risk_9143, WIP.PBN__Technology_139],\n",
       " [WIP.PBN__RiskGroup_4, WIP.PBN__Risk_9158, WIP.PBN__Technology_139],\n",
       " [WIP.PBN__RiskGroup_4, WIP.PBN__Risk_9470, WIP.PBN__Technology_139],\n",
       " [WIP.PBN__RiskGroup_4, WIP.PBN__Risk_9814, WIP.PBN__Technology_139],\n",
       " [WIP.PBN__RiskGroup_4, WIP.PBN__Risk_9835, WIP.PBN__Technology_139],\n",
       " [WIP.PBN__RiskGroup_4, WIP.PBN__Risk_10198, WIP.PBN__Technology_139],\n",
       " [WIP.PBN__RiskGroup_4, WIP.PBN__Risk_10305, WIP.PBN__Technology_139],\n",
       " [WIP.PBN__RiskGroup_4, WIP.PBN__Risk_10390, WIP.PBN__Technology_139],\n",
       " [WIP.PBN__RiskGroup_4, WIP.PBN__Risk_10424, WIP.PBN__Technology_139],\n",
       " [WIP.PBN__RiskGroup_4, WIP.PBN__Risk_10499, WIP.PBN__Technology_139],\n",
       " [WIP.PBN__RiskGroup_4, WIP.PBN__Risk_10528, WIP.PBN__Technology_139],\n",
       " [WIP.PBN__RiskGroup_4, WIP.PBN__Risk_10700, WIP.PBN__Technology_139],\n",
       " [WIP.PBN__RiskGroup_4, WIP.PBN__Risk_11720, WIP.PBN__Technology_139],\n",
       " [WIP.PBN__RiskGroup_4, WIP.PBN__Risk_12754, WIP.PBN__Technology_139],\n",
       " [WIP.PBN__RiskGroup_4, WIP.PBN__Risk_13119, WIP.PBN__Technology_139],\n",
       " [WIP.PBN__RiskGroup_4, WIP.PBN__Risk_13210, WIP.PBN__Technology_139],\n",
       " [WIP.PBN__RiskGroup_4, WIP.PBN__Risk_13243, WIP.PBN__Technology_139],\n",
       " [WIP.PBN__RiskGroup_4, WIP.PBN__Risk_13244, WIP.PBN__Technology_139],\n",
       " [WIP.PBN__RiskGroup_4, WIP.PBN__Risk_13871, WIP.PBN__Technology_139],\n",
       " [WIP.PBN__RiskGroup_4, WIP.PBN__Risk_13885, WIP.PBN__Technology_139],\n",
       " [WIP.PBN__RiskGroup_4, WIP.PBN__Risk_13895, WIP.PBN__Technology_139],\n",
       " [WIP.PBN__RiskGroup_4, WIP.PBN__Risk_15313, WIP.PBN__Technology_139],\n",
       " [WIP.PBN__RiskGroup_4, WIP.PBN__Risk_15321, WIP.PBN__Technology_139],\n",
       " [WIP.PBN__RiskGroup_4, WIP.PBN__Risk_16269, WIP.PBN__Technology_139],\n",
       " [WIP.PBN__RiskGroup_4, WIP.PBN__Risk_16284, WIP.PBN__Technology_139],\n",
       " [WIP.PBN__RiskGroup_4, WIP.PBN__Risk_16451, WIP.PBN__Technology_139],\n",
       " [WIP.PBN__RiskGroup_4, WIP.PBN__Risk_16483, WIP.PBN__Technology_139],\n",
       " [WIP.PBN__RiskGroup_4, WIP.PBN__Risk_17073, WIP.PBN__Technology_139],\n",
       " [WIP.PBN__RiskGroup_4, WIP.PBN__Risk_17624, WIP.PBN__Technology_139],\n",
       " [WIP.PBN__RiskGroup_4, WIP.PBN__Risk_17660, WIP.PBN__Technology_139],\n",
       " [WIP.PBN__RiskGroup_4, WIP.PBN__Risk_17969, WIP.PBN__Technology_139],\n",
       " [WIP.PBN__RiskGroup_4, WIP.PBN__Risk_18223, WIP.PBN__Technology_139],\n",
       " [WIP.PBN__RiskGroup_4, WIP.PBN__Risk_18224, WIP.PBN__Technology_139],\n",
       " [WIP.PBN__RiskGroup_4, WIP.PBN__Risk_19184, WIP.PBN__Technology_139],\n",
       " [WIP.PBN__RiskGroup_4, WIP.PBN__Risk_19412, WIP.PBN__Technology_139],\n",
       " [WIP.PBN__RiskGroup_4, WIP.PBN__Risk_19478, WIP.PBN__Technology_139],\n",
       " [WIP.PBN__RiskGroup_4, WIP.PBN__Risk_19914, WIP.PBN__Technology_139],\n",
       " [WIP.PBN__RiskGroup_4, WIP.PBN__Risk_20247, WIP.PBN__Technology_139],\n",
       " [WIP.PBN__RiskGroup_4, WIP.PBN__Risk_20491, WIP.PBN__Technology_139],\n",
       " [WIP.PBN__RiskGroup_4, WIP.PBN__Risk_20599, WIP.PBN__Technology_139],\n",
       " [WIP.PBN__RiskGroup_4, WIP.PBN__Risk_12606, WIP.PBN__Technology_2215],\n",
       " [WIP.PBN__RiskGroup_4, WIP.PBN__Risk_2311, WIP.PBN__Technology_277],\n",
       " [WIP.PBN__RiskGroup_4, WIP.PBN__Risk_3967, WIP.PBN__Technology_277],\n",
       " [WIP.PBN__RiskGroup_4, WIP.PBN__Risk_11833, WIP.PBN__Technology_277],\n",
       " [WIP.PBN__RiskGroup_4, WIP.PBN__Risk_18610, WIP.PBN__Technology_277],\n",
       " [WIP.PBN__RiskGroup_4, WIP.PBN__Risk_20492, WIP.PBN__Technology_277],\n",
       " [WIP.PBN__RiskGroup_4, WIP.PBN__Risk_1420, WIP.PBN__Technology_681],\n",
       " [WIP.PBN__RiskGroup_4, WIP.PBN__Risk_965, WIP.PBN__Technology_1979],\n",
       " [WIP.PBN__RiskGroup_4, WIP.PBN__Risk_3783, WIP.PBN__Technology_1979],\n",
       " [WIP.PBN__RiskGroup_4, WIP.PBN__Risk_5149, WIP.PBN__Technology_1979],\n",
       " [WIP.PBN__RiskGroup_4, WIP.PBN__Risk_9039, WIP.PBN__Technology_1979],\n",
       " [WIP.PBN__RiskGroup_4, WIP.PBN__Risk_9473, WIP.PBN__Technology_1979],\n",
       " [WIP.PBN__RiskGroup_4, WIP.PBN__Risk_16633, WIP.PBN__Technology_1979],\n",
       " [WIP.PBN__RiskGroup_4, WIP.PBN__Risk_16658, WIP.PBN__Technology_1979],\n",
       " [WIP.PBN__RiskGroup_4, WIP.PBN__Risk_17965, WIP.PBN__Technology_1979],\n",
       " [WIP.PBN__RiskGroup_4, WIP.PBN__Risk_17968, WIP.PBN__Technology_1979],\n",
       " [WIP.PBN__RiskGroup_4, WIP.PBN__Risk_17969, WIP.PBN__Technology_1979],\n",
       " [WIP.PBN__RiskGroup_4, WIP.PBN__Risk_20360, WIP.PBN__Technology_1979],\n",
       " [WIP.PBN__RiskGroup_4, WIP.PBN__Risk_20494, WIP.PBN__Technology_1979],\n",
       " [WIP.PBN__RiskGroup_4, WIP.PBN__Risk_1406, WIP.PBN__Technology_660],\n",
       " [WIP.PBN__RiskGroup_4, WIP.PBN__Risk_15164, WIP.PBN__Technology_231],\n",
       " [WIP.PBN__RiskGroup_4, WIP.PBN__Risk_20001, WIP.PBN__Technology_572],\n",
       " [WIP.PBN__RiskGroup_4, WIP.PBN__Risk_1320, WIP.PBN__Technology_495],\n",
       " [WIP.PBN__RiskGroup_4, WIP.PBN__Risk_267, WIP.PBN__Technology_364],\n",
       " [WIP.PBN__RiskGroup_4, WIP.PBN__Risk_4624, WIP.PBN__Technology_433],\n",
       " [WIP.PBN__RiskGroup_4, WIP.PBN__Risk_4502, WIP.PBN__Technology_1879],\n",
       " [WIP.PBN__RiskGroup_4, WIP.PBN__Risk_9378, WIP.PBN__Technology_2270],\n",
       " [WIP.PBN__RiskGroup_4, WIP.PBN__Risk_17568, WIP.PBN__Technology_229],\n",
       " [WIP.PBN__RiskGroup_4, WIP.PBN__Risk_19104, WIP.PBN__Technology_1878],\n",
       " [WIP.PBN__RiskGroup_4, WIP.PBN__Risk_13736, WIP.PBN__Technology_3572],\n",
       " [WIP.PBN__RiskGroup_4, WIP.PBN__Risk_17609, WIP.PBN__Technology_3572],\n",
       " [WIP.PBN__RiskGroup_4, WIP.PBN__Risk_2114, WIP.PBN__Technology_1654],\n",
       " [WIP.PBN__RiskGroup_4, WIP.PBN__Risk_1639, WIP.PBN__Technology_545],\n",
       " [WIP.PBN__RiskGroup_4, WIP.PBN__Risk_5994, WIP.PBN__Technology_545],\n",
       " [WIP.PBN__RiskGroup_4, WIP.PBN__Risk_14561, WIP.PBN__Technology_1259],\n",
       " [WIP.PBN__RiskGroup_4, WIP.PBN__Risk_19240, WIP.PBN__Technology_1259],\n",
       " [WIP.PBN__RiskGroup_4, WIP.PBN__Risk_19269, WIP.PBN__Technology_1259],\n",
       " [WIP.PBN__RiskGroup_4, WIP.PBN__Risk_12777, WIP.PBN__Technology_617],\n",
       " [WIP.PBN__RiskGroup_4, WIP.PBN__Risk_1209, WIP.PBN__Technology_301],\n",
       " [WIP.PBN__RiskGroup_4, WIP.PBN__Risk_5976, WIP.PBN__Technology_488],\n",
       " [WIP.PBN__RiskGroup_4, WIP.PBN__Risk_9511, WIP.PBN__Technology_488],\n",
       " [WIP.PBN__RiskGroup_4, WIP.PBN__Risk_19291, WIP.PBN__Technology_488],\n",
       " [WIP.PBN__RiskGroup_4, WIP.PBN__Risk_4294, WIP.PBN__Technology_244],\n",
       " [WIP.PBN__RiskGroup_4, WIP.PBN__Risk_4419, WIP.PBN__Technology_244],\n",
       " [WIP.PBN__RiskGroup_4, WIP.PBN__Risk_4449, WIP.PBN__Technology_244],\n",
       " [WIP.PBN__RiskGroup_4, WIP.PBN__Risk_5117, WIP.PBN__Technology_244],\n",
       " [WIP.PBN__RiskGroup_4, WIP.PBN__Risk_5679, WIP.PBN__Technology_244],\n",
       " [WIP.PBN__RiskGroup_4, WIP.PBN__Risk_5961, WIP.PBN__Technology_244],\n",
       " [WIP.PBN__RiskGroup_4, WIP.PBN__Risk_6960, WIP.PBN__Technology_244],\n",
       " [WIP.PBN__RiskGroup_4, WIP.PBN__Risk_8307, WIP.PBN__Technology_244],\n",
       " [WIP.PBN__RiskGroup_4, WIP.PBN__Risk_8353, WIP.PBN__Technology_244],\n",
       " [WIP.PBN__RiskGroup_4, WIP.PBN__Risk_8371, WIP.PBN__Technology_244],\n",
       " [WIP.PBN__RiskGroup_4, WIP.PBN__Risk_8383, WIP.PBN__Technology_244],\n",
       " [WIP.PBN__RiskGroup_4, WIP.PBN__Risk_8462, WIP.PBN__Technology_244],\n",
       " [WIP.PBN__RiskGroup_4, WIP.PBN__Risk_9128, WIP.PBN__Technology_244],\n",
       " [WIP.PBN__RiskGroup_4, WIP.PBN__Risk_9341, WIP.PBN__Technology_244],\n",
       " [WIP.PBN__RiskGroup_4, WIP.PBN__Risk_9473, WIP.PBN__Technology_244],\n",
       " [WIP.PBN__RiskGroup_4, WIP.PBN__Risk_11034, WIP.PBN__Technology_244],\n",
       " [WIP.PBN__RiskGroup_4, WIP.PBN__Risk_11660, WIP.PBN__Technology_244],\n",
       " [WIP.PBN__RiskGroup_4, WIP.PBN__Risk_12199, WIP.PBN__Technology_244],\n",
       " [WIP.PBN__RiskGroup_4, WIP.PBN__Risk_13571, WIP.PBN__Technology_244],\n",
       " [WIP.PBN__RiskGroup_4, WIP.PBN__Risk_13573, WIP.PBN__Technology_244],\n",
       " [WIP.PBN__RiskGroup_4, WIP.PBN__Risk_13711, WIP.PBN__Technology_244],\n",
       " [WIP.PBN__RiskGroup_4, WIP.PBN__Risk_13904, WIP.PBN__Technology_244],\n",
       " [WIP.PBN__RiskGroup_4, WIP.PBN__Risk_14084, WIP.PBN__Technology_244],\n",
       " [WIP.PBN__RiskGroup_4, WIP.PBN__Risk_14094, WIP.PBN__Technology_244],\n",
       " [WIP.PBN__RiskGroup_4, WIP.PBN__Risk_14105, WIP.PBN__Technology_244],\n",
       " [WIP.PBN__RiskGroup_4, WIP.PBN__Risk_14562, WIP.PBN__Technology_244],\n",
       " [WIP.PBN__RiskGroup_4, WIP.PBN__Risk_16294, WIP.PBN__Technology_244],\n",
       " [WIP.PBN__RiskGroup_4, WIP.PBN__Risk_16577, WIP.PBN__Technology_244],\n",
       " [WIP.PBN__RiskGroup_4, WIP.PBN__Risk_17531, WIP.PBN__Technology_244],\n",
       " [WIP.PBN__RiskGroup_4, WIP.PBN__Risk_18117, WIP.PBN__Technology_244],\n",
       " [WIP.PBN__RiskGroup_4, WIP.PBN__Risk_18293, WIP.PBN__Technology_244],\n",
       " [WIP.PBN__RiskGroup_4, WIP.PBN__Risk_18730, WIP.PBN__Technology_244],\n",
       " [WIP.PBN__RiskGroup_4, WIP.PBN__Risk_19371, WIP.PBN__Technology_244],\n",
       " [WIP.PBN__RiskGroup_4, WIP.PBN__Risk_20126, WIP.PBN__Technology_244],\n",
       " [WIP.PBN__RiskGroup_4, WIP.PBN__Risk_1681, WIP.PBN__Technology_1043],\n",
       " [WIP.PBN__RiskGroup_4, WIP.PBN__Risk_5593, WIP.PBN__Technology_1043],\n",
       " [WIP.PBN__RiskGroup_4, WIP.PBN__Risk_5118, WIP.PBN__Technology_1109],\n",
       " [WIP.PBN__RiskGroup_4, WIP.PBN__Risk_5119, WIP.PBN__Technology_1109],\n",
       " [WIP.PBN__RiskGroup_4, WIP.PBN__Risk_5120, WIP.PBN__Technology_1109],\n",
       " [WIP.PBN__RiskGroup_4, WIP.PBN__Risk_5480, WIP.PBN__Technology_1109],\n",
       " [WIP.PBN__RiskGroup_4, WIP.PBN__Risk_8417, WIP.PBN__Technology_1109],\n",
       " [WIP.PBN__RiskGroup_4, WIP.PBN__Risk_10232, WIP.PBN__Technology_1109],\n",
       " [WIP.PBN__RiskGroup_4, WIP.PBN__Risk_13732, WIP.PBN__Technology_1109],\n",
       " [WIP.PBN__RiskGroup_4, WIP.PBN__Risk_17660, WIP.PBN__Technology_1109],\n",
       " [WIP.PBN__RiskGroup_4, WIP.PBN__Risk_1666, WIP.PBN__Technology_588],\n",
       " [WIP.PBN__RiskGroup_4, WIP.PBN__Risk_13190, WIP.PBN__Technology_3361],\n",
       " [WIP.PBN__RiskGroup_4, WIP.PBN__Risk_5255, WIP.PBN__Technology_1351],\n",
       " [WIP.PBN__RiskGroup_4, WIP.PBN__Risk_7753, WIP.PBN__Technology_1351],\n",
       " [WIP.PBN__RiskGroup_4, WIP.PBN__Risk_3519, WIP.PBN__Technology_2317],\n",
       " [WIP.PBN__RiskGroup_4, WIP.PBN__Risk_16721, WIP.PBN__Technology_2440],\n",
       " [WIP.PBN__RiskGroup_4, WIP.PBN__Risk_17582, WIP.PBN__Technology_2440],\n",
       " [WIP.PBN__RiskGroup_4, WIP.PBN__Risk_16206, WIP.PBN__Technology_1316],\n",
       " [WIP.PBN__RiskGroup_4, WIP.PBN__Risk_4120, WIP.PBN__Technology_2830],\n",
       " [WIP.PBN__RiskGroup_4, WIP.PBN__Risk_4552, WIP.PBN__Technology_2830],\n",
       " [WIP.PBN__RiskGroup_4, WIP.PBN__Risk_5566, WIP.PBN__Technology_2830],\n",
       " [WIP.PBN__RiskGroup_4, WIP.PBN__Risk_14835, WIP.PBN__Technology_2830],\n",
       " [WIP.PBN__RiskGroup_4, WIP.PBN__Risk_16092, WIP.PBN__Technology_2830],\n",
       " [WIP.PBN__RiskGroup_4, WIP.PBN__Risk_20481, WIP.PBN__Technology_2830],\n",
       " [WIP.PBN__RiskGroup_4, WIP.PBN__Risk_6267, WIP.PBN__Technology_1540],\n",
       " [WIP.PBN__RiskGroup_4, WIP.PBN__Risk_18485, WIP.PBN__Technology_1540],\n",
       " [WIP.PBN__RiskGroup_4, WIP.PBN__Risk_2320, WIP.PBN__Technology_822],\n",
       " [WIP.PBN__RiskGroup_4, WIP.PBN__Risk_7051, WIP.PBN__Technology_314],\n",
       " [WIP.PBN__RiskGroup_4, WIP.PBN__Risk_1729, WIP.PBN__Technology_904],\n",
       " [WIP.PBN__RiskGroup_4, WIP.PBN__Risk_13473, WIP.PBN__Technology_769],\n",
       " [WIP.PBN__RiskGroup_4, WIP.PBN__Risk_19304, WIP.PBN__Technology_769],\n",
       " [WIP.PBN__RiskGroup_4, WIP.PBN__Risk_7265, WIP.PBN__Technology_2336],\n",
       " [WIP.PBN__RiskGroup_4, WIP.PBN__Risk_9935, WIP.PBN__Technology_2336],\n",
       " [WIP.PBN__RiskGroup_4, WIP.PBN__Risk_11994, WIP.PBN__Technology_2336],\n",
       " [WIP.PBN__RiskGroup_4, WIP.PBN__Risk_18610, WIP.PBN__Technology_2336],\n",
       " [WIP.PBN__RiskGroup_4, WIP.PBN__Risk_18613, WIP.PBN__Technology_2336],\n",
       " [WIP.PBN__RiskGroup_4, WIP.PBN__Risk_515, WIP.PBN__Technology_276],\n",
       " [WIP.PBN__RiskGroup_4, WIP.PBN__Risk_9906, WIP.PBN__Technology_282],\n",
       " [WIP.PBN__RiskGroup_4, WIP.PBN__Risk_7619, WIP.PBN__Technology_3559],\n",
       " [WIP.PBN__RiskGroup_4, WIP.PBN__Risk_1867, WIP.PBN__Technology_1265],\n",
       " [WIP.PBN__RiskGroup_4, WIP.PBN__Risk_271, WIP.PBN__Technology_368],\n",
       " [WIP.PBN__RiskGroup_4, WIP.PBN__Risk_16719, WIP.PBN__Technology_3410],\n",
       " [WIP.PBN__RiskGroup_4, WIP.PBN__Risk_1677, WIP.PBN__Technology_1035],\n",
       " [WIP.PBN__RiskGroup_4, WIP.PBN__Risk_7023, WIP.PBN__Technology_2615],\n",
       " [WIP.PBN__RiskGroup_4, WIP.PBN__Risk_13878, WIP.PBN__Technology_3558],\n",
       " [WIP.PBN__RiskGroup_4, WIP.PBN__Risk_1535, WIP.PBN__Technology_847],\n",
       " [WIP.PBN__RiskGroup_4, WIP.PBN__Risk_18964, WIP.PBN__Technology_3084],\n",
       " [WIP.PBN__RiskGroup_4, WIP.PBN__Risk_1083, WIP.PBN__Technology_133],\n",
       " [WIP.PBN__RiskGroup_4, WIP.PBN__Risk_10017, WIP.PBN__Technology_133],\n",
       " [WIP.PBN__RiskGroup_4, WIP.PBN__Risk_17222, WIP.PBN__Technology_133],\n",
       " [WIP.PBN__RiskGroup_4, WIP.PBN__Risk_13897, WIP.PBN__Technology_2584],\n",
       " [WIP.PBN__RiskGroup_4, WIP.PBN__Risk_1418, WIP.PBN__Technology_1011],\n",
       " [WIP.PBN__RiskGroup_4, WIP.PBN__Risk_4256, WIP.PBN__Technology_1011],\n",
       " [WIP.PBN__RiskGroup_4, WIP.PBN__Risk_4273, WIP.PBN__Technology_1011],\n",
       " [WIP.PBN__RiskGroup_4, WIP.PBN__Risk_6093, WIP.PBN__Technology_1011],\n",
       " [WIP.PBN__RiskGroup_4, WIP.PBN__Risk_8347, WIP.PBN__Technology_1011],\n",
       " [WIP.PBN__RiskGroup_4, WIP.PBN__Risk_8436, WIP.PBN__Technology_1011],\n",
       " [WIP.PBN__RiskGroup_4, WIP.PBN__Risk_9162, WIP.PBN__Technology_1011],\n",
       " [WIP.PBN__RiskGroup_4, WIP.PBN__Risk_9811, WIP.PBN__Technology_1011],\n",
       " [WIP.PBN__RiskGroup_4, WIP.PBN__Risk_9819, WIP.PBN__Technology_1011],\n",
       " [WIP.PBN__RiskGroup_4, WIP.PBN__Risk_10204, WIP.PBN__Technology_1011],\n",
       " [WIP.PBN__RiskGroup_4, WIP.PBN__Risk_13834, WIP.PBN__Technology_1011],\n",
       " [WIP.PBN__RiskGroup_4, WIP.PBN__Risk_15336, WIP.PBN__Technology_1011],\n",
       " [WIP.PBN__RiskGroup_4, WIP.PBN__Risk_17591, WIP.PBN__Technology_1011],\n",
       " [WIP.PBN__RiskGroup_4, WIP.PBN__Risk_17717, WIP.PBN__Technology_1011],\n",
       " [WIP.PBN__RiskGroup_4, WIP.PBN__Risk_18095, WIP.PBN__Technology_1011],\n",
       " [WIP.PBN__RiskGroup_4, WIP.PBN__Risk_4197, WIP.PBN__Technology_1292],\n",
       " [WIP.PBN__RiskGroup_4, WIP.PBN__Risk_4295, WIP.PBN__Technology_1292],\n",
       " [WIP.PBN__RiskGroup_4, WIP.PBN__Risk_4301, WIP.PBN__Technology_1292],\n",
       " [WIP.PBN__RiskGroup_4, WIP.PBN__Risk_4304, WIP.PBN__Technology_1292],\n",
       " [WIP.PBN__RiskGroup_4, WIP.PBN__Risk_4512, WIP.PBN__Technology_1292],\n",
       " [WIP.PBN__RiskGroup_4, WIP.PBN__Risk_5566, WIP.PBN__Technology_1292],\n",
       " [WIP.PBN__RiskGroup_4, WIP.PBN__Risk_5572, WIP.PBN__Technology_1292],\n",
       " [WIP.PBN__RiskGroup_4, WIP.PBN__Risk_6156, WIP.PBN__Technology_1292],\n",
       " [WIP.PBN__RiskGroup_4, WIP.PBN__Risk_7863, WIP.PBN__Technology_1292],\n",
       " [WIP.PBN__RiskGroup_4, WIP.PBN__Risk_7865, WIP.PBN__Technology_1292],\n",
       " [WIP.PBN__RiskGroup_4, WIP.PBN__Risk_7867, WIP.PBN__Technology_1292],\n",
       " [WIP.PBN__RiskGroup_4, WIP.PBN__Risk_7869, WIP.PBN__Technology_1292],\n",
       " [WIP.PBN__RiskGroup_4, WIP.PBN__Risk_9376, WIP.PBN__Technology_1292],\n",
       " [WIP.PBN__RiskGroup_4, WIP.PBN__Risk_13872, WIP.PBN__Technology_1292],\n",
       " [WIP.PBN__RiskGroup_4, WIP.PBN__Risk_14057, WIP.PBN__Technology_1292],\n",
       " [WIP.PBN__RiskGroup_4, WIP.PBN__Risk_14190, WIP.PBN__Technology_1292],\n",
       " [WIP.PBN__RiskGroup_4, WIP.PBN__Risk_16275, WIP.PBN__Technology_1292],\n",
       " [WIP.PBN__RiskGroup_4, WIP.PBN__Risk_16333, WIP.PBN__Technology_1292],\n",
       " [WIP.PBN__RiskGroup_4, WIP.PBN__Risk_17652, WIP.PBN__Technology_1292],\n",
       " [WIP.PBN__RiskGroup_4, WIP.PBN__Risk_17672, WIP.PBN__Technology_1292],\n",
       " [WIP.PBN__RiskGroup_4, WIP.PBN__Risk_18240, WIP.PBN__Technology_1292],\n",
       " [WIP.PBN__RiskGroup_4, WIP.PBN__Risk_18258, WIP.PBN__Technology_1292],\n",
       " [WIP.PBN__RiskGroup_4, WIP.PBN__Risk_19457, WIP.PBN__Technology_1292],\n",
       " [WIP.PBN__RiskGroup_4, WIP.PBN__Risk_20583, WIP.PBN__Technology_1292],\n",
       " [WIP.PBN__RiskGroup_4, WIP.PBN__Risk_1327, WIP.PBN__Technology_249],\n",
       " [WIP.PBN__RiskGroup_4, WIP.PBN__Risk_5135, WIP.PBN__Technology_249],\n",
       " [WIP.PBN__RiskGroup_4, WIP.PBN__Risk_5139, WIP.PBN__Technology_249],\n",
       " [WIP.PBN__RiskGroup_4, WIP.PBN__Risk_5155, WIP.PBN__Technology_249],\n",
       " [WIP.PBN__RiskGroup_4, WIP.PBN__Risk_5661, WIP.PBN__Technology_249],\n",
       " [WIP.PBN__RiskGroup_4, WIP.PBN__Risk_6991, WIP.PBN__Technology_249],\n",
       " [WIP.PBN__RiskGroup_4, WIP.PBN__Risk_13685, WIP.PBN__Technology_249],\n",
       " [WIP.PBN__RiskGroup_4, WIP.PBN__Risk_15320, WIP.PBN__Technology_249],\n",
       " [WIP.PBN__RiskGroup_4, WIP.PBN__Risk_15354, WIP.PBN__Technology_249],\n",
       " [WIP.PBN__RiskGroup_4, WIP.PBN__Risk_16163, WIP.PBN__Technology_249],\n",
       " [WIP.PBN__RiskGroup_4, WIP.PBN__Risk_17558, WIP.PBN__Technology_249],\n",
       " [WIP.PBN__RiskGroup_4, WIP.PBN__Risk_17732, WIP.PBN__Technology_249],\n",
       " [WIP.PBN__RiskGroup_4, WIP.PBN__Risk_4243, WIP.PBN__Technology_1010],\n",
       " [WIP.PBN__RiskGroup_4, WIP.PBN__Risk_4249, WIP.PBN__Technology_1010],\n",
       " [WIP.PBN__RiskGroup_4, WIP.PBN__Risk_4251, WIP.PBN__Technology_1010],\n",
       " [WIP.PBN__RiskGroup_4, WIP.PBN__Risk_4327, WIP.PBN__Technology_1010],\n",
       " [WIP.PBN__RiskGroup_4, WIP.PBN__Risk_5621, WIP.PBN__Technology_1010],\n",
       " [WIP.PBN__RiskGroup_4, WIP.PBN__Risk_6088, WIP.PBN__Technology_1010],\n",
       " [WIP.PBN__RiskGroup_4, WIP.PBN__Risk_7254, WIP.PBN__Technology_1010],\n",
       " [WIP.PBN__RiskGroup_4, WIP.PBN__Risk_7626, WIP.PBN__Technology_1010],\n",
       " [WIP.PBN__RiskGroup_4, WIP.PBN__Risk_8320, WIP.PBN__Technology_1010],\n",
       " [WIP.PBN__RiskGroup_4, WIP.PBN__Risk_8321, WIP.PBN__Technology_1010],\n",
       " [WIP.PBN__RiskGroup_4, WIP.PBN__Risk_13142, WIP.PBN__Technology_1010],\n",
       " [WIP.PBN__RiskGroup_4, WIP.PBN__Risk_14071, WIP.PBN__Technology_1010],\n",
       " [WIP.PBN__RiskGroup_4, WIP.PBN__Risk_14084, WIP.PBN__Technology_1010],\n",
       " [WIP.PBN__RiskGroup_4, WIP.PBN__Risk_16260, WIP.PBN__Technology_1010],\n",
       " [WIP.PBN__RiskGroup_4, WIP.PBN__Risk_17595, WIP.PBN__Technology_1010],\n",
       " [WIP.PBN__RiskGroup_4, WIP.PBN__Risk_17655, WIP.PBN__Technology_1010],\n",
       " [WIP.PBN__RiskGroup_4, WIP.PBN__Risk_18233, WIP.PBN__Technology_1010],\n",
       " [WIP.PBN__RiskGroup_4, WIP.PBN__Risk_18965, WIP.PBN__Technology_1010],\n",
       " [WIP.PBN__RiskGroup_4, WIP.PBN__Risk_18981, WIP.PBN__Technology_1010],\n",
       " [WIP.PBN__RiskGroup_4, WIP.PBN__Risk_18984, WIP.PBN__Technology_1010],\n",
       " [WIP.PBN__RiskGroup_4, WIP.PBN__Risk_19936, WIP.PBN__Technology_1010],\n",
       " [WIP.PBN__RiskGroup_4, WIP.PBN__Risk_20489, WIP.PBN__Technology_1010],\n",
       " [WIP.PBN__RiskGroup_4, WIP.PBN__Risk_16192, WIP.PBN__Technology_3429],\n",
       " [WIP.PBN__RiskGroup_4, WIP.PBN__Risk_4767, WIP.PBN__Technology_2785],\n",
       " [WIP.PBN__RiskGroup_4, WIP.PBN__Risk_4810, WIP.PBN__Technology_2785],\n",
       " [WIP.PBN__RiskGroup_4, WIP.PBN__Risk_7175, WIP.PBN__Technology_2785],\n",
       " [WIP.PBN__RiskGroup_4, WIP.PBN__Risk_7621, WIP.PBN__Technology_2785],\n",
       " [WIP.PBN__RiskGroup_4, WIP.PBN__Risk_8327, WIP.PBN__Technology_2785],\n",
       " [WIP.PBN__RiskGroup_4, WIP.PBN__Risk_9773, WIP.PBN__Technology_2785],\n",
       " [WIP.PBN__RiskGroup_4, WIP.PBN__Risk_9810, WIP.PBN__Technology_2785],\n",
       " [WIP.PBN__RiskGroup_4, WIP.PBN__Risk_17588, WIP.PBN__Technology_2785],\n",
       " [WIP.PBN__RiskGroup_4, WIP.PBN__Risk_1296, WIP.PBN__Technology_455],\n",
       " [WIP.PBN__RiskGroup_4, WIP.PBN__Risk_965, WIP.PBN__Technology_652],\n",
       " [WIP.PBN__RiskGroup_4, WIP.PBN__Risk_1403, WIP.PBN__Technology_652],\n",
       " [WIP.PBN__RiskGroup_4, WIP.PBN__Risk_16012, WIP.PBN__Technology_422],\n",
       " [WIP.PBN__RiskGroup_4, WIP.PBN__Risk_1116, WIP.PBN__Technology_1254],\n",
       " [WIP.PBN__RiskGroup_4, WIP.PBN__Risk_4328, WIP.PBN__Technology_1254],\n",
       " [WIP.PBN__RiskGroup_4, WIP.PBN__Risk_9052, WIP.PBN__Technology_1254],\n",
       " [WIP.PBN__RiskGroup_4, WIP.PBN__Risk_10230, WIP.PBN__Technology_1842],\n",
       " [WIP.PBN__RiskGroup_4, WIP.PBN__Risk_2227, WIP.PBN__Technology_1830],\n",
       " [WIP.PBN__RiskGroup_4, WIP.PBN__Risk_16566, WIP.PBN__Technology_1830],\n",
       " [WIP.PBN__RiskGroup_4, WIP.PBN__Risk_1418, WIP.PBN__Technology_675],\n",
       " [WIP.PBN__RiskGroup_4, WIP.PBN__Risk_6788, WIP.PBN__Technology_1233],\n",
       " [WIP.PBN__RiskGroup_4, WIP.PBN__Risk_1639, WIP.PBN__Technology_76],\n",
       " [WIP.PBN__RiskGroup_4, WIP.PBN__Risk_9425, WIP.PBN__Technology_76],\n",
       " [WIP.PBN__RiskGroup_4, WIP.PBN__Risk_10856, WIP.PBN__Technology_76],\n",
       " [WIP.PBN__RiskGroup_4, WIP.PBN__Risk_8874, WIP.PBN__Technology_2309],\n",
       " [WIP.PBN__RiskGroup_4, WIP.PBN__Risk_1411, WIP.PBN__Technology_669],\n",
       " [WIP.PBN__RiskGroup_4, WIP.PBN__Risk_1636, WIP.PBN__Technology_0],\n",
       " [WIP.PBN__RiskGroup_4, WIP.PBN__Risk_4210, WIP.PBN__Technology_0],\n",
       " [WIP.PBN__RiskGroup_4, WIP.PBN__Risk_4289, WIP.PBN__Technology_0],\n",
       " [WIP.PBN__RiskGroup_4, WIP.PBN__Risk_9598, WIP.PBN__Technology_0],\n",
       " [WIP.PBN__RiskGroup_4, WIP.PBN__Risk_14786, WIP.PBN__Technology_0],\n",
       " [WIP.PBN__RiskGroup_4, WIP.PBN__Risk_14791, WIP.PBN__Technology_0],\n",
       " [WIP.PBN__RiskGroup_4, WIP.PBN__Risk_17401, WIP.PBN__Technology_0],\n",
       " [WIP.PBN__RiskGroup_4, WIP.PBN__Risk_20001, WIP.PBN__Technology_2204],\n",
       " [WIP.PBN__RiskGroup_4, WIP.PBN__Risk_965, WIP.PBN__Technology_201],\n",
       " [WIP.PBN__RiskGroup_4, WIP.PBN__Risk_2311, WIP.PBN__Technology_201],\n",
       " [WIP.PBN__RiskGroup_4, WIP.PBN__Risk_7393, WIP.PBN__Technology_201],\n",
       " [WIP.PBN__RiskGroup_4, WIP.PBN__Risk_12946, WIP.PBN__Technology_201],\n",
       " [WIP.PBN__RiskGroup_4, WIP.PBN__Risk_12998, WIP.PBN__Technology_201],\n",
       " [WIP.PBN__RiskGroup_4, WIP.PBN__Risk_16437, WIP.PBN__Technology_201],\n",
       " [WIP.PBN__RiskGroup_4, WIP.PBN__Risk_17614, WIP.PBN__Technology_201],\n",
       " [WIP.PBN__RiskGroup_4, WIP.PBN__Risk_13326, WIP.PBN__Technology_1844],\n",
       " [WIP.PBN__RiskGroup_4, WIP.PBN__Risk_5130, WIP.PBN__Technology_3044],\n",
       " [WIP.PBN__RiskGroup_4, WIP.PBN__Risk_5132, WIP.PBN__Technology_3044],\n",
       " [WIP.PBN__RiskGroup_4, WIP.PBN__Risk_1664, WIP.PBN__Technology_207],\n",
       " [WIP.PBN__RiskGroup_4, WIP.PBN__Risk_1121, WIP.PBN__Technology_207],\n",
       " [WIP.PBN__RiskGroup_4, WIP.PBN__Risk_6790, WIP.PBN__Technology_207],\n",
       " [WIP.PBN__RiskGroup_4, WIP.PBN__Risk_8704, WIP.PBN__Technology_207],\n",
       " [WIP.PBN__RiskGroup_4, WIP.PBN__Risk_12049, WIP.PBN__Technology_207],\n",
       " [WIP.PBN__RiskGroup_4, WIP.PBN__Risk_12521, WIP.PBN__Technology_207],\n",
       " [WIP.PBN__RiskGroup_4, WIP.PBN__Risk_13662, WIP.PBN__Technology_207],\n",
       " [WIP.PBN__RiskGroup_4, WIP.PBN__Risk_1724, WIP.PBN__Technology_1107],\n",
       " [WIP.PBN__RiskGroup_4, WIP.PBN__Risk_4200, WIP.PBN__Technology_2261],\n",
       " [WIP.PBN__RiskGroup_4, WIP.PBN__Risk_10137, WIP.PBN__Technology_2261],\n",
       " [WIP.PBN__RiskGroup_4, WIP.PBN__Risk_16110, WIP.PBN__Technology_2261],\n",
       " [WIP.PBN__RiskGroup_4, WIP.PBN__Risk_17330, WIP.PBN__Technology_2261],\n",
       " [WIP.PBN__RiskGroup_4, WIP.PBN__Risk_4419, WIP.PBN__Technology_3232],\n",
       " [WIP.PBN__RiskGroup_4, WIP.PBN__Risk_4452, WIP.PBN__Technology_3232],\n",
       " [WIP.PBN__RiskGroup_4, WIP.PBN__Risk_4756, WIP.PBN__Technology_3232],\n",
       " [WIP.PBN__RiskGroup_4, WIP.PBN__Risk_5583, WIP.PBN__Technology_3232],\n",
       " [WIP.PBN__RiskGroup_4, WIP.PBN__Risk_7254, WIP.PBN__Technology_3232],\n",
       " [WIP.PBN__RiskGroup_4, WIP.PBN__Risk_8253, WIP.PBN__Technology_3232],\n",
       " [WIP.PBN__RiskGroup_4, WIP.PBN__Risk_17664, WIP.PBN__Technology_3232],\n",
       " [WIP.PBN__RiskGroup_4, WIP.PBN__Risk_8967, WIP.PBN__Technology_3435],\n",
       " [WIP.PBN__RiskGroup_4, WIP.PBN__Risk_1996, WIP.PBN__Technology_1485],\n",
       " [WIP.PBN__RiskGroup_4, WIP.PBN__Risk_4788, WIP.PBN__Technology_1485],\n",
       " [WIP.PBN__RiskGroup_4, WIP.PBN__Risk_6995, WIP.PBN__Technology_1485],\n",
       " [WIP.PBN__RiskGroup_4, WIP.PBN__Risk_9810, WIP.PBN__Technology_1485],\n",
       " [WIP.PBN__RiskGroup_4, WIP.PBN__Risk_16649, WIP.PBN__Technology_3304],\n",
       " [WIP.PBN__RiskGroup_4, WIP.PBN__Risk_16650, WIP.PBN__Technology_3304],\n",
       " [WIP.PBN__RiskGroup_4, WIP.PBN__Risk_1327, WIP.PBN__Technology_1660],\n",
       " [WIP.PBN__RiskGroup_4, WIP.PBN__Risk_5472, WIP.PBN__Technology_1660],\n",
       " [WIP.PBN__RiskGroup_4, WIP.PBN__Risk_1068, WIP.PBN__Technology_96],\n",
       " [WIP.PBN__RiskGroup_4, WIP.PBN__Risk_997, WIP.PBN__Technology_96],\n",
       " [WIP.PBN__RiskGroup_4, WIP.PBN__Risk_3919, WIP.PBN__Technology_96],\n",
       " [WIP.PBN__RiskGroup_4, WIP.PBN__Risk_6225, WIP.PBN__Technology_96],\n",
       " [WIP.PBN__RiskGroup_4, WIP.PBN__Risk_14237, WIP.PBN__Technology_96],\n",
       " [WIP.PBN__RiskGroup_4, WIP.PBN__Risk_16643, WIP.PBN__Technology_96],\n",
       " [WIP.PBN__RiskGroup_4, WIP.PBN__Risk_16807, WIP.PBN__Technology_96],\n",
       " [WIP.PBN__RiskGroup_4, WIP.PBN__Risk_17223, WIP.PBN__Technology_96],\n",
       " [WIP.PBN__RiskGroup_4, WIP.PBN__Risk_16445, WIP.PBN__Technology_3319],\n",
       " [WIP.PBN__RiskGroup_4, WIP.PBN__Risk_3945, WIP.PBN__Technology_3167],\n",
       " [WIP.PBN__RiskGroup_4, WIP.PBN__Risk_4619, WIP.PBN__Technology_3167],\n",
       " [WIP.PBN__RiskGroup_4, WIP.PBN__Risk_4703, WIP.PBN__Technology_3167],\n",
       " [WIP.PBN__RiskGroup_4, WIP.PBN__Risk_4810, WIP.PBN__Technology_3167],\n",
       " [WIP.PBN__RiskGroup_4, WIP.PBN__Risk_6246, WIP.PBN__Technology_3167],\n",
       " [WIP.PBN__RiskGroup_4, WIP.PBN__Risk_9001, WIP.PBN__Technology_3167],\n",
       " [WIP.PBN__RiskGroup_4, WIP.PBN__Risk_16639, WIP.PBN__Technology_3167],\n",
       " [WIP.PBN__RiskGroup_4, WIP.PBN__Risk_16737, WIP.PBN__Technology_3167],\n",
       " [WIP.PBN__RiskGroup_4, WIP.PBN__Risk_18597, WIP.PBN__Technology_3167],\n",
       " [WIP.PBN__RiskGroup_4, WIP.PBN__Risk_18613, WIP.PBN__Technology_3167],\n",
       " [WIP.PBN__RiskGroup_4, WIP.PBN__Risk_19413, WIP.PBN__Technology_3167],\n",
       " [WIP.PBN__RiskGroup_4, WIP.PBN__Risk_20812, WIP.PBN__Technology_3167],\n",
       " [WIP.PBN__RiskGroup_4, WIP.PBN__Risk_6729, WIP.PBN__Technology_1708],\n",
       " [WIP.PBN__RiskGroup_4, WIP.PBN__Risk_1755, WIP.PBN__Technology_1133],\n",
       " [WIP.PBN__RiskGroup_4, WIP.PBN__Risk_965, WIP.PBN__Technology_1980],\n",
       " [WIP.PBN__RiskGroup_4, WIP.PBN__Risk_5583, WIP.PBN__Technology_1980],\n",
       " [WIP.PBN__RiskGroup_4, WIP.PBN__Risk_6154, WIP.PBN__Technology_1980],\n",
       " [WIP.PBN__RiskGroup_4, WIP.PBN__Risk_17963, WIP.PBN__Technology_1980],\n",
       " [WIP.PBN__RiskGroup_4, WIP.PBN__Risk_17985, WIP.PBN__Technology_1980],\n",
       " [WIP.PBN__RiskGroup_4, WIP.PBN__Risk_18005, WIP.PBN__Technology_1980],\n",
       " [WIP.PBN__RiskGroup_4, WIP.PBN__Risk_20042, WIP.PBN__Technology_1980],\n",
       " [WIP.PBN__RiskGroup_4, WIP.PBN__Risk_20268, WIP.PBN__Technology_1980],\n",
       " [WIP.PBN__RiskGroup_4, WIP.PBN__Risk_20600, WIP.PBN__Technology_1980],\n",
       " [WIP.PBN__RiskGroup_4, WIP.PBN__Risk_16451, WIP.PBN__Technology_3761],\n",
       " [WIP.PBN__RiskGroup_4, WIP.PBN__Risk_1758, WIP.PBN__Technology_1140],\n",
       " [WIP.PBN__RiskGroup_4, WIP.PBN__Risk_9137, WIP.PBN__Technology_1140],\n",
       " [WIP.PBN__RiskGroup_4, WIP.PBN__Risk_1421, WIP.PBN__Technology_682],\n",
       " [WIP.PBN__RiskGroup_4, WIP.PBN__Risk_1471, WIP.PBN__Technology_748],\n",
       " [WIP.PBN__RiskGroup_4, WIP.PBN__Risk_8987, WIP.PBN__Technology_748],\n",
       " [WIP.PBN__RiskGroup_4, WIP.PBN__Risk_9002, WIP.PBN__Technology_748],\n",
       " [WIP.PBN__RiskGroup_4, WIP.PBN__Risk_9031, WIP.PBN__Technology_748],\n",
       " [WIP.PBN__RiskGroup_4, WIP.PBN__Risk_12266, WIP.PBN__Technology_748],\n",
       " [WIP.PBN__RiskGroup_4, WIP.PBN__Risk_14086, WIP.PBN__Technology_748],\n",
       " [WIP.PBN__RiskGroup_4, WIP.PBN__Risk_16528, WIP.PBN__Technology_748],\n",
       " [WIP.PBN__RiskGroup_4, WIP.PBN__Risk_16704, WIP.PBN__Technology_748],\n",
       " [WIP.PBN__RiskGroup_4, WIP.PBN__Risk_17664, WIP.PBN__Technology_748],\n",
       " [WIP.PBN__RiskGroup_4, WIP.PBN__Risk_17954, WIP.PBN__Technology_748],\n",
       " [WIP.PBN__RiskGroup_4, WIP.PBN__Risk_17960, WIP.PBN__Technology_748],\n",
       " [WIP.PBN__RiskGroup_4, WIP.PBN__Risk_20341, WIP.PBN__Technology_748],\n",
       " [WIP.PBN__RiskGroup_4, WIP.PBN__Risk_1418, WIP.PBN__Technology_674],\n",
       " [WIP.PBN__RiskGroup_4, WIP.PBN__Risk_7789, WIP.PBN__Technology_3192],\n",
       " [WIP.PBN__RiskGroup_4, WIP.PBN__Risk_8312, WIP.PBN__Technology_3192],\n",
       " [WIP.PBN__RiskGroup_4, WIP.PBN__Risk_16284, WIP.PBN__Technology_3192],\n",
       " [WIP.PBN__RiskGroup_4, WIP.PBN__Risk_1411, WIP.PBN__Technology_668],\n",
       " [WIP.PBN__RiskGroup_4, WIP.PBN__Risk_2023, WIP.PBN__Technology_1524],\n",
       " [WIP.PBN__RiskGroup_4, WIP.PBN__Risk_18931, WIP.PBN__Technology_102],\n",
       " [WIP.PBN__RiskGroup_4, WIP.PBN__Risk_4798, WIP.PBN__Technology_1154],\n",
       " [WIP.PBN__RiskGroup_4, WIP.PBN__Risk_1060, WIP.PBN__Technology_82],\n",
       " [WIP.PBN__RiskGroup_4, WIP.PBN__Risk_1059, WIP.PBN__Technology_82],\n",
       " [WIP.PBN__RiskGroup_4, WIP.PBN__Risk_1099, WIP.PBN__Technology_82],\n",
       " [WIP.PBN__RiskGroup_4, WIP.PBN__Risk_4797, WIP.PBN__Technology_82],\n",
       " [WIP.PBN__RiskGroup_4, WIP.PBN__Risk_5131, WIP.PBN__Technology_82],\n",
       " [WIP.PBN__RiskGroup_4, WIP.PBN__Risk_7883, WIP.PBN__Technology_82],\n",
       " [WIP.PBN__RiskGroup_4, WIP.PBN__Risk_17615, WIP.PBN__Technology_82],\n",
       " [WIP.PBN__RiskGroup_4, WIP.PBN__Risk_20001, WIP.PBN__Technology_82],\n",
       " [WIP.PBN__RiskGroup_4, WIP.PBN__Risk_20428, WIP.PBN__Technology_82],\n",
       " [WIP.PBN__RiskGroup_4, WIP.PBN__Risk_17703, WIP.PBN__Technology_1157],\n",
       " [WIP.PBN__RiskGroup_4, WIP.PBN__Risk_4424, WIP.PBN__Technology_493],\n",
       " [WIP.PBN__RiskGroup_4, WIP.PBN__Risk_5131, WIP.PBN__Technology_493],\n",
       " [WIP.PBN__RiskGroup_4, WIP.PBN__Risk_15067, WIP.PBN__Technology_493],\n",
       " [WIP.PBN__RiskGroup_4, WIP.PBN__Risk_20428, WIP.PBN__Technology_493],\n",
       " [WIP.PBN__RiskGroup_4, WIP.PBN__Risk_13733, WIP.PBN__Technology_1659],\n",
       " [WIP.PBN__RiskGroup_4, WIP.PBN__Risk_7654, WIP.PBN__Technology_837],\n",
       " [WIP.PBN__RiskGroup_4, WIP.PBN__Risk_306, WIP.PBN__Technology_168],\n",
       " [WIP.PBN__RiskGroup_4, WIP.PBN__Risk_9692, WIP.PBN__Technology_168],\n",
       " [WIP.PBN__RiskGroup_4, WIP.PBN__Risk_11616, WIP.PBN__Technology_168],\n",
       " [WIP.PBN__RiskGroup_4, WIP.PBN__Risk_12993, WIP.PBN__Technology_168],\n",
       " [WIP.PBN__RiskGroup_4, WIP.PBN__Risk_15198, WIP.PBN__Technology_168],\n",
       " [WIP.PBN__RiskGroup_4, WIP.PBN__Risk_18404, WIP.PBN__Technology_168],\n",
       " [WIP.PBN__RiskGroup_4, WIP.PBN__Risk_19665, WIP.PBN__Technology_168],\n",
       " [WIP.PBN__RiskGroup_4, WIP.PBN__Risk_1513, WIP.PBN__Technology_808],\n",
       " [WIP.PBN__RiskGroup_4, WIP.PBN__Risk_3876, WIP.PBN__Technology_1634],\n",
       " [WIP.PBN__RiskGroup_4, WIP.PBN__Risk_18487, WIP.PBN__Technology_1634],\n",
       " [WIP.PBN__RiskGroup_4, WIP.PBN__Risk_18595, WIP.PBN__Technology_1634],\n",
       " [WIP.PBN__RiskGroup_4, WIP.PBN__Risk_1105, WIP.PBN__Technology_164],\n",
       " [WIP.PBN__RiskGroup_4, WIP.PBN__Risk_263, WIP.PBN__Technology_164],\n",
       " [WIP.PBN__RiskGroup_4, WIP.PBN__Risk_269, WIP.PBN__Technology_164],\n",
       " [WIP.PBN__RiskGroup_4, WIP.PBN__Risk_3878, WIP.PBN__Technology_164],\n",
       " [WIP.PBN__RiskGroup_4, WIP.PBN__Risk_4546, WIP.PBN__Technology_164],\n",
       " [WIP.PBN__RiskGroup_4, WIP.PBN__Risk_6265, WIP.PBN__Technology_164],\n",
       " [WIP.PBN__RiskGroup_4, WIP.PBN__Risk_6370, WIP.PBN__Technology_164],\n",
       " [WIP.PBN__RiskGroup_4, WIP.PBN__Risk_7131, WIP.PBN__Technology_164],\n",
       " [WIP.PBN__RiskGroup_4, WIP.PBN__Risk_12575, WIP.PBN__Technology_164],\n",
       " [WIP.PBN__RiskGroup_4, WIP.PBN__Risk_1689, WIP.PBN__Technology_1055],\n",
       " [WIP.PBN__RiskGroup_4, WIP.PBN__Risk_9598, WIP.PBN__Technology_1055],\n",
       " [WIP.PBN__RiskGroup_4, WIP.PBN__Risk_9690, WIP.PBN__Technology_1055],\n",
       " [WIP.PBN__RiskGroup_4, WIP.PBN__Risk_9040, WIP.PBN__Technology_1006],\n",
       " [WIP.PBN__RiskGroup_4, WIP.PBN__Risk_13033, WIP.PBN__Technology_1006],\n",
       " [WIP.PBN__RiskGroup_4, WIP.PBN__Risk_16343, WIP.PBN__Technology_1006],\n",
       " [WIP.PBN__RiskGroup_4, WIP.PBN__Risk_7226, WIP.PBN__Technology_206],\n",
       " [WIP.PBN__RiskGroup_4, WIP.PBN__Risk_13833, WIP.PBN__Technology_206],\n",
       " [WIP.PBN__RiskGroup_4, WIP.PBN__Risk_17605, WIP.PBN__Technology_206],\n",
       " [WIP.PBN__RiskGroup_4, WIP.PBN__Risk_18282, WIP.PBN__Technology_206],\n",
       " [WIP.PBN__RiskGroup_4, WIP.PBN__Risk_16436, WIP.PBN__Technology_1289],\n",
       " [WIP.PBN__RiskGroup_4, WIP.PBN__Risk_16444, WIP.PBN__Technology_1289],\n",
       " [WIP.PBN__RiskGroup_4, WIP.PBN__Risk_16445, WIP.PBN__Technology_1289],\n",
       " [WIP.PBN__RiskGroup_4, WIP.PBN__Risk_14457, WIP.PBN__Technology_1328],\n",
       " [WIP.PBN__RiskGroup_4, WIP.PBN__Risk_16743, WIP.PBN__Technology_1328],\n",
       " [WIP.PBN__RiskGroup_4, WIP.PBN__Risk_4512, WIP.PBN__Technology_1554],\n",
       " [WIP.PBN__RiskGroup_4, WIP.PBN__Risk_6865, WIP.PBN__Technology_1554],\n",
       " [WIP.PBN__RiskGroup_4, WIP.PBN__Risk_6960, WIP.PBN__Technology_1554],\n",
       " [WIP.PBN__RiskGroup_4, WIP.PBN__Risk_11034, WIP.PBN__Technology_1554],\n",
       " [WIP.PBN__RiskGroup_4, WIP.PBN__Risk_20649, WIP.PBN__Technology_1554],\n",
       " [WIP.PBN__RiskGroup_4, WIP.PBN__Risk_8868, WIP.PBN__Technology_1835],\n",
       " [WIP.PBN__RiskGroup_4, WIP.PBN__Risk_9802, WIP.PBN__Technology_1835],\n",
       " [WIP.PBN__RiskGroup_4, WIP.PBN__Risk_13104, WIP.PBN__Technology_1835],\n",
       " [WIP.PBN__RiskGroup_4, WIP.PBN__Risk_14835, WIP.PBN__Technology_1835],\n",
       " [WIP.PBN__RiskGroup_4, WIP.PBN__Risk_20126, WIP.PBN__Technology_1835],\n",
       " [WIP.PBN__RiskGroup_4, WIP.PBN__Risk_13102, WIP.PBN__Technology_2819],\n",
       " [WIP.PBN__RiskGroup_4, WIP.PBN__Risk_1723, WIP.PBN__Technology_1106],\n",
       " [WIP.PBN__RiskGroup_4, WIP.PBN__Risk_5977, WIP.PBN__Technology_1106],\n",
       " [WIP.PBN__RiskGroup_4, WIP.PBN__Risk_10666, WIP.PBN__Technology_1106],\n",
       " [WIP.PBN__RiskGroup_4, WIP.PBN__Risk_1672, WIP.PBN__Technology_920],\n",
       " [WIP.PBN__RiskGroup_4, WIP.PBN__Risk_7758, WIP.PBN__Technology_920],\n",
       " [WIP.PBN__RiskGroup_4, WIP.PBN__Risk_8818, WIP.PBN__Technology_920],\n",
       " [WIP.PBN__RiskGroup_4, WIP.PBN__Risk_10687, WIP.PBN__Technology_920],\n",
       " [WIP.PBN__RiskGroup_4, WIP.PBN__Risk_11731, WIP.PBN__Technology_920],\n",
       " [WIP.PBN__RiskGroup_4, WIP.PBN__Risk_16192, WIP.PBN__Technology_920],\n",
       " [WIP.PBN__RiskGroup_4, WIP.PBN__Risk_20507, WIP.PBN__Technology_920],\n",
       " [WIP.PBN__RiskGroup_4, WIP.PBN__Risk_11833, WIP.PBN__Technology_2272],\n",
       " [WIP.PBN__RiskGroup_4, WIP.PBN__Risk_18283, WIP.PBN__Technology_2272],\n",
       " [WIP.PBN__RiskGroup_4, WIP.PBN__Risk_1306, WIP.PBN__Technology_469],\n",
       " [WIP.PBN__RiskGroup_4, WIP.PBN__Risk_3892, WIP.PBN__Technology_469],\n",
       " [WIP.PBN__RiskGroup_4, WIP.PBN__Risk_4044, WIP.PBN__Technology_469],\n",
       " [WIP.PBN__RiskGroup_4, WIP.PBN__Risk_9339, WIP.PBN__Technology_469],\n",
       " [WIP.PBN__RiskGroup_4, WIP.PBN__Risk_11947, WIP.PBN__Technology_469],\n",
       " [WIP.PBN__RiskGroup_4, WIP.PBN__Risk_16156, WIP.PBN__Technology_469],\n",
       " [WIP.PBN__RiskGroup_4, WIP.PBN__Risk_18948, WIP.PBN__Technology_469],\n",
       " [WIP.PBN__RiskGroup_4, WIP.PBN__Risk_247, WIP.PBN__Technology_377],\n",
       " [WIP.PBN__RiskGroup_4, WIP.PBN__Risk_246, WIP.PBN__Technology_377],\n",
       " [WIP.PBN__RiskGroup_4, WIP.PBN__Risk_17387, WIP.PBN__Technology_1176],\n",
       " [WIP.PBN__RiskGroup_4, WIP.PBN__Risk_17404, WIP.PBN__Technology_1176],\n",
       " [WIP.PBN__RiskGroup_4, WIP.PBN__Risk_1515, WIP.PBN__Technology_810],\n",
       " [WIP.PBN__RiskGroup_4, WIP.PBN__Risk_2373, WIP.PBN__Technology_2023],\n",
       " [WIP.PBN__RiskGroup_4, WIP.PBN__Risk_12064, WIP.PBN__Technology_1665],\n",
       " [WIP.PBN__RiskGroup_4, WIP.PBN__Risk_908, WIP.PBN__Technology_80],\n",
       " [WIP.PBN__RiskGroup_4, WIP.PBN__Risk_16704, WIP.PBN__Technology_80],\n",
       " [WIP.PBN__RiskGroup_4, WIP.PBN__Risk_1118, WIP.PBN__Technology_199],\n",
       " [WIP.PBN__RiskGroup_4, WIP.PBN__Risk_3757, WIP.PBN__Technology_199],\n",
       " [WIP.PBN__RiskGroup_4, WIP.PBN__Risk_4553, WIP.PBN__Technology_3726],\n",
       " [WIP.PBN__RiskGroup_4, WIP.PBN__Risk_5650, WIP.PBN__Technology_3726],\n",
       " [WIP.PBN__RiskGroup_4, WIP.PBN__Risk_8184, WIP.PBN__Technology_3726],\n",
       " [WIP.PBN__RiskGroup_4, WIP.PBN__Risk_18961, WIP.PBN__Technology_3726],\n",
       " [WIP.PBN__RiskGroup_4, WIP.PBN__Risk_2320, WIP.PBN__Technology_1939],\n",
       " [WIP.PBN__RiskGroup_4, WIP.PBN__Risk_13860, WIP.PBN__Technology_743],\n",
       " [WIP.PBN__RiskGroup_4, WIP.PBN__Risk_15178, WIP.PBN__Technology_743],\n",
       " [WIP.PBN__RiskGroup_4, WIP.PBN__Risk_1701, WIP.PBN__Technology_1075],\n",
       " [WIP.PBN__RiskGroup_4, WIP.PBN__Risk_9342, WIP.PBN__Technology_1075],\n",
       " [WIP.PBN__RiskGroup_4, WIP.PBN__Risk_15175, WIP.PBN__Technology_1075],\n",
       " [WIP.PBN__RiskGroup_4, WIP.PBN__Risk_1664, WIP.PBN__Technology_1014],\n",
       " [WIP.PBN__RiskGroup_4, WIP.PBN__Risk_15159, WIP.PBN__Technology_333],\n",
       " [WIP.PBN__RiskGroup_4, WIP.PBN__Risk_1668, WIP.PBN__Technology_1025],\n",
       " [WIP.PBN__RiskGroup_4, WIP.PBN__Risk_5598, WIP.PBN__Technology_136],\n",
       " [WIP.PBN__RiskGroup_4, WIP.PBN__Risk_4210, WIP.PBN__Technology_434],\n",
       " [WIP.PBN__RiskGroup_4, WIP.PBN__Risk_8405, WIP.PBN__Technology_434],\n",
       " [WIP.PBN__RiskGroup_4, WIP.PBN__Risk_10521, WIP.PBN__Technology_767],\n",
       " [WIP.PBN__RiskGroup_4, WIP.PBN__Risk_14835, WIP.PBN__Technology_767],\n",
       " [WIP.PBN__RiskGroup_4, WIP.PBN__Risk_17826, WIP.PBN__Technology_767],\n",
       " [WIP.PBN__RiskGroup_4, WIP.PBN__Risk_3542, WIP.PBN__Technology_203],\n",
       " [WIP.PBN__RiskGroup_4, WIP.PBN__Risk_4209, WIP.PBN__Technology_203],\n",
       " [WIP.PBN__RiskGroup_4, WIP.PBN__Risk_4755, WIP.PBN__Technology_203],\n",
       " [WIP.PBN__RiskGroup_4, WIP.PBN__Risk_4810, WIP.PBN__Technology_203],\n",
       " [WIP.PBN__RiskGroup_4, WIP.PBN__Risk_4961, WIP.PBN__Technology_203],\n",
       " [WIP.PBN__RiskGroup_4, WIP.PBN__Risk_5128, WIP.PBN__Technology_203],\n",
       " [WIP.PBN__RiskGroup_4, WIP.PBN__Risk_5149, WIP.PBN__Technology_203],\n",
       " [WIP.PBN__RiskGroup_4, WIP.PBN__Risk_6199, WIP.PBN__Technology_203],\n",
       " [WIP.PBN__RiskGroup_4, WIP.PBN__Risk_7203, WIP.PBN__Technology_203],\n",
       " [WIP.PBN__RiskGroup_4, WIP.PBN__Risk_8439, WIP.PBN__Technology_203],\n",
       " [WIP.PBN__RiskGroup_4, WIP.PBN__Risk_9133, WIP.PBN__Technology_203],\n",
       " [WIP.PBN__RiskGroup_4, WIP.PBN__Risk_9385, WIP.PBN__Technology_203],\n",
       " [WIP.PBN__RiskGroup_4, WIP.PBN__Risk_9803, WIP.PBN__Technology_203],\n",
       " [WIP.PBN__RiskGroup_4, WIP.PBN__Risk_9864, WIP.PBN__Technology_203],\n",
       " [WIP.PBN__RiskGroup_4, WIP.PBN__Risk_10029, WIP.PBN__Technology_203],\n",
       " [WIP.PBN__RiskGroup_4, WIP.PBN__Risk_10390, WIP.PBN__Technology_203],\n",
       " [WIP.PBN__RiskGroup_4, WIP.PBN__Risk_10514, WIP.PBN__Technology_203],\n",
       " [WIP.PBN__RiskGroup_4, WIP.PBN__Risk_12176, WIP.PBN__Technology_203],\n",
       " [WIP.PBN__RiskGroup_4, WIP.PBN__Risk_13246, WIP.PBN__Technology_203],\n",
       " [WIP.PBN__RiskGroup_4, WIP.PBN__Risk_13883, WIP.PBN__Technology_203],\n",
       " [WIP.PBN__RiskGroup_4, WIP.PBN__Risk_13885, WIP.PBN__Technology_203],\n",
       " [WIP.PBN__RiskGroup_4, WIP.PBN__Risk_13911, WIP.PBN__Technology_203],\n",
       " [WIP.PBN__RiskGroup_4, WIP.PBN__Risk_14021, WIP.PBN__Technology_203],\n",
       " [WIP.PBN__RiskGroup_4, WIP.PBN__Risk_14872, WIP.PBN__Technology_203],\n",
       " [WIP.PBN__RiskGroup_4, WIP.PBN__Risk_16168, WIP.PBN__Technology_203],\n",
       " [WIP.PBN__RiskGroup_4, WIP.PBN__Risk_16447, WIP.PBN__Technology_203],\n",
       " [WIP.PBN__RiskGroup_4, WIP.PBN__Risk_17558, WIP.PBN__Technology_203],\n",
       " [WIP.PBN__RiskGroup_4, WIP.PBN__Risk_18724, WIP.PBN__Technology_203],\n",
       " [WIP.PBN__RiskGroup_4, WIP.PBN__Risk_19914, WIP.PBN__Technology_203],\n",
       " [WIP.PBN__RiskGroup_4, WIP.PBN__Risk_20588, WIP.PBN__Technology_203],\n",
       " [WIP.PBN__RiskGroup_4, WIP.PBN__Risk_20649, WIP.PBN__Technology_203],\n",
       " [WIP.PBN__RiskGroup_4, WIP.PBN__Risk_3585, WIP.PBN__Technology_623],\n",
       " [WIP.PBN__RiskGroup_4, WIP.PBN__Risk_3793, WIP.PBN__Technology_623],\n",
       " [WIP.PBN__RiskGroup_4, WIP.PBN__Risk_5255, WIP.PBN__Technology_623],\n",
       " [WIP.PBN__RiskGroup_4, WIP.PBN__Risk_7753, WIP.PBN__Technology_623],\n",
       " [WIP.PBN__RiskGroup_4, WIP.PBN__Risk_11033, WIP.PBN__Technology_623],\n",
       " [WIP.PBN__RiskGroup_4, WIP.PBN__Risk_11682, WIP.PBN__Technology_623],\n",
       " [WIP.PBN__RiskGroup_4, WIP.PBN__Risk_11689, WIP.PBN__Technology_623],\n",
       " [WIP.PBN__RiskGroup_4, WIP.PBN__Risk_11721, WIP.PBN__Technology_623],\n",
       " [WIP.PBN__RiskGroup_4, WIP.PBN__Risk_11742, WIP.PBN__Technology_623],\n",
       " [WIP.PBN__RiskGroup_4, WIP.PBN__Risk_12947, WIP.PBN__Technology_623],\n",
       " [WIP.PBN__RiskGroup_4, WIP.PBN__Risk_13645, WIP.PBN__Technology_623],\n",
       " [WIP.PBN__RiskGroup_4, WIP.PBN__Risk_14958, WIP.PBN__Technology_623],\n",
       " [WIP.PBN__RiskGroup_4, WIP.PBN__Risk_4920, WIP.PBN__Technology_2113],\n",
       " [WIP.PBN__RiskGroup_4, WIP.PBN__Risk_4934, WIP.PBN__Technology_2113],\n",
       " [WIP.PBN__RiskGroup_4, WIP.PBN__Risk_8460, WIP.PBN__Technology_2113],\n",
       " [WIP.PBN__RiskGroup_4, WIP.PBN__Risk_8868, WIP.PBN__Technology_2113],\n",
       " [WIP.PBN__RiskGroup_4, WIP.PBN__Risk_9802, WIP.PBN__Technology_2113],\n",
       " [WIP.PBN__RiskGroup_4, WIP.PBN__Risk_9997, WIP.PBN__Technology_2113],\n",
       " [WIP.PBN__RiskGroup_4, WIP.PBN__Risk_12229, WIP.PBN__Technology_2113],\n",
       " [WIP.PBN__RiskGroup_4, WIP.PBN__Risk_13859, WIP.PBN__Technology_2113],\n",
       " [WIP.PBN__RiskGroup_4, WIP.PBN__Risk_13865, WIP.PBN__Technology_2113],\n",
       " [WIP.PBN__RiskGroup_4, WIP.PBN__Risk_16100, WIP.PBN__Technology_2113],\n",
       " [WIP.PBN__RiskGroup_4, WIP.PBN__Risk_17724, WIP.PBN__Technology_2113],\n",
       " [WIP.PBN__RiskGroup_4, WIP.PBN__Risk_18282, WIP.PBN__Technology_2113],\n",
       " [WIP.PBN__RiskGroup_4, WIP.PBN__Risk_19466, WIP.PBN__Technology_2113],\n",
       " [WIP.PBN__RiskGroup_4, WIP.PBN__Risk_4202, WIP.PBN__Technology_1348],\n",
       " [WIP.PBN__RiskGroup_4, WIP.PBN__Risk_7790, WIP.PBN__Technology_1348],\n",
       " [WIP.PBN__RiskGroup_4, WIP.PBN__Risk_7798, WIP.PBN__Technology_1348],\n",
       " [WIP.PBN__RiskGroup_4, WIP.PBN__Risk_16760, WIP.PBN__Technology_1348],\n",
       " [WIP.PBN__RiskGroup_4, WIP.PBN__Risk_4216, WIP.PBN__Technology_3148],\n",
       " [WIP.PBN__RiskGroup_4, WIP.PBN__Risk_4248, WIP.PBN__Technology_3148],\n",
       " [WIP.PBN__RiskGroup_4, WIP.PBN__Risk_5679, WIP.PBN__Technology_3148],\n",
       " [WIP.PBN__RiskGroup_4, WIP.PBN__Risk_7625, WIP.PBN__Technology_3148],\n",
       " [WIP.PBN__RiskGroup_4, WIP.PBN__Risk_16436, WIP.PBN__Technology_3148],\n",
       " [WIP.PBN__RiskGroup_4, WIP.PBN__Risk_18223, WIP.PBN__Technology_3148],\n",
       " [WIP.PBN__RiskGroup_4, WIP.PBN__Risk_18258, WIP.PBN__Technology_3148],\n",
       " [WIP.PBN__RiskGroup_4, WIP.PBN__Risk_4253, WIP.PBN__Technology_1882],\n",
       " [WIP.PBN__RiskGroup_4, WIP.PBN__Risk_6147, WIP.PBN__Technology_1882],\n",
       " [WIP.PBN__RiskGroup_4, WIP.PBN__Risk_10460, WIP.PBN__Technology_1882],\n",
       " [WIP.PBN__RiskGroup_4, WIP.PBN__Risk_16451, WIP.PBN__Technology_1882],\n",
       " [WIP.PBN__RiskGroup_4, WIP.PBN__Risk_5315, WIP.PBN__Technology_1843],\n",
       " [WIP.PBN__RiskGroup_4, WIP.PBN__Risk_5034, WIP.PBN__Technology_1908],\n",
       " [WIP.PBN__RiskGroup_4, WIP.PBN__Risk_6051, WIP.PBN__Technology_411],\n",
       " [WIP.PBN__RiskGroup_4, WIP.PBN__Risk_10529, WIP.PBN__Technology_411],\n",
       " [WIP.PBN__RiskGroup_4, WIP.PBN__Risk_10539, WIP.PBN__Technology_411],\n",
       " [WIP.PBN__RiskGroup_4, WIP.PBN__Risk_4786, WIP.PBN__Technology_1290],\n",
       " [WIP.PBN__RiskGroup_4, WIP.PBN__Risk_5718, WIP.PBN__Technology_1290],\n",
       " [WIP.PBN__RiskGroup_4, WIP.PBN__Risk_6152, WIP.PBN__Technology_1290],\n",
       " [WIP.PBN__RiskGroup_4, WIP.PBN__Risk_7000, WIP.PBN__Technology_1290],\n",
       " [WIP.PBN__RiskGroup_4, WIP.PBN__Risk_8385, WIP.PBN__Technology_1290],\n",
       " [WIP.PBN__RiskGroup_4, WIP.PBN__Risk_12174, WIP.PBN__Technology_1290],\n",
       " [WIP.PBN__RiskGroup_4, WIP.PBN__Risk_12175, WIP.PBN__Technology_1290],\n",
       " [WIP.PBN__RiskGroup_4, WIP.PBN__Risk_12856, WIP.PBN__Technology_1290],\n",
       " [WIP.PBN__RiskGroup_4, WIP.PBN__Risk_14561, WIP.PBN__Technology_1290],\n",
       " [WIP.PBN__RiskGroup_4, WIP.PBN__Risk_14862, WIP.PBN__Technology_1290],\n",
       " [WIP.PBN__RiskGroup_4, WIP.PBN__Risk_16337, WIP.PBN__Technology_1290],\n",
       " [WIP.PBN__RiskGroup_4, WIP.PBN__Risk_18219, WIP.PBN__Technology_1290],\n",
       " [WIP.PBN__RiskGroup_4, WIP.PBN__Risk_18753, WIP.PBN__Technology_1290],\n",
       " [WIP.PBN__RiskGroup_4, WIP.PBN__Risk_4210, WIP.PBN__Technology_1248],\n",
       " [WIP.PBN__RiskGroup_4, WIP.PBN__Risk_13921, WIP.PBN__Technology_1248],\n",
       " [WIP.PBN__RiskGroup_4, WIP.PBN__Risk_17596, WIP.PBN__Technology_1248],\n",
       " [WIP.PBN__RiskGroup_4, WIP.PBN__Risk_19292, WIP.PBN__Technology_1248],\n",
       " [WIP.PBN__RiskGroup_4, WIP.PBN__Risk_16998, WIP.PBN__Technology_2293],\n",
       " [WIP.PBN__RiskGroup_4, WIP.PBN__Risk_1419, WIP.PBN__Technology_677],\n",
       " [WIP.PBN__RiskGroup_4, WIP.PBN__Risk_1421, WIP.PBN__Technology_683],\n",
       " [WIP.PBN__RiskGroup_4, WIP.PBN__Risk_1727, WIP.PBN__Technology_1113],\n",
       " [WIP.PBN__RiskGroup_4, WIP.PBN__Risk_5127, WIP.PBN__Technology_1113],\n",
       " [WIP.PBN__RiskGroup_4, WIP.PBN__Risk_5128, WIP.PBN__Technology_1113],\n",
       " [WIP.PBN__RiskGroup_4, WIP.PBN__Risk_5129, WIP.PBN__Technology_1113],\n",
       " [WIP.PBN__RiskGroup_4, WIP.PBN__Risk_5680, WIP.PBN__Technology_1113],\n",
       " [WIP.PBN__RiskGroup_4, WIP.PBN__Risk_7785, WIP.PBN__Technology_1113],\n",
       " [WIP.PBN__RiskGroup_4, WIP.PBN__Risk_7796, WIP.PBN__Technology_1113],\n",
       " [WIP.PBN__RiskGroup_4, WIP.PBN__Risk_7894, WIP.PBN__Technology_1113],\n",
       " [WIP.PBN__RiskGroup_4, WIP.PBN__Risk_8306, WIP.PBN__Technology_1113],\n",
       " [WIP.PBN__RiskGroup_4, WIP.PBN__Risk_8313, WIP.PBN__Technology_1113],\n",
       " [WIP.PBN__RiskGroup_4, WIP.PBN__Risk_8315, WIP.PBN__Technology_1113],\n",
       " [WIP.PBN__RiskGroup_4, WIP.PBN__Risk_1327, WIP.PBN__Technology_770],\n",
       " [WIP.PBN__RiskGroup_4, WIP.PBN__Risk_4434, WIP.PBN__Technology_770],\n",
       " [WIP.PBN__RiskGroup_4, WIP.PBN__Risk_5587, WIP.PBN__Technology_770],\n",
       " [WIP.PBN__RiskGroup_4, WIP.PBN__Risk_9340, WIP.PBN__Technology_770],\n",
       " [WIP.PBN__RiskGroup_4, WIP.PBN__Risk_9535, WIP.PBN__Technology_770],\n",
       " [WIP.PBN__RiskGroup_4, WIP.PBN__Risk_10158, WIP.PBN__Technology_770],\n",
       " [WIP.PBN__RiskGroup_4, WIP.PBN__Risk_10195, WIP.PBN__Technology_770],\n",
       " [WIP.PBN__RiskGroup_4, WIP.PBN__Risk_10203, WIP.PBN__Technology_770],\n",
       " [WIP.PBN__RiskGroup_4, WIP.PBN__Risk_10394, WIP.PBN__Technology_770],\n",
       " [WIP.PBN__RiskGroup_4, WIP.PBN__Risk_19382, WIP.PBN__Technology_770],\n",
       " [WIP.PBN__RiskGroup_4, WIP.PBN__Risk_2145, WIP.PBN__Technology_1690],\n",
       " [WIP.PBN__RiskGroup_4, WIP.PBN__Risk_4306, WIP.PBN__Technology_1690],\n",
       " [WIP.PBN__RiskGroup_4, WIP.PBN__Risk_8373, WIP.PBN__Technology_1690],\n",
       " [WIP.PBN__RiskGroup_4, WIP.PBN__Risk_8411, WIP.PBN__Technology_1690],\n",
       " [WIP.PBN__RiskGroup_4, WIP.PBN__Risk_9986, WIP.PBN__Technology_1690],\n",
       " [WIP.PBN__RiskGroup_4, WIP.PBN__Risk_13176, WIP.PBN__Technology_1690],\n",
       " [WIP.PBN__RiskGroup_4, WIP.PBN__Risk_13834, WIP.PBN__Technology_1690],\n",
       " [WIP.PBN__RiskGroup_4, WIP.PBN__Risk_13898, WIP.PBN__Technology_1690],\n",
       " [WIP.PBN__RiskGroup_4, WIP.PBN__Risk_15334, WIP.PBN__Technology_1690],\n",
       " [WIP.PBN__RiskGroup_4, WIP.PBN__Risk_16529, WIP.PBN__Technology_1690],\n",
       " [WIP.PBN__RiskGroup_4, WIP.PBN__Risk_17550, WIP.PBN__Technology_1690],\n",
       " [WIP.PBN__RiskGroup_4, WIP.PBN__Risk_17952, WIP.PBN__Technology_1690],\n",
       " [WIP.PBN__RiskGroup_4, WIP.PBN__Risk_315, WIP.PBN__Technology_968],\n",
       " [WIP.PBN__RiskGroup_4, WIP.PBN__Risk_1727, WIP.PBN__Technology_672],\n",
       " [WIP.PBN__RiskGroup_4, WIP.PBN__Risk_4273, WIP.PBN__Technology_672],\n",
       " [WIP.PBN__RiskGroup_4, WIP.PBN__Risk_4309, WIP.PBN__Technology_672],\n",
       " [WIP.PBN__RiskGroup_4, WIP.PBN__Risk_5702, WIP.PBN__Technology_672],\n",
       " [WIP.PBN__RiskGroup_4, WIP.PBN__Risk_5727, WIP.PBN__Technology_672],\n",
       " [WIP.PBN__RiskGroup_4, WIP.PBN__Risk_5736, WIP.PBN__Technology_672],\n",
       " [WIP.PBN__RiskGroup_4, WIP.PBN__Risk_6094, WIP.PBN__Technology_672],\n",
       " [WIP.PBN__RiskGroup_4, WIP.PBN__Risk_6154, WIP.PBN__Technology_672],\n",
       " [WIP.PBN__RiskGroup_4, WIP.PBN__Risk_6193, WIP.PBN__Technology_672],\n",
       " [WIP.PBN__RiskGroup_4, WIP.PBN__Risk_6196, WIP.PBN__Technology_672],\n",
       " [WIP.PBN__RiskGroup_4, WIP.PBN__Risk_6197, WIP.PBN__Technology_672],\n",
       " [WIP.PBN__RiskGroup_4, WIP.PBN__Risk_7484, WIP.PBN__Technology_672],\n",
       " [WIP.PBN__RiskGroup_4, WIP.PBN__Risk_7628, WIP.PBN__Technology_672],\n",
       " [WIP.PBN__RiskGroup_4, WIP.PBN__Risk_7798, WIP.PBN__Technology_672],\n",
       " [WIP.PBN__RiskGroup_4, WIP.PBN__Risk_7811, WIP.PBN__Technology_672],\n",
       " [WIP.PBN__RiskGroup_4, WIP.PBN__Risk_7825, WIP.PBN__Technology_672],\n",
       " [WIP.PBN__RiskGroup_4, WIP.PBN__Risk_7867, WIP.PBN__Technology_672],\n",
       " [WIP.PBN__RiskGroup_4, WIP.PBN__Risk_7879, WIP.PBN__Technology_672],\n",
       " [WIP.PBN__RiskGroup_4, WIP.PBN__Risk_7897, WIP.PBN__Technology_672],\n",
       " [WIP.PBN__RiskGroup_4, WIP.PBN__Risk_7899, WIP.PBN__Technology_672],\n",
       " [WIP.PBN__RiskGroup_4, WIP.PBN__Risk_8304, WIP.PBN__Technology_672],\n",
       " [WIP.PBN__RiskGroup_4, WIP.PBN__Risk_8317, WIP.PBN__Technology_672],\n",
       " [WIP.PBN__RiskGroup_4, WIP.PBN__Risk_8329, WIP.PBN__Technology_672],\n",
       " [WIP.PBN__RiskGroup_4, WIP.PBN__Risk_8365, WIP.PBN__Technology_672],\n",
       " [WIP.PBN__RiskGroup_4, WIP.PBN__Risk_8383, WIP.PBN__Technology_672],\n",
       " [WIP.PBN__RiskGroup_4, WIP.PBN__Risk_8386, WIP.PBN__Technology_672],\n",
       " [WIP.PBN__RiskGroup_4, WIP.PBN__Risk_8394, WIP.PBN__Technology_672],\n",
       " [WIP.PBN__RiskGroup_4, WIP.PBN__Risk_8460, WIP.PBN__Technology_672],\n",
       " [WIP.PBN__RiskGroup_4, WIP.PBN__Risk_9128, WIP.PBN__Technology_672],\n",
       " [WIP.PBN__RiskGroup_4, WIP.PBN__Risk_9130, WIP.PBN__Technology_672],\n",
       " [WIP.PBN__RiskGroup_4, WIP.PBN__Risk_9135, WIP.PBN__Technology_672],\n",
       " [WIP.PBN__RiskGroup_4, WIP.PBN__Risk_9138, WIP.PBN__Technology_672],\n",
       " [WIP.PBN__RiskGroup_4, WIP.PBN__Risk_9465, WIP.PBN__Technology_672],\n",
       " [WIP.PBN__RiskGroup_4, WIP.PBN__Risk_9473, WIP.PBN__Technology_672],\n",
       " [WIP.PBN__RiskGroup_4, WIP.PBN__Risk_9818, WIP.PBN__Technology_672],\n",
       " [WIP.PBN__RiskGroup_4, WIP.PBN__Risk_10501, WIP.PBN__Technology_672],\n",
       " [WIP.PBN__RiskGroup_4, WIP.PBN__Risk_10510, WIP.PBN__Technology_672],\n",
       " [WIP.PBN__RiskGroup_4, WIP.PBN__Risk_12199, WIP.PBN__Technology_672],\n",
       " [WIP.PBN__RiskGroup_4, WIP.PBN__Risk_12213, WIP.PBN__Technology_672],\n",
       " [WIP.PBN__RiskGroup_4, WIP.PBN__Risk_12784, WIP.PBN__Technology_672],\n",
       " [WIP.PBN__RiskGroup_4, WIP.PBN__Risk_13837, WIP.PBN__Technology_672],\n",
       " [WIP.PBN__RiskGroup_4, WIP.PBN__Risk_13895, WIP.PBN__Technology_672],\n",
       " [WIP.PBN__RiskGroup_4, WIP.PBN__Risk_16103, WIP.PBN__Technology_672],\n",
       " [WIP.PBN__RiskGroup_4, WIP.PBN__Risk_16458, WIP.PBN__Technology_672],\n",
       " [WIP.PBN__RiskGroup_4, WIP.PBN__Risk_17568, WIP.PBN__Technology_672],\n",
       " [WIP.PBN__RiskGroup_4, WIP.PBN__Risk_17583, WIP.PBN__Technology_672],\n",
       " [WIP.PBN__RiskGroup_4, WIP.PBN__Risk_17644, WIP.PBN__Technology_672],\n",
       " [WIP.PBN__RiskGroup_4, WIP.PBN__Risk_19919, WIP.PBN__Technology_672],\n",
       " [WIP.PBN__RiskGroup_4, WIP.PBN__Risk_19936, WIP.PBN__Technology_672],\n",
       " [WIP.PBN__RiskGroup_4, WIP.PBN__Risk_20489, WIP.PBN__Technology_672],\n",
       " [WIP.PBN__RiskGroup_4, WIP.PBN__Risk_1419, WIP.PBN__Technology_678],\n",
       " [WIP.PBN__RiskGroup_4, WIP.PBN__Risk_8359, WIP.PBN__Technology_2266],\n",
       " [WIP.PBN__RiskGroup_4, WIP.PBN__Risk_7393, WIP.PBN__Technology_2639],\n",
       " [WIP.PBN__RiskGroup_4, WIP.PBN__Risk_18115, WIP.PBN__Technology_410],\n",
       " [WIP.PBN__RiskGroup_4, WIP.PBN__Risk_1937, WIP.PBN__Technology_1379],\n",
       " [WIP.PBN__RiskGroup_4, WIP.PBN__Risk_10308, WIP.PBN__Technology_2736],\n",
       " [WIP.PBN__RiskGroup_4, WIP.PBN__Risk_13014, WIP.PBN__Technology_2736],\n",
       " [WIP.PBN__RiskGroup_4, WIP.PBN__Risk_16204, WIP.PBN__Technology_2736],\n",
       " [WIP.PBN__RiskGroup_4, WIP.PBN__Risk_16338, WIP.PBN__Technology_2736],\n",
       " [WIP.PBN__RiskGroup_4, WIP.PBN__Risk_20485, WIP.PBN__Technology_2736],\n",
       " [WIP.PBN__RiskGroup_4, WIP.PBN__Risk_2229, WIP.PBN__Technology_986],\n",
       " [WIP.PBN__RiskGroup_4, WIP.PBN__Risk_1643, WIP.PBN__Technology_986],\n",
       " [WIP.PBN__RiskGroup_4, WIP.PBN__Risk_9646, WIP.PBN__Technology_986],\n",
       " [WIP.PBN__RiskGroup_4, WIP.PBN__Risk_16417, WIP.PBN__Technology_986],\n",
       " [WIP.PBN__RiskGroup_4, WIP.PBN__Risk_5277, WIP.PBN__Technology_2555],\n",
       " [WIP.PBN__RiskGroup_4, WIP.PBN__Risk_18600, WIP.PBN__Technology_2555],\n",
       " [WIP.PBN__RiskGroup_4, WIP.PBN__Risk_20091, WIP.PBN__Technology_2555],\n",
       " [WIP.PBN__RiskGroup_4, WIP.PBN__Risk_3876, WIP.PBN__Technology_315],\n",
       " [WIP.PBN__RiskGroup_4, WIP.PBN__Risk_19672, WIP.PBN__Technology_1468],\n",
       " [WIP.PBN__RiskGroup_4, WIP.PBN__Risk_1591, WIP.PBN__Technology_918],\n",
       " [WIP.PBN__RiskGroup_4, WIP.PBN__Risk_3552, WIP.PBN__Technology_702],\n",
       " [WIP.PBN__RiskGroup_4, WIP.PBN__Risk_3798, WIP.PBN__Technology_702],\n",
       " [WIP.PBN__RiskGroup_4, WIP.PBN__Risk_11033, WIP.PBN__Technology_702],\n",
       " [WIP.PBN__RiskGroup_4, WIP.PBN__Risk_11682, WIP.PBN__Technology_702],\n",
       " [WIP.PBN__RiskGroup_4, WIP.PBN__Risk_11689, WIP.PBN__Technology_702],\n",
       " [WIP.PBN__RiskGroup_4, WIP.PBN__Risk_11740, WIP.PBN__Technology_702],\n",
       " [WIP.PBN__RiskGroup_4, WIP.PBN__Risk_13645, WIP.PBN__Technology_702],\n",
       " [WIP.PBN__RiskGroup_4, WIP.PBN__Risk_13655, WIP.PBN__Technology_702],\n",
       " [WIP.PBN__RiskGroup_4, WIP.PBN__Risk_14958, WIP.PBN__Technology_702],\n",
       " [WIP.PBN__RiskGroup_4, WIP.PBN__Risk_2013, WIP.PBN__Technology_246],\n",
       " [WIP.PBN__RiskGroup_4, WIP.PBN__Risk_3801, WIP.PBN__Technology_246],\n",
       " [WIP.PBN__RiskGroup_4, WIP.PBN__Risk_5287, WIP.PBN__Technology_246],\n",
       " [WIP.PBN__RiskGroup_4, WIP.PBN__Risk_11731, WIP.PBN__Technology_246],\n",
       " [WIP.PBN__RiskGroup_4, WIP.PBN__Risk_17266, WIP.PBN__Technology_246],\n",
       " [WIP.PBN__RiskGroup_4, WIP.PBN__Risk_18766, WIP.PBN__Technology_246],\n",
       " [WIP.PBN__RiskGroup_4, WIP.PBN__Risk_19941, WIP.PBN__Technology_246],\n",
       " [WIP.PBN__RiskGroup_4, WIP.PBN__Risk_3945, WIP.PBN__Technology_1706],\n",
       " [WIP.PBN__RiskGroup_4, WIP.PBN__Risk_9617, WIP.PBN__Technology_1706],\n",
       " [WIP.PBN__RiskGroup_4, WIP.PBN__Risk_9634, WIP.PBN__Technology_1706],\n",
       " [WIP.PBN__RiskGroup_4, WIP.PBN__Risk_12799, WIP.PBN__Technology_1706],\n",
       " [WIP.PBN__RiskGroup_4, WIP.PBN__Risk_13011, WIP.PBN__Technology_1706],\n",
       " [WIP.PBN__RiskGroup_4, WIP.PBN__Risk_14285, WIP.PBN__Technology_1706],\n",
       " [WIP.PBN__RiskGroup_4, WIP.PBN__Risk_16636, WIP.PBN__Technology_1706],\n",
       " [WIP.PBN__RiskGroup_4, WIP.PBN__Risk_1209, WIP.PBN__Technology_300],\n",
       " [WIP.PBN__RiskGroup_4, WIP.PBN__Risk_5315, WIP.PBN__Technology_624],\n",
       " [WIP.PBN__RiskGroup_4, WIP.PBN__Risk_12921, WIP.PBN__Technology_624],\n",
       " [WIP.PBN__RiskGroup_4, WIP.PBN__Risk_15205, WIP.PBN__Technology_624],\n",
       " [WIP.PBN__RiskGroup_4, WIP.PBN__Risk_1350, WIP.PBN__Technology_552],\n",
       " [WIP.PBN__RiskGroup_4, WIP.PBN__Risk_9326, WIP.PBN__Technology_552],\n",
       " [WIP.PBN__RiskGroup_4, WIP.PBN__Risk_9812, WIP.PBN__Technology_552],\n",
       " [WIP.PBN__RiskGroup_4, WIP.PBN__Risk_10670, WIP.PBN__Technology_552],\n",
       " [WIP.PBN__RiskGroup_4, WIP.PBN__Risk_14841, WIP.PBN__Technology_552],\n",
       " [WIP.PBN__RiskGroup_4, WIP.PBN__Risk_14842, WIP.PBN__Technology_552],\n",
       " [WIP.PBN__RiskGroup_4, WIP.PBN__Risk_16437, WIP.PBN__Technology_552],\n",
       " [WIP.PBN__RiskGroup_4, WIP.PBN__Risk_4790, WIP.PBN__Technology_614],\n",
       " [WIP.PBN__RiskGroup_4, WIP.PBN__Risk_4830, WIP.PBN__Technology_614],\n",
       " [WIP.PBN__RiskGroup_4, WIP.PBN__Risk_10675, WIP.PBN__Technology_614],\n",
       " [WIP.PBN__RiskGroup_4, WIP.PBN__Risk_12833, WIP.PBN__Technology_614],\n",
       " [WIP.PBN__RiskGroup_4, WIP.PBN__Risk_15134, WIP.PBN__Technology_614],\n",
       " [WIP.PBN__RiskGroup_4, WIP.PBN__Risk_15236, WIP.PBN__Technology_614],\n",
       " [WIP.PBN__RiskGroup_4, WIP.PBN__Risk_15451, WIP.PBN__Technology_614],\n",
       " [WIP.PBN__RiskGroup_4, WIP.PBN__Risk_18681, WIP.PBN__Technology_614],\n",
       " [WIP.PBN__RiskGroup_4, WIP.PBN__Risk_18682, WIP.PBN__Technology_614],\n",
       " [WIP.PBN__RiskGroup_4, WIP.PBN__Risk_5922, WIP.PBN__Technology_540],\n",
       " [WIP.PBN__RiskGroup_4, WIP.PBN__Risk_8048, WIP.PBN__Technology_540],\n",
       " [WIP.PBN__RiskGroup_4, WIP.PBN__Risk_11951, WIP.PBN__Technology_540],\n",
       " [WIP.PBN__RiskGroup_4, WIP.PBN__Risk_12780, WIP.PBN__Technology_540],\n",
       " [WIP.PBN__RiskGroup_4, WIP.PBN__Risk_13820, WIP.PBN__Technology_540],\n",
       " [WIP.PBN__RiskGroup_4, WIP.PBN__Risk_14076, WIP.PBN__Technology_540],\n",
       " [WIP.PBN__RiskGroup_4, WIP.PBN__Risk_16499, WIP.PBN__Technology_540],\n",
       " [WIP.PBN__RiskGroup_4, WIP.PBN__Risk_1727, WIP.PBN__Technology_1114],\n",
       " [WIP.PBN__RiskGroup_4, WIP.PBN__Risk_17611, WIP.PBN__Technology_2233],\n",
       " [WIP.PBN__RiskGroup_4, WIP.PBN__Risk_4756, WIP.PBN__Technology_3314],\n",
       " ...]"
      ]
     },
     "execution_count": 123,
     "metadata": {},
     "output_type": "execute_result"
    }
   ],
   "source": [
    "EX(\"\"\"PREFIX pbn: <https://github.com/mm80843/T3.5/raw/main/pbn_t3_5.owl#>\n",
    "\n",
    "SELECT DISTINCT ?riskGroup ?risk ?technology\n",
    "WHERE {\n",
    "  ?riskGroup a pbn:RiskGroup .\n",
    "  ?risk pbn:has_RiskGroup ?riskGroup .\n",
    "  ?risk pbn:has_RiskTechnology ?technology .\n",
    "  FILTER (?riskGroup = pbn:PBN__RiskGroup_4)  # Replace 'SpecificRiskGroup' with the actual RiskGroup of interest\n",
    "}\n",
    "ORDER BY ?technology  # or another property if you have a ranking metric\n",
    "\"\"\")"
   ]
  },
  {
   "cell_type": "code",
   "execution_count": 98,
   "metadata": {},
   "outputs": [
    {
     "ename": "ParsingError",
     "evalue": "('Error at FILTER', 0)",
     "output_type": "error",
     "traceback": [
      "\u001b[0;31m---------------------------------------------------------------------------\u001b[0m",
      "\u001b[0;31mParsingError\u001b[0m                              Traceback (most recent call last)",
      "Cell \u001b[0;32mIn[98], line 1\u001b[0m\n\u001b[0;32m----> 1\u001b[0m EX(\u001b[39m\"\"\"\u001b[39;49m\u001b[39mFILTER\u001b[39;49m\u001b[39m\"\"\"\u001b[39;49m)\n",
      "Cell \u001b[0;32mIn[6], line 2\u001b[0m, in \u001b[0;36mEX\u001b[0;34m(REQ)\u001b[0m\n\u001b[1;32m      1\u001b[0m \u001b[39mdef\u001b[39;00m \u001b[39mEX\u001b[39m(REQ):\n\u001b[0;32m----> 2\u001b[0m     \u001b[39mreturn\u001b[39;00m \u001b[39mlist\u001b[39m(default_world\u001b[39m.\u001b[39;49msparql(REQ))\n",
      "File \u001b[0;32m~/projets/T3.5/venv/lib/python3.10/site-packages/owlready2/namespace.py:527\u001b[0m, in \u001b[0;36mWorld.sparql\u001b[0;34m(self, sparql, params, error_on_undefined_entities)\u001b[0m\n\u001b[1;32m    525\u001b[0m \u001b[39mdef\u001b[39;00m \u001b[39msparql\u001b[39m(\u001b[39mself\u001b[39m, sparql, params \u001b[39m=\u001b[39m (), error_on_undefined_entities \u001b[39m=\u001b[39m \u001b[39mTrue\u001b[39;00m):\n\u001b[1;32m    526\u001b[0m   \u001b[39mimport\u001b[39;00m \u001b[39mowlready2\u001b[39;00m\u001b[39m.\u001b[39;00m\u001b[39msparql\u001b[39;00m\u001b[39m.\u001b[39;00m\u001b[39mmain\u001b[39;00m\n\u001b[0;32m--> 527\u001b[0m   query \u001b[39m=\u001b[39m \u001b[39mself\u001b[39;49m\u001b[39m.\u001b[39;49m_prepare_sparql(sparql, error_on_undefined_entities)\n\u001b[1;32m    528\u001b[0m   \u001b[39mreturn\u001b[39;00m query\u001b[39m.\u001b[39mexecute(params)\n",
      "File \u001b[0;32m~/projets/T3.5/venv/lib/python3.10/site-packages/owlready2/namespace.py:533\u001b[0m, in \u001b[0;36mWorld._prepare_sparql\u001b[0;34m(self, sparql, error_on_undefined_entities)\u001b[0m\n\u001b[1;32m    530\u001b[0m \u001b[39m@lru_cache\u001b[39m(maxsize \u001b[39m=\u001b[39m \u001b[39m1024\u001b[39m)\n\u001b[1;32m    531\u001b[0m \u001b[39mdef\u001b[39;00m \u001b[39m_prepare_sparql\u001b[39m(\u001b[39mself\u001b[39m, sparql, error_on_undefined_entities):\n\u001b[1;32m    532\u001b[0m   \u001b[39mimport\u001b[39;00m \u001b[39mowlready2\u001b[39;00m\u001b[39m.\u001b[39;00m\u001b[39msparql\u001b[39;00m\u001b[39m.\u001b[39;00m\u001b[39mmain\u001b[39;00m\n\u001b[0;32m--> 533\u001b[0m   \u001b[39mreturn\u001b[39;00m owlready2\u001b[39m.\u001b[39;49msparql\u001b[39m.\u001b[39;49mmain\u001b[39m.\u001b[39;49mTranslator(\u001b[39mself\u001b[39;49m, error_on_undefined_entities)\u001b[39m.\u001b[39;49mparse(sparql)\n",
      "File \u001b[0;32m~/projets/T3.5/venv/lib/python3.10/site-packages/owlready2/sparql/main.py:61\u001b[0m, in \u001b[0;36mTranslator.parse\u001b[0;34m(self, sparql)\u001b[0m\n\u001b[1;32m     59\u001b[0m   \u001b[39mself\u001b[39m\u001b[39m.\u001b[39mescape_mark \u001b[39m+\u001b[39m\u001b[39m=\u001b[39m \u001b[39m\"\u001b[39m\u001b[39mç\u001b[39m\u001b[39m\"\u001b[39m\n\u001b[1;32m     60\u001b[0m CURRENT_TRANSLATOR\u001b[39m.\u001b[39mset(\u001b[39mself\u001b[39m)\n\u001b[0;32m---> 61\u001b[0m \u001b[39mself\u001b[39m\u001b[39m.\u001b[39mmain_query \u001b[39m=\u001b[39m PARSER\u001b[39m.\u001b[39;49mparse(LEXER\u001b[39m.\u001b[39;49mlex(sparql))\n\u001b[1;32m     62\u001b[0m \u001b[39mreturn\u001b[39;00m \u001b[39mself\u001b[39m\u001b[39m.\u001b[39mfinalize()\n",
      "File \u001b[0;32m~/projets/T3.5/venv/lib/python3.10/site-packages/owlready2/rply.py:451\u001b[0m, in \u001b[0;36mLRParser.parse\u001b[0;34m(self, tokenizer, state)\u001b[0m\n\u001b[1;32m    449\u001b[0m   \u001b[39mraise\u001b[39;00m \u001b[39mAssertionError\u001b[39;00m(\u001b[39m\"\u001b[39m\u001b[39mFor now, error_handler must raise.\u001b[39m\u001b[39m\"\u001b[39m)\n\u001b[1;32m    450\u001b[0m \u001b[39melse\u001b[39;00m:\n\u001b[0;32m--> 451\u001b[0m   \u001b[39mraise\u001b[39;00m ParsingError(\u001b[39m\"\u001b[39m\u001b[39mError at \u001b[39m\u001b[39m%s\u001b[39;00m\u001b[39m\"\u001b[39m \u001b[39m%\u001b[39m lookahead, lookahead\u001b[39m.\u001b[39msource_pos)\n",
      "\u001b[0;31mParsingError\u001b[0m: ('Error at FILTER', 0)"
     ]
    }
   ],
   "source": [
    "EX(\"\"\"FILTER\"\"\")"
   ]
  },
  {
   "cell_type": "code",
   "execution_count": 208,
   "metadata": {},
   "outputs": [
    {
     "data": {
      "text/plain": [
       "[[WIP.PBN__RiskGroup_6, WIP.PBN__TechGroup_11, 2205],\n",
       " [WIP.PBN__RiskGroup_6, WIP.PBN__TechGroup_54, 1993],\n",
       " [WIP.PBN__RiskGroup_6, WIP.PBN__TechGroup_25, 1846],\n",
       " [WIP.PBN__RiskGroup_6, WIP.PBN__TechGroup_16, 1639],\n",
       " [WIP.PBN__RiskGroup_6, WIP.PBN__Technology_22, 1622],\n",
       " [WIP.PBN__RiskGroup_6, WIP.PBN__TechGroup_20, 1534],\n",
       " [WIP.PBN__RiskGroup_6, WIP.PBN__TechGroup_10, 1435],\n",
       " [WIP.PBN__RiskGroup_6, WIP.PBN__TechGroup_39, 1316],\n",
       " [WIP.PBN__RiskGroup_6, WIP.PBN__Technology_2120, 1264],\n",
       " [WIP.PBN__RiskGroup_6, WIP.PBN__Technology_2119, 1163]]"
      ]
     },
     "execution_count": 208,
     "metadata": {},
     "output_type": "execute_result"
    }
   ],
   "source": [
    "A = EX(\"\"\"PREFIX pbn: <https://github.com/mm80843/T3.5/raw/main/pbn_t3_5.owl#>\n",
    "\n",
    "SELECT ?riskGroup ?techSubgroup (COUNT(?techSubgroup) AS ?techCount)\n",
    "WHERE {\n",
    "  ?riskGroup a pbn:RiskGroup .\n",
    "  ?risk pbn:has_RiskGroup ?riskGroup .\n",
    "  ?risk pbn:has_RiskTechnology ?technology .\n",
    "  ?technology a pbn:Technology . \n",
    "  ?riskGroup a pbn:RiskGroup . \n",
    "  ?technology pbn:has_TechSubgroup ?techSubgroup . \n",
    "}\n",
    "GROUP BY ?techSubgroup\n",
    "ORDER BY DESC(?techCount)\n",
    "LIMIT 10\"\"\")\n",
    "A"
   ]
  },
  {
   "cell_type": "code",
   "execution_count": 203,
   "metadata": {},
   "outputs": [
    {
     "data": {
      "text/plain": [
       "{WIP.has_TechGroup,\n",
       " rdf-schema.label,\n",
       " WIP.has_Closest,\n",
       " WIP.has_TechnologyRisk,\n",
       " WIP.has_Category,\n",
       " WIP.has_TechSubgroup,\n",
       " WIP.has_TechSource,\n",
       " WIP.has_TechnologyBlueprint,\n",
       " WIP.has_SubgroupTech,\n",
       " WIP.has_TechnologyMitigation}"
      ]
     },
     "execution_count": 203,
     "metadata": {},
     "output_type": "execute_result"
    }
   ],
   "source": [
    "onto.PBN__Technology_22.get_properties()"
   ]
  },
  {
   "cell_type": "code",
   "execution_count": 180,
   "metadata": {},
   "outputs": [
    {
     "data": {
      "text/plain": [
       "'Public health risks'"
      ]
     },
     "execution_count": 180,
     "metadata": {},
     "output_type": "execute_result"
    }
   ],
   "source": [
    "onto.PBN__RiskGroup_6.label[0]"
   ]
  },
  {
   "cell_type": "code",
   "execution_count": 181,
   "metadata": {},
   "outputs": [
    {
     "data": {
      "text/plain": [
       "['Urban planning',\n",
       " 'Data analytics',\n",
       " 'Ai tools',\n",
       " 'Iot',\n",
       " 'Digital and information management',\n",
       " 'Infrastructure',\n",
       " 'Sensors and monitoring',\n",
       " 'Monitoring']"
      ]
     },
     "execution_count": 181,
     "metadata": {},
     "output_type": "execute_result"
    }
   ],
   "source": [
    "[x[1].label[0] for x in A]"
   ]
  },
  {
   "cell_type": "code",
   "execution_count": 67,
   "metadata": {},
   "outputs": [
    {
     "name": "stdout",
     "output_type": "stream",
     "text": [
      "WIP.PBN__RiskGroup_6\n",
      "WIP.PBN__RiskGroup_29\n",
      "WIP.PBN__RiskGroup_49\n",
      "WIP.PBN__RiskGroup_7\n",
      "WIP.PBN__RiskGroup_57\n",
      "WIP.PBN__RiskGroup_18\n",
      "WIP.PBN__RiskGroup_36\n",
      "WIP.PBN__RiskGroup_45\n",
      "WIP.PBN__RiskGroup_20\n",
      "WIP.PBN__RiskGroup_70\n",
      "WIP.PBN__RiskGroup_2\n",
      "WIP.PBN__RiskGroup_66\n",
      "WIP.PBN__RiskGroup_3\n",
      "WIP.PBN__RiskGroup_78\n",
      "WIP.PBN__RiskGroup_4\n",
      "WIP.PBN__RiskGroup_76\n",
      "WIP.PBN__RiskGroup_13\n",
      "WIP.PBN__RiskGroup_32\n",
      "WIP.PBN__RiskGroup_8\n",
      "WIP.PBN__RiskGroup_41\n",
      "WIP.PBN__RiskGroup_30\n",
      "WIP.PBN__RiskGroup_10\n",
      "WIP.PBN__RiskGroup_31\n",
      "WIP.PBN__RiskGroup_88\n",
      "WIP.PBN__RiskGroup_83\n",
      "WIP.PBN__RiskGroup_0\n",
      "WIP.PBN__RiskGroup_15\n",
      "WIP.PBN__RiskGroup_87\n",
      "WIP.PBN__RiskGroup_19\n",
      "WIP.PBN__RiskGroup_22\n",
      "WIP.PBN__RiskGroup_23\n",
      "WIP.PBN__RiskGroup_79\n",
      "WIP.PBN__RiskGroup_65\n",
      "WIP.PBN__RiskGroup_43\n",
      "WIP.PBN__RiskGroup_54\n",
      "WIP.PBN__RiskGroup_84\n",
      "WIP.PBN__RiskGroup_64\n",
      "WIP.PBN__RiskGroup_1\n",
      "WIP.PBN__RiskGroup_28\n",
      "WIP.PBN__RiskGroup_33\n",
      "WIP.PBN__RiskGroup_16\n",
      "WIP.PBN__RiskGroup_21\n",
      "WIP.PBN__RiskGroup_62\n",
      "WIP.PBN__RiskGroup_56\n",
      "WIP.PBN__RiskGroup_82\n",
      "WIP.PBN__RiskGroup_46\n",
      "WIP.PBN__RiskGroup_40\n",
      "WIP.PBN__RiskGroup_71\n",
      "WIP.PBN__RiskGroup_80\n",
      "WIP.PBN__RiskGroup_24\n",
      "WIP.PBN__RiskGroup_39\n",
      "WIP.PBN__RiskGroup_26\n",
      "WIP.PBN__RiskGroup_9\n",
      "WIP.PBN__RiskGroup_53\n",
      "WIP.PBN__RiskGroup_37\n",
      "WIP.PBN__RiskGroup_5\n",
      "WIP.PBN__RiskGroup_14\n",
      "WIP.PBN__RiskGroup_44\n",
      "WIP.PBN__RiskGroup_48\n",
      "WIP.PBN__RiskGroup_50\n",
      "WIP.PBN__RiskGroup_42\n",
      "WIP.PBN__RiskGroup_60\n",
      "WIP.PBN__RiskGroup_17\n",
      "WIP.PBN__RiskGroup_51\n",
      "WIP.PBN__RiskGroup_34\n",
      "WIP.PBN__RiskGroup_74\n",
      "WIP.PBN__RiskGroup_68\n",
      "WIP.PBN__RiskGroup_69\n",
      "WIP.PBN__RiskGroup_38\n",
      "WIP.PBN__RiskGroup_35\n",
      "WIP.PBN__RiskGroup_11\n",
      "WIP.PBN__RiskGroup_63\n",
      "WIP.PBN__RiskGroup_90\n",
      "WIP.PBN__RiskGroup_89\n",
      "WIP.PBN__RiskGroup_67\n",
      "WIP.PBN__RiskGroup_52\n",
      "WIP.PBN__RiskGroup_12\n",
      "WIP.PBN__RiskGroup_27\n",
      "WIP.PBN__RiskGroup_25\n",
      "WIP.PBN__RiskGroup_72\n",
      "WIP.PBN__RiskGroup_77\n",
      "WIP.PBN__RiskGroup_61\n",
      "WIP.PBN__RiskGroup_73\n",
      "WIP.PBN__RiskGroup_97\n",
      "WIP.PBN__RiskGroup_96\n",
      "WIP.PBN__RiskGroup_86\n",
      "WIP.PBN__RiskGroup_85\n",
      "WIP.PBN__RiskGroup_59\n",
      "WIP.PBN__RiskGroup_75\n",
      "WIP.PBN__RiskGroup_81\n",
      "WIP.PBN__RiskGroup_47\n",
      "WIP.PBN__RiskGroup_93\n",
      "WIP.PBN__RiskGroup_58\n",
      "WIP.PBN__RiskGroup_55\n",
      "WIP.PBN__RiskGroup_94\n",
      "WIP.PBN__RiskGroup_95\n",
      "WIP.PBN__RiskGroup_92\n",
      "WIP.PBN__RiskGroup_91\n",
      "WIP.PBN__RiskGroup_98\n",
      "WIP.riskgroup1\n"
     ]
    }
   ],
   "source": [
    "for x in onto.RiskGroup.instances():\n",
    "    print(x)"
   ]
  }
 ],
 "metadata": {
  "kernelspec": {
   "display_name": "venv",
   "language": "python",
   "name": "python3"
  },
  "language_info": {
   "codemirror_mode": {
    "name": "ipython",
    "version": 3
   },
   "file_extension": ".py",
   "mimetype": "text/x-python",
   "name": "python",
   "nbconvert_exporter": "python",
   "pygments_lexer": "ipython3",
   "version": "3.10.12"
  },
  "vscode": {
   "interpreter": {
    "hash": "f79bc2406addd2c06911dc053b733d86c52c13481e10d53afee492d28d2db597"
   }
  }
 },
 "nbformat": 4,
 "nbformat_minor": 2
}
