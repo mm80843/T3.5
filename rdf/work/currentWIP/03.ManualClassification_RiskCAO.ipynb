{
 "cells": [
  {
   "cell_type": "code",
   "execution_count": 2,
   "metadata": {},
   "outputs": [
    {
     "name": "stdout",
     "output_type": "stream",
     "text": [
      "The autoreload extension is already loaded. To reload it, use:\n",
      "  %reload_ext autoreload\n",
      "0.40\n"
     ]
    }
   ],
   "source": [
    "%load_ext autoreload\n",
    "%autoreload 2\n",
    "\n",
    "from owlready2 import *\n",
    "import owlready2\n",
    "print(owlready2.VERSION)\n",
    "\n",
    "import pandas as pd\n",
    "import glob, os, hashlib\n",
    "import requests, json\n",
    "from datetime import datetime\n",
    "\n",
    "import random\n",
    "\n",
    "def NOW():\n",
    "    now = datetime.now()\n",
    "    current_time = now.strftime(\"%H:%M:%S\")\n",
    "    return \"Current Time = \"+ str(current_time)\n",
    "\n",
    "from dotenv import load_dotenv\n",
    "load_dotenv('.env')\n",
    "\n",
    "URL = os.getenv(\"KG_URL_FCT\")\n",
    "TOK3N = os.getenv(\"KG_TOKEN\")"
   ]
  },
  {
   "cell_type": "code",
   "execution_count": 3,
   "metadata": {},
   "outputs": [],
   "source": [
    "import importlib.util\n",
    "import sys\n",
    "\n",
    "spec = importlib.util.spec_from_file_location(\"llm\", \"../../../utils/llm.py\")\n",
    "h = importlib.util.module_from_spec(spec)\n",
    "sys.modules[\"llm\"] = h\n",
    "spec.loader.exec_module(h)\n",
    "\n",
    "spec = importlib.util.spec_from_file_location(\"rdfutils\", \"../../../utils/rdfutils.py\")\n",
    "u = importlib.util.module_from_spec(spec)\n",
    "sys.modules[\"rdfutils\"] = u\n",
    "spec.loader.exec_module(u)"
   ]
  },
  {
   "cell_type": "code",
   "execution_count": 20,
   "metadata": {},
   "outputs": [
    {
     "name": "stdout",
     "output_type": "stream",
     "text": [
      "4041 items listed\n"
     ]
    },
    {
     "data": {
      "text/plain": [
       "category\n",
       "Data Privacy and Security risks     208\n",
       "Economic risks                      403\n",
       "Environmental risks                 412\n",
       "Infrastructure risks                345\n",
       "Legal risks                          38\n",
       "Political risks                     166\n",
       "Public health risks                1291\n",
       "Social risks                        763\n",
       "Technological risks                 415\n",
       "Name: name, dtype: int64"
      ]
     },
     "execution_count": 20,
     "metadata": {},
     "output_type": "execute_result"
    }
   ],
   "source": [
    "import pandas as pd\n",
    "DFC = pd.read_parquet(\"../../support/newrisks_classified_lv1.parquet.gzip\")\n",
    "print(len(DFC),\"items listed\")\n",
    "DFC.groupby([\"category\"]).name.count()"
   ]
  },
  {
   "cell_type": "code",
   "execution_count": 21,
   "metadata": {},
   "outputs": [
    {
     "data": {
      "text/plain": [
       "'Political risks'"
      ]
     },
     "execution_count": 21,
     "metadata": {},
     "output_type": "execute_result"
    }
   ],
   "source": [
    "DFC.category.unique()[0]"
   ]
  },
  {
   "cell_type": "code",
   "execution_count": 27,
   "metadata": {},
   "outputs": [
    {
     "name": "stdout",
     "output_type": "stream",
     "text": [
      "### Political risks\n",
      "* Compliance and governance risks\n",
      "* Preparedness and resilience risks\n",
      "* Data and evidence quality risks\n",
      "* Communication and perception risks\n",
      "* Policy and coordination risks\n",
      "* Global collaboration and resource allocation risks\n",
      "* Political response and political divide risks\n",
      "* Socioeconomic and cultural factors risks\n",
      "* Data usage and transparency risks\n",
      "* Urban development and governance risks\n",
      "### Social risks\n",
      "* Social and economic disparities\n",
      "* Public health and safety awareness\n",
      "* Occupational safety and risk\n",
      "* Housing and living conditions\n",
      "* Cultural and lifestyle implications\n",
      "* Physical activity and mobility\n",
      "* Urban planning and infrastructure\n",
      "* Access to resources and services\n",
      "* Mental health and well-being\n",
      "* Compliance and enforcement of regulations\n",
      "### Infrastructure risks\n",
      "* Infection transmission risks\n",
      "* Ventilation system performance and design\n",
      "* Occupational and residential space planning\n",
      "* Building resilience and operability\n",
      "* Supply chain and essential supplies disruption\n",
      "* Healthcare facility design and management\n",
      "* Construction and project management\n",
      "* Transportation infrastructure\n",
      "* Public health and governance in urban planning\n",
      "* Infrastructure and building system adaptability\n",
      "### Public health risks\n",
      "* Infectious disease transmission risks\n",
      "* Environmental and sanitation risks\n",
      "* Healthcare infrastructure and capacity risks\n",
      "* Herd immunity and vaccination risks\n",
      "* Occupational exposure risks\n",
      "* Population density and public space risks\n",
      "* Data accuracy and information reliability risks\n",
      "* Air quality and ventilation risks\n",
      "* Pandemic preparedness and containment risks\n",
      "* Behavioral and social factors influencing disease transmission risks\n",
      "### Data Privacy and Security risks\n",
      "* Data privacy and security risks\n",
      "* Inaccurate or incomplete data\n",
      "* Privacy concerns related to data collection and storage\n",
      "* Potential data breaches\n",
      "* Limited data accessibility and reliability\n",
      "* Surveillance and privacy concerns\n",
      "* Use of incomplete or unrepresentative data\n",
      "* Potential for misinformation and data misuse\n",
      "* Challenges in data sharing and standards\n",
      "* Privacy and security risks in technological solutions\n",
      "### Economic risks\n",
      "* Economic uncertainties and vulnerabilities\n",
      "* Supply chain disruptions\n",
      "* Pandemic impact on real estate markets\n",
      "* Unemployment and economic uncertainty\n",
      "* Global recession and economic instability\n",
      "* Construction industry impacts\n",
      "* Workforce and labor shortages\n",
      "* Financial strains and liquidity crises\n",
      "* Food supply chain disruptions\n",
      "* Global interconnectivity and spread of respiratory pandemics\n",
      "### Legal risks\n",
      "* Legal and regulatory risks\n",
      "* Compliance and contractual risks\n",
      "* Ethical and privacy risks\n",
      "* Public health and government regulation risks\n",
      "* Research and data sharing risks\n",
      "* Construction and infrastructure risks\n",
      "* Innovation and intellectual property risks\n",
      "* Healthcare and medical equipment risks\n",
      "* Discrimination and social risks\n",
      "* Peer-review and professional competence risks\n",
      "### Environmental risks\n",
      "* Environmental risks\n",
      "* Public health risks\n",
      "* Climate change risks\n",
      "* Energy consumption risks\n",
      "* Biodiversity and habitat risks\n",
      "* Infrastructure and urban development risks\n",
      "* Wastewater management risks\n",
      "* Pandemic resilience and disease propagation risks\n",
      "* Environmental pollution risks\n",
      "* Sustainability and resilience certification risks\n",
      "### Technological risks\n",
      "* Technological risks\n",
      "* Data and information security risks\n",
      "* Environmental and health risks\n",
      "* Modeling and prediction risks\n",
      "* Infrastructure and connectivity risks\n",
      "* Human factors and behavior risks\n",
      "* Geographic and spatial risks\n",
      "* Resource and capability risks\n",
      "* Innovation and adoption risks\n",
      "* Epidemiological and public health risks\n"
     ]
    }
   ],
   "source": [
    "for k in range(len(DFC.category.unique())):\n",
    "    Name = DFC.category.unique()[k]\n",
    "    A = list(DFC[DFC[\"category\"] == Name].name)\n",
    "    random.shuffle(A)\n",
    "    A = A[:100]\n",
    "\n",
    "    REQ = {\n",
    "        \"context\": \"Out the following list, classify these risks as a list of 10 general, overarching families of risks. Name only the families of risks, with '*' bullet points. \\n\\n\",\n",
    "        \"question\": \"* \"+\"\\n* \".join(A),\n",
    "        \"token\": TOK3N,\n",
    "        \"overwrite\": False,\n",
    "        \"source\": \"local-classRiskslv1_T3.5\",\n",
    "        \"seed\" : \"\"\n",
    "    }\n",
    "    x = requests.post(URL+\"ask/\", json = REQ)\n",
    "    answer = json.loads(x.text)\n",
    "    print('### '+Name)\n",
    "    print(answer[\"answer\"])"
   ]
  },
  {
   "cell_type": "code",
   "execution_count": 28,
   "metadata": {},
   "outputs": [],
   "source": [
    "t = \"\"\"### Political risks\n",
    "* Trust and transparency challenges\n",
    "* Globalization challenges\n",
    "* Lack of global governance and coordination\n",
    "* Weak local decision-making mechanisms\n",
    "* Lack of coordination and consistency in mitigation measures\n",
    "* Ineffectiveness of interventions\n",
    "* Bioterrorism threats\n",
    "* Global coordination challenges\n",
    "* Lack of transparency and clarity\n",
    "### Social risks\n",
    "* Disinformation and Misinformation\n",
    "* Social and Psychological Effects \n",
    "* Social Justice Concerns\n",
    "* Communication and Messaging\n",
    "* Access to infrastructure  \n",
    "* Physical activity and mobility\n",
    "* Misinformation and Media Risks\n",
    "* Cultural and Lifestyle Risks\n",
    "* Vulnerability risks\n",
    "* Occupational and Employment Risks\n",
    "* Mental and Emotional Wellbeing\n",
    "* Health Behaviors and Compliance\n",
    "### Infrastructure risks\n",
    "* Inadequate remote work setup for employees\n",
    "* Improper architectural designs\n",
    "* Inadequate mobility schemes\n",
    "* Poor urban planning\n",
    "* Infrastructure maintenance risk \n",
    "* Lack of emphasis on air quality \n",
    "* Lack of emphasis on water quality \n",
    "* Insufficient adoption of health-focused building standards\n",
    "* Insufficient adoption of health-focused urban standards\n",
    "* Inadequate hospital design \n",
    "* Inadequate adaptability to emerging problems  \n",
    "* Disruptions from outbreaks and other major external events\n",
    "### Public health risks\n",
    "* Failure to implement preventive measures\n",
    "* Misinterpretation of data and results\n",
    "* Lack of access to health services\n",
    "* Public health messaging and education\n",
    "* Lack of effective medical solutions\n",
    "* Healthcare resource shortage and management\n",
    "* Workplace safety and occupational exposure\n",
    "* Poor access to Diagnostics and Treatment\n",
    "* Poor vector-borne diseases control\n",
    "### Data Privacy and Security risks\n",
    "* Data Security risks\n",
    "* Privacy risks\n",
    "* Cybersecurity Threats\n",
    "* Inaccurate or Incomplete Data\n",
    "* Misuse of Personal Data\n",
    "* Reliability and Quality of Data\n",
    "* Surveillance and Monitoring Privacy Concerns\n",
    "* Limited Accessibility and Data Equity\n",
    "* Transparency and Accountability Issues\n",
    "* Potential Misinformation and False Data\n",
    "### Economic risks\n",
    "* Supply chain disruptions\n",
    "* Pandemic impact on markets\n",
    "* Lower investment\n",
    "* Lower employment\n",
    "* Discontinuity of services\n",
    "* Global recession and economic instability\n",
    "* Construction industry impacts\n",
    "* Resource and capability risks\n",
    "* Workforce and labor shortages\n",
    "* Financial strains and liquidity crises\n",
    "* Food supply chain disruptions \n",
    "### Legal risks\n",
    "* Compliance and Contractual\n",
    "* Data and Research Integrity\n",
    "* Intellectual Property\n",
    "* Workplace Safety and Health\n",
    "* Privacy and Civil Liberties\n",
    "* Fraud and Misconduct\n",
    "* Healthcare Legislation\n",
    "* Building Codes and Certification\n",
    "* Technology Deployment and Surveillance\n",
    "### Environmental risks\n",
    "* Climate change\n",
    "* Pollution increase\n",
    "* Environmental health risks\n",
    "* Air quality and pollution effects\n",
    "* Urbanization and habitat loss\n",
    "* Climate change effects\n",
    "* Wastewater and sanitation risks\n",
    "* Biodiversity and ecological impacts\n",
    "* Energy consumption and sustainability issues\n",
    "### Technological risks\n",
    "* Data privacy and security risks\n",
    "* Healthcare and medical risks\n",
    "* Infrastructure and connectivity risks\n",
    "* Modeling and simulation risks\n",
    "* Modeling and prediction risks\n",
    "* Artificial intelligence and machine learning risks\n",
    "* Inadequate ventilation and air circulation\n",
    "* Operational and implementation risks \n",
    "* Innovation and adoption risks\n",
    "* Healthcare infrastructure and technology adoption risks \"\"\""
   ]
  },
  {
   "cell_type": "code",
   "execution_count": 29,
   "metadata": {},
   "outputs": [],
   "source": [
    "DICT = {}\n",
    "for l in t.split(\"\\n\"):\n",
    "    if l.startswith(\"###\"):\n",
    "        DICT[l.replace(\"### \",\"\")] = []\n",
    "        na = l.replace(\"### \",\"\")\n",
    "    if l.startswith(\"*\"):\n",
    "        DICT[na].append(l.replace(\"* \",\"\"))"
   ]
  },
  {
   "cell_type": "code",
   "execution_count": 30,
   "metadata": {},
   "outputs": [
    {
     "data": {
      "text/plain": [
       "{'Political risks': ['Trust and transparency challenges',\n",
       "  'Globalization challenges',\n",
       "  'Lack of global governance and coordination',\n",
       "  'Weak local decision-making mechanisms',\n",
       "  'Lack of coordination and consistency in mitigation measures',\n",
       "  'Ineffectiveness of interventions',\n",
       "  'Bioterrorism threats',\n",
       "  'Global coordination challenges',\n",
       "  'Lack of transparency and clarity'],\n",
       " 'Social risks': ['Disinformation and Misinformation',\n",
       "  'Social and Psychological Effects ',\n",
       "  'Social Justice Concerns',\n",
       "  'Communication and Messaging',\n",
       "  'Access to infrastructure  ',\n",
       "  'Physical activity and mobility',\n",
       "  'Misinformation and Media Risks',\n",
       "  'Cultural and Lifestyle Risks',\n",
       "  'Vulnerability risks',\n",
       "  'Occupational and Employment Risks',\n",
       "  'Mental and Emotional Wellbeing',\n",
       "  'Health Behaviors and Compliance'],\n",
       " 'Infrastructure risks': ['Inadequate remote work setup for employees',\n",
       "  'Improper architectural designs',\n",
       "  'Inadequate mobility schemes',\n",
       "  'Poor urban planning',\n",
       "  'Infrastructure maintenance risk ',\n",
       "  'Lack of emphasis on air quality ',\n",
       "  'Lack of emphasis on water quality ',\n",
       "  'Insufficient adoption of health-focused building standards',\n",
       "  'Insufficient adoption of health-focused urban standards',\n",
       "  'Inadequate hospital design ',\n",
       "  'Inadequate adaptability to emerging problems  ',\n",
       "  'Disruptions from outbreaks and other major external events'],\n",
       " 'Public health risks': ['Failure to implement preventive measures',\n",
       "  'Misinterpretation of data and results',\n",
       "  'Lack of access to health services',\n",
       "  'Public health messaging and education',\n",
       "  'Lack of effective medical solutions',\n",
       "  'Healthcare resource shortage and management',\n",
       "  'Workplace safety and occupational exposure',\n",
       "  'Poor access to Diagnostics and Treatment',\n",
       "  'Poor vector-borne diseases control'],\n",
       " 'Data Privacy and Security risks': ['Data Security risks',\n",
       "  'Privacy risks',\n",
       "  'Cybersecurity Threats',\n",
       "  'Inaccurate or Incomplete Data',\n",
       "  'Misuse of Personal Data',\n",
       "  'Reliability and Quality of Data',\n",
       "  'Surveillance and Monitoring Privacy Concerns',\n",
       "  'Limited Accessibility and Data Equity',\n",
       "  'Transparency and Accountability Issues',\n",
       "  'Potential Misinformation and False Data'],\n",
       " 'Economic risks': ['Supply chain disruptions',\n",
       "  'Pandemic impact on markets',\n",
       "  'Lower investment',\n",
       "  'Lower employment',\n",
       "  'Discontinuity of services',\n",
       "  'Global recession and economic instability',\n",
       "  'Construction industry impacts',\n",
       "  'Resource and capability risks',\n",
       "  'Workforce and labor shortages',\n",
       "  'Financial strains and liquidity crises',\n",
       "  'Food supply chain disruptions '],\n",
       " 'Legal risks': ['Compliance and Contractual',\n",
       "  'Data and Research Integrity',\n",
       "  'Intellectual Property',\n",
       "  'Workplace Safety and Health',\n",
       "  'Privacy and Civil Liberties',\n",
       "  'Fraud and Misconduct',\n",
       "  'Healthcare Legislation',\n",
       "  'Building Codes and Certification',\n",
       "  'Technology Deployment and Surveillance'],\n",
       " 'Environmental risks': ['Climate change',\n",
       "  'Pollution increase',\n",
       "  'Environmental health risks',\n",
       "  'Air quality and pollution effects',\n",
       "  'Urbanization and habitat loss',\n",
       "  'Climate change effects',\n",
       "  'Wastewater and sanitation risks',\n",
       "  'Biodiversity and ecological impacts',\n",
       "  'Energy consumption and sustainability issues'],\n",
       " 'Technological risks': ['Data privacy and security risks',\n",
       "  'Healthcare and medical risks',\n",
       "  'Infrastructure and connectivity risks',\n",
       "  'Modeling and simulation risks',\n",
       "  'Modeling and prediction risks',\n",
       "  'Artificial intelligence and machine learning risks',\n",
       "  'Inadequate ventilation and air circulation',\n",
       "  'Operational and implementation risks ',\n",
       "  'Innovation and adoption risks',\n",
       "  'Healthcare infrastructure and technology adoption risks ']}"
      ]
     },
     "execution_count": 30,
     "metadata": {},
     "output_type": "execute_result"
    }
   ],
   "source": [
    "DICT"
   ]
  },
  {
   "cell_type": "code",
   "execution_count": 3,
   "metadata": {},
   "outputs": [],
   "source": [
    "onto = get_ontology(\"./WIP.owl\").load()"
   ]
  },
  {
   "cell_type": "code",
   "execution_count": 4,
   "metadata": {},
   "outputs": [
    {
     "data": {
      "text/plain": [
       "20897"
      ]
     },
     "execution_count": 4,
     "metadata": {},
     "output_type": "execute_result"
    }
   ],
   "source": [
    "RISKS = [x.label[0] for x in onto.Risk.instances() if len(x.label) >= 1]\n",
    "len(RISKS)"
   ]
  },
  {
   "cell_type": "markdown",
   "metadata": {},
   "source": [
    "# Classification"
   ]
  },
  {
   "cell_type": "markdown",
   "metadata": {},
   "source": [
    "### Doing PESTLE, lv1"
   ]
  },
  {
   "cell_type": "code",
   "execution_count": 5,
   "metadata": {},
   "outputs": [],
   "source": [
    "CategoriesOfRisks = ['Social risks','Public health risks', 'Technological risks',\n",
    "       'Infrastructure risks', 'Economic risks',\n",
    "       'Data Privacy and Security risks', 'Environmental risks',\n",
    "       'Political risks', 'Legal risks']"
   ]
  },
  {
   "cell_type": "code",
   "execution_count": 6,
   "metadata": {},
   "outputs": [],
   "source": [
    "def classify_risks_PESTLE(CategoriesOfRisks):\n",
    "    return [\n",
    "        {\n",
    "        \"name\": \"classify_risks_PESTLE\",\n",
    "        \"description\": \"Function used to classify risks from a high level perspective, based on what they  impact the most . \",\n",
    "        \"parameters\": {\n",
    "            \"type\": \"object\",\n",
    "            \"properties\": {\n",
    "                \"sorted_risks\": {\n",
    "                    \"type\": 'array',\n",
    "                    \"items\": {\n",
    "                        \"type\": 'object',\n",
    "                        \"description\": \"A type of risk \",\n",
    "                        \"properties\": {\n",
    "                            \"name\" :{\n",
    "                                \"type\": 'string', \n",
    "                                \"description\": 'The risk being considered.'\n",
    "                            },\n",
    "                            \"category\" :{\n",
    "                                \"type\": 'string', \n",
    "                                \"enum\":CategoriesOfRisks,\n",
    "                                \"description\": 'The category of risk that matches the risk category being considered. '\n",
    "                            },\n",
    "                            \"confidence\" :{\n",
    "                                \"type\": 'string',  \n",
    "                                \"enum\":[\"High\",\"Medium-high\",\"Medium\",\"Low\"],\n",
    "                                \"description\": 'Confidence that this is the correct risk category.'\n",
    "                            }                            \n",
    "                        },\n",
    "                        \"required\": [\"name\",'category',\"confidence\"],\n",
    "                    }\n",
    "                },\n",
    "            },\n",
    "            \"required\": [\"sorted_risks\"],\n",
    "        },\n",
    "    }\n",
    "]"
   ]
  },
  {
   "cell_type": "code",
   "execution_count": 7,
   "metadata": {},
   "outputs": [
    {
     "name": "stdout",
     "output_type": "stream",
     "text": [
      "error\n",
      "error\n",
      "error\n"
     ]
    }
   ],
   "source": [
    "RES = []\n",
    "NChunks = 50\n",
    "#Randomizing list\n",
    "if os.path.isfile(\"../../support/newrisks_classified_lv1.parquet.gzip\"):\n",
    "    GOOD = pd.read_parquet(\"../../support/newrisks_classified_lv1.parquet.gzip\")\n",
    "    alreadythere = GOOD[\"name\"].unique()\n",
    "    random.shuffle(RISKS)\n",
    "    newRisks = [x for x in RISKS if x not in alreadythere]\n",
    "else:\n",
    "    newRisks = RISKS\n",
    "    \n",
    "if len(newRisks):\n",
    "    newRisks = [str(x) for x in newRisks]\n",
    "    NB = len(newRisks)//NChunks\n",
    "    CATS_FWK = [GOOD]\n",
    "    for k in range(NB):\n",
    "        try:\n",
    "            QUESTION =  \"The risks are:\\n\\n* \"+\"\\n* \".join(newRisks[(k*NChunks):(k+1)*NChunks]) \n",
    "            prefix =\"risks_\"\n",
    "            overwrite = False\n",
    "            REQ = {\n",
    "                \"context\": \"Out the following list, classify the risks from a high level perspective.\\n\\n\",\n",
    "                \"question\": QUESTION,\n",
    "                \"functions\": classify_risks_PESTLE(CategoriesOfRisks),\n",
    "                \"token\": TOK3N,\n",
    "                \"overwrite\": overwrite,\n",
    "                \"source\": \"local-evalrisksT3.5\",\n",
    "                \"seed\" : \"\"\n",
    "            }\n",
    "\n",
    "            H = h.hashme(REQ[\"context\"]+REQ[\"question\"])\n",
    "            cached = \"cache/\"+prefix+\"_\"+H+\".json\"\n",
    "            if not os.path.isfile(cached) or overwrite:\n",
    "                x = requests.post(URL+\"fct/\", json = REQ)\n",
    "                answer = json.loads(x.text)[\"messages\"][-1]\n",
    "                h.svt(cached,answer)\n",
    "            else:\n",
    "                answer = h.ldt(cached)\n",
    "            d = pd.DataFrame(json.loads(answer[\"function_call\"][\"arguments\"])[\"sorted_risks\"])\n",
    "            d = d [d[\"category\"].isin(CategoriesOfRisks)]\n",
    "            CATS_FWK.append(d)\n",
    "            DFC = pd.concat(CATS_FWK).reset_index(drop=True)\n",
    "            DFC.to_parquet(\"../../support/newrisks_classified_lv1.parquet.gzip\",compression=\"gzip\")\n",
    "            print(\"Done:\",k)\n",
    "        except:\n",
    "            print(\"error\")\n",
    "            pass\n",
    "else:\n",
    "    print(\"All risks covered\")"
   ]
  },
  {
   "cell_type": "code",
   "execution_count": null,
   "metadata": {},
   "outputs": [
    {
     "name": "stdout",
     "output_type": "stream",
     "text": [
      "3981\n"
     ]
    },
    {
     "data": {
      "text/plain": [
       "category\n",
       "Data Privacy and Security risks     204\n",
       "Economic risks                      397\n",
       "Environmental risks                 404\n",
       "Infrastructure risks                344\n",
       "Legal risks                          36\n",
       "Political risks                     161\n",
       "Public health risks                1269\n",
       "Social risks                        758\n",
       "Technological risks                 408\n",
       "Name: name, dtype: int64"
      ]
     },
     "execution_count": 3,
     "metadata": {},
     "output_type": "execute_result"
    }
   ],
   "source": [
    "import pandas as pd\n",
    "DFC = pd.read_parquet(\"../../support/newrisks_classified_lv1.parquet.gzip\")\n",
    "print(len(DFC),\"items listed\")\n",
    "DFC.groupby([\"category\"]).name.count()"
   ]
  },
  {
   "cell_type": "markdown",
   "metadata": {},
   "source": [
    "## Doing lv2"
   ]
  },
  {
   "cell_type": "code",
   "execution_count": 49,
   "metadata": {},
   "outputs": [],
   "source": [
    "A = list(DFC[DFC[\"category\"] == \"Technological risks\"].name)\n",
    "random.shuffle(A)\n",
    "A = A[:70]\n",
    "\n",
    "REQ = {\n",
    "    \"context\": \"Out the following list, classify these risks as a list of 10 general, overarching families of risk. Name only the families of risks, with '*' bullet points. \\n\\n\",\n",
    "    \"question\": \"* \"+\"\\n* \".join(A),\n",
    "    \"token\": TOK3N,\n",
    "    \"overwrite\": overwrite,\n",
    "    \"source\": \"local-classRiskslv1_T3.5\",\n",
    "    \"seed\" : \"\"\n",
    "}\n",
    "x = requests.post(URL+\"ask/\", json = REQ)\n",
    "answer = json.loads(x.text)\n",
    "print(answer[\"answer\"])"
   ]
  },
  {
   "cell_type": "markdown",
   "metadata": {},
   "source": [
    "# Alignment to city indicators"
   ]
  },
  {
   "cell_type": "code",
   "execution_count": null,
   "metadata": {},
   "outputs": [],
   "source": [
    "DICTS_CAO = {}\n",
    "\n",
    "DICTS_CAO[\"Structure\"] = [\"Settlement\",\"Biodiversity\",\"Air\",\"Soil\",\"Water\",\"Communication Network\", \"Water Cycle\", \"Energy Cycle\",\"Mobility Network\",\"Nature\",\"Dwelling\",\"Buildings/Blocks\",\"Neighbourhoods/Districts\",\"City/Metropolis\",\"Public Space\",\" Land Use\"]\n",
    "DICTS_CAO[\"Interactions\"] = [\"Living\",\"Working\",\"Shopping\",\"Transport\",\"Health\",\"Education\",\"Arts\",\"Sports\",\"Security\",\"Wealth production\", \"Wealth Distribution\",\"Commerce/Trade\",\"Finances\", \"Competitiveness\", \"Entrepreneurship\",\"Culture/Diversity\",\"Social Expression\",\"Heritage\", \"Tools&Apps\",\"Open data\", \"Data in/out\", \"Performance (equity, resilience, self-sufficiency)\"]\n",
    "DICTS_CAO[\"Society\"] = [\"Person\", \"Family\",\"Visitors\",\"Organizations\",\"Business\",\"Participation\",\"Capacity Development\", \"Leadership\",\"Visions&Priorities\", \"Laws&Regulations\",\"Accountability\"]\n"
   ]
  },
  {
   "cell_type": "code",
   "execution_count": 176,
   "metadata": {},
   "outputs": [],
   "source": [
    "DESC_Step1 = \"'Structures' contains Environment (Settlements, Biodiversity, Air, Soil, Water), Infrastructure (communication networks, water, energy, matter cycle, mobility,), and Build domain (Dwelling, housing, land use, public spaces). \"\n",
    "DESC_Step1 += \"Inter'actions contains Functions, Economy, Culture and Information, focusing on societal, social, economic and information topics. \"\n",
    "DESC_Step1 += \"'Society' contains Citizens and Government (inc Persons, familities, organizations, businesses, leadership, vision, laws and regulation, accountability).\"\n",
    "DESC_Step1 = \"Use 'Structures' if the risk is in the physical world, 'Interactions' if it is about 'societal, social, economic and information' aspects and Society if talking about governance. \""
   ]
  },
  {
   "cell_type": "code",
   "execution_count": 177,
   "metadata": {},
   "outputs": [],
   "source": [
    "classifFwk_step1 = [\n",
    "        {\n",
    "        \"name\": \"classify_risks_framework\",\n",
    "        \"description\": \"Function used to classify risks according to the evaluation framework, based on what they  impact the most . \",\n",
    "        \"parameters\": {\n",
    "            \"type\": \"object\",\n",
    "            \"properties\": {\n",
    "                \"sorted_risks\": {\n",
    "                    \"type\": 'array',\n",
    "                    \"items\": {\n",
    "                        \"type\": 'object',\n",
    "                        \"description\": \"A type of risk \",\n",
    "                        \"properties\": {\n",
    "                            \"name\" :{\n",
    "                                \"type\": 'string', \n",
    "                                \"description\": 'The risk being considered.'\n",
    "                            },\n",
    "                            \"category\" :{\n",
    "                                \"type\": 'string', \n",
    "                                \"enum\":[\"Structure\",\"Interactions\",\"Society\"],\n",
    "                                \"description\": 'The category of risk that matches the risk category being considered. '\n",
    "                            },\n",
    "                            \"confidence\" :{\n",
    "                                \"type\": 'string',  \n",
    "                                \"enum\":[\"High\",\"Medium-high\",\"Medium\",\"Low\"],\n",
    "                                \"description\": 'Confidence that this is the correct risk category.'\n",
    "                            }                            \n",
    "                        },\n",
    "                        \"required\": [\"name\",'category',\"confidence\"],\n",
    "                    }\n",
    "                },\n",
    "            },\n",
    "            \"required\": [\"sorted_risks\"],\n",
    "        },\n",
    "    }\n",
    "]"
   ]
  }
 ],
 "metadata": {
  "kernelspec": {
   "display_name": ".venv",
   "language": "python",
   "name": "python3"
  },
  "language_info": {
   "codemirror_mode": {
    "name": "ipython",
    "version": 3
   },
   "file_extension": ".py",
   "mimetype": "text/x-python",
   "name": "python",
   "nbconvert_exporter": "python",
   "pygments_lexer": "ipython3",
   "version": "3.8.15"
  }
 },
 "nbformat": 4,
 "nbformat_minor": 2
}
