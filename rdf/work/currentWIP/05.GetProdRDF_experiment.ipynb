{
 "cells": [
  {
   "cell_type": "code",
   "execution_count": 1,
   "metadata": {},
   "outputs": [
    {
     "name": "stdout",
     "output_type": "stream",
     "text": [
      "0.40\n"
     ]
    },
    {
     "name": "stderr",
     "output_type": "stream",
     "text": [
      "* Owlready2 * Warning: optimized Cython parser module 'owlready2_optimized' is not available, defaulting to slower Python implementation\n"
     ]
    }
   ],
   "source": [
    "import pandas as pd\n",
    "import os, glob\n",
    "\n",
    "from owlready2 import *\n",
    "import owlready2\n",
    "print(owlready2.VERSION)\n",
    "\n",
    "\n",
    "import importlib.util\n",
    "import sys\n",
    "spec = importlib.util.spec_from_file_location(\"rdfutils\", \"../../../utils/rdfutils.py\")\n",
    "u = importlib.util.module_from_spec(spec)\n",
    "sys.modules[\"rdfutils\"] = u\n",
    "spec.loader.exec_module(u)\n",
    "\n",
    "from datetime import datetime\n",
    "\n",
    "def NOW():\n",
    "    now = datetime.now()\n",
    "    current_time = now.strftime(\"%H:%M:%S\")\n",
    "    return \"Current Time = \"+ str(current_time)\n",
    "\n",
    "%load_ext autoreload\n",
    "%autoreload 2\n"
   ]
  },
  {
   "cell_type": "code",
   "execution_count": 2,
   "metadata": {},
   "outputs": [],
   "source": [
    "from dotenv import load_dotenv\n",
    "load_dotenv('.env')\n",
    "import json, requests\n",
    "import importlib.util\n",
    "import sys\n",
    "\n",
    "spec = importlib.util.spec_from_file_location(\"llm\", \"../../../utils/llm.py\")\n",
    "h = importlib.util.module_from_spec(spec)\n",
    "sys.modules[\"llm\"] = h\n",
    "spec.loader.exec_module(h)\n",
    "\n",
    "URL = os.getenv(\"KG_URL_FCT\")\n",
    "TOK3N = os.getenv(\"KG_TOKEN\")"
   ]
  },
  {
   "cell_type": "code",
   "execution_count": 3,
   "metadata": {},
   "outputs": [
    {
     "name": "stdout",
     "output_type": "stream",
     "text": [
      "PBNThing\n",
      "BenefReturn\n",
      "Benef\n",
      "Article\n",
      "Risk\n",
      "ISO_Scale\n",
      "RiskHealth\n",
      "RiskType\n",
      "Stakeholder\n",
      "Stakeholder_Type\n",
      "Technology\n",
      "ISO_Impact\n",
      "ISO_Purpose\n",
      "StakeholderGroup\n",
      "StakeholderSubgroup\n",
      "TechGroup\n",
      "TechSubgroup\n",
      "Mitigation\n",
      "BP_Enabler\n",
      "BP_Transmission\n",
      "Blueprint\n",
      "BP_Scale\n",
      "BP_Phase\n",
      "BP_Permanent\n",
      "BP_Type\n",
      "BP_Intervention\n",
      "PBNCategory\n",
      "RiskGroup\n",
      "RiskSubgroup\n",
      "CAO_Group\n",
      "CAO_Subgroup\n",
      "BP_Theme\n",
      "BP_Category\n",
      "aBlueprint\n"
     ]
    }
   ],
   "source": [
    "onto = get_ontology(\"WIP.owl\").load()\n",
    "dIDct = u.createDict(onto) "
   ]
  },
  {
   "cell_type": "code",
   "execution_count": 6,
   "metadata": {},
   "outputs": [
    {
     "data": {
      "text/plain": [
       "['WIP.StakeholderSubgroup',\n",
       " 'WIP.TechSubgroup',\n",
       " 'WIP.RiskSubgroup',\n",
       " 'WIP.CAO_Subgroup']"
      ]
     },
     "execution_count": 6,
     "metadata": {},
     "output_type": "execute_result"
    }
   ],
   "source": [
    "[str(x) for x in onto.classes() if \"Sub\" in str(x)]"
   ]
  },
  {
   "cell_type": "code",
   "execution_count": 7,
   "metadata": {},
   "outputs": [
    {
     "name": "stdout",
     "output_type": "stream",
     "text": [
      "ID: 0 \t Author: Luc Jonveaux\n",
      "ID: 1 \t License: CC BY-NC-SA\n",
      "ID: 2 \t Language: English\n",
      "ID: 3 \t Project: PROBONO\n",
      "ID: 4 \t Task: T3.5\n",
      "ID: 5 \t Description: Creation of a knowledge graph based on a litterature review, augmented by use of LLMs.\n",
      "ID: 6 \t Changes from: 0.0\n",
      "ID: 7 \t Changes: Creation of the knowledge graph\n",
      "ID: 8 \t Changes from: 0.1\n",
      "ID: 9 \t Changes: Adding relations, simplified ontology, closest items, and descriptions\n",
      "ID: 10 \t Repository: https://github.com/mm80843/T3.5/\n",
      "ID: 11 \t TODOs: Quite a number! Creating metaRisks, making it accessible..\n",
      "ID: 12 \t Creation: 11/11/2023\n",
      "ID: 13 \t Version: 0.3\n",
      "ID: 14 \t VersionComment: New blueprints added in 0.3\n",
      "ID: 15 \t Library: owlready2==0.45\n"
     ]
    }
   ],
   "source": [
    "comments = u.checkComments(onto)"
   ]
  },
  {
   "cell_type": "markdown",
   "metadata": {},
   "source": [
    "# Testing custom SPARQL queries\n",
    "\n",
    "## Creating the support helper"
   ]
  },
  {
   "cell_type": "code",
   "execution_count": 8,
   "metadata": {},
   "outputs": [],
   "source": [
    "from IPython.display import display, Markdown"
   ]
  },
  {
   "cell_type": "code",
   "execution_count": 9,
   "metadata": {},
   "outputs": [],
   "source": [
    "def EX(REQ):\n",
    "    return list(default_world.sparql(REQ))\n",
    "    \n",
    "def ask(QUESTION,prefix=\"sparql\",overwrite=False,MODEL=\"gpt-3.5-turbo-1106\",seed=\"\"):\n",
    "    CONTEXT  = \"You are an expert in the sparql language.\"\n",
    "    CONTEXT += \"You will have to provide  a sparql request that counts the number of classes in a knowledge graph, \\\n",
    "          please answer with the request as between ```sparql ``` tags, and then provide details of how the request is built.\"\n",
    "    REQ = {\n",
    "        \"context\": CONTEXT,\n",
    "        \"question\": QUESTION,\n",
    "        \"model\": MODEL,\n",
    "        \"token\": TOK3N,\n",
    "        \"overwrite\": overwrite,\n",
    "        \"source\": \"local-sparqlqueries\",\n",
    "        \"seed\" : seed\n",
    "    }\n",
    "\n",
    "    H = h.hashme(CONTEXT+QUESTION+seed)\n",
    "    cached = \"cache/\"+prefix+\"_\"+H+\".json\"\n",
    "    if not os.path.isfile(cached) or overwrite:\n",
    "        x = requests.post(URL+\"ask/\", json = REQ)\n",
    "        #print(x.text)\n",
    "        answer = json.loads(x.text)[\"answer\"]\n",
    "        h.svt(cached,answer)\n",
    "    else:\n",
    "        answer = h.ldt(cached)\n",
    "    A = [x.replace(\"sparql\\n\",\"\").strip() for x in answer.split(\"```\") if len(x)]\n",
    "    display(Markdown(\"### Explanation\"))\n",
    "    display(Markdown((A[-1])))\n",
    "    display(Markdown(\"--------\\n### Code\\n\"))\n",
    "    display(Markdown(\"```sparql\\n\"+(A[-2])+\"\\n```\"))\n",
    "    display(Markdown(\"--------\\n### Request result\"))\n",
    "    B = EX(A[-2])\n",
    "    return B"
   ]
  },
  {
   "cell_type": "code",
   "execution_count": 10,
   "metadata": {},
   "outputs": [],
   "source": [
    "specifics =\"\"\"The ontology we are reviewing has several classes:\n",
    "* 'Risk': A specific risk\n",
    "* 'Mitigation': A mitigation against a risk\n",
    "* 'Technology': A technology used to mitigate a risk\n",
    "* 'TechGroup' : A category used to classify Technology\n",
    "* 'Stakeholder': People related to risks\n",
    "* 'Article': Sources of information\n",
    "They are linked using the following properties:\n",
    "* A 'Risk' has a 'Mitigation' : noted with the property : 'has_RiskMitigation' \n",
    "* A 'Risk' has a 'Technology' : noted with the property : 'has_RiskTechnology'\n",
    "* A 'Risk' impacts a 'Stakeholder' : noted with the property : Risk->'has_RiskSubject'->Stakeholder . Inverse is 'has_SubjectRisk' .\n",
    "* A 'Risk' can be mitigated by a 'Stakeholder' :  noted with the property : 'has_RiskOwner'\n",
    "* A 'TechGroup' contains 'Technology', noted with the property:  Technology->'has_TechGroup'->TechGroup . Inverse is 'has_GroupTech' .\n",
    "Note that all classes have capital letters as part of their names.\n",
    "\n",
    "This ontology can be added in the sparql request introducing:\n",
    "PREFIX pbn: <https://github.com/mm80843/T3.5/raw/main/pbn_t3_5.owl#>\n",
    "\"\"\""
   ]
  },
  {
   "cell_type": "markdown",
   "metadata": {},
   "source": [
    "## Testing the helper"
   ]
  },
  {
   "cell_type": "code",
   "execution_count": 9,
   "metadata": {},
   "outputs": [
    {
     "data": {
      "text/markdown": [
       "### Explanation"
      ],
      "text/plain": [
       "<IPython.core.display.Markdown object>"
      ]
     },
     "metadata": {},
     "output_type": "display_data"
    },
    {
     "data": {
      "text/markdown": [
       "In this SPARQL request, we use the `PREFIX` keyword to define the namespace prefix `pbn` for the ontology. The ontology specifics its full URL using this prefix. \n",
       "\n",
       "The `SELECT` clause is used to specify the variables we want to retrieve from the query results. In this case, we want to count the total number of distinct classes, so we use the `COUNT` function to count the number of distinct values of `?class`, and alias it as `?classCount`.\n",
       "\n",
       "The `WHERE` clause is used to specify the graph patterns that data must match. In this case, we are looking for any subject (`?s`) that is a member of some class (`?class`) using the `a` property, which is used in RDF to denote the class membership."
      ],
      "text/plain": [
       "<IPython.core.display.Markdown object>"
      ]
     },
     "metadata": {},
     "output_type": "display_data"
    },
    {
     "data": {
      "text/markdown": [
       "--------\n",
       "### Code\n"
      ],
      "text/plain": [
       "<IPython.core.display.Markdown object>"
      ]
     },
     "metadata": {},
     "output_type": "display_data"
    },
    {
     "data": {
      "text/markdown": [
       "```sparql\n",
       "PREFIX pbn: <https://github.com/mm80843/T3.5/raw/main/pbn_t3_5.owl#>\n",
       "\n",
       "SELECT (COUNT(DISTINCT ?class) as ?classCount)\n",
       "WHERE {\n",
       "  ?s a ?class .\n",
       "}\n",
       "```"
      ],
      "text/plain": [
       "<IPython.core.display.Markdown object>"
      ]
     },
     "metadata": {},
     "output_type": "display_data"
    },
    {
     "data": {
      "text/markdown": [
       "--------\n",
       "### Request result"
      ],
      "text/plain": [
       "<IPython.core.display.Markdown object>"
      ]
     },
     "metadata": {},
     "output_type": "display_data"
    },
    {
     "data": {
      "text/plain": [
       "[[38]]"
      ]
     },
     "execution_count": 9,
     "metadata": {},
     "output_type": "execute_result"
    }
   ],
   "source": [
    "A = ask(specifics+\"How do I count the number of classes\",overwrite=False,MODEL=\"gpt-3.5-turbo-1106\",seed=\"\")\n",
    "A"
   ]
  },
  {
   "cell_type": "code",
   "execution_count": 10,
   "metadata": {},
   "outputs": [
    {
     "data": {
      "text/markdown": [
       "### Explanation"
      ],
      "text/plain": [
       "<IPython.core.display.Markdown object>"
      ]
     },
     "metadata": {},
     "output_type": "display_data"
    },
    {
     "data": {
      "text/markdown": [
       "In the given SPARQL request, we first specify the prefix `pbn` to abbreviate the full ontology URI. Next, we use a `SELECT` statement to retrieve the count of technologies that belong to each TechGroup, along with the TechGroup itself. We use the `COUNT` aggregate function to count the number of instances of `?technology` for each `?techGroup`. The `WHERE` clause specifies that `?technology` must be an instance of the `pbn:Technology` class and that it must have a `pbn:has_TechGroup` relationship with `?techGroup`. We then group the results by `?techGroup` using the `GROUP BY` clause. The `ORDER BY` clause sorts the results in descending order of the technology count, and the `LIMIT` clause ensures that only the top 7 results are returned."
      ],
      "text/plain": [
       "<IPython.core.display.Markdown object>"
      ]
     },
     "metadata": {},
     "output_type": "display_data"
    },
    {
     "data": {
      "text/markdown": [
       "--------\n",
       "### Code\n"
      ],
      "text/plain": [
       "<IPython.core.display.Markdown object>"
      ]
     },
     "metadata": {},
     "output_type": "display_data"
    },
    {
     "data": {
      "text/markdown": [
       "```sparql\n",
       "PREFIX pbn: <https://github.com/mm80843/T3.5/raw/main/pbn_t3_5.owl#>\n",
       "\n",
       "SELECT (COUNT(?technology) AS ?count)\n",
       "       ?techGroup\n",
       "WHERE {\n",
       "  ?technology a pbn:Technology .\n",
       "  ?technology pbn:has_TechGroup ?techGroup .\n",
       "}\n",
       "GROUP BY ?techGroup\n",
       "ORDER BY DESC(?count)\n",
       "LIMIT 7\n",
       "```"
      ],
      "text/plain": [
       "<IPython.core.display.Markdown object>"
      ]
     },
     "metadata": {},
     "output_type": "display_data"
    },
    {
     "data": {
      "text/markdown": [
       "--------\n",
       "### Request result"
      ],
      "text/plain": [
       "<IPython.core.display.Markdown object>"
      ]
     },
     "metadata": {},
     "output_type": "display_data"
    },
    {
     "data": {
      "text/plain": [
       "[[3890, WIP.PBN__TechGroup_0],\n",
       " [197, WIP.PBN__Technology_2164],\n",
       " [176, WIP.PBN__Technology_2100],\n",
       " [136, WIP.PBN__Technology_1316],\n",
       " [128, WIP.PBN__Technology_2226],\n",
       " [122, WIP.PBN__Technology_2270],\n",
       " [108, WIP.PBN__Technology_2274]]"
      ]
     },
     "execution_count": 10,
     "metadata": {},
     "output_type": "execute_result"
    }
   ],
   "source": [
    "A = ask(specifics+\"How do I count how many Technology belong to each TechGroup, and sort in ascending order (largest TechGroup first), keeping the top 7?\",overwrite=False,MODEL=\"gpt-3.5-turbo-1106\",seed=\"3\") # gpt-4-0613\n",
    "A"
   ]
  },
  {
   "cell_type": "code",
   "execution_count": 11,
   "metadata": {},
   "outputs": [
    {
     "data": {
      "text/plain": [
       "[['Water control', 3890],\n",
       " ['Waste management', 3890],\n",
       " ['Urban planning', 3890],\n",
       " ['Supply-chain', 3890],\n",
       " ['Sensors and monitoring', 3890],\n",
       " ['Privacy enhancing technologies', 3890],\n",
       " ['Infrastructure management', 3890]]"
      ]
     },
     "execution_count": 11,
     "metadata": {},
     "output_type": "execute_result"
    }
   ],
   "source": [
    "EX(\"\"\"PREFIX pbn: <https://github.com/mm80843/T3.5/raw/main/pbn_t3_5.owl#>\n",
    "SELECT ?TechGroup (COUNT(?technology) AS ?techCount)\n",
    "WHERE {\n",
    "  ?technology a pbn:Technology ;\n",
    "             pbn:has_TechGroup ?TechGroupObj .\n",
    "  ?TechGroupObj a pbn:TechGroup ;\n",
    "               rdfs:label ?TechGroup .\n",
    "} \n",
    "GROUP BY ?TechGroup\n",
    "ORDER BY DESC(?techCount)\n",
    "LIMIT 7\"\"\")"
   ]
  },
  {
   "cell_type": "code",
   "execution_count": null,
   "metadata": {},
   "outputs": [
    {
     "data": {
      "text/markdown": [
       "### Explanation"
      ],
      "text/plain": [
       "<IPython.core.display.Markdown object>"
      ]
     },
     "metadata": {},
     "output_type": "display_data"
    },
    {
     "data": {
      "text/markdown": [
       "PREFIX pbn: <https://github.com/mm80843/T3.5/raw/main/pbn_t3_5.owl#>\n",
       "\n",
       "SELECT ?techGroup (COUNT(?technology) AS ?techCount)\n",
       "WHERE {\n",
       "  ?risk a pbn:Risk ;\n",
       "        pbn:has_RiskTechnology ?technology .\n",
       "  ?technology pbn:has_TechGroup ?techGroup .\n",
       "}\n",
       "GROUP BY ?techGroup\n",
       "ORDER BY DESC(?techCount)\n",
       "LIMIT 1"
      ],
      "text/plain": [
       "<IPython.core.display.Markdown object>"
      ]
     },
     "metadata": {},
     "output_type": "display_data"
    },
    {
     "data": {
      "text/markdown": [
       "--------\n",
       "### Code\n"
      ],
      "text/plain": [
       "<IPython.core.display.Markdown object>"
      ]
     },
     "metadata": {},
     "output_type": "display_data"
    },
    {
     "ename": "IndexError",
     "evalue": "list index out of range",
     "output_type": "error",
     "traceback": [
      "\u001b[0;31m---------------------------------------------------------------------------\u001b[0m",
      "\u001b[0;31mIndexError\u001b[0m                                Traceback (most recent call last)",
      "Cell \u001b[0;32mIn[43], line 1\u001b[0m\n\u001b[0;32m----> 1\u001b[0m A \u001b[39m=\u001b[39m ask(specifics\u001b[39m+\u001b[39;49m\u001b[39m\"\u001b[39;49m\u001b[39mHow do I identify the TechGroup, and its label, that has the most Technology items linked to a Risk?\u001b[39;49m\u001b[39m\"\u001b[39;49m,overwrite\u001b[39m=\u001b[39;49m\u001b[39mFalse\u001b[39;49;00m,MODEL\u001b[39m=\u001b[39;49m\u001b[39m\"\u001b[39;49m\u001b[39mgpt-3.5-turbo-1106\u001b[39;49m\u001b[39m\"\u001b[39;49m,seed\u001b[39m=\u001b[39;49m\u001b[39m\"\u001b[39;49m\u001b[39m5\u001b[39;49m\u001b[39m\"\u001b[39;49m)\n\u001b[1;32m      2\u001b[0m A\n",
      "Cell \u001b[0;32mIn[34], line 31\u001b[0m, in \u001b[0;36mask\u001b[0;34m(QUESTION, prefix, overwrite, MODEL, seed)\u001b[0m\n\u001b[1;32m     29\u001b[0m display(Markdown((A[\u001b[39m-\u001b[39m\u001b[39m1\u001b[39m])))\n\u001b[1;32m     30\u001b[0m display(Markdown(\u001b[39m\"\u001b[39m\u001b[39m--------\u001b[39m\u001b[39m\\n\u001b[39;00m\u001b[39m### Code\u001b[39m\u001b[39m\\n\u001b[39;00m\u001b[39m\"\u001b[39m))\n\u001b[0;32m---> 31\u001b[0m display(Markdown(\u001b[39m\"\u001b[39m\u001b[39m```sparql\u001b[39m\u001b[39m\\n\u001b[39;00m\u001b[39m\"\u001b[39m\u001b[39m+\u001b[39m(A[\u001b[39m-\u001b[39;49m\u001b[39m2\u001b[39;49m])\u001b[39m+\u001b[39m\u001b[39m\"\u001b[39m\u001b[39m\\n\u001b[39;00m\u001b[39m```\u001b[39m\u001b[39m\"\u001b[39m))\n\u001b[1;32m     32\u001b[0m display(Markdown(\u001b[39m\"\u001b[39m\u001b[39m--------\u001b[39m\u001b[39m\\n\u001b[39;00m\u001b[39m### Request result\u001b[39m\u001b[39m\"\u001b[39m))\n\u001b[1;32m     33\u001b[0m B \u001b[39m=\u001b[39m EX(A[\u001b[39m-\u001b[39m\u001b[39m2\u001b[39m])\n",
      "\u001b[0;31mIndexError\u001b[0m: list index out of range"
     ]
    }
   ],
   "source": [
    "A = ask(specifics+\"How do I identify the TechGroup, and its label, that has the most Technology items linked to a Risk?\",overwrite=False,MODEL=\"gpt-3.5-turbo-1106\",seed=\"6\")\n",
    "A"
   ]
  },
  {
   "cell_type": "code",
   "execution_count": 45,
   "metadata": {},
   "outputs": [
    {
     "data": {
      "text/markdown": [
       "### Explanation"
      ],
      "text/plain": [
       "<IPython.core.display.Markdown object>"
      ]
     },
     "metadata": {},
     "output_type": "display_data"
    },
    {
     "data": {
      "text/markdown": [
       "In the given ontology, we want to count the top 5 classes that have the most instances. To achieve this, we begin by using the `PREFIX` keyword to declare the namespace associated with the ontology. We then use the `SELECT` clause to retrieve the classes and count their instances. In the `WHERE` clause, we match each instance (`?instance`) with its corresponding class (`?class`) using the `a` predicate denoting a type relationship. We then group the results by the class and count the instances for each class using the `COUNT` function, before ordering the results in descending order based on the instance count. Lastly, we use the `LIMIT 5` clause to only retrieve the top 5 classes with the most instances."
      ],
      "text/plain": [
       "<IPython.core.display.Markdown object>"
      ]
     },
     "metadata": {},
     "output_type": "display_data"
    },
    {
     "data": {
      "text/markdown": [
       "--------\n",
       "### Code\n"
      ],
      "text/plain": [
       "<IPython.core.display.Markdown object>"
      ]
     },
     "metadata": {},
     "output_type": "display_data"
    },
    {
     "data": {
      "text/markdown": [
       "```sparql\n",
       "PREFIX pbn: <https://github.com/mm80843/T3.5/raw/main/pbn_t3_5.owl#>\n",
       "\n",
       "SELECT ?class (COUNT(?instance) AS ?instanceCount)\n",
       "WHERE {\n",
       "  ?instance a ?class .\n",
       "}\n",
       "GROUP BY ?class\n",
       "ORDER BY DESC(?instanceCount)\n",
       "LIMIT 5\n",
       "```"
      ],
      "text/plain": [
       "<IPython.core.display.Markdown object>"
      ]
     },
     "metadata": {},
     "output_type": "display_data"
    },
    {
     "data": {
      "text/markdown": [
       "--------\n",
       "### Request result"
      ],
      "text/plain": [
       "<IPython.core.display.Markdown object>"
      ]
     },
     "metadata": {},
     "output_type": "display_data"
    },
    {
     "data": {
      "text/plain": [
       "[[owl.NamedIndividual, 88171],\n",
       " [WIP.Technology, 23139],\n",
       " [WIP.Mitigation, 22950],\n",
       " [WIP.Risk, 21159],\n",
       " [WIP.Stakeholder, 16128]]"
      ]
     },
     "execution_count": 45,
     "metadata": {},
     "output_type": "execute_result"
    }
   ],
   "source": [
    "A = ask(specifics+\"How do I count the top 5 classes that have the children with most instances?\",overwrite=False,MODEL=\"gpt-3.5-turbo-1106\",seed=\"\")\n",
    "A"
   ]
  },
  {
   "cell_type": "code",
   "execution_count": 28,
   "metadata": {},
   "outputs": [],
   "source": [
    "import owlready2.sparql.parser\n",
    "owlready2.sparql.parser._DATA_PROPS = set()"
   ]
  },
  {
   "cell_type": "code",
   "execution_count": 38,
   "metadata": {},
   "outputs": [
    {
     "data": {
      "text/plain": [
       "[[WIP.PBN__RiskGroup_4, WIP.PBN__TechGroup_0, WIP.PBN__TechSubgroup_52, 459],\n",
       " [WIP.PBN__RiskGroup_4, WIP.PBN__TechGroup_0, WIP.PBN__TechSubgroup_34, 175],\n",
       " [WIP.PBN__RiskGroup_4, WIP.PBN__TechGroup_0, WIP.PBN__TechSubgroup_55, 139],\n",
       " [WIP.PBN__RiskGroup_4, WIP.PBN__TechGroup_6, WIP.PBN__TechSubgroup_47, 126],\n",
       " [WIP.PBN__RiskGroup_4, WIP.PBN__TechGroup_6, WIP.PBN__TechSubgroup_10, 117]]"
      ]
     },
     "execution_count": 38,
     "metadata": {},
     "output_type": "execute_result"
    }
   ],
   "source": [
    "A = EX(\"\"\"PREFIX pbn: <https://github.com/mm80843/T3.5/raw/main/pbn_t3_5.owl#>\n",
    "\n",
    "SELECT ?riskGroup ?techGroup ?techSubgroup (COUNT(?technology) AS ?techCount)\n",
    "WHERE {\n",
    "\n",
    "  ?riskGroup a pbn:RiskGroup .\n",
    "  ?techSubgroup a pbn:TechSubgroup .\n",
    "  ?technology a pbn:Technology . \n",
    "  ?riskGroup a pbn:RiskGroup . \n",
    "  ?techGroup a pbn:TechGroup .\n",
    "\n",
    "  ?risk pbn:has_RiskGroup ?riskGroup .\n",
    "  ?risk pbn:has_RiskTechnology ?technology .\n",
    "  ?technology pbn:has_TechSubgroup ?techSubgroup . \n",
    "  ?technology pbn:has_TechGroup ?techGroup . \n",
    "       \n",
    "  FILTER (?riskGroup = pbn:PBN__RiskGroup_4) \n",
    "}\n",
    "GROUP BY ?techSubgroup\n",
    "ORDER BY DESC(?techCount)\n",
    "LIMIT 5\"\"\")\n",
    "A"
   ]
  },
  {
   "cell_type": "code",
   "execution_count": 1,
   "metadata": {},
   "outputs": [
    {
     "ename": "NameError",
     "evalue": "name 'EX' is not defined",
     "output_type": "error",
     "traceback": [
      "\u001b[1;31m---------------------------------------------------------------------------\u001b[0m",
      "\u001b[1;31mNameError\u001b[0m                                 Traceback (most recent call last)",
      "Cell \u001b[1;32mIn[1], line 1\u001b[0m\n\u001b[1;32m----> 1\u001b[0m A \u001b[38;5;241m=\u001b[39m \u001b[43mEX\u001b[49m(\u001b[38;5;124m\"\"\"\u001b[39m\u001b[38;5;124mPREFIX pbn: <https://github.com/mm80843/T3.5/raw/main/pbn_t3_5.owl#>\u001b[39m\n\u001b[0;32m      2\u001b[0m \n\u001b[0;32m      3\u001b[0m \u001b[38;5;124mSELECT ?riskGroup ?techGroup ?techSubgroup (COUNT(?technology) AS ?techCount)\u001b[39m\n\u001b[0;32m      4\u001b[0m \u001b[38;5;124mWHERE \u001b[39m\u001b[38;5;124m{\u001b[39m\n\u001b[0;32m      5\u001b[0m \n\u001b[0;32m      6\u001b[0m \u001b[38;5;124m  ?riskGroup a pbn:RiskGroup .\u001b[39m\n\u001b[0;32m      7\u001b[0m \u001b[38;5;124m  ?techSubgroup a pbn:TechSubgroup .\u001b[39m\n\u001b[0;32m      8\u001b[0m \u001b[38;5;124m  ?technology a pbn:Technology . \u001b[39m\n\u001b[0;32m      9\u001b[0m \u001b[38;5;124m  ?riskGroup a pbn:RiskGroup . \u001b[39m\n\u001b[0;32m     10\u001b[0m \u001b[38;5;124m  ?techGroup a pbn:TechGroup .\u001b[39m\n\u001b[0;32m     11\u001b[0m \n\u001b[0;32m     12\u001b[0m \u001b[38;5;124m  ?risk pbn:has_RiskGroup ?riskGroup .\u001b[39m\n\u001b[0;32m     13\u001b[0m \u001b[38;5;124m  ?risk pbn:has_RiskTechnology ?technology .\u001b[39m\n\u001b[0;32m     14\u001b[0m \u001b[38;5;124m  ?technology pbn:has_TechSubgroup ?techSubgroup . \u001b[39m\n\u001b[0;32m     15\u001b[0m \u001b[38;5;124m  ?technology pbn:has_TechGroup ?techGroup . \u001b[39m\n\u001b[0;32m     16\u001b[0m \u001b[38;5;124m       \u001b[39m\n\u001b[0;32m     17\u001b[0m \u001b[38;5;124m  FILTER (?riskGroup = pbn:PBN__RiskGroup_4) \u001b[39m\n\u001b[0;32m     18\u001b[0m \u001b[38;5;124m}\u001b[39m\n\u001b[0;32m     19\u001b[0m \u001b[38;5;124mGROUP BY ?techGroup\u001b[39m\n\u001b[0;32m     20\u001b[0m \u001b[38;5;124mORDER BY DESC(?techCount)\u001b[39m\n\u001b[0;32m     21\u001b[0m \u001b[38;5;124mLIMIT 5\u001b[39m\u001b[38;5;124m\"\"\"\u001b[39m)\n\u001b[0;32m     22\u001b[0m A\n",
      "\u001b[1;31mNameError\u001b[0m: name 'EX' is not defined"
     ]
    }
   ],
   "source": [
    "A = EX(\"\"\"PREFIX pbn: <https://github.com/mm80843/T3.5/raw/main/pbn_t3_5.owl#>\n",
    "\n",
    "SELECT ?riskGroup ?techGroup ?techSubgroup (COUNT(?technology) AS ?techCount)\n",
    "WHERE {\n",
    "\n",
    "  ?riskGroup a pbn:RiskGroup .\n",
    "  ?techSubgroup a pbn:TechSubgroup .\n",
    "  ?technology a pbn:Technology . \n",
    "  ?riskGroup a pbn:RiskGroup . \n",
    "  ?techGroup a pbn:TechGroup .\n",
    "\n",
    "  ?risk pbn:has_RiskGroup ?riskGroup .\n",
    "  ?risk pbn:has_RiskTechnology ?technology .\n",
    "  ?technology pbn:has_TechSubgroup ?techSubgroup . \n",
    "  ?technology pbn:has_TechGroup ?techGroup . \n",
    "       \n",
    "  FILTER (?riskGroup = pbn:PBN__RiskGroup_4) \n",
    "}\n",
    "GROUP BY ?techGroup\n",
    "ORDER BY DESC(?techCount)\n",
    "LIMIT 5\"\"\")\n",
    "A"
   ]
  },
  {
   "cell_type": "code",
   "execution_count": 33,
   "metadata": {},
   "outputs": [
    {
     "data": {
      "text/plain": [
       "[[WIP.PBN__RiskGroup_4, WIP.PBN__TechGroup_0, 1020],\n",
       " [WIP.PBN__RiskGroup_4, WIP.PBN__TechGroup_6, 471],\n",
       " [WIP.PBN__RiskGroup_4, WIP.PBN__TechGroup_10, 166]]"
      ]
     },
     "execution_count": 33,
     "metadata": {},
     "output_type": "execute_result"
    }
   ],
   "source": [
    "A = EX(\"\"\"PREFIX pbn: <https://github.com/mm80843/T3.5/raw/main/pbn_t3_5.owl#>\n",
    "\n",
    "SELECT ?riskGroup ?techGroup (COUNT(?technology) AS ?techCount)\n",
    "WHERE {\n",
    "\n",
    "  ?riskGroup a pbn:RiskGroup .\n",
    "  ?techGroup a pbn:TechGroup .\n",
    "  ?technology a pbn:Technology . \n",
    "  ?riskGroup a pbn:RiskGroup . \n",
    "\n",
    "  ?risk pbn:has_RiskGroup ?riskGroup .\n",
    "  ?risk pbn:has_RiskTechnology ?technology .\n",
    "  ?technology pbn:has_TechGroup ?techGroup . \n",
    "\n",
    "  FILTER (?riskGroup = pbn:PBN__RiskGroup_4) \n",
    "}\n",
    "GROUP BY ?techGroup\n",
    "ORDER BY DESC(?techCount)\n",
    "LIMIT 3\"\"\")\n",
    "A"
   ]
  },
  {
   "cell_type": "code",
   "execution_count": null,
   "metadata": {},
   "outputs": [],
   "source": [
    "A = sparql(\"\"\"PREFIX pbn: <https://github.com/mm80843/T3.5/raw/main/pbn_t3_5.owl#>\n",
    "\n",
    "SELECT ?riskGroupLabel ?techGroupLabel (COUNT(?technology) AS ?techCount)\n",
    "WHERE {\n",
    "\n",
    "  ?riskGroup a pbn:RiskGroup ;\n",
    "               rdfs:label ?riskGroupLabel .\n",
    "  ?techGroup a pbn:TechGroup ;\n",
    "               rdfs:label ?techGroupLabel .\n",
    "  ?technology a pbn:Technology . \n",
    "  ?riskGroup a pbn:RiskGroup . \n",
    "\n",
    "  ?risk pbn:has_RiskGroup ?riskGroup .\n",
    "  ?risk pbn:has_RiskTechnology ?technology .\n",
    "  ?technology pbn:has_TechGroup ?techGroup . \n",
    "\n",
    "  FILTER (?riskGroup = pbn:PBN__RiskGroup_4) \n",
    "}\n",
    "GROUP BY ?techGroup\n",
    "ORDER BY DESC(?techCount)\n",
    "LIMIT 3\"\"\")\n",
    "A\n",
    "A = sparql(\"\"\"PREFIX pbn: <https://github.com/mm80843/T3.5/raw/main/pbn_t3_5.owl#>\n",
    "\n",
    "SELECT ?riskGroupLabel ?techGroupLabel (COUNT(?technology) AS ?techCount)\n",
    "WHERE {\n",
    "\n",
    "  ?riskGroup a pbn:RiskGroup ;\n",
    "               rdfs:label ?riskGroupLabel .\n",
    "  ?techGroup a pbn:TechGroup ;\n",
    "               rdfs:label ?techGroupLabel .\n",
    "  ?technology a pbn:Technology . \n",
    "  ?riskGroup a pbn:RiskGroup . \n",
    "\n",
    "  ?risk pbn:has_RiskGroup ?riskGroup .\n",
    "  ?risk pbn:has_RiskTechnology ?technology .\n",
    "  ?technology pbn:has_TechGroup ?techGroup . \n",
    "\n",
    "  FILTER (?riskGroup = pbn:PBN__RiskGroup_4) \n",
    "}\n",
    "GROUP BY ?techGroup\n",
    "ORDER BY DESC(?techCount)\n",
    "LIMIT 3\"\"\")\n",
    "A\n",
    "A = sparql(\"\"\"PREFIX pbn: <https://github.com/mm80843/T3.5/raw/main/pbn_t3_5.owl#>\n",
    "\n",
    "SELECT ?riskGroupLabel ?techGroupLabel (COUNT(?technology) AS ?techCount)\n",
    "WHERE {\n",
    "\n",
    "  ?riskGroup a pbn:RiskGroup ;\n",
    "               rdfs:label ?riskGroupLabel .\n",
    "  ?techGroup a pbn:TechGroup ;\n",
    "               rdfs:label ?techGroupLabel .\n",
    "  ?technology a pbn:Technology . \n",
    "  ?riskGroup a pbn:RiskGroup . \n",
    "\n",
    "  ?risk pbn:has_RiskGroup ?riskGroup .\n",
    "  ?risk pbn:has_RiskTechnology ?technology .\n",
    "  ?technology pbn:has_TechGroup ?techGroup . \n",
    "\n",
    "  FILTER (?riskGroup = pbn:PBN__RiskGroup_2) \n",
    "}\n",
    "GROUP BY ?techGroup\n",
    "ORDER BY DESC(?techCount)\n",
    "LIMIT 3\"\"\")\n",
    "A\n",
    "A = sparql(\"\"\"PREFIX pbn: <https://github.com/mm80843/T3.5/raw/main/pbn_t3_5.owl#>\n",
    "\n",
    "SELECT ?riskGroupLabel ?techGroupLabel ?techSubgroup (COUNT(?technology) AS ?techCount)\n",
    "WHERE {\n",
    "\n",
    "  ?riskGroup a pbn:RiskGroup ;\n",
    "               rdfs:label ?riskGroupLabel .\n",
    "  ?techGroup a pbn:TechGroup ;\n",
    "               rdfs:label ?techGroupLabel .\n",
    "  ?technology a pbn:Technology . \n",
    "  ?riskGroup a pbn:RiskGroup . \n",
    "  ?techSubgroup a pbn:TechSubgroup . \n",
    "  ?risk pbn:has_RiskGroup ?riskGroup .\n",
    "  ?risk pbn:has_RiskTechnology ?technology .\n",
    "  ?technology pbn:has_TechGroup ?techGroup . \n",
    "  ?technology pbn:has_TechSubgroup ?techSubgroup . \n",
    "  FILTER (?riskGroup = pbn:PBN__RiskGroup_2) \n",
    "}\n",
    "           \n",
    "GROUP BY ?techGroupLabel\n",
    "ORDER BY DESC(?techCount)\n",
    "LIMIT 15\"\"\")\n",
    "A"
   ]
  }
 ],
 "metadata": {
  "kernelspec": {
   "display_name": "venv",
   "language": "python",
   "name": "python3"
  },
  "language_info": {
   "codemirror_mode": {
    "name": "ipython",
    "version": 3
   },
   "file_extension": ".py",
   "mimetype": "text/x-python",
   "name": "python",
   "nbconvert_exporter": "python",
   "pygments_lexer": "ipython3",
   "version": "3.8.15"
  },
  "vscode": {
   "interpreter": {
    "hash": "f79bc2406addd2c06911dc053b733d86c52c13481e10d53afee492d28d2db597"
   }
  }
 },
 "nbformat": 4,
 "nbformat_minor": 2
}
