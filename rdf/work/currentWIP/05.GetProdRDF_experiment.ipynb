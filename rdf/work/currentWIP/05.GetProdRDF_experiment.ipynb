{
 "cells": [
  {
   "cell_type": "code",
   "execution_count": 1,
   "metadata": {},
   "outputs": [
    {
     "name": "stdout",
     "output_type": "stream",
     "text": [
      "0.40\n"
     ]
    },
    {
     "name": "stderr",
     "output_type": "stream",
     "text": [
      "* Owlready2 * Warning: optimized Cython parser module 'owlready2_optimized' is not available, defaulting to slower Python implementation\n"
     ]
    }
   ],
   "source": [
    "import pandas as pd\n",
    "import os, glob\n",
    "\n",
    "from owlready2 import *\n",
    "import owlready2\n",
    "print(owlready2.VERSION)\n",
    "\n",
    "\n",
    "import importlib.util\n",
    "import sys\n",
    "spec = importlib.util.spec_from_file_location(\"rdfutils\", \"../../../utils/rdfutils.py\")\n",
    "u = importlib.util.module_from_spec(spec)\n",
    "sys.modules[\"rdfutils\"] = u\n",
    "spec.loader.exec_module(u)\n",
    "\n",
    "from datetime import datetime\n",
    "\n",
    "def NOW():\n",
    "    now = datetime.now()\n",
    "    current_time = now.strftime(\"%H:%M:%S\")\n",
    "    return \"Current Time = \"+ str(current_time)\n",
    "\n",
    "%load_ext autoreload\n",
    "%autoreload 2\n"
   ]
  },
  {
   "cell_type": "code",
   "execution_count": 2,
   "metadata": {},
   "outputs": [],
   "source": [
    "from dotenv import load_dotenv\n",
    "load_dotenv('.env')\n",
    "import json, requests\n",
    "import importlib.util\n",
    "import sys\n",
    "\n",
    "spec = importlib.util.spec_from_file_location(\"llm\", \"../../../utils/llm.py\")\n",
    "h = importlib.util.module_from_spec(spec)\n",
    "sys.modules[\"llm\"] = h\n",
    "spec.loader.exec_module(h)\n",
    "\n",
    "URL = os.getenv(\"KG_URL_FCT\")\n",
    "TOK3N = os.getenv(\"KG_TOKEN\")"
   ]
  },
  {
   "cell_type": "code",
   "execution_count": 3,
   "metadata": {},
   "outputs": [
    {
     "name": "stdout",
     "output_type": "stream",
     "text": [
      "PBNThing\n",
      "BenefReturn\n",
      "Benef\n",
      "Article\n",
      "Risk\n",
      "ISO_Scale\n",
      "RiskHealth\n",
      "RiskType\n",
      "Stakeholder\n",
      "Stakeholder_Type\n",
      "Technology\n",
      "ISO_Impact\n",
      "ISO_Purpose\n",
      "StakeholderGroup\n",
      "StakeholderSubgroup\n",
      "TechGroup\n",
      "TechSubgroup\n",
      "Mitigation\n",
      "BP_Enabler\n",
      "BP_Transmission\n",
      "Blueprint\n",
      "BP_Scale\n",
      "BP_Phase\n",
      "BP_Permanent\n",
      "BP_Type\n",
      "BP_Intervention\n",
      "PBNCategory\n",
      "RiskGroup\n",
      "RiskSubgroup\n",
      "CAO_Group\n",
      "CAO_Subgroup\n",
      "BP_Theme\n",
      "BP_Category\n",
      "aBlueprint\n"
     ]
    }
   ],
   "source": [
    "onto = get_ontology(\"WIP.owl\").load()\n",
    "dIDct = u.createDict(onto) "
   ]
  },
  {
   "cell_type": "code",
   "execution_count": 6,
   "metadata": {},
   "outputs": [
    {
     "data": {
      "text/plain": [
       "['WIP.StakeholderSubgroup',\n",
       " 'WIP.TechSubgroup',\n",
       " 'WIP.RiskSubgroup',\n",
       " 'WIP.CAO_Subgroup']"
      ]
     },
     "execution_count": 6,
     "metadata": {},
     "output_type": "execute_result"
    }
   ],
   "source": [
    "[str(x) for x in onto.classes() if \"Sub\" in str(x)]"
   ]
  },
  {
   "cell_type": "code",
   "execution_count": 7,
   "metadata": {},
   "outputs": [
    {
     "name": "stdout",
     "output_type": "stream",
     "text": [
      "ID: 0 \t Author: Luc Jonveaux\n",
      "ID: 1 \t License: CC BY-NC-SA\n",
      "ID: 2 \t Language: English\n",
      "ID: 3 \t Project: PROBONO\n",
      "ID: 4 \t Task: T3.5\n",
      "ID: 5 \t Description: Creation of a knowledge graph based on a litterature review, augmented by use of LLMs.\n",
      "ID: 6 \t Changes from: 0.0\n",
      "ID: 7 \t Changes: Creation of the knowledge graph\n",
      "ID: 8 \t Changes from: 0.1\n",
      "ID: 9 \t Changes: Adding relations, simplified ontology, closest items, and descriptions\n",
      "ID: 10 \t Repository: https://github.com/mm80843/T3.5/\n",
      "ID: 11 \t TODOs: Quite a number! Creating metaRisks, making it accessible..\n",
      "ID: 12 \t Creation: 11/11/2023\n",
      "ID: 13 \t Version: 0.3\n",
      "ID: 14 \t VersionComment: New blueprints added in 0.3\n",
      "ID: 15 \t Library: owlready2==0.45\n"
     ]
    }
   ],
   "source": [
    "comments = u.checkComments(onto)"
   ]
  },
  {
   "cell_type": "markdown",
   "metadata": {},
   "source": [
    "# Testing custom SPARQL queries"
   ]
  },
  {
   "cell_type": "code",
   "execution_count": 8,
   "metadata": {},
   "outputs": [],
   "source": [
    "from IPython.display import display, Markdown"
   ]
  },
  {
   "cell_type": "code",
   "execution_count": 9,
   "metadata": {},
   "outputs": [],
   "source": [
    "def EX(REQ):\n",
    "    return list(default_world.sparql(REQ))\n",
    "    \n",
    "def ask(QUESTION,prefix=\"sparql\",overwrite=False,MODEL=\"gpt-3.5-turbo-1106\",seed=\"\"):\n",
    "    CONTEXT  = \"You are an expert in the sparql language.\"\n",
    "    CONTEXT += \"You will have to provide  a sparql request that counts the number of classes in a knowledge graph, \\\n",
    "          please answer with the request as between ```sparql ``` tags, and then provide details of how the request is built.\"\n",
    "    REQ = {\n",
    "        \"context\": CONTEXT,\n",
    "        \"question\": QUESTION,\n",
    "        \"model\": MODEL,\n",
    "        \"token\": TOK3N,\n",
    "        \"overwrite\": overwrite,\n",
    "        \"source\": \"local-sparqlqueries\",\n",
    "        \"seed\" : seed\n",
    "    }\n",
    "\n",
    "    H = h.hashme(CONTEXT+QUESTION+seed)\n",
    "    cached = \"cache/\"+prefix+\"_\"+H+\".json\"\n",
    "    if not os.path.isfile(cached) or overwrite:\n",
    "        x = requests.post(URL+\"ask/\", json = REQ)\n",
    "        #print(x.text)\n",
    "        answer = json.loads(x.text)[\"answer\"]\n",
    "        h.svt(cached,answer)\n",
    "    else:\n",
    "        answer = h.ldt(cached)\n",
    "    A = [x.replace(\"sparql\\n\",\"\").strip() for x in answer.split(\"```\") if len(x)]\n",
    "    display(Markdown(\"### Explanation\"))\n",
    "    display(Markdown((A[-1])))\n",
    "    display(Markdown(\"--------\\n### Code\\n\"))\n",
    "    display(Markdown(\"```sparql\\n\"+(A[-2])+\"\\n```\"))\n",
    "    display(Markdown(\"--------\\n### Request result\"))\n",
    "    B = EX(A[-2])\n",
    "    return B"
   ]
  },
  {
   "cell_type": "code",
   "execution_count": 10,
   "metadata": {},
   "outputs": [],
   "source": [
    "specifics =\"\"\"The ontology we are reviewing has several classes:\n",
    "* 'Risk': A specific risk\n",
    "* 'Mitigation': A mitigation against a risk\n",
    "* 'Technology': A technology used to mitigate a risk\n",
    "* 'TechGroup' : A category used to classify Technology\n",
    "* 'Stakeholder': People related to risks\n",
    "* 'Article': Sources of information\n",
    "They are linked using the following properties:\n",
    "* A 'Risk' has a 'Mitigation' : noted with the property : 'has_RiskMitigation' \n",
    "* A 'Risk' has a 'Technology' : noted with the property : 'has_RiskTechnology'\n",
    "* A 'Risk' impacts a 'Stakeholder' : noted with the property : Risk->'has_RiskSubject'->Stakeholder . Inverse is 'has_SubjectRisk' .\n",
    "* A 'Risk' can be mitigated by a 'Stakeholder' :  noted with the property : 'has_RiskOwner'\n",
    "* A 'TechGroup' contains 'Technology', noted with the property:  Technology->'has_TechGroup'->TechGroup . Inverse is 'has_GroupTech' .\n",
    "Note that all classes have capital letters as part of their names.\n",
    "\n",
    "This ontology can be added in the sparql request introducing:\n",
    "PREFIX pbn: <https://github.com/mm80843/T3.5/raw/main/pbn_t3_5.owl#>\n",
    "\"\"\""
   ]
  },
  {
   "cell_type": "code",
   "execution_count": 9,
   "metadata": {},
   "outputs": [
    {
     "data": {
      "text/markdown": [
       "### Explanation"
      ],
      "text/plain": [
       "<IPython.core.display.Markdown object>"
      ]
     },
     "metadata": {},
     "output_type": "display_data"
    },
    {
     "data": {
      "text/markdown": [
       "In this SPARQL request, we use the `PREFIX` keyword to define the namespace prefix `pbn` for the ontology. The ontology specifics its full URL using this prefix. \n",
       "\n",
       "The `SELECT` clause is used to specify the variables we want to retrieve from the query results. In this case, we want to count the total number of distinct classes, so we use the `COUNT` function to count the number of distinct values of `?class`, and alias it as `?classCount`.\n",
       "\n",
       "The `WHERE` clause is used to specify the graph patterns that data must match. In this case, we are looking for any subject (`?s`) that is a member of some class (`?class`) using the `a` property, which is used in RDF to denote the class membership."
      ],
      "text/plain": [
       "<IPython.core.display.Markdown object>"
      ]
     },
     "metadata": {},
     "output_type": "display_data"
    },
    {
     "data": {
      "text/markdown": [
       "--------\n",
       "### Code\n"
      ],
      "text/plain": [
       "<IPython.core.display.Markdown object>"
      ]
     },
     "metadata": {},
     "output_type": "display_data"
    },
    {
     "data": {
      "text/markdown": [
       "```sparql\n",
       "PREFIX pbn: <https://github.com/mm80843/T3.5/raw/main/pbn_t3_5.owl#>\n",
       "\n",
       "SELECT (COUNT(DISTINCT ?class) as ?classCount)\n",
       "WHERE {\n",
       "  ?s a ?class .\n",
       "}\n",
       "```"
      ],
      "text/plain": [
       "<IPython.core.display.Markdown object>"
      ]
     },
     "metadata": {},
     "output_type": "display_data"
    },
    {
     "data": {
      "text/markdown": [
       "--------\n",
       "### Request result"
      ],
      "text/plain": [
       "<IPython.core.display.Markdown object>"
      ]
     },
     "metadata": {},
     "output_type": "display_data"
    },
    {
     "data": {
      "text/plain": [
       "[[38]]"
      ]
     },
     "execution_count": 9,
     "metadata": {},
     "output_type": "execute_result"
    }
   ],
   "source": [
    "A = ask(specifics+\"How do I count the number of classes\",overwrite=False,MODEL=\"gpt-3.5-turbo-1106\",seed=\"\")\n",
    "A"
   ]
  },
  {
   "cell_type": "code",
   "execution_count": 10,
   "metadata": {},
   "outputs": [
    {
     "data": {
      "text/markdown": [
       "### Explanation"
      ],
      "text/plain": [
       "<IPython.core.display.Markdown object>"
      ]
     },
     "metadata": {},
     "output_type": "display_data"
    },
    {
     "data": {
      "text/markdown": [
       "In the given SPARQL request, we first specify the prefix `pbn` to abbreviate the full ontology URI. Next, we use a `SELECT` statement to retrieve the count of technologies that belong to each TechGroup, along with the TechGroup itself. We use the `COUNT` aggregate function to count the number of instances of `?technology` for each `?techGroup`. The `WHERE` clause specifies that `?technology` must be an instance of the `pbn:Technology` class and that it must have a `pbn:has_TechGroup` relationship with `?techGroup`. We then group the results by `?techGroup` using the `GROUP BY` clause. The `ORDER BY` clause sorts the results in descending order of the technology count, and the `LIMIT` clause ensures that only the top 7 results are returned."
      ],
      "text/plain": [
       "<IPython.core.display.Markdown object>"
      ]
     },
     "metadata": {},
     "output_type": "display_data"
    },
    {
     "data": {
      "text/markdown": [
       "--------\n",
       "### Code\n"
      ],
      "text/plain": [
       "<IPython.core.display.Markdown object>"
      ]
     },
     "metadata": {},
     "output_type": "display_data"
    },
    {
     "data": {
      "text/markdown": [
       "```sparql\n",
       "PREFIX pbn: <https://github.com/mm80843/T3.5/raw/main/pbn_t3_5.owl#>\n",
       "\n",
       "SELECT (COUNT(?technology) AS ?count)\n",
       "       ?techGroup\n",
       "WHERE {\n",
       "  ?technology a pbn:Technology .\n",
       "  ?technology pbn:has_TechGroup ?techGroup .\n",
       "}\n",
       "GROUP BY ?techGroup\n",
       "ORDER BY DESC(?count)\n",
       "LIMIT 7\n",
       "```"
      ],
      "text/plain": [
       "<IPython.core.display.Markdown object>"
      ]
     },
     "metadata": {},
     "output_type": "display_data"
    },
    {
     "data": {
      "text/markdown": [
       "--------\n",
       "### Request result"
      ],
      "text/plain": [
       "<IPython.core.display.Markdown object>"
      ]
     },
     "metadata": {},
     "output_type": "display_data"
    },
    {
     "data": {
      "text/plain": [
       "[[3890, WIP.PBN__TechGroup_0],\n",
       " [197, WIP.PBN__Technology_2164],\n",
       " [176, WIP.PBN__Technology_2100],\n",
       " [136, WIP.PBN__Technology_1316],\n",
       " [128, WIP.PBN__Technology_2226],\n",
       " [122, WIP.PBN__Technology_2270],\n",
       " [108, WIP.PBN__Technology_2274]]"
      ]
     },
     "execution_count": 10,
     "metadata": {},
     "output_type": "execute_result"
    }
   ],
   "source": [
    "A = ask(specifics+\"How do I count how many Technology belong to each TechGroup, and sort in ascending order (largest TechGroup first), keeping the top 7?\",overwrite=False,MODEL=\"gpt-3.5-turbo-1106\",seed=\"3\") # gpt-4-0613\n",
    "A"
   ]
  },
  {
   "cell_type": "code",
   "execution_count": 11,
   "metadata": {},
   "outputs": [
    {
     "data": {
      "text/plain": [
       "[['Water control', 3890],\n",
       " ['Waste management', 3890],\n",
       " ['Urban planning', 3890],\n",
       " ['Supply-chain', 3890],\n",
       " ['Sensors and monitoring', 3890],\n",
       " ['Privacy enhancing technologies', 3890],\n",
       " ['Infrastructure management', 3890]]"
      ]
     },
     "execution_count": 11,
     "metadata": {},
     "output_type": "execute_result"
    }
   ],
   "source": [
    "EX(\"\"\"PREFIX pbn: <https://github.com/mm80843/T3.5/raw/main/pbn_t3_5.owl#>\n",
    "SELECT ?TechGroup (COUNT(?technology) AS ?techCount)\n",
    "WHERE {\n",
    "  ?technology a pbn:Technology ;\n",
    "             pbn:has_TechGroup ?TechGroupObj .\n",
    "  ?TechGroupObj a pbn:TechGroup ;\n",
    "               rdfs:label ?TechGroup .\n",
    "} \n",
    "GROUP BY ?TechGroup\n",
    "ORDER BY DESC(?techCount)\n",
    "LIMIT 7\"\"\")"
   ]
  },
  {
   "cell_type": "code",
   "execution_count": 43,
   "metadata": {},
   "outputs": [
    {
     "data": {
      "text/markdown": [
       "### Explanation"
      ],
      "text/plain": [
       "<IPython.core.display.Markdown object>"
      ]
     },
     "metadata": {},
     "output_type": "display_data"
    },
    {
     "data": {
      "text/markdown": [
       "PREFIX pbn: <https://github.com/mm80843/T3.5/raw/main/pbn_t3_5.owl#>\n",
       "\n",
       "SELECT ?techGroup (COUNT(?technology) AS ?techCount)\n",
       "WHERE {\n",
       "  ?risk a pbn:Risk ;\n",
       "        pbn:has_RiskTechnology ?technology .\n",
       "  ?technology pbn:has_TechGroup ?techGroup .\n",
       "}\n",
       "GROUP BY ?techGroup\n",
       "ORDER BY DESC(?techCount)\n",
       "LIMIT 1"
      ],
      "text/plain": [
       "<IPython.core.display.Markdown object>"
      ]
     },
     "metadata": {},
     "output_type": "display_data"
    },
    {
     "data": {
      "text/markdown": [
       "--------\n",
       "### Code\n"
      ],
      "text/plain": [
       "<IPython.core.display.Markdown object>"
      ]
     },
     "metadata": {},
     "output_type": "display_data"
    },
    {
     "ename": "IndexError",
     "evalue": "list index out of range",
     "output_type": "error",
     "traceback": [
      "\u001b[0;31m---------------------------------------------------------------------------\u001b[0m",
      "\u001b[0;31mIndexError\u001b[0m                                Traceback (most recent call last)",
      "Cell \u001b[0;32mIn[43], line 1\u001b[0m\n\u001b[0;32m----> 1\u001b[0m A \u001b[39m=\u001b[39m ask(specifics\u001b[39m+\u001b[39;49m\u001b[39m\"\u001b[39;49m\u001b[39mHow do I identify the TechGroup, and its label, that has the most Technology items linked to a Risk?\u001b[39;49m\u001b[39m\"\u001b[39;49m,overwrite\u001b[39m=\u001b[39;49m\u001b[39mFalse\u001b[39;49;00m,MODEL\u001b[39m=\u001b[39;49m\u001b[39m\"\u001b[39;49m\u001b[39mgpt-3.5-turbo-1106\u001b[39;49m\u001b[39m\"\u001b[39;49m,seed\u001b[39m=\u001b[39;49m\u001b[39m\"\u001b[39;49m\u001b[39m5\u001b[39;49m\u001b[39m\"\u001b[39;49m)\n\u001b[1;32m      2\u001b[0m A\n",
      "Cell \u001b[0;32mIn[34], line 31\u001b[0m, in \u001b[0;36mask\u001b[0;34m(QUESTION, prefix, overwrite, MODEL, seed)\u001b[0m\n\u001b[1;32m     29\u001b[0m display(Markdown((A[\u001b[39m-\u001b[39m\u001b[39m1\u001b[39m])))\n\u001b[1;32m     30\u001b[0m display(Markdown(\u001b[39m\"\u001b[39m\u001b[39m--------\u001b[39m\u001b[39m\\n\u001b[39;00m\u001b[39m### Code\u001b[39m\u001b[39m\\n\u001b[39;00m\u001b[39m\"\u001b[39m))\n\u001b[0;32m---> 31\u001b[0m display(Markdown(\u001b[39m\"\u001b[39m\u001b[39m```sparql\u001b[39m\u001b[39m\\n\u001b[39;00m\u001b[39m\"\u001b[39m\u001b[39m+\u001b[39m(A[\u001b[39m-\u001b[39;49m\u001b[39m2\u001b[39;49m])\u001b[39m+\u001b[39m\u001b[39m\"\u001b[39m\u001b[39m\\n\u001b[39;00m\u001b[39m```\u001b[39m\u001b[39m\"\u001b[39m))\n\u001b[1;32m     32\u001b[0m display(Markdown(\u001b[39m\"\u001b[39m\u001b[39m--------\u001b[39m\u001b[39m\\n\u001b[39;00m\u001b[39m### Request result\u001b[39m\u001b[39m\"\u001b[39m))\n\u001b[1;32m     33\u001b[0m B \u001b[39m=\u001b[39m EX(A[\u001b[39m-\u001b[39m\u001b[39m2\u001b[39m])\n",
      "\u001b[0;31mIndexError\u001b[0m: list index out of range"
     ]
    }
   ],
   "source": [
    "A = ask(specifics+\"How do I identify the TechGroup, and its label, that has the most Technology items linked to a Risk?\",overwrite=False,MODEL=\"gpt-3.5-turbo-1106\",seed=\"5\")\n",
    "A"
   ]
  },
  {
   "cell_type": "code",
   "execution_count": 44,
   "metadata": {},
   "outputs": [
    {
     "data": {
      "text/markdown": [
       "### Explanation"
      ],
      "text/plain": [
       "<IPython.core.display.Markdown object>"
      ]
     },
     "metadata": {},
     "output_type": "display_data"
    },
    {
     "data": {
      "text/markdown": [
       "In the given scenario, to identify the different individual 'TechGroup' to which the 'Technology' instances are linked to the 'Risk' through the 'has_RiskTechnology' property, the first step is to count the number of classes in the knowledge graph using a SPARQL query. The query uses the 'PREFIX' clause to establish a namespace for the ontology. It then selects and counts all distinct classes using the 'SELECT' and 'COUNT' clauses respectively. The 'WHERE' clause is used to find all classes that are defined in the ontology (i.e., their type is owl:Class) and have a URI starting with the provided namespace. The filter condition ensures that only classes from the specified ontology are counted."
      ],
      "text/plain": [
       "<IPython.core.display.Markdown object>"
      ]
     },
     "metadata": {},
     "output_type": "display_data"
    },
    {
     "data": {
      "text/markdown": [
       "--------\n",
       "### Code\n"
      ],
      "text/plain": [
       "<IPython.core.display.Markdown object>"
      ]
     },
     "metadata": {},
     "output_type": "display_data"
    },
    {
     "data": {
      "text/markdown": [
       "```sparql\n",
       "PREFIX pbn: <https://github.com/mm80843/T3.5/raw/main/pbn_t3_5.owl#>\n",
       "\n",
       "SELECT (COUNT(DISTINCT ?class) as ?classCount)\n",
       "WHERE {\n",
       "    ?class a owl:Class .\n",
       "    FILTER(STRSTARTS(STR(?class), STR(pbn:)))\n",
       "}\n",
       "```"
      ],
      "text/plain": [
       "<IPython.core.display.Markdown object>"
      ]
     },
     "metadata": {},
     "output_type": "display_data"
    },
    {
     "data": {
      "text/markdown": [
       "--------\n",
       "### Request result"
      ],
      "text/plain": [
       "<IPython.core.display.Markdown object>"
      ]
     },
     "metadata": {},
     "output_type": "display_data"
    },
    {
     "ename": "ParsingError",
     "evalue": "(\"Error at PNAME_NS:'pbn:'\", 188)",
     "output_type": "error",
     "traceback": [
      "\u001b[0;31m---------------------------------------------------------------------------\u001b[0m",
      "\u001b[0;31mParsingError\u001b[0m                              Traceback (most recent call last)",
      "Cell \u001b[0;32mIn[44], line 1\u001b[0m\n\u001b[0;32m----> 1\u001b[0m A \u001b[39m=\u001b[39m ask(specifics\u001b[39m+\u001b[39;49m\u001b[39m\"\u001b[39;49m\u001b[39mLet\u001b[39;49m\u001b[39m'\u001b[39;49m\u001b[39ms take the \u001b[39;49m\u001b[39m'\u001b[39;49m\u001b[39mpbn:PBN__Risk_1\u001b[39;49m\u001b[39m'\u001b[39;49m\u001b[39m, one of the Risk instance. How do I identify the different individual TechGroup to which the Technology instances linked to the Risk (through has_RiskTechnology) ?\u001b[39;49m\u001b[39m\"\u001b[39;49m,overwrite\u001b[39m=\u001b[39;49m\u001b[39mFalse\u001b[39;49;00m,MODEL\u001b[39m=\u001b[39;49m\u001b[39m\"\u001b[39;49m\u001b[39mgpt-3.5-turbo-1106\u001b[39;49m\u001b[39m\"\u001b[39;49m,seed\u001b[39m=\u001b[39;49m\u001b[39m\"\u001b[39;49m\u001b[39m5\u001b[39;49m\u001b[39m\"\u001b[39;49m)\n\u001b[1;32m      2\u001b[0m A\n",
      "Cell \u001b[0;32mIn[34], line 33\u001b[0m, in \u001b[0;36mask\u001b[0;34m(QUESTION, prefix, overwrite, MODEL, seed)\u001b[0m\n\u001b[1;32m     31\u001b[0m display(Markdown(\u001b[39m\"\u001b[39m\u001b[39m```sparql\u001b[39m\u001b[39m\\n\u001b[39;00m\u001b[39m\"\u001b[39m\u001b[39m+\u001b[39m(A[\u001b[39m-\u001b[39m\u001b[39m2\u001b[39m])\u001b[39m+\u001b[39m\u001b[39m\"\u001b[39m\u001b[39m\\n\u001b[39;00m\u001b[39m```\u001b[39m\u001b[39m\"\u001b[39m))\n\u001b[1;32m     32\u001b[0m display(Markdown(\u001b[39m\"\u001b[39m\u001b[39m--------\u001b[39m\u001b[39m\\n\u001b[39;00m\u001b[39m### Request result\u001b[39m\u001b[39m\"\u001b[39m))\n\u001b[0;32m---> 33\u001b[0m B \u001b[39m=\u001b[39m EX(A[\u001b[39m-\u001b[39;49m\u001b[39m2\u001b[39;49m])\n\u001b[1;32m     34\u001b[0m \u001b[39mreturn\u001b[39;00m B\n",
      "Cell \u001b[0;32mIn[34], line 2\u001b[0m, in \u001b[0;36mEX\u001b[0;34m(REQ)\u001b[0m\n\u001b[1;32m      1\u001b[0m \u001b[39mdef\u001b[39;00m \u001b[39mEX\u001b[39m(REQ):\n\u001b[0;32m----> 2\u001b[0m     \u001b[39mreturn\u001b[39;00m \u001b[39mlist\u001b[39m(default_world\u001b[39m.\u001b[39;49msparql(REQ))\n",
      "File \u001b[0;32m~/projets/T3.5/venv/lib/python3.10/site-packages/owlready2/namespace.py:527\u001b[0m, in \u001b[0;36mWorld.sparql\u001b[0;34m(self, sparql, params, error_on_undefined_entities)\u001b[0m\n\u001b[1;32m    525\u001b[0m \u001b[39mdef\u001b[39;00m \u001b[39msparql\u001b[39m(\u001b[39mself\u001b[39m, sparql, params \u001b[39m=\u001b[39m (), error_on_undefined_entities \u001b[39m=\u001b[39m \u001b[39mTrue\u001b[39;00m):\n\u001b[1;32m    526\u001b[0m   \u001b[39mimport\u001b[39;00m \u001b[39mowlready2\u001b[39;00m\u001b[39m.\u001b[39;00m\u001b[39msparql\u001b[39;00m\u001b[39m.\u001b[39;00m\u001b[39mmain\u001b[39;00m\n\u001b[0;32m--> 527\u001b[0m   query \u001b[39m=\u001b[39m \u001b[39mself\u001b[39;49m\u001b[39m.\u001b[39;49m_prepare_sparql(sparql, error_on_undefined_entities)\n\u001b[1;32m    528\u001b[0m   \u001b[39mreturn\u001b[39;00m query\u001b[39m.\u001b[39mexecute(params)\n",
      "File \u001b[0;32m~/projets/T3.5/venv/lib/python3.10/site-packages/owlready2/namespace.py:533\u001b[0m, in \u001b[0;36mWorld._prepare_sparql\u001b[0;34m(self, sparql, error_on_undefined_entities)\u001b[0m\n\u001b[1;32m    530\u001b[0m \u001b[39m@lru_cache\u001b[39m(maxsize \u001b[39m=\u001b[39m \u001b[39m1024\u001b[39m)\n\u001b[1;32m    531\u001b[0m \u001b[39mdef\u001b[39;00m \u001b[39m_prepare_sparql\u001b[39m(\u001b[39mself\u001b[39m, sparql, error_on_undefined_entities):\n\u001b[1;32m    532\u001b[0m   \u001b[39mimport\u001b[39;00m \u001b[39mowlready2\u001b[39;00m\u001b[39m.\u001b[39;00m\u001b[39msparql\u001b[39;00m\u001b[39m.\u001b[39;00m\u001b[39mmain\u001b[39;00m\n\u001b[0;32m--> 533\u001b[0m   \u001b[39mreturn\u001b[39;00m owlready2\u001b[39m.\u001b[39;49msparql\u001b[39m.\u001b[39;49mmain\u001b[39m.\u001b[39;49mTranslator(\u001b[39mself\u001b[39;49m, error_on_undefined_entities)\u001b[39m.\u001b[39;49mparse(sparql)\n",
      "File \u001b[0;32m~/projets/T3.5/venv/lib/python3.10/site-packages/owlready2/sparql/main.py:61\u001b[0m, in \u001b[0;36mTranslator.parse\u001b[0;34m(self, sparql)\u001b[0m\n\u001b[1;32m     59\u001b[0m   \u001b[39mself\u001b[39m\u001b[39m.\u001b[39mescape_mark \u001b[39m+\u001b[39m\u001b[39m=\u001b[39m \u001b[39m\"\u001b[39m\u001b[39mç\u001b[39m\u001b[39m\"\u001b[39m\n\u001b[1;32m     60\u001b[0m CURRENT_TRANSLATOR\u001b[39m.\u001b[39mset(\u001b[39mself\u001b[39m)\n\u001b[0;32m---> 61\u001b[0m \u001b[39mself\u001b[39m\u001b[39m.\u001b[39mmain_query \u001b[39m=\u001b[39m PARSER\u001b[39m.\u001b[39;49mparse(LEXER\u001b[39m.\u001b[39;49mlex(sparql))\n\u001b[1;32m     62\u001b[0m \u001b[39mreturn\u001b[39;00m \u001b[39mself\u001b[39m\u001b[39m.\u001b[39mfinalize()\n",
      "File \u001b[0;32m~/projets/T3.5/venv/lib/python3.10/site-packages/owlready2/rply.py:451\u001b[0m, in \u001b[0;36mLRParser.parse\u001b[0;34m(self, tokenizer, state)\u001b[0m\n\u001b[1;32m    449\u001b[0m   \u001b[39mraise\u001b[39;00m \u001b[39mAssertionError\u001b[39;00m(\u001b[39m\"\u001b[39m\u001b[39mFor now, error_handler must raise.\u001b[39m\u001b[39m\"\u001b[39m)\n\u001b[1;32m    450\u001b[0m \u001b[39melse\u001b[39;00m:\n\u001b[0;32m--> 451\u001b[0m   \u001b[39mraise\u001b[39;00m ParsingError(\u001b[39m\"\u001b[39m\u001b[39mError at \u001b[39m\u001b[39m%s\u001b[39;00m\u001b[39m\"\u001b[39m \u001b[39m%\u001b[39m lookahead, lookahead\u001b[39m.\u001b[39msource_pos)\n",
      "\u001b[0;31mParsingError\u001b[0m: (\"Error at PNAME_NS:'pbn:'\", 188)"
     ]
    }
   ],
   "source": [
    "A = ask(specifics+\"Let's take the 'pbn:PBN__Risk_1', one of the Risk instance. How do I identify the different individual TechGroup to which the Technology instances linked to the Risk (through has_RiskTechnology) ?\",overwrite=False,MODEL=\"gpt-3.5-turbo-1106\",seed=\"5\")\n",
    "A"
   ]
  },
  {
   "cell_type": "code",
   "execution_count": 45,
   "metadata": {},
   "outputs": [
    {
     "data": {
      "text/markdown": [
       "### Explanation"
      ],
      "text/plain": [
       "<IPython.core.display.Markdown object>"
      ]
     },
     "metadata": {},
     "output_type": "display_data"
    },
    {
     "data": {
      "text/markdown": [
       "In the given ontology, we want to count the top 5 classes that have the most instances. To achieve this, we begin by using the `PREFIX` keyword to declare the namespace associated with the ontology. We then use the `SELECT` clause to retrieve the classes and count their instances. In the `WHERE` clause, we match each instance (`?instance`) with its corresponding class (`?class`) using the `a` predicate denoting a type relationship. We then group the results by the class and count the instances for each class using the `COUNT` function, before ordering the results in descending order based on the instance count. Lastly, we use the `LIMIT 5` clause to only retrieve the top 5 classes with the most instances."
      ],
      "text/plain": [
       "<IPython.core.display.Markdown object>"
      ]
     },
     "metadata": {},
     "output_type": "display_data"
    },
    {
     "data": {
      "text/markdown": [
       "--------\n",
       "### Code\n"
      ],
      "text/plain": [
       "<IPython.core.display.Markdown object>"
      ]
     },
     "metadata": {},
     "output_type": "display_data"
    },
    {
     "data": {
      "text/markdown": [
       "```sparql\n",
       "PREFIX pbn: <https://github.com/mm80843/T3.5/raw/main/pbn_t3_5.owl#>\n",
       "\n",
       "SELECT ?class (COUNT(?instance) AS ?instanceCount)\n",
       "WHERE {\n",
       "  ?instance a ?class .\n",
       "}\n",
       "GROUP BY ?class\n",
       "ORDER BY DESC(?instanceCount)\n",
       "LIMIT 5\n",
       "```"
      ],
      "text/plain": [
       "<IPython.core.display.Markdown object>"
      ]
     },
     "metadata": {},
     "output_type": "display_data"
    },
    {
     "data": {
      "text/markdown": [
       "--------\n",
       "### Request result"
      ],
      "text/plain": [
       "<IPython.core.display.Markdown object>"
      ]
     },
     "metadata": {},
     "output_type": "display_data"
    },
    {
     "data": {
      "text/plain": [
       "[[owl.NamedIndividual, 88171],\n",
       " [WIP.Technology, 23139],\n",
       " [WIP.Mitigation, 22950],\n",
       " [WIP.Risk, 21159],\n",
       " [WIP.Stakeholder, 16128]]"
      ]
     },
     "execution_count": 45,
     "metadata": {},
     "output_type": "execute_result"
    }
   ],
   "source": [
    "A = ask(specifics+\"How do I count the top 5 classes that have the children with most instances?\",overwrite=False,MODEL=\"gpt-3.5-turbo-1106\",seed=\"\")\n",
    "A"
   ]
  },
  {
   "cell_type": "code",
   "execution_count": 46,
   "metadata": {},
   "outputs": [
    {
     "data": {
      "text/markdown": [
       "### Explanation"
      ],
      "text/plain": [
       "<IPython.core.display.Markdown object>"
      ]
     },
     "metadata": {},
     "output_type": "display_data"
    },
    {
     "data": {
      "text/markdown": [
       "This SPARQL query is built to count the number of classes in the ontology. It uses the `PREFIX` statement to define the namespace `pbn` as shorthand for the ontology URI. The `SELECT` clause is used to select and return the count of distinct classes. The `COUNT` and `DISTINCT` are used to ensure that each class is counted only once, even if it appears multiple times in the data. The `WHERE` clause specifies the pattern to be matched, in this case, finding all instances of classes using the rdf schema predicate `a`. This will retrieve all instances that are classes."
      ],
      "text/plain": [
       "<IPython.core.display.Markdown object>"
      ]
     },
     "metadata": {},
     "output_type": "display_data"
    },
    {
     "data": {
      "text/markdown": [
       "--------\n",
       "### Code\n"
      ],
      "text/plain": [
       "<IPython.core.display.Markdown object>"
      ]
     },
     "metadata": {},
     "output_type": "display_data"
    },
    {
     "data": {
      "text/markdown": [
       "```sparql\n",
       "PREFIX pbn: <https://github.com/mm80843/T3.5/raw/main/pbn_t3_5.owl#>\n",
       "\n",
       "SELECT (COUNT(DISTINCT ?class) as ?numClasses)\n",
       "WHERE {\n",
       "    ?class a rdfs:Class .\n",
       "}\n",
       "```"
      ],
      "text/plain": [
       "<IPython.core.display.Markdown object>"
      ]
     },
     "metadata": {},
     "output_type": "display_data"
    },
    {
     "data": {
      "text/markdown": [
       "--------\n",
       "### Request result"
      ],
      "text/plain": [
       "<IPython.core.display.Markdown object>"
      ]
     },
     "metadata": {},
     "output_type": "display_data"
    },
    {
     "ename": "ValueError",
     "evalue": "No existing entity for IRI 'http://www.w3.org/2000/01/rdf-schema#Class'! (use error_on_undefined_entities=False to accept unknown entities in SPARQL queries)",
     "output_type": "error",
     "traceback": [
      "\u001b[0;31m---------------------------------------------------------------------------\u001b[0m",
      "\u001b[0;31mValueError\u001b[0m                                Traceback (most recent call last)",
      "Cell \u001b[0;32mIn[46], line 1\u001b[0m\n\u001b[0;32m----> 1\u001b[0m A \u001b[39m=\u001b[39m ask(specifics\u001b[39m+\u001b[39;49m\u001b[39m\"\u001b[39;49m\u001b[39mI have a specific Risk. How can I search for the list of Stakeholder impacted?\u001b[39;49m\u001b[39m\"\u001b[39;49m,overwrite\u001b[39m=\u001b[39;49m\u001b[39mFalse\u001b[39;49;00m,MODEL\u001b[39m=\u001b[39;49m\u001b[39m\"\u001b[39;49m\u001b[39mgpt-3.5-turbo-1106\u001b[39;49m\u001b[39m\"\u001b[39;49m,seed\u001b[39m=\u001b[39;49m\u001b[39m\"\u001b[39;49m\u001b[39m\"\u001b[39;49m)\n",
      "Cell \u001b[0;32mIn[34], line 33\u001b[0m, in \u001b[0;36mask\u001b[0;34m(QUESTION, prefix, overwrite, MODEL, seed)\u001b[0m\n\u001b[1;32m     31\u001b[0m display(Markdown(\u001b[39m\"\u001b[39m\u001b[39m```sparql\u001b[39m\u001b[39m\\n\u001b[39;00m\u001b[39m\"\u001b[39m\u001b[39m+\u001b[39m(A[\u001b[39m-\u001b[39m\u001b[39m2\u001b[39m])\u001b[39m+\u001b[39m\u001b[39m\"\u001b[39m\u001b[39m\\n\u001b[39;00m\u001b[39m```\u001b[39m\u001b[39m\"\u001b[39m))\n\u001b[1;32m     32\u001b[0m display(Markdown(\u001b[39m\"\u001b[39m\u001b[39m--------\u001b[39m\u001b[39m\\n\u001b[39;00m\u001b[39m### Request result\u001b[39m\u001b[39m\"\u001b[39m))\n\u001b[0;32m---> 33\u001b[0m B \u001b[39m=\u001b[39m EX(A[\u001b[39m-\u001b[39;49m\u001b[39m2\u001b[39;49m])\n\u001b[1;32m     34\u001b[0m \u001b[39mreturn\u001b[39;00m B\n",
      "Cell \u001b[0;32mIn[34], line 2\u001b[0m, in \u001b[0;36mEX\u001b[0;34m(REQ)\u001b[0m\n\u001b[1;32m      1\u001b[0m \u001b[39mdef\u001b[39;00m \u001b[39mEX\u001b[39m(REQ):\n\u001b[0;32m----> 2\u001b[0m     \u001b[39mreturn\u001b[39;00m \u001b[39mlist\u001b[39m(default_world\u001b[39m.\u001b[39;49msparql(REQ))\n",
      "File \u001b[0;32m~/projets/T3.5/venv/lib/python3.10/site-packages/owlready2/namespace.py:527\u001b[0m, in \u001b[0;36mWorld.sparql\u001b[0;34m(self, sparql, params, error_on_undefined_entities)\u001b[0m\n\u001b[1;32m    525\u001b[0m \u001b[39mdef\u001b[39;00m \u001b[39msparql\u001b[39m(\u001b[39mself\u001b[39m, sparql, params \u001b[39m=\u001b[39m (), error_on_undefined_entities \u001b[39m=\u001b[39m \u001b[39mTrue\u001b[39;00m):\n\u001b[1;32m    526\u001b[0m   \u001b[39mimport\u001b[39;00m \u001b[39mowlready2\u001b[39;00m\u001b[39m.\u001b[39;00m\u001b[39msparql\u001b[39;00m\u001b[39m.\u001b[39;00m\u001b[39mmain\u001b[39;00m\n\u001b[0;32m--> 527\u001b[0m   query \u001b[39m=\u001b[39m \u001b[39mself\u001b[39;49m\u001b[39m.\u001b[39;49m_prepare_sparql(sparql, error_on_undefined_entities)\n\u001b[1;32m    528\u001b[0m   \u001b[39mreturn\u001b[39;00m query\u001b[39m.\u001b[39mexecute(params)\n",
      "File \u001b[0;32m~/projets/T3.5/venv/lib/python3.10/site-packages/owlready2/namespace.py:533\u001b[0m, in \u001b[0;36mWorld._prepare_sparql\u001b[0;34m(self, sparql, error_on_undefined_entities)\u001b[0m\n\u001b[1;32m    530\u001b[0m \u001b[39m@lru_cache\u001b[39m(maxsize \u001b[39m=\u001b[39m \u001b[39m1024\u001b[39m)\n\u001b[1;32m    531\u001b[0m \u001b[39mdef\u001b[39;00m \u001b[39m_prepare_sparql\u001b[39m(\u001b[39mself\u001b[39m, sparql, error_on_undefined_entities):\n\u001b[1;32m    532\u001b[0m   \u001b[39mimport\u001b[39;00m \u001b[39mowlready2\u001b[39;00m\u001b[39m.\u001b[39;00m\u001b[39msparql\u001b[39;00m\u001b[39m.\u001b[39;00m\u001b[39mmain\u001b[39;00m\n\u001b[0;32m--> 533\u001b[0m   \u001b[39mreturn\u001b[39;00m owlready2\u001b[39m.\u001b[39;49msparql\u001b[39m.\u001b[39;49mmain\u001b[39m.\u001b[39;49mTranslator(\u001b[39mself\u001b[39;49m, error_on_undefined_entities)\u001b[39m.\u001b[39;49mparse(sparql)\n",
      "File \u001b[0;32m~/projets/T3.5/venv/lib/python3.10/site-packages/owlready2/sparql/main.py:61\u001b[0m, in \u001b[0;36mTranslator.parse\u001b[0;34m(self, sparql)\u001b[0m\n\u001b[1;32m     59\u001b[0m   \u001b[39mself\u001b[39m\u001b[39m.\u001b[39mescape_mark \u001b[39m+\u001b[39m\u001b[39m=\u001b[39m \u001b[39m\"\u001b[39m\u001b[39mç\u001b[39m\u001b[39m\"\u001b[39m\n\u001b[1;32m     60\u001b[0m CURRENT_TRANSLATOR\u001b[39m.\u001b[39mset(\u001b[39mself\u001b[39m)\n\u001b[0;32m---> 61\u001b[0m \u001b[39mself\u001b[39m\u001b[39m.\u001b[39mmain_query \u001b[39m=\u001b[39m PARSER\u001b[39m.\u001b[39;49mparse(LEXER\u001b[39m.\u001b[39;49mlex(sparql))\n\u001b[1;32m     62\u001b[0m \u001b[39mreturn\u001b[39;00m \u001b[39mself\u001b[39m\u001b[39m.\u001b[39mfinalize()\n",
      "File \u001b[0;32m~/projets/T3.5/venv/lib/python3.10/site-packages/owlready2/rply.py:416\u001b[0m, in \u001b[0;36mLRParser.parse\u001b[0;34m(self, tokenizer, state)\u001b[0m\n\u001b[1;32m    414\u001b[0m \u001b[39mif\u001b[39;00m \u001b[39mself\u001b[39m\u001b[39m.\u001b[39mlr_table\u001b[39m.\u001b[39mdefault_reductions[current_state]:\n\u001b[1;32m    415\u001b[0m   t \u001b[39m=\u001b[39m \u001b[39mself\u001b[39m\u001b[39m.\u001b[39mlr_table\u001b[39m.\u001b[39mdefault_reductions[current_state]\n\u001b[0;32m--> 416\u001b[0m   current_state \u001b[39m=\u001b[39m \u001b[39mself\u001b[39;49m\u001b[39m.\u001b[39;49m_reduce_production(\n\u001b[1;32m    417\u001b[0m     t, symstack, statestack, state\n\u001b[1;32m    418\u001b[0m   )\n\u001b[1;32m    419\u001b[0m   \u001b[39mcontinue\u001b[39;00m\n\u001b[1;32m    421\u001b[0m \u001b[39mif\u001b[39;00m lookahead \u001b[39mis\u001b[39;00m \u001b[39mNone\u001b[39;00m:\n",
      "File \u001b[0;32m~/projets/T3.5/venv/lib/python3.10/site-packages/owlready2/rply.py:465\u001b[0m, in \u001b[0;36mLRParser._reduce_production\u001b[0;34m(self, t, symstack, statestack, state)\u001b[0m\n\u001b[1;32m    463\u001b[0m \u001b[39mdel\u001b[39;00m symstack[start:]\n\u001b[1;32m    464\u001b[0m \u001b[39mdel\u001b[39;00m statestack[start:]\n\u001b[0;32m--> 465\u001b[0m \u001b[39mif\u001b[39;00m state \u001b[39mis\u001b[39;00m \u001b[39mNone\u001b[39;00m: value \u001b[39m=\u001b[39m p\u001b[39m.\u001b[39;49mfunc(targ)\n\u001b[1;32m    466\u001b[0m \u001b[39melse\u001b[39;00m:             value \u001b[39m=\u001b[39m p\u001b[39m.\u001b[39mfunc(state, targ)\n\u001b[1;32m    467\u001b[0m symstack\u001b[39m.\u001b[39mappend(value)\n",
      "File \u001b[0;32m~/projets/T3.5/venv/lib/python3.10/site-packages/owlready2/sparql/parser.py:1015\u001b[0m, in \u001b[0;36mf\u001b[0;34m(p)\u001b[0m\n\u001b[1;32m   1013\u001b[0m p\u001b[39m.\u001b[39mname   \u001b[39m=\u001b[39m \u001b[39m\"\u001b[39m\u001b[39mIRI\u001b[39m\u001b[39m\"\u001b[39m\n\u001b[1;32m   1014\u001b[0m p\u001b[39m.\u001b[39mvalue  \u001b[39m=\u001b[39m \u001b[39m\"\u001b[39m\u001b[39m%s\u001b[39;00m\u001b[39m%s\u001b[39;00m\u001b[39m\"\u001b[39m \u001b[39m%\u001b[39m (translator\u001b[39m.\u001b[39mexpand_prefix(\u001b[39m\"\u001b[39m\u001b[39m%s\u001b[39;00m\u001b[39m:\u001b[39m\u001b[39m\"\u001b[39m \u001b[39m%\u001b[39m prefix), name)\n\u001b[0;32m-> 1015\u001b[0m p\u001b[39m.\u001b[39mstorid \u001b[39m=\u001b[39m p\u001b[39m.\u001b[39msql \u001b[39m=\u001b[39m translator\u001b[39m.\u001b[39;49mabbreviate(p\u001b[39m.\u001b[39;49mvalue)\n\u001b[1;32m   1016\u001b[0m \u001b[39mreturn\u001b[39;00m p\n",
      "File \u001b[0;32m~/projets/T3.5/venv/lib/python3.10/site-packages/owlready2/sparql/main.py:293\u001b[0m, in \u001b[0;36mTranslator.abbreviate\u001b[0;34m(self, entity)\u001b[0m\n\u001b[1;32m    291\u001b[0m \u001b[39mif\u001b[39;00m \u001b[39mself\u001b[39m\u001b[39m.\u001b[39merror_on_undefined_entities:\n\u001b[1;32m    292\u001b[0m   r \u001b[39m=\u001b[39m \u001b[39mself\u001b[39m\u001b[39m.\u001b[39mworld\u001b[39m.\u001b[39m_abbreviate(entity, \u001b[39mFalse\u001b[39;00m)\n\u001b[0;32m--> 293\u001b[0m   \u001b[39mif\u001b[39;00m r \u001b[39mis\u001b[39;00m \u001b[39mNone\u001b[39;00m: \u001b[39mraise\u001b[39;00m \u001b[39mValueError\u001b[39;00m(\u001b[39m\"\u001b[39m\u001b[39mNo existing entity for IRI \u001b[39m\u001b[39m'\u001b[39m\u001b[39m%s\u001b[39;00m\u001b[39m'\u001b[39m\u001b[39m! (use error_on_undefined_entities=False to accept unknown entities in SPARQL queries)\u001b[39m\u001b[39m\"\u001b[39m \u001b[39m%\u001b[39m entity)\n\u001b[1;32m    294\u001b[0m   \u001b[39mreturn\u001b[39;00m r\n\u001b[1;32m    295\u001b[0m \u001b[39melse\u001b[39;00m:\n",
      "\u001b[0;31mValueError\u001b[0m: No existing entity for IRI 'http://www.w3.org/2000/01/rdf-schema#Class'! (use error_on_undefined_entities=False to accept unknown entities in SPARQL queries)"
     ]
    }
   ],
   "source": [
    "A = ask(specifics+\"I have a specific Risk. How can I search for the list of Stakeholder impacted?\",overwrite=False,MODEL=\"gpt-3.5-turbo-1106\",seed=\"\")"
   ]
  },
  {
   "cell_type": "code",
   "execution_count": 13,
   "metadata": {},
   "outputs": [
    {
     "data": {
      "text/plain": [
       "[[WIP.PBN__Technology_22,\n",
       "  WIP.PBN__Risk_1416,\n",
       "  WIP.PBN__RiskSubgroup_3,\n",
       "  7885349010,\n",
       "  WIP.PBN__TechSubgroup_0]]"
      ]
     },
     "execution_count": 13,
     "metadata": {},
     "output_type": "execute_result"
    }
   ],
   "source": [
    "A = EX(\"\"\"PREFIX pbn: <https://github.com/mm80843/T3.5/raw/main/pbn_t3_5.owl#>\n",
    "\n",
    "SELECT DISTINCT ?tech ?risk ?riskSubgroup (COUNT(?riskGroup) AS ?techCount) ?techSubgroup\n",
    "WHERE {\n",
    "  ?techSubgroup a pbn:TechSubgroup .\n",
    "  ?tech  pbn:has_TechSubgroup ?techSubgroup .\n",
    "  ?risk pbn:has_RiskTechnology ?tech .\n",
    "  ?risk pbn:has_RiskSubgroup ?riskSubgroup .\n",
    "  FILTER (?TechSubgroup = pbn:PBN__TechSubgroup_75)  # Replace 'SpecificTechnology' with the actual technology of interest\n",
    "}\n",
    "GROUP BY ?TechSubgroup\n",
    "ORDER BY DESC(?techCount)\n",
    "LIMIT 5\"\"\")\n",
    "A"
   ]
  },
  {
   "cell_type": "code",
   "execution_count": 18,
   "metadata": {},
   "outputs": [
    {
     "data": {
      "text/plain": [
       "[]"
      ]
     },
     "execution_count": 18,
     "metadata": {},
     "output_type": "execute_result"
    }
   ],
   "source": [
    "A = EX(\"\"\"PREFIX pbn: <https://github.com/mm80843/T3.5/raw/main/pbn_t3_5.owl#>\n",
    "\n",
    "SELECT DISTINCT ?tech ?risk ?riskSubgroup ?techSubgroup (COUNT(?riskSubgroup) AS ?techCount) \n",
    "WHERE {\n",
    "  ?techSubgroup a pbn:TechSubgroup .\n",
    "  ?techSubgroup pbn:has_SubgroupTech ?tech .\n",
    "  ?tech pbn:has_TechnologyRisk ?risk .\n",
    "  ?risk pbn:has_RiskSubgroup ?riskSubgroup .\n",
    "  FILTER (?techSubgroup = pbn:PBN__TechSubgroup_75)  # Replace 'SpecificTechnology' with the actual technology of interest\n",
    "}\n",
    "GROUP BY ?riskSubgroup\n",
    "ORDER BY DESC(?techCount)\n",
    "LIMIT 5\"\"\")\n",
    "A"
   ]
  },
  {
   "cell_type": "code",
   "execution_count": 24,
   "metadata": {},
   "outputs": [
    {
     "data": {
      "text/plain": [
       "[['Natural ventilation systems',\n",
       "  'Inadequate natural ventilation in hospital and built environments',\n",
       "  'Lack of emphasis on air quality',\n",
       "  'Green infrastructure management'],\n",
       " ['Natural ventilation systems',\n",
       "  'Inadequate natural ventilation in hospital and built environments',\n",
       "  'Lack of emphasis on air quality',\n",
       "  'Green infrastructure management'],\n",
       " ['Natural ventilation systems',\n",
       "  'Inadequate natural ventilation in hospital and built environments',\n",
       "  'Lack of emphasis on air quality',\n",
       "  'Green infrastructure management'],\n",
       " ['Natural ventilation systems',\n",
       "  'Inadequate natural ventilation in hospital and built environments',\n",
       "  'Lack of emphasis on air quality',\n",
       "  'Green infrastructure management'],\n",
       " ['Natural ventilation systems',\n",
       "  'Inadequate natural ventilation in hospital and built environments',\n",
       "  'Lack of emphasis on air quality',\n",
       "  'Green infrastructure management']]"
      ]
     },
     "execution_count": 24,
     "metadata": {},
     "output_type": "execute_result"
    }
   ],
   "source": [
    "[[x[0].label[0],x[1].label[0],x[2].label[0],x[4].label[0]] for x in A]"
   ]
  },
  {
   "cell_type": "code",
   "execution_count": 19,
   "metadata": {},
   "outputs": [
    {
     "data": {
      "text/plain": [
       "[[WIP.PBN__Technology_1010,\n",
       "  WIP.PBN__Risk_4243,\n",
       "  WIP.PBN__RiskSubgroup_46,\n",
       "  80,\n",
       "  WIP.PBN__Technology_2117]]"
      ]
     },
     "execution_count": 19,
     "metadata": {},
     "output_type": "execute_result"
    }
   ],
   "source": [
    "A = EX(\"\"\"PREFIX pbn: <https://github.com/mm80843/T3.5/raw/main/pbn_t3_5.owl#>\n",
    "\n",
    "SELECT DISTINCT ?tech ?risk ?riskSubgroup (COUNT(?riskGroup) AS ?techCount) ?techSubgroup\n",
    "WHERE {\n",
    "  ?tech a pbn:Technology .\n",
    "  ?tech  pbn:has_TechSubgroup ?techSubgroup .\n",
    "  ?risk pbn:has_RiskTechnology ?tech .\n",
    "  ?risk pbn:has_RiskSubgroup ?riskSubgroup .\n",
    "  FILTER (?tech = pbn:PBN__Technology_1010)  # Replace 'SpecificTechnology' with the actual technology of interest\n",
    "}\n",
    "GROUP BY ?riskGroup\n",
    "ORDER BY DESC(?techCount)\n",
    "LIMIT 5\"\"\")\n",
    "# 26s\n",
    "A"
   ]
  },
  {
   "cell_type": "code",
   "execution_count": 20,
   "metadata": {},
   "outputs": [
    {
     "data": {
      "text/plain": [
       "[[WIP.PBN__Technology_1010,\n",
       "  WIP.PBN__Risk_4243,\n",
       "  WIP.PBN__RiskSubgroup_46,\n",
       "  80,\n",
       "  WIP.PBN__Technology_2117]]"
      ]
     },
     "execution_count": 20,
     "metadata": {},
     "output_type": "execute_result"
    }
   ],
   "source": [
    "A = EX(\"\"\"PREFIX pbn: <https://github.com/mm80843/T3.5/raw/main/pbn_t3_5.owl#>\n",
    "\n",
    "SELECT DISTINCT ?tech ?risk ?riskSubgroup (COUNT(?riskGroup) AS ?techCount) ?techSubgroup\n",
    "WHERE {\n",
    "  ?tech a pbn:Technology .\n",
    "  ?tech  pbn:has_TechSubgroup ?techSubgroup .\n",
    "  ?risk pbn:has_RiskTechnology ?tech .\n",
    "  ?risk pbn:has_RiskSubgroup ?riskSubgroup .\n",
    "  FILTER (?tech = pbn:PBN__Technology_1010)  # Replace 'SpecificTechnology' with the actual technology of interest\n",
    "}\n",
    "GROUP BY ?riskGroup\n",
    "ORDER BY DESC(?techCount)\n",
    "LIMIT 5\"\"\")\n",
    "A"
   ]
  },
  {
   "cell_type": "code",
   "execution_count": 28,
   "metadata": {},
   "outputs": [],
   "source": [
    "import owlready2.sparql.parser\n",
    "owlready2.sparql.parser._DATA_PROPS = set()"
   ]
  },
  {
   "cell_type": "code",
   "execution_count": 21,
   "metadata": {},
   "outputs": [
    {
     "ename": "ValueError",
     "evalue": "Cannot select 'VAR:'?tech''!",
     "output_type": "error",
     "traceback": [
      "\u001b[0;31m---------------------------------------------------------------------------\u001b[0m",
      "\u001b[0;31mValueError\u001b[0m                                Traceback (most recent call last)",
      "Cell \u001b[0;32mIn[21], line 1\u001b[0m\n\u001b[0;32m----> 1\u001b[0m A \u001b[39m=\u001b[39m EX(\u001b[39m\"\"\"\u001b[39;49m\u001b[39mPREFIX pbn: <https://github.com/mm80843/T3.5/raw/main/pbn_t3_5.owl#>\u001b[39;49m\n\u001b[1;32m      2\u001b[0m \n\u001b[1;32m      3\u001b[0m \u001b[39mSELECT ?tech ?risk (COUNT(?riskSubgroup) AS ?riskCount)\u001b[39;49m\n\u001b[1;32m      4\u001b[0m \u001b[39mWHERE \u001b[39;49m\u001b[39m{\u001b[39;49m\n\u001b[1;32m      5\u001b[0m \u001b[39m  ?riskSubgroup a pbn:RiskSubgroup .\u001b[39;49m\n\u001b[1;32m      6\u001b[0m \u001b[39m  ?risk pbn:has_RiskSubgroup ?riskSubgroup .\u001b[39;49m\n\u001b[1;32m      7\u001b[0m \u001b[39m  FILTER (?riskSubgroup = pbn:PBN__RiskSubgroup_46)  # Replace \u001b[39;49m\u001b[39m'\u001b[39;49m\u001b[39mSpecificTechnology\u001b[39;49m\u001b[39m'\u001b[39;49m\u001b[39m with the actual technology of interest\u001b[39;49m\n\u001b[1;32m      8\u001b[0m \u001b[39m}\u001b[39;49m\n\u001b[1;32m      9\u001b[0m \u001b[39mGROUP BY ?riskSubgroup\u001b[39;49m\n\u001b[1;32m     10\u001b[0m \u001b[39mORDER BY DESC(?riskCount)\u001b[39;49m\n\u001b[1;32m     11\u001b[0m \u001b[39mLIMIT 5\u001b[39;49m\u001b[39m\"\"\"\u001b[39;49m)\n\u001b[1;32m     12\u001b[0m A\n",
      "Cell \u001b[0;32mIn[9], line 2\u001b[0m, in \u001b[0;36mEX\u001b[0;34m(REQ)\u001b[0m\n\u001b[1;32m      1\u001b[0m \u001b[39mdef\u001b[39;00m \u001b[39mEX\u001b[39m(REQ):\n\u001b[0;32m----> 2\u001b[0m     \u001b[39mreturn\u001b[39;00m \u001b[39mlist\u001b[39m(default_world\u001b[39m.\u001b[39;49msparql(REQ))\n",
      "File \u001b[0;32m~/projets/T3.5/venv/lib/python3.10/site-packages/owlready2/namespace.py:527\u001b[0m, in \u001b[0;36mWorld.sparql\u001b[0;34m(self, sparql, params, error_on_undefined_entities)\u001b[0m\n\u001b[1;32m    525\u001b[0m \u001b[39mdef\u001b[39;00m \u001b[39msparql\u001b[39m(\u001b[39mself\u001b[39m, sparql, params \u001b[39m=\u001b[39m (), error_on_undefined_entities \u001b[39m=\u001b[39m \u001b[39mTrue\u001b[39;00m):\n\u001b[1;32m    526\u001b[0m   \u001b[39mimport\u001b[39;00m \u001b[39mowlready2\u001b[39;00m\u001b[39m.\u001b[39;00m\u001b[39msparql\u001b[39;00m\u001b[39m.\u001b[39;00m\u001b[39mmain\u001b[39;00m\n\u001b[0;32m--> 527\u001b[0m   query \u001b[39m=\u001b[39m \u001b[39mself\u001b[39;49m\u001b[39m.\u001b[39;49m_prepare_sparql(sparql, error_on_undefined_entities)\n\u001b[1;32m    528\u001b[0m   \u001b[39mreturn\u001b[39;00m query\u001b[39m.\u001b[39mexecute(params)\n",
      "File \u001b[0;32m~/projets/T3.5/venv/lib/python3.10/site-packages/owlready2/namespace.py:533\u001b[0m, in \u001b[0;36mWorld._prepare_sparql\u001b[0;34m(self, sparql, error_on_undefined_entities)\u001b[0m\n\u001b[1;32m    530\u001b[0m \u001b[39m@lru_cache\u001b[39m(maxsize \u001b[39m=\u001b[39m \u001b[39m1024\u001b[39m)\n\u001b[1;32m    531\u001b[0m \u001b[39mdef\u001b[39;00m \u001b[39m_prepare_sparql\u001b[39m(\u001b[39mself\u001b[39m, sparql, error_on_undefined_entities):\n\u001b[1;32m    532\u001b[0m   \u001b[39mimport\u001b[39;00m \u001b[39mowlready2\u001b[39;00m\u001b[39m.\u001b[39;00m\u001b[39msparql\u001b[39;00m\u001b[39m.\u001b[39;00m\u001b[39mmain\u001b[39;00m\n\u001b[0;32m--> 533\u001b[0m   \u001b[39mreturn\u001b[39;00m owlready2\u001b[39m.\u001b[39;49msparql\u001b[39m.\u001b[39;49mmain\u001b[39m.\u001b[39;49mTranslator(\u001b[39mself\u001b[39;49m, error_on_undefined_entities)\u001b[39m.\u001b[39;49mparse(sparql)\n",
      "File \u001b[0;32m~/projets/T3.5/venv/lib/python3.10/site-packages/owlready2/sparql/main.py:61\u001b[0m, in \u001b[0;36mTranslator.parse\u001b[0;34m(self, sparql)\u001b[0m\n\u001b[1;32m     59\u001b[0m   \u001b[39mself\u001b[39m\u001b[39m.\u001b[39mescape_mark \u001b[39m+\u001b[39m\u001b[39m=\u001b[39m \u001b[39m\"\u001b[39m\u001b[39mç\u001b[39m\u001b[39m\"\u001b[39m\n\u001b[1;32m     60\u001b[0m CURRENT_TRANSLATOR\u001b[39m.\u001b[39mset(\u001b[39mself\u001b[39m)\n\u001b[0;32m---> 61\u001b[0m \u001b[39mself\u001b[39m\u001b[39m.\u001b[39mmain_query \u001b[39m=\u001b[39m PARSER\u001b[39m.\u001b[39;49mparse(LEXER\u001b[39m.\u001b[39;49mlex(sparql))\n\u001b[1;32m     62\u001b[0m \u001b[39mreturn\u001b[39;00m \u001b[39mself\u001b[39m\u001b[39m.\u001b[39mfinalize()\n",
      "File \u001b[0;32m~/projets/T3.5/venv/lib/python3.10/site-packages/owlready2/rply.py:416\u001b[0m, in \u001b[0;36mLRParser.parse\u001b[0;34m(self, tokenizer, state)\u001b[0m\n\u001b[1;32m    414\u001b[0m \u001b[39mif\u001b[39;00m \u001b[39mself\u001b[39m\u001b[39m.\u001b[39mlr_table\u001b[39m.\u001b[39mdefault_reductions[current_state]:\n\u001b[1;32m    415\u001b[0m   t \u001b[39m=\u001b[39m \u001b[39mself\u001b[39m\u001b[39m.\u001b[39mlr_table\u001b[39m.\u001b[39mdefault_reductions[current_state]\n\u001b[0;32m--> 416\u001b[0m   current_state \u001b[39m=\u001b[39m \u001b[39mself\u001b[39;49m\u001b[39m.\u001b[39;49m_reduce_production(\n\u001b[1;32m    417\u001b[0m     t, symstack, statestack, state\n\u001b[1;32m    418\u001b[0m   )\n\u001b[1;32m    419\u001b[0m   \u001b[39mcontinue\u001b[39;00m\n\u001b[1;32m    421\u001b[0m \u001b[39mif\u001b[39;00m lookahead \u001b[39mis\u001b[39;00m \u001b[39mNone\u001b[39;00m:\n",
      "File \u001b[0;32m~/projets/T3.5/venv/lib/python3.10/site-packages/owlready2/rply.py:465\u001b[0m, in \u001b[0;36mLRParser._reduce_production\u001b[0;34m(self, t, symstack, statestack, state)\u001b[0m\n\u001b[1;32m    463\u001b[0m \u001b[39mdel\u001b[39;00m symstack[start:]\n\u001b[1;32m    464\u001b[0m \u001b[39mdel\u001b[39;00m statestack[start:]\n\u001b[0;32m--> 465\u001b[0m \u001b[39mif\u001b[39;00m state \u001b[39mis\u001b[39;00m \u001b[39mNone\u001b[39;00m: value \u001b[39m=\u001b[39m p\u001b[39m.\u001b[39;49mfunc(targ)\n\u001b[1;32m    466\u001b[0m \u001b[39melse\u001b[39;00m:             value \u001b[39m=\u001b[39m p\u001b[39m.\u001b[39mfunc(state, targ)\n\u001b[1;32m    467\u001b[0m symstack\u001b[39m.\u001b[39mappend(value)\n",
      "File \u001b[0;32m~/projets/T3.5/venv/lib/python3.10/site-packages/owlready2/sparql/parser.py:133\u001b[0m, in \u001b[0;36mf\u001b[0;34m(p)\u001b[0m\n\u001b[1;32m    129\u001b[0m \u001b[39m@pg\u001b[39m\u001b[39m.\u001b[39mproduction(\u001b[39m\"\u001b[39m\u001b[39mmain : prefix_decl* select_query\u001b[39m\u001b[39m\"\u001b[39m)\n\u001b[1;32m    130\u001b[0m \u001b[39m#@pg.production(\"main : prefix_decl* construct_query values_clause?\")\u001b[39;00m\n\u001b[1;32m    131\u001b[0m \u001b[39m#@pg.production(\"main : prefix_decl* describe_query values_clause?\")\u001b[39;00m\n\u001b[1;32m    132\u001b[0m \u001b[39m#@pg.production(\"main : prefix_decl* ask_query values_clause?\")\u001b[39;00m\n\u001b[0;32m--> 133\u001b[0m \u001b[39mdef\u001b[39;00m \u001b[39mf\u001b[39m(p): \u001b[39mreturn\u001b[39;00m _parse_select_query(p[\u001b[39m1\u001b[39m])\n",
      "File \u001b[0;32m~/projets/T3.5/venv/lib/python3.10/site-packages/owlready2/sparql/parser.py:142\u001b[0m, in \u001b[0;36m_parse_select_query\u001b[0;34m(p)\u001b[0m\n\u001b[1;32m    140\u001b[0m \u001b[39mif\u001b[39;00m \u001b[39misinstance\u001b[39m(p[\u001b[39m4\u001b[39m], NotExistsBlock): \u001b[39m# FILTER NOT EXISTS alone; not supported as the main query.\u001b[39;00m\n\u001b[1;32m    141\u001b[0m   p[\u001b[39m4\u001b[39m] \u001b[39m=\u001b[39m SimpleTripleBlock([p[\u001b[39m4\u001b[39m]])\n\u001b[0;32m--> 142\u001b[0m main_query \u001b[39m=\u001b[39m translator\u001b[39m.\u001b[39;49mnew_sql_query(\u001b[39m\"\u001b[39;49m\u001b[39mmain\u001b[39;49m\u001b[39m\"\u001b[39;49m, p[\u001b[39m4\u001b[39;49m], p[\u001b[39m2\u001b[39;49m], p[\u001b[39m1\u001b[39;49m], p[\u001b[39m5\u001b[39;49m])\n\u001b[1;32m    143\u001b[0m main_query\u001b[39m.\u001b[39mtype \u001b[39m=\u001b[39m \u001b[39m\"\u001b[39m\u001b[39mselect\u001b[39m\u001b[39m\"\u001b[39m\n\u001b[1;32m    144\u001b[0m \u001b[39mreturn\u001b[39;00m main_query\n",
      "File \u001b[0;32m~/projets/T3.5/venv/lib/python3.10/site-packages/owlready2/sparql/main.py:268\u001b[0m, in \u001b[0;36mTranslator.new_sql_query\u001b[0;34m(self, name, block, selects, distinct, solution_modifier, preliminary, extra_binds, nested_inside, copy_vars)\u001b[0m\n\u001b[1;32m    265\u001b[0m   s\u001b[39m.\u001b[39mparse_triples(block)\n\u001b[1;32m    266\u001b[0m   \u001b[39mfor\u001b[39;00m bind \u001b[39min\u001b[39;00m extra_binds: s\u001b[39m.\u001b[39mparse_bind(bind)\n\u001b[0;32m--> 268\u001b[0m   s\u001b[39m.\u001b[39;49mfinalize_columns()\n\u001b[1;32m    270\u001b[0m \u001b[39melif\u001b[39;00m \u001b[39misinstance\u001b[39m(block, UnionBlock):\n\u001b[1;32m    271\u001b[0m   \u001b[39mfor\u001b[39;00m alternative \u001b[39min\u001b[39;00m block:\n",
      "File \u001b[0;32m~/projets/T3.5/venv/lib/python3.10/site-packages/owlready2/sparql/main.py:1216\u001b[0m, in \u001b[0;36mSQLQuery.finalize_columns\u001b[0;34m(self)\u001b[0m\n\u001b[1;32m   1214\u001b[0m     sql_type \u001b[39m=\u001b[39m \u001b[39m\"\u001b[39m\u001b[39mobjs\u001b[39m\u001b[39m\"\u001b[39m\n\u001b[1;32m   1215\u001b[0m   \u001b[39melse\u001b[39;00m:\n\u001b[0;32m-> 1216\u001b[0m     \u001b[39mraise\u001b[39;00m \u001b[39mValueError\u001b[39;00m(\u001b[39m\"\u001b[39m\u001b[39mCannot select \u001b[39m\u001b[39m'\u001b[39m\u001b[39m%s\u001b[39;00m\u001b[39m'\u001b[39m\u001b[39m!\u001b[39m\u001b[39m\"\u001b[39m \u001b[39m%\u001b[39m select)\n\u001b[1;32m   1218\u001b[0m \u001b[39mif\u001b[39;00m \u001b[39misinstance\u001b[39m(sql, \u001b[39mstr\u001b[39m) \u001b[39mand\u001b[39;00m sql\u001b[39m.\u001b[39mstartswith(\u001b[39m\"\u001b[39m\u001b[39mIN \u001b[39m\u001b[39m\"\u001b[39m):\n\u001b[1;32m   1219\u001b[0m   \u001b[39mif\u001b[39;00m   \u001b[39mnot\u001b[39;00m \u001b[39m\"\u001b[39m\u001b[39m,\u001b[39m\u001b[39m\"\u001b[39m \u001b[39min\u001b[39;00m sql: sql \u001b[39m=\u001b[39m sql[\u001b[39m4\u001b[39m : \u001b[39m-\u001b[39m\u001b[39m1\u001b[39m]\n",
      "\u001b[0;31mValueError\u001b[0m: Cannot select 'VAR:'?tech''!"
     ]
    }
   ],
   "source": [
    "A = EX(\"\"\"PREFIX pbn: <https://github.com/mm80843/T3.5/raw/main/pbn_t3_5.owl#>\n",
    "\n",
    "SELECT ?tech ?risk (COUNT(?riskSubgroup) AS ?riskCount)\n",
    "WHERE {\n",
    "  ?riskSubgroup a pbn:RiskSubgroup .\n",
    "  ?risk pbn:has_RiskSubgroup ?riskSubgroup .\n",
    "  FILTER (?riskSubgroup = pbn:PBN__RiskSubgroup_46)  # Replace 'SpecificTechnology' with the actual technology of interest\n",
    "}\n",
    "GROUP BY ?riskSubgroup\n",
    "ORDER BY DESC(?riskCount)\n",
    "LIMIT 5\"\"\")\n",
    "A"
   ]
  },
  {
   "cell_type": "code",
   "execution_count": null,
   "metadata": {},
   "outputs": [
    {
     "ename": "ValueError",
     "evalue": "No existing entity for IRI 'https://github.com/mm80843/T3.5/raw/main/pbn_t3_5.owl#TechSubgroup'! (use error_on_undefined_entities=False to accept unknown entities in SPARQL queries)",
     "output_type": "error",
     "traceback": [
      "\u001b[0;31m---------------------------------------------------------------------------\u001b[0m",
      "\u001b[0;31mValueError\u001b[0m                                Traceback (most recent call last)",
      "Cell \u001b[0;32mIn[40], line 1\u001b[0m\n\u001b[0;32m----> 1\u001b[0m A \u001b[39m=\u001b[39m EX(\u001b[39m\"\"\"\u001b[39;49m\u001b[39mPREFIX pbn: <https://github.com/mm80843/T3.5/raw/main/pbn_t3_5.owl#>\u001b[39;49m\n\u001b[1;32m      2\u001b[0m \n\u001b[1;32m      3\u001b[0m \u001b[39mSELECT ?tech ?riskSubgroup ?techSubgroup (COUNT(?riskSubgroup) AS ?riskSGCount)\u001b[39;49m\n\u001b[1;32m      4\u001b[0m \u001b[39mWHERE \u001b[39;49m\u001b[39m{\u001b[39;49m\n\u001b[1;32m      5\u001b[0m \u001b[39m  ?riskSubgroup a pbn:RiskSubgroup .\u001b[39;49m\n\u001b[1;32m      6\u001b[0m \u001b[39m  ?techSubgroup a pbn:TechSubgroup .\u001b[39;49m\n\u001b[1;32m      7\u001b[0m \u001b[39m  ?risk pbn:has_RiskSubgroup ?riskSubgroup .\u001b[39;49m\n\u001b[1;32m      8\u001b[0m \u001b[39m  ?risk pbn:has_RiskTechnology ?tech .\u001b[39;49m\n\u001b[1;32m      9\u001b[0m \u001b[39m  ?tech  pbn:has_TechSubgroup ?techSubgroup .\u001b[39;49m\n\u001b[1;32m     10\u001b[0m \u001b[39m  FILTER (?riskSubgroup = pbn:PBN__RiskSubgroup_46)  # Replace \u001b[39;49m\u001b[39m'\u001b[39;49m\u001b[39mSpecificTechnology\u001b[39;49m\u001b[39m'\u001b[39;49m\u001b[39m with the actual technology of interest\u001b[39;49m\n\u001b[1;32m     11\u001b[0m \u001b[39m}\u001b[39;49m\n\u001b[1;32m     12\u001b[0m \u001b[39mGROUP BY ?techSubgroup\u001b[39;49m\n\u001b[1;32m     13\u001b[0m \u001b[39mORDER BY DESC(?riskSGCount)\u001b[39;49m\n\u001b[1;32m     14\u001b[0m \u001b[39mLIMIT 5\u001b[39;49m\u001b[39m\"\"\"\u001b[39;49m)\n\u001b[1;32m     15\u001b[0m A\n",
      "Cell \u001b[0;32mIn[6], line 2\u001b[0m, in \u001b[0;36mEX\u001b[0;34m(REQ)\u001b[0m\n\u001b[1;32m      1\u001b[0m \u001b[39mdef\u001b[39;00m \u001b[39mEX\u001b[39m(REQ):\n\u001b[0;32m----> 2\u001b[0m     \u001b[39mreturn\u001b[39;00m \u001b[39mlist\u001b[39m(default_world\u001b[39m.\u001b[39;49msparql(REQ))\n",
      "File \u001b[0;32m~/projets/T3.5/venv/lib/python3.10/site-packages/owlready2/namespace.py:527\u001b[0m, in \u001b[0;36mWorld.sparql\u001b[0;34m(self, sparql, params, error_on_undefined_entities)\u001b[0m\n\u001b[1;32m    525\u001b[0m \u001b[39mdef\u001b[39;00m \u001b[39msparql\u001b[39m(\u001b[39mself\u001b[39m, sparql, params \u001b[39m=\u001b[39m (), error_on_undefined_entities \u001b[39m=\u001b[39m \u001b[39mTrue\u001b[39;00m):\n\u001b[1;32m    526\u001b[0m   \u001b[39mimport\u001b[39;00m \u001b[39mowlready2\u001b[39;00m\u001b[39m.\u001b[39;00m\u001b[39msparql\u001b[39;00m\u001b[39m.\u001b[39;00m\u001b[39mmain\u001b[39;00m\n\u001b[0;32m--> 527\u001b[0m   query \u001b[39m=\u001b[39m \u001b[39mself\u001b[39;49m\u001b[39m.\u001b[39;49m_prepare_sparql(sparql, error_on_undefined_entities)\n\u001b[1;32m    528\u001b[0m   \u001b[39mreturn\u001b[39;00m query\u001b[39m.\u001b[39mexecute(params)\n",
      "File \u001b[0;32m~/projets/T3.5/venv/lib/python3.10/site-packages/owlready2/namespace.py:533\u001b[0m, in \u001b[0;36mWorld._prepare_sparql\u001b[0;34m(self, sparql, error_on_undefined_entities)\u001b[0m\n\u001b[1;32m    530\u001b[0m \u001b[39m@lru_cache\u001b[39m(maxsize \u001b[39m=\u001b[39m \u001b[39m1024\u001b[39m)\n\u001b[1;32m    531\u001b[0m \u001b[39mdef\u001b[39;00m \u001b[39m_prepare_sparql\u001b[39m(\u001b[39mself\u001b[39m, sparql, error_on_undefined_entities):\n\u001b[1;32m    532\u001b[0m   \u001b[39mimport\u001b[39;00m \u001b[39mowlready2\u001b[39;00m\u001b[39m.\u001b[39;00m\u001b[39msparql\u001b[39;00m\u001b[39m.\u001b[39;00m\u001b[39mmain\u001b[39;00m\n\u001b[0;32m--> 533\u001b[0m   \u001b[39mreturn\u001b[39;00m owlready2\u001b[39m.\u001b[39;49msparql\u001b[39m.\u001b[39;49mmain\u001b[39m.\u001b[39;49mTranslator(\u001b[39mself\u001b[39;49m, error_on_undefined_entities)\u001b[39m.\u001b[39;49mparse(sparql)\n",
      "File \u001b[0;32m~/projets/T3.5/venv/lib/python3.10/site-packages/owlready2/sparql/main.py:61\u001b[0m, in \u001b[0;36mTranslator.parse\u001b[0;34m(self, sparql)\u001b[0m\n\u001b[1;32m     59\u001b[0m   \u001b[39mself\u001b[39m\u001b[39m.\u001b[39mescape_mark \u001b[39m+\u001b[39m\u001b[39m=\u001b[39m \u001b[39m\"\u001b[39m\u001b[39mç\u001b[39m\u001b[39m\"\u001b[39m\n\u001b[1;32m     60\u001b[0m CURRENT_TRANSLATOR\u001b[39m.\u001b[39mset(\u001b[39mself\u001b[39m)\n\u001b[0;32m---> 61\u001b[0m \u001b[39mself\u001b[39m\u001b[39m.\u001b[39mmain_query \u001b[39m=\u001b[39m PARSER\u001b[39m.\u001b[39;49mparse(LEXER\u001b[39m.\u001b[39;49mlex(sparql))\n\u001b[1;32m     62\u001b[0m \u001b[39mreturn\u001b[39;00m \u001b[39mself\u001b[39m\u001b[39m.\u001b[39mfinalize()\n",
      "File \u001b[0;32m~/projets/T3.5/venv/lib/python3.10/site-packages/owlready2/rply.py:416\u001b[0m, in \u001b[0;36mLRParser.parse\u001b[0;34m(self, tokenizer, state)\u001b[0m\n\u001b[1;32m    414\u001b[0m \u001b[39mif\u001b[39;00m \u001b[39mself\u001b[39m\u001b[39m.\u001b[39mlr_table\u001b[39m.\u001b[39mdefault_reductions[current_state]:\n\u001b[1;32m    415\u001b[0m   t \u001b[39m=\u001b[39m \u001b[39mself\u001b[39m\u001b[39m.\u001b[39mlr_table\u001b[39m.\u001b[39mdefault_reductions[current_state]\n\u001b[0;32m--> 416\u001b[0m   current_state \u001b[39m=\u001b[39m \u001b[39mself\u001b[39;49m\u001b[39m.\u001b[39;49m_reduce_production(\n\u001b[1;32m    417\u001b[0m     t, symstack, statestack, state\n\u001b[1;32m    418\u001b[0m   )\n\u001b[1;32m    419\u001b[0m   \u001b[39mcontinue\u001b[39;00m\n\u001b[1;32m    421\u001b[0m \u001b[39mif\u001b[39;00m lookahead \u001b[39mis\u001b[39;00m \u001b[39mNone\u001b[39;00m:\n",
      "File \u001b[0;32m~/projets/T3.5/venv/lib/python3.10/site-packages/owlready2/rply.py:465\u001b[0m, in \u001b[0;36mLRParser._reduce_production\u001b[0;34m(self, t, symstack, statestack, state)\u001b[0m\n\u001b[1;32m    463\u001b[0m \u001b[39mdel\u001b[39;00m symstack[start:]\n\u001b[1;32m    464\u001b[0m \u001b[39mdel\u001b[39;00m statestack[start:]\n\u001b[0;32m--> 465\u001b[0m \u001b[39mif\u001b[39;00m state \u001b[39mis\u001b[39;00m \u001b[39mNone\u001b[39;00m: value \u001b[39m=\u001b[39m p\u001b[39m.\u001b[39;49mfunc(targ)\n\u001b[1;32m    466\u001b[0m \u001b[39melse\u001b[39;00m:             value \u001b[39m=\u001b[39m p\u001b[39m.\u001b[39mfunc(state, targ)\n\u001b[1;32m    467\u001b[0m symstack\u001b[39m.\u001b[39mappend(value)\n",
      "File \u001b[0;32m~/projets/T3.5/venv/lib/python3.10/site-packages/owlready2/sparql/parser.py:1015\u001b[0m, in \u001b[0;36mf\u001b[0;34m(p)\u001b[0m\n\u001b[1;32m   1013\u001b[0m p\u001b[39m.\u001b[39mname   \u001b[39m=\u001b[39m \u001b[39m\"\u001b[39m\u001b[39mIRI\u001b[39m\u001b[39m\"\u001b[39m\n\u001b[1;32m   1014\u001b[0m p\u001b[39m.\u001b[39mvalue  \u001b[39m=\u001b[39m \u001b[39m\"\u001b[39m\u001b[39m%s\u001b[39;00m\u001b[39m%s\u001b[39;00m\u001b[39m\"\u001b[39m \u001b[39m%\u001b[39m (translator\u001b[39m.\u001b[39mexpand_prefix(\u001b[39m\"\u001b[39m\u001b[39m%s\u001b[39;00m\u001b[39m:\u001b[39m\u001b[39m\"\u001b[39m \u001b[39m%\u001b[39m prefix), name)\n\u001b[0;32m-> 1015\u001b[0m p\u001b[39m.\u001b[39mstorid \u001b[39m=\u001b[39m p\u001b[39m.\u001b[39msql \u001b[39m=\u001b[39m translator\u001b[39m.\u001b[39;49mabbreviate(p\u001b[39m.\u001b[39;49mvalue)\n\u001b[1;32m   1016\u001b[0m \u001b[39mreturn\u001b[39;00m p\n",
      "File \u001b[0;32m~/projets/T3.5/venv/lib/python3.10/site-packages/owlready2/sparql/main.py:293\u001b[0m, in \u001b[0;36mTranslator.abbreviate\u001b[0;34m(self, entity)\u001b[0m\n\u001b[1;32m    291\u001b[0m \u001b[39mif\u001b[39;00m \u001b[39mself\u001b[39m\u001b[39m.\u001b[39merror_on_undefined_entities:\n\u001b[1;32m    292\u001b[0m   r \u001b[39m=\u001b[39m \u001b[39mself\u001b[39m\u001b[39m.\u001b[39mworld\u001b[39m.\u001b[39m_abbreviate(entity, \u001b[39mFalse\u001b[39;00m)\n\u001b[0;32m--> 293\u001b[0m   \u001b[39mif\u001b[39;00m r \u001b[39mis\u001b[39;00m \u001b[39mNone\u001b[39;00m: \u001b[39mraise\u001b[39;00m \u001b[39mValueError\u001b[39;00m(\u001b[39m\"\u001b[39m\u001b[39mNo existing entity for IRI \u001b[39m\u001b[39m'\u001b[39m\u001b[39m%s\u001b[39;00m\u001b[39m'\u001b[39m\u001b[39m! (use error_on_undefined_entities=False to accept unknown entities in SPARQL queries)\u001b[39m\u001b[39m\"\u001b[39m \u001b[39m%\u001b[39m entity)\n\u001b[1;32m    294\u001b[0m   \u001b[39mreturn\u001b[39;00m r\n\u001b[1;32m    295\u001b[0m \u001b[39melse\u001b[39;00m:\n",
      "\u001b[0;31mValueError\u001b[0m: No existing entity for IRI 'https://github.com/mm80843/T3.5/raw/main/pbn_t3_5.owl#TechSubgroup'! (use error_on_undefined_entities=False to accept unknown entities in SPARQL queries)"
     ]
    }
   ],
   "source": [
    "A = EX(\"\"\"PREFIX pbn: <https://github.com/mm80843/T3.5/raw/main/pbn_t3_5.owl#>\n",
    "\n",
    "SELECT ?tech ?riskSubgroup ?techSubgroup (COUNT(?riskSubgroup) AS ?riskSGCount)\n",
    "WHERE {\n",
    "  ?riskSubgroup a pbn:RiskSubgroup .\n",
    "  ?techSubgroup a pbn:TechSubgroup .\n",
    "  ?risk pbn:has_RiskSubgroup ?riskSubgroup .\n",
    "  ?risk pbn:has_RiskTechnology ?tech .\n",
    "  ?tech  pbn:has_TechSubgroup ?techSubgroup .\n",
    "  FILTER (?riskSubgroup = pbn:PBN__RiskSubgroup_46)  # Replace 'SpecificTechnology' with the actual technology of interest\n",
    "}\n",
    "GROUP BY ?techSubgroup\n",
    "ORDER BY DESC(?riskSGCount)\n",
    "LIMIT 5\"\"\")\n",
    "A"
   ]
  },
  {
   "cell_type": "code",
   "execution_count": 41,
   "metadata": {},
   "outputs": [
    {
     "data": {
      "text/plain": [
       "[WIP.Technology]"
      ]
     },
     "execution_count": 41,
     "metadata": {},
     "output_type": "execute_result"
    }
   ],
   "source": [
    "onto.PBN__Technology_2117.is_a"
   ]
  },
  {
   "cell_type": "code",
   "execution_count": 32,
   "metadata": {},
   "outputs": [
    {
     "data": {
      "text/plain": [
       "[['Hvac and ventilation systems',\n",
       "  'Natural ventilation systems',\n",
       "  'Inadequate natural ventilation in hospital and built environments',\n",
       "  'Lack of emphasis on air quality'],\n",
       " ['Hvac and ventilation systems',\n",
       "  'Natural ventilation systems',\n",
       "  'Open windows may lead to the uneven distribution of pollutants in a building, with some areas experiencing rapid reduction in pollutant concentration while others take longer to clear.',\n",
       "  'Air quality and pollution effects'],\n",
       " ['Hvac and ventilation systems',\n",
       "  'Natural ventilation systems',\n",
       "  'Decreased transmission during summer period by 22%',\n",
       "  'Climate change effects'],\n",
       " ['Hvac and ventilation systems',\n",
       "  'Natural ventilation systems',\n",
       "  'Human fear of infectious diseases has led to the emergence of artificial environments.',\n",
       "  'Health behaviors and compliance'],\n",
       " ['Hvac and ventilation systems',\n",
       "  'Natural ventilation systems',\n",
       "  'High scores for lighting and electricity domains, impacting energy efficiency and potential to reduce disease transmission',\n",
       "  'Energy consumption and sustainability issues']]"
      ]
     },
     "execution_count": 32,
     "metadata": {},
     "output_type": "execute_result"
    }
   ],
   "source": [
    "[[x[0].label[0],x[1].label[0],x[2].label[0],x[3].label[0]] for x in A]"
   ]
  },
  {
   "cell_type": "code",
   "execution_count": null,
   "metadata": {},
   "outputs": [
    {
     "data": {
      "text/plain": [
       "[[WIP.PBN__RiskGroup_4, WIP.PBN__Risk_2351, WIP.PBN__Technology_22],\n",
       " [WIP.PBN__RiskGroup_4, WIP.PBN__Risk_2132, WIP.PBN__Technology_22],\n",
       " [WIP.PBN__RiskGroup_4, WIP.PBN__Risk_1375, WIP.PBN__Technology_22],\n",
       " [WIP.PBN__RiskGroup_4, WIP.PBN__Risk_1143, WIP.PBN__Technology_22],\n",
       " [WIP.PBN__RiskGroup_4, WIP.PBN__Risk_2064, WIP.PBN__Technology_1575],\n",
       " [WIP.PBN__RiskGroup_4, WIP.PBN__Risk_2059, WIP.PBN__Technology_1568],\n",
       " [WIP.PBN__RiskGroup_4, WIP.PBN__Risk_2062, WIP.PBN__Technology_1573],\n",
       " [WIP.PBN__RiskGroup_4, WIP.PBN__Risk_47, WIP.PBN__Technology_99],\n",
       " [WIP.PBN__RiskGroup_4, WIP.PBN__Risk_3854, WIP.PBN__Technology_99],\n",
       " [WIP.PBN__RiskGroup_4, WIP.PBN__Risk_6599, WIP.PBN__Technology_277],\n",
       " [WIP.PBN__RiskGroup_4, WIP.PBN__Risk_10119, WIP.PBN__Technology_277],\n",
       " [WIP.PBN__RiskGroup_4, WIP.PBN__Risk_12628, WIP.PBN__Technology_277],\n",
       " [WIP.PBN__RiskGroup_4, WIP.PBN__Risk_14199, WIP.PBN__Technology_277],\n",
       " [WIP.PBN__RiskGroup_4, WIP.PBN__Risk_18191, WIP.PBN__Technology_277],\n",
       " [WIP.PBN__RiskGroup_4, WIP.PBN__Risk_7935, WIP.PBN__Technology_572],\n",
       " [WIP.PBN__RiskGroup_4, WIP.PBN__Risk_13640, WIP.PBN__Technology_488],\n",
       " [WIP.PBN__RiskGroup_4, WIP.PBN__Risk_19784, WIP.PBN__Technology_934],\n",
       " [WIP.PBN__RiskGroup_4, WIP.PBN__Risk_877, WIP.PBN__Technology_1540],\n",
       " [WIP.PBN__RiskGroup_4, WIP.PBN__Risk_2077, WIP.PBN__Technology_1540],\n",
       " [WIP.PBN__RiskGroup_4, WIP.PBN__Risk_3811, WIP.PBN__Technology_1540],\n",
       " [WIP.PBN__RiskGroup_4, WIP.PBN__Risk_3914, WIP.PBN__Technology_1540],\n",
       " [WIP.PBN__RiskGroup_4, WIP.PBN__Risk_4104, WIP.PBN__Technology_1540],\n",
       " [WIP.PBN__RiskGroup_4, WIP.PBN__Risk_4111, WIP.PBN__Technology_1540],\n",
       " [WIP.PBN__RiskGroup_4, WIP.PBN__Risk_4473, WIP.PBN__Technology_1540],\n",
       " [WIP.PBN__RiskGroup_4, WIP.PBN__Risk_4496, WIP.PBN__Technology_1540],\n",
       " [WIP.PBN__RiskGroup_4, WIP.PBN__Risk_6247, WIP.PBN__Technology_1540],\n",
       " [WIP.PBN__RiskGroup_4, WIP.PBN__Risk_6258, WIP.PBN__Technology_1540],\n",
       " [WIP.PBN__RiskGroup_4, WIP.PBN__Risk_6259, WIP.PBN__Technology_1540],\n",
       " [WIP.PBN__RiskGroup_4, WIP.PBN__Risk_6754, WIP.PBN__Technology_1540],\n",
       " [WIP.PBN__RiskGroup_4, WIP.PBN__Risk_11376, WIP.PBN__Technology_1540],\n",
       " [WIP.PBN__RiskGroup_4, WIP.PBN__Risk_11758, WIP.PBN__Technology_1540],\n",
       " [WIP.PBN__RiskGroup_4, WIP.PBN__Risk_13291, WIP.PBN__Technology_1540],\n",
       " [WIP.PBN__RiskGroup_4, WIP.PBN__Risk_14134, WIP.PBN__Technology_1540],\n",
       " [WIP.PBN__RiskGroup_4, WIP.PBN__Risk_14523, WIP.PBN__Technology_1540],\n",
       " [WIP.PBN__RiskGroup_4, WIP.PBN__Risk_14525, WIP.PBN__Technology_1540],\n",
       " [WIP.PBN__RiskGroup_4, WIP.PBN__Risk_15997, WIP.PBN__Technology_1540],\n",
       " [WIP.PBN__RiskGroup_4, WIP.PBN__Risk_16218, WIP.PBN__Technology_1540],\n",
       " [WIP.PBN__RiskGroup_4, WIP.PBN__Risk_17681, WIP.PBN__Technology_1540],\n",
       " [WIP.PBN__RiskGroup_4, WIP.PBN__Risk_18599, WIP.PBN__Technology_1540],\n",
       " [WIP.PBN__RiskGroup_4, WIP.PBN__Risk_1114, WIP.PBN__Technology_182],\n",
       " [WIP.PBN__RiskGroup_4, WIP.PBN__Risk_6943, WIP.PBN__Technology_182],\n",
       " [WIP.PBN__RiskGroup_4, WIP.PBN__Risk_13811, WIP.PBN__Technology_182],\n",
       " [WIP.PBN__RiskGroup_4, WIP.PBN__Risk_1523, WIP.PBN__Technology_822],\n",
       " [WIP.PBN__RiskGroup_4, WIP.PBN__Risk_16787, WIP.PBN__Technology_822],\n",
       " [WIP.PBN__RiskGroup_4, WIP.PBN__Risk_2142, WIP.PBN__Technology_1686],\n",
       " [WIP.PBN__RiskGroup_4, WIP.PBN__Risk_6655, WIP.PBN__Technology_1686],\n",
       " [WIP.PBN__RiskGroup_4, WIP.PBN__Risk_1224, WIP.PBN__Technology_314],\n",
       " [WIP.PBN__RiskGroup_4, WIP.PBN__Risk_4751, WIP.PBN__Technology_314],\n",
       " [WIP.PBN__RiskGroup_4, WIP.PBN__Risk_6655, WIP.PBN__Technology_314],\n",
       " [WIP.PBN__RiskGroup_4, WIP.PBN__Risk_7343, WIP.PBN__Technology_314],\n",
       " [WIP.PBN__RiskGroup_4, WIP.PBN__Risk_9452, WIP.PBN__Technology_314],\n",
       " [WIP.PBN__RiskGroup_4, WIP.PBN__Risk_9918, WIP.PBN__Technology_314],\n",
       " [WIP.PBN__RiskGroup_4, WIP.PBN__Risk_12071, WIP.PBN__Technology_314],\n",
       " [WIP.PBN__RiskGroup_4, WIP.PBN__Risk_12079, WIP.PBN__Technology_314],\n",
       " [WIP.PBN__RiskGroup_4, WIP.PBN__Risk_16391, WIP.PBN__Technology_314],\n",
       " [WIP.PBN__RiskGroup_4, WIP.PBN__Risk_18900, WIP.PBN__Technology_314],\n",
       " [WIP.PBN__RiskGroup_4, WIP.PBN__Risk_13466, WIP.PBN__Technology_769],\n",
       " [WIP.PBN__RiskGroup_4, WIP.PBN__Risk_3620, WIP.PBN__Technology_2336],\n",
       " [WIP.PBN__RiskGroup_4, WIP.PBN__Risk_4030, WIP.PBN__Technology_2336],\n",
       " [WIP.PBN__RiskGroup_4, WIP.PBN__Risk_10119, WIP.PBN__Technology_2336],\n",
       " [WIP.PBN__RiskGroup_4, WIP.PBN__Risk_10120, WIP.PBN__Technology_2336],\n",
       " [WIP.PBN__RiskGroup_4, WIP.PBN__Risk_13640, WIP.PBN__Technology_2336],\n",
       " [WIP.PBN__RiskGroup_4, WIP.PBN__Risk_14290, WIP.PBN__Technology_2336],\n",
       " [WIP.PBN__RiskGroup_4, WIP.PBN__Risk_18183, WIP.PBN__Technology_2336],\n",
       " [WIP.PBN__RiskGroup_4, WIP.PBN__Risk_14199, WIP.PBN__Technology_276],\n",
       " [WIP.PBN__RiskGroup_4, WIP.PBN__Risk_762, WIP.PBN__Technology_1709],\n",
       " [WIP.PBN__RiskGroup_4, WIP.PBN__Risk_5769, WIP.PBN__Technology_282],\n",
       " [WIP.PBN__RiskGroup_4, WIP.PBN__Risk_19657, WIP.PBN__Technology_282],\n",
       " [WIP.PBN__RiskGroup_4, WIP.PBN__Risk_14567, WIP.PBN__Technology_3238],\n",
       " [WIP.PBN__RiskGroup_4, WIP.PBN__Risk_11763, WIP.PBN__Technology_1711],\n",
       " [WIP.PBN__RiskGroup_4, WIP.PBN__Risk_7048, WIP.PBN__Technology_2401],\n",
       " [WIP.PBN__RiskGroup_4, WIP.PBN__Risk_10735, WIP.PBN__Technology_2401],\n",
       " [WIP.PBN__RiskGroup_4, WIP.PBN__Risk_7903, WIP.PBN__Technology_2717],\n",
       " [WIP.PBN__RiskGroup_4, WIP.PBN__Risk_1494, WIP.PBN__Technology_0],\n",
       " [WIP.PBN__RiskGroup_4, WIP.PBN__Risk_7947, WIP.PBN__Technology_1861],\n",
       " [WIP.PBN__RiskGroup_4, WIP.PBN__Risk_16420, WIP.PBN__Technology_96],\n",
       " [WIP.PBN__RiskGroup_4, WIP.PBN__Risk_1069, WIP.PBN__Technology_100],\n",
       " [WIP.PBN__RiskGroup_4, WIP.PBN__Risk_762, WIP.PBN__Technology_1708],\n",
       " [WIP.PBN__RiskGroup_4, WIP.PBN__Risk_20667, WIP.PBN__Technology_1708],\n",
       " [WIP.PBN__RiskGroup_4, WIP.PBN__Risk_17805, WIP.PBN__Technology_82],\n",
       " [WIP.PBN__RiskGroup_4, WIP.PBN__Risk_20744, WIP.PBN__Technology_82],\n",
       " [WIP.PBN__RiskGroup_4, WIP.PBN__Risk_4736, WIP.PBN__Technology_837],\n",
       " [WIP.PBN__RiskGroup_4, WIP.PBN__Risk_14564, WIP.PBN__Technology_168],\n",
       " [WIP.PBN__RiskGroup_4, WIP.PBN__Risk_2063, WIP.PBN__Technology_1574],\n",
       " [WIP.PBN__RiskGroup_4, WIP.PBN__Risk_2103, WIP.PBN__Technology_1634],\n",
       " [WIP.PBN__RiskGroup_4, WIP.PBN__Risk_4508, WIP.PBN__Technology_1634],\n",
       " [WIP.PBN__RiskGroup_4, WIP.PBN__Risk_6259, WIP.PBN__Technology_1634],\n",
       " [WIP.PBN__RiskGroup_4, WIP.PBN__Risk_6300, WIP.PBN__Technology_1634],\n",
       " [WIP.PBN__RiskGroup_4, WIP.PBN__Risk_6323, WIP.PBN__Technology_1634],\n",
       " [WIP.PBN__RiskGroup_4, WIP.PBN__Risk_8192, WIP.PBN__Technology_1634],\n",
       " [WIP.PBN__RiskGroup_4, WIP.PBN__Risk_14134, WIP.PBN__Technology_1634],\n",
       " [WIP.PBN__RiskGroup_4, WIP.PBN__Risk_14459, WIP.PBN__Technology_1634],\n",
       " [WIP.PBN__RiskGroup_4, WIP.PBN__Risk_15265, WIP.PBN__Technology_1634],\n",
       " [WIP.PBN__RiskGroup_4, WIP.PBN__Risk_16788, WIP.PBN__Technology_1634],\n",
       " [WIP.PBN__RiskGroup_4, WIP.PBN__Risk_18137, WIP.PBN__Technology_1634],\n",
       " [WIP.PBN__RiskGroup_4, WIP.PBN__Risk_18599, WIP.PBN__Technology_1634],\n",
       " [WIP.PBN__RiskGroup_4, WIP.PBN__Risk_1898, WIP.PBN__Technology_1314],\n",
       " [WIP.PBN__RiskGroup_4, WIP.PBN__Risk_47, WIP.PBN__Technology_164],\n",
       " [WIP.PBN__RiskGroup_4, WIP.PBN__Risk_3866, WIP.PBN__Technology_164],\n",
       " [WIP.PBN__RiskGroup_4, WIP.PBN__Risk_3872, WIP.PBN__Technology_164],\n",
       " [WIP.PBN__RiskGroup_4, WIP.PBN__Risk_4029, WIP.PBN__Technology_164],\n",
       " [WIP.PBN__RiskGroup_4, WIP.PBN__Risk_4475, WIP.PBN__Technology_164],\n",
       " [WIP.PBN__RiskGroup_4, WIP.PBN__Risk_4506, WIP.PBN__Technology_164],\n",
       " [WIP.PBN__RiskGroup_4, WIP.PBN__Risk_5414, WIP.PBN__Technology_164],\n",
       " [WIP.PBN__RiskGroup_4, WIP.PBN__Risk_6296, WIP.PBN__Technology_164],\n",
       " [WIP.PBN__RiskGroup_4, WIP.PBN__Risk_6299, WIP.PBN__Technology_164],\n",
       " [WIP.PBN__RiskGroup_4, WIP.PBN__Risk_6383, WIP.PBN__Technology_164],\n",
       " [WIP.PBN__RiskGroup_4, WIP.PBN__Risk_6797, WIP.PBN__Technology_164],\n",
       " [WIP.PBN__RiskGroup_4, WIP.PBN__Risk_6815, WIP.PBN__Technology_164],\n",
       " [WIP.PBN__RiskGroup_4, WIP.PBN__Risk_6943, WIP.PBN__Technology_164],\n",
       " [WIP.PBN__RiskGroup_4, WIP.PBN__Risk_7928, WIP.PBN__Technology_164],\n",
       " [WIP.PBN__RiskGroup_4, WIP.PBN__Risk_8980, WIP.PBN__Technology_164],\n",
       " [WIP.PBN__RiskGroup_4, WIP.PBN__Risk_12109, WIP.PBN__Technology_164],\n",
       " [WIP.PBN__RiskGroup_4, WIP.PBN__Risk_12111, WIP.PBN__Technology_164],\n",
       " [WIP.PBN__RiskGroup_4, WIP.PBN__Risk_12723, WIP.PBN__Technology_164],\n",
       " [WIP.PBN__RiskGroup_4, WIP.PBN__Risk_13291, WIP.PBN__Technology_164],\n",
       " [WIP.PBN__RiskGroup_4, WIP.PBN__Risk_13778, WIP.PBN__Technology_164],\n",
       " [WIP.PBN__RiskGroup_4, WIP.PBN__Risk_13783, WIP.PBN__Technology_164],\n",
       " [WIP.PBN__RiskGroup_4, WIP.PBN__Risk_14453, WIP.PBN__Technology_164],\n",
       " [WIP.PBN__RiskGroup_4, WIP.PBN__Risk_15942, WIP.PBN__Technology_164],\n",
       " [WIP.PBN__RiskGroup_4, WIP.PBN__Risk_16007, WIP.PBN__Technology_164],\n",
       " [WIP.PBN__RiskGroup_4, WIP.PBN__Risk_17804, WIP.PBN__Technology_164],\n",
       " [WIP.PBN__RiskGroup_4, WIP.PBN__Risk_18148, WIP.PBN__Technology_164],\n",
       " [WIP.PBN__RiskGroup_4, WIP.PBN__Risk_18196, WIP.PBN__Technology_164],\n",
       " [WIP.PBN__RiskGroup_4, WIP.PBN__Risk_18488, WIP.PBN__Technology_164],\n",
       " [WIP.PBN__RiskGroup_4, WIP.PBN__Risk_18602, WIP.PBN__Technology_164],\n",
       " [WIP.PBN__RiskGroup_4, WIP.PBN__Risk_19009, WIP.PBN__Technology_164],\n",
       " [WIP.PBN__RiskGroup_4, WIP.PBN__Risk_20046, WIP.PBN__Technology_164],\n",
       " [WIP.PBN__RiskGroup_4, WIP.PBN__Risk_20771, WIP.PBN__Technology_164],\n",
       " [WIP.PBN__RiskGroup_4, WIP.PBN__Risk_1697, WIP.PBN__Technology_1069],\n",
       " [WIP.PBN__RiskGroup_4, WIP.PBN__Risk_1362, WIP.PBN__Technology_1069],\n",
       " [WIP.PBN__RiskGroup_4, WIP.PBN__Risk_6395, WIP.PBN__Technology_1069],\n",
       " [WIP.PBN__RiskGroup_4, WIP.PBN__Risk_2077, WIP.PBN__Technology_577],\n",
       " [WIP.PBN__RiskGroup_4, WIP.PBN__Risk_8918, WIP.PBN__Technology_1328],\n",
       " [WIP.PBN__RiskGroup_4, WIP.PBN__Risk_7700, WIP.PBN__Technology_2587],\n",
       " [WIP.PBN__RiskGroup_4, WIP.PBN__Risk_11553, WIP.PBN__Technology_2555],\n",
       " [WIP.PBN__RiskGroup_4, WIP.PBN__Risk_13465, WIP.PBN__Technology_2555],\n",
       " [WIP.PBN__RiskGroup_4, WIP.PBN__Risk_16071, WIP.PBN__Technology_2555],\n",
       " [WIP.PBN__RiskGroup_4, WIP.PBN__Risk_16072, WIP.PBN__Technology_2555],\n",
       " [WIP.PBN__RiskGroup_4, WIP.PBN__Risk_19531, WIP.PBN__Technology_2555],\n",
       " [WIP.PBN__RiskGroup_4, WIP.PBN__Risk_2104, WIP.PBN__Technology_1635],\n",
       " [WIP.PBN__RiskGroup_4, WIP.PBN__Risk_7343, WIP.PBN__Technology_1635],\n",
       " [WIP.PBN__RiskGroup_4, WIP.PBN__Risk_13575, WIP.PBN__Technology_1635],\n",
       " [WIP.PBN__RiskGroup_4, WIP.PBN__Risk_3455, WIP.PBN__Technology_3765],\n",
       " [WIP.PBN__RiskGroup_4, WIP.PBN__Risk_16115, WIP.PBN__Technology_3765],\n",
       " [WIP.PBN__RiskGroup_4, WIP.PBN__Risk_1352, WIP.PBN__Technology_563],\n",
       " [WIP.PBN__RiskGroup_4, WIP.PBN__Risk_1844, WIP.PBN__Technology_7],\n",
       " [WIP.PBN__RiskGroup_4, WIP.PBN__Risk_1506, WIP.PBN__Technology_7],\n",
       " [WIP.PBN__RiskGroup_4, WIP.PBN__Risk_6531, WIP.PBN__Technology_7],\n",
       " [WIP.PBN__RiskGroup_4, WIP.PBN__Risk_19675, WIP.PBN__Technology_1976],\n",
       " [WIP.PBN__RiskGroup_4, WIP.PBN__Risk_47, WIP.PBN__Technology_315],\n",
       " [WIP.PBN__RiskGroup_4, WIP.PBN__Risk_1767, WIP.PBN__Technology_315],\n",
       " [WIP.PBN__RiskGroup_4, WIP.PBN__Risk_3437, WIP.PBN__Technology_315],\n",
       " [WIP.PBN__RiskGroup_4, WIP.PBN__Risk_4475, WIP.PBN__Technology_315],\n",
       " [WIP.PBN__RiskGroup_4, WIP.PBN__Risk_4725, WIP.PBN__Technology_315],\n",
       " [WIP.PBN__RiskGroup_4, WIP.PBN__Risk_6059, WIP.PBN__Technology_315],\n",
       " [WIP.PBN__RiskGroup_4, WIP.PBN__Risk_6072, WIP.PBN__Technology_315],\n",
       " [WIP.PBN__RiskGroup_4, WIP.PBN__Risk_6763, WIP.PBN__Technology_315],\n",
       " [WIP.PBN__RiskGroup_4, WIP.PBN__Risk_7041, WIP.PBN__Technology_315],\n",
       " [WIP.PBN__RiskGroup_4, WIP.PBN__Risk_7056, WIP.PBN__Technology_315],\n",
       " [WIP.PBN__RiskGroup_4, WIP.PBN__Risk_8980, WIP.PBN__Technology_315],\n",
       " [WIP.PBN__RiskGroup_4, WIP.PBN__Risk_12532, WIP.PBN__Technology_315],\n",
       " [WIP.PBN__RiskGroup_4, WIP.PBN__Risk_12572, WIP.PBN__Technology_315],\n",
       " [WIP.PBN__RiskGroup_4, WIP.PBN__Risk_12631, WIP.PBN__Technology_315],\n",
       " [WIP.PBN__RiskGroup_4, WIP.PBN__Risk_12723, WIP.PBN__Technology_315],\n",
       " [WIP.PBN__RiskGroup_4, WIP.PBN__Risk_13498, WIP.PBN__Technology_315],\n",
       " [WIP.PBN__RiskGroup_4, WIP.PBN__Risk_13778, WIP.PBN__Technology_315],\n",
       " [WIP.PBN__RiskGroup_4, WIP.PBN__Risk_13783, WIP.PBN__Technology_315],\n",
       " [WIP.PBN__RiskGroup_4, WIP.PBN__Risk_14174, WIP.PBN__Technology_315],\n",
       " [WIP.PBN__RiskGroup_4, WIP.PBN__Risk_14226, WIP.PBN__Technology_315],\n",
       " [WIP.PBN__RiskGroup_4, WIP.PBN__Risk_14501, WIP.PBN__Technology_315],\n",
       " [WIP.PBN__RiskGroup_4, WIP.PBN__Risk_15282, WIP.PBN__Technology_315],\n",
       " [WIP.PBN__RiskGroup_4, WIP.PBN__Risk_15289, WIP.PBN__Technology_315],\n",
       " [WIP.PBN__RiskGroup_4, WIP.PBN__Risk_16080, WIP.PBN__Technology_315],\n",
       " [WIP.PBN__RiskGroup_4, WIP.PBN__Risk_16406, WIP.PBN__Technology_315],\n",
       " [WIP.PBN__RiskGroup_4, WIP.PBN__Risk_16412, WIP.PBN__Technology_315],\n",
       " [WIP.PBN__RiskGroup_4, WIP.PBN__Risk_16781, WIP.PBN__Technology_315],\n",
       " [WIP.PBN__RiskGroup_4, WIP.PBN__Risk_17817, WIP.PBN__Technology_315],\n",
       " [WIP.PBN__RiskGroup_4, WIP.PBN__Risk_18584, WIP.PBN__Technology_315],\n",
       " [WIP.PBN__RiskGroup_4, WIP.PBN__Risk_20771, WIP.PBN__Technology_315],\n",
       " [WIP.PBN__RiskGroup_4, WIP.PBN__Risk_1097, WIP.PBN__Technology_151],\n",
       " [WIP.PBN__RiskGroup_4, WIP.PBN__Risk_2204, WIP.PBN__Technology_135],\n",
       " [WIP.PBN__RiskGroup_4, WIP.PBN__Risk_15944, WIP.PBN__Technology_135],\n",
       " [WIP.PBN__RiskGroup_4, WIP.PBN__Risk_2217, WIP.PBN__Technology_1812],\n",
       " [WIP.PBN__RiskGroup_4, WIP.PBN__Risk_10242, WIP.PBN__Technology_200],\n",
       " [WIP.PBN__RiskGroup_4, WIP.PBN__Risk_10150, WIP.PBN__Technology_2540],\n",
       " [WIP.PBN__RiskGroup_4, WIP.PBN__Risk_16391, WIP.PBN__Technology_2540],\n",
       " [WIP.PBN__RiskGroup_4, WIP.PBN__Risk_3627, WIP.PBN__Technology_3550],\n",
       " [WIP.PBN__RiskGroup_4, WIP.PBN__Risk_6812, WIP.PBN__Technology_3550],\n",
       " [WIP.PBN__RiskGroup_4, WIP.PBN__Risk_13772, WIP.PBN__Technology_3550],\n",
       " [WIP.PBN__RiskGroup_4, WIP.PBN__Risk_18505, WIP.PBN__Technology_3550],\n",
       " [WIP.PBN__RiskGroup_4, WIP.PBN__Risk_5910, WIP.PBN__Technology_1144],\n",
       " [WIP.PBN__RiskGroup_4, WIP.PBN__Risk_19996, WIP.PBN__Technology_3017],\n",
       " [WIP.PBN__RiskGroup_4, WIP.PBN__Risk_9955, WIP.PBN__Technology_2901],\n",
       " [WIP.PBN__RiskGroup_4, WIP.PBN__Risk_5930, WIP.PBN__Technology_1301],\n",
       " [WIP.PBN__RiskGroup_4, WIP.PBN__Risk_2142, WIP.PBN__Technology_1684],\n",
       " [WIP.PBN__RiskGroup_4, WIP.PBN__Risk_7063, WIP.PBN__Technology_1576],\n",
       " [WIP.PBN__RiskGroup_4, WIP.PBN__Risk_9438, WIP.PBN__Technology_1576],\n",
       " [WIP.PBN__RiskGroup_4, WIP.PBN__Risk_14170, WIP.PBN__Technology_1576],\n",
       " [WIP.PBN__RiskGroup_4, WIP.PBN__Risk_14570, WIP.PBN__Technology_1576],\n",
       " [WIP.PBN__RiskGroup_4, WIP.PBN__Risk_15948, WIP.PBN__Technology_1576],\n",
       " [WIP.PBN__RiskGroup_4, WIP.PBN__Risk_1096, WIP.PBN__Technology_150],\n",
       " [WIP.PBN__RiskGroup_4, WIP.PBN__Risk_3964, WIP.PBN__Technology_150],\n",
       " [WIP.PBN__RiskGroup_4, WIP.PBN__Risk_4489, WIP.PBN__Technology_150],\n",
       " [WIP.PBN__RiskGroup_4, WIP.PBN__Risk_4715, WIP.PBN__Technology_150],\n",
       " [WIP.PBN__RiskGroup_4, WIP.PBN__Risk_5770, WIP.PBN__Technology_150],\n",
       " [WIP.PBN__RiskGroup_4, WIP.PBN__Risk_6301, WIP.PBN__Technology_150],\n",
       " [WIP.PBN__RiskGroup_4, WIP.PBN__Risk_7038, WIP.PBN__Technology_150],\n",
       " [WIP.PBN__RiskGroup_4, WIP.PBN__Risk_7052, WIP.PBN__Technology_150],\n",
       " [WIP.PBN__RiskGroup_4, WIP.PBN__Risk_7288, WIP.PBN__Technology_150],\n",
       " [WIP.PBN__RiskGroup_4, WIP.PBN__Risk_12081, WIP.PBN__Technology_150],\n",
       " [WIP.PBN__RiskGroup_4, WIP.PBN__Risk_13590, WIP.PBN__Technology_150],\n",
       " [WIP.PBN__RiskGroup_4, WIP.PBN__Risk_14155, WIP.PBN__Technology_150],\n",
       " [WIP.PBN__RiskGroup_4, WIP.PBN__Risk_14174, WIP.PBN__Technology_150],\n",
       " [WIP.PBN__RiskGroup_4, WIP.PBN__Risk_14226, WIP.PBN__Technology_150],\n",
       " [WIP.PBN__RiskGroup_4, WIP.PBN__Risk_14324, WIP.PBN__Technology_150],\n",
       " [WIP.PBN__RiskGroup_4, WIP.PBN__Risk_14505, WIP.PBN__Technology_150],\n",
       " [WIP.PBN__RiskGroup_4, WIP.PBN__Risk_14719, WIP.PBN__Technology_150],\n",
       " [WIP.PBN__RiskGroup_4, WIP.PBN__Risk_15717, WIP.PBN__Technology_150],\n",
       " [WIP.PBN__RiskGroup_4, WIP.PBN__Risk_15945, WIP.PBN__Technology_150],\n",
       " [WIP.PBN__RiskGroup_4, WIP.PBN__Risk_17817, WIP.PBN__Technology_150],\n",
       " [WIP.PBN__RiskGroup_4, WIP.PBN__Risk_18907, WIP.PBN__Technology_150],\n",
       " [WIP.PBN__RiskGroup_4, WIP.PBN__Risk_1228, WIP.PBN__Technology_327],\n",
       " [WIP.PBN__RiskGroup_4, WIP.PBN__Risk_3859, WIP.PBN__Technology_327],\n",
       " [WIP.PBN__RiskGroup_4, WIP.PBN__Risk_19746, WIP.PBN__Technology_327],\n",
       " [WIP.PBN__RiskGroup_4, WIP.PBN__Risk_1362, WIP.PBN__Technology_575],\n",
       " [WIP.PBN__RiskGroup_4, WIP.PBN__Risk_877, WIP.PBN__Technology_1592],\n",
       " [WIP.PBN__RiskGroup_4, WIP.PBN__Risk_5910, WIP.PBN__Technology_67],\n",
       " [WIP.PBN__RiskGroup_4, WIP.PBN__Risk_16389, WIP.PBN__Technology_11],\n",
       " [WIP.PBN__RiskGroup_4, WIP.PBN__Risk_25, WIP.PBN__Technology_211],\n",
       " [WIP.PBN__RiskGroup_4, WIP.PBN__Risk_2042, WIP.PBN__Technology_211],\n",
       " [WIP.PBN__RiskGroup_4, WIP.PBN__Risk_47, WIP.PBN__Technology_211],\n",
       " [WIP.PBN__RiskGroup_4, WIP.PBN__Risk_4029, WIP.PBN__Technology_211],\n",
       " [WIP.PBN__RiskGroup_4, WIP.PBN__Risk_4476, WIP.PBN__Technology_211],\n",
       " [WIP.PBN__RiskGroup_4, WIP.PBN__Risk_6323, WIP.PBN__Technology_211],\n",
       " [WIP.PBN__RiskGroup_4, WIP.PBN__Risk_6740, WIP.PBN__Technology_211],\n",
       " [WIP.PBN__RiskGroup_4, WIP.PBN__Risk_13290, WIP.PBN__Technology_211],\n",
       " [WIP.PBN__RiskGroup_4, WIP.PBN__Risk_14174, WIP.PBN__Technology_211],\n",
       " [WIP.PBN__RiskGroup_4, WIP.PBN__Risk_16412, WIP.PBN__Technology_211],\n",
       " [WIP.PBN__RiskGroup_4, WIP.PBN__Risk_18479, WIP.PBN__Technology_211],\n",
       " [WIP.PBN__RiskGroup_4, WIP.PBN__Risk_18584, WIP.PBN__Technology_211],\n",
       " [WIP.PBN__RiskGroup_4, WIP.PBN__Risk_18585, WIP.PBN__Technology_211],\n",
       " [WIP.PBN__RiskGroup_4, WIP.PBN__Risk_10456, WIP.PBN__Technology_356],\n",
       " [WIP.PBN__RiskGroup_4, WIP.PBN__Risk_14290, WIP.PBN__Technology_356],\n",
       " [WIP.PBN__RiskGroup_4, WIP.PBN__Risk_15362, WIP.PBN__Technology_356],\n",
       " [WIP.PBN__RiskGroup_4, WIP.PBN__Risk_2308, WIP.PBN__Technology_1683],\n",
       " [WIP.PBN__RiskGroup_4, WIP.PBN__Risk_17461, WIP.PBN__Technology_1080],\n",
       " [WIP.PBN__RiskGroup_4, WIP.PBN__Risk_20813, WIP.PBN__Technology_565],\n",
       " [WIP.PBN__RiskGroup_4, WIP.PBN__Risk_2070, WIP.PBN__Technology_278],\n",
       " [WIP.PBN__RiskGroup_4, WIP.PBN__Risk_6599, WIP.PBN__Technology_278],\n",
       " [WIP.PBN__RiskGroup_4, WIP.PBN__Risk_18183, WIP.PBN__Technology_278],\n",
       " [WIP.PBN__RiskGroup_4, WIP.PBN__Risk_19045, WIP.PBN__Technology_278],\n",
       " [WIP.PBN__RiskGroup_4, WIP.PBN__Risk_1898, WIP.PBN__Technology_1312],\n",
       " [WIP.PBN__RiskGroup_4, WIP.PBN__Risk_1097, WIP.PBN__Technology_152],\n",
       " [WIP.PBN__RiskGroup_4, WIP.PBN__Risk_3840, WIP.PBN__Technology_152],\n",
       " [WIP.PBN__RiskGroup_4, WIP.PBN__Risk_4826, WIP.PBN__Technology_152],\n",
       " [WIP.PBN__RiskGroup_4, WIP.PBN__Risk_6518, WIP.PBN__Technology_152],\n",
       " [WIP.PBN__RiskGroup_4, WIP.PBN__Risk_7945, WIP.PBN__Technology_152],\n",
       " [WIP.PBN__RiskGroup_4, WIP.PBN__Risk_20674, WIP.PBN__Technology_152],\n",
       " [WIP.PBN__RiskGroup_4, WIP.PBN__Risk_18881, WIP.PBN__Technology_131],\n",
       " [WIP.PBN__RiskGroup_4, WIP.PBN__Risk_20047, WIP.PBN__Technology_125],\n",
       " [WIP.PBN__RiskGroup_4, WIP.PBN__Risk_3885, WIP.PBN__Technology_1130],\n",
       " [WIP.PBN__RiskGroup_4, WIP.PBN__Risk_4736, WIP.PBN__Technology_2435],\n",
       " [WIP.PBN__RiskGroup_4, WIP.PBN__Risk_2070, WIP.PBN__Technology_1579],\n",
       " [WIP.PBN__RiskGroup_4, WIP.PBN__Risk_25, WIP.PBN__Technology_95],\n",
       " [WIP.PBN__RiskGroup_4, WIP.PBN__Risk_810, WIP.PBN__Technology_95],\n",
       " [WIP.PBN__RiskGroup_4, WIP.PBN__Risk_3835, WIP.PBN__Technology_95],\n",
       " [WIP.PBN__RiskGroup_4, WIP.PBN__Risk_5078, WIP.PBN__Technology_143],\n",
       " [WIP.PBN__RiskGroup_4, WIP.PBN__Risk_11202, WIP.PBN__Technology_143],\n",
       " [WIP.PBN__RiskGroup_4, WIP.PBN__Risk_19428, WIP.PBN__Technology_143],\n",
       " [WIP.PBN__RiskGroup_4, WIP.PBN__Risk_3625, WIP.PBN__Technology_1341],\n",
       " [WIP.PBN__RiskGroup_4, WIP.PBN__Risk_1303, WIP.PBN__Technology_465],\n",
       " [WIP.PBN__RiskGroup_4, WIP.PBN__Risk_14507, WIP.PBN__Technology_74],\n",
       " [WIP.PBN__RiskGroup_4, WIP.PBN__Risk_6521, WIP.PBN__Technology_2041],\n",
       " [WIP.PBN__RiskGroup_4, WIP.PBN__Risk_14222, WIP.PBN__Technology_2041],\n",
       " [WIP.PBN__RiskGroup_4, WIP.PBN__Risk_15362, WIP.PBN__Technology_2041],\n",
       " [WIP.PBN__RiskGroup_4, WIP.PBN__Risk_19399, WIP.PBN__Technology_2041],\n",
       " [WIP.PBN__RiskGroup_4, WIP.PBN__Risk_10456, WIP.PBN__Technology_3216],\n",
       " [WIP.PBN__RiskGroup_4, WIP.PBN__Risk_6979, WIP.PBN__Technology_3299],\n",
       " [WIP.PBN__RiskGroup_4, WIP.PBN__Risk_5078, WIP.PBN__Technology_426],\n",
       " [WIP.PBN__RiskGroup_4, WIP.PBN__Risk_20813, WIP.PBN__Technology_426],\n",
       " [WIP.PBN__RiskGroup_4, WIP.PBN__Risk_6917, WIP.PBN__Technology_1698],\n",
       " [WIP.PBN__RiskGroup_4, WIP.PBN__Risk_16064, WIP.PBN__Technology_3158],\n",
       " [WIP.PBN__RiskGroup_4, WIP.PBN__Risk_8918, WIP.PBN__Technology_787],\n",
       " [WIP.PBN__RiskGroup_4, WIP.PBN__Risk_2308, WIP.PBN__Technology_1928],\n",
       " [WIP.PBN__RiskGroup_4, WIP.PBN__Risk_6052, WIP.PBN__Technology_3690],\n",
       " [WIP.PBN__RiskGroup_4, WIP.PBN__Risk_17752, WIP.PBN__Technology_1532],\n",
       " [WIP.PBN__RiskGroup_4, WIP.PBN__Risk_25, WIP.PBN__Technology_94],\n",
       " [WIP.PBN__RiskGroup_4, WIP.PBN__Risk_2070, WIP.PBN__Technology_94],\n",
       " [WIP.PBN__RiskGroup_4, WIP.PBN__Risk_810, WIP.PBN__Technology_94],\n",
       " [WIP.PBN__RiskGroup_4, WIP.PBN__Risk_47, WIP.PBN__Technology_94],\n",
       " [WIP.PBN__RiskGroup_4, WIP.PBN__Risk_3811, WIP.PBN__Technology_94],\n",
       " [WIP.PBN__RiskGroup_4, WIP.PBN__Risk_3835, WIP.PBN__Technology_94],\n",
       " [WIP.PBN__RiskGroup_4, WIP.PBN__Risk_4463, WIP.PBN__Technology_94],\n",
       " [WIP.PBN__RiskGroup_4, WIP.PBN__Risk_4473, WIP.PBN__Technology_94],\n",
       " [WIP.PBN__RiskGroup_4, WIP.PBN__Risk_5787, WIP.PBN__Technology_94],\n",
       " [WIP.PBN__RiskGroup_4, WIP.PBN__Risk_6072, WIP.PBN__Technology_94],\n",
       " [WIP.PBN__RiskGroup_4, WIP.PBN__Risk_6258, WIP.PBN__Technology_94],\n",
       " [WIP.PBN__RiskGroup_4, WIP.PBN__Risk_6599, WIP.PBN__Technology_94],\n",
       " [WIP.PBN__RiskGroup_4, WIP.PBN__Risk_6737, WIP.PBN__Technology_94],\n",
       " [WIP.PBN__RiskGroup_4, WIP.PBN__Risk_7052, WIP.PBN__Technology_94],\n",
       " [WIP.PBN__RiskGroup_4, WIP.PBN__Risk_7056, WIP.PBN__Technology_94],\n",
       " [WIP.PBN__RiskGroup_4, WIP.PBN__Risk_7062, WIP.PBN__Technology_94],\n",
       " [WIP.PBN__RiskGroup_4, WIP.PBN__Risk_12532, WIP.PBN__Technology_94],\n",
       " [WIP.PBN__RiskGroup_4, WIP.PBN__Risk_12628, WIP.PBN__Technology_94],\n",
       " [WIP.PBN__RiskGroup_4, WIP.PBN__Risk_13592, WIP.PBN__Technology_94],\n",
       " [WIP.PBN__RiskGroup_4, WIP.PBN__Risk_13769, WIP.PBN__Technology_94],\n",
       " [WIP.PBN__RiskGroup_4, WIP.PBN__Risk_13778, WIP.PBN__Technology_94],\n",
       " [WIP.PBN__RiskGroup_4, WIP.PBN__Risk_14168, WIP.PBN__Technology_94],\n",
       " [WIP.PBN__RiskGroup_4, WIP.PBN__Risk_14226, WIP.PBN__Technology_94],\n",
       " [WIP.PBN__RiskGroup_4, WIP.PBN__Risk_14505, WIP.PBN__Technology_94],\n",
       " [WIP.PBN__RiskGroup_4, WIP.PBN__Risk_14506, WIP.PBN__Technology_94],\n",
       " [WIP.PBN__RiskGroup_4, WIP.PBN__Risk_14507, WIP.PBN__Technology_94],\n",
       " [WIP.PBN__RiskGroup_4, WIP.PBN__Risk_14508, WIP.PBN__Technology_94],\n",
       " [WIP.PBN__RiskGroup_4, WIP.PBN__Risk_14726, WIP.PBN__Technology_94],\n",
       " [WIP.PBN__RiskGroup_4, WIP.PBN__Risk_18136, WIP.PBN__Technology_94],\n",
       " [WIP.PBN__RiskGroup_4, WIP.PBN__Risk_18484, WIP.PBN__Technology_94],\n",
       " [WIP.PBN__RiskGroup_4, WIP.PBN__Risk_18489, WIP.PBN__Technology_94],\n",
       " [WIP.PBN__RiskGroup_4, WIP.PBN__Risk_12081, WIP.PBN__Technology_397],\n",
       " [WIP.PBN__RiskGroup_4, WIP.PBN__Risk_1663, WIP.PBN__Technology_119],\n",
       " [WIP.PBN__RiskGroup_4, WIP.PBN__Risk_2103, WIP.PBN__Technology_97],\n",
       " [WIP.PBN__RiskGroup_4, WIP.PBN__Risk_2070, WIP.PBN__Technology_97],\n",
       " [WIP.PBN__RiskGroup_4, WIP.PBN__Risk_1096, WIP.PBN__Technology_97],\n",
       " [WIP.PBN__RiskGroup_4, WIP.PBN__Risk_47, WIP.PBN__Technology_97],\n",
       " [WIP.PBN__RiskGroup_4, WIP.PBN__Risk_1362, WIP.PBN__Technology_97],\n",
       " [WIP.PBN__RiskGroup_4, WIP.PBN__Risk_2257, WIP.PBN__Technology_97],\n",
       " [WIP.PBN__RiskGroup_4, WIP.PBN__Risk_1228, WIP.PBN__Technology_97],\n",
       " [WIP.PBN__RiskGroup_4, WIP.PBN__Risk_3854, WIP.PBN__Technology_97],\n",
       " [WIP.PBN__RiskGroup_4, WIP.PBN__Risk_4166, WIP.PBN__Technology_97],\n",
       " [WIP.PBN__RiskGroup_4, WIP.PBN__Risk_4463, WIP.PBN__Technology_97],\n",
       " [WIP.PBN__RiskGroup_4, WIP.PBN__Risk_4752, WIP.PBN__Technology_97],\n",
       " [WIP.PBN__RiskGroup_4, WIP.PBN__Risk_6343, WIP.PBN__Technology_97],\n",
       " [WIP.PBN__RiskGroup_4, WIP.PBN__Risk_6438, WIP.PBN__Technology_97],\n",
       " [WIP.PBN__RiskGroup_4, WIP.PBN__Risk_6661, WIP.PBN__Technology_97],\n",
       " [WIP.PBN__RiskGroup_4, WIP.PBN__Risk_6737, WIP.PBN__Technology_97],\n",
       " [WIP.PBN__RiskGroup_4, WIP.PBN__Risk_7034, WIP.PBN__Technology_97],\n",
       " [WIP.PBN__RiskGroup_4, WIP.PBN__Risk_7052, WIP.PBN__Technology_97],\n",
       " [WIP.PBN__RiskGroup_4, WIP.PBN__Risk_7059, WIP.PBN__Technology_97],\n",
       " [WIP.PBN__RiskGroup_4, WIP.PBN__Risk_7063, WIP.PBN__Technology_97],\n",
       " [WIP.PBN__RiskGroup_4, WIP.PBN__Risk_9438, WIP.PBN__Technology_97],\n",
       " [WIP.PBN__RiskGroup_4, WIP.PBN__Risk_9540, WIP.PBN__Technology_97],\n",
       " [WIP.PBN__RiskGroup_4, WIP.PBN__Risk_11309, WIP.PBN__Technology_97],\n",
       " [WIP.PBN__RiskGroup_4, WIP.PBN__Risk_11310, WIP.PBN__Technology_97],\n",
       " [WIP.PBN__RiskGroup_4, WIP.PBN__Risk_11835, WIP.PBN__Technology_97],\n",
       " [WIP.PBN__RiskGroup_4, WIP.PBN__Risk_12081, WIP.PBN__Technology_97],\n",
       " [WIP.PBN__RiskGroup_4, WIP.PBN__Risk_12550, WIP.PBN__Technology_97],\n",
       " [WIP.PBN__RiskGroup_4, WIP.PBN__Risk_12570, WIP.PBN__Technology_97],\n",
       " [WIP.PBN__RiskGroup_4, WIP.PBN__Risk_12952, WIP.PBN__Technology_97],\n",
       " [WIP.PBN__RiskGroup_4, WIP.PBN__Risk_13497, WIP.PBN__Technology_97],\n",
       " [WIP.PBN__RiskGroup_4, WIP.PBN__Risk_13592, WIP.PBN__Technology_97],\n",
       " [WIP.PBN__RiskGroup_4, WIP.PBN__Risk_13769, WIP.PBN__Technology_97],\n",
       " [WIP.PBN__RiskGroup_4, WIP.PBN__Risk_13772, WIP.PBN__Technology_97],\n",
       " [WIP.PBN__RiskGroup_4, WIP.PBN__Risk_13776, WIP.PBN__Technology_97],\n",
       " [WIP.PBN__RiskGroup_4, WIP.PBN__Risk_14131, WIP.PBN__Technology_97],\n",
       " [WIP.PBN__RiskGroup_4, WIP.PBN__Risk_14167, WIP.PBN__Technology_97],\n",
       " [WIP.PBN__RiskGroup_4, WIP.PBN__Risk_14168, WIP.PBN__Technology_97],\n",
       " [WIP.PBN__RiskGroup_4, WIP.PBN__Risk_14170, WIP.PBN__Technology_97],\n",
       " [WIP.PBN__RiskGroup_4, WIP.PBN__Risk_14223, WIP.PBN__Technology_97],\n",
       " [WIP.PBN__RiskGroup_4, WIP.PBN__Risk_14505, WIP.PBN__Technology_97],\n",
       " [WIP.PBN__RiskGroup_4, WIP.PBN__Risk_14673, WIP.PBN__Technology_97],\n",
       " [WIP.PBN__RiskGroup_4, WIP.PBN__Risk_14698, WIP.PBN__Technology_97],\n",
       " [WIP.PBN__RiskGroup_4, WIP.PBN__Risk_14711, WIP.PBN__Technology_97],\n",
       " [WIP.PBN__RiskGroup_4, WIP.PBN__Risk_14726, WIP.PBN__Technology_97],\n",
       " [WIP.PBN__RiskGroup_4, WIP.PBN__Risk_15263, WIP.PBN__Technology_97],\n",
       " [WIP.PBN__RiskGroup_4, WIP.PBN__Risk_15265, WIP.PBN__Technology_97],\n",
       " [WIP.PBN__RiskGroup_4, WIP.PBN__Risk_15727, WIP.PBN__Technology_97],\n",
       " [WIP.PBN__RiskGroup_4, WIP.PBN__Risk_15910, WIP.PBN__Technology_97],\n",
       " [WIP.PBN__RiskGroup_4, WIP.PBN__Risk_15914, WIP.PBN__Technology_97],\n",
       " [WIP.PBN__RiskGroup_4, WIP.PBN__Risk_15918, WIP.PBN__Technology_97],\n",
       " [WIP.PBN__RiskGroup_4, WIP.PBN__Risk_15952, WIP.PBN__Technology_97],\n",
       " [WIP.PBN__RiskGroup_4, WIP.PBN__Risk_16078, WIP.PBN__Technology_97],\n",
       " [WIP.PBN__RiskGroup_4, WIP.PBN__Risk_16154, WIP.PBN__Technology_97],\n",
       " [WIP.PBN__RiskGroup_4, WIP.PBN__Risk_16193, WIP.PBN__Technology_97],\n",
       " [WIP.PBN__RiskGroup_4, WIP.PBN__Risk_16614, WIP.PBN__Technology_97],\n",
       " [WIP.PBN__RiskGroup_4, WIP.PBN__Risk_18196, WIP.PBN__Technology_97],\n",
       " [WIP.PBN__RiskGroup_4, WIP.PBN__Risk_18583, WIP.PBN__Technology_97],\n",
       " [WIP.PBN__RiskGroup_4, WIP.PBN__Risk_18895, WIP.PBN__Technology_97],\n",
       " [WIP.PBN__RiskGroup_4, WIP.PBN__Risk_19077, WIP.PBN__Technology_97],\n",
       " [WIP.PBN__RiskGroup_4, WIP.PBN__Risk_20079, WIP.PBN__Technology_97],\n",
       " [WIP.PBN__RiskGroup_4, WIP.PBN__Risk_20366, WIP.PBN__Technology_97],\n",
       " [WIP.PBN__RiskGroup_4, WIP.PBN__Risk_20756, WIP.PBN__Technology_97],\n",
       " [WIP.PBN__RiskGroup_4, WIP.PBN__Risk_7048, WIP.PBN__Technology_1232],\n",
       " [WIP.PBN__RiskGroup_4, WIP.PBN__Risk_7052, WIP.PBN__Technology_1232],\n",
       " [WIP.PBN__RiskGroup_4, WIP.PBN__Risk_7062, WIP.PBN__Technology_1232],\n",
       " [WIP.PBN__RiskGroup_4, WIP.PBN__Risk_18895, WIP.PBN__Technology_3792],\n",
       " [WIP.PBN__RiskGroup_4, WIP.PBN__Risk_1767, WIP.PBN__Technology_398],\n",
       " [WIP.PBN__RiskGroup_4, WIP.PBN__Risk_6243, WIP.PBN__Technology_398],\n",
       " [WIP.PBN__RiskGroup_4, WIP.PBN__Risk_10735, WIP.PBN__Technology_398],\n",
       " [WIP.PBN__RiskGroup_4, WIP.PBN__Risk_15289, WIP.PBN__Technology_398],\n",
       " [WIP.PBN__RiskGroup_4, WIP.PBN__Risk_6510, WIP.PBN__Technology_1067],\n",
       " [WIP.PBN__RiskGroup_4, WIP.PBN__Risk_6517, WIP.PBN__Technology_1067],\n",
       " [WIP.PBN__RiskGroup_4, WIP.PBN__Risk_6521, WIP.PBN__Technology_1067],\n",
       " [WIP.PBN__RiskGroup_4, WIP.PBN__Risk_10150, WIP.PBN__Technology_1067],\n",
       " [WIP.PBN__RiskGroup_4, WIP.PBN__Risk_11826, WIP.PBN__Technology_1067],\n",
       " [WIP.PBN__RiskGroup_4, WIP.PBN__Risk_14222, WIP.PBN__Technology_1067],\n",
       " [WIP.PBN__RiskGroup_4, WIP.PBN__Risk_14284, WIP.PBN__Technology_1067],\n",
       " [WIP.PBN__RiskGroup_4, WIP.PBN__Risk_14567, WIP.PBN__Technology_1067],\n",
       " [WIP.PBN__RiskGroup_4, WIP.PBN__Risk_15362, WIP.PBN__Technology_1067],\n",
       " [WIP.PBN__RiskGroup_4, WIP.PBN__Risk_19399, WIP.PBN__Technology_1067],\n",
       " [WIP.PBN__RiskGroup_4, WIP.PBN__Risk_13780, WIP.PBN__Technology_3583],\n",
       " [WIP.PBN__RiskGroup_4, WIP.PBN__Risk_3634, WIP.PBN__Technology_2423],\n",
       " [WIP.PBN__RiskGroup_4, WIP.PBN__Risk_18778, WIP.PBN__Technology_576],\n",
       " [WIP.PBN__RiskGroup_4, WIP.PBN__Risk_3571, WIP.PBN__Technology_3103],\n",
       " [WIP.PBN__RiskGroup_4, WIP.PBN__Risk_15217, WIP.PBN__Technology_3103],\n",
       " [WIP.PBN__RiskGroup_4, WIP.PBN__Risk_14222, WIP.PBN__Technology_3325],\n",
       " [WIP.PBN__RiskGroup_4, WIP.PBN__Risk_2142, WIP.PBN__Technology_1685],\n",
       " [WIP.PBN__RiskGroup_4, WIP.PBN__Risk_8654, WIP.PBN__Technology_1685],\n",
       " [WIP.PBN__RiskGroup_4, WIP.PBN__Risk_6052, WIP.PBN__Technology_552],\n",
       " [WIP.PBN__RiskGroup_4, WIP.PBN__Risk_8654, WIP.PBN__Technology_552],\n",
       " [WIP.PBN__RiskGroup_4, WIP.PBN__Risk_9682, WIP.PBN__Technology_552],\n",
       " [WIP.PBN__RiskGroup_4, WIP.PBN__Risk_19996, WIP.PBN__Technology_552],\n",
       " [WIP.PBN__RiskGroup_4, WIP.PBN__Risk_20667, WIP.PBN__Technology_552],\n",
       " [WIP.PBN__RiskGroup_4, WIP.PBN__Risk_14908, WIP.PBN__Technology_357],\n",
       " [WIP.PBN__RiskGroup_4, WIP.PBN__Risk_1352, WIP.PBN__Technology_564],\n",
       " [WIP.PBN__RiskGroup_4, WIP.PBN__Risk_13993, WIP.PBN__Technology_564],\n",
       " [WIP.PBN__RiskGroup_4, WIP.PBN__Risk_14133, WIP.PBN__Technology_564],\n",
       " [WIP.PBN__RiskGroup_4, WIP.PBN__Risk_19675, WIP.PBN__Technology_564],\n",
       " [WIP.PBN__RiskGroup_4, WIP.PBN__Risk_1075, WIP.PBN__Technology_114],\n",
       " [WIP.PBN__RiskGroup_4, WIP.PBN__Risk_2283, WIP.PBN__Technology_114],\n",
       " [WIP.PBN__RiskGroup_4, WIP.PBN__Risk_4080, WIP.PBN__Technology_114],\n",
       " [WIP.PBN__RiskGroup_4, WIP.PBN__Risk_12106, WIP.PBN__Technology_114],\n",
       " [WIP.PBN__RiskGroup_4, WIP.PBN__Risk_12603, WIP.PBN__Technology_114],\n",
       " [WIP.PBN__RiskGroup_4, WIP.PBN__Risk_13465, WIP.PBN__Technology_114],\n",
       " [WIP.PBN__RiskGroup_4, WIP.PBN__Risk_1494, WIP.PBN__Technology_779],\n",
       " [WIP.PBN__RiskGroup_4, WIP.PBN__Risk_13463, WIP.PBN__Technology_753],\n",
       " [WIP.PBN__RiskGroup_4, WIP.PBN__Risk_1387, WIP.PBN__Technology_614],\n",
       " [WIP.PBN__RiskGroup_4, WIP.PBN__Risk_4706, WIP.PBN__Technology_614],\n",
       " [WIP.PBN__RiskGroup_4, WIP.PBN__Risk_6530, WIP.PBN__Technology_614],\n",
       " [WIP.PBN__RiskGroup_4, WIP.PBN__Risk_9898, WIP.PBN__Technology_614],\n",
       " [WIP.PBN__RiskGroup_4, WIP.PBN__Risk_19657, WIP.PBN__Technology_614],\n",
       " [WIP.PBN__RiskGroup_4, WIP.PBN__Risk_4803, WIP.PBN__Technology_512],\n",
       " [WIP.PBN__RiskGroup_4, WIP.PBN__Risk_7913, WIP.PBN__Technology_512],\n",
       " [WIP.PBN__RiskGroup_4, WIP.PBN__Risk_7930, WIP.PBN__Technology_512],\n",
       " [WIP.PBN__RiskGroup_4, WIP.PBN__Risk_7945, WIP.PBN__Technology_512],\n",
       " [WIP.PBN__RiskGroup_4, WIP.PBN__Risk_13600, WIP.PBN__Technology_512],\n",
       " [WIP.PBN__RiskGroup_4, WIP.PBN__Risk_16420, WIP.PBN__Technology_512],\n",
       " [WIP.PBN__RiskGroup_4, WIP.PBN__Risk_18183, WIP.PBN__Technology_512],\n",
       " [WIP.PBN__RiskGroup_4, WIP.PBN__Risk_6521, WIP.PBN__Technology_1212],\n",
       " [WIP.PBN__RiskGroup_4, WIP.PBN__Risk_1097, WIP.PBN__Technology_1121],\n",
       " [WIP.PBN__RiskGroup_4, WIP.PBN__Risk_1978, WIP.PBN__Technology_1001],\n",
       " [WIP.PBN__RiskGroup_4, WIP.PBN__Risk_1648, WIP.PBN__Technology_1001],\n",
       " [WIP.PBN__RiskGroup_4, WIP.PBN__Risk_2132, WIP.PBN__Technology_1001],\n",
       " [WIP.PBN__RiskGroup_4, WIP.PBN__Risk_6518, WIP.PBN__Technology_1001],\n",
       " [WIP.PBN__RiskGroup_4, WIP.PBN__Risk_17911, WIP.PBN__Technology_1001],\n",
       " [WIP.PBN__RiskGroup_4, WIP.PBN__Risk_1887, WIP.PBN__Technology_1302],\n",
       " [WIP.PBN__RiskGroup_4, WIP.PBN__Risk_3901, WIP.PBN__Technology_1302],\n",
       " [WIP.PBN__RiskGroup_4, WIP.PBN__Risk_4781, WIP.PBN__Technology_1302],\n",
       " [WIP.PBN__RiskGroup_4, WIP.PBN__Risk_6812, WIP.PBN__Technology_1302],\n",
       " [WIP.PBN__RiskGroup_4, WIP.PBN__Risk_7056, WIP.PBN__Technology_1302],\n",
       " [WIP.PBN__RiskGroup_4, WIP.PBN__Risk_7496, WIP.PBN__Technology_1302],\n",
       " [WIP.PBN__RiskGroup_4, WIP.PBN__Risk_8661, WIP.PBN__Technology_1302],\n",
       " [WIP.PBN__RiskGroup_4, WIP.PBN__Risk_12398, WIP.PBN__Technology_1302],\n",
       " [WIP.PBN__RiskGroup_4, WIP.PBN__Risk_16196, WIP.PBN__Technology_1302],\n",
       " [WIP.PBN__RiskGroup_4, WIP.PBN__Risk_18551, WIP.PBN__Technology_1302],\n",
       " [WIP.PBN__RiskGroup_4, WIP.PBN__Risk_1767, WIP.PBN__Technology_574],\n",
       " [WIP.PBN__RiskGroup_4, WIP.PBN__Risk_1362, WIP.PBN__Technology_574],\n",
       " [WIP.PBN__RiskGroup_4, WIP.PBN__Risk_3877, WIP.PBN__Technology_574],\n",
       " [WIP.PBN__RiskGroup_4, WIP.PBN__Risk_4166, WIP.PBN__Technology_574],\n",
       " [WIP.PBN__RiskGroup_4, WIP.PBN__Risk_5770, WIP.PBN__Technology_574],\n",
       " [WIP.PBN__RiskGroup_4, WIP.PBN__Risk_6076, WIP.PBN__Technology_574],\n",
       " [WIP.PBN__RiskGroup_4, WIP.PBN__Risk_6523, WIP.PBN__Technology_574],\n",
       " [WIP.PBN__RiskGroup_4, WIP.PBN__Risk_6600, WIP.PBN__Technology_574],\n",
       " [WIP.PBN__RiskGroup_4, WIP.PBN__Risk_6661, WIP.PBN__Technology_574],\n",
       " [WIP.PBN__RiskGroup_4, WIP.PBN__Risk_6807, WIP.PBN__Technology_574],\n",
       " [WIP.PBN__RiskGroup_4, WIP.PBN__Risk_6906, WIP.PBN__Technology_574],\n",
       " [WIP.PBN__RiskGroup_4, WIP.PBN__Risk_7948, WIP.PBN__Technology_574],\n",
       " [WIP.PBN__RiskGroup_4, WIP.PBN__Risk_9542, WIP.PBN__Technology_574],\n",
       " [WIP.PBN__RiskGroup_4, WIP.PBN__Risk_11745, WIP.PBN__Technology_574],\n",
       " [WIP.PBN__RiskGroup_4, WIP.PBN__Risk_12111, WIP.PBN__Technology_574],\n",
       " [WIP.PBN__RiskGroup_4, WIP.PBN__Risk_12301, WIP.PBN__Technology_574],\n",
       " [WIP.PBN__RiskGroup_4, WIP.PBN__Risk_12595, WIP.PBN__Technology_574],\n",
       " [WIP.PBN__RiskGroup_4, WIP.PBN__Risk_12952, WIP.PBN__Technology_574],\n",
       " [WIP.PBN__RiskGroup_4, WIP.PBN__Risk_13787, WIP.PBN__Technology_574],\n",
       " [WIP.PBN__RiskGroup_4, WIP.PBN__Risk_14281, WIP.PBN__Technology_574],\n",
       " [WIP.PBN__RiskGroup_4, WIP.PBN__Risk_15899, WIP.PBN__Technology_574],\n",
       " [WIP.PBN__RiskGroup_4, WIP.PBN__Risk_15911, WIP.PBN__Technology_574],\n",
       " [WIP.PBN__RiskGroup_4, WIP.PBN__Risk_15918, WIP.PBN__Technology_574],\n",
       " [WIP.PBN__RiskGroup_4, WIP.PBN__Risk_15952, WIP.PBN__Technology_574],\n",
       " [WIP.PBN__RiskGroup_4, WIP.PBN__Risk_16614, WIP.PBN__Technology_574],\n",
       " [WIP.PBN__RiskGroup_4, WIP.PBN__Risk_18486, WIP.PBN__Technology_574],\n",
       " [WIP.PBN__RiskGroup_4, WIP.PBN__Risk_18505, WIP.PBN__Technology_574],\n",
       " [WIP.PBN__RiskGroup_4, WIP.PBN__Risk_20366, WIP.PBN__Technology_574],\n",
       " [WIP.PBN__RiskGroup_4, WIP.PBN__Risk_6963, WIP.PBN__Technology_1918],\n",
       " [WIP.PBN__RiskGroup_4, WIP.PBN__Risk_7872, WIP.PBN__Technology_1918],\n",
       " [WIP.PBN__RiskGroup_4, WIP.PBN__Risk_10734, WIP.PBN__Technology_1918],\n",
       " [WIP.PBN__RiskGroup_4, WIP.PBN__Risk_4087, WIP.PBN__Technology_2243],\n",
       " [WIP.PBN__RiskGroup_4, WIP.PBN__Risk_12761, WIP.PBN__Technology_2243],\n",
       " [WIP.PBN__RiskGroup_4, WIP.PBN__Risk_12849, WIP.PBN__Technology_2243],\n",
       " [WIP.PBN__RiskGroup_4, WIP.PBN__Risk_14570, WIP.PBN__Technology_2243],\n",
       " [WIP.PBN__RiskGroup_4, WIP.PBN__Risk_15366, WIP.PBN__Technology_2243],\n",
       " [WIP.PBN__RiskGroup_4, WIP.PBN__Risk_16159, WIP.PBN__Technology_2243],\n",
       " [WIP.PBN__RiskGroup_4, WIP.PBN__Risk_18902, WIP.PBN__Technology_2243],\n",
       " [WIP.PBN__RiskGroup_4, WIP.PBN__Risk_1663, WIP.PBN__Technology_1002],\n",
       " [WIP.PBN__RiskGroup_4, WIP.PBN__Risk_1697, WIP.PBN__Technology_820],\n",
       " [WIP.PBN__RiskGroup_4, WIP.PBN__Risk_47, WIP.PBN__Technology_820],\n",
       " [WIP.PBN__RiskGroup_4, WIP.PBN__Risk_3854, WIP.PBN__Technology_820],\n",
       " [WIP.PBN__RiskGroup_4, WIP.PBN__Risk_4476, WIP.PBN__Technology_820],\n",
       " [WIP.PBN__RiskGroup_4, WIP.PBN__Risk_6661, WIP.PBN__Technology_820],\n",
       " [WIP.PBN__RiskGroup_4, WIP.PBN__Risk_9542, WIP.PBN__Technology_820],\n",
       " [WIP.PBN__RiskGroup_4, WIP.PBN__Risk_11309, WIP.PBN__Technology_820],\n",
       " [WIP.PBN__RiskGroup_4, WIP.PBN__Risk_14217, WIP.PBN__Technology_820],\n",
       " [WIP.PBN__RiskGroup_4, WIP.PBN__Risk_14719, WIP.PBN__Technology_820],\n",
       " [WIP.PBN__RiskGroup_4, WIP.PBN__Risk_15263, WIP.PBN__Technology_820],\n",
       " [WIP.PBN__RiskGroup_4, WIP.PBN__Risk_15945, WIP.PBN__Technology_820],\n",
       " [WIP.PBN__RiskGroup_4, WIP.PBN__Risk_15956, WIP.PBN__Technology_820],\n",
       " [WIP.PBN__RiskGroup_4, WIP.PBN__Risk_16078, WIP.PBN__Technology_820],\n",
       " [WIP.PBN__RiskGroup_4, WIP.PBN__Risk_2317, WIP.PBN__Technology_1933],\n",
       " [WIP.PBN__RiskGroup_4, WIP.PBN__Risk_3866, WIP.PBN__Technology_1933],\n",
       " [WIP.PBN__RiskGroup_4, WIP.PBN__Risk_4903, WIP.PBN__Technology_1933],\n",
       " [WIP.PBN__RiskGroup_4, WIP.PBN__Risk_6645, WIP.PBN__Technology_1933],\n",
       " [WIP.PBN__RiskGroup_4, WIP.PBN__Risk_11328, WIP.PBN__Technology_1933],\n",
       " [WIP.PBN__RiskGroup_4, WIP.PBN__Risk_12578, WIP.PBN__Technology_1933],\n",
       " [WIP.PBN__RiskGroup_4, WIP.PBN__Risk_14501, WIP.PBN__Technology_1933],\n",
       " [WIP.PBN__RiskGroup_4, WIP.PBN__Risk_14718, WIP.PBN__Technology_1933],\n",
       " [WIP.PBN__RiskGroup_4, WIP.PBN__Risk_2139, WIP.PBN__Technology_1680],\n",
       " [WIP.PBN__RiskGroup_4, WIP.PBN__Risk_1600, WIP.PBN__Technology_581],\n",
       " [WIP.PBN__RiskGroup_4, WIP.PBN__Risk_10256, WIP.PBN__Technology_1092],\n",
       " [WIP.PBN__RiskGroup_4, WIP.PBN__Risk_6224, WIP.PBN__Technology_1230],\n",
       " [WIP.PBN__RiskGroup_4, WIP.PBN__Risk_10119, WIP.PBN__Technology_1230],\n",
       " [WIP.PBN__RiskGroup_4, WIP.PBN__Risk_10120, WIP.PBN__Technology_1230],\n",
       " [WIP.PBN__RiskGroup_4, WIP.PBN__Risk_6599, WIP.PBN__Technology_3493],\n",
       " [WIP.PBN__RiskGroup_4, WIP.PBN__Risk_20667, WIP.PBN__Technology_3043],\n",
       " [WIP.PBN__RiskGroup_4, WIP.PBN__Risk_2285, WIP.PBN__Technology_1898],\n",
       " [WIP.PBN__RiskGroup_4, WIP.PBN__Risk_1900, WIP.PBN__Technology_1317],\n",
       " [WIP.PBN__RiskGroup_4, WIP.PBN__Risk_15968, WIP.PBN__Technology_1317],\n",
       " [WIP.PBN__RiskGroup_4, WIP.PBN__Risk_2283, WIP.PBN__Technology_1894],\n",
       " [WIP.PBN__RiskGroup_4, WIP.PBN__Risk_4080, WIP.PBN__Technology_1894],\n",
       " [WIP.PBN__RiskGroup_4, WIP.PBN__Risk_4491, WIP.PBN__Technology_1894],\n",
       " [WIP.PBN__RiskGroup_4, WIP.PBN__Risk_4726, WIP.PBN__Technology_1894],\n",
       " [WIP.PBN__RiskGroup_4, WIP.PBN__Risk_5413, WIP.PBN__Technology_1894],\n",
       " [WIP.PBN__RiskGroup_4, WIP.PBN__Risk_5822, WIP.PBN__Technology_1894],\n",
       " [WIP.PBN__RiskGroup_4, WIP.PBN__Risk_7289, WIP.PBN__Technology_1894],\n",
       " [WIP.PBN__RiskGroup_4, WIP.PBN__Risk_9907, WIP.PBN__Technology_1894],\n",
       " [WIP.PBN__RiskGroup_4, WIP.PBN__Risk_9908, WIP.PBN__Technology_1894],\n",
       " [WIP.PBN__RiskGroup_4, WIP.PBN__Risk_9910, WIP.PBN__Technology_1894],\n",
       " [WIP.PBN__RiskGroup_4, WIP.PBN__Risk_11858, WIP.PBN__Technology_1894],\n",
       " [WIP.PBN__RiskGroup_4, WIP.PBN__Risk_12106, WIP.PBN__Technology_1894],\n",
       " [WIP.PBN__RiskGroup_4, WIP.PBN__Risk_12112, WIP.PBN__Technology_1894],\n",
       " [WIP.PBN__RiskGroup_4, WIP.PBN__Risk_12121, WIP.PBN__Technology_1894],\n",
       " [WIP.PBN__RiskGroup_4, WIP.PBN__Risk_13933, WIP.PBN__Technology_1894],\n",
       " [WIP.PBN__RiskGroup_4, WIP.PBN__Risk_16619, WIP.PBN__Technology_1894],\n",
       " [WIP.PBN__RiskGroup_4, WIP.PBN__Risk_17789, WIP.PBN__Technology_1894],\n",
       " [WIP.PBN__RiskGroup_4, WIP.PBN__Risk_1331, WIP.PBN__Technology_517],\n",
       " [WIP.PBN__RiskGroup_4, WIP.PBN__Risk_2285, WIP.PBN__Technology_1897],\n",
       " [WIP.PBN__RiskGroup_4, WIP.PBN__Risk_12098, WIP.PBN__Technology_1897],\n",
       " [WIP.PBN__RiskGroup_4, WIP.PBN__Risk_9968, WIP.PBN__Technology_1623],\n",
       " [WIP.PBN__RiskGroup_4, WIP.PBN__Risk_3593, WIP.PBN__Technology_3360],\n",
       " [WIP.PBN__RiskGroup_4, WIP.PBN__Risk_3640, WIP.PBN__Technology_710],\n",
       " [WIP.PBN__RiskGroup_4, WIP.PBN__Risk_1332, WIP.PBN__Technology_521],\n",
       " [WIP.PBN__RiskGroup_4, WIP.PBN__Risk_3964, WIP.PBN__Technology_1899],\n",
       " [WIP.PBN__RiskGroup_4, WIP.PBN__Risk_5414, WIP.PBN__Technology_1899],\n",
       " [WIP.PBN__RiskGroup_4, WIP.PBN__Risk_11221, WIP.PBN__Technology_1899],\n",
       " [WIP.PBN__RiskGroup_4, WIP.PBN__Risk_14453, WIP.PBN__Technology_1899],\n",
       " [WIP.PBN__RiskGroup_4, WIP.PBN__Risk_18136, WIP.PBN__Technology_1899],\n",
       " [WIP.PBN__RiskGroup_4, WIP.PBN__Risk_18148, WIP.PBN__Technology_1899],\n",
       " [WIP.PBN__RiskGroup_4, WIP.PBN__Risk_47, WIP.PBN__Technology_819],\n",
       " [WIP.PBN__RiskGroup_4, WIP.PBN__Risk_1238, WIP.PBN__Technology_344],\n",
       " [WIP.PBN__RiskGroup_4, WIP.PBN__Risk_2048, WIP.PBN__Technology_344],\n",
       " [WIP.PBN__RiskGroup_4, WIP.PBN__Risk_1362, WIP.PBN__Technology_344],\n",
       " [WIP.PBN__RiskGroup_4, WIP.PBN__Risk_3627, WIP.PBN__Technology_344],\n",
       " [WIP.PBN__RiskGroup_4, WIP.PBN__Risk_3763, WIP.PBN__Technology_344],\n",
       " [WIP.PBN__RiskGroup_4, WIP.PBN__Risk_3866, WIP.PBN__Technology_344],\n",
       " [WIP.PBN__RiskGroup_4, WIP.PBN__Risk_3872, WIP.PBN__Technology_344],\n",
       " [WIP.PBN__RiskGroup_4, WIP.PBN__Risk_3877, WIP.PBN__Technology_344],\n",
       " [WIP.PBN__RiskGroup_4, WIP.PBN__Risk_4029, WIP.PBN__Technology_344],\n",
       " [WIP.PBN__RiskGroup_4, WIP.PBN__Risk_4479, WIP.PBN__Technology_344],\n",
       " [WIP.PBN__RiskGroup_4, WIP.PBN__Risk_4489, WIP.PBN__Technology_344],\n",
       " [WIP.PBN__RiskGroup_4, WIP.PBN__Risk_4493, WIP.PBN__Technology_344],\n",
       " [WIP.PBN__RiskGroup_4, WIP.PBN__Risk_4506, WIP.PBN__Technology_344],\n",
       " [WIP.PBN__RiskGroup_4, WIP.PBN__Risk_5770, WIP.PBN__Technology_344],\n",
       " [WIP.PBN__RiskGroup_4, WIP.PBN__Risk_5787, WIP.PBN__Technology_344],\n",
       " [WIP.PBN__RiskGroup_4, WIP.PBN__Risk_6076, WIP.PBN__Technology_344],\n",
       " [WIP.PBN__RiskGroup_4, WIP.PBN__Risk_6296, WIP.PBN__Technology_344],\n",
       " [WIP.PBN__RiskGroup_4, WIP.PBN__Risk_6395, WIP.PBN__Technology_344],\n",
       " [WIP.PBN__RiskGroup_4, WIP.PBN__Risk_6523, WIP.PBN__Technology_344],\n",
       " [WIP.PBN__RiskGroup_4, WIP.PBN__Risk_6600, WIP.PBN__Technology_344],\n",
       " [WIP.PBN__RiskGroup_4, WIP.PBN__Risk_6807, WIP.PBN__Technology_344],\n",
       " [WIP.PBN__RiskGroup_4, WIP.PBN__Risk_6906, WIP.PBN__Technology_344],\n",
       " [WIP.PBN__RiskGroup_4, WIP.PBN__Risk_7288, WIP.PBN__Technology_344],\n",
       " [WIP.PBN__RiskGroup_4, WIP.PBN__Risk_7908, WIP.PBN__Technology_344],\n",
       " [WIP.PBN__RiskGroup_4, WIP.PBN__Risk_7928, WIP.PBN__Technology_344],\n",
       " [WIP.PBN__RiskGroup_4, WIP.PBN__Risk_7930, WIP.PBN__Technology_344],\n",
       " [WIP.PBN__RiskGroup_4, WIP.PBN__Risk_7948, WIP.PBN__Technology_344],\n",
       " [WIP.PBN__RiskGroup_4, WIP.PBN__Risk_8194, WIP.PBN__Technology_344],\n",
       " [WIP.PBN__RiskGroup_4, WIP.PBN__Risk_8475, WIP.PBN__Technology_344],\n",
       " [WIP.PBN__RiskGroup_4, WIP.PBN__Risk_8661, WIP.PBN__Technology_344],\n",
       " [WIP.PBN__RiskGroup_4, WIP.PBN__Risk_8718, WIP.PBN__Technology_344],\n",
       " [WIP.PBN__RiskGroup_4, WIP.PBN__Risk_11409, WIP.PBN__Technology_344],\n",
       " [WIP.PBN__RiskGroup_4, WIP.PBN__Risk_11635, WIP.PBN__Technology_344],\n",
       " [WIP.PBN__RiskGroup_4, WIP.PBN__Risk_11745, WIP.PBN__Technology_344],\n",
       " [WIP.PBN__RiskGroup_4, WIP.PBN__Risk_12109, WIP.PBN__Technology_344],\n",
       " [WIP.PBN__RiskGroup_4, WIP.PBN__Risk_12301, WIP.PBN__Technology_344],\n",
       " [WIP.PBN__RiskGroup_4, WIP.PBN__Risk_12302, WIP.PBN__Technology_344],\n",
       " [WIP.PBN__RiskGroup_4, WIP.PBN__Risk_12307, WIP.PBN__Technology_344],\n",
       " [WIP.PBN__RiskGroup_4, WIP.PBN__Risk_12398, WIP.PBN__Technology_344],\n",
       " [WIP.PBN__RiskGroup_4, WIP.PBN__Risk_13590, WIP.PBN__Technology_344],\n",
       " [WIP.PBN__RiskGroup_4, WIP.PBN__Risk_13770, WIP.PBN__Technology_344],\n",
       " [WIP.PBN__RiskGroup_4, WIP.PBN__Risk_13787, WIP.PBN__Technology_344],\n",
       " [WIP.PBN__RiskGroup_4, WIP.PBN__Risk_13795, WIP.PBN__Technology_344],\n",
       " [WIP.PBN__RiskGroup_4, WIP.PBN__Risk_13802, WIP.PBN__Technology_344],\n",
       " [WIP.PBN__RiskGroup_4, WIP.PBN__Risk_14234, WIP.PBN__Technology_344],\n",
       " [WIP.PBN__RiskGroup_4, WIP.PBN__Risk_14570, WIP.PBN__Technology_344],\n",
       " [WIP.PBN__RiskGroup_4, WIP.PBN__Risk_14701, WIP.PBN__Technology_344],\n",
       " [WIP.PBN__RiskGroup_4, WIP.PBN__Risk_14717, WIP.PBN__Technology_344],\n",
       " [WIP.PBN__RiskGroup_4, WIP.PBN__Risk_14723, WIP.PBN__Technology_344],\n",
       " [WIP.PBN__RiskGroup_4, WIP.PBN__Risk_15216, WIP.PBN__Technology_344],\n",
       " [WIP.PBN__RiskGroup_4, WIP.PBN__Risk_15719, WIP.PBN__Technology_344],\n",
       " [WIP.PBN__RiskGroup_4, WIP.PBN__Risk_15783, WIP.PBN__Technology_344],\n",
       " [WIP.PBN__RiskGroup_4, WIP.PBN__Risk_15899, WIP.PBN__Technology_344],\n",
       " [WIP.PBN__RiskGroup_4, WIP.PBN__Risk_15908, WIP.PBN__Technology_344],\n",
       " [WIP.PBN__RiskGroup_4, WIP.PBN__Risk_15911, WIP.PBN__Technology_344],\n",
       " [WIP.PBN__RiskGroup_4, WIP.PBN__Risk_15937, WIP.PBN__Technology_344],\n",
       " [WIP.PBN__RiskGroup_4, WIP.PBN__Risk_15942, WIP.PBN__Technology_344],\n",
       " [WIP.PBN__RiskGroup_4, WIP.PBN__Risk_15948, WIP.PBN__Technology_344],\n",
       " [WIP.PBN__RiskGroup_4, WIP.PBN__Risk_15955, WIP.PBN__Technology_344],\n",
       " [WIP.PBN__RiskGroup_4, WIP.PBN__Risk_15958, WIP.PBN__Technology_344],\n",
       " [WIP.PBN__RiskGroup_4, WIP.PBN__Risk_15963, WIP.PBN__Technology_344],\n",
       " [WIP.PBN__RiskGroup_4, WIP.PBN__Risk_15966, WIP.PBN__Technology_344],\n",
       " [WIP.PBN__RiskGroup_4, WIP.PBN__Risk_16007, WIP.PBN__Technology_344],\n",
       " [WIP.PBN__RiskGroup_4, WIP.PBN__Risk_16196, WIP.PBN__Technology_344],\n",
       " [WIP.PBN__RiskGroup_4, WIP.PBN__Risk_16212, WIP.PBN__Technology_344],\n",
       " [WIP.PBN__RiskGroup_4, WIP.PBN__Risk_16288, WIP.PBN__Technology_344],\n",
       " [WIP.PBN__RiskGroup_4, WIP.PBN__Risk_16384, WIP.PBN__Technology_344],\n",
       " [WIP.PBN__RiskGroup_4, WIP.PBN__Risk_17688, WIP.PBN__Technology_344],\n",
       " [WIP.PBN__RiskGroup_4, WIP.PBN__Risk_17804, WIP.PBN__Technology_344],\n",
       " [WIP.PBN__RiskGroup_4, WIP.PBN__Risk_18151, WIP.PBN__Technology_344],\n",
       " [WIP.PBN__RiskGroup_4, WIP.PBN__Risk_18177, WIP.PBN__Technology_344],\n",
       " [WIP.PBN__RiskGroup_4, WIP.PBN__Risk_18191, WIP.PBN__Technology_344],\n",
       " [WIP.PBN__RiskGroup_4, WIP.PBN__Risk_18195, WIP.PBN__Technology_344],\n",
       " [WIP.PBN__RiskGroup_4, WIP.PBN__Risk_18602, WIP.PBN__Technology_344],\n",
       " [WIP.PBN__RiskGroup_4, WIP.PBN__Risk_18636, WIP.PBN__Technology_344],\n",
       " [WIP.PBN__RiskGroup_4, WIP.PBN__Risk_19746, WIP.PBN__Technology_344],\n",
       " [WIP.PBN__RiskGroup_4, WIP.PBN__Risk_1697, WIP.PBN__Technology_1068],\n",
       " [WIP.PBN__RiskGroup_4, WIP.PBN__Risk_1887, WIP.PBN__Technology_1068],\n",
       " [WIP.PBN__RiskGroup_4, WIP.PBN__Risk_2216, WIP.PBN__Technology_1068],\n",
       " [WIP.PBN__RiskGroup_4, WIP.PBN__Risk_4095, WIP.PBN__Technology_1068],\n",
       " [WIP.PBN__RiskGroup_4, WIP.PBN__Risk_6654, WIP.PBN__Technology_1068],\n",
       " [WIP.PBN__RiskGroup_4, WIP.PBN__Risk_6767, WIP.PBN__Technology_1068],\n",
       " [WIP.PBN__RiskGroup_4, WIP.PBN__Risk_6815, WIP.PBN__Technology_1068],\n",
       " [WIP.PBN__RiskGroup_4, WIP.PBN__Risk_15945, WIP.PBN__Technology_1068],\n",
       " [WIP.PBN__RiskGroup_4, WIP.PBN__Risk_15964, WIP.PBN__Technology_1068],\n",
       " [WIP.PBN__RiskGroup_4, WIP.PBN__Risk_15965, WIP.PBN__Technology_1068],\n",
       " [WIP.PBN__RiskGroup_4, WIP.PBN__Risk_18488, WIP.PBN__Technology_1068],\n",
       " [WIP.PBN__RiskGroup_4, WIP.PBN__Risk_18489, WIP.PBN__Technology_1068],\n",
       " [WIP.PBN__RiskGroup_4, WIP.PBN__Risk_1524, WIP.PBN__Technology_824],\n",
       " [WIP.PBN__RiskGroup_4, WIP.PBN__Risk_1524, WIP.PBN__Technology_825],\n",
       " [WIP.PBN__RiskGroup_4, WIP.PBN__Risk_12532, WIP.PBN__Technology_825],\n",
       " [WIP.PBN__RiskGroup_4, WIP.PBN__Risk_1238, WIP.PBN__Technology_345],\n",
       " [WIP.PBN__RiskGroup_4, WIP.PBN__Risk_1069, WIP.PBN__Technology_101],\n",
       " [WIP.PBN__RiskGroup_4, WIP.PBN__Risk_1266, WIP.PBN__Technology_396],\n",
       " [WIP.PBN__RiskGroup_4, WIP.PBN__Risk_1266, WIP.PBN__Technology_395],\n",
       " [WIP.PBN__RiskGroup_4, WIP.PBN__Risk_1648, WIP.PBN__Technology_897],\n",
       " [WIP.PBN__RiskGroup_4, WIP.PBN__Risk_1224, WIP.PBN__Technology_313],\n",
       " [WIP.PBN__RiskGroup_4, WIP.PBN__Risk_6531, WIP.PBN__Technology_2730],\n",
       " [WIP.PBN__RiskGroup_4, WIP.PBN__Risk_18501, WIP.PBN__Technology_615],\n",
       " [WIP.PBN__RiskGroup_4, WIP.PBN__Risk_14169, WIP.PBN__Technology_3528],\n",
       " [WIP.PBN__RiskGroup_4, WIP.PBN__Risk_2216, WIP.PBN__Technology_1811],\n",
       " [WIP.PBN__RiskGroup_4, WIP.PBN__Risk_1114, WIP.PBN__Technology_184],\n",
       " [WIP.PBN__RiskGroup_4, WIP.PBN__Risk_2337, WIP.PBN__Technology_1964],\n",
       " [WIP.PBN__RiskGroup_4, WIP.PBN__Risk_8918, WIP.PBN__Technology_1141],\n",
       " [WIP.PBN__RiskGroup_4, WIP.PBN__Risk_1051, WIP.PBN__Technology_59],\n",
       " [WIP.PBN__RiskGroup_4, WIP.PBN__Risk_2132, WIP.PBN__Technology_2723],\n",
       " [WIP.PBN__RiskGroup_4, WIP.PBN__Risk_7415, WIP.PBN__Technology_2723],\n",
       " [WIP.PBN__RiskGroup_4, WIP.PBN__Risk_9046, WIP.PBN__Technology_2723],\n",
       " [WIP.PBN__RiskGroup_4, WIP.PBN__Risk_9905, WIP.PBN__Technology_2723],\n",
       " [WIP.PBN__RiskGroup_4, WIP.PBN__Risk_12393, WIP.PBN__Technology_2723],\n",
       " [WIP.PBN__RiskGroup_4, WIP.PBN__Risk_12664, WIP.PBN__Technology_2723],\n",
       " [WIP.PBN__RiskGroup_4, WIP.PBN__Risk_17789, WIP.PBN__Technology_2723],\n",
       " [WIP.PBN__RiskGroup_4, WIP.PBN__Risk_18831, WIP.PBN__Technology_2723],\n",
       " [WIP.PBN__RiskGroup_4, WIP.PBN__Risk_10256, WIP.PBN__Technology_1091],\n",
       " [WIP.PBN__RiskGroup_4, WIP.PBN__Risk_11826, WIP.PBN__Technology_801],\n",
       " [WIP.PBN__RiskGroup_4, WIP.PBN__Risk_16420, WIP.PBN__Technology_1134],\n",
       " [WIP.PBN__RiskGroup_4, WIP.PBN__Risk_2317, WIP.PBN__Technology_1934],\n",
       " [WIP.PBN__RiskGroup_4, WIP.PBN__Risk_13787, WIP.PBN__Technology_1934],\n",
       " [WIP.PBN__RiskGroup_4, WIP.PBN__Risk_1075, WIP.PBN__Technology_115],\n",
       " [WIP.PBN__RiskGroup_4, WIP.PBN__Risk_47, WIP.PBN__Technology_98],\n",
       " [WIP.PBN__RiskGroup_4, WIP.PBN__Risk_2048, WIP.PBN__Technology_1380],\n",
       " [WIP.PBN__RiskGroup_4, WIP.PBN__Risk_1362, WIP.PBN__Technology_1380],\n",
       " [WIP.PBN__RiskGroup_4, WIP.PBN__Risk_3627, WIP.PBN__Technology_1380],\n",
       " [WIP.PBN__RiskGroup_4, WIP.PBN__Risk_6343, WIP.PBN__Technology_1380],\n",
       " [WIP.PBN__RiskGroup_4, WIP.PBN__Risk_6760, WIP.PBN__Technology_1380],\n",
       " [WIP.PBN__RiskGroup_4, WIP.PBN__Risk_8661, WIP.PBN__Technology_1380],\n",
       " [WIP.PBN__RiskGroup_4, WIP.PBN__Risk_11835, WIP.PBN__Technology_1380],\n",
       " [WIP.PBN__RiskGroup_4, WIP.PBN__Risk_12952, WIP.PBN__Technology_1380],\n",
       " [WIP.PBN__RiskGroup_4, WIP.PBN__Risk_13497, WIP.PBN__Technology_1380],\n",
       " [WIP.PBN__RiskGroup_4, WIP.PBN__Risk_13606, WIP.PBN__Technology_1380],\n",
       " [WIP.PBN__RiskGroup_4, WIP.PBN__Risk_14131, WIP.PBN__Technology_1380],\n",
       " [WIP.PBN__RiskGroup_4, WIP.PBN__Risk_14171, WIP.PBN__Technology_1380],\n",
       " [WIP.PBN__RiskGroup_4, WIP.PBN__Risk_14281, WIP.PBN__Technology_1380],\n",
       " [WIP.PBN__RiskGroup_4, WIP.PBN__Risk_14723, WIP.PBN__Technology_1380],\n",
       " [WIP.PBN__RiskGroup_4, WIP.PBN__Risk_15216, WIP.PBN__Technology_1380],\n",
       " [WIP.PBN__RiskGroup_4, WIP.PBN__Risk_15783, WIP.PBN__Technology_1380],\n",
       " [WIP.PBN__RiskGroup_4, WIP.PBN__Risk_15908, WIP.PBN__Technology_1380],\n",
       " [WIP.PBN__RiskGroup_4, WIP.PBN__Risk_16067, WIP.PBN__Technology_1380],\n",
       " [WIP.PBN__RiskGroup_4, WIP.PBN__Risk_16196, WIP.PBN__Technology_1380],\n",
       " [WIP.PBN__RiskGroup_4, WIP.PBN__Risk_18136, WIP.PBN__Technology_1380],\n",
       " [WIP.PBN__RiskGroup_4, WIP.PBN__Risk_18177, WIP.PBN__Technology_1380],\n",
       " [WIP.PBN__RiskGroup_4, WIP.PBN__Risk_18195, WIP.PBN__Technology_1380],\n",
       " [WIP.PBN__RiskGroup_4, WIP.PBN__Risk_18486, WIP.PBN__Technology_1380],\n",
       " [WIP.PBN__RiskGroup_4, WIP.PBN__Risk_18489, WIP.PBN__Technology_1380],\n",
       " [WIP.PBN__RiskGroup_4, WIP.PBN__Risk_18636, WIP.PBN__Technology_1380],\n",
       " [WIP.PBN__RiskGroup_4, WIP.PBN__Risk_1303, WIP.PBN__Technology_464],\n",
       " [WIP.PBN__RiskGroup_4, WIP.PBN__Risk_1919, WIP.PBN__Technology_1347],\n",
       " [WIP.PBN__RiskGroup_4, WIP.PBN__Risk_2204, WIP.PBN__Technology_1792],\n",
       " [WIP.PBN__RiskGroup_4, WIP.PBN__Risk_7062, WIP.PBN__Technology_2618],\n",
       " [WIP.PBN__RiskGroup_4, WIP.PBN__Risk_20896, WIP.PBN__Technology_794],\n",
       " [WIP.PBN__RiskGroup_4, WIP.PBN__Risk_1900, WIP.PBN__Technology_1318],\n",
       " [WIP.PBN__RiskGroup_4, WIP.PBN__Risk_12099, WIP.PBN__Technology_690],\n",
       " [WIP.PBN__RiskGroup_4, WIP.PBN__Risk_15650, WIP.PBN__Technology_838],\n",
       " [WIP.PBN__RiskGroup_4, WIP.PBN__Risk_1331, WIP.PBN__Technology_519],\n",
       " [WIP.PBN__RiskGroup_4, WIP.PBN__Risk_18571, WIP.PBN__Technology_1430],\n",
       " [WIP.PBN__RiskGroup_4, WIP.PBN__Risk_1331, WIP.PBN__Technology_518],\n",
       " [WIP.PBN__RiskGroup_4, WIP.PBN__Risk_4783, WIP.PBN__Technology_4241],\n",
       " [WIP.PBN__RiskGroup_4, WIP.PBN__Risk_5906, WIP.PBN__Technology_3914],\n",
       " [WIP.PBN__RiskGroup_4, WIP.PBN__Risk_2103, WIP.PBN__Technology_1595],\n",
       " [WIP.PBN__RiskGroup_4, WIP.PBN__Risk_2077, WIP.PBN__Technology_1595],\n",
       " [WIP.PBN__RiskGroup_4, WIP.PBN__Risk_6438, WIP.PBN__Technology_1595],\n",
       " [WIP.PBN__RiskGroup_4, WIP.PBN__Risk_14940, WIP.PBN__Technology_1595],\n",
       " [WIP.PBN__RiskGroup_4, WIP.PBN__Risk_15265, WIP.PBN__Technology_1595],\n",
       " [WIP.PBN__RiskGroup_4, WIP.PBN__Risk_15854, WIP.PBN__Technology_1595],\n",
       " [WIP.PBN__RiskGroup_4, WIP.PBN__Risk_16788, WIP.PBN__Technology_1595],\n",
       " [WIP.PBN__RiskGroup_4, WIP.PBN__Risk_18137, WIP.PBN__Technology_1595],\n",
       " [WIP.PBN__RiskGroup_4, WIP.PBN__Risk_1228, WIP.PBN__Technology_328],\n",
       " [WIP.PBN__RiskGroup_4, WIP.PBN__Risk_14179, WIP.PBN__Technology_328],\n",
       " [WIP.PBN__RiskGroup_4, WIP.PBN__Risk_1919, WIP.PBN__Technology_1346],\n",
       " [WIP.PBN__RiskGroup_4, WIP.PBN__Risk_1663, WIP.PBN__Technology_1013],\n",
       " [WIP.PBN__RiskGroup_4, WIP.PBN__Risk_762, WIP.PBN__Technology_1963],\n",
       " [WIP.PBN__RiskGroup_4, WIP.PBN__Risk_1843, WIP.PBN__Technology_1226],\n",
       " [WIP.PBN__RiskGroup_4, WIP.PBN__Risk_20854, WIP.PBN__Technology_1226],\n",
       " [WIP.PBN__RiskGroup_4, WIP.PBN__Risk_2283, WIP.PBN__Technology_1895],\n",
       " [WIP.PBN__RiskGroup_4, WIP.PBN__Risk_2285, WIP.PBN__Technology_1895],\n",
       " [WIP.PBN__RiskGroup_4, WIP.PBN__Risk_15953, WIP.PBN__Technology_106],\n",
       " [WIP.PBN__RiskGroup_4, WIP.PBN__Risk_1506, WIP.PBN__Technology_800],\n",
       " [WIP.PBN__RiskGroup_4, WIP.PBN__Risk_1114, WIP.PBN__Technology_183],\n",
       " [WIP.PBN__RiskGroup_4, WIP.PBN__Risk_1332, WIP.PBN__Technology_520],\n",
       " [WIP.PBN__RiskGroup_4, WIP.PBN__Risk_1332, WIP.PBN__Technology_522],\n",
       " [WIP.PBN__RiskGroup_4, WIP.PBN__Risk_1887, WIP.PBN__Technology_1304],\n",
       " [WIP.PBN__RiskGroup_4, WIP.PBN__Risk_3958, WIP.PBN__Technology_1304],\n",
       " [WIP.PBN__RiskGroup_4, WIP.PBN__Risk_16933, WIP.PBN__Technology_903],\n",
       " [WIP.PBN__RiskGroup_4, WIP.PBN__Risk_1600, WIP.PBN__Technology_935],\n",
       " [WIP.PBN__RiskGroup_4, WIP.PBN__Risk_1737, WIP.PBN__Technology_1124],\n",
       " [WIP.PBN__RiskGroup_4, WIP.PBN__Risk_7057, WIP.PBN__Technology_2242],\n",
       " [WIP.PBN__RiskGroup_4, WIP.PBN__Risk_3860, WIP.PBN__Technology_4555],\n",
       " [WIP.PBN__RiskGroup_4, WIP.PBN__Risk_4715, WIP.PBN__Technology_4555],\n",
       " [WIP.PBN__RiskGroup_4, WIP.PBN__Risk_6635, WIP.PBN__Technology_4555],\n",
       " [WIP.PBN__RiskGroup_4, WIP.PBN__Risk_6740, WIP.PBN__Technology_4555],\n",
       " [WIP.PBN__RiskGroup_4, WIP.PBN__Risk_7812, WIP.PBN__Technology_4555],\n",
       " [WIP.PBN__RiskGroup_4, WIP.PBN__Risk_9539, WIP.PBN__Technology_4555],\n",
       " [WIP.PBN__RiskGroup_4, WIP.PBN__Risk_12578, WIP.PBN__Technology_4555],\n",
       " [WIP.PBN__RiskGroup_4, WIP.PBN__Risk_13606, WIP.PBN__Technology_4555],\n",
       " [WIP.PBN__RiskGroup_4, WIP.PBN__Risk_14155, WIP.PBN__Technology_4555],\n",
       " [WIP.PBN__RiskGroup_4, WIP.PBN__Risk_14217, WIP.PBN__Technology_4555],\n",
       " [WIP.PBN__RiskGroup_4, WIP.PBN__Risk_3881, WIP.PBN__Technology_4586],\n",
       " [WIP.PBN__RiskGroup_4, WIP.PBN__Risk_9539, WIP.PBN__Technology_4586],\n",
       " [WIP.PBN__RiskGroup_4, WIP.PBN__Risk_12550, WIP.PBN__Technology_4586],\n",
       " [WIP.PBN__RiskGroup_4, WIP.PBN__Risk_16154, WIP.PBN__Technology_4586],\n",
       " [WIP.PBN__RiskGroup_4, WIP.PBN__Risk_20756, WIP.PBN__Technology_4586],\n",
       " [WIP.PBN__RiskGroup_4, WIP.PBN__Risk_1887, WIP.PBN__Technology_1303],\n",
       " [WIP.PBN__RiskGroup_4, WIP.PBN__Risk_2317, WIP.PBN__Technology_1935],\n",
       " [WIP.PBN__RiskGroup_4, WIP.PBN__Risk_2257, WIP.PBN__Technology_1862],\n",
       " [WIP.PBN__RiskGroup_4, WIP.PBN__Risk_7036, WIP.PBN__Technology_1862],\n",
       " [WIP.PBN__RiskGroup_4, WIP.PBN__Risk_7045, WIP.PBN__Technology_1862],\n",
       " [WIP.PBN__RiskGroup_4, WIP.PBN__Risk_12302, WIP.PBN__Technology_1862],\n",
       " [WIP.PBN__RiskGroup_4, WIP.PBN__Risk_14525, WIP.PBN__Technology_1862],\n",
       " [WIP.PBN__RiskGroup_4, WIP.PBN__Risk_14673, WIP.PBN__Technology_1862],\n",
       " [WIP.PBN__RiskGroup_4, WIP.PBN__Risk_16080, WIP.PBN__Technology_1862],\n",
       " [WIP.PBN__RiskGroup_4, WIP.PBN__Risk_16218, WIP.PBN__Technology_1862],\n",
       " [WIP.PBN__RiskGroup_4, WIP.PBN__Risk_18895, WIP.PBN__Technology_1862],\n",
       " [WIP.PBN__RiskGroup_4, WIP.PBN__Risk_20079, WIP.PBN__Technology_1862],\n",
       " [WIP.PBN__RiskGroup_4, WIP.PBN__Risk_7905, WIP.PBN__Technology_4132],\n",
       " [WIP.PBN__RiskGroup_4, WIP.PBN__Risk_8626, WIP.PBN__Technology_4132],\n",
       " [WIP.PBN__RiskGroup_4, WIP.PBN__Risk_8659, WIP.PBN__Technology_4132],\n",
       " [WIP.PBN__RiskGroup_4, WIP.PBN__Risk_11527, WIP.PBN__Technology_4132],\n",
       " [WIP.PBN__RiskGroup_4, WIP.PBN__Risk_11528, WIP.PBN__Technology_4132],\n",
       " [WIP.PBN__RiskGroup_4, WIP.PBN__Risk_11529, WIP.PBN__Technology_4132],\n",
       " [WIP.PBN__RiskGroup_4, WIP.PBN__Risk_11530, WIP.PBN__Technology_4132],\n",
       " [WIP.PBN__RiskGroup_4, WIP.PBN__Risk_12095, WIP.PBN__Technology_4132],\n",
       " [WIP.PBN__RiskGroup_4, WIP.PBN__Risk_16957, WIP.PBN__Technology_4132],\n",
       " [WIP.PBN__RiskGroup_4, WIP.PBN__Risk_20676, WIP.PBN__Technology_4132],\n",
       " [WIP.PBN__RiskGroup_4, WIP.PBN__Risk_2104, WIP.PBN__Technology_1636],\n",
       " [WIP.PBN__RiskGroup_4, WIP.PBN__Risk_1523, WIP.PBN__Technology_823],\n",
       " [WIP.PBN__RiskGroup_4, WIP.PBN__Risk_2438, WIP.PBN__Technology_16885],\n",
       " [WIP.PBN__RiskGroup_4, WIP.PBN__Risk_1600, WIP.PBN__Technology_936],\n",
       " [WIP.PBN__RiskGroup_4, WIP.PBN__Risk_1843, WIP.PBN__Technology_1227],\n",
       " [WIP.PBN__RiskGroup_4, WIP.PBN__Risk_1844, WIP.PBN__Technology_1228],\n",
       " [WIP.PBN__RiskGroup_4, WIP.PBN__Risk_2132, WIP.PBN__Technology_15896],\n",
       " [WIP.PBN__RiskGroup_4, WIP.PBN__Risk_2217, WIP.PBN__Technology_1813],\n",
       " [WIP.PBN__RiskGroup_4, WIP.PBN__Risk_20896, WIP.PBN__Technology_3925],\n",
       " [WIP.PBN__RiskGroup_4, WIP.PBN__Risk_3423, WIP.PBN__Technology_3928],\n",
       " [WIP.PBN__RiskGroup_4, WIP.PBN__Risk_12080, WIP.PBN__Technology_3931],\n",
       " [WIP.PBN__RiskGroup_4, WIP.PBN__Risk_13292, WIP.PBN__Technology_3931],\n",
       " [WIP.PBN__RiskGroup_4, WIP.PBN__Risk_3437, WIP.PBN__Technology_3951],\n",
       " [WIP.PBN__RiskGroup_4, WIP.PBN__Risk_16218, WIP.PBN__Technology_3951],\n",
       " [WIP.PBN__RiskGroup_4, WIP.PBN__Risk_3437, WIP.PBN__Technology_3952],\n",
       " [WIP.PBN__RiskGroup_4, WIP.PBN__Risk_8475, WIP.PBN__Technology_3952],\n",
       " [WIP.PBN__RiskGroup_4, WIP.PBN__Risk_4905, WIP.PBN__Technology_3958],\n",
       " [WIP.PBN__RiskGroup_4, WIP.PBN__Risk_4738, WIP.PBN__Technology_3973],\n",
       " [WIP.PBN__RiskGroup_4, WIP.PBN__Risk_8739, WIP.PBN__Technology_3973],\n",
       " [WIP.PBN__RiskGroup_4, WIP.PBN__Risk_9046, WIP.PBN__Technology_3973],\n",
       " [WIP.PBN__RiskGroup_4, WIP.PBN__Risk_10244, WIP.PBN__Technology_3973],\n",
       " [WIP.PBN__RiskGroup_4, WIP.PBN__Risk_19971, WIP.PBN__Technology_3973],\n",
       " [WIP.PBN__RiskGroup_4, WIP.PBN__Risk_15652, WIP.PBN__Technology_3979],\n",
       " [WIP.PBN__RiskGroup_4, WIP.PBN__Risk_3455, WIP.PBN__Technology_3981],\n",
       " [WIP.PBN__RiskGroup_4, WIP.PBN__Risk_3620, WIP.PBN__Technology_4009],\n",
       " [WIP.PBN__RiskGroup_4, WIP.PBN__Risk_6876, WIP.PBN__Technology_4009],\n",
       " [WIP.PBN__RiskGroup_4, WIP.PBN__Risk_7415, WIP.PBN__Technology_4009],\n",
       " [WIP.PBN__RiskGroup_4, WIP.PBN__Risk_7907, WIP.PBN__Technology_4009],\n",
       " [WIP.PBN__RiskGroup_4, WIP.PBN__Risk_12393, WIP.PBN__Technology_4009],\n",
       " [WIP.PBN__RiskGroup_4, WIP.PBN__Risk_12664, WIP.PBN__Technology_4009],\n",
       " [WIP.PBN__RiskGroup_4, WIP.PBN__Risk_14914, WIP.PBN__Technology_4009],\n",
       " [WIP.PBN__RiskGroup_4, WIP.PBN__Risk_18659, WIP.PBN__Technology_4009],\n",
       " [WIP.PBN__RiskGroup_4, WIP.PBN__Risk_18710, WIP.PBN__Technology_4009],\n",
       " [WIP.PBN__RiskGroup_4, WIP.PBN__Risk_18831, WIP.PBN__Technology_4009],\n",
       " [WIP.PBN__RiskGroup_4, WIP.PBN__Risk_3506, WIP.PBN__Technology_4046],\n",
       " [WIP.PBN__RiskGroup_4, WIP.PBN__Risk_3507, WIP.PBN__Technology_4047],\n",
       " [WIP.PBN__RiskGroup_4, WIP.PBN__Risk_3508, WIP.PBN__Technology_4048],\n",
       " [WIP.PBN__RiskGroup_4, WIP.PBN__Risk_3511, WIP.PBN__Technology_4051],\n",
       " [WIP.PBN__RiskGroup_4, WIP.PBN__Risk_3512, WIP.PBN__Technology_4052],\n",
       " [WIP.PBN__RiskGroup_4, WIP.PBN__Risk_3512, WIP.PBN__Technology_4053],\n",
       " [WIP.PBN__RiskGroup_4, WIP.PBN__Risk_14324, WIP.PBN__Technology_4053],\n",
       " [WIP.PBN__RiskGroup_4, WIP.PBN__Risk_6944, WIP.PBN__Technology_4056],\n",
       " [WIP.PBN__RiskGroup_4, WIP.PBN__Risk_3515, WIP.PBN__Technology_4059],\n",
       " [WIP.PBN__RiskGroup_4, WIP.PBN__Risk_3515, WIP.PBN__Technology_4060],\n",
       " [WIP.PBN__RiskGroup_4, WIP.PBN__Risk_3520, WIP.PBN__Technology_4066],\n",
       " [WIP.PBN__RiskGroup_4, WIP.PBN__Risk_3539, WIP.PBN__Technology_4098],\n",
       " [WIP.PBN__RiskGroup_4, WIP.PBN__Risk_3588, WIP.PBN__Technology_4115],\n",
       " [WIP.PBN__RiskGroup_4, WIP.PBN__Risk_3568, WIP.PBN__Technology_4139],\n",
       " [WIP.PBN__RiskGroup_4, WIP.PBN__Risk_5886, WIP.PBN__Technology_4139],\n",
       " [WIP.PBN__RiskGroup_4, WIP.PBN__Risk_3568, WIP.PBN__Technology_4140],\n",
       " [WIP.PBN__RiskGroup_4, WIP.PBN__Risk_3571, WIP.PBN__Technology_4144],\n",
       " [WIP.PBN__RiskGroup_4, WIP.PBN__Risk_3574, WIP.PBN__Technology_4148],\n",
       " [WIP.PBN__RiskGroup_4, WIP.PBN__Risk_3578, WIP.PBN__Technology_4153],\n",
       " [WIP.PBN__RiskGroup_4, WIP.PBN__Risk_3588, WIP.PBN__Technology_4166],\n",
       " [WIP.PBN__RiskGroup_4, WIP.PBN__Risk_4702, WIP.PBN__Technology_4166],\n",
       " [WIP.PBN__RiskGroup_4, WIP.PBN__Risk_13607, WIP.PBN__Technology_4201],\n",
       " [WIP.PBN__RiskGroup_4, WIP.PBN__Risk_3620, WIP.PBN__Technology_4203],\n",
       " [WIP.PBN__RiskGroup_4, WIP.PBN__Risk_3636, WIP.PBN__Technology_4206],\n",
       " [WIP.PBN__RiskGroup_4, WIP.PBN__Risk_13292, WIP.PBN__Technology_4207],\n",
       " [WIP.PBN__RiskGroup_4, WIP.PBN__Risk_19953, WIP.PBN__Technology_4207],\n",
       " [WIP.PBN__RiskGroup_4, WIP.PBN__Risk_3625, WIP.PBN__Technology_4211],\n",
       " [WIP.PBN__RiskGroup_4, WIP.PBN__Risk_3625, WIP.PBN__Technology_4212],\n",
       " [WIP.PBN__RiskGroup_4, WIP.PBN__Risk_3632, WIP.PBN__Technology_4222],\n",
       " [WIP.PBN__RiskGroup_4, WIP.PBN__Risk_3632, WIP.PBN__Technology_4223],\n",
       " [WIP.PBN__RiskGroup_4, WIP.PBN__Risk_3634, WIP.PBN__Technology_4225],\n",
       " [WIP.PBN__RiskGroup_4, WIP.PBN__Risk_3635, WIP.PBN__Technology_4226],\n",
       " [WIP.PBN__RiskGroup_4, WIP.PBN__Risk_3635, WIP.PBN__Technology_4227],\n",
       " [WIP.PBN__RiskGroup_4, WIP.PBN__Risk_3636, WIP.PBN__Technology_4228],\n",
       " [WIP.PBN__RiskGroup_4, WIP.PBN__Risk_3637, WIP.PBN__Technology_4229],\n",
       " [WIP.PBN__RiskGroup_4, WIP.PBN__Risk_3637, WIP.PBN__Technology_4230],\n",
       " [WIP.PBN__RiskGroup_4, WIP.PBN__Risk_3640, WIP.PBN__Technology_4234],\n",
       " [WIP.PBN__RiskGroup_4, WIP.PBN__Risk_3640, WIP.PBN__Technology_4235],\n",
       " [WIP.PBN__RiskGroup_4, WIP.PBN__Risk_9898, WIP.PBN__Technology_4274],\n",
       " [WIP.PBN__RiskGroup_4, WIP.PBN__Risk_13467, WIP.PBN__Technology_4274],\n",
       " [WIP.PBN__RiskGroup_4, WIP.PBN__Risk_3762, WIP.PBN__Technology_4417],\n",
       " [WIP.PBN__RiskGroup_4, WIP.PBN__Risk_3763, WIP.PBN__Technology_4418],\n",
       " [WIP.PBN__RiskGroup_4, WIP.PBN__Risk_12761, WIP.PBN__Technology_4418],\n",
       " [WIP.PBN__RiskGroup_4, WIP.PBN__Risk_15958, WIP.PBN__Technology_4418],\n",
       " [WIP.PBN__RiskGroup_4, WIP.PBN__Risk_3763, WIP.PBN__Technology_4419],\n",
       " [WIP.PBN__RiskGroup_4, WIP.PBN__Risk_13466, WIP.PBN__Technology_4449],\n",
       " [WIP.PBN__RiskGroup_4, WIP.PBN__Risk_15653, WIP.PBN__Technology_4449],\n",
       " [WIP.PBN__RiskGroup_4, WIP.PBN__Risk_12099, WIP.PBN__Technology_4474],\n",
       " [WIP.PBN__RiskGroup_4, WIP.PBN__Risk_12724, WIP.PBN__Technology_4474],\n",
       " [WIP.PBN__RiskGroup_4, WIP.PBN__Risk_3811, WIP.PBN__Technology_4481],\n",
       " [WIP.PBN__RiskGroup_4, WIP.PBN__Risk_3813, WIP.PBN__Technology_4484],\n",
       " [WIP.PBN__RiskGroup_4, WIP.PBN__Risk_3813, WIP.PBN__Technology_4485],\n",
       " [WIP.PBN__RiskGroup_4, WIP.PBN__Risk_3813, WIP.PBN__Technology_4486],\n",
       " [WIP.PBN__RiskGroup_4, WIP.PBN__Risk_4084, WIP.PBN__Technology_4492],\n",
       " [WIP.PBN__RiskGroup_4, WIP.PBN__Risk_6438, WIP.PBN__Technology_4492],\n",
       " [WIP.PBN__RiskGroup_4, WIP.PBN__Risk_6754, WIP.PBN__Technology_4492],\n",
       " [WIP.PBN__RiskGroup_4, WIP.PBN__Risk_17681, WIP.PBN__Technology_4492],\n",
       " [WIP.PBN__RiskGroup_4, WIP.PBN__Risk_18897, WIP.PBN__Technology_4492],\n",
       " [WIP.PBN__RiskGroup_4, WIP.PBN__Risk_3818, WIP.PBN__Technology_4496],\n",
       " [WIP.PBN__RiskGroup_4, WIP.PBN__Risk_5079, WIP.PBN__Technology_4496],\n",
       " [WIP.PBN__RiskGroup_4, WIP.PBN__Risk_3818, WIP.PBN__Technology_4497],\n",
       " [WIP.PBN__RiskGroup_4, WIP.PBN__Risk_3818, WIP.PBN__Technology_4498],\n",
       " [WIP.PBN__RiskGroup_4, WIP.PBN__Risk_3824, WIP.PBN__Technology_4504],\n",
       " [WIP.PBN__RiskGroup_4, WIP.PBN__Risk_3827, WIP.PBN__Technology_4510],\n",
       " [WIP.PBN__RiskGroup_4, WIP.PBN__Risk_3829, WIP.PBN__Technology_4510],\n",
       " [WIP.PBN__RiskGroup_4, WIP.PBN__Risk_3827, WIP.PBN__Technology_4511],\n",
       " [WIP.PBN__RiskGroup_4, WIP.PBN__Risk_3829, WIP.PBN__Technology_4511],\n",
       " [WIP.PBN__RiskGroup_4, WIP.PBN__Risk_3838, WIP.PBN__Technology_4527],\n",
       " [WIP.PBN__RiskGroup_4, WIP.PBN__Risk_3838, WIP.PBN__Technology_4528],\n",
       " [WIP.PBN__RiskGroup_4, WIP.PBN__Risk_3840, WIP.PBN__Technology_4530],\n",
       " [WIP.PBN__RiskGroup_4, WIP.PBN__Risk_3840, WIP.PBN__Technology_4531],\n",
       " [WIP.PBN__RiskGroup_4, WIP.PBN__Risk_6300, WIP.PBN__Technology_4532],\n",
       " [WIP.PBN__RiskGroup_4, WIP.PBN__Risk_6301, WIP.PBN__Technology_4532],\n",
       " [WIP.PBN__RiskGroup_4, WIP.PBN__Risk_6383, WIP.PBN__Technology_4532],\n",
       " [WIP.PBN__RiskGroup_4, WIP.PBN__Risk_16788, WIP.PBN__Technology_4532],\n",
       " [WIP.PBN__RiskGroup_4, WIP.PBN__Risk_9438, WIP.PBN__Technology_4533],\n",
       " [WIP.PBN__RiskGroup_4, WIP.PBN__Risk_3851, WIP.PBN__Technology_4542],\n",
       " [WIP.PBN__RiskGroup_4, WIP.PBN__Risk_3855, WIP.PBN__Technology_4547],\n",
       " [WIP.PBN__RiskGroup_4, WIP.PBN__Risk_3855, WIP.PBN__Technology_4548],\n",
       " [WIP.PBN__RiskGroup_4, WIP.PBN__Risk_8194, WIP.PBN__Technology_4548],\n",
       " [WIP.PBN__RiskGroup_4, WIP.PBN__Risk_3855, WIP.PBN__Technology_4549],\n",
       " [WIP.PBN__RiskGroup_4, WIP.PBN__Risk_3859, WIP.PBN__Technology_4554],\n",
       " [WIP.PBN__RiskGroup_4, WIP.PBN__Risk_10725, WIP.PBN__Technology_4554],\n",
       " [WIP.PBN__RiskGroup_4, WIP.PBN__Risk_3860, WIP.PBN__Technology_4556],\n",
       " [WIP.PBN__RiskGroup_4, WIP.PBN__Risk_3860, WIP.PBN__Technology_4557],\n",
       " [WIP.PBN__RiskGroup_4, WIP.PBN__Risk_3861, WIP.PBN__Technology_4558],\n",
       " [WIP.PBN__RiskGroup_4, WIP.PBN__Risk_3861, WIP.PBN__Technology_4559],\n",
       " [WIP.PBN__RiskGroup_4, WIP.PBN__Risk_4098, WIP.PBN__Technology_4559],\n",
       " [WIP.PBN__RiskGroup_4, WIP.PBN__Risk_14234, WIP.PBN__Technology_4559],\n",
       " [WIP.PBN__RiskGroup_4, WIP.PBN__Risk_3861, WIP.PBN__Technology_4560],\n",
       " [WIP.PBN__RiskGroup_4, WIP.PBN__Risk_16825, WIP.PBN__Technology_4560],\n",
       " [WIP.PBN__RiskGroup_4, WIP.PBN__Risk_4050, WIP.PBN__Technology_4565],\n",
       " [WIP.PBN__RiskGroup_4, WIP.PBN__Risk_6737, WIP.PBN__Technology_4565],\n",
       " [WIP.PBN__RiskGroup_4, WIP.PBN__Risk_9540, WIP.PBN__Technology_4565],\n",
       " [WIP.PBN__RiskGroup_4, WIP.PBN__Risk_17688, WIP.PBN__Technology_4565],\n",
       " [WIP.PBN__RiskGroup_4, WIP.PBN__Risk_3868, WIP.PBN__Technology_4568],\n",
       " [WIP.PBN__RiskGroup_4, WIP.PBN__Risk_3868, WIP.PBN__Technology_4569],\n",
       " [WIP.PBN__RiskGroup_4, WIP.PBN__Risk_15965, WIP.PBN__Technology_4569],\n",
       " [WIP.PBN__RiskGroup_4, WIP.PBN__Risk_3868, WIP.PBN__Technology_4570],\n",
       " [WIP.PBN__RiskGroup_4, WIP.PBN__Risk_4095, WIP.PBN__Technology_4570],\n",
       " [WIP.PBN__RiskGroup_4, WIP.PBN__Risk_12764, WIP.PBN__Technology_4570],\n",
       " [WIP.PBN__RiskGroup_4, WIP.PBN__Risk_14525, WIP.PBN__Technology_4570],\n",
       " [WIP.PBN__RiskGroup_4, WIP.PBN__Risk_15942, WIP.PBN__Technology_4570],\n",
       " [WIP.PBN__RiskGroup_4, WIP.PBN__Risk_15947, WIP.PBN__Technology_4570],\n",
       " [WIP.PBN__RiskGroup_4, WIP.PBN__Risk_15950, WIP.PBN__Technology_4570],\n",
       " [WIP.PBN__RiskGroup_4, WIP.PBN__Risk_18602, WIP.PBN__Technology_4570],\n",
       " [WIP.PBN__RiskGroup_4, WIP.PBN__Risk_3872, WIP.PBN__Technology_4574],\n",
       " [WIP.PBN__RiskGroup_4, WIP.PBN__Risk_6223, WIP.PBN__Technology_4580],\n",
       " [WIP.PBN__RiskGroup_4, WIP.PBN__Risk_7057, WIP.PBN__Technology_4580],\n",
       " [WIP.PBN__RiskGroup_4, WIP.PBN__Risk_3881, WIP.PBN__Technology_4587],\n",
       " [WIP.PBN__RiskGroup_4, WIP.PBN__Risk_14718, WIP.PBN__Technology_4587],\n",
       " [WIP.PBN__RiskGroup_4, WIP.PBN__Risk_16067, WIP.PBN__Technology_4587],\n",
       " [WIP.PBN__RiskGroup_4, WIP.PBN__Risk_16078, WIP.PBN__Technology_4587],\n",
       " [WIP.PBN__RiskGroup_4, WIP.PBN__Risk_18177, WIP.PBN__Technology_4587],\n",
       " [WIP.PBN__RiskGroup_4, WIP.PBN__Risk_19437, WIP.PBN__Technology_4587],\n",
       " [WIP.PBN__RiskGroup_4, WIP.PBN__Risk_7929, WIP.PBN__Technology_4589],\n",
       " [WIP.PBN__RiskGroup_4, WIP.PBN__Risk_3885, WIP.PBN__Technology_4592],\n",
       " [WIP.PBN__RiskGroup_4, WIP.PBN__Risk_3885, WIP.PBN__Technology_4593],\n",
       " [WIP.PBN__RiskGroup_4, WIP.PBN__Risk_14564, WIP.PBN__Technology_4598],\n",
       " [WIP.PBN__RiskGroup_4, WIP.PBN__Risk_16212, WIP.PBN__Technology_4598],\n",
       " [WIP.PBN__RiskGroup_4, WIP.PBN__Risk_18897, WIP.PBN__Technology_4598],\n",
       " [WIP.PBN__RiskGroup_4, WIP.PBN__Risk_11409, WIP.PBN__Technology_4604],\n",
       " [WIP.PBN__RiskGroup_4, WIP.PBN__Risk_19705, WIP.PBN__Technology_4604],\n",
       " [WIP.PBN__RiskGroup_4, WIP.PBN__Risk_3901, WIP.PBN__Technology_4615],\n",
       " [WIP.PBN__RiskGroup_4, WIP.PBN__Risk_3901, WIP.PBN__Technology_4616],\n",
       " [WIP.PBN__RiskGroup_4, WIP.PBN__Risk_4111, WIP.PBN__Technology_4616],\n",
       " [WIP.PBN__RiskGroup_4, WIP.PBN__Risk_7036, WIP.PBN__Technology_4616],\n",
       " [WIP.PBN__RiskGroup_4, WIP.PBN__Risk_3932, WIP.PBN__Technology_4634],\n",
       " [WIP.PBN__RiskGroup_4, WIP.PBN__Risk_12615, WIP.PBN__Technology_4634],\n",
       " [WIP.PBN__RiskGroup_4, WIP.PBN__Risk_12631, WIP.PBN__Technology_4634],\n",
       " [WIP.PBN__RiskGroup_4, WIP.PBN__Risk_13282, WIP.PBN__Technology_4634],\n",
       " [WIP.PBN__RiskGroup_4, WIP.PBN__Risk_13802, WIP.PBN__Technology_4634],\n",
       " [WIP.PBN__RiskGroup_4, WIP.PBN__Risk_16080, WIP.PBN__Technology_4634],\n",
       " [WIP.PBN__RiskGroup_4, WIP.PBN__Risk_3914, WIP.PBN__Technology_4640],\n",
       " [WIP.PBN__RiskGroup_4, WIP.PBN__Risk_3914, WIP.PBN__Technology_4641],\n",
       " [WIP.PBN__RiskGroup_4, WIP.PBN__Risk_4493, WIP.PBN__Technology_4641],\n",
       " [WIP.PBN__RiskGroup_4, WIP.PBN__Risk_4508, WIP.PBN__Technology_4641],\n",
       " [WIP.PBN__RiskGroup_4, WIP.PBN__Risk_6247, WIP.PBN__Technology_4641],\n",
       " [WIP.PBN__RiskGroup_4, WIP.PBN__Risk_6259, WIP.PBN__Technology_4641],\n",
       " [WIP.PBN__RiskGroup_4, WIP.PBN__Risk_6632, WIP.PBN__Technology_4641],\n",
       " [WIP.PBN__RiskGroup_4, WIP.PBN__Risk_15911, WIP.PBN__Technology_4641],\n",
       " [WIP.PBN__RiskGroup_4, WIP.PBN__Risk_19791, WIP.PBN__Technology_4641],\n",
       " [WIP.PBN__RiskGroup_4, WIP.PBN__Risk_3923, WIP.PBN__Technology_4651],\n",
       " [WIP.PBN__RiskGroup_4, WIP.PBN__Risk_3923, WIP.PBN__Technology_4652],\n",
       " [WIP.PBN__RiskGroup_4, WIP.PBN__Risk_3932, WIP.PBN__Technology_4670],\n",
       " [WIP.PBN__RiskGroup_4, WIP.PBN__Risk_3932, WIP.PBN__Technology_4671],\n",
       " [WIP.PBN__RiskGroup_4, WIP.PBN__Risk_16825, WIP.PBN__Technology_4679],\n",
       " [WIP.PBN__RiskGroup_4, WIP.PBN__Risk_6059, WIP.PBN__Technology_4683],\n",
       " [WIP.PBN__RiskGroup_4, WIP.PBN__Risk_6807, WIP.PBN__Technology_4683],\n",
       " [WIP.PBN__RiskGroup_4, WIP.PBN__Risk_11376, WIP.PBN__Technology_4683],\n",
       " [WIP.PBN__RiskGroup_4, WIP.PBN__Risk_12631, WIP.PBN__Technology_4683],\n",
       " [WIP.PBN__RiskGroup_4, WIP.PBN__Risk_16064, WIP.PBN__Technology_4683],\n",
       " [WIP.PBN__RiskGroup_4, WIP.PBN__Risk_19006, WIP.PBN__Technology_4683],\n",
       " [WIP.PBN__RiskGroup_4, WIP.PBN__Risk_5787, WIP.PBN__Technology_4692],\n",
       " [WIP.PBN__RiskGroup_4, WIP.PBN__Risk_7532, WIP.PBN__Technology_4692],\n",
       " [WIP.PBN__RiskGroup_4, WIP.PBN__Risk_7928, WIP.PBN__Technology_4692],\n",
       " [WIP.PBN__RiskGroup_4, WIP.PBN__Risk_8475, WIP.PBN__Technology_4692],\n",
       " [WIP.PBN__RiskGroup_4, WIP.PBN__Risk_11758, WIP.PBN__Technology_4692],\n",
       " [WIP.PBN__RiskGroup_4, WIP.PBN__Risk_13772, WIP.PBN__Technology_4692],\n",
       " [WIP.PBN__RiskGroup_4, WIP.PBN__Risk_18907, WIP.PBN__Technology_4692],\n",
       " [WIP.PBN__RiskGroup_4, WIP.PBN__Risk_3958, WIP.PBN__Technology_4718],\n",
       " [WIP.PBN__RiskGroup_4, WIP.PBN__Risk_3958, WIP.PBN__Technology_4719],\n",
       " [WIP.PBN__RiskGroup_4, WIP.PBN__Risk_3964, WIP.PBN__Technology_4729],\n",
       " [WIP.PBN__RiskGroup_4, WIP.PBN__Risk_18902, WIP.PBN__Technology_4729],\n",
       " [WIP.PBN__RiskGroup_4, WIP.PBN__Risk_6224, WIP.PBN__Technology_4732],\n",
       " [WIP.PBN__RiskGroup_4, WIP.PBN__Risk_14669, WIP.PBN__Technology_4761],\n",
       " [WIP.PBN__RiskGroup_4, WIP.PBN__Risk_3994, WIP.PBN__Technology_4771],\n",
       " [WIP.PBN__RiskGroup_4, WIP.PBN__Risk_7927, WIP.PBN__Technology_4771],\n",
       " [WIP.PBN__RiskGroup_4, WIP.PBN__Risk_3995, WIP.PBN__Technology_4772],\n",
       " [WIP.PBN__RiskGroup_4, WIP.PBN__Risk_4111, WIP.PBN__Technology_4789],\n",
       " [WIP.PBN__RiskGroup_4, WIP.PBN__Risk_4463, WIP.PBN__Technology_4789],\n",
       " [WIP.PBN__RiskGroup_4, WIP.PBN__Risk_14223, WIP.PBN__Technology_4789],\n",
       " [WIP.PBN__RiskGroup_4, WIP.PBN__Risk_4030, WIP.PBN__Technology_4832],\n",
       " [WIP.PBN__RiskGroup_4, WIP.PBN__Risk_4030, WIP.PBN__Technology_4833],\n",
       " [WIP.PBN__RiskGroup_4, WIP.PBN__Risk_4050, WIP.PBN__Technology_4867],\n",
       " [WIP.PBN__RiskGroup_4, WIP.PBN__Risk_15263, WIP.PBN__Technology_4877],\n",
       " [WIP.PBN__RiskGroup_4, WIP.PBN__Risk_19679, WIP.PBN__Technology_4889],\n",
       " [WIP.PBN__RiskGroup_4, WIP.PBN__Risk_4473, WIP.PBN__Technology_4897],\n",
       " [WIP.PBN__RiskGroup_4, WIP.PBN__Risk_6411, WIP.PBN__Technology_4897],\n",
       " [WIP.PBN__RiskGroup_4, WIP.PBN__Risk_6654, WIP.PBN__Technology_4897],\n",
       " [WIP.PBN__RiskGroup_4, WIP.PBN__Risk_6763, WIP.PBN__Technology_4897],\n",
       " [WIP.PBN__RiskGroup_4, WIP.PBN__Risk_7496, WIP.PBN__Technology_4897],\n",
       " [WIP.PBN__RiskGroup_4, WIP.PBN__Risk_12570, WIP.PBN__Technology_4897],\n",
       " [WIP.PBN__RiskGroup_4, WIP.PBN__Risk_14244, WIP.PBN__Technology_4897],\n",
       " [WIP.PBN__RiskGroup_4, WIP.PBN__Risk_19437, WIP.PBN__Technology_4897],\n",
       " [WIP.PBN__RiskGroup_4, WIP.PBN__Risk_19757, WIP.PBN__Technology_4897],\n",
       " [WIP.PBN__RiskGroup_4, WIP.PBN__Risk_20771, WIP.PBN__Technology_4897],\n",
       " ...]"
      ]
     },
     "execution_count": 30,
     "metadata": {},
     "output_type": "execute_result"
    }
   ],
   "source": [
    "EX(\"\"\"PREFIX pbn: <https://github.com/mm80843/T3.5/raw/main/pbn_t3_5.owl#>\n",
    "\n",
    "SELECT DISTINCT ?riskGroup ?risk ?technology\n",
    "WHERE {\n",
    "  ?riskGroup a pbn:RiskGroup .\n",
    "  ?risk pbn:has_RiskGroup ?riskGroup .\n",
    "  ?risk pbn:has_RiskTechnology ?technology .\n",
    "  FILTER (?riskGroup = pbn:PBN__RiskGroup_4)  # Replace 'SpecificRiskGroup' with the actual RiskGroup of interest\n",
    "}\n",
    "ORDER BY ?technology  # or another property if you have a ranking metric\n",
    "\"\"\")"
   ]
  },
  {
   "cell_type": "code",
   "execution_count": 38,
   "metadata": {},
   "outputs": [
    {
     "data": {
      "text/plain": [
       "[[WIP.PBN__RiskGroup_4, WIP.PBN__TechGroup_0, WIP.PBN__TechSubgroup_52, 459],\n",
       " [WIP.PBN__RiskGroup_4, WIP.PBN__TechGroup_0, WIP.PBN__TechSubgroup_34, 175],\n",
       " [WIP.PBN__RiskGroup_4, WIP.PBN__TechGroup_0, WIP.PBN__TechSubgroup_55, 139],\n",
       " [WIP.PBN__RiskGroup_4, WIP.PBN__TechGroup_6, WIP.PBN__TechSubgroup_47, 126],\n",
       " [WIP.PBN__RiskGroup_4, WIP.PBN__TechGroup_6, WIP.PBN__TechSubgroup_10, 117]]"
      ]
     },
     "execution_count": 38,
     "metadata": {},
     "output_type": "execute_result"
    }
   ],
   "source": [
    "A = EX(\"\"\"PREFIX pbn: <https://github.com/mm80843/T3.5/raw/main/pbn_t3_5.owl#>\n",
    "\n",
    "SELECT ?riskGroup ?techGroup ?techSubgroup (COUNT(?technology) AS ?techCount)\n",
    "WHERE {\n",
    "\n",
    "  ?riskGroup a pbn:RiskGroup .\n",
    "  ?techSubgroup a pbn:TechSubgroup .\n",
    "  ?technology a pbn:Technology . \n",
    "  ?riskGroup a pbn:RiskGroup . \n",
    "  ?techGroup a pbn:TechGroup .\n",
    "\n",
    "  ?risk pbn:has_RiskGroup ?riskGroup .\n",
    "  ?risk pbn:has_RiskTechnology ?technology .\n",
    "  ?technology pbn:has_TechSubgroup ?techSubgroup . \n",
    "  ?technology pbn:has_TechGroup ?techGroup . \n",
    "  FILTER (?riskGroup = pbn:PBN__RiskGroup_4) \n",
    "}\n",
    "GROUP BY ?techSubgroup\n",
    "ORDER BY DESC(?techCount)\n",
    "LIMIT 5\"\"\")\n",
    "A"
   ]
  },
  {
   "cell_type": "code",
   "execution_count": 33,
   "metadata": {},
   "outputs": [
    {
     "data": {
      "text/plain": [
       "[[WIP.PBN__RiskGroup_4, WIP.PBN__TechGroup_0, 1020],\n",
       " [WIP.PBN__RiskGroup_4, WIP.PBN__TechGroup_6, 471],\n",
       " [WIP.PBN__RiskGroup_4, WIP.PBN__TechGroup_10, 166]]"
      ]
     },
     "execution_count": 33,
     "metadata": {},
     "output_type": "execute_result"
    }
   ],
   "source": [
    "A = EX(\"\"\"PREFIX pbn: <https://github.com/mm80843/T3.5/raw/main/pbn_t3_5.owl#>\n",
    "\n",
    "SELECT ?riskGroup ?techGroup (COUNT(?technology) AS ?techCount)\n",
    "WHERE {\n",
    "\n",
    "  ?riskGroup a pbn:RiskGroup .\n",
    "  ?techGroup a pbn:TechGroup .\n",
    "  ?technology a pbn:Technology . \n",
    "  ?riskGroup a pbn:RiskGroup . \n",
    "\n",
    "  ?risk pbn:has_RiskGroup ?riskGroup .\n",
    "  ?risk pbn:has_RiskTechnology ?technology .\n",
    "  ?technology pbn:has_TechGroup ?techGroup . \n",
    "\n",
    "  FILTER (?riskGroup = pbn:PBN__RiskGroup_4) \n",
    "}\n",
    "GROUP BY ?techGroup\n",
    "ORDER BY DESC(?techCount)\n",
    "LIMIT 3\"\"\")\n",
    "A"
   ]
  }
 ],
 "metadata": {
  "kernelspec": {
   "display_name": "venv",
   "language": "python",
   "name": "python3"
  },
  "language_info": {
   "codemirror_mode": {
    "name": "ipython",
    "version": 3
   },
   "file_extension": ".py",
   "mimetype": "text/x-python",
   "name": "python",
   "nbconvert_exporter": "python",
   "pygments_lexer": "ipython3",
   "version": "3.10.12"
  },
  "vscode": {
   "interpreter": {
    "hash": "f79bc2406addd2c06911dc053b733d86c52c13481e10d53afee492d28d2db597"
   }
  }
 },
 "nbformat": 4,
 "nbformat_minor": 2
}
