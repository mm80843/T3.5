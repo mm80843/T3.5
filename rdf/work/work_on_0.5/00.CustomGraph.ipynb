{
 "cells": [
  {
   "cell_type": "code",
   "execution_count": 19,
   "metadata": {},
   "outputs": [
    {
     "name": "stdout",
     "output_type": "stream",
     "text": [
      "0.40\n",
      "The autoreload extension is already loaded. To reload it, use:\n",
      "  %reload_ext autoreload\n"
     ]
    }
   ],
   "source": [
    "import pandas as pd\n",
    "import os, glob, re\n",
    "\n",
    "from owlready2 import *\n",
    "import owlready2\n",
    "print(owlready2.VERSION)\n",
    "\n",
    "\n",
    "import importlib.util\n",
    "import sys\n",
    "spec = importlib.util.spec_from_file_location(\"rdfutils\", \"../../../utils/rdfutils.py\")\n",
    "u = importlib.util.module_from_spec(spec)\n",
    "sys.modules[\"rdfutils\"] = u\n",
    "spec.loader.exec_module(u)\n",
    "\n",
    "spec = importlib.util.spec_from_file_location(\"llm\", \"../../../utils/llm.py\")\n",
    "h = importlib.util.module_from_spec(spec)\n",
    "sys.modules[\"llm\"] = h\n",
    "spec.loader.exec_module(h)\n",
    "\n",
    "from datetime import datetime\n",
    "\n",
    "def NOW():\n",
    "    now = datetime.now()\n",
    "    current_time = now.strftime(\"%H:%M:%S\")\n",
    "    return \"Current Time = \"+ str(current_time)\n",
    "\n",
    "%load_ext autoreload\n",
    "%autoreload 2\n"
   ]
  },
  {
   "cell_type": "code",
   "execution_count": 20,
   "metadata": {},
   "outputs": [],
   "source": [
    "import requests, json"
   ]
  },
  {
   "cell_type": "code",
   "execution_count": 21,
   "metadata": {},
   "outputs": [
    {
     "name": "stdout",
     "output_type": "stream",
     "text": [
      "ID: 0 \t Description: Creation of a knowledge graph based on a litterature review, augmented by use of LLMs.\n",
      "ID: 1 \t Library: owlready2==0.45\n",
      "ID: 2 \t Next: Check formulas for selecting most repeated items in groups\n",
      "ID: 3 \t TODOs: Adding synonyms and solving classification with synonyms\n",
      "ID: 4 \t Project: PROBONO\n",
      "ID: 5 \t License: CC BY-NC-SA\n",
      "ID: 6 \t Task: T3.5\n",
      "ID: 7 \t Repository: https://github.com/mm80843/T3.5/\n",
      "ID: 8 \t Author: Luc Jonveaux\n",
      "ID: 9 \t Language: English\n",
      "ID: 10 \t Version: 0.5\n",
      "ID: 11 \t Changes from: 0.4\n",
      "ID: 12 \t Changes: Update/add of blueprints, adding main groups\n",
      "ID: 13 \t Creation: 08/04/2024\n",
      "ID: 14 \t VersionComment: Major cleanup and classification\n",
      "ID: 15 \t Next: To be determine\n",
      "ID: 16 \t Author: Luc Jonveaux\n",
      "ID: 17 \t Creation: 30/10/2023\n",
      "ID: 18 \t License: CC BY-NC-SA\n",
      "ID: 19 \t Language: English\n",
      "ID: 20 \t Version: 0.2.2\n",
      "ID: 21 \t VersionComment: Additional corrections\n",
      "ID: 22 \t Project: PROBONO\n",
      "ID: 23 \t Task: T3.5\n",
      "ID: 24 \t Library: owlready2==0.40\n",
      "ID: 25 \t Description: Creation of a knowledge graph based on a litterature review, augmented by use of LLMs.\n",
      "ID: 26 \t Changes from: 0.0\n",
      "ID: 27 \t Changes: Creation of the knowledge graph\n",
      "ID: 28 \t Changes from: 0.1\n",
      "ID: 29 \t Changes: Adding relations, simplified ontology, closest items, and descriptions\n",
      "ID: 30 \t Repository: https://github.com/mm80843/T3.5/\n",
      "ID: 31 \t TODOs: Quite a number! Creating metaRisks, making it accessible..\n",
      "ID: 32 \t Description: Creation of a knowledge graph based on a litterature review, augmented by use of LLMs.\n",
      "ID: 33 \t Library: owlready2==0.45\n",
      "ID: 34 \t Next: Check formulas for selecting most repeated items in groups\n",
      "ID: 35 \t TODOs: Adding synonyms and solving classification with synonyms\n",
      "ID: 36 \t Project: PROBONO\n",
      "ID: 37 \t License: CC BY-NC-SA\n",
      "ID: 38 \t Task: T3.5\n",
      "ID: 39 \t Repository: https://github.com/mm80843/T3.5/\n",
      "ID: 40 \t Author: Luc Jonveaux\n",
      "ID: 41 \t Language: English\n",
      "ID: 42 \t Version: 0.5\n",
      "ID: 43 \t Changes from: 0.4\n",
      "ID: 44 \t Changes: Update/add of blueprints, adding main groups\n",
      "ID: 45 \t Creation: 08/04/2024\n",
      "ID: 46 \t VersionComment: Major cleanup and classification\n",
      "ID: 47 \t Next: To be determine\n"
     ]
    }
   ],
   "source": [
    "onto = get_ontology(\"WIP_Step0.owl\").load()\n",
    "comments = u.checkComments(onto)"
   ]
  },
  {
   "cell_type": "code",
   "execution_count": 22,
   "metadata": {},
   "outputs": [],
   "source": [
    "def sparql(REQ):\n",
    "    return list(default_world.sparql(REQ))"
   ]
  },
  {
   "cell_type": "code",
   "execution_count": 23,
   "metadata": {},
   "outputs": [
    {
     "data": {
      "text/plain": [
       "['Mental health',\n",
       " 'User journey',\n",
       " 'Activities continuity',\n",
       " 'Propagation monitoring',\n",
       " 'User behavior',\n",
       " 'Water quality',\n",
       " 'Air quality',\n",
       " 'Information management',\n",
       " 'Sanitizing',\n",
       " 'Space design',\n",
       " 'Information management']"
      ]
     },
     "execution_count": 23,
     "metadata": {},
     "output_type": "execute_result"
    }
   ],
   "source": [
    "# Category, Theme, Intervention \n",
    "[x.label[0] for x in onto.BP_Theme.instances()]"
   ]
  }
 ],
 "metadata": {
  "kernelspec": {
   "display_name": ".venv",
   "language": "python",
   "name": "python3"
  },
  "language_info": {
   "codemirror_mode": {
    "name": "ipython",
    "version": 3
   },
   "file_extension": ".py",
   "mimetype": "text/x-python",
   "name": "python",
   "nbconvert_exporter": "python",
   "pygments_lexer": "ipython3",
   "version": "3.11.3"
  }
 },
 "nbformat": 4,
 "nbformat_minor": 2
}
