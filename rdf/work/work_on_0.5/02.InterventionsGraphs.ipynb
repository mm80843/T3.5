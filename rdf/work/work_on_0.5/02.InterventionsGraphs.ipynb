{
 "cells": [
  {
   "cell_type": "code",
   "execution_count": 1,
   "metadata": {},
   "outputs": [
    {
     "name": "stdout",
     "output_type": "stream",
     "text": [
      "0.40\n"
     ]
    },
    {
     "name": "stderr",
     "output_type": "stream",
     "text": [
      "* Owlready2 * Warning: optimized Cython parser module 'owlready2_optimized' is not available, defaulting to slower Python implementation\n"
     ]
    }
   ],
   "source": [
    "import pandas as pd\n",
    "import os, glob, re\n",
    "\n",
    "from owlready2 import *\n",
    "import owlready2\n",
    "print(owlready2.VERSION)\n",
    "\n",
    "\n",
    "import importlib.util\n",
    "import sys\n",
    "spec = importlib.util.spec_from_file_location(\"rdfutils\", \"../../../utils/rdfutils.py\")\n",
    "u = importlib.util.module_from_spec(spec)\n",
    "sys.modules[\"rdfutils\"] = u\n",
    "spec.loader.exec_module(u)\n",
    "\n",
    "spec = importlib.util.spec_from_file_location(\"llm\", \"../../../utils/llm.py\")\n",
    "h = importlib.util.module_from_spec(spec)\n",
    "sys.modules[\"llm\"] = h\n",
    "spec.loader.exec_module(h)\n",
    "\n",
    "from datetime import datetime\n",
    "\n",
    "def NOW():\n",
    "    now = datetime.now()\n",
    "    current_time = now.strftime(\"%H:%M:%S\")\n",
    "    return \"Current Time = \"+ str(current_time)\n",
    "\n",
    "%load_ext autoreload\n",
    "%autoreload 2\n"
   ]
  },
  {
   "cell_type": "code",
   "execution_count": 2,
   "metadata": {},
   "outputs": [],
   "source": [
    "import requests, json"
   ]
  },
  {
   "cell_type": "code",
   "execution_count": 3,
   "metadata": {},
   "outputs": [
    {
     "name": "stdout",
     "output_type": "stream",
     "text": [
      "ID: 0 \t Description: Creation of a knowledge graph based on a litterature review, augmented by use of LLMs.\n",
      "ID: 1 \t Library: owlready2==0.45\n",
      "ID: 2 \t Next: Check formulas for selecting most repeated items in groups\n",
      "ID: 3 \t TODOs: Adding synonyms and solving classification with synonyms\n",
      "ID: 4 \t Project: PROBONO\n",
      "ID: 5 \t License: CC BY-NC-SA\n",
      "ID: 6 \t Task: T3.5\n",
      "ID: 7 \t Repository: https://github.com/mm80843/T3.5/\n",
      "ID: 8 \t Author: Luc Jonveaux\n",
      "ID: 9 \t Language: English\n",
      "ID: 10 \t Version: 0.5\n",
      "ID: 11 \t Changes from: 0.4\n",
      "ID: 12 \t Changes: Update/add of blueprints, adding main groups\n",
      "ID: 13 \t Creation: 08/04/2024\n",
      "ID: 14 \t VersionComment: Major cleanup and classification\n",
      "ID: 15 \t Next: To be determine\n"
     ]
    }
   ],
   "source": [
    "onto = get_ontology(\"WIP_Step0.owl\").load()\n",
    "comments = u.checkComments(onto)"
   ]
  },
  {
   "cell_type": "code",
   "execution_count": 4,
   "metadata": {},
   "outputs": [],
   "source": [
    "def sparql(REQ):\n",
    "    return list(default_world.sparql(REQ))"
   ]
  },
  {
   "cell_type": "code",
   "execution_count": 45,
   "metadata": {},
   "outputs": [
    {
     "data": {
      "text/plain": [
       "WIP_Step0.PBN__BP_Intervention_38"
      ]
     },
     "execution_count": 45,
     "metadata": {},
     "output_type": "execute_result"
    }
   ],
   "source": [
    "list(onto.BP_Intervention.instances())[0]"
   ]
  },
  {
   "cell_type": "code",
   "execution_count": 57,
   "metadata": {},
   "outputs": [
    {
     "data": {
      "text/html": [
       "<div>\n",
       "<style scoped>\n",
       "    .dataframe tbody tr th:only-of-type {\n",
       "        vertical-align: middle;\n",
       "    }\n",
       "\n",
       "    .dataframe tbody tr th {\n",
       "        vertical-align: top;\n",
       "    }\n",
       "\n",
       "    .dataframe thead th {\n",
       "        text-align: right;\n",
       "    }\n",
       "</style>\n",
       "<table border=\"1\" class=\"dataframe\">\n",
       "  <thead>\n",
       "    <tr style=\"text-align: right;\">\n",
       "      <th></th>\n",
       "      <th>themeID</th>\n",
       "      <th>themeLabel</th>\n",
       "      <th>CategoryID</th>\n",
       "      <th>interventionID</th>\n",
       "    </tr>\n",
       "  </thead>\n",
       "  <tbody>\n",
       "    <tr>\n",
       "      <th>0</th>\n",
       "      <td>WIP_Step0.PBN__BP_Theme_1</td>\n",
       "      <td>Air quality</td>\n",
       "      <td>WIP_Step0.PBN__BP_Category_1</td>\n",
       "      <td>WIP_Step0.PBN__BP_Intervention_1</td>\n",
       "    </tr>\n",
       "    <tr>\n",
       "      <th>1</th>\n",
       "      <td>WIP_Step0.PBN__BP_Theme_2</td>\n",
       "      <td>Water quality</td>\n",
       "      <td>WIP_Step0.PBN__BP_Category_1</td>\n",
       "      <td>WIP_Step0.PBN__BP_Intervention_9</td>\n",
       "    </tr>\n",
       "    <tr>\n",
       "      <th>2</th>\n",
       "      <td>WIP_Step0.PBN__BP_Theme_3</td>\n",
       "      <td>Sanitizing</td>\n",
       "      <td>WIP_Step0.PBN__BP_Category_1</td>\n",
       "      <td>WIP_Step0.PBN__BP_Intervention_41</td>\n",
       "    </tr>\n",
       "    <tr>\n",
       "      <th>3</th>\n",
       "      <td>WIP_Step0.PBN__BP_Theme_4</td>\n",
       "      <td>User journey</td>\n",
       "      <td>WIP_Step0.PBN__BP_Category_2</td>\n",
       "      <td>WIP_Step0.PBN__BP_Intervention_42</td>\n",
       "    </tr>\n",
       "    <tr>\n",
       "      <th>4</th>\n",
       "      <td>WIP_Step0.PBN__BP_Theme_5</td>\n",
       "      <td>User behavior</td>\n",
       "      <td>WIP_Step0.PBN__BP_Category_2</td>\n",
       "      <td>WIP_Step0.PBN__BP_Intervention_20</td>\n",
       "    </tr>\n",
       "    <tr>\n",
       "      <th>5</th>\n",
       "      <td>WIP_Step0.PBN__BP_Theme_6</td>\n",
       "      <td>Mental health</td>\n",
       "      <td>WIP_Step0.PBN__BP_Category_2</td>\n",
       "      <td>WIP_Step0.PBN__BP_Intervention_26</td>\n",
       "    </tr>\n",
       "    <tr>\n",
       "      <th>6</th>\n",
       "      <td>WIP_Step0.PBN__BP_Theme_7</td>\n",
       "      <td>Space design</td>\n",
       "      <td>WIP_Step0.PBN__BP_Category_2</td>\n",
       "      <td>WIP_Step0.PBN__BP_Intervention_28</td>\n",
       "    </tr>\n",
       "    <tr>\n",
       "      <th>7</th>\n",
       "      <td>WIP_Step0.PBN__BP_Theme_8</td>\n",
       "      <td>Propagation monitoring</td>\n",
       "      <td>WIP_Step0.PBN__BP_Category_3</td>\n",
       "      <td>WIP_Step0.PBN__BP_Intervention_29</td>\n",
       "    </tr>\n",
       "    <tr>\n",
       "      <th>8</th>\n",
       "      <td>WIP_Step0.PBN__BP_Theme_9</td>\n",
       "      <td>Activities continuity</td>\n",
       "      <td>WIP_Step0.PBN__BP_Category_3</td>\n",
       "      <td>WIP_Step0.PBN__BP_Intervention_33</td>\n",
       "    </tr>\n",
       "    <tr>\n",
       "      <th>9</th>\n",
       "      <td>WIP_Step0.PBN__BP_Theme_10</td>\n",
       "      <td>Information management</td>\n",
       "      <td>WIP_Step0.PBN__BP_Category_3</td>\n",
       "      <td>WIP_Step0.PBN__BP_Intervention_38</td>\n",
       "    </tr>\n",
       "  </tbody>\n",
       "</table>\n",
       "</div>"
      ],
      "text/plain": [
       "                      themeID              themeLabel  \\\n",
       "0   WIP_Step0.PBN__BP_Theme_1             Air quality   \n",
       "1   WIP_Step0.PBN__BP_Theme_2           Water quality   \n",
       "2   WIP_Step0.PBN__BP_Theme_3              Sanitizing   \n",
       "3   WIP_Step0.PBN__BP_Theme_4            User journey   \n",
       "4   WIP_Step0.PBN__BP_Theme_5           User behavior   \n",
       "5   WIP_Step0.PBN__BP_Theme_6           Mental health   \n",
       "6   WIP_Step0.PBN__BP_Theme_7            Space design   \n",
       "7   WIP_Step0.PBN__BP_Theme_8  Propagation monitoring   \n",
       "8   WIP_Step0.PBN__BP_Theme_9   Activities continuity   \n",
       "9  WIP_Step0.PBN__BP_Theme_10  Information management   \n",
       "\n",
       "                     CategoryID                     interventionID  \n",
       "0  WIP_Step0.PBN__BP_Category_1   WIP_Step0.PBN__BP_Intervention_1  \n",
       "1  WIP_Step0.PBN__BP_Category_1   WIP_Step0.PBN__BP_Intervention_9  \n",
       "2  WIP_Step0.PBN__BP_Category_1  WIP_Step0.PBN__BP_Intervention_41  \n",
       "3  WIP_Step0.PBN__BP_Category_2  WIP_Step0.PBN__BP_Intervention_42  \n",
       "4  WIP_Step0.PBN__BP_Category_2  WIP_Step0.PBN__BP_Intervention_20  \n",
       "5  WIP_Step0.PBN__BP_Category_2  WIP_Step0.PBN__BP_Intervention_26  \n",
       "6  WIP_Step0.PBN__BP_Category_2  WIP_Step0.PBN__BP_Intervention_28  \n",
       "7  WIP_Step0.PBN__BP_Category_3  WIP_Step0.PBN__BP_Intervention_29  \n",
       "8  WIP_Step0.PBN__BP_Category_3  WIP_Step0.PBN__BP_Intervention_33  \n",
       "9  WIP_Step0.PBN__BP_Category_3  WIP_Step0.PBN__BP_Intervention_38  "
      ]
     },
     "execution_count": 57,
     "metadata": {},
     "output_type": "execute_result"
    }
   ],
   "source": [
    "# Category, Theme, Intervention \n",
    "dfThemes = pd.DataFrame([[str(x),x.label[0],str(x.has_BPThemeCategory[0]),str(x.has_BPThemeIntervention[0])] for x in onto.BP_Theme.instances()],columns=[\"themeID\",\"themeLabel\",\"CategoryID\",\"interventionID\"])\n",
    "dfIntervention = pd.DataFrame([[str(x),x.label[0],str(x.has_BPInterventionTheme[0]),str(x.has_BP_InterventionTitle[0]), len(x.has_InterventionBP)] for x in onto.BP_Intervention.instances()],columns=[\"interventionID\",\"interventionLabel\",\"themeID\",\"themeTitle\",\"nBP\"])\n",
    "dfCategory = pd.DataFrame([[str(x),x.label[0],[str(y) for y in x.has_BPCategoryTheme]] for x in onto.BP_Category.instances()],columns=[\"CategoryID\",\"categoryLabel\",\"themeID\"]).explode(\"themeID\")\n",
    "dfThemes"
   ]
  },
  {
   "cell_type": "code",
   "execution_count": 66,
   "metadata": {},
   "outputs": [
    {
     "data": {
      "text/html": [
       "<div>\n",
       "<style scoped>\n",
       "    .dataframe tbody tr th:only-of-type {\n",
       "        vertical-align: middle;\n",
       "    }\n",
       "\n",
       "    .dataframe tbody tr th {\n",
       "        vertical-align: top;\n",
       "    }\n",
       "\n",
       "    .dataframe thead th {\n",
       "        text-align: right;\n",
       "    }\n",
       "</style>\n",
       "<table border=\"1\" class=\"dataframe\">\n",
       "  <thead>\n",
       "    <tr style=\"text-align: right;\">\n",
       "      <th></th>\n",
       "      <th>categoryLabel</th>\n",
       "      <th>interventionLabel</th>\n",
       "      <th>nBP</th>\n",
       "      <th>themeLabel</th>\n",
       "    </tr>\n",
       "  </thead>\n",
       "  <tbody>\n",
       "    <tr>\n",
       "      <th>23</th>\n",
       "      <td>Human-centered</td>\n",
       "      <td>Ensure use of personal protection equipment</td>\n",
       "      <td>1</td>\n",
       "      <td>User behavior</td>\n",
       "    </tr>\n",
       "    <tr>\n",
       "      <th>26</th>\n",
       "      <td>Human-centered</td>\n",
       "      <td>Greenery</td>\n",
       "      <td>2</td>\n",
       "      <td>Mental health</td>\n",
       "    </tr>\n",
       "    <tr>\n",
       "      <th>25</th>\n",
       "      <td>Human-centered</td>\n",
       "      <td>Improve physical health</td>\n",
       "      <td>1</td>\n",
       "      <td>Mental health</td>\n",
       "    </tr>\n",
       "    <tr>\n",
       "      <th>28</th>\n",
       "      <td>Human-centered</td>\n",
       "      <td>Introduce \"multi-use\" / modular designs</td>\n",
       "      <td>2</td>\n",
       "      <td>Space design</td>\n",
       "    </tr>\n",
       "    <tr>\n",
       "      <th>17</th>\n",
       "      <td>Human-centered</td>\n",
       "      <td>Occupancy control eg separating at/risk contam...</td>\n",
       "      <td>4</td>\n",
       "      <td>User journey</td>\n",
       "    </tr>\n",
       "    <tr>\n",
       "      <th>19</th>\n",
       "      <td>Human-centered</td>\n",
       "      <td>Optimize users flows to prevent contamination</td>\n",
       "      <td>3</td>\n",
       "      <td>User journey</td>\n",
       "    </tr>\n",
       "    <tr>\n",
       "      <th>27</th>\n",
       "      <td>Human-centered</td>\n",
       "      <td>Outdoor spaces</td>\n",
       "      <td>4</td>\n",
       "      <td>Mental health</td>\n",
       "    </tr>\n",
       "    <tr>\n",
       "      <th>21</th>\n",
       "      <td>Human-centered</td>\n",
       "      <td>Personal hygiene eg handwashing</td>\n",
       "      <td>1</td>\n",
       "      <td>User behavior</td>\n",
       "    </tr>\n",
       "    <tr>\n",
       "      <th>18</th>\n",
       "      <td>Human-centered</td>\n",
       "      <td>Shift controls occupancy control of total users</td>\n",
       "      <td>1</td>\n",
       "      <td>User journey</td>\n",
       "    </tr>\n",
       "    <tr>\n",
       "      <th>24</th>\n",
       "      <td>Human-centered</td>\n",
       "      <td>Social activities / facilitatie social interac...</td>\n",
       "      <td>2</td>\n",
       "      <td>Mental health</td>\n",
       "    </tr>\n",
       "    <tr>\n",
       "      <th>20</th>\n",
       "      <td>Human-centered</td>\n",
       "      <td>Social distancing</td>\n",
       "      <td>4</td>\n",
       "      <td>User behavior</td>\n",
       "    </tr>\n",
       "    <tr>\n",
       "      <th>22</th>\n",
       "      <td>Human-centered</td>\n",
       "      <td>Staff training / upskilling</td>\n",
       "      <td>1</td>\n",
       "      <td>User behavior</td>\n",
       "    </tr>\n",
       "    <tr>\n",
       "      <th>34</th>\n",
       "      <td>Manage</td>\n",
       "      <td>Absorb resource shortages</td>\n",
       "      <td>2</td>\n",
       "      <td>Activities continuity</td>\n",
       "    </tr>\n",
       "    <tr>\n",
       "      <th>33</th>\n",
       "      <td>Manage</td>\n",
       "      <td>Absorb surge in service demande</td>\n",
       "      <td>1</td>\n",
       "      <td>Activities continuity</td>\n",
       "    </tr>\n",
       "    <tr>\n",
       "      <th>31</th>\n",
       "      <td>Manage</td>\n",
       "      <td>Early detection</td>\n",
       "      <td>4</td>\n",
       "      <td>Propagation monitoring</td>\n",
       "    </tr>\n",
       "    <tr>\n",
       "      <th>37</th>\n",
       "      <td>Manage</td>\n",
       "      <td>Facilitate transparent communication</td>\n",
       "      <td>1</td>\n",
       "      <td>Information management</td>\n",
       "    </tr>\n",
       "    <tr>\n",
       "      <th>29</th>\n",
       "      <td>Manage</td>\n",
       "      <td>Infection tracking / monitoring</td>\n",
       "      <td>2</td>\n",
       "      <td>Propagation monitoring</td>\n",
       "    </tr>\n",
       "    <tr>\n",
       "      <th>35</th>\n",
       "      <td>Manage</td>\n",
       "      <td>Minimize supply chain disruptions</td>\n",
       "      <td>2</td>\n",
       "      <td>Activities continuity</td>\n",
       "    </tr>\n",
       "    <tr>\n",
       "      <th>39</th>\n",
       "      <td>Manage</td>\n",
       "      <td>Prevent fake news</td>\n",
       "      <td>2</td>\n",
       "      <td>Information management</td>\n",
       "    </tr>\n",
       "    <tr>\n",
       "      <th>38</th>\n",
       "      <td>Manage</td>\n",
       "      <td>Promote verified information</td>\n",
       "      <td>2</td>\n",
       "      <td>Information management</td>\n",
       "    </tr>\n",
       "    <tr>\n",
       "      <th>30</th>\n",
       "      <td>Manage</td>\n",
       "      <td>Quarantine support</td>\n",
       "      <td>2</td>\n",
       "      <td>Propagation monitoring</td>\n",
       "    </tr>\n",
       "    <tr>\n",
       "      <th>36</th>\n",
       "      <td>Manage</td>\n",
       "      <td>Raising awareness</td>\n",
       "      <td>4</td>\n",
       "      <td>Information management</td>\n",
       "    </tr>\n",
       "    <tr>\n",
       "      <th>32</th>\n",
       "      <td>Manage</td>\n",
       "      <td>Support recovery of sectors via remote work</td>\n",
       "      <td>0</td>\n",
       "      <td>Activities continuity</td>\n",
       "    </tr>\n",
       "    <tr>\n",
       "      <th>3</th>\n",
       "      <td>Prevention</td>\n",
       "      <td>Air filtration</td>\n",
       "      <td>2</td>\n",
       "      <td>Air quality</td>\n",
       "    </tr>\n",
       "    <tr>\n",
       "      <th>13</th>\n",
       "      <td>Prevention</td>\n",
       "      <td>Animal vectors control</td>\n",
       "      <td>2</td>\n",
       "      <td>Sanitizing</td>\n",
       "    </tr>\n",
       "    <tr>\n",
       "      <th>12</th>\n",
       "      <td>Prevention</td>\n",
       "      <td>Cleaning technologies robots</td>\n",
       "      <td>0</td>\n",
       "      <td>Sanitizing</td>\n",
       "    </tr>\n",
       "    <tr>\n",
       "      <th>1</th>\n",
       "      <td>Prevention</td>\n",
       "      <td>Control airflows in spaces &amp; Avoid air recircu...</td>\n",
       "      <td>0</td>\n",
       "      <td>Air quality</td>\n",
       "    </tr>\n",
       "    <tr>\n",
       "      <th>7</th>\n",
       "      <td>Prevention</td>\n",
       "      <td>Control of airflows airtight / negative pressure</td>\n",
       "      <td>0</td>\n",
       "      <td>Air quality</td>\n",
       "    </tr>\n",
       "    <tr>\n",
       "      <th>4</th>\n",
       "      <td>Prevention</td>\n",
       "      <td>Disinfection of air</td>\n",
       "      <td>1</td>\n",
       "      <td>Air quality</td>\n",
       "    </tr>\n",
       "    <tr>\n",
       "      <th>0</th>\n",
       "      <td>Prevention</td>\n",
       "      <td>Environmental parameters control</td>\n",
       "      <td>1</td>\n",
       "      <td>Air quality</td>\n",
       "    </tr>\n",
       "    <tr>\n",
       "      <th>9</th>\n",
       "      <td>Prevention</td>\n",
       "      <td>Greywater management</td>\n",
       "      <td>0</td>\n",
       "      <td>Water quality</td>\n",
       "    </tr>\n",
       "    <tr>\n",
       "      <th>8</th>\n",
       "      <td>Prevention</td>\n",
       "      <td>Maintenance / decontamination of building wate...</td>\n",
       "      <td>3</td>\n",
       "      <td>Water quality</td>\n",
       "    </tr>\n",
       "    <tr>\n",
       "      <th>10</th>\n",
       "      <td>Prevention</td>\n",
       "      <td>Managing drinking water safety measures</td>\n",
       "      <td>2</td>\n",
       "      <td>Water quality</td>\n",
       "    </tr>\n",
       "    <tr>\n",
       "      <th>5</th>\n",
       "      <td>Prevention</td>\n",
       "      <td>Monitor and control indoor air quality</td>\n",
       "      <td>3</td>\n",
       "      <td>Air quality</td>\n",
       "    </tr>\n",
       "    <tr>\n",
       "      <th>2</th>\n",
       "      <td>Prevention</td>\n",
       "      <td>Natural ventilation increase</td>\n",
       "      <td>0</td>\n",
       "      <td>Air quality</td>\n",
       "    </tr>\n",
       "    <tr>\n",
       "      <th>15</th>\n",
       "      <td>Prevention</td>\n",
       "      <td>Selection of materials</td>\n",
       "      <td>4</td>\n",
       "      <td>Sanitizing</td>\n",
       "    </tr>\n",
       "    <tr>\n",
       "      <th>11</th>\n",
       "      <td>Prevention</td>\n",
       "      <td>Separate water facilities toilets/bathrooms fo...</td>\n",
       "      <td>0</td>\n",
       "      <td>Water quality</td>\n",
       "    </tr>\n",
       "    <tr>\n",
       "      <th>16</th>\n",
       "      <td>Prevention</td>\n",
       "      <td>Touchless technologies</td>\n",
       "      <td>2</td>\n",
       "      <td>Sanitizing</td>\n",
       "    </tr>\n",
       "    <tr>\n",
       "      <th>6</th>\n",
       "      <td>Prevention</td>\n",
       "      <td>Use of smart/innovative air quality controls t...</td>\n",
       "      <td>3</td>\n",
       "      <td>Air quality</td>\n",
       "    </tr>\n",
       "    <tr>\n",
       "      <th>14</th>\n",
       "      <td>Prevention</td>\n",
       "      <td>Wall and floors treatment</td>\n",
       "      <td>2</td>\n",
       "      <td>Sanitizing</td>\n",
       "    </tr>\n",
       "  </tbody>\n",
       "</table>\n",
       "</div>"
      ],
      "text/plain": [
       "     categoryLabel                                  interventionLabel  nBP  \\\n",
       "23  Human-centered        Ensure use of personal protection equipment    1   \n",
       "26  Human-centered                                           Greenery    2   \n",
       "25  Human-centered                            Improve physical health    1   \n",
       "28  Human-centered            Introduce \"multi-use\" / modular designs    2   \n",
       "17  Human-centered  Occupancy control eg separating at/risk contam...    4   \n",
       "19  Human-centered      Optimize users flows to prevent contamination    3   \n",
       "27  Human-centered                                     Outdoor spaces    4   \n",
       "21  Human-centered                    Personal hygiene eg handwashing    1   \n",
       "18  Human-centered    Shift controls occupancy control of total users    1   \n",
       "24  Human-centered  Social activities / facilitatie social interac...    2   \n",
       "20  Human-centered                                  Social distancing    4   \n",
       "22  Human-centered                        Staff training / upskilling    1   \n",
       "34          Manage                          Absorb resource shortages    2   \n",
       "33          Manage                    Absorb surge in service demande    1   \n",
       "31          Manage                                    Early detection    4   \n",
       "37          Manage               Facilitate transparent communication    1   \n",
       "29          Manage                    Infection tracking / monitoring    2   \n",
       "35          Manage                  Minimize supply chain disruptions    2   \n",
       "39          Manage                                  Prevent fake news    2   \n",
       "38          Manage                       Promote verified information    2   \n",
       "30          Manage                                 Quarantine support    2   \n",
       "36          Manage                                  Raising awareness    4   \n",
       "32          Manage        Support recovery of sectors via remote work    0   \n",
       "3       Prevention                                     Air filtration    2   \n",
       "13      Prevention                             Animal vectors control    2   \n",
       "12      Prevention                       Cleaning technologies robots    0   \n",
       "1       Prevention  Control airflows in spaces & Avoid air recircu...    0   \n",
       "7       Prevention   Control of airflows airtight / negative pressure    0   \n",
       "4       Prevention                                Disinfection of air    1   \n",
       "0       Prevention                   Environmental parameters control    1   \n",
       "9       Prevention                               Greywater management    0   \n",
       "8       Prevention  Maintenance / decontamination of building wate...    3   \n",
       "10      Prevention            Managing drinking water safety measures    2   \n",
       "5       Prevention             Monitor and control indoor air quality    3   \n",
       "2       Prevention                       Natural ventilation increase    0   \n",
       "15      Prevention                             Selection of materials    4   \n",
       "11      Prevention  Separate water facilities toilets/bathrooms fo...    0   \n",
       "16      Prevention                             Touchless technologies    2   \n",
       "6       Prevention  Use of smart/innovative air quality controls t...    3   \n",
       "14      Prevention                          Wall and floors treatment    2   \n",
       "\n",
       "                themeLabel  \n",
       "23           User behavior  \n",
       "26           Mental health  \n",
       "25           Mental health  \n",
       "28            Space design  \n",
       "17            User journey  \n",
       "19            User journey  \n",
       "27           Mental health  \n",
       "21           User behavior  \n",
       "18            User journey  \n",
       "24           Mental health  \n",
       "20           User behavior  \n",
       "22           User behavior  \n",
       "34   Activities continuity  \n",
       "33   Activities continuity  \n",
       "31  Propagation monitoring  \n",
       "37  Information management  \n",
       "29  Propagation monitoring  \n",
       "35   Activities continuity  \n",
       "39  Information management  \n",
       "38  Information management  \n",
       "30  Propagation monitoring  \n",
       "36  Information management  \n",
       "32   Activities continuity  \n",
       "3              Air quality  \n",
       "13              Sanitizing  \n",
       "12              Sanitizing  \n",
       "1              Air quality  \n",
       "7              Air quality  \n",
       "4              Air quality  \n",
       "0              Air quality  \n",
       "9            Water quality  \n",
       "8            Water quality  \n",
       "10           Water quality  \n",
       "5              Air quality  \n",
       "2              Air quality  \n",
       "15              Sanitizing  \n",
       "11           Water quality  \n",
       "16              Sanitizing  \n",
       "6              Air quality  \n",
       "14              Sanitizing  "
      ]
     },
     "execution_count": 66,
     "metadata": {},
     "output_type": "execute_result"
    }
   ],
   "source": [
    "df = dfCategory.merge(dfIntervention,on=\"themeID\",how=\"right\").merge(dfThemes,on=\"themeID\",how=\"right\")\n",
    "df = df[['categoryLabel', 'interventionLabel', 'nBP','themeLabel']].sort_values([\"categoryLabel\",\"interventionLabel\"])\n",
    "df"
   ]
  },
  {
   "cell_type": "code",
   "execution_count": 79,
   "metadata": {},
   "outputs": [
    {
     "data": {
      "text/plain": [
       "<Axes: >"
      ]
     },
     "execution_count": 79,
     "metadata": {},
     "output_type": "execute_result"
    },
    {
     "data": {
      "image/png": "[encoded data removed]",
      "text/plain": [
       "<Figure size 640x480 with 1 Axes>"
      ]
     },
     "metadata": {},
     "output_type": "display_data"
    }
   ],
   "source": [
    "df.groupby([\"categoryLabel\",\"themeLabel\"]).nBP.sum().to_frame().reset_index().plot.bar()"
   ]
  },
  {
   "cell_type": "code",
   "execution_count": 80,
   "metadata": {},
   "outputs": [],
   "source": [
    "import plotly.express as px"
   ]
  },
  {
   "cell_type": "code",
   "execution_count": 82,
   "metadata": {},
   "outputs": [
    {
     "data": {
      "application/vnd.plotly.v1+json": {
       "config": {
        "plotlyServerURL": "https://plot.ly"
       },
       "data": [
        {
         "branchvalues": "total",
         "domain": {
          "x": [
           0,
           1
          ],
          "y": [
           0,
           1
          ]
         },
         "hovertemplate": "labels=%{label}<br>nBP=%{value}<br>parent=%{parent}<br>id=%{id}<extra></extra>",
         "ids": [
          "Manage/Activities continuity/Absorb resource shortages",
          "Manage/Activities continuity/Absorb surge in service demande",
          "Prevention/Air quality/Air filtration",
          "Prevention/Sanitizing/Animal vectors control",
          "Prevention/Sanitizing/Cleaning technologies robots",
          "Prevention/Air quality/Control airflows in spaces & Avoid air recirculation",
          "Prevention/Air quality/Control of airflows airtight / negative pressure",
          "Prevention/Air quality/Disinfection of air",
          "Manage/Propagation monitoring/Early detection",
          "Human-centered/User behavior/Ensure use of personal protection equipment",
          "Prevention/Air quality/Environmental parameters control",
          "Manage/Information management/Facilitate transparent communication",
          "Human-centered/Mental health/Greenery",
          "Prevention/Water quality/Greywater management",
          "Human-centered/Mental health/Improve physical health",
          "Manage/Propagation monitoring/Infection tracking / monitoring",
          "Human-centered/Space design/Introduce \"multi-use\" / modular designs",
          "Prevention/Water quality/Maintenance / decontamination of building water sytems",
          "Prevention/Water quality/Managing drinking water safety measures",
          "Manage/Activities continuity/Minimize supply chain disruptions",
          "Prevention/Air quality/Monitor and control indoor air quality",
          "Prevention/Air quality/Natural ventilation increase",
          "Human-centered/User journey/Occupancy control eg separating at/risk contaminated population",
          "Human-centered/User journey/Optimize users flows to prevent contamination",
          "Human-centered/Mental health/Outdoor spaces",
          "Human-centered/User behavior/Personal hygiene eg handwashing",
          "Manage/Information management/Prevent fake news",
          "Manage/Information management/Promote verified information",
          "Manage/Propagation monitoring/Quarantine support",
          "Manage/Information management/Raising awareness",
          "Prevention/Sanitizing/Selection of materials",
          "Prevention/Water quality/Separate water facilities toilets/bathrooms for contaminated",
          "Human-centered/User journey/Shift controls occupancy control of total users",
          "Human-centered/Mental health/Social activities / facilitatie social interactions",
          "Human-centered/User behavior/Social distancing",
          "Human-centered/User behavior/Staff training / upskilling",
          "Manage/Activities continuity/Support recovery of sectors via remote work",
          "Prevention/Sanitizing/Touchless technologies",
          "Prevention/Air quality/Use of smart/innovative air quality controls technology",
          "Prevention/Sanitizing/Wall and floors treatment",
          "Manage/Activities continuity",
          "Prevention/Air quality",
          "Manage/Information management",
          "Human-centered/Mental health",
          "Manage/Propagation monitoring",
          "Prevention/Sanitizing",
          "Human-centered/Space design",
          "Human-centered/User behavior",
          "Human-centered/User journey",
          "Prevention/Water quality",
          "Human-centered",
          "Manage",
          "Prevention"
         ],
         "labels": [
          "Absorb resource shortages",
          "Absorb surge in service demande",
          "Air filtration",
          "Animal vectors control",
          "Cleaning technologies robots",
          "Control airflows in spaces & Avoid air recirculation",
          "Control of airflows airtight / negative pressure",
          "Disinfection of air",
          "Early detection",
          "Ensure use of personal protection equipment",
          "Environmental parameters control",
          "Facilitate transparent communication",
          "Greenery",
          "Greywater management",
          "Improve physical health",
          "Infection tracking / monitoring",
          "Introduce \"multi-use\" / modular designs",
          "Maintenance / decontamination of building water sytems",
          "Managing drinking water safety measures",
          "Minimize supply chain disruptions",
          "Monitor and control indoor air quality",
          "Natural ventilation increase",
          "Occupancy control eg separating at/risk contaminated population",
          "Optimize users flows to prevent contamination",
          "Outdoor spaces",
          "Personal hygiene eg handwashing",
          "Prevent fake news",
          "Promote verified information",
          "Quarantine support",
          "Raising awareness",
          "Selection of materials",
          "Separate water facilities toilets/bathrooms for contaminated",
          "Shift controls occupancy control of total users",
          "Social activities / facilitatie social interactions",
          "Social distancing",
          "Staff training / upskilling",
          "Support recovery of sectors via remote work",
          "Touchless technologies",
          "Use of smart/innovative air quality controls technology",
          "Wall and floors treatment",
          "Activities continuity",
          "Air quality",
          "Information management",
          "Mental health",
          "Propagation monitoring",
          "Sanitizing",
          "Space design",
          "User behavior",
          "User journey",
          "Water quality",
          "Human-centered",
          "Manage",
          "Prevention"
         ],
         "name": "",
         "parents": [
          "Manage/Activities continuity",
          "Manage/Activities continuity",
          "Prevention/Air quality",
          "Prevention/Sanitizing",
          "Prevention/Sanitizing",
          "Prevention/Air quality",
          "Prevention/Air quality",
          "Prevention/Air quality",
          "Manage/Propagation monitoring",
          "Human-centered/User behavior",
          "Prevention/Air quality",
          "Manage/Information management",
          "Human-centered/Mental health",
          "Prevention/Water quality",
          "Human-centered/Mental health",
          "Manage/Propagation monitoring",
          "Human-centered/Space design",
          "Prevention/Water quality",
          "Prevention/Water quality",
          "Manage/Activities continuity",
          "Prevention/Air quality",
          "Prevention/Air quality",
          "Human-centered/User journey",
          "Human-centered/User journey",
          "Human-centered/Mental health",
          "Human-centered/User behavior",
          "Manage/Information management",
          "Manage/Information management",
          "Manage/Propagation monitoring",
          "Manage/Information management",
          "Prevention/Sanitizing",
          "Prevention/Water quality",
          "Human-centered/User journey",
          "Human-centered/Mental health",
          "Human-centered/User behavior",
          "Human-centered/User behavior",
          "Manage/Activities continuity",
          "Prevention/Sanitizing",
          "Prevention/Air quality",
          "Prevention/Sanitizing",
          "Manage",
          "Prevention",
          "Manage",
          "Human-centered",
          "Manage",
          "Prevention",
          "Human-centered",
          "Human-centered",
          "Human-centered",
          "Prevention",
          "",
          "",
          ""
         ],
         "type": "sunburst",
         "values": [
          2,
          1,
          2,
          2,
          0,
          0,
          0,
          1,
          4,
          1,
          1,
          1,
          2,
          0,
          1,
          2,
          2,
          3,
          2,
          2,
          3,
          0,
          4,
          3,
          4,
          1,
          2,
          2,
          2,
          4,
          4,
          0,
          1,
          2,
          4,
          1,
          0,
          2,
          3,
          2,
          5,
          10,
          9,
          9,
          8,
          10,
          2,
          7,
          8,
          5,
          26,
          22,
          25
         ]
        }
       ],
       "layout": {
        "height": 1200,
        "legend": {
         "tracegroupgap": 0
        },
        "margin": {
         "t": 60
        },
        "template": {
         "data": {
          "bar": [
           {
            "error_x": {
             "color": "#2a3f5f"
            },
            "error_y": {
             "color": "#2a3f5f"
            },
            "marker": {
             "line": {
              "color": "#E5ECF6",
              "width": 0.5
             },
             "pattern": {
              "fillmode": "overlay",
              "size": 10,
              "solidity": 0.2
             }
            },
            "type": "bar"
           }
          ],
          "barpolar": [
           {
            "marker": {
             "line": {
              "color": "#E5ECF6",
              "width": 0.5
             },
             "pattern": {
              "fillmode": "overlay",
              "size": 10,
              "solidity": 0.2
             }
            },
            "type": "barpolar"
           }
          ],
          "carpet": [
           {
            "aaxis": {
             "endlinecolor": "#2a3f5f",
             "gridcolor": "white",
             "linecolor": "white",
             "minorgridcolor": "white",
             "startlinecolor": "#2a3f5f"
            },
            "baxis": {
             "endlinecolor": "#2a3f5f",
             "gridcolor": "white",
             "linecolor": "white",
             "minorgridcolor": "white",
             "startlinecolor": "#2a3f5f"
            },
            "type": "carpet"
           }
          ],
          "choropleth": [
           {
            "colorbar": {
             "outlinewidth": 0,
             "ticks": ""
            },
            "type": "choropleth"
           }
          ],
          "contour": [
           {
            "colorbar": {
             "outlinewidth": 0,
             "ticks": ""
            },
            "colorscale": [
             [
              0,
              "#0d0887"
             ],
             [
              0.1111111111111111,
              "#46039f"
             ],
             [
              0.2222222222222222,
              "#7201a8"
             ],
             [
              0.3333333333333333,
              "#9c179e"
             ],
             [
              0.4444444444444444,
              "#bd3786"
             ],
             [
              0.5555555555555556,
              "#d8576b"
             ],
             [
              0.6666666666666666,
              "#ed7953"
             ],
             [
              0.7777777777777778,
              "#fb9f3a"
             ],
             [
              0.8888888888888888,
              "#fdca26"
             ],
             [
              1,
              "#f0f921"
             ]
            ],
            "type": "contour"
           }
          ],
          "contourcarpet": [
           {
            "colorbar": {
             "outlinewidth": 0,
             "ticks": ""
            },
            "type": "contourcarpet"
           }
          ],
          "heatmap": [
           {
            "colorbar": {
             "outlinewidth": 0,
             "ticks": ""
            },
            "colorscale": [
             [
              0,
              "#0d0887"
             ],
             [
              0.1111111111111111,
              "#46039f"
             ],
             [
              0.2222222222222222,
              "#7201a8"
             ],
             [
              0.3333333333333333,
              "#9c179e"
             ],
             [
              0.4444444444444444,
              "#bd3786"
             ],
             [
              0.5555555555555556,
              "#d8576b"
             ],
             [
              0.6666666666666666,
              "#ed7953"
             ],
             [
              0.7777777777777778,
              "#fb9f3a"
             ],
             [
              0.8888888888888888,
              "#fdca26"
             ],
             [
              1,
              "#f0f921"
             ]
            ],
            "type": "heatmap"
           }
          ],
          "heatmapgl": [
           {
            "colorbar": {
             "outlinewidth": 0,
             "ticks": ""
            },
            "colorscale": [
             [
              0,
              "#0d0887"
             ],
             [
              0.1111111111111111,
              "#46039f"
             ],
             [
              0.2222222222222222,
              "#7201a8"
             ],
             [
              0.3333333333333333,
              "#9c179e"
             ],
             [
              0.4444444444444444,
              "#bd3786"
             ],
             [
              0.5555555555555556,
              "#d8576b"
             ],
             [
              0.6666666666666666,
              "#ed7953"
             ],
             [
              0.7777777777777778,
              "#fb9f3a"
             ],
             [
              0.8888888888888888,
              "#fdca26"
             ],
             [
              1,
              "#f0f921"
             ]
            ],
            "type": "heatmapgl"
           }
          ],
          "histogram": [
           {
            "marker": {
             "pattern": {
              "fillmode": "overlay",
              "size": 10,
              "solidity": 0.2
             }
            },
            "type": "histogram"
           }
          ],
          "histogram2d": [
           {
            "colorbar": {
             "outlinewidth": 0,
             "ticks": ""
            },
            "colorscale": [
             [
              0,
              "#0d0887"
             ],
             [
              0.1111111111111111,
              "#46039f"
             ],
             [
              0.2222222222222222,
              "#7201a8"
             ],
             [
              0.3333333333333333,
              "#9c179e"
             ],
             [
              0.4444444444444444,
              "#bd3786"
             ],
             [
              0.5555555555555556,
              "#d8576b"
             ],
             [
              0.6666666666666666,
              "#ed7953"
             ],
             [
              0.7777777777777778,
              "#fb9f3a"
             ],
             [
              0.8888888888888888,
              "#fdca26"
             ],
             [
              1,
              "#f0f921"
             ]
            ],
            "type": "histogram2d"
           }
          ],
          "histogram2dcontour": [
           {
            "colorbar": {
             "outlinewidth": 0,
             "ticks": ""
            },
            "colorscale": [
             [
              0,
              "#0d0887"
             ],
             [
              0.1111111111111111,
              "#46039f"
             ],
             [
              0.2222222222222222,
              "#7201a8"
             ],
             [
              0.3333333333333333,
              "#9c179e"
             ],
             [
              0.4444444444444444,
              "#bd3786"
             ],
             [
              0.5555555555555556,
              "#d8576b"
             ],
             [
              0.6666666666666666,
              "#ed7953"
             ],
             [
              0.7777777777777778,
              "#fb9f3a"
             ],
             [
              0.8888888888888888,
              "#fdca26"
             ],
             [
              1,
              "#f0f921"
             ]
            ],
            "type": "histogram2dcontour"
           }
          ],
          "mesh3d": [
           {
            "colorbar": {
             "outlinewidth": 0,
             "ticks": ""
            },
            "type": "mesh3d"
           }
          ],
          "parcoords": [
           {
            "line": {
             "colorbar": {
              "outlinewidth": 0,
              "ticks": ""
             }
            },
            "type": "parcoords"
           }
          ],
          "pie": [
           {
            "automargin": true,
            "type": "pie"
           }
          ],
          "scatter": [
           {
            "fillpattern": {
             "fillmode": "overlay",
             "size": 10,
             "solidity": 0.2
            },
            "type": "scatter"
           }
          ],
          "scatter3d": [
           {
            "line": {
             "colorbar": {
              "outlinewidth": 0,
              "ticks": ""
             }
            },
            "marker": {
             "colorbar": {
              "outlinewidth": 0,
              "ticks": ""
             }
            },
            "type": "scatter3d"
           }
          ],
          "scattercarpet": [
           {
            "marker": {
             "colorbar": {
              "outlinewidth": 0,
              "ticks": ""
             }
            },
            "type": "scattercarpet"
           }
          ],
          "scattergeo": [
           {
            "marker": {
             "colorbar": {
              "outlinewidth": 0,
              "ticks": ""
             }
            },
            "type": "scattergeo"
           }
          ],
          "scattergl": [
           {
            "marker": {
             "colorbar": {
              "outlinewidth": 0,
              "ticks": ""
             }
            },
            "type": "scattergl"
           }
          ],
          "scattermapbox": [
           {
            "marker": {
             "colorbar": {
              "outlinewidth": 0,
              "ticks": ""
             }
            },
            "type": "scattermapbox"
           }
          ],
          "scatterpolar": [
           {
            "marker": {
             "colorbar": {
              "outlinewidth": 0,
              "ticks": ""
             }
            },
            "type": "scatterpolar"
           }
          ],
          "scatterpolargl": [
           {
            "marker": {
             "colorbar": {
              "outlinewidth": 0,
              "ticks": ""
             }
            },
            "type": "scatterpolargl"
           }
          ],
          "scatterternary": [
           {
            "marker": {
             "colorbar": {
              "outlinewidth": 0,
              "ticks": ""
             }
            },
            "type": "scatterternary"
           }
          ],
          "surface": [
           {
            "colorbar": {
             "outlinewidth": 0,
             "ticks": ""
            },
            "colorscale": [
             [
              0,
              "#0d0887"
             ],
             [
              0.1111111111111111,
              "#46039f"
             ],
             [
              0.2222222222222222,
              "#7201a8"
             ],
             [
              0.3333333333333333,
              "#9c179e"
             ],
             [
              0.4444444444444444,
              "#bd3786"
             ],
             [
              0.5555555555555556,
              "#d8576b"
             ],
             [
              0.6666666666666666,
              "#ed7953"
             ],
             [
              0.7777777777777778,
              "#fb9f3a"
             ],
             [
              0.8888888888888888,
              "#fdca26"
             ],
             [
              1,
              "#f0f921"
             ]
            ],
            "type": "surface"
           }
          ],
          "table": [
           {
            "cells": {
             "fill": {
              "color": "#EBF0F8"
             },
             "line": {
              "color": "white"
             }
            },
            "header": {
             "fill": {
              "color": "#C8D4E3"
             },
             "line": {
              "color": "white"
             }
            },
            "type": "table"
           }
          ]
         },
         "layout": {
          "annotationdefaults": {
           "arrowcolor": "#2a3f5f",
           "arrowhead": 0,
           "arrowwidth": 1
          },
          "autotypenumbers": "strict",
          "coloraxis": {
           "colorbar": {
            "outlinewidth": 0,
            "ticks": ""
           }
          },
          "colorscale": {
           "diverging": [
            [
             0,
             "#8e0152"
            ],
            [
             0.1,
             "#c51b7d"
            ],
            [
             0.2,
             "#de77ae"
            ],
            [
             0.3,
             "#f1b6da"
            ],
            [
             0.4,
             "#fde0ef"
            ],
            [
             0.5,
             "#f7f7f7"
            ],
            [
             0.6,
             "#e6f5d0"
            ],
            [
             0.7,
             "#b8e186"
            ],
            [
             0.8,
             "#7fbc41"
            ],
            [
             0.9,
             "#4d9221"
            ],
            [
             1,
             "#276419"
            ]
           ],
           "sequential": [
            [
             0,
             "#0d0887"
            ],
            [
             0.1111111111111111,
             "#46039f"
            ],
            [
             0.2222222222222222,
             "#7201a8"
            ],
            [
             0.3333333333333333,
             "#9c179e"
            ],
            [
             0.4444444444444444,
             "#bd3786"
            ],
            [
             0.5555555555555556,
             "#d8576b"
            ],
            [
             0.6666666666666666,
             "#ed7953"
            ],
            [
             0.7777777777777778,
             "#fb9f3a"
            ],
            [
             0.8888888888888888,
             "#fdca26"
            ],
            [
             1,
             "#f0f921"
            ]
           ],
           "sequentialminus": [
            [
             0,
             "#0d0887"
            ],
            [
             0.1111111111111111,
             "#46039f"
            ],
            [
             0.2222222222222222,
             "#7201a8"
            ],
            [
             0.3333333333333333,
             "#9c179e"
            ],
            [
             0.4444444444444444,
             "#bd3786"
            ],
            [
             0.5555555555555556,
             "#d8576b"
            ],
            [
             0.6666666666666666,
             "#ed7953"
            ],
            [
             0.7777777777777778,
             "#fb9f3a"
            ],
            [
             0.8888888888888888,
             "#fdca26"
            ],
            [
             1,
             "#f0f921"
            ]
           ]
          },
          "colorway": [
           "#636efa",
           "#EF553B",
           "#00cc96",
           "#ab63fa",
           "#FFA15A",
           "#19d3f3",
           "#FF6692",
           "#B6E880",
           "#FF97FF",
           "#FECB52"
          ],
          "font": {
           "color": "#2a3f5f"
          },
          "geo": {
           "bgcolor": "white",
           "lakecolor": "white",
           "landcolor": "#E5ECF6",
           "showlakes": true,
           "showland": true,
           "subunitcolor": "white"
          },
          "hoverlabel": {
           "align": "left"
          },
          "hovermode": "closest",
          "mapbox": {
           "style": "light"
          },
          "paper_bgcolor": "white",
          "plot_bgcolor": "#E5ECF6",
          "polar": {
           "angularaxis": {
            "gridcolor": "white",
            "linecolor": "white",
            "ticks": ""
           },
           "bgcolor": "#E5ECF6",
           "radialaxis": {
            "gridcolor": "white",
            "linecolor": "white",
            "ticks": ""
           }
          },
          "scene": {
           "xaxis": {
            "backgroundcolor": "#E5ECF6",
            "gridcolor": "white",
            "gridwidth": 2,
            "linecolor": "white",
            "showbackground": true,
            "ticks": "",
            "zerolinecolor": "white"
           },
           "yaxis": {
            "backgroundcolor": "#E5ECF6",
            "gridcolor": "white",
            "gridwidth": 2,
            "linecolor": "white",
            "showbackground": true,
            "ticks": "",
            "zerolinecolor": "white"
           },
           "zaxis": {
            "backgroundcolor": "#E5ECF6",
            "gridcolor": "white",
            "gridwidth": 2,
            "linecolor": "white",
            "showbackground": true,
            "ticks": "",
            "zerolinecolor": "white"
           }
          },
          "shapedefaults": {
           "line": {
            "color": "#2a3f5f"
           }
          },
          "ternary": {
           "aaxis": {
            "gridcolor": "white",
            "linecolor": "white",
            "ticks": ""
           },
           "baxis": {
            "gridcolor": "white",
            "linecolor": "white",
            "ticks": ""
           },
           "bgcolor": "#E5ECF6",
           "caxis": {
            "gridcolor": "white",
            "linecolor": "white",
            "ticks": ""
           }
          },
          "title": {
           "x": 0.05
          },
          "xaxis": {
           "automargin": true,
           "gridcolor": "white",
           "linecolor": "white",
           "ticks": "",
           "title": {
            "standoff": 15
           },
           "zerolinecolor": "white",
           "zerolinewidth": 2
          },
          "yaxis": {
           "automargin": true,
           "gridcolor": "white",
           "linecolor": "white",
           "ticks": "",
           "title": {
            "standoff": 15
           },
           "zerolinecolor": "white",
           "zerolinewidth": 2
          }
         }
        },
        "width": 1200
       }
      }
     },
     "metadata": {},
     "output_type": "display_data"
    }
   ],
   "source": [
    "fig = px.sunburst(df, path=['categoryLabel', 'themeLabel','interventionLabel'], values='nBP',width=1200, height=1200)\n",
    "fig.show()\n",
    "fig.write_image(\"intervention_count.png\")"
   ]
  }
 ],
 "metadata": {
  "kernelspec": {
   "display_name": ".venv",
   "language": "python",
   "name": "python3"
  },
  "language_info": {
   "codemirror_mode": {
    "name": "ipython",
    "version": 3
   },
   "file_extension": ".py",
   "mimetype": "text/x-python",
   "name": "python",
   "nbconvert_exporter": "python",
   "pygments_lexer": "ipython3",
   "version": "3.11.3"
  }
 },
 "nbformat": 4,
 "nbformat_minor": 2
}
