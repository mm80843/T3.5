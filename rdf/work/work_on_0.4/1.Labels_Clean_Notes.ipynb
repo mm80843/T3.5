{
 "cells": [
  {
   "cell_type": "code",
   "execution_count": 1,
   "metadata": {},
   "outputs": [
    {
     "name": "stdout",
     "output_type": "stream",
     "text": [
      "0.40\n"
     ]
    },
    {
     "name": "stderr",
     "output_type": "stream",
     "text": [
      "* Owlready2 * Warning: optimized Cython parser module 'owlready2_optimized' is not available, defaulting to slower Python implementation\n"
     ]
    }
   ],
   "source": [
    "import pandas as pd\n",
    "import os, glob, re\n",
    "\n",
    "from owlready2 import *\n",
    "import owlready2\n",
    "print(owlready2.VERSION)\n",
    "\n",
    "\n",
    "import importlib.util\n",
    "import sys\n",
    "spec = importlib.util.spec_from_file_location(\"rdfutils\", \"../../../utils/rdfutils.py\")\n",
    "u = importlib.util.module_from_spec(spec)\n",
    "sys.modules[\"rdfutils\"] = u\n",
    "spec.loader.exec_module(u)\n",
    "\n",
    "spec = importlib.util.spec_from_file_location(\"llm\", \"../../../utils/llm.py\")\n",
    "h = importlib.util.module_from_spec(spec)\n",
    "sys.modules[\"llm\"] = h\n",
    "spec.loader.exec_module(h)\n",
    "\n",
    "from datetime import datetime\n",
    "\n",
    "def NOW():\n",
    "    now = datetime.now()\n",
    "    current_time = now.strftime(\"%H:%M:%S\")\n",
    "    return \"Current Time = \"+ str(current_time)\n",
    "\n",
    "%load_ext autoreload\n",
    "%autoreload 2\n"
   ]
  },
  {
   "cell_type": "code",
   "execution_count": 2,
   "metadata": {},
   "outputs": [],
   "source": [
    "import requests, json"
   ]
  },
  {
   "cell_type": "code",
   "execution_count": 3,
   "metadata": {},
   "outputs": [
    {
     "name": "stdout",
     "output_type": "stream",
     "text": [
      "ID: 0 \t Description: Creation of a knowledge graph based on a litterature review, augmented by use of LLMs.\n",
      "ID: 1 \t Version: 0.4\n",
      "ID: 2 \t Library: owlready2==0.45\n",
      "ID: 3 \t Changes from: 0.3\n",
      "ID: 4 \t Next: Check formulas for selecting most repeated items in groups\n",
      "ID: 5 \t Changes: Adding new risks, groups of items, and new relationships\n",
      "ID: 6 \t Creation: 22/01/2024\n",
      "ID: 7 \t TODOs: Adding synonyms and solving classification with synonyms\n",
      "ID: 8 \t VersionComment: Grouping of items added in 0.4\n",
      "ID: 9 \t Project: PROBONO\n",
      "ID: 10 \t Next: Linking benefits to mitigations groups\n",
      "ID: 11 \t License: CC BY-NC-SA\n",
      "ID: 12 \t Task: T3.5\n",
      "ID: 13 \t Repository: https://github.com/mm80843/T3.5/\n",
      "ID: 14 \t Author: Luc Jonveaux\n",
      "ID: 15 \t Language: English\n"
     ]
    }
   ],
   "source": [
    "onto = get_ontology(\"./WIP_0.owl\").load()\n",
    "comments = u.checkComments(onto)"
   ]
  },
  {
   "attachments": {},
   "cell_type": "markdown",
   "metadata": {},
   "source": [
    "# Asking the BOK API.\n",
    "\n",
    "This is the one in the current report, in the bok/data/main_api.py FastAPI app."
   ]
  },
  {
   "cell_type": "code",
   "execution_count": 4,
   "metadata": {},
   "outputs": [],
   "source": [
    "with onto:\n",
    "    class has_Description(onto.PBNThing >> str):\n",
    "        label = [\"Short description\"]\n",
    "        pass\n",
    "    class has_Note(onto.PBNThing >> str):\n",
    "        label = [\"Author note\"]\n",
    "        pass"
   ]
  },
  {
   "cell_type": "code",
   "execution_count": 5,
   "metadata": {},
   "outputs": [],
   "source": [
    "onto.BenefReturn.label = [\"Benefit returns\"]\n",
    "onto.Benef.label = [\"Benefit\"]\n",
    "onto.Article.label = [\"Research article\"]\n",
    "onto.Risk.label = [\"Risk\"]\n",
    "onto.ISO_Scale.label = [\"Scale in the ISO37100 (GBN) reference system\"]\n",
    "onto.ISO_Scale.has_Note = [\"Used according to the ISO 37100 exercice to assess the scale an item in a GBN.\"]\n",
    "onto.RiskHealth.label = [\"Type of health impact\"]\n",
    "onto.RiskType.label = [\"Type of the risk\"]\n",
    "onto.Stakeholder.label = [\"Stakeholder\"]\n",
    "onto.Stakeholder_Type.label = [\"Type of stakeholder\"]\n",
    "onto.Technology.label = [\"Technology\"]\n",
    "onto.ISO_Impact.label = [\"Impact in the ISO37100 (GBN) reference system\"]\n",
    "onto.ISO_Purpose.label = [\"Purpose in the ISO37100 (GBN) reference system\"]\n",
    "onto.StakeholderGroup.label = [\"Group of stakeholders\"]\n",
    "onto.StakeholderSubgroup.label = [\"Subroup of stakeholders\"]\n",
    "onto.TechGroup.label = [\"Group of technologies\"]\n",
    "onto.TechSubgroup.label = [\"Subroup of technologies\"]\n",
    "onto.Mitigation.label = [\"Risk mitigation\"]\n",
    "onto.BP_Enabler.label = [\"Blueprint: enabler\"]\n",
    "onto.BP_Transmission.label = [\"Blueprint: transmission mode\"]\n",
    "onto.Blueprint.label = [\"Blueprint\"]\n",
    "onto.BP_Scale.label = [\"Blueprint: scale\"]\n",
    "onto.BP_Phase.label = [\"Blueprint: phase\"]\n",
    "onto.BP_Permanent.label = [\"Blueprint: is it permanent?\"]\n",
    "onto.BP_Type.label = [\"Blueprint: Type\"]\n",
    "onto.BP_Intervention.label = [\"Blueprint: intervention family\"]\n",
    "onto.PBNCategory.label = [\"Category of objects\"]\n",
    "onto.RiskGroup.label = [\"Group of risks\"]\n",
    "onto.RiskSubgroup.label = [\"Subgroup of risks\"]\n",
    "onto.CAO_Group.label = [\"Localisation: City Anatomoy level 1\"]\n",
    "onto.CAO_Group.has_Note = [\"For use with the City Anatomy ontology.\\n See page 26 of https://s3.amazonaws.com/nist-sgcps/smartcityframework/files/GCTCTechJamKickoff/JimAloisi_NIST_IES_city_presentation_jarecov_3_2016-2.pdf .\"]\n",
    "onto.CAO_Subgroup.label = [\"Localisation: City Anatomoy level 2\"]\n",
    "onto.CAO_Subgroup.has_Note = [\"For use with the City Anatomy ontology.\\n See page 26 of https://s3.amazonaws.com/nist-sgcps/smartcityframework/files/GCTCTechJamKickoff/JimAloisi_NIST_IES_city_presentation_jarecov_3_2016-2.pdf .\"]\n",
    "onto.BP_Theme.label = [\"Blueprint: Theme\"]\n",
    "onto.BP_Category.label = [\"Blueprint: Category\"]\n",
    "onto.aBlueprint.label = [\"Blueprint, by genAI\"]\n",
    "onto.aBlueprint.has_Note = [\"For inspiration only. Generated by AI, not reviewed by humans.\"]"
   ]
  },
  {
   "cell_type": "code",
   "execution_count": 6,
   "metadata": {},
   "outputs": [
    {
     "data": {
      "text/plain": [
       "1409"
      ]
     },
     "execution_count": 6,
     "metadata": {},
     "output_type": "execute_result"
    }
   ],
   "source": [
    "A = list(onto.classes())[2]\n",
    "len(A.instances())"
   ]
  },
  {
   "attachments": {},
   "cell_type": "markdown",
   "metadata": {},
   "source": [
    "# Saving"
   ]
  },
  {
   "cell_type": "code",
   "execution_count": 7,
   "metadata": {},
   "outputs": [],
   "source": [
    "onto.save(\"WIP_1.owl\")"
   ]
  },
  {
   "cell_type": "code",
   "execution_count": 8,
   "metadata": {},
   "outputs": [
    {
     "name": "stdout",
     "output_type": "stream",
     "text": [
      "Done\n"
     ]
    }
   ],
   "source": [
    "print(\"Done\")"
   ]
  }
 ],
 "metadata": {
  "kernelspec": {
   "display_name": "venv",
   "language": "python",
   "name": "python3"
  },
  "language_info": {
   "codemirror_mode": {
    "name": "ipython",
    "version": 3
   },
   "file_extension": ".py",
   "mimetype": "text/x-python",
   "name": "python",
   "nbconvert_exporter": "python",
   "pygments_lexer": "ipython3",
   "version": "3.10.12"
  },
  "orig_nbformat": 4,
  "vscode": {
   "interpreter": {
    "hash": "f79bc2406addd2c06911dc053b733d86c52c13481e10d53afee492d28d2db597"
   }
  }
 },
 "nbformat": 4,
 "nbformat_minor": 2
}
