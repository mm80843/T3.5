{
 "cells": [
  {
   "cell_type": "code",
   "execution_count": 2,
   "metadata": {},
   "outputs": [
    {
     "name": "stdout",
     "output_type": "stream",
     "text": [
      "0.40\n"
     ]
    },
    {
     "name": "stderr",
     "output_type": "stream",
     "text": [
      "* Owlready2 * Warning: optimized Cython parser module 'owlready2_optimized' is not available, defaulting to slower Python implementation\n"
     ]
    }
   ],
   "source": [
    "import pandas as pd\n",
    "import os, glob, re\n",
    "\n",
    "from owlready2 import *\n",
    "import owlready2\n",
    "print(owlready2.VERSION)\n",
    "\n",
    "\n",
    "import importlib.util\n",
    "import sys\n",
    "spec = importlib.util.spec_from_file_location(\"rdfutils\", \"../../../utils/rdfutils.py\")\n",
    "u = importlib.util.module_from_spec(spec)\n",
    "sys.modules[\"rdfutils\"] = u\n",
    "spec.loader.exec_module(u)\n",
    "\n",
    "spec = importlib.util.spec_from_file_location(\"llm\", \"../../../utils/llm.py\")\n",
    "h = importlib.util.module_from_spec(spec)\n",
    "sys.modules[\"llm\"] = h\n",
    "spec.loader.exec_module(h)\n",
    "\n",
    "from datetime import datetime\n",
    "\n",
    "def NOW():\n",
    "    now = datetime.now()\n",
    "    current_time = now.strftime(\"%H:%M:%S\")\n",
    "    return \"Current Time = \"+ str(current_time)\n",
    "\n",
    "%load_ext autoreload\n",
    "%autoreload 2\n"
   ]
  },
  {
   "cell_type": "code",
   "execution_count": 3,
   "metadata": {},
   "outputs": [],
   "source": [
    "import requests, json"
   ]
  },
  {
   "cell_type": "code",
   "execution_count": 4,
   "metadata": {},
   "outputs": [
    {
     "name": "stdout",
     "output_type": "stream",
     "text": [
      "ID: 0 \t Description: Creation of a knowledge graph based on a litterature review, augmented by use of LLMs.\n",
      "ID: 1 \t Version: 0.4\n",
      "ID: 2 \t Library: owlready2==0.45\n",
      "ID: 3 \t Changes from: 0.3\n",
      "ID: 4 \t Next: Check formulas for selecting most repeated items in groups\n",
      "ID: 5 \t Changes: Adding new risks, groups of items, and new relationships\n",
      "ID: 6 \t Creation: 22/01/2024\n",
      "ID: 7 \t TODOs: Adding synonyms and solving classification with synonyms\n",
      "ID: 8 \t VersionComment: Grouping of items added in 0.4\n",
      "ID: 9 \t Project: PROBONO\n",
      "ID: 10 \t Next: Linking benefits to mitigations groups\n",
      "ID: 11 \t License: CC BY-NC-SA\n",
      "ID: 12 \t Task: T3.5\n",
      "ID: 13 \t Repository: https://github.com/mm80843/T3.5/\n",
      "ID: 14 \t Author: Luc Jonveaux\n",
      "ID: 15 \t Language: English\n"
     ]
    }
   ],
   "source": [
    "onto = get_ontology(\"./WIP_0.owl\").load()\n",
    "comments = u.checkComments(onto)"
   ]
  },
  {
   "cell_type": "code",
   "execution_count": 5,
   "metadata": {},
   "outputs": [],
   "source": [
    "with onto:\n",
    "    class ISO_Issue(onto.PBNThing):\n",
    "        label = [\"ISO37100 Issue\"]\n",
    "        pass"
   ]
  },
  {
   "cell_type": "code",
   "execution_count": 6,
   "metadata": {},
   "outputs": [
    {
     "name": "stdout",
     "output_type": "stream",
     "text": [
      "error with the maxes\n"
     ]
    }
   ],
   "source": [
    "dIDct = u.createDict(onto) "
   ]
  },
  {
   "attachments": {},
   "cell_type": "markdown",
   "metadata": {},
   "source": [
    "# Redo ISO"
   ]
  },
  {
   "cell_type": "code",
   "execution_count": 7,
   "metadata": {},
   "outputs": [],
   "source": [
    "p = []\n",
    "A = list(onto.RiskSubgroup.instances())\n",
    "for a in A:\n",
    "    p.append([a.name,a.has_Description[0].split(\"\\n\\nSources: \")[0].strip()])\n",
    "A = list(onto.TechSubgroup.instances())\n",
    "for a in A:\n",
    "    p.append([a.name,a.has_Description[0].split(\"\\n\\nSources: \")[0].strip()])\n",
    "A = list(onto.BP_Intervention.instances())\n",
    "for a in A:\n",
    "    if a.has_Description:\n",
    "        p.append([a.name,a.has_Description[0].strip()])\n",
    "    \n",
    "df = pd.DataFrame(p,columns =[\"ID\",\"Description\"])\n",
    "df.to_parquet(\"df_iso.parquet.gzip\",compression=\"gzip\")"
   ]
  },
  {
   "cell_type": "code",
   "execution_count": 8,
   "metadata": {},
   "outputs": [
    {
     "data": {
      "text/html": [
       "<div>\n",
       "<style scoped>\n",
       "    .dataframe tbody tr th:only-of-type {\n",
       "        vertical-align: middle;\n",
       "    }\n",
       "\n",
       "    .dataframe tbody tr th {\n",
       "        vertical-align: top;\n",
       "    }\n",
       "\n",
       "    .dataframe thead th {\n",
       "        text-align: right;\n",
       "    }\n",
       "</style>\n",
       "<table border=\"1\" class=\"dataframe\">\n",
       "  <thead>\n",
       "    <tr style=\"text-align: right;\">\n",
       "      <th></th>\n",
       "      <th>WP</th>\n",
       "      <th>Deliverable</th>\n",
       "      <th>LL</th>\n",
       "      <th>Description</th>\n",
       "      <th>Justification</th>\n",
       "      <th>Purpose</th>\n",
       "      <th>Issue</th>\n",
       "      <th>Scale</th>\n",
       "      <th>Score</th>\n",
       "      <th>Justification_Short</th>\n",
       "      <th>Source_Title</th>\n",
       "      <th>done</th>\n",
       "      <th>ID</th>\n",
       "    </tr>\n",
       "  </thead>\n",
       "  <tbody>\n",
       "    <tr>\n",
       "      <th>0</th>\n",
       "      <td>WP0</td>\n",
       "      <td>DLV0</td>\n",
       "      <td>Unknown</td>\n",
       "      <td>The term \"failure to implement preventive meas...</td>\n",
       "      <td>The text highlights the importance of preventi...</td>\n",
       "      <td>Resilience</td>\n",
       "      <td>Health and care in the community</td>\n",
       "      <td>Neighbourhood</td>\n",
       "      <td>5</td>\n",
       "      <td>Preventive measures in smart cities.</td>\n",
       "      <td>Failure to implement preventive measures risks...</td>\n",
       "      <td>auto</td>\n",
       "      <td>PBN__RiskSubgroup_2</td>\n",
       "    </tr>\n",
       "    <tr>\n",
       "      <th>1</th>\n",
       "      <td>WP0</td>\n",
       "      <td>DLV0</td>\n",
       "      <td>Unknown</td>\n",
       "      <td>Air filtering refers to the process of removin...</td>\n",
       "      <td>The text emphasizes the importance of air filt...</td>\n",
       "      <td>Preservation and improvement of environment</td>\n",
       "      <td>Health and care in the community</td>\n",
       "      <td>Building</td>\n",
       "      <td>5</td>\n",
       "      <td>Importance of air filtering for health</td>\n",
       "      <td>Air filtering for healthier environments.\\n\\n</td>\n",
       "      <td>auto</td>\n",
       "      <td>PBN__TechSubgroup_58</td>\n",
       "    </tr>\n",
       "    <tr>\n",
       "      <th>2</th>\n",
       "      <td>WP0</td>\n",
       "      <td>DLV0</td>\n",
       "      <td>Unknown</td>\n",
       "      <td>In the context of contagious diseases in smart...</td>\n",
       "      <td>The text emphasizes the role of ethical guidel...</td>\n",
       "      <td>Social cohesion</td>\n",
       "      <td>Living together, interdependence and mutuality</td>\n",
       "      <td>Building</td>\n",
       "      <td>5</td>\n",
       "      <td>Ethical guidelines in managing contagious dise...</td>\n",
       "      <td>Ethical guidelines for disease control.</td>\n",
       "      <td>auto</td>\n",
       "      <td>PBN__TechSubgroup_44</td>\n",
       "    </tr>\n",
       "  </tbody>\n",
       "</table>\n",
       "</div>"
      ],
      "text/plain": [
       "    WP Deliverable       LL  \\\n",
       "0  WP0        DLV0  Unknown   \n",
       "1  WP0        DLV0  Unknown   \n",
       "2  WP0        DLV0  Unknown   \n",
       "\n",
       "                                         Description  \\\n",
       "0  The term \"failure to implement preventive meas...   \n",
       "1  Air filtering refers to the process of removin...   \n",
       "2  In the context of contagious diseases in smart...   \n",
       "\n",
       "                                       Justification  \\\n",
       "0  The text highlights the importance of preventi...   \n",
       "1  The text emphasizes the importance of air filt...   \n",
       "2  The text emphasizes the role of ethical guidel...   \n",
       "\n",
       "                                       Purpose  \\\n",
       "0                                   Resilience   \n",
       "1  Preservation and improvement of environment   \n",
       "2                              Social cohesion   \n",
       "\n",
       "                                            Issue          Scale  Score  \\\n",
       "0                Health and care in the community  Neighbourhood      5   \n",
       "1                Health and care in the community       Building      5   \n",
       "2  Living together, interdependence and mutuality       Building      5   \n",
       "\n",
       "                                 Justification_Short  \\\n",
       "0               Preventive measures in smart cities.   \n",
       "1             Importance of air filtering for health   \n",
       "2  Ethical guidelines in managing contagious dise...   \n",
       "\n",
       "                                        Source_Title  done  \\\n",
       "0  Failure to implement preventive measures risks...  auto   \n",
       "1      Air filtering for healthier environments.\\n\\n  auto   \n",
       "2            Ethical guidelines for disease control.  auto   \n",
       "\n",
       "                     ID  \n",
       "0   PBN__RiskSubgroup_2  \n",
       "1  PBN__TechSubgroup_58  \n",
       "2  PBN__TechSubgroup_44  "
      ]
     },
     "execution_count": 8,
     "metadata": {},
     "output_type": "execute_result"
    }
   ],
   "source": [
    "dd = pd.read_parquet(\"df_iso_done.parquet.gzip\")\n",
    "dd.head(3)"
   ]
  },
  {
   "cell_type": "code",
   "execution_count": 9,
   "metadata": {},
   "outputs": [],
   "source": [
    "with onto: \n",
    "    class has_ISOIssue(onto.PBNThing >> onto.ISO_Issue):\n",
    "        label = [\"ISO 37100 classification of issues\"]\n",
    "        pass\n",
    "    class has_ISOPurpose(onto.PBNThing >> onto.ISO_Purpose):\n",
    "        label = [\"ISO 37100 classification of purpose\"]\n",
    "        pass\n",
    "    class has_ISOScale(onto.PBNThing >> onto.ISO_Scale):\n",
    "        label = [\"ISO 37100 classification of scale\"]\n",
    "        pass\n",
    "    class has_ISOJustif(onto.PBNThing >> str):\n",
    "        label = [\"ISO 37100 justification of category\"]\n",
    "        pass"
   ]
  },
  {
   "cell_type": "code",
   "execution_count": 10,
   "metadata": {},
   "outputs": [],
   "source": [
    "for c in [\"ISO_Impact\",\"ISO_Scale\",\"ISO_Purpose\"]:\n",
    "    b = eval(\"onto.\"+c)\n",
    "    for k in b.instances():\n",
    "        destroy_entity(k)"
   ]
  },
  {
   "cell_type": "code",
   "execution_count": 11,
   "metadata": {},
   "outputs": [
    {
     "name": "stdout",
     "output_type": "stream",
     "text": [
      "onto.ISO_Purpose(\"PBN__ISO_Purpose_18\")\n",
      "onto.ISO_Issue(\"PBN__ISO_Issue_1\")\n",
      "onto.ISO_Scale(\"PBN__ISO_Scale_5\")\n",
      "onto.ISO_Purpose(\"PBN__ISO_Purpose_19\")\n",
      "onto.ISO_Scale(\"PBN__ISO_Scale_6\")\n",
      "onto.ISO_Issue(\"PBN__ISO_Issue_2\")\n",
      "onto.ISO_Issue(\"PBN__ISO_Issue_3\")\n",
      "onto.ISO_Issue(\"PBN__ISO_Issue_4\")\n",
      "onto.ISO_Issue(\"PBN__ISO_Issue_5\")\n",
      "onto.ISO_Issue(\"PBN__ISO_Issue_6\")\n",
      "onto.ISO_Purpose(\"PBN__ISO_Purpose_20\")\n",
      "onto.ISO_Issue(\"PBN__ISO_Issue_7\")\n",
      "onto.ISO_Issue(\"PBN__ISO_Issue_8\")\n",
      "onto.ISO_Issue(\"PBN__ISO_Issue_9\")\n",
      "onto.ISO_Issue(\"PBN__ISO_Issue_10\")\n",
      "onto.ISO_Purpose(\"PBN__ISO_Purpose_21\")\n"
     ]
    }
   ],
   "source": [
    "for ix, row in dd.iterrows():\n",
    "    obj = eval(\"onto.\"+row[\"ID\"])\n",
    "    newPurpose =  u.addItem(\"ISO_Purpose\", row[\"Purpose\"], dIDct, onto )\n",
    "    obj.has_ISOPurpose = []\n",
    "    obj.has_ISOPurpose = [newPurpose]    \n",
    "    newIssue  =  u.addItem(\"ISO_Issue\", row[\"Issue\"], dIDct, onto )\n",
    "    obj.has_ISOImpact = []\n",
    "    obj.has_ISOImpact = [newIssue]    \n",
    "    newScale   =  u.addItem(\"ISO_Scale\", row[\"Scale\"], dIDct, onto )\n",
    "    obj.has_ISOScale = []\n",
    "    obj.has_ISOScale = [newScale]    \n",
    "\n",
    "    obj.has_ISOJustif = []\n",
    "    obj.has_ISOJustif = [row[\"Justification\"]]    "
   ]
  },
  {
   "attachments": {},
   "cell_type": "markdown",
   "metadata": {},
   "source": [
    "# Cleaning Intervention"
   ]
  },
  {
   "cell_type": "code",
   "execution_count": 12,
   "metadata": {},
   "outputs": [
    {
     "name": "stdout",
     "output_type": "stream",
     "text": [
      "Before: 46\n",
      "After: 40\n"
     ]
    }
   ],
   "source": [
    "A = list(onto.BP_Intervention.instances())\n",
    "print(\"Before:\",len(A))\n",
    "B = [a for a in A if \"(\" in a.label[0]]\n",
    "PROP = [onto.has_InterventionBP,\n",
    " onto.has_Category,\n",
    " onto.has_BP_InterventionKey,\n",
    " onto.has_BP_InterventionTitle]\n",
    "for b in B:\n",
    "    src = b\n",
    "    dest = [x for x in A if x.label[0] == b.label[0].replace(\"(\",\"\").replace(\")\",\"\")][0]\n",
    "    dest.has_InterventionBP = []\n",
    "    for k in src.has_InterventionBP:\n",
    "        dest.has_InterventionBP.append(k)\n",
    "    dest.has_Category = []\n",
    "    for k in src.has_Category:\n",
    "        dest.has_Category.append(k)\n",
    "    dest.has_BP_InterventionKey = []\n",
    "    for k in src.has_BP_InterventionKey:\n",
    "        dest.has_BP_InterventionKey.append(k)\n",
    "    dest.has_BP_InterventionTitle = []\n",
    "    for k in src.has_BP_InterventionTitle:\n",
    "        dest.has_BP_InterventionTitle.append(k)\n",
    "\n",
    "    destroy_entity(b)\n",
    "\n",
    "A = list(onto.BP_Intervention.instances())\n",
    "print(\"After:\",len(A))"
   ]
  },
  {
   "attachments": {},
   "cell_type": "markdown",
   "metadata": {},
   "source": [
    "# Relabeling"
   ]
  },
  {
   "cell_type": "code",
   "execution_count": 13,
   "metadata": {},
   "outputs": [],
   "source": [
    "with onto:\n",
    "    class has_Description(onto.PBNThing >> str):\n",
    "        label = [\"Short description\"]\n",
    "        pass\n",
    "    class has_Note(onto.PBNThing >> str):\n",
    "        label = [\"Author note\"]\n",
    "        pass"
   ]
  },
  {
   "cell_type": "code",
   "execution_count": 14,
   "metadata": {},
   "outputs": [],
   "source": [
    "onto.BenefReturn.label = [\"Benefit returns\"]\n",
    "onto.Benef.label = [\"Benefit\"]\n",
    "onto.Article.label = [\"Research article\"]\n",
    "onto.Risk.label = [\"Risk\"]\n",
    "onto.ISO_Scale.label = [\"Scale in the ISO37100 (GBN) reference system\"]\n",
    "onto.ISO_Scale.has_Note = [\"Used according to the ISO 37100 exercice to assess the scale an item in a GBN.\"]\n",
    "onto.RiskHealth.label = [\"Type of health impact\"]\n",
    "onto.RiskType.label = [\"Type of the risk\"]\n",
    "onto.Stakeholder.label = [\"Stakeholder\"]\n",
    "onto.Stakeholder_Type.label = [\"Type of stakeholder\"]\n",
    "onto.Technology.label = [\"Technology\"]\n",
    "onto.ISO_Impact.label = [\"Impact in the ISO37100 (GBN) reference system\"]\n",
    "onto.ISO_Purpose.label = [\"Purpose in the ISO37100 (GBN) reference system\"]\n",
    "onto.StakeholderGroup.label = [\"Group of stakeholders\"]\n",
    "onto.StakeholderSubgroup.label = [\"Subroup of stakeholders\"]\n",
    "onto.TechGroup.label = [\"Group of technologies\"]\n",
    "onto.TechSubgroup.label = [\"Subroup of technologies\"]\n",
    "onto.Mitigation.label = [\"Risk mitigation\"]\n",
    "onto.BP_Enabler.label = [\"Blueprint: enabler\"]\n",
    "onto.BP_Transmission.label = [\"Blueprint: transmission mode\"]\n",
    "onto.Blueprint.label = [\"Blueprint\"]\n",
    "onto.BP_Scale.label = [\"Blueprint: scale\"]\n",
    "onto.BP_Phase.label = [\"Blueprint: phase\"]\n",
    "onto.BP_Permanent.label = [\"Blueprint: is it permanent?\"]\n",
    "onto.BP_Type.label = [\"Blueprint: Type\"]\n",
    "onto.BP_Intervention.label = [\"Blueprint: intervention family\"]\n",
    "onto.PBNCategory.label = [\"Category of objects\"]\n",
    "onto.RiskGroup.label = [\"Group of risks\"]\n",
    "onto.RiskSubgroup.label = [\"Subgroup of risks\"]\n",
    "onto.CAO_Group.label = [\"Localisation: City Anatomy level 1\"]\n",
    "onto.CAO_Group.has_Note = [\"For use with the City Anatomy ontology.\\n See page 26 of https://s3.amazonaws.com/nist-sgcps/smartcityframework/files/GCTCTechJamKickoff/JimAloisi_NIST_IES_city_presentation_jarecov_3_2016-2.pdf .\"]\n",
    "onto.CAO_Subgroup.label = [\"Localisation: City Anatomy level 2\"]\n",
    "onto.CAO_Subgroup.has_Note = [\"For use with the City Anatomy ontology.\\n See page 26 of https://s3.amazonaws.com/nist-sgcps/smartcityframework/files/GCTCTechJamKickoff/JimAloisi_NIST_IES_city_presentation_jarecov_3_2016-2.pdf .\"]\n",
    "onto.BP_Theme.label = [\"Blueprint: Theme\"]\n",
    "onto.BP_Category.label = [\"Blueprint: Category\"]\n",
    "onto.aBlueprint.label = [\"Blueprint, by genAI\"]\n",
    "onto.aBlueprint.has_Note = [\"For inspiration only. Generated by AI, not reviewed by humans.\"]"
   ]
  },
  {
   "cell_type": "code",
   "execution_count": 15,
   "metadata": {},
   "outputs": [
    {
     "data": {
      "text/plain": [
       "1409"
      ]
     },
     "execution_count": 15,
     "metadata": {},
     "output_type": "execute_result"
    }
   ],
   "source": [
    "A = list(onto.classes())[2]\n",
    "len(A.instances())"
   ]
  },
  {
   "cell_type": "code",
   "execution_count": 16,
   "metadata": {},
   "outputs": [],
   "source": [
    "onto.has_BP_InterventionTitle.label = [\"Intervention title\"]\n",
    "onto.has_BP_InterventionKey = [\"Key/ID of the intervention\"]"
   ]
  },
  {
   "cell_type": "code",
   "execution_count": 17,
   "metadata": {},
   "outputs": [],
   "source": [
    "L = onto.PBNThing.instances()"
   ]
  },
  {
   "cell_type": "code",
   "execution_count": 18,
   "metadata": {},
   "outputs": [
    {
     "name": "stdout",
     "output_type": "stream",
     "text": [
      "WIP_0.PBN__BenefReturn_146\n",
      "WIP_0.PBN__BenefReturn_1109\n",
      "WIP_0.PBN__BenefReturn_1111\n",
      "WIP_0.PBN__BenefReturn_1113\n",
      "WIP_0.PBN__BenefReturn_1115\n",
      "WIP_0.PBN__BenefReturn_1117\n",
      "WIP_0.PBN__BenefReturn_1119\n",
      "WIP_0.PBN__BenefReturn_837\n",
      "WIP_0.PBN__BenefReturn_1551\n",
      "WIP_0.PBN__Benef_145\n",
      "WIP_0.PBN__Benef_999\n",
      "WIP_0.PBN__Benef_765\n",
      "WIP_0.PBN__Benef_1359\n",
      "WIP_0.PBN__Risk_295\n",
      "WIP_0.PBN__Risk_715\n",
      "WIP_0.PBN__Risk_2295\n",
      "WIP_0.PBN__Risk_2260\n",
      "WIP_0.PBN__Risk_536\n",
      "WIP_0.PBN__Risk_1565\n",
      "WIP_0.PBN__Risk_986\n",
      "WIP_0.PBN__Risk_7874\n",
      "WIP_0.PBN__RiskHealth_6\n",
      "WIP_0.PBN__RiskHealth_13\n",
      "WIP_0.PBN__RiskHealth_12\n",
      "WIP_0.PBN__RiskHealth_10\n",
      "WIP_0.PBN__RiskType_14\n",
      "WIP_0.PBN__RiskType_21\n",
      "WIP_0.PBN__RiskType_12\n",
      "WIP_0.PBN__Stakeholder_83\n",
      "WIP_0.PBN__Stakeholder_1543\n",
      "WIP_0.PBN__Stakeholder_1519\n",
      "WIP_0.PBN__Stakeholder_1014\n",
      "WIP_0.PBN__Stakeholder_314\n",
      "WIP_0.PBN__Stakeholder_396\n",
      "WIP_0.PBN__Technology_22\n",
      "WIP_0.PBN__Technology_3360\n",
      "WIP_0.PBN__Technology_355\n",
      "WIP_0.PBN__Technology_1865\n",
      "WIP_0.PBN__Technology_1909\n",
      "WIP_0.PBN__Technology_882\n",
      "WIP_0.PBN__Mitigation_123\n",
      "WIP_0.PBN__Mitigation_998\n",
      "WIP_0.PBN__Mitigation_3014\n",
      "WIP_0.PBN__Mitigation_2971\n",
      "WIP_0.PBN__Mitigation_760\n",
      "WIP_0.PBN__Mitigation_1397\n",
      "WIP_0.PBN__Mitigation_2106\n"
     ]
    }
   ],
   "source": [
    "nolabel = []\n",
    "toremove = []\n",
    "for l in L:\n",
    "    if not l.label:\n",
    "        print(l)\n",
    "        nolabel.append(l)\n",
    "    else:\n",
    "        if l.label[0] == \"Nan\":\n",
    "            print(l)\n",
    "        if not len(l.label[0].replace(\"-\",\"\").replace(\"=\",\"\").strip()):\n",
    "            toremove.append(l)\n",
    "            print(l)"
   ]
  },
  {
   "cell_type": "code",
   "execution_count": 19,
   "metadata": {},
   "outputs": [],
   "source": [
    "for indiv in toremove :\n",
    "    destroy_entity(indiv)\n",
    "onto.PBN__Mitigation_2106"
   ]
  },
  {
   "attachments": {},
   "cell_type": "markdown",
   "metadata": {},
   "source": [
    "# Adding CAO"
   ]
  },
  {
   "cell_type": "code",
   "execution_count": 20,
   "metadata": {},
   "outputs": [
    {
     "name": "stdout",
     "output_type": "stream",
     "text": [
      "[WIP_0.StakeholderGroup, WIP_0.StakeholderSubgroup, WIP_0.TechGroup, WIP_0.TechSubgroup, WIP_0.RiskGroup, WIP_0.RiskSubgroup]\n"
     ]
    },
    {
     "data": {
      "text/html": [
       "<div>\n",
       "<style scoped>\n",
       "    .dataframe tbody tr th:only-of-type {\n",
       "        vertical-align: middle;\n",
       "    }\n",
       "\n",
       "    .dataframe tbody tr th {\n",
       "        vertical-align: top;\n",
       "    }\n",
       "\n",
       "    .dataframe thead th {\n",
       "        text-align: right;\n",
       "    }\n",
       "</style>\n",
       "<table border=\"1\" class=\"dataframe\">\n",
       "  <thead>\n",
       "    <tr style=\"text-align: right;\">\n",
       "      <th></th>\n",
       "      <th>name</th>\n",
       "      <th>category</th>\n",
       "      <th>confidence</th>\n",
       "      <th>src</th>\n",
       "      <th>subcategory</th>\n",
       "      <th>confidence_lv2</th>\n",
       "    </tr>\n",
       "  </thead>\n",
       "  <tbody>\n",
       "    <tr>\n",
       "      <th>0</th>\n",
       "      <td>Health organisations</td>\n",
       "      <td>Society</td>\n",
       "      <td>High</td>\n",
       "      <td>StakeholderGroup</td>\n",
       "      <td>Organizations</td>\n",
       "      <td>Medium-high</td>\n",
       "    </tr>\n",
       "    <tr>\n",
       "      <th>1</th>\n",
       "      <td>Research organisations</td>\n",
       "      <td>Interactions</td>\n",
       "      <td>Medium-high</td>\n",
       "      <td>StakeholderGroup</td>\n",
       "      <td>Working</td>\n",
       "      <td>Medium</td>\n",
       "    </tr>\n",
       "    <tr>\n",
       "      <th>2</th>\n",
       "      <td>Government institutions</td>\n",
       "      <td>Society</td>\n",
       "      <td>High</td>\n",
       "      <td>StakeholderGroup</td>\n",
       "      <td>Organizations</td>\n",
       "      <td>Medium-high</td>\n",
       "    </tr>\n",
       "    <tr>\n",
       "      <th>3</th>\n",
       "      <td>General public</td>\n",
       "      <td>Interactions</td>\n",
       "      <td>High</td>\n",
       "      <td>StakeholderGroup</td>\n",
       "      <td>Social Expression</td>\n",
       "      <td>Medium</td>\n",
       "    </tr>\n",
       "    <tr>\n",
       "      <th>4</th>\n",
       "      <td>Public entities</td>\n",
       "      <td>Interactions</td>\n",
       "      <td>Medium</td>\n",
       "      <td>StakeholderGroup</td>\n",
       "      <td>Commerce/Trade</td>\n",
       "      <td>Medium</td>\n",
       "    </tr>\n",
       "    <tr>\n",
       "      <th>5</th>\n",
       "      <td>Environmental and sustainability organizations</td>\n",
       "      <td>Interactions</td>\n",
       "      <td>High</td>\n",
       "      <td>StakeholderGroup</td>\n",
       "      <td>Social Expression</td>\n",
       "      <td>High</td>\n",
       "    </tr>\n",
       "    <tr>\n",
       "      <th>6</th>\n",
       "      <td>Workers</td>\n",
       "      <td>Interactions</td>\n",
       "      <td>Medium-high</td>\n",
       "      <td>StakeholderGroup</td>\n",
       "      <td>Working</td>\n",
       "      <td>High</td>\n",
       "    </tr>\n",
       "    <tr>\n",
       "      <th>7</th>\n",
       "      <td>Financial groups</td>\n",
       "      <td>Interactions</td>\n",
       "      <td>Medium</td>\n",
       "      <td>StakeholderGroup</td>\n",
       "      <td>Wealth production</td>\n",
       "      <td>High</td>\n",
       "    </tr>\n",
       "    <tr>\n",
       "      <th>8</th>\n",
       "      <td>Residents and occupants of spaces</td>\n",
       "      <td>Interactions</td>\n",
       "      <td>Medium-high</td>\n",
       "      <td>StakeholderGroup</td>\n",
       "      <td>Living</td>\n",
       "      <td>Medium-high</td>\n",
       "    </tr>\n",
       "    <tr>\n",
       "      <th>9</th>\n",
       "      <td>Construction and infrastructure industry</td>\n",
       "      <td>Structure</td>\n",
       "      <td>Medium-high</td>\n",
       "      <td>StakeholderGroup</td>\n",
       "      <td>Buildings/Blocks</td>\n",
       "      <td>Medium-high</td>\n",
       "    </tr>\n",
       "    <tr>\n",
       "      <th>10</th>\n",
       "      <td>Manufacturing and production sector</td>\n",
       "      <td>Structure</td>\n",
       "      <td>Medium-high</td>\n",
       "      <td>StakeholderGroup</td>\n",
       "      <td>Settlement</td>\n",
       "      <td>Medium</td>\n",
       "    </tr>\n",
       "    <tr>\n",
       "      <th>11</th>\n",
       "      <td>Media organizations</td>\n",
       "      <td>Interactions</td>\n",
       "      <td>Medium-high</td>\n",
       "      <td>StakeholderGroup</td>\n",
       "      <td>Social Expression</td>\n",
       "      <td>Medium-high</td>\n",
       "    </tr>\n",
       "    <tr>\n",
       "      <th>12</th>\n",
       "      <td>Regulatory bodies</td>\n",
       "      <td>Society</td>\n",
       "      <td>Medium-high</td>\n",
       "      <td>StakeholderGroup</td>\n",
       "      <td>Organizations</td>\n",
       "      <td>Medium-high</td>\n",
       "    </tr>\n",
       "    <tr>\n",
       "      <th>13</th>\n",
       "      <td>Transportation and mobility sector</td>\n",
       "      <td>Interactions</td>\n",
       "      <td>Medium-high</td>\n",
       "      <td>StakeholderGroup</td>\n",
       "      <td>Transport</td>\n",
       "      <td>High</td>\n",
       "    </tr>\n",
       "    <tr>\n",
       "      <th>14</th>\n",
       "      <td>Retail and service industry</td>\n",
       "      <td>Interactions</td>\n",
       "      <td>Medium-high</td>\n",
       "      <td>StakeholderGroup</td>\n",
       "      <td>Commerce/Trade</td>\n",
       "      <td>High</td>\n",
       "    </tr>\n",
       "    <tr>\n",
       "      <th>15</th>\n",
       "      <td>Cities professionals</td>\n",
       "      <td>Interactions</td>\n",
       "      <td>Medium-high</td>\n",
       "      <td>StakeholderGroup</td>\n",
       "      <td>Working</td>\n",
       "      <td>Medium</td>\n",
       "    </tr>\n",
       "    <tr>\n",
       "      <th>16</th>\n",
       "      <td>Cities officials</td>\n",
       "      <td>Society</td>\n",
       "      <td>High</td>\n",
       "      <td>StakeholderGroup</td>\n",
       "      <td>Organizations</td>\n",
       "      <td>Medium-high</td>\n",
       "    </tr>\n",
       "    <tr>\n",
       "      <th>17</th>\n",
       "      <td>Energy sector</td>\n",
       "      <td>Structure</td>\n",
       "      <td>Medium-high</td>\n",
       "      <td>StakeholderGroup</td>\n",
       "      <td>Energy Cycle</td>\n",
       "      <td>High</td>\n",
       "    </tr>\n",
       "  </tbody>\n",
       "</table>\n",
       "</div>"
      ],
      "text/plain": [
       "                                              name      category   confidence  \\\n",
       "0                             Health organisations       Society         High   \n",
       "1                           Research organisations  Interactions  Medium-high   \n",
       "2                          Government institutions       Society         High   \n",
       "3                                   General public  Interactions         High   \n",
       "4                                  Public entities  Interactions       Medium   \n",
       "5   Environmental and sustainability organizations  Interactions         High   \n",
       "6                                          Workers  Interactions  Medium-high   \n",
       "7                                 Financial groups  Interactions       Medium   \n",
       "8                Residents and occupants of spaces  Interactions  Medium-high   \n",
       "9         Construction and infrastructure industry     Structure  Medium-high   \n",
       "10             Manufacturing and production sector     Structure  Medium-high   \n",
       "11                             Media organizations  Interactions  Medium-high   \n",
       "12                               Regulatory bodies       Society  Medium-high   \n",
       "13              Transportation and mobility sector  Interactions  Medium-high   \n",
       "14                     Retail and service industry  Interactions  Medium-high   \n",
       "15                            Cities professionals  Interactions  Medium-high   \n",
       "16                                Cities officials       Society         High   \n",
       "17                                   Energy sector     Structure  Medium-high   \n",
       "\n",
       "                 src        subcategory confidence_lv2  \n",
       "0   StakeholderGroup      Organizations    Medium-high  \n",
       "1   StakeholderGroup            Working         Medium  \n",
       "2   StakeholderGroup      Organizations    Medium-high  \n",
       "3   StakeholderGroup  Social Expression         Medium  \n",
       "4   StakeholderGroup     Commerce/Trade         Medium  \n",
       "5   StakeholderGroup  Social Expression           High  \n",
       "6   StakeholderGroup            Working           High  \n",
       "7   StakeholderGroup  Wealth production           High  \n",
       "8   StakeholderGroup             Living    Medium-high  \n",
       "9   StakeholderGroup   Buildings/Blocks    Medium-high  \n",
       "10  StakeholderGroup         Settlement         Medium  \n",
       "11  StakeholderGroup  Social Expression    Medium-high  \n",
       "12  StakeholderGroup      Organizations    Medium-high  \n",
       "13  StakeholderGroup          Transport           High  \n",
       "14  StakeholderGroup     Commerce/Trade           High  \n",
       "15  StakeholderGroup            Working         Medium  \n",
       "16  StakeholderGroup      Organizations    Medium-high  \n",
       "17  StakeholderGroup       Energy Cycle           High  "
      ]
     },
     "execution_count": 20,
     "metadata": {},
     "output_type": "execute_result"
    }
   ],
   "source": [
    "classify = [k for k in onto.classes() if (\"roup\" in str(k)) and (not \"CAO\" in str(k))]\n",
    "print(classify)\n",
    "N = classify[0].name\n",
    "DFC = pd.read_parquet(N+\"_newCAO_classified_lv1.parquet.gzip\")\n",
    "# remains at @TODO\n",
    "DFC"
   ]
  },
  {
   "cell_type": "code",
   "execution_count": 21,
   "metadata": {},
   "outputs": [],
   "source": [
    "with onto:\n",
    "    class has_CAOGroup(onto.PBNThing >> onto.CAO_Group):\n",
    "        label = [\"City anatomy layer that can be covered\"]\n",
    "        pass\n",
    "    class has_CAOSubgroup(onto.PBNThing >> onto.CAO_Subgroup):\n",
    "        label = [\"City anatomy sublayer that can be covered\"]\n",
    "        pass\n"
   ]
  },
  {
   "cell_type": "code",
   "execution_count": 22,
   "metadata": {},
   "outputs": [
    {
     "name": "stdout",
     "output_type": "stream",
     "text": [
      "Doing: StakeholderGroup\n",
      "Doing: StakeholderSubgroup\n",
      "onto.CAO_Subgroup(\"PBN__CAO_Subgroup_48\")\n",
      "Doing: TechGroup\n",
      "Doing: TechSubgroup\n",
      "Doing: RiskGroup\n",
      "Doing: RiskSubgroup\n"
     ]
    }
   ],
   "source": [
    "for c in classify:\n",
    "    N = c.name\n",
    "    print(\"Doing:\",N)\n",
    "    DFC = pd.read_parquet(N+\"_newCAO_classified_lv1.parquet.gzip\")\n",
    "    for ix, row in DFC.iterrows():\n",
    "        obj = u.addItem(N, row[\"name\"], dIDct, onto )\n",
    "        cate = u.addItem(\"CAO_Group\", row[\"category\"], dIDct, onto )\n",
    "        scat = u.addItem(\"CAO_Subgroup\", row[\"subcategory\"], dIDct, onto )\n",
    "        obj.has_CAOGroup = []\n",
    "        obj.has_CAOGroup.append(cate)\n",
    "        obj.has_CAOSubgroup = []\n",
    "        obj.has_CAOSubgroup.append(scat)"
   ]
  },
  {
   "attachments": {},
   "cell_type": "markdown",
   "metadata": {},
   "source": [
    "# Saving"
   ]
  },
  {
   "cell_type": "code",
   "execution_count": 23,
   "metadata": {},
   "outputs": [],
   "source": [
    "onto.save(\"WIP_1.owl\")"
   ]
  },
  {
   "cell_type": "code",
   "execution_count": 24,
   "metadata": {},
   "outputs": [
    {
     "name": "stdout",
     "output_type": "stream",
     "text": [
      "Done\n"
     ]
    }
   ],
   "source": [
    "print(\"Done\")"
   ]
  }
 ],
 "metadata": {
  "kernelspec": {
   "display_name": "venv",
   "language": "python",
   "name": "python3"
  },
  "language_info": {
   "codemirror_mode": {
    "name": "ipython",
    "version": 3
   },
   "file_extension": ".py",
   "mimetype": "text/x-python",
   "name": "python",
   "nbconvert_exporter": "python",
   "pygments_lexer": "ipython3",
   "version": "3.10.12"
  },
  "orig_nbformat": 4,
  "vscode": {
   "interpreter": {
    "hash": "f79bc2406addd2c06911dc053b733d86c52c13481e10d53afee492d28d2db597"
   }
  }
 },
 "nbformat": 4,
 "nbformat_minor": 2
}
