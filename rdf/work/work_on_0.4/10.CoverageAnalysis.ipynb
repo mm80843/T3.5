{
 "cells": [
  {
   "cell_type": "code",
   "execution_count": 1,
   "metadata": {},
   "outputs": [],
   "source": [
    "%load_ext autoreload\n",
    "%autoreload 2"
   ]
  },
  {
   "cell_type": "code",
   "execution_count": 2,
   "metadata": {},
   "outputs": [
    {
     "name": "stdout",
     "output_type": "stream",
     "text": [
      "0.40\n"
     ]
    },
    {
     "name": "stderr",
     "output_type": "stream",
     "text": [
      "* Owlready2 * Warning: optimized Cython parser module 'owlready2_optimized' is not available, defaulting to slower Python implementation\n"
     ]
    }
   ],
   "source": [
    "import pandas as pd\n",
    "import os, glob\n",
    "\n",
    "from owlready2 import *\n",
    "import owlready2\n",
    "print(owlready2.VERSION)\n",
    "\n",
    "\n",
    "import importlib.util\n",
    "import sys\n",
    "spec = importlib.util.spec_from_file_location(\"rdfutils\", \"../../../utils/rdfutils.py\")\n",
    "u = importlib.util.module_from_spec(spec)\n",
    "sys.modules[\"rdfutils\"] = u\n",
    "spec.loader.exec_module(u)\n",
    "\n",
    "from datetime import datetime\n",
    "\n",
    "def NOW():\n",
    "    now = datetime.now()\n",
    "    current_time = now.strftime(\"%H:%M:%S\")\n",
    "    return \"Current Time = \"+ str(current_time)\n",
    "\n",
    "\n"
   ]
  },
  {
   "cell_type": "code",
   "execution_count": 3,
   "metadata": {},
   "outputs": [],
   "source": [
    "if 0:\n",
    "    pathrdfin  = \"WIP_1.owl\"\n",
    "    onto = get_ontology(pathrdfin).load()\n",
    "    dIDct = u.createDict(onto) \n",
    "\n",
    "    ALL = []\n",
    "    for p in [x for x in onto.ISO_Purpose.instances()]:\n",
    "        risks = p.has_Impact_RiskISO\n",
    "        for r in risks:\n",
    "            MAP = [r.name.split(\"_\")[-1],r.has_RiskISO_Impact[0].label[0], r.has_RiskISO_Purpose[0].label[0]]\n",
    "            ALL.append(MAP)\n",
    "\n",
    "    A = [x for x in onto.ISO_Purpose.instances()]\n",
    "    a = A[0]\n",
    "\n",
    "    df = pd.DataFrame(ALL,columns = [\"ID\",\"Impact\",\"Purpose\"])\n",
    "\n",
    "\n",
    "    IMPACT = list(df.groupby(\"Impact\").count().reset_index().sort_values(by=\"ID\",ascending=False).reset_index(drop=True)[:6].Impact)\n",
    "    IMPACT\n",
    "    PURPOSE = list(df.groupby(\"Purpose\").count().reset_index().sort_values(by=\"ID\",ascending=False).reset_index(drop=True)[:12].Purpose)\n",
    "    PURPOSE"
   ]
  },
  {
   "cell_type": "markdown",
   "metadata": {},
   "source": [
    "# Start from Python"
   ]
  },
  {
   "cell_type": "code",
   "execution_count": 4,
   "metadata": {},
   "outputs": [
    {
     "name": "stdout",
     "output_type": "stream",
     "text": [
      "214\n"
     ]
    },
    {
     "data": {
      "text/html": [
       "<div>\n",
       "<style scoped>\n",
       "    .dataframe tbody tr th:only-of-type {\n",
       "        vertical-align: middle;\n",
       "    }\n",
       "\n",
       "    .dataframe tbody tr th {\n",
       "        vertical-align: top;\n",
       "    }\n",
       "\n",
       "    .dataframe thead tr th {\n",
       "        text-align: left;\n",
       "    }\n",
       "\n",
       "    .dataframe thead tr:last-of-type th {\n",
       "        text-align: right;\n",
       "    }\n",
       "</style>\n",
       "<table border=\"1\" class=\"dataframe\">\n",
       "  <thead>\n",
       "    <tr>\n",
       "      <th></th>\n",
       "      <th colspan=\"10\" halign=\"left\">ID</th>\n",
       "      <th colspan=\"10\" halign=\"left\">cnt</th>\n",
       "    </tr>\n",
       "    <tr>\n",
       "      <th>Issue</th>\n",
       "      <th>Biodiversity and ecosystem services</th>\n",
       "      <th>Community smart infrastructures</th>\n",
       "      <th>Economy and sustainable production and consumption</th>\n",
       "      <th>Governance, empowerment and engagement</th>\n",
       "      <th>Health and care in the community</th>\n",
       "      <th>Innovation, creativity and research</th>\n",
       "      <th>Living and working environment</th>\n",
       "      <th>Living together, interdependence and mutuality</th>\n",
       "      <th>Mobility</th>\n",
       "      <th>Safety and security</th>\n",
       "      <th>Biodiversity and ecosystem services</th>\n",
       "      <th>Community smart infrastructures</th>\n",
       "      <th>Economy and sustainable production and consumption</th>\n",
       "      <th>Governance, empowerment and engagement</th>\n",
       "      <th>Health and care in the community</th>\n",
       "      <th>Innovation, creativity and research</th>\n",
       "      <th>Living and working environment</th>\n",
       "      <th>Living together, interdependence and mutuality</th>\n",
       "      <th>Mobility</th>\n",
       "      <th>Safety and security</th>\n",
       "    </tr>\n",
       "    <tr>\n",
       "      <th>Purpose</th>\n",
       "      <th></th>\n",
       "      <th></th>\n",
       "      <th></th>\n",
       "      <th></th>\n",
       "      <th></th>\n",
       "      <th></th>\n",
       "      <th></th>\n",
       "      <th></th>\n",
       "      <th></th>\n",
       "      <th></th>\n",
       "      <th></th>\n",
       "      <th></th>\n",
       "      <th></th>\n",
       "      <th></th>\n",
       "      <th></th>\n",
       "      <th></th>\n",
       "      <th></th>\n",
       "      <th></th>\n",
       "      <th></th>\n",
       "      <th></th>\n",
       "    </tr>\n",
       "  </thead>\n",
       "  <tbody>\n",
       "    <tr>\n",
       "      <th>Attractiveness</th>\n",
       "      <td>1.0</td>\n",
       "      <td>1.0</td>\n",
       "      <td>1.0</td>\n",
       "      <td>0.0</td>\n",
       "      <td>0.0</td>\n",
       "      <td>2.0</td>\n",
       "      <td>0.0</td>\n",
       "      <td>0.0</td>\n",
       "      <td>0.0</td>\n",
       "      <td>0.0</td>\n",
       "      <td>1.0</td>\n",
       "      <td>1.0</td>\n",
       "      <td>1.0</td>\n",
       "      <td>0.0</td>\n",
       "      <td>0.0</td>\n",
       "      <td>2.0</td>\n",
       "      <td>0.0</td>\n",
       "      <td>0.0</td>\n",
       "      <td>0.0</td>\n",
       "      <td>0.0</td>\n",
       "    </tr>\n",
       "    <tr>\n",
       "      <th>Preservation and improvement of environment</th>\n",
       "      <td>6.0</td>\n",
       "      <td>1.0</td>\n",
       "      <td>0.0</td>\n",
       "      <td>0.0</td>\n",
       "      <td>24.0</td>\n",
       "      <td>1.0</td>\n",
       "      <td>1.0</td>\n",
       "      <td>0.0</td>\n",
       "      <td>1.0</td>\n",
       "      <td>0.0</td>\n",
       "      <td>6.0</td>\n",
       "      <td>1.0</td>\n",
       "      <td>0.0</td>\n",
       "      <td>0.0</td>\n",
       "      <td>24.0</td>\n",
       "      <td>1.0</td>\n",
       "      <td>1.0</td>\n",
       "      <td>0.0</td>\n",
       "      <td>1.0</td>\n",
       "      <td>0.0</td>\n",
       "    </tr>\n",
       "    <tr>\n",
       "      <th>Resilience</th>\n",
       "      <td>4.0</td>\n",
       "      <td>18.0</td>\n",
       "      <td>4.0</td>\n",
       "      <td>3.0</td>\n",
       "      <td>25.0</td>\n",
       "      <td>7.0</td>\n",
       "      <td>1.0</td>\n",
       "      <td>0.0</td>\n",
       "      <td>1.0</td>\n",
       "      <td>31.0</td>\n",
       "      <td>4.0</td>\n",
       "      <td>18.0</td>\n",
       "      <td>4.0</td>\n",
       "      <td>3.0</td>\n",
       "      <td>25.0</td>\n",
       "      <td>7.0</td>\n",
       "      <td>1.0</td>\n",
       "      <td>0.0</td>\n",
       "      <td>1.0</td>\n",
       "      <td>31.0</td>\n",
       "    </tr>\n",
       "    <tr>\n",
       "      <th>Responsible resource use</th>\n",
       "      <td>0.0</td>\n",
       "      <td>6.0</td>\n",
       "      <td>2.0</td>\n",
       "      <td>0.0</td>\n",
       "      <td>0.0</td>\n",
       "      <td>0.0</td>\n",
       "      <td>0.0</td>\n",
       "      <td>0.0</td>\n",
       "      <td>0.0</td>\n",
       "      <td>0.0</td>\n",
       "      <td>0.0</td>\n",
       "      <td>6.0</td>\n",
       "      <td>2.0</td>\n",
       "      <td>0.0</td>\n",
       "      <td>0.0</td>\n",
       "      <td>0.0</td>\n",
       "      <td>0.0</td>\n",
       "      <td>0.0</td>\n",
       "      <td>0.0</td>\n",
       "      <td>0.0</td>\n",
       "    </tr>\n",
       "    <tr>\n",
       "      <th>Social cohesion</th>\n",
       "      <td>0.0</td>\n",
       "      <td>0.0</td>\n",
       "      <td>0.0</td>\n",
       "      <td>3.0</td>\n",
       "      <td>2.0</td>\n",
       "      <td>0.0</td>\n",
       "      <td>0.0</td>\n",
       "      <td>9.0</td>\n",
       "      <td>0.0</td>\n",
       "      <td>1.0</td>\n",
       "      <td>0.0</td>\n",
       "      <td>0.0</td>\n",
       "      <td>0.0</td>\n",
       "      <td>3.0</td>\n",
       "      <td>2.0</td>\n",
       "      <td>0.0</td>\n",
       "      <td>0.0</td>\n",
       "      <td>9.0</td>\n",
       "      <td>0.0</td>\n",
       "      <td>1.0</td>\n",
       "    </tr>\n",
       "    <tr>\n",
       "      <th>Well-being</th>\n",
       "      <td>0.0</td>\n",
       "      <td>2.0</td>\n",
       "      <td>1.0</td>\n",
       "      <td>0.0</td>\n",
       "      <td>39.0</td>\n",
       "      <td>0.0</td>\n",
       "      <td>8.0</td>\n",
       "      <td>0.0</td>\n",
       "      <td>0.0</td>\n",
       "      <td>8.0</td>\n",
       "      <td>0.0</td>\n",
       "      <td>2.0</td>\n",
       "      <td>1.0</td>\n",
       "      <td>0.0</td>\n",
       "      <td>39.0</td>\n",
       "      <td>0.0</td>\n",
       "      <td>8.0</td>\n",
       "      <td>0.0</td>\n",
       "      <td>0.0</td>\n",
       "      <td>8.0</td>\n",
       "    </tr>\n",
       "  </tbody>\n",
       "</table>\n",
       "</div>"
      ],
      "text/plain": [
       "                                                                             ID  \\\n",
       "Issue                                       Biodiversity and ecosystem services   \n",
       "Purpose                                                                           \n",
       "Attractiveness                                                              1.0   \n",
       "Preservation and improvement of environment                                 6.0   \n",
       "Resilience                                                                  4.0   \n",
       "Responsible resource use                                                    0.0   \n",
       "Social cohesion                                                             0.0   \n",
       "Well-being                                                                  0.0   \n",
       "\n",
       "                                                                             \\\n",
       "Issue                                       Community smart infrastructures   \n",
       "Purpose                                                                       \n",
       "Attractiveness                                                          1.0   \n",
       "Preservation and improvement of environment                             1.0   \n",
       "Resilience                                                             18.0   \n",
       "Responsible resource use                                                6.0   \n",
       "Social cohesion                                                         0.0   \n",
       "Well-being                                                              2.0   \n",
       "\n",
       "                                                                                                \\\n",
       "Issue                                       Economy and sustainable production and consumption   \n",
       "Purpose                                                                                          \n",
       "Attractiveness                                                                             1.0   \n",
       "Preservation and improvement of environment                                                0.0   \n",
       "Resilience                                                                                 4.0   \n",
       "Responsible resource use                                                                   2.0   \n",
       "Social cohesion                                                                            0.0   \n",
       "Well-being                                                                                 1.0   \n",
       "\n",
       "                                                                                    \\\n",
       "Issue                                       Governance, empowerment and engagement   \n",
       "Purpose                                                                              \n",
       "Attractiveness                                                                 0.0   \n",
       "Preservation and improvement of environment                                    0.0   \n",
       "Resilience                                                                     3.0   \n",
       "Responsible resource use                                                       0.0   \n",
       "Social cohesion                                                                3.0   \n",
       "Well-being                                                                     0.0   \n",
       "\n",
       "                                                                              \\\n",
       "Issue                                       Health and care in the community   \n",
       "Purpose                                                                        \n",
       "Attractiveness                                                           0.0   \n",
       "Preservation and improvement of environment                             24.0   \n",
       "Resilience                                                              25.0   \n",
       "Responsible resource use                                                 0.0   \n",
       "Social cohesion                                                          2.0   \n",
       "Well-being                                                              39.0   \n",
       "\n",
       "                                                                                 \\\n",
       "Issue                                       Innovation, creativity and research   \n",
       "Purpose                                                                           \n",
       "Attractiveness                                                              2.0   \n",
       "Preservation and improvement of environment                                 1.0   \n",
       "Resilience                                                                  7.0   \n",
       "Responsible resource use                                                    0.0   \n",
       "Social cohesion                                                             0.0   \n",
       "Well-being                                                                  0.0   \n",
       "\n",
       "                                                                            \\\n",
       "Issue                                       Living and working environment   \n",
       "Purpose                                                                      \n",
       "Attractiveness                                                         0.0   \n",
       "Preservation and improvement of environment                            1.0   \n",
       "Resilience                                                             1.0   \n",
       "Responsible resource use                                               0.0   \n",
       "Social cohesion                                                        0.0   \n",
       "Well-being                                                             8.0   \n",
       "\n",
       "                                                                                            \\\n",
       "Issue                                       Living together, interdependence and mutuality   \n",
       "Purpose                                                                                      \n",
       "Attractiveness                                                                         0.0   \n",
       "Preservation and improvement of environment                                            0.0   \n",
       "Resilience                                                                             0.0   \n",
       "Responsible resource use                                                               0.0   \n",
       "Social cohesion                                                                        9.0   \n",
       "Well-being                                                                             0.0   \n",
       "\n",
       "                                                                          \\\n",
       "Issue                                       Mobility Safety and security   \n",
       "Purpose                                                                    \n",
       "Attractiveness                                   0.0                 0.0   \n",
       "Preservation and improvement of environment      1.0                 0.0   \n",
       "Resilience                                       1.0                31.0   \n",
       "Responsible resource use                         0.0                 0.0   \n",
       "Social cohesion                                  0.0                 1.0   \n",
       "Well-being                                       0.0                 8.0   \n",
       "\n",
       "                                                                            cnt  \\\n",
       "Issue                                       Biodiversity and ecosystem services   \n",
       "Purpose                                                                           \n",
       "Attractiveness                                                              1.0   \n",
       "Preservation and improvement of environment                                 6.0   \n",
       "Resilience                                                                  4.0   \n",
       "Responsible resource use                                                    0.0   \n",
       "Social cohesion                                                             0.0   \n",
       "Well-being                                                                  0.0   \n",
       "\n",
       "                                                                             \\\n",
       "Issue                                       Community smart infrastructures   \n",
       "Purpose                                                                       \n",
       "Attractiveness                                                          1.0   \n",
       "Preservation and improvement of environment                             1.0   \n",
       "Resilience                                                             18.0   \n",
       "Responsible resource use                                                6.0   \n",
       "Social cohesion                                                         0.0   \n",
       "Well-being                                                              2.0   \n",
       "\n",
       "                                                                                                \\\n",
       "Issue                                       Economy and sustainable production and consumption   \n",
       "Purpose                                                                                          \n",
       "Attractiveness                                                                             1.0   \n",
       "Preservation and improvement of environment                                                0.0   \n",
       "Resilience                                                                                 4.0   \n",
       "Responsible resource use                                                                   2.0   \n",
       "Social cohesion                                                                            0.0   \n",
       "Well-being                                                                                 1.0   \n",
       "\n",
       "                                                                                    \\\n",
       "Issue                                       Governance, empowerment and engagement   \n",
       "Purpose                                                                              \n",
       "Attractiveness                                                                 0.0   \n",
       "Preservation and improvement of environment                                    0.0   \n",
       "Resilience                                                                     3.0   \n",
       "Responsible resource use                                                       0.0   \n",
       "Social cohesion                                                                3.0   \n",
       "Well-being                                                                     0.0   \n",
       "\n",
       "                                                                              \\\n",
       "Issue                                       Health and care in the community   \n",
       "Purpose                                                                        \n",
       "Attractiveness                                                           0.0   \n",
       "Preservation and improvement of environment                             24.0   \n",
       "Resilience                                                              25.0   \n",
       "Responsible resource use                                                 0.0   \n",
       "Social cohesion                                                          2.0   \n",
       "Well-being                                                              39.0   \n",
       "\n",
       "                                                                                 \\\n",
       "Issue                                       Innovation, creativity and research   \n",
       "Purpose                                                                           \n",
       "Attractiveness                                                              2.0   \n",
       "Preservation and improvement of environment                                 1.0   \n",
       "Resilience                                                                  7.0   \n",
       "Responsible resource use                                                    0.0   \n",
       "Social cohesion                                                             0.0   \n",
       "Well-being                                                                  0.0   \n",
       "\n",
       "                                                                            \\\n",
       "Issue                                       Living and working environment   \n",
       "Purpose                                                                      \n",
       "Attractiveness                                                         0.0   \n",
       "Preservation and improvement of environment                            1.0   \n",
       "Resilience                                                             1.0   \n",
       "Responsible resource use                                               0.0   \n",
       "Social cohesion                                                        0.0   \n",
       "Well-being                                                             8.0   \n",
       "\n",
       "                                                                                            \\\n",
       "Issue                                       Living together, interdependence and mutuality   \n",
       "Purpose                                                                                      \n",
       "Attractiveness                                                                         0.0   \n",
       "Preservation and improvement of environment                                            0.0   \n",
       "Resilience                                                                             0.0   \n",
       "Responsible resource use                                                               0.0   \n",
       "Social cohesion                                                                        9.0   \n",
       "Well-being                                                                             0.0   \n",
       "\n",
       "                                                                          \n",
       "Issue                                       Mobility Safety and security  \n",
       "Purpose                                                                   \n",
       "Attractiveness                                   0.0                 0.0  \n",
       "Preservation and improvement of environment      1.0                 0.0  \n",
       "Resilience                                       1.0                31.0  \n",
       "Responsible resource use                         0.0                 0.0  \n",
       "Social cohesion                                  0.0                 1.0  \n",
       "Well-being                                       0.0                 8.0  "
      ]
     },
     "execution_count": 4,
     "metadata": {},
     "output_type": "execute_result"
    }
   ],
   "source": [
    "# sns.heatmap().\n",
    "df = pd.read_parquet(\"df_iso_done.parquet.gzip\")\n",
    "print(len(df))\n",
    "df = df[[\"ID\",\"Purpose\",\"Issue\"]]\n",
    "df[\"cnt\"] = 1\n",
    "DF = df.groupby([\"Purpose\",\"Issue\"]).count()\n",
    "D = DF.unstack(\"Issue\").fillna(0)\n",
    "D"
   ]
  },
  {
   "cell_type": "code",
   "execution_count": 5,
   "metadata": {},
   "outputs": [],
   "source": [
    "#pip install nbformat seaborn matplotlib\n",
    "import seaborn as sns\n",
    "import numpy as np"
   ]
  },
  {
   "cell_type": "code",
   "execution_count": 6,
   "metadata": {},
   "outputs": [
    {
     "name": "stderr",
     "output_type": "stream",
     "text": [
      "/tmp/ipykernel_16277/1445217998.py:2: SettingWithCopyWarning: \n",
      "A value is trying to be set on a copy of a slice from a DataFrame.\n",
      "Try using .loc[row_indexer,col_indexer] = value instead\n",
      "\n",
      "See the caveats in the documentation: https://pandas.pydata.org/pandas-docs/stable/user_guide/indexing.html#returning-a-view-versus-a-copy\n",
      "  DD[\"Purpose\"] = DD.Purpose.str.replace(\"Preservation and improvement of environment\",\"Environment\").replace(\"Responsible resource use\",\"Resources management\")\n"
     ]
    },
    {
     "data": {
      "text/html": [
       "<div>\n",
       "<style scoped>\n",
       "    .dataframe tbody tr th:only-of-type {\n",
       "        vertical-align: middle;\n",
       "    }\n",
       "\n",
       "    .dataframe tbody tr th {\n",
       "        vertical-align: top;\n",
       "    }\n",
       "\n",
       "    .dataframe thead th {\n",
       "        text-align: right;\n",
       "    }\n",
       "</style>\n",
       "<table border=\"1\" class=\"dataframe\">\n",
       "  <thead>\n",
       "    <tr style=\"text-align: right;\">\n",
       "      <th></th>\n",
       "      <th>cnt</th>\n",
       "      <th>Purpose</th>\n",
       "      <th>Issue</th>\n",
       "    </tr>\n",
       "  </thead>\n",
       "  <tbody>\n",
       "    <tr>\n",
       "      <th>0</th>\n",
       "      <td>1</td>\n",
       "      <td>Resilience</td>\n",
       "      <td>Health and care in the community</td>\n",
       "    </tr>\n",
       "    <tr>\n",
       "      <th>1</th>\n",
       "      <td>1</td>\n",
       "      <td>Environment</td>\n",
       "      <td>Health and care in the community</td>\n",
       "    </tr>\n",
       "    <tr>\n",
       "      <th>2</th>\n",
       "      <td>1</td>\n",
       "      <td>Social cohesion</td>\n",
       "      <td>Living together, interdependence and mutuality</td>\n",
       "    </tr>\n",
       "    <tr>\n",
       "      <th>3</th>\n",
       "      <td>1</td>\n",
       "      <td>Resilience</td>\n",
       "      <td>Innovation, creativity and research</td>\n",
       "    </tr>\n",
       "    <tr>\n",
       "      <th>4</th>\n",
       "      <td>1</td>\n",
       "      <td>Resilience</td>\n",
       "      <td>Safety and security</td>\n",
       "    </tr>\n",
       "    <tr>\n",
       "      <th>...</th>\n",
       "      <td>...</td>\n",
       "      <td>...</td>\n",
       "      <td>...</td>\n",
       "    </tr>\n",
       "    <tr>\n",
       "      <th>209</th>\n",
       "      <td>1</td>\n",
       "      <td>Well-being</td>\n",
       "      <td>Health and care in the community</td>\n",
       "    </tr>\n",
       "    <tr>\n",
       "      <th>210</th>\n",
       "      <td>1</td>\n",
       "      <td>Resilience</td>\n",
       "      <td>Community smart infrastructures</td>\n",
       "    </tr>\n",
       "    <tr>\n",
       "      <th>211</th>\n",
       "      <td>1</td>\n",
       "      <td>Resilience</td>\n",
       "      <td>Biodiversity and ecosystem services</td>\n",
       "    </tr>\n",
       "    <tr>\n",
       "      <th>212</th>\n",
       "      <td>1</td>\n",
       "      <td>Social cohesion</td>\n",
       "      <td>Living together, interdependence and mutuality</td>\n",
       "    </tr>\n",
       "    <tr>\n",
       "      <th>213</th>\n",
       "      <td>1</td>\n",
       "      <td>Social cohesion</td>\n",
       "      <td>Living together, interdependence and mutuality</td>\n",
       "    </tr>\n",
       "  </tbody>\n",
       "</table>\n",
       "<p>214 rows × 3 columns</p>\n",
       "</div>"
      ],
      "text/plain": [
       "     cnt          Purpose                                           Issue\n",
       "0      1       Resilience                Health and care in the community\n",
       "1      1      Environment                Health and care in the community\n",
       "2      1  Social cohesion  Living together, interdependence and mutuality\n",
       "3      1       Resilience             Innovation, creativity and research\n",
       "4      1       Resilience                             Safety and security\n",
       "..   ...              ...                                             ...\n",
       "209    1       Well-being                Health and care in the community\n",
       "210    1       Resilience                 Community smart infrastructures\n",
       "211    1       Resilience             Biodiversity and ecosystem services\n",
       "212    1  Social cohesion  Living together, interdependence and mutuality\n",
       "213    1  Social cohesion  Living together, interdependence and mutuality\n",
       "\n",
       "[214 rows x 3 columns]"
      ]
     },
     "execution_count": 6,
     "metadata": {},
     "output_type": "execute_result"
    }
   ],
   "source": [
    "DD  = df[[\"cnt\",\"Purpose\",\"Issue\"]]\n",
    "DD[\"Purpose\"] = DD.Purpose.str.replace(\"Preservation and improvement of environment\",\"Environment\").replace(\"Responsible resource use\",\"Resources management\")\n",
    "DD"
   ]
  },
  {
   "cell_type": "code",
   "execution_count": 7,
   "metadata": {},
   "outputs": [
    {
     "data": {
      "text/html": [
       "<div>\n",
       "<style scoped>\n",
       "    .dataframe tbody tr th:only-of-type {\n",
       "        vertical-align: middle;\n",
       "    }\n",
       "\n",
       "    .dataframe tbody tr th {\n",
       "        vertical-align: top;\n",
       "    }\n",
       "\n",
       "    .dataframe thead th {\n",
       "        text-align: right;\n",
       "    }\n",
       "</style>\n",
       "<table border=\"1\" class=\"dataframe\">\n",
       "  <thead>\n",
       "    <tr style=\"text-align: right;\">\n",
       "      <th>Issue</th>\n",
       "      <th>Biodiversity and ecosystem services</th>\n",
       "      <th>Community smart infrastructures</th>\n",
       "      <th>Economy and sustainable production and consumption</th>\n",
       "      <th>Governance, empowerment and engagement</th>\n",
       "      <th>Health and care in the community</th>\n",
       "      <th>Innovation, creativity and research</th>\n",
       "      <th>Living and working environment</th>\n",
       "      <th>Living together, interdependence and mutuality</th>\n",
       "      <th>Mobility</th>\n",
       "      <th>Safety and security</th>\n",
       "    </tr>\n",
       "    <tr>\n",
       "      <th>Purpose</th>\n",
       "      <th></th>\n",
       "      <th></th>\n",
       "      <th></th>\n",
       "      <th></th>\n",
       "      <th></th>\n",
       "      <th></th>\n",
       "      <th></th>\n",
       "      <th></th>\n",
       "      <th></th>\n",
       "      <th></th>\n",
       "    </tr>\n",
       "  </thead>\n",
       "  <tbody>\n",
       "    <tr>\n",
       "      <th>Attractiveness</th>\n",
       "      <td>1.0</td>\n",
       "      <td>1.0</td>\n",
       "      <td>1.0</td>\n",
       "      <td>0.0</td>\n",
       "      <td>0.0</td>\n",
       "      <td>2.0</td>\n",
       "      <td>0.0</td>\n",
       "      <td>0.0</td>\n",
       "      <td>0.0</td>\n",
       "      <td>0.0</td>\n",
       "    </tr>\n",
       "    <tr>\n",
       "      <th>Environment</th>\n",
       "      <td>6.0</td>\n",
       "      <td>1.0</td>\n",
       "      <td>0.0</td>\n",
       "      <td>0.0</td>\n",
       "      <td>24.0</td>\n",
       "      <td>1.0</td>\n",
       "      <td>1.0</td>\n",
       "      <td>0.0</td>\n",
       "      <td>1.0</td>\n",
       "      <td>0.0</td>\n",
       "    </tr>\n",
       "    <tr>\n",
       "      <th>Resilience</th>\n",
       "      <td>4.0</td>\n",
       "      <td>18.0</td>\n",
       "      <td>4.0</td>\n",
       "      <td>3.0</td>\n",
       "      <td>25.0</td>\n",
       "      <td>7.0</td>\n",
       "      <td>1.0</td>\n",
       "      <td>0.0</td>\n",
       "      <td>1.0</td>\n",
       "      <td>31.0</td>\n",
       "    </tr>\n",
       "    <tr>\n",
       "      <th>Resources management</th>\n",
       "      <td>0.0</td>\n",
       "      <td>6.0</td>\n",
       "      <td>2.0</td>\n",
       "      <td>0.0</td>\n",
       "      <td>0.0</td>\n",
       "      <td>0.0</td>\n",
       "      <td>0.0</td>\n",
       "      <td>0.0</td>\n",
       "      <td>0.0</td>\n",
       "      <td>0.0</td>\n",
       "    </tr>\n",
       "    <tr>\n",
       "      <th>Social cohesion</th>\n",
       "      <td>0.0</td>\n",
       "      <td>0.0</td>\n",
       "      <td>0.0</td>\n",
       "      <td>3.0</td>\n",
       "      <td>2.0</td>\n",
       "      <td>0.0</td>\n",
       "      <td>0.0</td>\n",
       "      <td>9.0</td>\n",
       "      <td>0.0</td>\n",
       "      <td>1.0</td>\n",
       "    </tr>\n",
       "    <tr>\n",
       "      <th>Well-being</th>\n",
       "      <td>0.0</td>\n",
       "      <td>2.0</td>\n",
       "      <td>1.0</td>\n",
       "      <td>0.0</td>\n",
       "      <td>39.0</td>\n",
       "      <td>0.0</td>\n",
       "      <td>8.0</td>\n",
       "      <td>0.0</td>\n",
       "      <td>0.0</td>\n",
       "      <td>8.0</td>\n",
       "    </tr>\n",
       "  </tbody>\n",
       "</table>\n",
       "</div>"
      ],
      "text/plain": [
       "Issue                 Biodiversity and ecosystem services  \\\n",
       "Purpose                                                     \n",
       "Attractiveness                                        1.0   \n",
       "Environment                                           6.0   \n",
       "Resilience                                            4.0   \n",
       "Resources management                                  0.0   \n",
       "Social cohesion                                       0.0   \n",
       "Well-being                                            0.0   \n",
       "\n",
       "Issue                 Community smart infrastructures  \\\n",
       "Purpose                                                 \n",
       "Attractiveness                                    1.0   \n",
       "Environment                                       1.0   \n",
       "Resilience                                       18.0   \n",
       "Resources management                              6.0   \n",
       "Social cohesion                                   0.0   \n",
       "Well-being                                        2.0   \n",
       "\n",
       "Issue                 Economy and sustainable production and consumption  \\\n",
       "Purpose                                                                    \n",
       "Attractiveness                                                      1.0    \n",
       "Environment                                                         0.0    \n",
       "Resilience                                                          4.0    \n",
       "Resources management                                                2.0    \n",
       "Social cohesion                                                     0.0    \n",
       "Well-being                                                          1.0    \n",
       "\n",
       "Issue                 Governance, empowerment and engagement  \\\n",
       "Purpose                                                        \n",
       "Attractiveness                                           0.0   \n",
       "Environment                                              0.0   \n",
       "Resilience                                               3.0   \n",
       "Resources management                                     0.0   \n",
       "Social cohesion                                          3.0   \n",
       "Well-being                                               0.0   \n",
       "\n",
       "Issue                 Health and care in the community  \\\n",
       "Purpose                                                  \n",
       "Attractiveness                                     0.0   \n",
       "Environment                                       24.0   \n",
       "Resilience                                        25.0   \n",
       "Resources management                               0.0   \n",
       "Social cohesion                                    2.0   \n",
       "Well-being                                        39.0   \n",
       "\n",
       "Issue                 Innovation, creativity and research  \\\n",
       "Purpose                                                     \n",
       "Attractiveness                                        2.0   \n",
       "Environment                                           1.0   \n",
       "Resilience                                            7.0   \n",
       "Resources management                                  0.0   \n",
       "Social cohesion                                       0.0   \n",
       "Well-being                                            0.0   \n",
       "\n",
       "Issue                 Living and working environment  \\\n",
       "Purpose                                                \n",
       "Attractiveness                                   0.0   \n",
       "Environment                                      1.0   \n",
       "Resilience                                       1.0   \n",
       "Resources management                             0.0   \n",
       "Social cohesion                                  0.0   \n",
       "Well-being                                       8.0   \n",
       "\n",
       "Issue                 Living together, interdependence and mutuality  \\\n",
       "Purpose                                                                \n",
       "Attractiveness                                                   0.0   \n",
       "Environment                                                      0.0   \n",
       "Resilience                                                       0.0   \n",
       "Resources management                                             0.0   \n",
       "Social cohesion                                                  9.0   \n",
       "Well-being                                                       0.0   \n",
       "\n",
       "Issue                 Mobility  Safety and security  \n",
       "Purpose                                              \n",
       "Attractiveness             0.0                  0.0  \n",
       "Environment                1.0                  0.0  \n",
       "Resilience                 1.0                 31.0  \n",
       "Resources management       0.0                  0.0  \n",
       "Social cohesion            0.0                  1.0  \n",
       "Well-being                 0.0                  8.0  "
      ]
     },
     "execution_count": 7,
     "metadata": {},
     "output_type": "execute_result"
    }
   ],
   "source": [
    "pivot = pd.pivot_table(DD,index='Purpose', columns='Issue', values='cnt',aggfunc='sum').fillna(0)\n",
    "pivot"
   ]
  },
  {
   "cell_type": "code",
   "execution_count": 8,
   "metadata": {},
   "outputs": [],
   "source": [
    "rdgn = sns.diverging_palette(h_neg=130, h_pos=10, s=99, l=55, sep=3, as_cmap=True)"
   ]
  },
  {
   "cell_type": "code",
   "execution_count": 9,
   "metadata": {},
   "outputs": [
    {
     "data": {
      "image/png": "[encoded data removed]",
      "text/plain": [
       "<Figure size 1000x500 with 1 Axes>"
      ]
     },
     "metadata": {},
     "output_type": "display_data"
    }
   ],
   "source": [
    "import matplotlib.pyplot as plt\n",
    "%matplotlib inline\n",
    "plt.figure(figsize=(10,5))\n",
    "ax = plt.axes()\n",
    "ax.set_title('Risks can impact sustainability at different levels\\n')\n",
    "plt.xlabel('Purposes of sustainability', fontsize = 15) # x-axis label with fontsize 15\n",
    "plt.ylabel('Areas of activities', fontsize = 15) # y-axis label with fontsize 15\n",
    "sns.heatmap(np.sqrt(pivot.T), ax = ax,cmap=rdgn,cbar=False,             annot=True)\n",
    "\n",
    "ax.xaxis.tick_top() # x axis on top\n",
    "plt.xticks(rotation=-70)\n",
    "plt.tight_layout()"
   ]
  },
  {
   "cell_type": "markdown",
   "metadata": {},
   "source": [
    "# City Anatomy"
   ]
  },
  {
   "cell_type": "code",
   "execution_count": 10,
   "metadata": {},
   "outputs": [
    {
     "data": {
      "text/html": [
       "<div>\n",
       "<style scoped>\n",
       "    .dataframe tbody tr th:only-of-type {\n",
       "        vertical-align: middle;\n",
       "    }\n",
       "\n",
       "    .dataframe tbody tr th {\n",
       "        vertical-align: top;\n",
       "    }\n",
       "\n",
       "    .dataframe thead th {\n",
       "        text-align: right;\n",
       "    }\n",
       "</style>\n",
       "<table border=\"1\" class=\"dataframe\">\n",
       "  <thead>\n",
       "    <tr style=\"text-align: right;\">\n",
       "      <th></th>\n",
       "      <th>name</th>\n",
       "      <th>category</th>\n",
       "      <th>confidence</th>\n",
       "      <th>src</th>\n",
       "      <th>subcategory</th>\n",
       "      <th>confidence_lv2</th>\n",
       "      <th>value</th>\n",
       "    </tr>\n",
       "  </thead>\n",
       "  <tbody>\n",
       "    <tr>\n",
       "      <th>0</th>\n",
       "      <td>Failure to implement preventive measures</td>\n",
       "      <td>Society</td>\n",
       "      <td>Medium</td>\n",
       "      <td>RiskSubgroup</td>\n",
       "      <td>Accountability</td>\n",
       "      <td>Low</td>\n",
       "      <td>1</td>\n",
       "    </tr>\n",
       "    <tr>\n",
       "      <th>1</th>\n",
       "      <td>Lack of access to health services</td>\n",
       "      <td>Structure</td>\n",
       "      <td>High</td>\n",
       "      <td>RiskSubgroup</td>\n",
       "      <td>Settlement</td>\n",
       "      <td>Medium-high</td>\n",
       "      <td>1</td>\n",
       "    </tr>\n",
       "    <tr>\n",
       "      <th>2</th>\n",
       "      <td>Public health messaging and education</td>\n",
       "      <td>Interactions</td>\n",
       "      <td>Medium-high</td>\n",
       "      <td>RiskSubgroup</td>\n",
       "      <td>Health</td>\n",
       "      <td>High</td>\n",
       "      <td>1</td>\n",
       "    </tr>\n",
       "    <tr>\n",
       "      <th>3</th>\n",
       "      <td>Misinterpretation of data and results</td>\n",
       "      <td>Interactions</td>\n",
       "      <td>Medium-high</td>\n",
       "      <td>RiskSubgroup</td>\n",
       "      <td>Data in/out</td>\n",
       "      <td>High</td>\n",
       "      <td>1</td>\n",
       "    </tr>\n",
       "    <tr>\n",
       "      <th>4</th>\n",
       "      <td>Healthcare resource shortage and management</td>\n",
       "      <td>Structure</td>\n",
       "      <td>High</td>\n",
       "      <td>RiskSubgroup</td>\n",
       "      <td>Dwelling</td>\n",
       "      <td>Medium-high</td>\n",
       "      <td>1</td>\n",
       "    </tr>\n",
       "    <tr>\n",
       "      <th>...</th>\n",
       "      <td>...</td>\n",
       "      <td>...</td>\n",
       "      <td>...</td>\n",
       "      <td>...</td>\n",
       "      <td>...</td>\n",
       "      <td>...</td>\n",
       "      <td>...</td>\n",
       "    </tr>\n",
       "    <tr>\n",
       "      <th>86</th>\n",
       "      <td>Building codes and certification</td>\n",
       "      <td>Structure</td>\n",
       "      <td>High</td>\n",
       "      <td>RiskSubgroup</td>\n",
       "      <td>Buildings/Blocks</td>\n",
       "      <td>Medium-high</td>\n",
       "      <td>1</td>\n",
       "    </tr>\n",
       "    <tr>\n",
       "      <th>87</th>\n",
       "      <td>Bioterrorism threats</td>\n",
       "      <td>Interactions</td>\n",
       "      <td>High</td>\n",
       "      <td>RiskSubgroup</td>\n",
       "      <td>Security</td>\n",
       "      <td>High</td>\n",
       "      <td>1</td>\n",
       "    </tr>\n",
       "    <tr>\n",
       "      <th>88</th>\n",
       "      <td>Technology deployment and surveillance</td>\n",
       "      <td>Interactions</td>\n",
       "      <td>High</td>\n",
       "      <td>RiskSubgroup</td>\n",
       "      <td>Security</td>\n",
       "      <td>High</td>\n",
       "      <td>1</td>\n",
       "    </tr>\n",
       "    <tr>\n",
       "      <th>89</th>\n",
       "      <td>Healthcare legislation</td>\n",
       "      <td>Society</td>\n",
       "      <td>Medium-high</td>\n",
       "      <td>RiskSubgroup</td>\n",
       "      <td>Laws&amp;Regulations</td>\n",
       "      <td>High</td>\n",
       "      <td>1</td>\n",
       "    </tr>\n",
       "    <tr>\n",
       "      <th>90</th>\n",
       "      <td>Workplace safety and health</td>\n",
       "      <td>Society</td>\n",
       "      <td>Medium-high</td>\n",
       "      <td>RiskSubgroup</td>\n",
       "      <td>Capacity Development</td>\n",
       "      <td>High</td>\n",
       "      <td>1</td>\n",
       "    </tr>\n",
       "  </tbody>\n",
       "</table>\n",
       "<p>91 rows × 7 columns</p>\n",
       "</div>"
      ],
      "text/plain": [
       "                                           name      category   confidence  \\\n",
       "0      Failure to implement preventive measures       Society       Medium   \n",
       "1             Lack of access to health services     Structure         High   \n",
       "2         Public health messaging and education  Interactions  Medium-high   \n",
       "3         Misinterpretation of data and results  Interactions  Medium-high   \n",
       "4   Healthcare resource shortage and management     Structure         High   \n",
       "..                                          ...           ...          ...   \n",
       "86             Building codes and certification     Structure         High   \n",
       "87                         Bioterrorism threats  Interactions         High   \n",
       "88       Technology deployment and surveillance  Interactions         High   \n",
       "89                       Healthcare legislation       Society  Medium-high   \n",
       "90                  Workplace safety and health       Society  Medium-high   \n",
       "\n",
       "             src           subcategory confidence_lv2  value  \n",
       "0   RiskSubgroup        Accountability            Low      1  \n",
       "1   RiskSubgroup            Settlement    Medium-high      1  \n",
       "2   RiskSubgroup                Health           High      1  \n",
       "3   RiskSubgroup           Data in/out           High      1  \n",
       "4   RiskSubgroup              Dwelling    Medium-high      1  \n",
       "..           ...                   ...            ...    ...  \n",
       "86  RiskSubgroup      Buildings/Blocks    Medium-high      1  \n",
       "87  RiskSubgroup              Security           High      1  \n",
       "88  RiskSubgroup              Security           High      1  \n",
       "89  RiskSubgroup      Laws&Regulations           High      1  \n",
       "90  RiskSubgroup  Capacity Development           High      1  \n",
       "\n",
       "[91 rows x 7 columns]"
      ]
     },
     "execution_count": 10,
     "metadata": {},
     "output_type": "execute_result"
    }
   ],
   "source": [
    "df = pd.read_parquet(\"RiskSubgroup_newCAO_classified_lv1.parquet.gzip\")\n",
    "df[\"value\"] = 1\n",
    "df"
   ]
  },
  {
   "cell_type": "code",
   "execution_count": 11,
   "metadata": {},
   "outputs": [],
   "source": [
    "import plotly.express as px"
   ]
  },
  {
   "cell_type": "code",
   "execution_count": 12,
   "metadata": {},
   "outputs": [
    {
     "data": {
      "application/vnd.plotly.v1+json": {
       "config": {
        "plotlyServerURL": "https://plot.ly"
       },
       "data": [
        {
         "branchvalues": "total",
         "domain": {
          "x": [
           0,
           1
          ],
          "y": [
           0,
           1
          ]
         },
         "hovertemplate": "labels=%{label}<br>value=%{value}<br>parent=%{parent}<br>id=%{id}<extra></extra>",
         "ids": [
          "Structure/Settlement/Access to infrastructure",
          "Society/Laws&Regulations/Air quality and pollution effects",
          "Society/Accountability/Artificial intelligence and machine learning risks",
          "Structure/Biodiversity/Biodiversity and ecological impacts",
          "Interactions/Security/Bioterrorism threats",
          "Structure/Buildings/Blocks/Building codes and certification",
          "Structure/Nature/Climate change",
          "Society/Visions&Priorities/Climate change effects",
          "Interactions/Health/Communication and messaging",
          "Society/Laws&Regulations/Compliance and contractual",
          "Structure/Settlement/Construction industry impacts",
          "Interactions/Health/Cultural and lifestyle risks",
          "Interactions/Security/Cybersecurity threats",
          "Society/Laws&Regulations/Data and research integrity",
          "Society/Laws&Regulations/Data privacy and security risks",
          "Society/Laws&Regulations/Data security risks",
          "Structure/Settlement/Discontinuity of services",
          "Interactions/Security/Disinformation and misinformation",
          "Interactions/Health/Disruptions from outbreaks and other major external events",
          "Structure/Energy Cycle/Energy consumption and sustainability issues",
          "Structure/Soil/Environmental health risks",
          "Society/Accountability/Failure to implement preventive measures",
          "Society/Leadership/Financial strains and liquidity crises",
          "Structure/Settlement/Food supply chain disruptions",
          "Society/Accountability/Fraud and misconduct",
          "Society/Leadership/Global coordination challenges",
          "Society/Leadership/Global recession and economic instability",
          "Society/Leadership/Globalization challenges",
          "Interactions/Health/Health behaviors and compliance",
          "Structure/Settlement/Healthcare and medical risks",
          "Structure/Buildings/Blocks/Healthcare infrastructure and technology adoption risks",
          "Society/Laws&Regulations/Healthcare legislation",
          "Structure/Dwelling/Healthcare resource shortage and management",
          "Structure/Buildings/Blocks/Improper architectural designs",
          "Interactions/Data in/out/Inaccurate or incomplete data",
          "Society/Capacity Development/Inadequate adaptability to emerging problems",
          "Structure/Buildings/Blocks/Inadequate hospital design",
          "Structure/Mobility Network/Inadequate mobility schemes",
          "Society/Capacity Development/Inadequate remote work setup for employees",
          "Structure/Air/Inadequate ventilation and air circulation",
          "Interactions/Health/Ineffectiveness of interventions",
          "Structure/Communication Network/Infrastructure and connectivity risks",
          "Structure/Settlement/Infrastructure maintenance risk",
          "Society/Capacity Development/Innovation and adoption risks",
          "Interactions/Health/Insufficient adoption of health-focused building standards",
          "Interactions/Health/Insufficient adoption of health-focused urban standards",
          "Interactions/Commerce/Trade/Intellectual property",
          "Structure/Settlement/Lack of access to health services",
          "Society/Leadership/Lack of coordination and consistency in mitigation measures",
          "Structure/Nature/Lack of effective medical solutions",
          "Society/Visions&Priorities/Lack of emphasis on air quality",
          "Structure/Water/Lack of emphasis on water quality",
          "Society/Leadership/Lack of global governance and coordination",
          "Society/Accountability/Lack of transparency and clarity",
          "Society/Visions&Priorities/Limited accessibility and data equity",
          "Society/Leadership/Lower employment",
          "Society/Leadership/Lower investment",
          "Interactions/Health/Mental and emotional wellbeing",
          "Society/Accountability/Misinformation and media risks",
          "Interactions/Data in/out/Misinterpretation of data and results",
          "Society/Accountability/Misuse of personal data",
          "Interactions/Health/Modeling and prediction risks",
          "Structure/Communication Network/Modeling and simulation risks",
          "Structure/Mobility Network/Occupational and employment risks",
          "Structure/Settlement/Operational and implementation risks",
          "Society/Leadership/Pandemic impact on markets",
          "Interactions/Health/Physical activity and mobility",
          "Structure/Air/Pollution increase",
          "Structure/Dwelling/Poor access to diagnostics and treatment",
          "Structure/Neighbourhoods/Districts/Poor urban planning",
          "Interactions/Health/Poor vector-borne diseases control",
          "Interactions/Security/Potential misinformation and false data",
          "Society/Laws&Regulations/Privacy and civil liberties",
          "Society/Laws&Regulations/Privacy risks",
          "Interactions/Health/Public health messaging and education",
          "Interactions/Data in/out/Reliability and quality of data",
          "Society/Capacity Development/Resource and capability risks",
          "Interactions/Health/Social and psychological effects",
          "Society/Participation/Social justice concerns",
          "Structure/Settlement/Supply chain disruptions",
          "Society/Laws&Regulations/Surveillance and monitoring privacy concerns",
          "Interactions/Security/Technology deployment and surveillance",
          "Society/Accountability/Transparency and accountability issues",
          "Interactions/Security/Trust and transparency challenges",
          "Structure/Settlement/Urbanization and habitat loss",
          "Society/Capacity Development/Vulnerability risks",
          "Structure/Water/Wastewater and sanitation risks",
          "Society/Leadership/Weak local decision-making mechanisms",
          "Society/Leadership/Workforce and labor shortages",
          "Society/Capacity Development/Workplace safety and health",
          "Structure/Dwelling/Workplace safety and occupational exposure",
          "Society/Accountability",
          "Structure/Air",
          "Structure/Biodiversity",
          "Structure/Buildings/Blocks",
          "Society/Capacity Development",
          "Interactions/Commerce/Trade",
          "Structure/Communication Network",
          "Interactions/Data in/out",
          "Structure/Dwelling",
          "Structure/Energy Cycle",
          "Interactions/Health",
          "Society/Laws&Regulations",
          "Society/Leadership",
          "Structure/Mobility Network",
          "Structure/Nature",
          "Structure/Neighbourhoods/Districts",
          "Society/Participation",
          "Interactions/Security",
          "Structure/Settlement",
          "Structure/Soil",
          "Society/Visions&Priorities",
          "Structure/Water",
          "Interactions",
          "Society",
          "Structure"
         ],
         "labels": [
          "Access to infrastructure",
          "Air quality and pollution effects",
          "Artificial intelligence and machine learning risks",
          "Biodiversity and ecological impacts",
          "Bioterrorism threats",
          "Building codes and certification",
          "Climate change",
          "Climate change effects",
          "Communication and messaging",
          "Compliance and contractual",
          "Construction industry impacts",
          "Cultural and lifestyle risks",
          "Cybersecurity threats",
          "Data and research integrity",
          "Data privacy and security risks",
          "Data security risks",
          "Discontinuity of services",
          "Disinformation and misinformation",
          "Disruptions from outbreaks and other major external events",
          "Energy consumption and sustainability issues",
          "Environmental health risks",
          "Failure to implement preventive measures",
          "Financial strains and liquidity crises",
          "Food supply chain disruptions",
          "Fraud and misconduct",
          "Global coordination challenges",
          "Global recession and economic instability",
          "Globalization challenges",
          "Health behaviors and compliance",
          "Healthcare and medical risks",
          "Healthcare infrastructure and technology adoption risks",
          "Healthcare legislation",
          "Healthcare resource shortage and management",
          "Improper architectural designs",
          "Inaccurate or incomplete data",
          "Inadequate adaptability to emerging problems",
          "Inadequate hospital design",
          "Inadequate mobility schemes",
          "Inadequate remote work setup for employees",
          "Inadequate ventilation and air circulation",
          "Ineffectiveness of interventions",
          "Infrastructure and connectivity risks",
          "Infrastructure maintenance risk",
          "Innovation and adoption risks",
          "Insufficient adoption of health-focused building standards",
          "Insufficient adoption of health-focused urban standards",
          "Intellectual property",
          "Lack of access to health services",
          "Lack of coordination and consistency in mitigation measures",
          "Lack of effective medical solutions",
          "Lack of emphasis on air quality",
          "Lack of emphasis on water quality",
          "Lack of global governance and coordination",
          "Lack of transparency and clarity",
          "Limited accessibility and data equity",
          "Lower employment",
          "Lower investment",
          "Mental and emotional wellbeing",
          "Misinformation and media risks",
          "Misinterpretation of data and results",
          "Misuse of personal data",
          "Modeling and prediction risks",
          "Modeling and simulation risks",
          "Occupational and employment risks",
          "Operational and implementation risks",
          "Pandemic impact on markets",
          "Physical activity and mobility",
          "Pollution increase",
          "Poor access to diagnostics and treatment",
          "Poor urban planning",
          "Poor vector-borne diseases control",
          "Potential misinformation and false data",
          "Privacy and civil liberties",
          "Privacy risks",
          "Public health messaging and education",
          "Reliability and quality of data",
          "Resource and capability risks",
          "Social and psychological effects",
          "Social justice concerns",
          "Supply chain disruptions",
          "Surveillance and monitoring privacy concerns",
          "Technology deployment and surveillance",
          "Transparency and accountability issues",
          "Trust and transparency challenges",
          "Urbanization and habitat loss",
          "Vulnerability risks",
          "Wastewater and sanitation risks",
          "Weak local decision-making mechanisms",
          "Workforce and labor shortages",
          "Workplace safety and health",
          "Workplace safety and occupational exposure",
          "Accountability",
          "Air",
          "Biodiversity",
          "Buildings/Blocks",
          "Capacity Development",
          "Commerce/Trade",
          "Communication Network",
          "Data in/out",
          "Dwelling",
          "Energy Cycle",
          "Health",
          "Laws&Regulations",
          "Leadership",
          "Mobility Network",
          "Nature",
          "Neighbourhoods/Districts",
          "Participation",
          "Security",
          "Settlement",
          "Soil",
          "Visions&Priorities",
          "Water",
          "Interactions",
          "Society",
          "Structure"
         ],
         "name": "",
         "parents": [
          "Structure/Settlement",
          "Society/Laws&Regulations",
          "Society/Accountability",
          "Structure/Biodiversity",
          "Interactions/Security",
          "Structure/Buildings/Blocks",
          "Structure/Nature",
          "Society/Visions&Priorities",
          "Interactions/Health",
          "Society/Laws&Regulations",
          "Structure/Settlement",
          "Interactions/Health",
          "Interactions/Security",
          "Society/Laws&Regulations",
          "Society/Laws&Regulations",
          "Society/Laws&Regulations",
          "Structure/Settlement",
          "Interactions/Security",
          "Interactions/Health",
          "Structure/Energy Cycle",
          "Structure/Soil",
          "Society/Accountability",
          "Society/Leadership",
          "Structure/Settlement",
          "Society/Accountability",
          "Society/Leadership",
          "Society/Leadership",
          "Society/Leadership",
          "Interactions/Health",
          "Structure/Settlement",
          "Structure/Buildings/Blocks",
          "Society/Laws&Regulations",
          "Structure/Dwelling",
          "Structure/Buildings/Blocks",
          "Interactions/Data in/out",
          "Society/Capacity Development",
          "Structure/Buildings/Blocks",
          "Structure/Mobility Network",
          "Society/Capacity Development",
          "Structure/Air",
          "Interactions/Health",
          "Structure/Communication Network",
          "Structure/Settlement",
          "Society/Capacity Development",
          "Interactions/Health",
          "Interactions/Health",
          "Interactions/Commerce/Trade",
          "Structure/Settlement",
          "Society/Leadership",
          "Structure/Nature",
          "Society/Visions&Priorities",
          "Structure/Water",
          "Society/Leadership",
          "Society/Accountability",
          "Society/Visions&Priorities",
          "Society/Leadership",
          "Society/Leadership",
          "Interactions/Health",
          "Society/Accountability",
          "Interactions/Data in/out",
          "Society/Accountability",
          "Interactions/Health",
          "Structure/Communication Network",
          "Structure/Mobility Network",
          "Structure/Settlement",
          "Society/Leadership",
          "Interactions/Health",
          "Structure/Air",
          "Structure/Dwelling",
          "Structure/Neighbourhoods/Districts",
          "Interactions/Health",
          "Interactions/Security",
          "Society/Laws&Regulations",
          "Society/Laws&Regulations",
          "Interactions/Health",
          "Interactions/Data in/out",
          "Society/Capacity Development",
          "Interactions/Health",
          "Society/Participation",
          "Structure/Settlement",
          "Society/Laws&Regulations",
          "Interactions/Security",
          "Society/Accountability",
          "Interactions/Security",
          "Structure/Settlement",
          "Society/Capacity Development",
          "Structure/Water",
          "Society/Leadership",
          "Society/Leadership",
          "Society/Capacity Development",
          "Structure/Dwelling",
          "Society",
          "Structure",
          "Structure",
          "Structure",
          "Society",
          "Interactions",
          "Structure",
          "Interactions",
          "Structure",
          "Structure",
          "Interactions",
          "Society",
          "Society",
          "Structure",
          "Structure",
          "Structure",
          "Society",
          "Interactions",
          "Structure",
          "Structure",
          "Society",
          "Structure",
          "",
          "",
          ""
         ],
         "type": "sunburst",
         "values": [
          1,
          1,
          1,
          1,
          1,
          1,
          1,
          1,
          1,
          1,
          1,
          1,
          1,
          1,
          1,
          1,
          1,
          1,
          1,
          1,
          1,
          1,
          1,
          1,
          1,
          1,
          1,
          1,
          1,
          1,
          1,
          1,
          1,
          1,
          1,
          1,
          1,
          1,
          1,
          1,
          1,
          1,
          1,
          1,
          1,
          1,
          1,
          1,
          1,
          1,
          1,
          1,
          1,
          1,
          1,
          1,
          1,
          1,
          1,
          1,
          1,
          1,
          1,
          1,
          1,
          1,
          1,
          1,
          1,
          1,
          1,
          1,
          1,
          1,
          1,
          1,
          1,
          1,
          1,
          1,
          1,
          1,
          1,
          1,
          1,
          1,
          1,
          1,
          1,
          1,
          1,
          7,
          2,
          1,
          4,
          6,
          1,
          2,
          3,
          3,
          1,
          13,
          9,
          11,
          2,
          2,
          1,
          1,
          6,
          10,
          1,
          3,
          2,
          23,
          37,
          31
         ]
        }
       ],
       "layout": {
        "height": 1200,
        "legend": {
         "tracegroupgap": 0
        },
        "margin": {
         "t": 60
        },
        "template": {
         "data": {
          "bar": [
           {
            "error_x": {
             "color": "#2a3f5f"
            },
            "error_y": {
             "color": "#2a3f5f"
            },
            "marker": {
             "line": {
              "color": "#E5ECF6",
              "width": 0.5
             },
             "pattern": {
              "fillmode": "overlay",
              "size": 10,
              "solidity": 0.2
             }
            },
            "type": "bar"
           }
          ],
          "barpolar": [
           {
            "marker": {
             "line": {
              "color": "#E5ECF6",
              "width": 0.5
             },
             "pattern": {
              "fillmode": "overlay",
              "size": 10,
              "solidity": 0.2
             }
            },
            "type": "barpolar"
           }
          ],
          "carpet": [
           {
            "aaxis": {
             "endlinecolor": "#2a3f5f",
             "gridcolor": "white",
             "linecolor": "white",
             "minorgridcolor": "white",
             "startlinecolor": "#2a3f5f"
            },
            "baxis": {
             "endlinecolor": "#2a3f5f",
             "gridcolor": "white",
             "linecolor": "white",
             "minorgridcolor": "white",
             "startlinecolor": "#2a3f5f"
            },
            "type": "carpet"
           }
          ],
          "choropleth": [
           {
            "colorbar": {
             "outlinewidth": 0,
             "ticks": ""
            },
            "type": "choropleth"
           }
          ],
          "contour": [
           {
            "colorbar": {
             "outlinewidth": 0,
             "ticks": ""
            },
            "colorscale": [
             [
              0,
              "#0d0887"
             ],
             [
              0.1111111111111111,
              "#46039f"
             ],
             [
              0.2222222222222222,
              "#7201a8"
             ],
             [
              0.3333333333333333,
              "#9c179e"
             ],
             [
              0.4444444444444444,
              "#bd3786"
             ],
             [
              0.5555555555555556,
              "#d8576b"
             ],
             [
              0.6666666666666666,
              "#ed7953"
             ],
             [
              0.7777777777777778,
              "#fb9f3a"
             ],
             [
              0.8888888888888888,
              "#fdca26"
             ],
             [
              1,
              "#f0f921"
             ]
            ],
            "type": "contour"
           }
          ],
          "contourcarpet": [
           {
            "colorbar": {
             "outlinewidth": 0,
             "ticks": ""
            },
            "type": "contourcarpet"
           }
          ],
          "heatmap": [
           {
            "colorbar": {
             "outlinewidth": 0,
             "ticks": ""
            },
            "colorscale": [
             [
              0,
              "#0d0887"
             ],
             [
              0.1111111111111111,
              "#46039f"
             ],
             [
              0.2222222222222222,
              "#7201a8"
             ],
             [
              0.3333333333333333,
              "#9c179e"
             ],
             [
              0.4444444444444444,
              "#bd3786"
             ],
             [
              0.5555555555555556,
              "#d8576b"
             ],
             [
              0.6666666666666666,
              "#ed7953"
             ],
             [
              0.7777777777777778,
              "#fb9f3a"
             ],
             [
              0.8888888888888888,
              "#fdca26"
             ],
             [
              1,
              "#f0f921"
             ]
            ],
            "type": "heatmap"
           }
          ],
          "heatmapgl": [
           {
            "colorbar": {
             "outlinewidth": 0,
             "ticks": ""
            },
            "colorscale": [
             [
              0,
              "#0d0887"
             ],
             [
              0.1111111111111111,
              "#46039f"
             ],
             [
              0.2222222222222222,
              "#7201a8"
             ],
             [
              0.3333333333333333,
              "#9c179e"
             ],
             [
              0.4444444444444444,
              "#bd3786"
             ],
             [
              0.5555555555555556,
              "#d8576b"
             ],
             [
              0.6666666666666666,
              "#ed7953"
             ],
             [
              0.7777777777777778,
              "#fb9f3a"
             ],
             [
              0.8888888888888888,
              "#fdca26"
             ],
             [
              1,
              "#f0f921"
             ]
            ],
            "type": "heatmapgl"
           }
          ],
          "histogram": [
           {
            "marker": {
             "pattern": {
              "fillmode": "overlay",
              "size": 10,
              "solidity": 0.2
             }
            },
            "type": "histogram"
           }
          ],
          "histogram2d": [
           {
            "colorbar": {
             "outlinewidth": 0,
             "ticks": ""
            },
            "colorscale": [
             [
              0,
              "#0d0887"
             ],
             [
              0.1111111111111111,
              "#46039f"
             ],
             [
              0.2222222222222222,
              "#7201a8"
             ],
             [
              0.3333333333333333,
              "#9c179e"
             ],
             [
              0.4444444444444444,
              "#bd3786"
             ],
             [
              0.5555555555555556,
              "#d8576b"
             ],
             [
              0.6666666666666666,
              "#ed7953"
             ],
             [
              0.7777777777777778,
              "#fb9f3a"
             ],
             [
              0.8888888888888888,
              "#fdca26"
             ],
             [
              1,
              "#f0f921"
             ]
            ],
            "type": "histogram2d"
           }
          ],
          "histogram2dcontour": [
           {
            "colorbar": {
             "outlinewidth": 0,
             "ticks": ""
            },
            "colorscale": [
             [
              0,
              "#0d0887"
             ],
             [
              0.1111111111111111,
              "#46039f"
             ],
             [
              0.2222222222222222,
              "#7201a8"
             ],
             [
              0.3333333333333333,
              "#9c179e"
             ],
             [
              0.4444444444444444,
              "#bd3786"
             ],
             [
              0.5555555555555556,
              "#d8576b"
             ],
             [
              0.6666666666666666,
              "#ed7953"
             ],
             [
              0.7777777777777778,
              "#fb9f3a"
             ],
             [
              0.8888888888888888,
              "#fdca26"
             ],
             [
              1,
              "#f0f921"
             ]
            ],
            "type": "histogram2dcontour"
           }
          ],
          "mesh3d": [
           {
            "colorbar": {
             "outlinewidth": 0,
             "ticks": ""
            },
            "type": "mesh3d"
           }
          ],
          "parcoords": [
           {
            "line": {
             "colorbar": {
              "outlinewidth": 0,
              "ticks": ""
             }
            },
            "type": "parcoords"
           }
          ],
          "pie": [
           {
            "automargin": true,
            "type": "pie"
           }
          ],
          "scatter": [
           {
            "fillpattern": {
             "fillmode": "overlay",
             "size": 10,
             "solidity": 0.2
            },
            "type": "scatter"
           }
          ],
          "scatter3d": [
           {
            "line": {
             "colorbar": {
              "outlinewidth": 0,
              "ticks": ""
             }
            },
            "marker": {
             "colorbar": {
              "outlinewidth": 0,
              "ticks": ""
             }
            },
            "type": "scatter3d"
           }
          ],
          "scattercarpet": [
           {
            "marker": {
             "colorbar": {
              "outlinewidth": 0,
              "ticks": ""
             }
            },
            "type": "scattercarpet"
           }
          ],
          "scattergeo": [
           {
            "marker": {
             "colorbar": {
              "outlinewidth": 0,
              "ticks": ""
             }
            },
            "type": "scattergeo"
           }
          ],
          "scattergl": [
           {
            "marker": {
             "colorbar": {
              "outlinewidth": 0,
              "ticks": ""
             }
            },
            "type": "scattergl"
           }
          ],
          "scattermapbox": [
           {
            "marker": {
             "colorbar": {
              "outlinewidth": 0,
              "ticks": ""
             }
            },
            "type": "scattermapbox"
           }
          ],
          "scatterpolar": [
           {
            "marker": {
             "colorbar": {
              "outlinewidth": 0,
              "ticks": ""
             }
            },
            "type": "scatterpolar"
           }
          ],
          "scatterpolargl": [
           {
            "marker": {
             "colorbar": {
              "outlinewidth": 0,
              "ticks": ""
             }
            },
            "type": "scatterpolargl"
           }
          ],
          "scatterternary": [
           {
            "marker": {
             "colorbar": {
              "outlinewidth": 0,
              "ticks": ""
             }
            },
            "type": "scatterternary"
           }
          ],
          "surface": [
           {
            "colorbar": {
             "outlinewidth": 0,
             "ticks": ""
            },
            "colorscale": [
             [
              0,
              "#0d0887"
             ],
             [
              0.1111111111111111,
              "#46039f"
             ],
             [
              0.2222222222222222,
              "#7201a8"
             ],
             [
              0.3333333333333333,
              "#9c179e"
             ],
             [
              0.4444444444444444,
              "#bd3786"
             ],
             [
              0.5555555555555556,
              "#d8576b"
             ],
             [
              0.6666666666666666,
              "#ed7953"
             ],
             [
              0.7777777777777778,
              "#fb9f3a"
             ],
             [
              0.8888888888888888,
              "#fdca26"
             ],
             [
              1,
              "#f0f921"
             ]
            ],
            "type": "surface"
           }
          ],
          "table": [
           {
            "cells": {
             "fill": {
              "color": "#EBF0F8"
             },
             "line": {
              "color": "white"
             }
            },
            "header": {
             "fill": {
              "color": "#C8D4E3"
             },
             "line": {
              "color": "white"
             }
            },
            "type": "table"
           }
          ]
         },
         "layout": {
          "annotationdefaults": {
           "arrowcolor": "#2a3f5f",
           "arrowhead": 0,
           "arrowwidth": 1
          },
          "autotypenumbers": "strict",
          "coloraxis": {
           "colorbar": {
            "outlinewidth": 0,
            "ticks": ""
           }
          },
          "colorscale": {
           "diverging": [
            [
             0,
             "#8e0152"
            ],
            [
             0.1,
             "#c51b7d"
            ],
            [
             0.2,
             "#de77ae"
            ],
            [
             0.3,
             "#f1b6da"
            ],
            [
             0.4,
             "#fde0ef"
            ],
            [
             0.5,
             "#f7f7f7"
            ],
            [
             0.6,
             "#e6f5d0"
            ],
            [
             0.7,
             "#b8e186"
            ],
            [
             0.8,
             "#7fbc41"
            ],
            [
             0.9,
             "#4d9221"
            ],
            [
             1,
             "#276419"
            ]
           ],
           "sequential": [
            [
             0,
             "#0d0887"
            ],
            [
             0.1111111111111111,
             "#46039f"
            ],
            [
             0.2222222222222222,
             "#7201a8"
            ],
            [
             0.3333333333333333,
             "#9c179e"
            ],
            [
             0.4444444444444444,
             "#bd3786"
            ],
            [
             0.5555555555555556,
             "#d8576b"
            ],
            [
             0.6666666666666666,
             "#ed7953"
            ],
            [
             0.7777777777777778,
             "#fb9f3a"
            ],
            [
             0.8888888888888888,
             "#fdca26"
            ],
            [
             1,
             "#f0f921"
            ]
           ],
           "sequentialminus": [
            [
             0,
             "#0d0887"
            ],
            [
             0.1111111111111111,
             "#46039f"
            ],
            [
             0.2222222222222222,
             "#7201a8"
            ],
            [
             0.3333333333333333,
             "#9c179e"
            ],
            [
             0.4444444444444444,
             "#bd3786"
            ],
            [
             0.5555555555555556,
             "#d8576b"
            ],
            [
             0.6666666666666666,
             "#ed7953"
            ],
            [
             0.7777777777777778,
             "#fb9f3a"
            ],
            [
             0.8888888888888888,
             "#fdca26"
            ],
            [
             1,
             "#f0f921"
            ]
           ]
          },
          "colorway": [
           "#636efa",
           "#EF553B",
           "#00cc96",
           "#ab63fa",
           "#FFA15A",
           "#19d3f3",
           "#FF6692",
           "#B6E880",
           "#FF97FF",
           "#FECB52"
          ],
          "font": {
           "color": "#2a3f5f"
          },
          "geo": {
           "bgcolor": "white",
           "lakecolor": "white",
           "landcolor": "#E5ECF6",
           "showlakes": true,
           "showland": true,
           "subunitcolor": "white"
          },
          "hoverlabel": {
           "align": "left"
          },
          "hovermode": "closest",
          "mapbox": {
           "style": "light"
          },
          "paper_bgcolor": "white",
          "plot_bgcolor": "#E5ECF6",
          "polar": {
           "angularaxis": {
            "gridcolor": "white",
            "linecolor": "white",
            "ticks": ""
           },
           "bgcolor": "#E5ECF6",
           "radialaxis": {
            "gridcolor": "white",
            "linecolor": "white",
            "ticks": ""
           }
          },
          "scene": {
           "xaxis": {
            "backgroundcolor": "#E5ECF6",
            "gridcolor": "white",
            "gridwidth": 2,
            "linecolor": "white",
            "showbackground": true,
            "ticks": "",
            "zerolinecolor": "white"
           },
           "yaxis": {
            "backgroundcolor": "#E5ECF6",
            "gridcolor": "white",
            "gridwidth": 2,
            "linecolor": "white",
            "showbackground": true,
            "ticks": "",
            "zerolinecolor": "white"
           },
           "zaxis": {
            "backgroundcolor": "#E5ECF6",
            "gridcolor": "white",
            "gridwidth": 2,
            "linecolor": "white",
            "showbackground": true,
            "ticks": "",
            "zerolinecolor": "white"
           }
          },
          "shapedefaults": {
           "line": {
            "color": "#2a3f5f"
           }
          },
          "ternary": {
           "aaxis": {
            "gridcolor": "white",
            "linecolor": "white",
            "ticks": ""
           },
           "baxis": {
            "gridcolor": "white",
            "linecolor": "white",
            "ticks": ""
           },
           "bgcolor": "#E5ECF6",
           "caxis": {
            "gridcolor": "white",
            "linecolor": "white",
            "ticks": ""
           }
          },
          "title": {
           "x": 0.05
          },
          "xaxis": {
           "automargin": true,
           "gridcolor": "white",
           "linecolor": "white",
           "ticks": "",
           "title": {
            "standoff": 15
           },
           "zerolinecolor": "white",
           "zerolinewidth": 2
          },
          "yaxis": {
           "automargin": true,
           "gridcolor": "white",
           "linecolor": "white",
           "ticks": "",
           "title": {
            "standoff": 15
           },
           "zerolinecolor": "white",
           "zerolinewidth": 2
          }
         }
        },
        "width": 1200
       }
      }
     },
     "metadata": {},
     "output_type": "display_data"
    }
   ],
   "source": [
    "fig = px.sunburst(df, path=['category', 'subcategory','name'], values='value',width=1200, height=1200)\n",
    "fig.show()"
   ]
  },
  {
   "cell_type": "code",
   "execution_count": 16,
   "metadata": {},
   "outputs": [],
   "source": [
    "fig.write_image(\"sunburst.png\")"
   ]
  }
 ],
 "metadata": {
  "kernelspec": {
   "display_name": ".venv",
   "language": "python",
   "name": "python3"
  },
  "language_info": {
   "codemirror_mode": {
    "name": "ipython",
    "version": 3
   },
   "file_extension": ".py",
   "mimetype": "text/x-python",
   "name": "python",
   "nbconvert_exporter": "python",
   "pygments_lexer": "ipython3",
   "version": "3.10.12"
  }
 },
 "nbformat": 4,
 "nbformat_minor": 2
}
