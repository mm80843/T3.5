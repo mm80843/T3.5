{
 "cells": [
  {
   "cell_type": "code",
   "execution_count": 10,
   "metadata": {},
   "outputs": [
    {
     "name": "stdout",
     "output_type": "stream",
     "text": [
      "0.40\n",
      "The autoreload extension is already loaded. To reload it, use:\n",
      "  %reload_ext autoreload\n"
     ]
    }
   ],
   "source": [
    "import pandas as pd\n",
    "import os, glob, re\n",
    "\n",
    "from owlready2 import *\n",
    "import owlready2\n",
    "print(owlready2.VERSION)\n",
    "\n",
    "\n",
    "import importlib.util\n",
    "import sys\n",
    "spec = importlib.util.spec_from_file_location(\"rdfutils\", \"../../../utils/rdfutils.py\")\n",
    "u = importlib.util.module_from_spec(spec)\n",
    "sys.modules[\"rdfutils\"] = u\n",
    "spec.loader.exec_module(u)\n",
    "\n",
    "spec = importlib.util.spec_from_file_location(\"llm\", \"../../../utils/llm.py\")\n",
    "h = importlib.util.module_from_spec(spec)\n",
    "sys.modules[\"llm\"] = h\n",
    "spec.loader.exec_module(h)\n",
    "\n",
    "from datetime import datetime\n",
    "\n",
    "def NOW():\n",
    "    now = datetime.now()\n",
    "    current_time = now.strftime(\"%H:%M:%S\")\n",
    "    return \"Current Time = \"+ str(current_time)\n",
    "\n",
    "%load_ext autoreload\n",
    "%autoreload 2\n"
   ]
  },
  {
   "cell_type": "code",
   "execution_count": 2,
   "metadata": {},
   "outputs": [],
   "source": [
    "import requests, json"
   ]
  },
  {
   "cell_type": "code",
   "execution_count": 3,
   "metadata": {},
   "outputs": [
    {
     "name": "stdout",
     "output_type": "stream",
     "text": [
      "ID: 0 \t Description: Creation of a knowledge graph based on a litterature review, augmented by use of LLMs.\n",
      "ID: 1 \t Version: 0.4\n",
      "ID: 2 \t Library: owlready2==0.45\n",
      "ID: 3 \t Changes from: 0.3\n",
      "ID: 4 \t Next: Check formulas for selecting most repeated items in groups\n",
      "ID: 5 \t Changes: Adding new risks, groups of items, and new relationships\n",
      "ID: 6 \t Creation: 22/01/2024\n",
      "ID: 7 \t TODOs: Adding synonyms and solving classification with synonyms\n",
      "ID: 8 \t VersionComment: Grouping of items added in 0.4\n",
      "ID: 9 \t Project: PROBONO\n",
      "ID: 10 \t Next: Linking benefits to mitigations groups\n",
      "ID: 11 \t License: CC BY-NC-SA\n",
      "ID: 12 \t Task: T3.5\n",
      "ID: 13 \t Repository: https://github.com/mm80843/T3.5/\n",
      "ID: 14 \t Author: Luc Jonveaux\n",
      "ID: 15 \t Language: English\n"
     ]
    }
   ],
   "source": [
    "onto = get_ontology(\"../pbn_t3_5_v0.4.owl\").load()\n",
    "comments = u.checkComments(onto)"
   ]
  },
  {
   "attachments": {},
   "cell_type": "markdown",
   "metadata": {},
   "source": [
    "# Asking the BOK API.\n",
    "\n",
    "This is the one in the current report, in the bok/data/main_api.py FastAPI app."
   ]
  },
  {
   "cell_type": "code",
   "execution_count": 82,
   "metadata": {},
   "outputs": [],
   "source": [
    "def askDef(term,k=10,temp=0.1,overwrite=False,seed=\"\"):\n",
    "    URL = \"http://localhost:5000/ask/\"\n",
    "    #print(term)\n",
    "    Q = \"You are working on the topic of contagious diseases in smart and sustainable cities and neighbourhoods. In this context, what could be a definition or description of the following term: '\"+term+\"'?\\nWrite two paragraphs and avoid bullet point lists.\"\n",
    "    REQ = {\n",
    "    \"question\": Q,\n",
    "    \"model\": \"gpt-3.5-turbo-1106\",\n",
    "    \"temp\": temp,\n",
    "    \"k\": k,\n",
    "    \"overwrite\": overwrite,\n",
    "    \"source\": \"local_risk_def\",\n",
    "    \"seed\": seed\n",
    "    }\n",
    "\n",
    "    H = h.hashme(REQ[\"question\"]+str(REQ[\"seed\"])+str(k)+str(temp))\n",
    "    #print(H)\n",
    "    cached = \"cache/\"+H+\".md\"\n",
    "    #print(REQ)\n",
    "    if not os.path.isfile(cached) or overwrite:\n",
    "        x = requests.post(URL, json = REQ)\n",
    "        #print(x.text)\n",
    "        REFS = sorted(list(set(json.loads(x.text)[\"refs\"])))\n",
    "        answer = json.loads(x.text)[\"answer\"]+\"\\n\\nSources: \"+str(REFS)\n",
    "        h.svt(cached,answer)\n",
    "    else:\n",
    "        answer = h.ldt(cached)\n",
    "    return answer"
   ]
  },
  {
   "attachments": {},
   "cell_type": "markdown",
   "metadata": {},
   "source": [
    "# Defining new properties"
   ]
  },
  {
   "cell_type": "code",
   "execution_count": 83,
   "metadata": {},
   "outputs": [],
   "source": [
    "with onto:\n",
    "    class has_Description(onto.PBNThing >> str):\n",
    "        label = [\"Short description\"]\n",
    "        pass\n",
    "    class has_Note(onto.PBNThing >> str):\n",
    "        label = [\"Author note\"]\n",
    "        pass"
   ]
  },
  {
   "attachments": {},
   "cell_type": "markdown",
   "metadata": {},
   "source": [
    "# Getting the description"
   ]
  },
  {
   "cell_type": "code",
   "execution_count": 86,
   "metadata": {},
   "outputs": [],
   "source": [
    "r = list(onto.RiskSubgroup.instances())\n",
    "for rsg in r:\n",
    "    rsg.has_Description = [askDef(rsg.label[0],k=15,temp=0.1,overwrite=True,seed=\"1\")]\n",
    "    #print(rsg.has_Description[0])"
   ]
  },
  {
   "cell_type": "code",
   "execution_count": 102,
   "metadata": {},
   "outputs": [],
   "source": [
    "r = list(onto.TechSubgroup.instances())\n",
    "for rsg in r:\n",
    "    rsg.has_Description = [askDef(rsg.label[0],k=15,temp=0.1,overwrite=True,seed=\"1\")]\n",
    "    #print(rsg.has_Description[0])"
   ]
  },
  {
   "cell_type": "code",
   "execution_count": 87,
   "metadata": {},
   "outputs": [],
   "source": [
    "r = list(onto.StakeholderSubgroup.instances())\n",
    "for rsg in r:\n",
    "    rsg.has_Description = [askDef(rsg.label[0],k=15,temp=0.1,overwrite=True,seed=\"1\")]\n",
    "    #print(rsg.has_Description[0])"
   ]
  },
  {
   "attachments": {},
   "cell_type": "markdown",
   "metadata": {},
   "source": [
    "# Removing old articles"
   ]
  },
  {
   "cell_type": "code",
   "execution_count": 95,
   "metadata": {},
   "outputs": [
    {
     "data": {
      "text/plain": [
       "['Rahim_impact_2022 rahim_impact_2022 nan rahim_impact_2022 nan nan rahim_impact_2022 nan nan nan rahim_impact_2022 nan nan nan nan rahim_impact_2022']"
      ]
     },
     "execution_count": 95,
     "metadata": {},
     "output_type": "execute_result"
    }
   ],
   "source": [
    "onto.PBN__Article_310.label"
   ]
  },
  {
   "cell_type": "code",
   "execution_count": 98,
   "metadata": {},
   "outputs": [],
   "source": [
    "a =  list(onto.Article.instances())\n",
    "gap_articles = [x for x in a if \" nan \" in x.label[0]]"
   ]
  },
  {
   "cell_type": "code",
   "execution_count": 99,
   "metadata": {},
   "outputs": [],
   "source": [
    "for indiv in gap_articles :\n",
    "    destroy_entity(indiv)"
   ]
  },
  {
   "attachments": {},
   "cell_type": "markdown",
   "metadata": {},
   "source": [
    "# Saving"
   ]
  },
  {
   "cell_type": "code",
   "execution_count": 101,
   "metadata": {},
   "outputs": [],
   "source": [
    "onto.save(\"WIP.owl\")"
   ]
  }
 ],
 "metadata": {
  "kernelspec": {
   "display_name": "venv",
   "language": "python",
   "name": "python3"
  },
  "language_info": {
   "codemirror_mode": {
    "name": "ipython",
    "version": 3
   },
   "file_extension": ".py",
   "mimetype": "text/x-python",
   "name": "python",
   "nbconvert_exporter": "python",
   "pygments_lexer": "ipython3",
   "version": "3.10.12"
  },
  "orig_nbformat": 4,
  "vscode": {
   "interpreter": {
    "hash": "f79bc2406addd2c06911dc053b733d86c52c13481e10d53afee492d28d2db597"
   }
  }
 },
 "nbformat": 4,
 "nbformat_minor": 2
}
