{
 "cells": [
  {
   "cell_type": "code",
   "execution_count": 1,
   "metadata": {},
   "outputs": [
    {
     "name": "stdout",
     "output_type": "stream",
     "text": [
      "0.40\n"
     ]
    },
    {
     "name": "stderr",
     "output_type": "stream",
     "text": [
      "* Owlready2 * Warning: optimized Cython parser module 'owlready2_optimized' is not available, defaulting to slower Python implementation\n"
     ]
    }
   ],
   "source": [
    "import pandas as pd\n",
    "import os, glob, re\n",
    "\n",
    "from owlready2 import *\n",
    "import owlready2\n",
    "print(owlready2.VERSION)\n",
    "\n",
    "\n",
    "import importlib.util\n",
    "import sys\n",
    "spec = importlib.util.spec_from_file_location(\"rdfutils\", \"../../../utils/rdfutils.py\")\n",
    "u = importlib.util.module_from_spec(spec)\n",
    "sys.modules[\"rdfutils\"] = u\n",
    "spec.loader.exec_module(u)\n",
    "\n",
    "spec = importlib.util.spec_from_file_location(\"llm\", \"../../../utils/llm.py\")\n",
    "h = importlib.util.module_from_spec(spec)\n",
    "sys.modules[\"llm\"] = h\n",
    "spec.loader.exec_module(h)\n",
    "\n",
    "from datetime import datetime\n",
    "\n",
    "def NOW():\n",
    "    now = datetime.now()\n",
    "    current_time = now.strftime(\"%H:%M:%S\")\n",
    "    return \"Current Time = \"+ str(current_time)\n",
    "\n",
    "%load_ext autoreload\n",
    "%autoreload 2\n"
   ]
  },
  {
   "cell_type": "code",
   "execution_count": 2,
   "metadata": {},
   "outputs": [],
   "source": [
    "import requests, json"
   ]
  },
  {
   "cell_type": "code",
   "execution_count": 3,
   "metadata": {},
   "outputs": [
    {
     "name": "stdout",
     "output_type": "stream",
     "text": [
      "ID: 0 \t Description: Creation of a knowledge graph based on a litterature review, augmented by use of LLMs.\n",
      "ID: 1 \t Version: 0.4\n",
      "ID: 2 \t Library: owlready2==0.45\n",
      "ID: 3 \t Changes from: 0.3\n",
      "ID: 4 \t Next: Check formulas for selecting most repeated items in groups\n",
      "ID: 5 \t Changes: Adding new risks, groups of items, and new relationships\n",
      "ID: 6 \t Creation: 22/01/2024\n",
      "ID: 7 \t TODOs: Adding synonyms and solving classification with synonyms\n",
      "ID: 8 \t VersionComment: Grouping of items added in 0.4\n",
      "ID: 9 \t Project: PROBONO\n",
      "ID: 10 \t Next: Linking benefits to mitigations groups\n",
      "ID: 11 \t License: CC BY-NC-SA\n",
      "ID: 12 \t Task: T3.5\n",
      "ID: 13 \t Repository: https://github.com/mm80843/T3.5/\n",
      "ID: 14 \t Author: Luc Jonveaux\n",
      "ID: 15 \t Language: English\n"
     ]
    }
   ],
   "source": [
    "onto = get_ontology(\"../pbn_t3_5_v0.4.owl\").load()\n",
    "comments = u.checkComments(onto)"
   ]
  },
  {
   "attachments": {},
   "cell_type": "markdown",
   "metadata": {},
   "source": [
    "# Asking the BOK API.\n",
    "\n",
    "This is the one in the current report, in the bok/data/main_api.py FastAPI app."
   ]
  },
  {
   "cell_type": "code",
   "execution_count": 4,
   "metadata": {},
   "outputs": [],
   "source": [
    "def askDef(term,k=10,temp=0.1,overwrite=False,seed=\"\"):\n",
    "    URL = \"http://localhost:5000/ask/\"\n",
    "    #print(term)\n",
    "    Q = \"You are working on the topic of contagious diseases in smart and sustainable cities and neighbourhoods. In this context, what could be a definition or description of the following term: '\"+term+\"'?\\nWrite two paragraphs and avoid bullet point lists.\"\n",
    "    REQ = {\n",
    "    \"question\": Q,\n",
    "    \"model\": \"gpt-3.5-turbo-1106\",\n",
    "    \"temp\": temp,\n",
    "    \"k\": k,\n",
    "    \"overwrite\": overwrite,\n",
    "    \"source\": \"local_risk_def\",\n",
    "    \"seed\": seed\n",
    "    }\n",
    "\n",
    "    H = h.hashme(REQ[\"question\"]+str(REQ[\"seed\"])+str(k)+str(temp))\n",
    "    #print(H)\n",
    "    cached = \"cache/\"+H+\".md\"\n",
    "    #print(REQ)\n",
    "    if not os.path.isfile(cached) or overwrite:\n",
    "        x = requests.post(URL, json = REQ)\n",
    "        #print(x.text)\n",
    "        REFS = sorted(list(set(json.loads(x.text)[\"refs\"])))\n",
    "        answer = json.loads(x.text)[\"answer\"]+\"\\n\\nSources: \"+str(REFS)\n",
    "        h.svt(cached,answer)\n",
    "    else:\n",
    "        answer = h.ldt(cached)\n",
    "    return answer"
   ]
  },
  {
   "attachments": {},
   "cell_type": "markdown",
   "metadata": {},
   "source": [
    "# Defining new properties"
   ]
  },
  {
   "cell_type": "code",
   "execution_count": 5,
   "metadata": {},
   "outputs": [],
   "source": [
    "with onto:\n",
    "    class has_Description(onto.PBNThing >> str):\n",
    "        label = [\"Short description\"]\n",
    "        pass\n",
    "    class has_Note(onto.PBNThing >> str):\n",
    "        label = [\"Author note\"]\n",
    "        pass"
   ]
  },
  {
   "attachments": {},
   "cell_type": "markdown",
   "metadata": {},
   "source": [
    "# Getting the description"
   ]
  },
  {
   "cell_type": "code",
   "execution_count": 6,
   "metadata": {},
   "outputs": [],
   "source": [
    "r = list(onto.RiskSubgroup.instances())\n",
    "for rsg in r:\n",
    "    rsg.has_Description = [askDef(rsg.label[0],k=15,temp=0.1,overwrite=True,seed=\"1\")]\n",
    "    #print(rsg.has_Description[0])"
   ]
  },
  {
   "cell_type": "code",
   "execution_count": 7,
   "metadata": {},
   "outputs": [],
   "source": [
    "r = list(onto.TechSubgroup.instances())\n",
    "for rsg in r:\n",
    "    rsg.has_Description = [askDef(rsg.label[0],k=15,temp=0.1,overwrite=True,seed=\"1\")] "
   ]
  },
  {
   "cell_type": "code",
   "execution_count": 8,
   "metadata": {},
   "outputs": [],
   "source": [
    "r = list(onto.StakeholderSubgroup.instances())\n",
    "for rsg in r:\n",
    "    rsg.has_Description = [askDef(rsg.label[0],k=15,temp=0.1,overwrite=True,seed=\"1\")] "
   ]
  },
  {
   "cell_type": "code",
   "execution_count": 9,
   "metadata": {},
   "outputs": [],
   "source": [
    "r = list(onto.BP_Intervention.instances())\n",
    "for rsg in r:\n",
    "    rsg.has_Description = [askDef(rsg.label[0],k=15,temp=0.1,overwrite=True,seed=\"1\")]"
   ]
  },
  {
   "attachments": {},
   "cell_type": "markdown",
   "metadata": {},
   "source": [
    "# Removing old articles"
   ]
  },
  {
   "cell_type": "code",
   "execution_count": 10,
   "metadata": {},
   "outputs": [
    {
     "data": {
      "text/plain": [
       "['Rahim_impact_2022 rahim_impact_2022 nan rahim_impact_2022 nan nan rahim_impact_2022 nan nan nan rahim_impact_2022 nan nan nan nan rahim_impact_2022']"
      ]
     },
     "execution_count": 10,
     "metadata": {},
     "output_type": "execute_result"
    }
   ],
   "source": [
    "onto.PBN__Article_310.label"
   ]
  },
  {
   "cell_type": "code",
   "execution_count": 11,
   "metadata": {},
   "outputs": [],
   "source": [
    "a =  list(onto.Article.instances())\n",
    "gap_articles = [x for x in a if \" nan \" in x.label[0]]"
   ]
  },
  {
   "cell_type": "code",
   "execution_count": 12,
   "metadata": {},
   "outputs": [],
   "source": [
    "for indiv in gap_articles :\n",
    "    destroy_entity(indiv)"
   ]
  },
  {
   "attachments": {},
   "cell_type": "markdown",
   "metadata": {},
   "source": [
    "# CAO"
   ]
  },
  {
   "cell_type": "code",
   "execution_count": 13,
   "metadata": {},
   "outputs": [],
   "source": [
    "DICTS_CAO = {}\n",
    "\n",
    "DICTS_CAO[\"Structure\"] = [\"Settlement\",\"Biodiversity\",\"Air\",\"Soil\",\"Water\",\"Communication Network\", \"Water Cycle\", \"Energy Cycle\",\"Mobility Network\",\"Nature\",\"Dwelling\",\"Buildings/Blocks\",\"Neighbourhoods/Districts\",\"City/Metropolis\",\"Public Space\",\" Land Use\"]\n",
    "DICTS_CAO[\"Interactions\"] = [\"Living\",\"Working\",\"Shopping\",\"Transport\",\"Health\",\"Education\",\"Arts\",\"Sports\",\"Security\",\"Wealth production\", \"Wealth Distribution\",\"Commerce/Trade\",\"Finances\", \"Competitiveness\", \"Entrepreneurship\",\"Culture/Diversity\",\"Social Expression\",\"Heritage\", \"Tools&Apps\",\"Open data\", \"Data in/out\", \"Performance (equity, resilience, self-sufficiency)\"]\n",
    "DICTS_CAO[\"Society\"] = [\"Person\", \"Family\",\"Visitors\",\"Organizations\",\"Business\",\"Participation\",\"Capacity Development\", \"Leadership\",\"Visions&Priorities\", \"Laws&Regulations\",\"Accountability\"]\n",
    "1\n",
    "DESC_Step1 = \"'Structures' contains Environment (Settlements, Biodiversity, Air, Soil, Water), Infrastructure (communication networks, water, energy, matter cycle, mobility,), and Build domain (Dwelling, housing, land use, public spaces). \"\n",
    "DESC_Step1 += \"'Interactions' contains Functions, Economy, Culture and Information, focusing on companies, economic sphere, societal, social, economic and information topics. \"\n",
    "DESC_Step1 += \"'Society' contains Citizens and Government (inc Persons, familities, organizations, businesses, leadership, vision, laws and regulation, accountability).\"\n",
    "DESC_Step1 = \"Use 'Structures' if the risk is in the physical world, 'Interactions' if it is about 'societal, social, economic and information' aspects and Society if talking about governance. \"\n",
    "\n",
    "def classifFwk_step1(lst):\n",
    "    return [\n",
    "        {\n",
    "        \"name\": \"classify_CAO_framework\",\n",
    "        \"description\": \"Function used to classify items according to the evaluation framework, based on what they  impact the most . \",\n",
    "        \"parameters\": {\n",
    "            \"type\": \"object\",\n",
    "            \"properties\": {\n",
    "                \"sorted_items\": {\n",
    "                    \"type\": 'array',\n",
    "                    \"items\": {\n",
    "                        \"type\": 'object',\n",
    "                        \"description\": \"A type of item\",\n",
    "                        \"properties\": {\n",
    "                            \"name\" :{\n",
    "                                \"type\": 'string', \n",
    "                                \"description\": 'The item being considered.'\n",
    "                            },\n",
    "                            \"category\" :{\n",
    "                                \"type\": 'string', \n",
    "                                \"enum\":lst,\n",
    "                                \"description\": 'The category of item that matches the item being considered. '\n",
    "                            },\n",
    "                            \"confidence\" :{\n",
    "                                \"type\": 'string',  \n",
    "                                \"enum\":[\"High\",\"Medium-high\",\"Medium\",\"Low\"],\n",
    "                                \"description\": 'Confidence that this is the correct item category.'\n",
    "                            }                            \n",
    "                        },\n",
    "                        \"required\": [\"name\",'category',\"confidence\"],\n",
    "                    }\n",
    "                },\n",
    "            },\n",
    "            \"required\": [\"sorted_items\"],\n",
    "        },\n",
    "    }\n",
    "]"
   ]
  },
  {
   "cell_type": "code",
   "execution_count": 14,
   "metadata": {},
   "outputs": [],
   "source": [
    "CAO_Cats = list(DICTS_CAO.keys())"
   ]
  },
  {
   "cell_type": "code",
   "execution_count": 15,
   "metadata": {},
   "outputs": [
    {
     "data": {
      "text/plain": [
       "[pbn_t3_5_v0.4.StakeholderGroup,\n",
       " pbn_t3_5_v0.4.StakeholderSubgroup,\n",
       " pbn_t3_5_v0.4.TechGroup,\n",
       " pbn_t3_5_v0.4.TechSubgroup,\n",
       " pbn_t3_5_v0.4.RiskGroup,\n",
       " pbn_t3_5_v0.4.RiskSubgroup]"
      ]
     },
     "execution_count": 15,
     "metadata": {},
     "output_type": "execute_result"
    }
   ],
   "source": [
    "from dotenv import load_dotenv\n",
    "load_dotenv('.env')\n",
    "\n",
    "URL = os.getenv(\"KG_URL_FCT\")\n",
    "TOK3N = os.getenv(\"KG_TOKEN\")\n",
    "\n",
    "NBCAP = 2\n",
    "\n",
    "classify = [k for k in onto.classes() if (\"roup\" in str(k)) and (not \"CAO\" in str(k))]\n",
    "classify"
   ]
  },
  {
   "cell_type": "code",
   "execution_count": 16,
   "metadata": {},
   "outputs": [
    {
     "name": "stdout",
     "output_type": "stream",
     "text": [
      "All Risks CAO covered\n",
      "All Risks CAO covered\n",
      "All Risks CAO covered\n",
      "All Risks CAO covered\n",
      "All Risks CAO covered\n",
      "All Risks CAO covered\n"
     ]
    }
   ],
   "source": [
    "for klass in classify:\n",
    "    N = klass.name\n",
    "\n",
    "    RISKS = [x.label[0] for x in klass.instances() if len(x.label) >= 1]\n",
    "    #print(RISKS)\n",
    "    RES = []\n",
    "    NChunks = 50\n",
    "    #Randomizing list\n",
    "    if os.path.isfile(N+\"_newCAO_classified_lv1.parquet.gzip\"):\n",
    "        GOOD = pd.read_parquet(N+\"_newCAO_classified_lv1.parquet.gzip\")\n",
    "        alreadythere = GOOD[\"name\"].unique()\n",
    "        GOOD = GOOD[GOOD.name.isin(RISKS)]\n",
    "        newRisks = [x for x in RISKS if x not in alreadythere]\n",
    "        CATS_FWK = [GOOD]\n",
    "    else:\n",
    "        newRisks = RISKS\n",
    "        CATS_FWK = []\n",
    "    if len(newRisks):\n",
    "        print(N,len(newRisks))\n",
    "        NB = len(newRisks)//NChunks + 1\n",
    "        for k in range(NB)[:NBCAP]:\n",
    "            try:\n",
    "                QUESTION =  \"The items are:\\n\\n* \"+\"\\n* \".join(newRisks[(k*NChunks):(k+1)*NChunks]) \n",
    "                prefix =\"sh_\"\n",
    "                overwrite = False\n",
    "                REQ = {\n",
    "                    \"context\": DESC_Step1+\"\\n\\nOut the following list, classify the items from a high level perspective.\\n\\n\",\n",
    "                    \"question\": QUESTION,\n",
    "                    \"functions\": classifFwk_step1(CAO_Cats),\n",
    "                    \"token\": TOK3N,\n",
    "                    \"overwrite\": overwrite,\n",
    "                    \"source\": \"local-itemsT3.5\",\n",
    "                    \"seed\" : \"\"\n",
    "                }\n",
    "\n",
    "                H = h.hashme(REQ[\"context\"]+REQ[\"question\"])\n",
    "                cached = \"cache/\"+prefix+\"_\"+H+\".json\"\n",
    "                if not os.path.isfile(cached) or overwrite:\n",
    "                    x = requests.post(URL+\"fct/\", json = REQ)\n",
    "                    answer = json.loads(x.text)[\"messages\"][-1]\n",
    "                    h.svt(cached,answer)\n",
    "                else:\n",
    "                    answer = h.ldt(cached)\n",
    "                d = pd.DataFrame(json.loads(answer[\"function_call\"][\"arguments\"])[\"sorted_items\"])\n",
    "                d[\"src\"] = klass.name\n",
    "                d = d [d[\"category\"].isin(CAO_Cats)]\n",
    "                CATS_FWK.append(d)\n",
    "                DFC = pd.concat(CATS_FWK).reset_index(drop=True)\n",
    "                DFC.to_parquet(N+\"_newCAO_classified_lv1.parquet.gzip\",compression=\"gzip\")\n",
    "                print(\"Done:\",k)\n",
    "            except:\n",
    "                print(\"error with\",k)\n",
    "                pass\n",
    "    else:\n",
    "        print(\"All Risks CAO covered\")"
   ]
  },
  {
   "cell_type": "code",
   "execution_count": 17,
   "metadata": {},
   "outputs": [
    {
     "name": "stdout",
     "output_type": "stream",
     "text": [
      "all covered for StakeholderGroup Society []\n",
      "Done for StakeholderGroup Interactions --- 0 ['Environmental and sustainability organizations', 'Media organizations']\n",
      "all covered for StakeholderGroup Structure []\n",
      "Done for StakeholderSubgroup Structure --- 0 ['Medical and healthcare personnel', 'Government departments', 'City authorities', 'Environmental agencies', 'Research institutions', 'Local researchers', 'Administrative authorities', 'Occupational health and safety regulators', 'Government health agencies', 'Emergency services and management', 'Healthcare workers', 'Companies in general', 'Waste management organizations', 'Physical workers', 'Occupational health and safety teams', 'Veterinary organization', 'Contractors', 'Workers in the construction industry', 'Project managers', 'Waste management workers', 'Data repository administrators', 'Private health organisations', 'Design and construction professionals', 'Wearable technology industry', 'Energy utilities', 'Building design team', 'Production staff', 'Sustainability teams', 'Construction industry organizations', 'Retail staff', 'Logistics professionals', 'Small-and medium-sized enterprises', 'Academic institutions', 'Banking institutions', 'Data governance organizations', 'Ai system developers', 'Non-medical cechnology manufacturers', 'Supply chain professionals', 'Food distribution', 'Certification system organizations', 'Medical technology manufacturers', 'Site-supervision workers']\n",
      "all covered for StakeholderSubgroup Interactions []\n",
      "all covered for StakeholderSubgroup Society []\n",
      "all covered for TechGroup Structure []\n",
      "all covered for TechGroup Society []\n",
      "all covered for TechGroup Interactions []\n",
      "Done for TechSubgroup Structure --- 0 ['Advanced waste sorting and processing systems', 'Recycling and waste handling technologies', 'Sanitization and sterilization technologies for waste', 'Manufacturing of ppe', 'Waste management technologies group', 'Smart waste handling and monitoring technologies', 'Contactless recycling and waste disposal solutions']\n",
      "all covered for TechSubgroup Interactions []\n",
      "all covered for TechSubgroup Society []\n",
      "all covered for RiskGroup Society []\n",
      "Done for RiskGroup Interactions --- 0 ['Economic risks', 'Political risks']\n",
      "all covered for RiskGroup Structure []\n",
      "all covered for RiskSubgroup Society []\n",
      "all covered for RiskSubgroup Structure []\n",
      "all covered for RiskSubgroup Interactions []\n"
     ]
    }
   ],
   "source": [
    "for klass in classify:\n",
    "    N = klass.name\n",
    "    DFC = pd.read_parquet(N+\"_newCAO_classified_lv1.parquet.gzip\")\n",
    "    CATs = list(DFC.category.unique())\n",
    "    if \"subcategory\" not in DFC.columns:\n",
    "        DFC[\"subcategory\"] = None\n",
    "    if \"confidence_lv2\" not in DFC.columns:\n",
    "        DFC[\"confidence_lv2\"] = None\n",
    "    for CAT in CATs:\n",
    "        #print(\"Doing\",CAT)\n",
    "        df = DFC[DFC.category == CAT]\n",
    "        DONE = list(df[~df.subcategory.isna()].name.unique())\n",
    "        df = df[~df.name.isin(DONE)]\n",
    "        subtechs = DICTS_CAO[CAT] # classify_technology(CategoriesOfTechs)\n",
    "        #print(subtechs)\n",
    "        newRisks = list(df.name)\n",
    "        RES = []\n",
    "        NChunks = 50\n",
    "\n",
    "        if len(newRisks):\n",
    "            #print(len(newRisks))\n",
    "            newRisks = [str(x) for x in newRisks]\n",
    "            NB = len(newRisks)//NChunks +1\n",
    "            for k in range(NB)[:NBCAP]:\n",
    "                try:\n",
    "                    QUESTION =  \"The items are:\\n\\n* \"+\"\\n* \".join(newRisks[(k*NChunks):(k+1)*NChunks]) \n",
    "                    prefix =\"CAO_items_\"\n",
    "                    overwrite = True\n",
    "                    REQ = {\n",
    "                        \"context\": \"Out the following list, classify the items from a high level perspective.\\n\\n\",\n",
    "                        \"question\": QUESTION,\n",
    "                        \"functions\": classifFwk_step1(subtechs),\n",
    "                        \"token\": TOK3N,\n",
    "                        \"overwrite\": overwrite,\n",
    "                        \"source\": \"local-evalTechsT3.5\",\n",
    "                        \"seed\" : \"\"\n",
    "                    }\n",
    "\n",
    "                    H = h.hashme(REQ[\"context\"]+REQ[\"question\"])\n",
    "                    cached = \"cache/\"+prefix+\"_\"+H+\".json\"\n",
    "                    if not os.path.isfile(cached) or overwrite:\n",
    "                        x = requests.post(URL+\"fct/\", json = REQ)\n",
    "                        answer = json.loads(x.text)[\"messages\"][-1]\n",
    "                        h.svt(cached,answer)\n",
    "                    else:\n",
    "                        answer = h.ldt(cached)\n",
    "                    d = pd.DataFrame(json.loads(answer[\"function_call\"][\"arguments\"])[\"sorted_items\"])\n",
    "                    d = d [d[\"category\"].isin(subtechs)]\n",
    "                    d.columns = [\"name\",\"subcategory\",\"confidence_lv2\"]\n",
    "                    for ix, row in d.iterrows():\n",
    "                        DFC.loc[DFC.name == row[\"name\"], \"subcategory\"] = row[\"subcategory\"]\n",
    "                        DFC.loc[DFC.name == row[\"name\"], \"confidence_lv2\"] = row[\"confidence_lv2\"]\n",
    "                    DFC.to_parquet(N+\"_newCAO_classified_lv1.parquet.gzip\",compression=\"gzip\")\n",
    "                    print(\"Done for\",N,CAT,\"---\",k,newRisks)\n",
    "                except:\n",
    "                    print(\"-->> Error for\",N,CAT,newRisks)\n",
    "                    pass\n",
    "        else:\n",
    "            print(\"all covered for\",N,CAT,newRisks)"
   ]
  },
  {
   "cell_type": "code",
   "execution_count": 18,
   "metadata": {},
   "outputs": [
    {
     "data": {
      "text/html": [
       "<div>\n",
       "<style scoped>\n",
       "    .dataframe tbody tr th:only-of-type {\n",
       "        vertical-align: middle;\n",
       "    }\n",
       "\n",
       "    .dataframe tbody tr th {\n",
       "        vertical-align: top;\n",
       "    }\n",
       "\n",
       "    .dataframe thead th {\n",
       "        text-align: right;\n",
       "    }\n",
       "</style>\n",
       "<table border=\"1\" class=\"dataframe\">\n",
       "  <thead>\n",
       "    <tr style=\"text-align: right;\">\n",
       "      <th></th>\n",
       "      <th>name</th>\n",
       "      <th>category</th>\n",
       "      <th>confidence</th>\n",
       "      <th>src</th>\n",
       "      <th>subcategory</th>\n",
       "      <th>confidence_lv2</th>\n",
       "    </tr>\n",
       "  </thead>\n",
       "  <tbody>\n",
       "    <tr>\n",
       "      <th>0</th>\n",
       "      <td>Failure to implement preventive measures</td>\n",
       "      <td>Society</td>\n",
       "      <td>Medium</td>\n",
       "      <td>RiskSubgroup</td>\n",
       "      <td>Accountability</td>\n",
       "      <td>Low</td>\n",
       "    </tr>\n",
       "    <tr>\n",
       "      <th>1</th>\n",
       "      <td>Lack of access to health services</td>\n",
       "      <td>Structure</td>\n",
       "      <td>High</td>\n",
       "      <td>RiskSubgroup</td>\n",
       "      <td>Settlement</td>\n",
       "      <td>Medium-high</td>\n",
       "    </tr>\n",
       "    <tr>\n",
       "      <th>2</th>\n",
       "      <td>Public health messaging and education</td>\n",
       "      <td>Interactions</td>\n",
       "      <td>Medium-high</td>\n",
       "      <td>RiskSubgroup</td>\n",
       "      <td>Health</td>\n",
       "      <td>High</td>\n",
       "    </tr>\n",
       "    <tr>\n",
       "      <th>3</th>\n",
       "      <td>Misinterpretation of data and results</td>\n",
       "      <td>Interactions</td>\n",
       "      <td>Medium-high</td>\n",
       "      <td>RiskSubgroup</td>\n",
       "      <td>Data in/out</td>\n",
       "      <td>High</td>\n",
       "    </tr>\n",
       "    <tr>\n",
       "      <th>4</th>\n",
       "      <td>Healthcare resource shortage and management</td>\n",
       "      <td>Structure</td>\n",
       "      <td>High</td>\n",
       "      <td>RiskSubgroup</td>\n",
       "      <td>Dwelling</td>\n",
       "      <td>Medium-high</td>\n",
       "    </tr>\n",
       "    <tr>\n",
       "      <th>...</th>\n",
       "      <td>...</td>\n",
       "      <td>...</td>\n",
       "      <td>...</td>\n",
       "      <td>...</td>\n",
       "      <td>...</td>\n",
       "      <td>...</td>\n",
       "    </tr>\n",
       "    <tr>\n",
       "      <th>86</th>\n",
       "      <td>Building codes and certification</td>\n",
       "      <td>Structure</td>\n",
       "      <td>High</td>\n",
       "      <td>RiskSubgroup</td>\n",
       "      <td>Buildings/Blocks</td>\n",
       "      <td>Medium-high</td>\n",
       "    </tr>\n",
       "    <tr>\n",
       "      <th>87</th>\n",
       "      <td>Bioterrorism threats</td>\n",
       "      <td>Interactions</td>\n",
       "      <td>High</td>\n",
       "      <td>RiskSubgroup</td>\n",
       "      <td>Security</td>\n",
       "      <td>High</td>\n",
       "    </tr>\n",
       "    <tr>\n",
       "      <th>88</th>\n",
       "      <td>Technology deployment and surveillance</td>\n",
       "      <td>Interactions</td>\n",
       "      <td>High</td>\n",
       "      <td>RiskSubgroup</td>\n",
       "      <td>Security</td>\n",
       "      <td>High</td>\n",
       "    </tr>\n",
       "    <tr>\n",
       "      <th>89</th>\n",
       "      <td>Healthcare legislation</td>\n",
       "      <td>Society</td>\n",
       "      <td>Medium-high</td>\n",
       "      <td>RiskSubgroup</td>\n",
       "      <td>Laws&amp;Regulations</td>\n",
       "      <td>High</td>\n",
       "    </tr>\n",
       "    <tr>\n",
       "      <th>90</th>\n",
       "      <td>Workplace safety and health</td>\n",
       "      <td>Society</td>\n",
       "      <td>Medium-high</td>\n",
       "      <td>RiskSubgroup</td>\n",
       "      <td>Capacity Development</td>\n",
       "      <td>High</td>\n",
       "    </tr>\n",
       "  </tbody>\n",
       "</table>\n",
       "<p>91 rows × 6 columns</p>\n",
       "</div>"
      ],
      "text/plain": [
       "                                           name      category   confidence  \\\n",
       "0      Failure to implement preventive measures       Society       Medium   \n",
       "1             Lack of access to health services     Structure         High   \n",
       "2         Public health messaging and education  Interactions  Medium-high   \n",
       "3         Misinterpretation of data and results  Interactions  Medium-high   \n",
       "4   Healthcare resource shortage and management     Structure         High   \n",
       "..                                          ...           ...          ...   \n",
       "86             Building codes and certification     Structure         High   \n",
       "87                         Bioterrorism threats  Interactions         High   \n",
       "88       Technology deployment and surveillance  Interactions         High   \n",
       "89                       Healthcare legislation       Society  Medium-high   \n",
       "90                  Workplace safety and health       Society  Medium-high   \n",
       "\n",
       "             src           subcategory confidence_lv2  \n",
       "0   RiskSubgroup        Accountability            Low  \n",
       "1   RiskSubgroup            Settlement    Medium-high  \n",
       "2   RiskSubgroup                Health           High  \n",
       "3   RiskSubgroup           Data in/out           High  \n",
       "4   RiskSubgroup              Dwelling    Medium-high  \n",
       "..           ...                   ...            ...  \n",
       "86  RiskSubgroup      Buildings/Blocks    Medium-high  \n",
       "87  RiskSubgroup              Security           High  \n",
       "88  RiskSubgroup              Security           High  \n",
       "89  RiskSubgroup      Laws&Regulations           High  \n",
       "90  RiskSubgroup  Capacity Development           High  \n",
       "\n",
       "[91 rows x 6 columns]"
      ]
     },
     "execution_count": 18,
     "metadata": {},
     "output_type": "execute_result"
    }
   ],
   "source": [
    "import pandas as pd\n",
    "DFC = pd.read_parquet(N+\"_newCAO_classified_lv1.parquet.gzip\")\n",
    "DFC"
   ]
  },
  {
   "attachments": {},
   "cell_type": "markdown",
   "metadata": {},
   "source": [
    "# Saving"
   ]
  },
  {
   "cell_type": "code",
   "execution_count": 19,
   "metadata": {},
   "outputs": [],
   "source": [
    "onto.save(\"WIP.owl\")"
   ]
  }
 ],
 "metadata": {
  "kernelspec": {
   "display_name": "venv",
   "language": "python",
   "name": "python3"
  },
  "language_info": {
   "codemirror_mode": {
    "name": "ipython",
    "version": 3
   },
   "file_extension": ".py",
   "mimetype": "text/x-python",
   "name": "python",
   "nbconvert_exporter": "python",
   "pygments_lexer": "ipython3",
   "version": "3.10.12"
  },
  "orig_nbformat": 4,
  "vscode": {
   "interpreter": {
    "hash": "f79bc2406addd2c06911dc053b733d86c52c13481e10d53afee492d28d2db597"
   }
  }
 },
 "nbformat": 4,
 "nbformat_minor": 2
}
