{
 "cells": [
  {
   "cell_type": "code",
   "execution_count": 1,
   "metadata": {},
   "outputs": [
    {
     "name": "stdout",
     "output_type": "stream",
     "text": [
      "0.40\n"
     ]
    },
    {
     "name": "stderr",
     "output_type": "stream",
     "text": [
      "* Owlready2 * Warning: optimized Cython parser module 'owlready2_optimized' is not available, defaulting to slower Python implementation\n"
     ]
    }
   ],
   "source": [
    "import pandas as pd\n",
    "import os, glob\n",
    "\n",
    "from owlready2 import *\n",
    "import owlready2\n",
    "print(owlready2.VERSION)\n",
    "\n",
    "\n",
    "import importlib.util\n",
    "import sys\n",
    "spec = importlib.util.spec_from_file_location(\"rdfutils\", \"../../../utils/rdfutils.py\")\n",
    "u = importlib.util.module_from_spec(spec)\n",
    "sys.modules[\"rdfutils\"] = u\n",
    "spec.loader.exec_module(u)\n",
    "\n",
    "from datetime import datetime\n",
    "\n",
    "def NOW():\n",
    "    now = datetime.now()\n",
    "    current_time = now.strftime(\"%H:%M:%S\")\n",
    "    return \"Current Time = \"+ str(current_time)\n",
    "\n",
    "%load_ext autoreload\n",
    "%autoreload 2\n"
   ]
  },
  {
   "cell_type": "code",
   "execution_count": 2,
   "metadata": {},
   "outputs": [],
   "source": [
    "pathrdfin  = \"WIP_2.owl\""
   ]
  },
  {
   "cell_type": "code",
   "execution_count": 3,
   "metadata": {},
   "outputs": [
    {
     "name": "stdout",
     "output_type": "stream",
     "text": [
      "error with the maxes ISO_Impact\n",
      "error with the maxes BP_Theme\n",
      "error with the maxes BP_Category\n",
      "error with the maxes aBlueprint\n"
     ]
    }
   ],
   "source": [
    "onto = get_ontology(pathrdfin).load()\n",
    "dIDct = u.createDict(onto) "
   ]
  },
  {
   "cell_type": "markdown",
   "metadata": {},
   "source": [
    "# Adding comments"
   ]
  },
  {
   "cell_type": "code",
   "execution_count": 4,
   "metadata": {},
   "outputs": [
    {
     "name": "stdout",
     "output_type": "stream",
     "text": [
      "ID: 0 \t Description: Creation of a knowledge graph based on a litterature review, augmented by use of LLMs.\n",
      "ID: 1 \t Version: 0.4\n",
      "ID: 2 \t Library: owlready2==0.45\n",
      "ID: 3 \t Changes from: 0.3\n",
      "ID: 4 \t Next: Check formulas for selecting most repeated items in groups\n",
      "ID: 5 \t Changes: Adding new risks, groups of items, and new relationships\n",
      "ID: 6 \t Creation: 22/01/2024\n",
      "ID: 7 \t TODOs: Adding synonyms and solving classification with synonyms\n",
      "ID: 8 \t VersionComment: Grouping of items added in 0.4\n",
      "ID: 9 \t Project: PROBONO\n",
      "ID: 10 \t Next: Linking benefits to mitigations groups\n",
      "ID: 11 \t License: CC BY-NC-SA\n",
      "ID: 12 \t Task: T3.5\n",
      "ID: 13 \t Repository: https://github.com/mm80843/T3.5/\n",
      "ID: 14 \t Author: Luc Jonveaux\n",
      "ID: 15 \t Language: English\n"
     ]
    }
   ],
   "source": [
    "comments = u.checkComments(onto)"
   ]
  },
  {
   "cell_type": "code",
   "execution_count": 5,
   "metadata": {},
   "outputs": [],
   "source": [
    "onto.metadata.comment[5] = \"Adding CAO, ISO maps, cleanups, new labels for classes, descriptions for interventions, ...\"\n",
    "onto.metadata.comment[1] = \"Version: 0.5\"\n",
    "onto.metadata.comment[3] = \"Changes from: 0.4\"\n",
    "onto.metadata.comment[4] = \"Update blueprints and connect to groups\" \n",
    "onto.metadata.comment[6] = \"Creation: 15/02/2024\"\n",
    "onto.metadata.comment[8] = \"VersionComment: Major cleanup and classification\"\n",
    "\n",
    "onto.save(file = pathrdfin)\n",
    "onto.destroy()\n",
    "del(onto)"
   ]
  },
  {
   "attachments": {},
   "cell_type": "markdown",
   "metadata": {},
   "source": [
    "# Simplified versions"
   ]
  },
  {
   "attachments": {},
   "cell_type": "markdown",
   "metadata": {},
   "source": [
    "## Only blueprints"
   ]
  },
  {
   "cell_type": "code",
   "execution_count": 6,
   "metadata": {},
   "outputs": [
    {
     "name": "stdout",
     "output_type": "stream",
     "text": [
      "ID: 0 \t Description: Creation of a knowledge graph based on a litterature review, augmented by use of LLMs.\n",
      "ID: 1 \t Library: owlready2==0.45\n",
      "ID: 2 \t TODOs: Adding synonyms and solving classification with synonyms\n",
      "ID: 3 \t Project: PROBONO\n",
      "ID: 4 \t Next: Linking benefits to mitigations groups\n",
      "ID: 5 \t limited to blueprints\n",
      "ID: 6 \t Task: T3.5\n",
      "ID: 7 \t Repository: https://github.com/mm80843/T3.5/\n",
      "ID: 8 \t Author: Luc Jonveaux\n",
      "ID: 9 \t Language: English\n",
      "ID: 10 \t Adding CAO, ISO maps, cleanups, new labels for classes, descriptions for interventions, ...\n",
      "ID: 11 \t Version: 0.5\n",
      "ID: 12 \t Changes from: 0.4\n",
      "ID: 13 \t Update blueprints and connect to groups\n",
      "ID: 14 \t Creation: 15/02/2024\n",
      "ID: 15 \t VersionComment: Major cleanup and classification\n",
      "File saved at ../../prod/pbn_t3_5_BP.owl\n"
     ]
    }
   ],
   "source": [
    "pathrdfout = \"../../prod/pbn_t3_5_BP.owl\"\n",
    "\n",
    "ontoOne = owlready2.get_ontology(pathrdfin).load()\n",
    "ontoOne.metadata.comment[5] = 'limited to blueprints'\n",
    "u.checkComments(ontoOne)\n",
    "with ontoOne:\n",
    "    for k in ontoOne.classes():\n",
    "        I = k.instances()\n",
    "        if len(I):\n",
    "            K = str(k).split(\".\")[-1]\n",
    "            if not( (K.startswith(\"Blueprint\") or K.startswith(\"BP_\") or K == \"PBNThing\" ) ):\n",
    "                for i in I:\n",
    "                    owlready2.destroy_entity(i)\n",
    "                owlready2.destroy_entity(k)\n",
    "\n",
    "ontoOne.save(file = pathrdfout)\n",
    "ontoOne.destroy()\n",
    "del(ontoOne)\n",
    "print(\"File saved at \"+pathrdfout)"
   ]
  },
  {
   "cell_type": "code",
   "execution_count": 7,
   "metadata": {},
   "outputs": [
    {
     "name": "stdout",
     "output_type": "stream",
     "text": [
      "ID: 0 \t Description: Creation of a knowledge graph based on a litterature review, augmented by use of LLMs.\n",
      "ID: 1 \t Library: owlready2==0.45\n",
      "ID: 2 \t TODOs: Adding synonyms and solving classification with synonyms\n",
      "ID: 3 \t Project: PROBONO\n",
      "ID: 4 \t Next: Linking benefits to mitigations groups\n",
      "ID: 5 \t License: CC BY-NC-SA\n",
      "ID: 6 \t Task: T3.5\n",
      "ID: 7 \t Repository: https://github.com/mm80843/T3.5/\n",
      "ID: 8 \t Author: Luc Jonveaux\n",
      "ID: 9 \t Language: English\n",
      "ID: 10 \t Adding CAO, ISO maps, cleanups, new labels for classes, descriptions for interventions, ...\n",
      "ID: 11 \t Version: 0.5\n",
      "ID: 12 \t Changes from: 0.4\n",
      "ID: 13 \t Update blueprints and connect to groups\n",
      "ID: 14 \t Creation: 15/02/2024\n",
      "ID: 15 \t VersionComment: Major cleanup and classification\n",
      "PBNThing\n",
      "BP_Enabler\n",
      "BP_Transmission\n",
      "Blueprint\n",
      "BP_Scale\n",
      "BP_Phase\n",
      "BP_Permanent\n",
      "BP_Type\n",
      "BP_Intervention\n",
      "BenefReturn\n",
      "Benef\n",
      "Article\n",
      "Risk\n",
      "ISO_Scale\n",
      "RiskHealth\n",
      "RiskType\n",
      "Stakeholder\n",
      "Stakeholder_Type\n",
      "Technology\n",
      "ISO_Purpose\n",
      "StakeholderGroup\n",
      "StakeholderSubgroup\n",
      "TechGroup\n",
      "TechSubgroup\n",
      "Mitigation\n",
      "PBNCategory\n",
      "RiskGroup\n",
      "RiskSubgroup\n",
      "CAO_Group\n",
      "CAO_Subgroup\n",
      "Return_Group\n",
      "Return_Subgroup\n",
      "ISO_Issue\n",
      "File saved at ../../prod/pbn_t3_5_simple.owl\n"
     ]
    }
   ],
   "source": [
    "pathrdfout = \"../../prod/pbn_t3_5_simple.owl\"\n",
    "\n",
    "ontoBis = owlready2.get_ontology(pathrdfin).load()\n",
    "u.checkComments(ontoBis)\n",
    "ontoBis.metadata.comment[5] = 'limited simple, no blueprints'\n",
    "\n",
    "banned = ['BP_Enabler',\n",
    " 'BP_Transmission',\n",
    " 'Blueprint',\n",
    " 'BP_Scale',\n",
    " 'BP_Phase',\n",
    " 'BP_Permanent',\n",
    " 'BP_Type',\n",
    " 'BP_Theme',\n",
    " 'BP_Category',\n",
    " \"Benef\",\n",
    " \"BenefReturn\",\n",
    " \"Risk\",\"Mitigation\",\"Technology\",\"Stakeholder\"]\n",
    "\n",
    "with ontoBis:\n",
    "    for k in ontoBis.classes():\n",
    "        I = k.instances()\n",
    "        if len(I):\n",
    "            K = str(k).split(\".\")[-1]\n",
    "            print(K)\n",
    "            if K in banned:\n",
    "                #print(K,\"is banned.\")\n",
    "                for i in I:\n",
    "                    owlready2.destroy_entity(i)\n",
    "                owlready2.destroy_entity(k)\n",
    "\n",
    "ontoBis.save(file = pathrdfout)\n",
    "ontoBis.destroy()\n",
    "del(ontoBis)\n",
    "print(\"File saved at \"+pathrdfout)"
   ]
  },
  {
   "cell_type": "code",
   "execution_count": 8,
   "metadata": {},
   "outputs": [
    {
     "name": "stdout",
     "output_type": "stream",
     "text": [
      "OK!\n"
     ]
    }
   ],
   "source": [
    "print(\"OK!\")"
   ]
  }
 ],
 "metadata": {
  "kernelspec": {
   "display_name": "venv",
   "language": "python",
   "name": "python3"
  },
  "language_info": {
   "codemirror_mode": {
    "name": "ipython",
    "version": 3
   },
   "file_extension": ".py",
   "mimetype": "text/x-python",
   "name": "python",
   "nbconvert_exporter": "python",
   "pygments_lexer": "ipython3",
   "version": "3.10.12"
  },
  "vscode": {
   "interpreter": {
    "hash": "f79bc2406addd2c06911dc053b733d86c52c13481e10d53afee492d28d2db597"
   }
  }
 },
 "nbformat": 4,
 "nbformat_minor": 2
}
