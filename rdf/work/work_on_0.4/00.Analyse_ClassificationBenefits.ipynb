{
 "cells": [
  {
   "cell_type": "code",
   "execution_count": 1,
   "metadata": {},
   "outputs": [
    {
     "name": "stderr",
     "output_type": "stream",
     "text": [
      "* Owlready2 * Warning: optimized Cython parser module 'owlready2_optimized' is not available, defaulting to slower Python implementation\n"
     ]
    },
    {
     "name": "stdout",
     "output_type": "stream",
     "text": [
      "0.40\n"
     ]
    }
   ],
   "source": [
    "%load_ext autoreload\n",
    "%autoreload 2\n",
    "\n",
    "from owlready2 import *\n",
    "import owlready2\n",
    "print(owlready2.VERSION)\n",
    "\n",
    "import pandas as pd\n",
    "import glob, os, hashlib\n",
    "import requests, json\n",
    "from datetime import datetime\n",
    "\n",
    "import random\n",
    "\n",
    "def NOW():\n",
    "    now = datetime.now()\n",
    "    current_time = now.strftime(\"%H:%M:%S\")\n",
    "    return \"Current Time = \"+ str(current_time)\n",
    "\n",
    "from dotenv import load_dotenv\n",
    "load_dotenv('.env')\n",
    "\n",
    "URL = os.getenv(\"KG_URL_FCT\")\n",
    "TOK3N = os.getenv(\"KG_TOKEN\")\n",
    "\n",
    "NBCAP = 5000"
   ]
  },
  {
   "cell_type": "code",
   "execution_count": 2,
   "metadata": {},
   "outputs": [],
   "source": [
    "import importlib.util\n",
    "import sys\n",
    "\n",
    "spec = importlib.util.spec_from_file_location(\"llm\", \"../../../utils/llm.py\")\n",
    "h = importlib.util.module_from_spec(spec)\n",
    "sys.modules[\"llm\"] = h\n",
    "spec.loader.exec_module(h)\n",
    "\n",
    "spec = importlib.util.spec_from_file_location(\"rdfutils\", \"../../../utils/rdfutils.py\")\n",
    "u = importlib.util.module_from_spec(spec)\n",
    "sys.modules[\"rdfutils\"] = u\n",
    "spec.loader.exec_module(u)"
   ]
  },
  {
   "cell_type": "code",
   "execution_count": 3,
   "metadata": {},
   "outputs": [
    {
     "name": "stdout",
     "output_type": "stream",
     "text": [
      "\n",
      "# Overview\n",
      "\n",
      "*  _PBNThing_  --  87682 instances.\n",
      "*  _BenefReturn_  --  1598 instances.\n",
      "*  _Benef_  --  1406 instances.\n",
      "*  _Article_  --  370 instances.\n",
      "*  _Risk_  --  21139 instances.\n",
      "*  _ISO_Scale_  --  2 instances.\n",
      "*  _RiskHealth_  --  11 instances.\n",
      "*  _RiskType_  --  20 instances.\n",
      "*  _Stakeholder_  --  16120 instances.\n",
      "*  _Stakeholder_Type_  --  3 instances.\n",
      "*  _Technology_  --  23135 instances.\n",
      "*  _ISO_Purpose_  --  6 instances.\n",
      "*  _StakeholderGroup_  --  18 instances.\n",
      "*  _StakeholderSubgroup_  --  168 instances.\n",
      "*  _TechGroup_  --  15 instances.\n",
      "*  _TechSubgroup_  --  127 instances.\n",
      "*  _Mitigation_  --  22944 instances.\n",
      "*  _BP_Enabler_  --  27 instances.\n",
      "*  _BP_Transmission_  --  7 instances.\n",
      "*  _Blueprint_  --  23 instances.\n",
      "*  _BP_Scale_  --  2 instances.\n",
      "*  _BP_Phase_  --  4 instances.\n",
      "*  _BP_Permanent_  --  3 instances.\n",
      "*  _BP_Type_  --  2 instances.\n",
      "*  _BP_Intervention_  --  40 instances.\n",
      "*  _PBNCategory_  --  330 instances.\n",
      "*  _RiskGroup_  --  9 instances.\n",
      "*  _RiskSubgroup_  --  91 instances.\n",
      "*  _CAO_Group_  --  3 instances.\n",
      "*  _CAO_Subgroup_  --  49 instances.\n",
      "*  _ISO_Issue_  --  10 instances.\n"
     ]
    }
   ],
   "source": [
    "onto = get_ontology(\"./WIP_2.owl\").load()\n",
    "u.cOnto(onto)"
   ]
  },
  {
   "cell_type": "markdown",
   "metadata": {},
   "source": [
    "# Adding classifications"
   ]
  },
  {
   "cell_type": "markdown",
   "metadata": {},
   "source": [
    "## Benefits\n"
   ]
  },
  {
   "cell_type": "code",
   "execution_count": 4,
   "metadata": {},
   "outputs": [
    {
     "data": {
      "text/plain": [
       "(1598, 1598)"
      ]
     },
     "execution_count": 4,
     "metadata": {},
     "output_type": "execute_result"
    }
   ],
   "source": [
    "BENEFRETURNS = [x.label[0] for x in onto.BenefReturn.instances() if len(x.label) >= 1]\n",
    "len(BENEFRETURNS),len(list(set(BENEFRETURNS)))"
   ]
  },
  {
   "cell_type": "code",
   "execution_count": 5,
   "metadata": {},
   "outputs": [
    {
     "data": {
      "text/plain": [
       "(['Early warning of disease outbreaks'],\n",
       " ['Improved public health response, reduced transmission, better control of outbreaks'])"
      ]
     },
     "execution_count": 5,
     "metadata": {},
     "output_type": "execute_result"
    }
   ],
   "source": [
    "x = list(onto.Benef.instances())[0]\n",
    "x.label,x.has_BenefReturn[0].label"
   ]
  },
  {
   "cell_type": "code",
   "execution_count": 6,
   "metadata": {},
   "outputs": [],
   "source": [
    "def classify_benefit(CategoriesOfBenef):\n",
    "    return [\n",
    "        {\n",
    "        \"name\": \"classify_benefits\",\n",
    "        \"description\": \"Function used to classify benefits from a high level perspective.\",\n",
    "        \"parameters\": {\n",
    "            \"type\": \"object\",\n",
    "            \"properties\": {\n",
    "                \"sorted_benefits\": {\n",
    "                    \"type\": 'array',\n",
    "                    \"items\": {\n",
    "                        \"type\": 'object',\n",
    "                        \"description\": \"A type of benefit \",\n",
    "                        \"properties\": {\n",
    "                            \"name\" :{\n",
    "                                \"type\": 'string', \n",
    "                                \"description\": 'The benefit being considered.'\n",
    "                            },\n",
    "                            \"category\" :{\n",
    "                                \"type\": 'string', \n",
    "                                \"enum\":CategoriesOfBenef,\n",
    "                                \"description\": 'The category of benefit that matches the benefit being considered. '\n",
    "                            },\n",
    "                            \"confidence\" :{\n",
    "                                \"type\": 'string',  \n",
    "                                \"enum\":[\"High\",\"Medium-high\",\"Medium\",\"Low\"],\n",
    "                                \"description\": 'Confidence that this is the correct benefit category.'\n",
    "                            }                            \n",
    "                        },\n",
    "                        \"required\": [\"name\",'category',\"confidence\"],\n",
    "                    }\n",
    "                },\n",
    "            },\n",
    "            \"required\": [\"sorted_benefits\"],\n",
    "        },\n",
    "    }\n",
    "]"
   ]
  },
  {
   "cell_type": "code",
   "execution_count": 7,
   "metadata": {},
   "outputs": [],
   "source": [
    "DICT = {'Political': [\n",
    "    \"Improved Governance and Decision-Making\",\n",
    "    \"Increased Public Trust and Compliance\",\n",
    "    \"Enhanced Policy Development and Implementation\",\n",
    "    \"Economic Stability and Investment Attraction\",\n",
    "    \"Crisis Management and Public Health Response\"\n",
    "],\n",
    " 'Infrastructure': [\n",
    "    \"Operational Efficiency and Adaptability\",\n",
    "    \"Tenant Satisfaction and Attractiveness\",\n",
    "    \"Health and Safety Improvements\",\n",
    "    \"Environmental Sustainability and Green Practices\",\n",
    "    \"Economic Value and Asset Enhancement\",\n",
    "    \"Supply Chain Reliability and Market Access\",\n",
    "    \"Innovative Technologies and Research Advancements\",\n",
    "    \"Urban Resilience and Community Well-being\",\n",
    "    \"Project Management and Construction Excellence\",\n",
    "    \"Public Health and Epidemiological Contributions\"\n",
    "],\n",
    " 'Economic': [\n",
    "    \"Health and Safety Improvements\",\n",
    "    \"Asset and Property Value Enhancement\",\n",
    "    \"Operational and Supply Chain Efficiency\",\n",
    "    \"Economic Stability and Growth\",\n",
    "    \"Environmental Sustainability\",\n",
    "    \"Innovation and Investment Attraction\",\n",
    "    \"Workforce and Workplace Enhancement\",\n",
    "    \"Consumer and Market Benefits\",\n",
    "    \"Resource Management and Cost Savings\",\n",
    "    \"Social and Community Development\"\n",
    "],\n",
    " 'Legal': [\n",
    "    \"Compliance and Regulatory Adherence\",\n",
    "    \"Risk Management and Liability Reduction\",\n",
    "    \"Contractual Stability and Fair Compensation\",\n",
    "    \"Privacy Protection and Data Security\",\n",
    "    \"Crisis Management and Effective Governance\"\n",
    "],\n",
    " 'Environmental': [\n",
    "    \"Air and Water Quality Improvement\",\n",
    "    \"Energy Efficiency and Sustainability\",\n",
    "    \"Biodiversity Conservation and Ecosystem Enhancement\",\n",
    "    \"Health and Well-being Enhancement\",\n",
    "    \"Waste Management and Pollution Reduction\"\n",
    "],\n",
    " 'Technological': [\n",
    "    \"Advancement in Research and Innovation\",\n",
    "    \"Enhanced Data Security and Privacy\",\n",
    "    \"Improved Healthcare Delivery and Outcomes\",\n",
    "    \"Increased Efficiency and Productivity\",\n",
    "    \"Facilitation of Collaboration and Communication\"\n",
    "],\n",
    "'Social':[\n",
    "    \"Improved Public Health and Safety\",\n",
    "    \"Enhanced Quality of Life and Well-being\",\n",
    "    \"Increased Economic Stability and Growth\",\n",
    "    \"Strengthened Community Cohesion and Social Capital\",\n",
    "    \"Enhanced Environmental Sustainability and Access to Green Spaces\",\n",
    "    \"Improved Education and Skill Development\",\n",
    "    \"Reduced Social Inequalities and Enhanced Equity\",\n",
    "    \"Enhanced Communication and Public Awareness\",\n",
    "    \"Improved Mental Health Support and Services\",\n",
    "    \"Increased Public Trust and Confidence in Governance and Healthcare\"\n",
    "]}"
   ]
  },
  {
   "cell_type": "code",
   "execution_count": 8,
   "metadata": {},
   "outputs": [],
   "source": [
    "CategoriesOfBenef = list(DICT.keys())"
   ]
  },
  {
   "cell_type": "code",
   "execution_count": 9,
   "metadata": {},
   "outputs": [
    {
     "name": "stdout",
     "output_type": "stream",
     "text": [
      "Starting 24 items still to process.\n"
     ]
    },
    {
     "name": "stdout",
     "output_type": "stream",
     "text": [
      "Done: 0\n"
     ]
    }
   ],
   "source": [
    "RES = []\n",
    "NChunks = 40\n",
    "#Randomizing list\n",
    "if os.path.isfile(\"newbenef_classified_lv1.parquet.gzip\"):\n",
    "    GOOD = pd.read_parquet(\"newbenef_classified_lv1.parquet.gzip\")\n",
    "    alreadythere = GOOD[\"name\"].unique()\n",
    "    GOOD = GOOD[GOOD.name.isin(BENEFRETURNS)]\n",
    "    newRisks = [x for x in BENEFRETURNS if x not in alreadythere]\n",
    "    print(\"Starting\",len(newRisks),\"items still to process.\")\n",
    "else:\n",
    "    newRisks = BENEFRETURNS\n",
    "    GOOD = []\n",
    "    \n",
    "if len(newRisks):\n",
    "    newRisks = [str(x) for x in newRisks]\n",
    "    NB = len(newRisks)//NChunks + 1\n",
    "    CATS_FWK = [GOOD]\n",
    "    for k in range(NB)[:150]:\n",
    "        try:\n",
    "            QUESTION =  \"The benefits are:\\n\\n* \"+\"\\n* \".join(newRisks[(k*NChunks):(k+1)*NChunks]) \n",
    "            prefix =\"benefreturns_\"\n",
    "            overwrite = False\n",
    "            REQ = {\n",
    "                \"context\": \"Out the following list, classify the benefits from a high level perspective.\\n\\n\",\n",
    "                \"question\": QUESTION,\n",
    "                \"model\":\"gpt-3.5-turbo\",\n",
    "                \"functions\": classify_benefit(CategoriesOfBenef),\n",
    "                \"token\": TOK3N,\n",
    "                \"overwrite\": overwrite,\n",
    "                \"source\": \"local-evalbenefitsT3.5\",\n",
    "                \"seed\" : \"\"\n",
    "            }\n",
    "\n",
    "            H = h.hashme(REQ[\"context\"]+REQ[\"question\"])\n",
    "            cached = \"cache/\"+prefix+\"_\"+H+\".json\"\n",
    "            if not os.path.isfile(cached) or overwrite:\n",
    "                x = requests.post(URL+\"fct/\", json = REQ)\n",
    "                answer = json.loads(x.text)[\"messages\"][-1]\n",
    "                h.svt(cached,answer)\n",
    "            else:\n",
    "                answer = h.ldt(cached)\n",
    "            d = pd.DataFrame(json.loads(answer[\"function_call\"][\"arguments\"])[\"sorted_benefits\"])\n",
    "            d = d [d[\"category\"].isin(CategoriesOfBenef)]\n",
    "            if not len(GOOD):\n",
    "                CATS_FWK = d\n",
    "            else:\n",
    "                CATS_FWK.append(d)\n",
    "            DFC = pd.concat(CATS_FWK).reset_index(drop=True)\n",
    "            DFC = DFC.sort_values(by=[\"name\",\"category\"],ascending=True).drop_duplicates(subset=[\"name\"]).reset_index(drop=True)\n",
    "            DFC.to_parquet(\"newbenef_classified_lv1.parquet.gzip\",compression=\"gzip\")\n",
    "            #DFC = DFC.sort_values(by=[\"name\",\"subcategory\"],ascending=True).drop_duplicates(subset=[\"name\"]).reset_index(drop=True)\n",
    "            print(\"Done:\",k)\n",
    "        except:\n",
    "            print(\"error\")\n",
    "            pass\n",
    "else:\n",
    "    print(\"All benefs covered\")"
   ]
  },
  {
   "cell_type": "markdown",
   "metadata": {},
   "source": [
    "#### Checks for Benefits, round 1"
   ]
  },
  {
   "cell_type": "code",
   "execution_count": 10,
   "metadata": {},
   "outputs": [
    {
     "name": "stdout",
     "output_type": "stream",
     "text": [
      "1597 items listed\n"
     ]
    },
    {
     "data": {
      "text/plain": [
       "category\n",
       "Economic          659\n",
       "Environmental      83\n",
       "Infrastructure    229\n",
       "Legal              28\n",
       "Political          34\n",
       "Social            440\n",
       "Technological     124\n",
       "Name: name, dtype: int64"
      ]
     },
     "execution_count": 10,
     "metadata": {},
     "output_type": "execute_result"
    }
   ],
   "source": [
    "DFC = pd.read_parquet(\"newbenef_classified_lv1.parquet.gzip\")\n",
    "print(len(DFC),\"items listed\")\n",
    "DFC.groupby([\"category\"]).name.count()"
   ]
  },
  {
   "cell_type": "code",
   "execution_count": 11,
   "metadata": {},
   "outputs": [],
   "source": [
    "DFC = pd.read_parquet(\"newbenef_classified_lv1.parquet.gzip\")\n",
    "CATs = list(DFC.category.unique())\n",
    "if \"subcategory\" not in DFC.columns:\n",
    "    DFC[\"subcategory\"] = None\n",
    "if \"confidence_lv2\" not in DFC.columns:\n",
    "    DFC[\"confidence_lv2\"] = None"
   ]
  },
  {
   "cell_type": "code",
   "execution_count": 58,
   "metadata": {},
   "outputs": [],
   "source": [
    "overwrite=False"
   ]
  },
  {
   "cell_type": "code",
   "execution_count": 72,
   "metadata": {},
   "outputs": [
    {
     "name": "stdout",
     "output_type": "stream",
     "text": [
      "Doing Infrastructure\n",
      "Doing Technological\n",
      "Doing Social\n",
      "Done: 0\n",
      "Done: 1\n",
      "Doing Environmental\n",
      "Doing Economic\n",
      "Done: 0\n",
      "Done: 1\n",
      "Done: 2\n",
      "Done: 3\n",
      "Doing Political\n",
      "Doing Legal\n"
     ]
    }
   ],
   "source": [
    "DFC = pd.read_parquet(\"newbenef_classified_lv1.parquet.gzip\")\n",
    "CATs = list(DFC.category.unique())\n",
    "if \"subcategory\" not in DFC.columns:\n",
    "    DFC[\"subcategory\"] = None\n",
    "if \"confidence_lv2\" not in DFC.columns:\n",
    "    DFC[\"confidence_lv2\"] = None\n",
    "for CAT in CATs:\n",
    "    print(\"Doing\",CAT)\n",
    "    df = DFC[DFC.category == CAT]\n",
    "    DONE = list(df[~df.subcategory.isna()].name.unique())\n",
    "    df = df[~df.name.isin(DONE)]\n",
    "    subtechs = DICT[CAT] # classify_technology(CategoriesOfTechs)\n",
    "\n",
    "    newRisks = list(df.name)\n",
    "    RES = []\n",
    "    NChunks = 7\n",
    "\n",
    "    if len(newRisks):\n",
    "        newRisks = [str(x) for x in newRisks]\n",
    "        NB = len(newRisks)//NChunks + 2\n",
    "\n",
    "        for k in range(NB)[:NBCAP]:\n",
    "            try:\n",
    "                QUESTION =  \"The benefits are:\\n\\n* \"+\"\\n* \".join(newRisks[(k*NChunks):(k+1)*NChunks]) \n",
    "                prefix =\"benefits_\"\n",
    "                overwrite = True\n",
    "                REQ = {\n",
    "                    \"context\": \"Out the following list, classify the benefits from a high level perspective.\\n\\n\",\n",
    "                    \"question\": QUESTION,\n",
    "                    \"model\":\"gpt-3.5-turbo\",\n",
    "                    \"functions\": classify_benefit(subtechs),\n",
    "                    \"token\": TOK3N,\n",
    "                    \"overwrite\": overwrite,\n",
    "                    \"source\": \"local-evalBenefsT3.5\",\n",
    "                    \"seed\" : \"1\"\n",
    "                }\n",
    "\n",
    "                H = h.hashme(REQ[\"context\"]+REQ[\"question\"])\n",
    "                cached = \"cache/\"+prefix+\"_\"+H+\".json\"\n",
    "                if not os.path.isfile(cached) or overwrite:\n",
    "                    x = requests.post(URL+\"fct/\", json = REQ)\n",
    "                    answer = json.loads(x.text)[\"messages\"][-1]\n",
    "                    h.svt(cached,answer)\n",
    "                else:\n",
    "                    answer = h.ldt(cached)\n",
    "                d = pd.DataFrame(json.loads(answer[\"function_call\"][\"arguments\"])[\"sorted_benefits\"])\n",
    "                d = d [d[\"category\"].isin(subtechs)]\n",
    "                d.columns = [\"name\",\"subcategory\",\"confidence_lv2\"]\n",
    "                for ix, row in d.iterrows():\n",
    "                    DFC.loc[DFC.name == row[\"name\"], \"subcategory\"] = row[\"subcategory\"]\n",
    "                    DFC.loc[DFC.name == row[\"name\"], \"confidence_lv2\"] = row[\"confidence_lv2\"]\n",
    "                DFC = DFC.sort_values(by=[\"name\",\"category\"],ascending=True).drop_duplicates(subset=[\"name\"]).reset_index(drop=True)\n",
    "                DFC.to_parquet(\"newbenef_classified_lv1.parquet.gzip\",compression=\"gzip\") \n",
    "                print(\"Done:\",k)\n",
    "            except:\n",
    "                print(\"error\")\n",
    "                pass"
   ]
  },
  {
   "cell_type": "code",
   "execution_count": 74,
   "metadata": {},
   "outputs": [
    {
     "name": "stdout",
     "output_type": "stream",
     "text": [
      "1597 items listed\n"
     ]
    },
    {
     "data": {
      "text/plain": [
       "1579"
      ]
     },
     "execution_count": 74,
     "metadata": {},
     "output_type": "execute_result"
    }
   ],
   "source": [
    "DFC = pd.read_parquet(\"newbenef_classified_lv1.parquet.gzip\")\n",
    "print(len(DFC),\"items listed\")\n",
    "DFC.groupby([\"subcategory\"]).name.count().sum()"
   ]
  },
  {
   "cell_type": "code",
   "execution_count": 75,
   "metadata": {},
   "outputs": [
    {
     "name": "stdout",
     "output_type": "stream",
     "text": [
      "1597 items listed\n"
     ]
    },
    {
     "data": {
      "text/plain": [
       "category\n",
       "Economic    17\n",
       "Social       1\n",
       "Name: name, dtype: int64"
      ]
     },
     "execution_count": 75,
     "metadata": {},
     "output_type": "execute_result"
    }
   ],
   "source": [
    "DFC = pd.read_parquet(\"newbenef_classified_lv1.parquet.gzip\")\n",
    "print(len(DFC),\"items listed\")\n",
    "DFC[DFC.subcategory.isna()].groupby([\"category\"]).name.count()"
   ]
  },
  {
   "cell_type": "code",
   "execution_count": 71,
   "metadata": {},
   "outputs": [
    {
     "data": {
      "text/plain": [
       "array(['Comfort and reduced annoyance.',\n",
       "       'Private investors can benefit from increased property value and demand for buildings with isolation rooms, as it provides a sense of safety and security for residents.',\n",
       "       'Private investors can benefit from increased property value and demand for buildings with well-designed outdoor spaces, as it enhances the overall living experience and promotes a healthier lifestyle.',\n",
       "       'Private investors can benefit from increased property value and reduced energy costs for homeowners, leading to increased demand for energy-efficient buildings.',\n",
       "       'Private investors can benefit from increased property value as residents are willing to pay more for a healthier living environment.',\n",
       "       'Private investors can benefit from increased property values and demand for housing in areas with green infrastructure.',\n",
       "       'Private investors can benefit from increased property values and demand for housing in areas with resilient green infrastructure.',\n",
       "       'Private investors can benefit from increased property values and demand for housing in areas with well-maintained green spaces.',\n",
       "       'Private investors can benefit from increased property values and demand for housing in well-served areas.',\n",
       "       'Private investors can benefit from investing in adequate ventilation systems by creating safer healthcare environments, attracting more patients and healthcare providers, and potentially reducing the risk of legal liabilities.',\n",
       "       'Private investors can benefit from investing in air control measures as it can enhance the value of their properties by providing a healthier indoor environment.',\n",
       "       'Private investors can benefit from investing in air control measures as it can mitigate the risk of viral transmission and provide a safer environment for occupants, leading to higher occupancy rates and property values.',\n",
       "       'Private investors can benefit from investing in air quality improvement measures as it can lead to a decrease in the spread of covid-19, reducing the economic impact of the disease and improving the value of built assets in polluted areas.',\n",
       "       'Private investors can benefit from investing in circular economy initiatives as it aligns with environmental regulations and improves the image and reputation of their projects, attracting environmentally conscious clients and investors.',\n",
       "       'Private investors can benefit from investing in copper coating technology as it improves the value and safety of public spaces, attracting more visitors and tenants.',\n",
       "       'Private investors can benefit from investing in copper coating technology as it improves the value and safety of public spaces, reducing the risk of liability and potential shutdowns.',\n",
       "       'Private investors can benefit from investing in copper coating technology as it offers a cost-effective solution to enhance the value and longevity of existing infrastructure.',\n",
       "       'Private investors can benefit from investing in copper coating technology as it offers a fast and efficient solution to mitigate the spread of contagious diseases, reducing the risk of outbreaks and potential shutdowns.'],\n",
       "      dtype=object)"
      ]
     },
     "execution_count": 71,
     "metadata": {},
     "output_type": "execute_result"
    }
   ],
   "source": [
    "DFC[DFC.subcategory.isna()].name.unique()"
   ]
  }
 ],
 "metadata": {
  "kernelspec": {
   "display_name": "venv",
   "language": "python",
   "name": "python3"
  },
  "language_info": {
   "codemirror_mode": {
    "name": "ipython",
    "version": 3
   },
   "file_extension": ".py",
   "mimetype": "text/x-python",
   "name": "python",
   "nbconvert_exporter": "python",
   "pygments_lexer": "ipython3",
   "version": "3.10.12"
  },
  "vscode": {
   "interpreter": {
    "hash": "f79bc2406addd2c06911dc053b733d86c52c13481e10d53afee492d28d2db597"
   }
  }
 },
 "nbformat": 4,
 "nbformat_minor": 2
}
