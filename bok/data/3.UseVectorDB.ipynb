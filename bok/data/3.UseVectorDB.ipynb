{
 "cells": [
  {
   "cell_type": "code",
   "execution_count": 1,
   "metadata": {},
   "outputs": [
    {
     "name": "stdout",
     "output_type": "stream",
     "text": [
      "1.3.7\n",
      "CHECK: 6643 elements already stored.\n"
     ]
    }
   ],
   "source": [
    "from chat import *"
   ]
  },
  {
   "cell_type": "code",
   "execution_count": 3,
   "metadata": {},
   "outputs": [
    {
     "name": "stdout",
     "output_type": "stream",
     "text": [
      "b3b844470e240a50ff40a5ddc1a3f9ac\n"
     ]
    },
    {
     "data": {
      "text/plain": [
       "\"UV-C refers to ultraviolet germicidal radiation, which is a type of UV radiation with a wavelength of 100 to 280 nm. It is used for disinfection purposes, as it is effective in inactivating microorganisms by destroying their nucleic acids and disrupting their DNA, rendering them unable to perform their cellular functions. UV-C radiation is particularly germicidal and is used in a variety of applications, such as purifying air, water, and surfaces. UV-C radiation is most effective at a wavelength of 254 nm, and it is commonly used in clinical settings to inactivate infectious aerosols and reduce the ability of some viruses to survive. UV-C radiation is dangerous to people's eyes and skin, and it can accelerate the degradation of some materials, so direct exposure of humans and sensitive materials should be avoided. UV-C radiation is also used in upper-room fixtures containing UVGI lamps to provide a horizontal layer of UV energy field above the occupied zone, effectively inactivating bacteria that enter the upper irradiated zone.\""
      ]
     },
     "execution_count": 3,
     "metadata": {},
     "output_type": "execute_result"
    }
   ],
   "source": [
    "a, d = get_llm_response(\"What is UV-C ?\",vectordb,temperature=0.1,k=10)\n",
    "a"
   ]
  }
 ],
 "metadata": {
  "kernelspec": {
   "display_name": "venv",
   "language": "python",
   "name": "python3"
  },
  "language_info": {
   "codemirror_mode": {
    "name": "ipython",
    "version": 3
   },
   "file_extension": ".py",
   "mimetype": "text/x-python",
   "name": "python",
   "nbconvert_exporter": "python",
   "pygments_lexer": "ipython3",
   "version": "3.10.12"
  },
  "orig_nbformat": 4,
  "vscode": {
   "interpreter": {
    "hash": "f79bc2406addd2c06911dc053b733d86c52c13481e10d53afee492d28d2db597"
   }
  }
 },
 "nbformat": 4,
 "nbformat_minor": 2
}
