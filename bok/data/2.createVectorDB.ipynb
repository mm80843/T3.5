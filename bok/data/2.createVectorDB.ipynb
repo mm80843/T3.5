{
 "cells": [
  {
   "cell_type": "code",
   "execution_count": 1,
   "metadata": {},
   "outputs": [
    {
     "name": "stdout",
     "output_type": "stream",
     "text": [
      "1.3.7\n"
     ]
    }
   ],
   "source": [
    "import streamlit as st\n",
    "import langchain, os, openai, dotenv\n",
    "\n",
    "from langchain.embeddings.openai import OpenAIEmbeddings\n",
    "from langchain.embeddings import AzureOpenAIEmbeddings\n",
    "from langchain.chat_models import AzureChatOpenAI\n",
    "from langchain.schema import HumanMessage\n",
    "\n",
    "\n",
    "\n",
    "from langchain.text_splitter import CharacterTextSplitter\n",
    "from langchain.embeddings import OpenAIEmbeddings\n",
    "from langchain.chains.question_answering import load_qa_chain\n",
    "from langchain.chat_models import ChatOpenAI\n",
    "from langchain.vectorstores import Chroma\n",
    "\n",
    "import chromadb\n",
    "import dotenv, time\n",
    "\n",
    "import os, glob\n",
    "from pathlib import Path\n",
    "\n",
    "import warnings\n",
    "warnings.filterwarnings('ignore')\n",
    "\n",
    "print(openai.__version__)\n",
    "\n"
   ]
  },
  {
   "cell_type": "code",
   "execution_count": 2,
   "metadata": {},
   "outputs": [],
   "source": [
    "embeddings = AzureOpenAIEmbeddings(\n",
    "    deployment=os.getenv(\"OPENAI_DEPLOYMENT_NAME_EMBED\")\n",
    ")"
   ]
  },
  {
   "cell_type": "code",
   "execution_count": 3,
   "metadata": {},
   "outputs": [],
   "source": [
    "base_path = \"./vectorDB/\""
   ]
  },
  {
   "cell_type": "code",
   "execution_count": 4,
   "metadata": {},
   "outputs": [],
   "source": [
    "from langchain.document_loaders import DataFrameLoader\n",
    "import pandas as pd"
   ]
  },
  {
   "cell_type": "code",
   "execution_count": 5,
   "metadata": {},
   "outputs": [
    {
     "name": "stderr",
     "output_type": "stream",
     "text": [
      "Created a chunk of size 2014, which is longer than the specified 2000\n",
      "Created a chunk of size 2610, which is longer than the specified 2000\n",
      "Created a chunk of size 2120, which is longer than the specified 2000\n",
      "Created a chunk of size 2502, which is longer than the specified 2000\n",
      "Created a chunk of size 2064, which is longer than the specified 2000\n",
      "Created a chunk of size 2219, which is longer than the specified 2000\n",
      "Created a chunk of size 2257, which is longer than the specified 2000\n",
      "Created a chunk of size 2709, which is longer than the specified 2000\n",
      "Created a chunk of size 2264, which is longer than the specified 2000\n",
      "Created a chunk of size 3219, which is longer than the specified 2000\n",
      "Created a chunk of size 2281, which is longer than the specified 2000\n",
      "Created a chunk of size 2432, which is longer than the specified 2000\n",
      "Created a chunk of size 2108, which is longer than the specified 2000\n",
      "Created a chunk of size 2304, which is longer than the specified 2000\n",
      "Created a chunk of size 2349, which is longer than the specified 2000\n",
      "Created a chunk of size 2075, which is longer than the specified 2000\n",
      "Created a chunk of size 2133, which is longer than the specified 2000\n",
      "Created a chunk of size 3492, which is longer than the specified 2000\n",
      "Created a chunk of size 2172, which is longer than the specified 2000\n",
      "Created a chunk of size 3917, which is longer than the specified 2000\n",
      "Created a chunk of size 2098, which is longer than the specified 2000\n",
      "Created a chunk of size 2342, which is longer than the specified 2000\n"
     ]
    },
    {
     "name": "stdout",
     "output_type": "stream",
     "text": [
      "327\n"
     ]
    },
    {
     "name": "stderr",
     "output_type": "stream",
     "text": [
      "Created a chunk of size 2071, which is longer than the specified 2000\n",
      "Created a chunk of size 2865, which is longer than the specified 2000\n",
      "Created a chunk of size 2512, which is longer than the specified 2000\n",
      "Created a chunk of size 3283, which is longer than the specified 2000\n",
      "Created a chunk of size 2030, which is longer than the specified 2000\n",
      "Created a chunk of size 2902, which is longer than the specified 2000\n",
      "Created a chunk of size 2784, which is longer than the specified 2000\n",
      "Created a chunk of size 2803, which is longer than the specified 2000\n",
      "Created a chunk of size 2034, which is longer than the specified 2000\n",
      "Created a chunk of size 2061, which is longer than the specified 2000\n",
      "Created a chunk of size 2175, which is longer than the specified 2000\n",
      "Created a chunk of size 2002, which is longer than the specified 2000\n",
      "Created a chunk of size 2130, which is longer than the specified 2000\n",
      "Created a chunk of size 2097, which is longer than the specified 2000\n",
      "Created a chunk of size 2247, which is longer than the specified 2000\n",
      "Created a chunk of size 2353, which is longer than the specified 2000\n",
      "Created a chunk of size 2327, which is longer than the specified 2000\n",
      "Created a chunk of size 2737, which is longer than the specified 2000\n",
      "Created a chunk of size 2357, which is longer than the specified 2000\n",
      "Created a chunk of size 2632, which is longer than the specified 2000\n",
      "Created a chunk of size 2095, which is longer than the specified 2000\n",
      "Created a chunk of size 2120, which is longer than the specified 2000\n",
      "Created a chunk of size 2138, which is longer than the specified 2000\n",
      "Created a chunk of size 3633, which is longer than the specified 2000\n",
      "Created a chunk of size 2082, which is longer than the specified 2000\n",
      "Created a chunk of size 4888, which is longer than the specified 2000\n",
      "Created a chunk of size 2009, which is longer than the specified 2000\n",
      "Created a chunk of size 7457, which is longer than the specified 2000\n",
      "Created a chunk of size 3462, which is longer than the specified 2000\n",
      "Created a chunk of size 3122, which is longer than the specified 2000\n",
      "Created a chunk of size 2725, which is longer than the specified 2000\n",
      "Created a chunk of size 2270, which is longer than the specified 2000\n",
      "Created a chunk of size 2766, which is longer than the specified 2000\n",
      "Created a chunk of size 2286, which is longer than the specified 2000\n",
      "Created a chunk of size 2337, which is longer than the specified 2000\n",
      "Created a chunk of size 3300, which is longer than the specified 2000\n",
      "Created a chunk of size 3950, which is longer than the specified 2000\n",
      "Created a chunk of size 2269, which is longer than the specified 2000\n",
      "Created a chunk of size 2009, which is longer than the specified 2000\n",
      "Created a chunk of size 2307, which is longer than the specified 2000\n",
      "Created a chunk of size 3125, which is longer than the specified 2000\n",
      "Created a chunk of size 4009, which is longer than the specified 2000\n",
      "Created a chunk of size 2343, which is longer than the specified 2000\n",
      "Created a chunk of size 2038, which is longer than the specified 2000\n",
      "Created a chunk of size 2926, which is longer than the specified 2000\n",
      "Created a chunk of size 2286, which is longer than the specified 2000\n",
      "Created a chunk of size 3215, which is longer than the specified 2000\n",
      "Created a chunk of size 3233, which is longer than the specified 2000\n",
      "Created a chunk of size 2057, which is longer than the specified 2000\n",
      "Created a chunk of size 11062, which is longer than the specified 2000\n",
      "Created a chunk of size 2580, which is longer than the specified 2000\n",
      "Created a chunk of size 2784, which is longer than the specified 2000\n",
      "Created a chunk of size 11601, which is longer than the specified 2000\n",
      "Created a chunk of size 2160, which is longer than the specified 2000\n",
      "Created a chunk of size 2113, which is longer than the specified 2000\n",
      "Created a chunk of size 2288, which is longer than the specified 2000\n",
      "Created a chunk of size 2327, which is longer than the specified 2000\n",
      "Created a chunk of size 2208, which is longer than the specified 2000\n",
      "Created a chunk of size 2459, which is longer than the specified 2000\n",
      "Created a chunk of size 2269, which is longer than the specified 2000\n",
      "Created a chunk of size 2599, which is longer than the specified 2000\n",
      "Created a chunk of size 2867, which is longer than the specified 2000\n",
      "Created a chunk of size 2014, which is longer than the specified 2000\n",
      "Created a chunk of size 2039, which is longer than the specified 2000\n",
      "Created a chunk of size 2207, which is longer than the specified 2000\n",
      "Created a chunk of size 2676, which is longer than the specified 2000\n",
      "Created a chunk of size 3010, which is longer than the specified 2000\n",
      "Created a chunk of size 2107, which is longer than the specified 2000\n",
      "Created a chunk of size 2005, which is longer than the specified 2000\n",
      "Created a chunk of size 3317, which is longer than the specified 2000\n",
      "Created a chunk of size 2593, which is longer than the specified 2000\n"
     ]
    },
    {
     "name": "stdout",
     "output_type": "stream",
     "text": [
      "327 6706\n"
     ]
    }
   ],
   "source": [
    "df = pd.read_parquet(\"TEIs.parquet.gzip\")\n",
    "print(len(df))\n",
    "loader = DataFrameLoader(df[[\"article\",\"text\"]])\n",
    "documents = []\n",
    "documents.extend(loader.load())\n",
    "text_splitter = CharacterTextSplitter(separator='\\n',chunk_size=2000, chunk_overlap=100)\n",
    "chunked_documents = text_splitter.split_documents(documents)"
   ]
  },
  {
   "cell_type": "code",
   "execution_count": 9,
   "metadata": {},
   "outputs": [
    {
     "name": "stdout",
     "output_type": "stream",
     "text": [
      "327 6706\n"
     ]
    }
   ],
   "source": [
    "print(len(documents),len(chunked_documents))"
   ]
  },
  {
   "cell_type": "code",
   "execution_count": 8,
   "metadata": {},
   "outputs": [
    {
     "name": "stdout",
     "output_type": "stream",
     "text": [
      "Continue on the DB\n"
     ]
    },
    {
     "ename": "KeyboardInterrupt",
     "evalue": "",
     "output_type": "error",
     "traceback": [
      "\u001b[1;31m---------------------------------------------------------------------------\u001b[0m",
      "\u001b[1;31mKeyboardInterrupt\u001b[0m                         Traceback (most recent call last)",
      "Cell \u001b[1;32mIn[8], line 22\u001b[0m\n\u001b[0;32m     15\u001b[0m vectordb\u001b[38;5;241m.\u001b[39madd_documents(\n\u001b[0;32m     16\u001b[0m     documents\u001b[38;5;241m=\u001b[39m[doc], \n\u001b[0;32m     17\u001b[0m     embedding\u001b[38;5;241m=\u001b[39membeddings, \n\u001b[0;32m     18\u001b[0m     persist_directory\u001b[38;5;241m=\u001b[39mbase_path\n\u001b[0;32m     19\u001b[0m )\n\u001b[0;32m     20\u001b[0m \u001b[38;5;66;03m# Ugly hack to avoid reaching token per min limit \u001b[39;00m\n\u001b[0;32m     21\u001b[0m \u001b[38;5;66;03m# So it sleeps 1s between page\u001b[39;00m\n\u001b[1;32m---> 22\u001b[0m \u001b[43mtime\u001b[49m\u001b[38;5;241;43m.\u001b[39;49m\u001b[43msleep\u001b[49m\u001b[43m(\u001b[49m\u001b[38;5;241;43m0.2\u001b[39;49m\u001b[43m)\u001b[49m\n\u001b[0;32m     23\u001b[0m vectordb\u001b[38;5;241m.\u001b[39mpersist()\n",
      "\u001b[1;31mKeyboardInterrupt\u001b[0m: "
     ]
    }
   ],
   "source": [
    "if not os.path.isfile(base_path+\"chroma.sqlite3\"):\n",
    "    print(\"Start a new DB\")\n",
    "    vectordb = Chroma.from_documents(\n",
    "        documents=[chunked_documents[0]],\n",
    "        embedding=embeddings,\n",
    "        persist_directory=base_path\n",
    "    )\n",
    "    vectordb.persist()\n",
    "else:\n",
    "    print(\"Continue on the DB\")\n",
    "    vectordb = Chroma(persist_directory=base_path,embedding_function=embeddings)\n",
    "    print(len(len(vectordb.get()[\"ids\"])),\"elements already stored.\")\n",
    "    for doc in chunked_documents:\n",
    "        # Check if the text already exists somewhere\n",
    "        if not len(vectordb.get(where_document={\"$contains\":doc.page_content})[\"documents\"]):\n",
    "            vectordb.add_documents(\n",
    "                documents=[doc], \n",
    "                embedding=embeddings, \n",
    "                persist_directory=base_path\n",
    "            )\n",
    "            # Ugly hack to avoid reaching token per min limit \n",
    "            # So it sleeps 1s between page\n",
    "            time.sleep(0.2)\n",
    "            vectordb.persist()\n"
   ]
  },
  {
   "cell_type": "code",
   "execution_count": null,
   "metadata": {},
   "outputs": [],
   "source": [
    "def create_agent_chain(llm):\n",
    "    chain = load_qa_chain(llm, chain_type=\"stuff\")\n",
    "    return chain"
   ]
  },
  {
   "cell_type": "code",
   "execution_count": null,
   "metadata": {},
   "outputs": [],
   "source": [
    "def get_llm_response(query,vectordb,temperature=0.1,k=10):\n",
    "\n",
    "    llm = AzureChatOpenAI(\n",
    "        deployment_name=os.getenv(\"OPENAI_DEPLOYMENT_NAME\"),\n",
    "        temperature=temperature,\n",
    "        openai_api_version=\"2023-05-15\"\n",
    "    )\n",
    "    chain = create_agent_chain(llm)\n",
    "    matching_docs = vectordb.similarity_search(query,k)\n",
    "    answer = chain.run(input_documents=matching_docs, question=query)\n",
    "    return answer, matching_docs"
   ]
  },
  {
   "cell_type": "code",
   "execution_count": null,
   "metadata": {},
   "outputs": [],
   "source": [
    "answer, matching_docs = get_llm_response(\"What are the different vectors of contagious diseases in cities?\",vectordb,temperature=0.2,k=10)"
   ]
  },
  {
   "cell_type": "code",
   "execution_count": null,
   "metadata": {},
   "outputs": [
    {
     "name": "stdout",
     "output_type": "stream",
     "text": [
      "The text mentions several vectors of contagious diseases in cities, including:\n",
      "\n",
      "- Mosquitoes: Aedes aegypti and Aedes albopictus are urban mosquitoes that spread diseases such as dengue fever, Zika, and chikungunya. They proliferate in manmade containers like tires, pots, and water storage containers.\n",
      "\n",
      "- Triatomine bugs: These bugs transmit Chagas disease and are present in urban centers in Brazil due to rural-urban human migration.\n",
      "\n",
      "- Sandflies: Sandflies transmit diseases like leishmaniasis and can be found in urban communities in northwest Argentina.\n",
      "\n",
      "- Tsetse flies: Tsetse flies transmit diseases like human African trypanosomiasis (HAT) and are implicated in vector-borne diseases.\n",
      "\n",
      "- Fleas: Fleas can transmit diseases and are considered vectors in certain contexts.\n",
      "\n",
      "- Black flies: Black flies are also vectors of diseases in some regions.\n",
      "\n",
      "- Aquatic snails: Aquatic snails are implicated in the transmission of diseases like schistosomiasis.\n",
      "\n",
      "It's important to note that different diseases have different vectors, and the specific vectors can vary depending on the region and context.\n"
     ]
    }
   ],
   "source": [
    "print(answer)"
   ]
  },
  {
   "cell_type": "code",
   "execution_count": null,
   "metadata": {},
   "outputs": [
    {
     "data": {
      "text/plain": [
       "[Document(page_content='. Electric pumps installed as part of a rural electrification project in Brazil were found to be a risk factor for schistosomiasis spread\\n. The urban mosquitos Aedes aegypti and Aedes albopictus that spread dengue fever, Zika, and chikungunya proliferate in manmade containers, such as tyres, pots and water storage containers\\n. These vectors proliferate in long occupied urban spaces where impoverished people live in crowded conditions; major epidemics of dengue continue to occur in the Favelas of Latin America\\n.\\nThe exact ways in which urbanization and vector densities interact vary. Levy et al.\\nexplored changes in the built environment of a major city in Peru, and found that Chagas disease (influenced by housing quality) was most prevalent among older (and slightly more wealthy) sections of the city due to land tenure security, which drove residents to invest more in their housing and perpetuate Triatoma infestans colonies. Visceral leishmaniasis (VL), generally a rural zoonotic disease, has now spread to urban centers in Brazil through ruralurban human migration\\n. In contrast, models of malaria and dengue that account for climate and economic development have shown general decreases in distribution by 2050 due to increased socio-economic development trends, including better housing, piped water access, air conditioning, improved health outreach services and other factors\\n. This optimistic outlook may hide differential economic prosperity; whether such changes will occur among urban slum communities remains unclear.\\nPopulation movement and conflict\\nMigration, population growth and conflict will also continue to affect VBD', metadata={'article': 'bardosh_addressing_2017'}),\n",
       " Document(page_content='. A range of mosquitoes, sandflies, ticks, triatomine bugs, tsetse flies, fleas, black flies, aquatic snails, and other vectors are implicated. Many are zoonotic, or are at least influenced by livestock and wildlife populations. Their health consequences and disease ecologies are diverse, making generalizations difficult. However, most disproportionately impact people in tropical climates with inadequate access to health services, poor housing, weak governance structures, and socio-economic underdevelopment. While they can cause major epidemics that impact regional economic productivity, they also enact a quieter \"hidden\" endemic toll on local communities, perpetuating poverty, disability, malnutrition and social isolation.\\nOver the last two decades, major progress has been made in tackling the burden of VBDsfor example, with malaria\\nalthough progress has not been evenly distributed across the world, or across all diseases. Looking to the future, a spectrum of global challenges will influence, for better or worse, these epidemiological and programmatic trends. Understanding how this will occur, and with what consequences, needs to transcend simplistic perspectives to account for the complex interactions between hosts, pathogens, vectors, humans and environments. Emerging VBDs, such as Zika virus (ZIKV) and Chikungunya (CHIK), have recently infected millions. First identified in a rhesus monkey in 1947 along the shores of Lake Victoria, ZIKV has been linked to thousands of cases of microcephaly in Latin America and the Caribbean, and other neurological and developmental disorders in infants\\n. Other unknown infections will certainly emerge in the future; there are at least 500 known arthropod-borne viruses circulating in nature', metadata={'article': 'bardosh_addressing_2017'}),\n",
       " Document(page_content='. Among vector-borne diseases, the same species of mosquito is often transmitting multiple parasitic or viral diseases in overlapping locations. Well-known examples of this are anopheles vectors that transmit both malaria and lymphatic filariasis (LF)\\nand Aedes vectors that can transmit all four of yellow fever, dengue, chikungunya, and zika viruses. Triatomine bugs that transmit chagas disease and sand flies that transmit leishmaniasis are also simultaneously present, for example, in communities in northwest Argentina\\n.\\nCompartmentalized disease surveillance and reporting systems are accompanied by balkanized international networks of donor agencies and international organizations that concentrate fundraising, and even support research, on a single disease at a time (e.g. malaria, LF, HIV, schistosomiasis)such projects frequently become \"islands of success\" in a sea of inadequate access to even the most basic healthcare services. Even the broad category of neglected tropical diseases (NTDs) pays minimal attention to the pervasive co-infection that is revealed by the limited array of community studies clearly showing this phenomenon\\n.\\nTable 5 Trans-disciplinary research on landscape ecology and Chagas disease in Mexico', metadata={'article': 'bardosh_addressing_2017'}),\n",
       " Document(page_content='Background\\nCurrent urbanization patterns are having significant impacts on the epidemiology of vector-borne diseases (VBDs), particularly in the low-and middle-income world. A better understanding of urban typologies and monitoring of vulnerable populations will enable improved environmental management and targeted interventions.\\nObjective\\nTo explore global policy challenges and immediate and long-term approaches to address urban VBD risks.\\nNarrative\\nPoor urban communities are most vulnerable to VBDs. For example, the recent spread of Zika virus in low-and middle-income countries has been facilitated by urban crowding and poor housing in conjunction with a lack of running water, inadequate water storage, poor surface water drainage and waste management. The spike in Zika-related microcephaly cases concentrated in the poor and underdeveloped north-east of Brazil has been one of its most unfortunate outcomes. UN-Habitat, as the agency for sustainable urban development seeks to influence the growth of cities through improved urban planning and provision of appropriate infrastructure. It also has the tools and experience to enhance the capacity of local governments and communities in emergency contexts to upgrade basic services to reduce transmission of VBDs, compliment other medical interventions and facilitate surveillance and mosquito (and other vector) control.\\nPrevious experiences in mitigating epidemics show that community participation is critical. In particular, lessons can be drawn from decades of efforts to reduce the spread of the dengue virus. People are more likely to support control policies and adopt preventative measures when they are involved. Community outreach has also shown to have a positive impact on citizen cooperation and trust in authorities\\n.\\nOn a global level, the sustainable development agenda provides an opportunity to develop indicators and targets that show the importance of health as a precondition for sustainable development', metadata={'article': 'alabaster_global_2016'}),\n",
       " Document(page_content='Conclusion\\nAs a part of a long-term control strategy, there is a need to address the underlying urban poverty and its conditions that give rise to epidemics such as Zika and develop indicators and targets that show the importance of health as a precondition for and an outcome of policies to promote sustainable urban development. Taking a closer look at urban planning, the provision of basic infrastructure and housing design, and increasing infrastructure\\nSuggested citation: Alabaster GP. Global policy challenges for urban vector-borne disease risks. Can Comm Dis Rep 2016;42:203-4. https://doi.org/10.14745/ccdr.v42i10a05', metadata={'article': 'alabaster_global_2016'}),\n",
       " Document(page_content='.\\nMost VBDs can be transmitted by multiple species of vectors (Schistosoma mansoni is spread by 30 freshwater snail species and human African trypanosomiasis [HAT] by over 20 varieties of tsetse fly). While certain species certainly maintain a dominant role in disease ecology, vector distributions will be shaped by the ways that temperature and precipitation differentially influence vector physiology, preference for different hosts and biting rates\\n. Vector populations are influenced by rainfall, temperature and humidity that, in turn, influence land cover and land use. Stensgaard et al.\\npredicted significant decreases of S. mansoni in west and central Africa by 2080, with increases in eastern and southern Africa. Studies on malaria distribution have projected increased transmission at higher altitudesin the highlands of Africa, parts of Latin America and Southeast Asia\\n. More recent studies show increases in areas other than the highlands, depending on demographic, socio-economic and ecological factors\\n. Most studies reveal changes at the margin of current distributions, where non-immune populations present \"endemically unstable areas\", which will shift patterns of endemic/epidemic conditions\\n.\\nLand use, biodiversity and agricultural change\\nEcosystem disturbances to land and biodiversity will also influence VBDs. This includes global trends in deforestation, soil erosion, desertification, wetland degradation, and species extinctions\\n. Over 2.3 million square kilometers of primary forest have been cut down since 2000, and one in ten animals and plants are estimated to be extinct by 2050\\n. With a human population of 9.6 billion projected for 2050, new pressures are being put on natural resources, challenging current industrial and small-scale agricultural systems.', metadata={'article': 'bardosh_addressing_2017'}),\n",
       " Document(page_content='Conclusions\\nThe importance of resilient global health systems to deal with vector-borne infections, and indeed most other human health threats, is truly a matter of life and death. There is little doubt that the spectrum of social, environmental and climatic changes occurring simultaneously in the twenty-first century will impact the distribution and incidence of VBDs. The specifics of how, where, when and why this will occur will vary greatly by disease, region, locality and social group. Uncertainties remain high, and current modeling efforts offer only limited applicability for policy design and programmatic orientation. In summary, vectors and pathogens change and adapt much quicker than scientific knowledge and, as history has shown, the systems of public health governance that preclude effective response.\\nWhile this generalization may be true, there are important pathways to strengthen resilience and adaptation to future VBD scenarios. Through concrete examples, this paper has emphasized the importance of taking a community-based approach and discussed a wide range of issuesfrom local knowledge, multidisciplinarity, integrated strategies, community participation, social difference, co-infection, and institutional dynamicsthat should now be better incorporated. In light of the substantial commitments made at the Paris Agreement during the 2015 UN Climate Change Conference of the Parties (COP 21) and the renewed global movement to end poverty manifest in the Sustainable Development Goals (SDGs), now is the time to incorporate such an agenda within national adaptation policies and public health agendas. Doing so is paramount for the effective mitigation of future VBD spread in both urban and rural populations worldwide. Zika virus is stark reminder of this important need.', metadata={'article': 'bardosh_addressing_2017'}),\n",
       " Document(page_content=\"Migration, population growth and conflict will also continue to affect VBD\\n. In a world of flux, people, goods and vehicles are constantly in motion across borders and seas. Trade and travel translocate vectors and pathogens to new areas. According to the United Nations High Commission for Refugees, current geopolitical conflicts (in Syria, Yemen, Afghanistan, Iraq, South Sudan, Nigeria and elsewhere) have caused the highest number of internally displaced persons and refugees since the Second World War, estimated at 60 million. This number is unlikely to be reduced soon, as climate change (floods, storms, landslides, and sea level rises), desertification and population growth maintain insecurity and drive migration of so-called 'climate refugees'\\n.\\nNatural disasters and armed conflict disrupt existing medical services and outreach, while also contributing to landscape changes\\n. In Uganda, cattle restocking after decades of military conflict drove an epidemic of sleeping sickness in disease-free areas\\n. Outbreaks of cutaneous leishmaniasis have been reported in conflict regions of Afghanistan, among both civilians and army personnel\\n.\\nHuman movement between low-and high-risk areas is also important. In the Greater Mekong sub-Region, where artemisinin-resistant malaria has emerged, an extensive system of dams, planned in the region, are predicted to drive future migrations that will perpetuate malaria transmission\\n. Migration has been implicated in the spread of Chagas disease from Latin America into the United States, Spain and other nations\\n. Religious pilgrims have spread leishmaniasis\\n, while trade routes for domestic livestock have helped transmit RVF between the Horn of Africa and the Middle East\\n; the explosive spread of Chikungunya and Zika were both facilitated by the modern aviation network\\n.\\nBiological change and drug resistance\", metadata={'article': 'bardosh_addressing_2017'}),\n",
       " Document(page_content='. Droplet transmissions occur when a virus travels on a relatively larger respiratory droplet (>10 µm) that individuals exhale, sneeze, or cough when breathing or talking or through chief aerosolizations\\n. It is noted that one sneeze or cough in passages, corridors, or lobbies can emit many droplets (up to more than 38,000 droplets) at a velocity of between 50 miles per hour and 200 miles per hour. Each droplet carries millions of microbial particles\\n. Airborne transports are different from droplet transports. The droplet, after exiting into the air, travels small distances, ranging between 1-2 m before settling on surfaces, while the airborne transport persist in the air for a longer period and travels for a longer distance\\n. Figure\\nshows a diagram of airborne and droplet spread. transports are different from droplet transports. The droplet, after exiting into the air, travels small distances, ranging between 1-2 m before settling on surfaces, while the airborne transport persist in the air for a longer period and travels for a longer distance\\n. Figure\\nshows a diagram of airborne and droplet spread.\\nWaterborne Transmissions\\nInfections associated with water are categorized into four classes: water-related, water-based, water-washed, and water-borne infections\\n. A successful means for increasing contagious proxies to a big population proportion is waterborne transmission. There are various water-associated mechanisms of transmitting communicable infections. It is reported that huge amounts of enteric microbes can be released into the water environments through the discharge of the wastes of infected people (solid or liquid) into exposed watercourses\\n. Secondly, infectious particles from confined-to-bed infected people may play a role in the transmissions of waterborne infections because pathogens in contaminated clothing and bedding may also be released into waterways in the laundry activity course\\n.\\nSurface or Contract Transmission', metadata={'article': 'amran_review_2022'}),\n",
       " Document(page_content='From Valdez-Tah et al.\\nFrom the perspective of understanding immunology of infectious disease, there is a growing literature documenting the complex interactive responses of distinct pathogens in a common host\\n. Failure to take account of such interactions, whether they have negative or even positive consequences for the host, can lead to inadequate clinical care, incorrect assessment of the burden of disease at the community, district, and national levels, and erroneous epidemiological projections based on mathematical modeling of disease transmission. Furthermore, the emphasis of both malaria and lymphatic filariasis controlconsidered separatelyis currently focused on diagnosis and pharmacological treatment of infected human cases. If consideration were being given to the fact that the same vectors are transmitting both diseases, frequently in the same places, much more attention would be given to integrated vector managementan approach that remains relatively marginal in current global policy circles\\n. Furthermore, from the perspective of climate change projections, the more intricate ecosystem structures that are needed to describe risk of multiple VBDs are not appropriately tuned to realities that are likely to manifest themselves in the future. It is important that we base our understanding of disease patterns, and disease prioritization, on local epidemiological dynamics; Health and Demographic Surveillance Systems (HDSSs) show great promise to provide such actionable intelligence (Table\\n).\\nIn addition, the contemporary heavy focus on pharmacological interventions and simultaneous limited attention to environmental management could change considerably in response to disease reporting at the community level. In the Keiser et al.\\nstudy of coinfection noted in Table', metadata={'article': 'bardosh_addressing_2017'})]"
      ]
     },
     "execution_count": 121,
     "metadata": {},
     "output_type": "execute_result"
    }
   ],
   "source": [
    "matching_docs"
   ]
  }
 ],
 "metadata": {
  "kernelspec": {
   "display_name": ".venv",
   "language": "python",
   "name": "python3"
  },
  "language_info": {
   "codemirror_mode": {
    "name": "ipython",
    "version": 3
   },
   "file_extension": ".py",
   "mimetype": "text/x-python",
   "name": "python",
   "nbconvert_exporter": "python",
   "pygments_lexer": "ipython3",
   "version": "3.8.15"
  }
 },
 "nbformat": 4,
 "nbformat_minor": 2
}
