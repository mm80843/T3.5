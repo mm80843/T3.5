{
 "cells": [
  {
   "cell_type": "code",
   "execution_count": 41,
   "metadata": {},
   "outputs": [
    {
     "name": "stdout",
     "output_type": "stream",
     "text": [
      "1.3.7\n"
     ]
    }
   ],
   "source": [
    "import streamlit as st\n",
    "import langchain, os, openai, dotenv\n",
    "\n",
    "from langchain.embeddings.openai import OpenAIEmbeddings\n",
    "from langchain.embeddings import AzureOpenAIEmbeddings\n",
    "from langchain.chat_models import AzureChatOpenAI\n",
    "from langchain.schema import HumanMessage\n",
    "\n",
    "import datetime\n",
    "\n",
    "from langchain.text_splitter import CharacterTextSplitter\n",
    "from langchain.embeddings import OpenAIEmbeddings\n",
    "from langchain.chains.question_answering import load_qa_chain\n",
    "from langchain.chat_models import ChatOpenAI\n",
    "from langchain.vectorstores import Chroma\n",
    "\n",
    "import chromadb\n",
    "import dotenv, time\n",
    "\n",
    "import os, glob\n",
    "from pathlib import Path\n",
    "\n",
    "import warnings\n",
    "warnings.filterwarnings('ignore')\n",
    "\n",
    "print(openai.__version__)\n",
    "\n"
   ]
  },
  {
   "cell_type": "code",
   "execution_count": 2,
   "metadata": {},
   "outputs": [],
   "source": [
    "embeddings = AzureOpenAIEmbeddings(\n",
    "    deployment=os.getenv(\"OPENAI_DEPLOYMENT_NAME_EMBED\")\n",
    ")"
   ]
  },
  {
   "cell_type": "code",
   "execution_count": 3,
   "metadata": {},
   "outputs": [],
   "source": [
    "base_path = \"./vectorDB/\""
   ]
  },
  {
   "cell_type": "code",
   "execution_count": 4,
   "metadata": {},
   "outputs": [],
   "source": [
    "from langchain.document_loaders import DataFrameLoader\n",
    "import pandas as pd"
   ]
  },
  {
   "cell_type": "code",
   "execution_count": 5,
   "metadata": {},
   "outputs": [
    {
     "name": "stderr",
     "output_type": "stream",
     "text": [
      "Created a chunk of size 2014, which is longer than the specified 2000\n",
      "Created a chunk of size 2610, which is longer than the specified 2000\n",
      "Created a chunk of size 2120, which is longer than the specified 2000\n",
      "Created a chunk of size 2502, which is longer than the specified 2000\n",
      "Created a chunk of size 2064, which is longer than the specified 2000\n",
      "Created a chunk of size 2219, which is longer than the specified 2000\n",
      "Created a chunk of size 2257, which is longer than the specified 2000\n",
      "Created a chunk of size 2709, which is longer than the specified 2000\n"
     ]
    },
    {
     "name": "stdout",
     "output_type": "stream",
     "text": [
      "327\n"
     ]
    },
    {
     "name": "stderr",
     "output_type": "stream",
     "text": [
      "Created a chunk of size 2264, which is longer than the specified 2000\n",
      "Created a chunk of size 3219, which is longer than the specified 2000\n",
      "Created a chunk of size 2281, which is longer than the specified 2000\n",
      "Created a chunk of size 2432, which is longer than the specified 2000\n",
      "Created a chunk of size 2108, which is longer than the specified 2000\n",
      "Created a chunk of size 2304, which is longer than the specified 2000\n",
      "Created a chunk of size 2349, which is longer than the specified 2000\n",
      "Created a chunk of size 2075, which is longer than the specified 2000\n",
      "Created a chunk of size 2133, which is longer than the specified 2000\n",
      "Created a chunk of size 3492, which is longer than the specified 2000\n",
      "Created a chunk of size 2172, which is longer than the specified 2000\n",
      "Created a chunk of size 3917, which is longer than the specified 2000\n",
      "Created a chunk of size 2098, which is longer than the specified 2000\n",
      "Created a chunk of size 2342, which is longer than the specified 2000\n",
      "Created a chunk of size 2071, which is longer than the specified 2000\n",
      "Created a chunk of size 2865, which is longer than the specified 2000\n",
      "Created a chunk of size 2512, which is longer than the specified 2000\n",
      "Created a chunk of size 3283, which is longer than the specified 2000\n",
      "Created a chunk of size 2030, which is longer than the specified 2000\n",
      "Created a chunk of size 2902, which is longer than the specified 2000\n",
      "Created a chunk of size 2784, which is longer than the specified 2000\n",
      "Created a chunk of size 2803, which is longer than the specified 2000\n",
      "Created a chunk of size 2034, which is longer than the specified 2000\n",
      "Created a chunk of size 2061, which is longer than the specified 2000\n",
      "Created a chunk of size 2175, which is longer than the specified 2000\n",
      "Created a chunk of size 2002, which is longer than the specified 2000\n",
      "Created a chunk of size 2130, which is longer than the specified 2000\n",
      "Created a chunk of size 2097, which is longer than the specified 2000\n",
      "Created a chunk of size 2247, which is longer than the specified 2000\n",
      "Created a chunk of size 2353, which is longer than the specified 2000\n",
      "Created a chunk of size 2327, which is longer than the specified 2000\n",
      "Created a chunk of size 2737, which is longer than the specified 2000\n",
      "Created a chunk of size 2357, which is longer than the specified 2000\n",
      "Created a chunk of size 2632, which is longer than the specified 2000\n",
      "Created a chunk of size 2095, which is longer than the specified 2000\n",
      "Created a chunk of size 2120, which is longer than the specified 2000\n",
      "Created a chunk of size 2138, which is longer than the specified 2000\n",
      "Created a chunk of size 3633, which is longer than the specified 2000\n",
      "Created a chunk of size 2082, which is longer than the specified 2000\n",
      "Created a chunk of size 4888, which is longer than the specified 2000\n",
      "Created a chunk of size 2009, which is longer than the specified 2000\n",
      "Created a chunk of size 7457, which is longer than the specified 2000\n",
      "Created a chunk of size 3462, which is longer than the specified 2000\n",
      "Created a chunk of size 3122, which is longer than the specified 2000\n",
      "Created a chunk of size 2725, which is longer than the specified 2000\n",
      "Created a chunk of size 2270, which is longer than the specified 2000\n",
      "Created a chunk of size 2766, which is longer than the specified 2000\n",
      "Created a chunk of size 2286, which is longer than the specified 2000\n",
      "Created a chunk of size 2337, which is longer than the specified 2000\n",
      "Created a chunk of size 3300, which is longer than the specified 2000\n",
      "Created a chunk of size 3950, which is longer than the specified 2000\n",
      "Created a chunk of size 2269, which is longer than the specified 2000\n",
      "Created a chunk of size 2009, which is longer than the specified 2000\n",
      "Created a chunk of size 2307, which is longer than the specified 2000\n",
      "Created a chunk of size 3125, which is longer than the specified 2000\n",
      "Created a chunk of size 4009, which is longer than the specified 2000\n",
      "Created a chunk of size 2343, which is longer than the specified 2000\n",
      "Created a chunk of size 2038, which is longer than the specified 2000\n",
      "Created a chunk of size 2926, which is longer than the specified 2000\n",
      "Created a chunk of size 2286, which is longer than the specified 2000\n",
      "Created a chunk of size 3215, which is longer than the specified 2000\n",
      "Created a chunk of size 3233, which is longer than the specified 2000\n",
      "Created a chunk of size 2057, which is longer than the specified 2000\n",
      "Created a chunk of size 11062, which is longer than the specified 2000\n",
      "Created a chunk of size 2580, which is longer than the specified 2000\n",
      "Created a chunk of size 2784, which is longer than the specified 2000\n",
      "Created a chunk of size 11601, which is longer than the specified 2000\n",
      "Created a chunk of size 2160, which is longer than the specified 2000\n",
      "Created a chunk of size 2113, which is longer than the specified 2000\n",
      "Created a chunk of size 2288, which is longer than the specified 2000\n",
      "Created a chunk of size 2327, which is longer than the specified 2000\n",
      "Created a chunk of size 2208, which is longer than the specified 2000\n",
      "Created a chunk of size 2459, which is longer than the specified 2000\n",
      "Created a chunk of size 2269, which is longer than the specified 2000\n",
      "Created a chunk of size 2599, which is longer than the specified 2000\n",
      "Created a chunk of size 2867, which is longer than the specified 2000\n",
      "Created a chunk of size 2014, which is longer than the specified 2000\n",
      "Created a chunk of size 2039, which is longer than the specified 2000\n",
      "Created a chunk of size 2207, which is longer than the specified 2000\n",
      "Created a chunk of size 2676, which is longer than the specified 2000\n",
      "Created a chunk of size 3010, which is longer than the specified 2000\n",
      "Created a chunk of size 2107, which is longer than the specified 2000\n",
      "Created a chunk of size 2005, which is longer than the specified 2000\n",
      "Created a chunk of size 3317, which is longer than the specified 2000\n",
      "Created a chunk of size 2593, which is longer than the specified 2000\n"
     ]
    }
   ],
   "source": [
    "df = pd.read_parquet(\"TEIs.parquet.gzip\")\n",
    "print(len(df))\n",
    "loader = DataFrameLoader(df[[\"article\",\"text\"]])\n",
    "documents = []\n",
    "documents.extend(loader.load())\n",
    "text_splitter = CharacterTextSplitter(separator='\\n',chunk_size=2000, chunk_overlap=100)\n",
    "chunked_documents = text_splitter.split_documents(documents)"
   ]
  },
  {
   "cell_type": "code",
   "execution_count": 6,
   "metadata": {},
   "outputs": [
    {
     "name": "stdout",
     "output_type": "stream",
     "text": [
      "327 6706\n"
     ]
    }
   ],
   "source": [
    "print(len(documents),len(chunked_documents))"
   ]
  },
  {
   "cell_type": "code",
   "execution_count": 19,
   "metadata": {},
   "outputs": [],
   "source": [
    "chunked_documents.reverse()\n",
    "\n"
   ]
  },
  {
   "cell_type": "code",
   "execution_count": 23,
   "metadata": {},
   "outputs": [
    {
     "name": "stdout",
     "output_type": "stream",
     "text": [
      "Continue on the DB\n",
      "6643 elements already stored.\n"
     ]
    }
   ],
   "source": [
    "\n",
    "if not os.path.isfile(base_path+\"chroma.sqlite3\"):\n",
    "    print(\"Start a new DB\")\n",
    "    vectordb = Chroma.from_documents(\n",
    "        documents=[chunked_documents[0]],\n",
    "        embedding=embeddings,\n",
    "        persist_directory=base_path\n",
    "    )\n",
    "    vectordb.persist()\n",
    "else:\n",
    "    print(\"Continue on the DB\")\n",
    "    vectordb = Chroma(persist_directory=base_path,embedding_function=embeddings)\n",
    "    print(len(vectordb.get()[\"ids\"]),\"elements already stored.\")\n",
    "    LSDOCS = vectordb.get()[\"documents\"]\n",
    "\n",
    "    for doc in chunked_documents:\n",
    "        # Check if the text already exists somewhere\n",
    "        if not doc.page_content in LSDOCS:\n",
    "            vectordb.add_documents(\n",
    "                documents=[doc], \n",
    "                embedding=embeddings, \n",
    "                persist_directory=base_path\n",
    "            )\n",
    "            # Ugly hack to avoid reaching token per min limit \n",
    "            # So it sleeps 1s between page\n",
    "            time.sleep(0.2)\n",
    "            vectordb.persist()\n"
   ]
  },
  {
   "cell_type": "code",
   "execution_count": 24,
   "metadata": {},
   "outputs": [],
   "source": [
    "def create_agent_chain(llm):\n",
    "    chain = load_qa_chain(llm, chain_type=\"stuff\")\n",
    "    return chain"
   ]
  },
  {
   "cell_type": "code",
   "execution_count": 44,
   "metadata": {},
   "outputs": [],
   "source": [
    "def get_llm_response(query,vectordb,temperature=0.1,k=10):\n",
    "    F = datetime.datetime.now().strftime(\"%Y%m%d-%H%M%S\")\n",
    "    llm = AzureChatOpenAI(\n",
    "        deployment_name=os.getenv(\"OPENAI_DEPLOYMENT_NAME\"),\n",
    "        temperature=temperature,\n",
    "        openai_api_version=\"2023-05-15\"\n",
    "    )\n",
    "    chain = create_agent_chain(llm)\n",
    "    matching_docs = vectordb.similarity_search(query,k)\n",
    "    answer = chain.run(input_documents=matching_docs, question=query)\n",
    "\n",
    "    with open(\"cache/\"+F+\".md\",\"w\") as f:\n",
    "        f.write(\">Q:\\n\"+query + \"\\n\\n---\\n\\n>A:\\n\"+answer)\n",
    "    return answer, matching_docs"
   ]
  },
  {
   "cell_type": "code",
   "execution_count": 45,
   "metadata": {},
   "outputs": [
    {
     "name": "stdout",
     "output_type": "stream",
     "text": [
      "The different vectors of contagious diseases in cities include:\n",
      "\n",
      "1. Mosquitoes: Mosquitoes are the most common vectors of contagious diseases in urban areas. Species such as Aedes aegypti and Aedes albopictus are responsible for spreading diseases like dengue fever, Zika virus, chikungunya, and yellow fever. These mosquitoes breed in manmade containers like tires, pots, and water storage containers.\n",
      "\n",
      "2. Triatomine bugs: Triatomine bugs, also known as kissing bugs, transmit Chagas disease. They are commonly found in urban areas, especially in houses with poor housing quality and land tenure security.\n",
      "\n",
      "3. Ticks: Ticks are vectors for diseases like Lyme disease and tick-borne encephalitis. While they are more commonly associated with rural areas, ticks can also be found in urban parks and green spaces where they can come into contact with humans.\n",
      "\n",
      "4. Sandflies: Sandflies transmit diseases such as leishmaniasis. They are usually found in areas with poor sanitation and crowded living conditions, which are common in urban slums.\n",
      "\n",
      "5. Black flies: Black flies are vectors for diseases like onchocerciasis, also known as river blindness. They are typically found near bodies of water, including urban rivers and streams.\n",
      "\n",
      "6. Tsetse flies: Tsetse flies transmit African trypanosomiasis, also known as sleeping sickness. While they are more commonly found in rural areas, they can also be present in urban areas near livestock and wildlife populations.\n",
      "\n",
      "7. Fleas: Fleas can transmit diseases such as plague and murine typhus. They are commonly associated with rodents, which can be found in urban areas.\n",
      "\n",
      "8. Aquatic snails: Aquatic snails are vectors for diseases like schistosomiasis. They are found in bodies of water, including urban lakes, ponds, and canals.\n",
      "\n",
      "It's important to note that the prevalence and distribution of these vectors can vary depending on the specific city and its environmental conditions.\n"
     ]
    }
   ],
   "source": [
    "answer, matching_docs = get_llm_response(\"What are the different vectors of contagious diseases in cities? Be as detailed as possible.\",vectordb,temperature=0.2,k=10)\n",
    "print(answer)"
   ]
  },
  {
   "cell_type": "code",
   "execution_count": 46,
   "metadata": {},
   "outputs": [
    {
     "name": "stdout",
     "output_type": "stream",
     "text": [
      "- Tracking and tracing transmissions\n",
      "- Mass testing\n",
      "- Social distancing\n",
      "- Vaccine formulation\n",
      "- Strengthening public health and hygiene\n",
      "- Accumulating ample stocks\n",
      "- Planning pathogen testing drills\n",
      "- Mobilizing mass health workers\n",
      "- Adopting advanced monitoring systems (e-healthcare analytics)\n",
      "- Factors influencing PPE production, distribution, and usage\n",
      "- Automated intensive care setup\n",
      "- Patient handling protocols\n",
      "- Social and healthcare sustainability protocols\n",
      "- Circular healthcare business models\n",
      "- Medical reverse logistics\n",
      "- PPE reuse/disposal protocols\n",
      "- Non-conventional semi-automated medical facilities\n",
      "- Healthcare humanitarian logistics\n",
      "- Sustainable medical supply chains\n",
      "- Innovative governmental backup\n",
      "- Frequent hand hygiene (using alcohol-based hand sanitizer or washing hands with soap and water)\n",
      "- Practicing social distancing (maintaining a distance of at least 1 meter/3 feet from others)\n",
      "- Staying at home unless necessary to go out\n",
      "- Avoiding touching eyes, nose, and mouth without washing hands\n",
      "- Routine disinfection of frequently touched surfaces\n",
      "- Covering coughs and sneezes with a cloth, handkerchief, or tissue\n",
      "- Wearing masks around other people and ensuring proper disposal\n",
      "- Applying effective communication strategies\n",
      "- Providing adequate psychological services\n",
      "- Implementing health education using online platforms\n",
      "- Addressing social fear related to COVID-19\n",
      "- Recognizing and addressing stigma and discrimination\n",
      "- Implementing hospital protocols for effective management of health emergencies\n",
      "- Supplying healthcare professionals with adequate protective facilities\n",
      "- Providing appropriate information to attenuate anxiety and negative emotions\n",
      "- Identifying unmet needs and communicating with patients frequently\n",
      "- Implementing telephones helplines, Internet access, social networks, blogs, and forums to reduce social isolation and allow communication with loved ones\n",
      "- Improvising technological measures in the medical field\n",
      "- Developing effective and cost-effective healthcare strategies\n",
      "- Rigorous and continued social distancing\n",
      "- Involvement and collaboration of social scientists, epidemiologists, engineering specialists, psychologists, and social workers\n",
      "- Building trust and transparency between the public and healthcare authorities\n",
      "- Utilizing technologies such as information communication, artificial intelligence, machine learning, and supply chain management to assist in pandemic control and mitigation.\n"
     ]
    }
   ],
   "source": [
    "answer, matching_docs = get_llm_response(\"What are the main mitigation strategies against pandemics? Be as detailed as possible, and only answers with a bullet point list.\",vectordb,temperature=0.2,k=10)\n",
    "print(answer)"
   ]
  },
  {
   "cell_type": "code",
   "execution_count": 51,
   "metadata": {},
   "outputs": [
    {
     "name": "stdout",
     "output_type": "stream",
     "text": [
      "- Construction workers\n",
      "- Engineers and managers\n",
      "- Suppliers and subcontractors\n",
      "- Public agencies\n",
      "- Project team\n",
      "- Construction company\n",
      "- Owner\n",
      "- Aid donors\n",
      "- International aid networks\n",
      "- Legislative and regulatory arms of the state\n",
      "- Logistics organizations\n",
      "- Private health care sectors\n",
      "- Direct suppliers\n",
      "- Media\n",
      "- Social media\n",
      "- Local aid networks\n",
      "- Private insurance companies\n",
      "- Military and para-military forces\n",
      "- Government and inter-government organizations\n"
     ]
    }
   ],
   "source": [
    "answer, matching_docs = get_llm_response(\"What are the main stakeholders groups involved? Be as detailed as possible, and only answers with a bullet point list.\",vectordb,temperature=0.2,k=10)\n",
    "print(answer)"
   ]
  },
  {
   "cell_type": "code",
   "execution_count": 52,
   "metadata": {},
   "outputs": [
    {
     "name": "stdout",
     "output_type": "stream",
     "text": [
      "The main types of technology used to mitigate pandemic risks include:\n",
      "\n",
      "- Information communication technologies:\n",
      "  - Media and social media platforms for effective communication and dissemination of information to the public.\n",
      "  - Chatbots and apps for tracking infected individuals and providing real-time updates.\n",
      "  - Database systems for accumulating and analyzing SARS-CoV-2 related research.\n",
      "\n",
      "- Artificial Intelligence (AI) and Machine Learning (ML) technologies:\n",
      "  - Prediction models for outbreak forecasting.\n",
      "  - Diagnosis of diseases through scans and classification of medical data.\n",
      "  - Handling and analysis of big data related to patients.\n",
      "  - Assisting in treatments and developing personalized treatment plans.\n",
      "\n",
      "- Supply chain technologies:\n",
      "  - Optimization algorithms for efficient production and transportation of essential medical supplies.\n",
      "  - Adaptation of production lines to produce necessary medical equipment and supplies.\n",
      "\n",
      "- Work from home technologies:\n",
      "  - Remote collaboration tools and platforms for employees to work from home.\n",
      "  - Virtual meeting and communication tools for seamless remote communication.\n",
      "\n",
      "- Distance learning technologies:\n",
      "  - Online learning platforms and tools for remote education.\n",
      "  - Virtual classrooms and video conferencing tools for interactive remote learning.\n",
      "\n",
      "- Surveillance technologies:\n",
      "  - Monitoring and tracking systems to monitor the general public and identify potential outbreaks.\n",
      "  - Use of drones for surveillance and monitoring purposes.\n",
      "\n",
      "- Internet of Things (IoT) technologies:\n",
      "  - Automation of supply chain processes for efficient and contactless delivery of essential goods.\n",
      "  - Integration of IoT devices for real-time monitoring of health conditions and early detection of symptoms.\n",
      "\n",
      "- Drone technologies:\n",
      "  - Delivery of goods, samples, and medical supplies to remote or inaccessible areas.\n",
      "  - Surveillance and monitoring of public spaces.\n",
      "\n",
      "- Robotics technologies:\n",
      "  - Automation of healthcare facilities and processes.\n",
      "  - Use of robots for tasks such as disinfection, patient care, and assistance in medical procedures.\n",
      "\n",
      "- Telehealth technologies:\n",
      "  - Remote healthcare consultations and virtual healthcare services.\n",
      "  - Remote monitoring of patients' health conditions.\n",
      "\n",
      "- Cloud technologies:\n",
      "  - Storage and analysis of large amounts of data related to the pandemic.\n",
      "  - Scalable and accessible platforms for remote collaboration and data sharing.\n",
      "\n",
      "- Entertainment technologies:\n",
      "  - Online streaming platforms and digital entertainment options to keep people engaged and entertained at home.\n",
      "\n",
      "- Biometric technologies:\n",
      "  - Facial and iris recognition technologies as alternatives to traditional biometrics for identification and authentication.\n",
      "\n",
      "- Energy and utility monitoring technologies:\n",
      "  - Monitoring and analysis of energy and water usage patterns to optimize supply and redirect resources as needed.\n",
      "\n",
      "- Emerging technologies:\n",
      "  - Ongoing research and development of new technologies with potential applications in pandemic control, such as advanced AI, ML, IoT, and drone technologies.\n"
     ]
    }
   ],
   "source": [
    "answer, matching_docs = get_llm_response(\"What are the main types of technology used to mitigate pandemic risks? Be as detailed as possible, and only answers with a bullet point list.\",vectordb,temperature=0.2,k=10)\n",
    "print(answer)"
   ]
  }
 ],
 "metadata": {
  "kernelspec": {
   "display_name": "venv",
   "language": "python",
   "name": "python3"
  },
  "language_info": {
   "codemirror_mode": {
    "name": "ipython",
    "version": 3
   },
   "file_extension": ".py",
   "mimetype": "text/x-python",
   "name": "python",
   "nbconvert_exporter": "python",
   "pygments_lexer": "ipython3",
   "version": "3.10.12"
  },
  "vscode": {
   "interpreter": {
    "hash": "f79bc2406addd2c06911dc053b733d86c52c13481e10d53afee492d28d2db597"
   }
  }
 },
 "nbformat": 4,
 "nbformat_minor": 2
}
