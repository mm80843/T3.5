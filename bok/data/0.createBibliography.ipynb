{
 "cells": [
  {
   "cell_type": "code",
   "execution_count": 15,
   "metadata": {},
   "outputs": [
    {
     "name": "stdout",
     "output_type": "stream",
     "text": [
      "1.4.0\n"
     ]
    }
   ],
   "source": [
    "import bibtexparser\n",
    "from bibtexparser.bparser import BibTexParser\n",
    "import requests, json\n",
    "import os.path \n",
    "import os\n",
    "\n",
    "parser = BibTexParser()\n",
    "parser.common_strings = True\n",
    "\n",
    "print(bibtexparser.__version__)"
   ]
  },
  {
   "cell_type": "code",
   "execution_count": 16,
   "metadata": {},
   "outputs": [],
   "source": [
    "with open('../bibliography.bib') as bibtex_file:\n",
    "    bib_database = bibtexparser.load(bibtex_file,parser)"
   ]
  },
  {
   "cell_type": "code",
   "execution_count": null,
   "metadata": {},
   "outputs": [],
   "source": [
    "for k in bib_database.entries:\n",
    "    if \"doi\" in k.keys():\n",
    "        ID = k[\"ID\"]\n",
    "        DOI = k[\"doi\"]\n",
    "        fileName = \"cache_biblio/\"+ID+\".json\"\n",
    "        if not os.path.exists(fileName):\n",
    "            url = \"https://api.crossref.org/works/\"+DOI\n",
    "            try:\n",
    "                response = requests.get(url).json()\n",
    "            except:\n",
    "                response = {}\n",
    "\n",
    "            # Saving JSON\n",
    "            jsonFile = open(fileName, \"w\")\n",
    "            jsonFile.write( json.dumps(response) )\n",
    "            jsonFile.close()\n",
    "        else:\n",
    "            f = open (fileName, \"r\")\n",
    "            response = json.loads(f.read())\n",
    "            f.close()\n",
    "\n"
   ]
  }
 ],
 "metadata": {
  "kernelspec": {
   "display_name": "base",
   "language": "python",
   "name": "python3"
  },
  "language_info": {
   "codemirror_mode": {
    "name": "ipython",
    "version": 3
   },
   "file_extension": ".py",
   "mimetype": "text/x-python",
   "name": "python",
   "nbconvert_exporter": "python",
   "pygments_lexer": "ipython3",
   "version": "3.8.15"
  }
 },
 "nbformat": 4,
 "nbformat_minor": 2
}
