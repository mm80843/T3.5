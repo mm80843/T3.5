{
 "cells": [
  {
   "cell_type": "code",
   "execution_count": 1,
   "metadata": {},
   "outputs": [
    {
     "name": "stdout",
     "output_type": "stream",
     "text": [
      "0.40\n"
     ]
    }
   ],
   "source": [
    "import pandas as pd\n",
    "import os\n",
    "from owlready2 import *\n",
    "\n",
    "import owlready2\n",
    "print(owlready2.VERSION) ## Bugs when > 0.40 but works file at owlready2==0.40 "
   ]
  },
  {
   "cell_type": "code",
   "execution_count": 2,
   "metadata": {},
   "outputs": [],
   "source": [
    "onto = get_ontology(\"kg/new/pbn_t3_5.owl\").load()"
   ]
  },
  {
   "cell_type": "markdown",
   "metadata": {},
   "source": [
    "# Overview"
   ]
  },
  {
   "cell_type": "code",
   "execution_count": 3,
   "metadata": {},
   "outputs": [
    {
     "name": "stdout",
     "output_type": "stream",
     "text": [
      "\n",
      "# Overview\n",
      "\n",
      "*  _PBNThing_  --  19260 instances.\n",
      "*  _BenefReturn_  --  1606 instances.\n",
      "*  _Benef_  --  1409 instances.\n",
      "*  _Article_  --  376 instances.\n",
      "*  _Risk_  --  3418 instances.\n",
      "*  _ISO_Scale_  --  5 instances.\n",
      "*  _RiskHealth_  --  14 instances.\n",
      "*  _RiskType_  --  22 instances.\n",
      "*  _Stakeholder_  --  2640 instances.\n",
      "*  _Stakeholder_Type_  --  3 instances.\n",
      "*  _Technology_  --  3915 instances.\n",
      "*  _ISO_Impact_  --  24 instances.\n",
      "*  _ISO_Purpose_  --  18 instances.\n",
      "*  _Mitigation_  --  5295 instances.\n",
      "*  _BP_Enabler_  --  33 instances.\n",
      "*  _BP_Transmission_  --  12 instances.\n",
      "*  _Blueprint_  --  74 instances.\n",
      "*  _BP_Scale_  --  3 instances.\n",
      "*  _BP_Phase_  --  4 instances.\n",
      "*  _BP_Permanent_  --  4 instances.\n",
      "*  _BP_Type_  --  2 instances.\n",
      "*  _BP_Intervention_  --  40 instances.\n",
      "*  _BP_Category_  --  3 instances.\n",
      "*  _BP_Theme_  --  10 instances.\n",
      "*  _PBNCategory_  --  330 instances.\n",
      "*  _aBlueprint_  --  50 instances.\n",
      "\n",
      "# Details\n",
      "\n"
     ]
    }
   ],
   "source": [
    "debug = True\n",
    "if debug:\n",
    "    print(\"\\n# Overview\\n\")\n",
    "    for k in onto.classes():\n",
    "        if len(k.instances()):\n",
    "            print(\"* \",\"_\"+str(k).split(\".\")[-1]+\"_\",\" -- \",len(k.instances()), \"instances.\")\n",
    "    print(\"\\n# Details\\n\")\n",
    "    if 0:\n",
    "        for k in onto.classes():\n",
    "            K = str(k).split(\".\")[-1]\n",
    "            if K not in [\"Qid\",\"PBNThing\"]:\n",
    "                print(\"## \",K,\" -- \",len(k.instances()), \"instances.\")\n",
    "                for i in k.instances()[:2]: \n",
    "                    I = str(i).split(\".\")[-1]\n",
    "                    if K == \"Qid\":\n",
    "                        if len(i.has_Qid_alias) > 0:\n",
    "                            print(\"### \",I,\" -> \",i.has_Qid_alias[0])\n",
    "                        else:\n",
    "                            print(\"### \",I)\n",
    "                        for p in list(i.get_properties()):\n",
    "                            P = str(p).split(\".\")[-1]\n",
    "                            OBJ = \"onto.\"+str(I)+\".\"+str(P)\n",
    "                            if not P == \"label\":\n",
    "                                print(\"* \",\"pbn_t3_5.\"+str(I)+\".\"+str(P),\": \",eval(OBJ))\n",
    "                    else:\n",
    "                        print(\"### \",I,\" -> \",i.label[0])\n",
    "                        for p in list(i.get_properties()):\n",
    "                            P = str(p).split(\".\")[-1]\n",
    "                            OBJ = \"onto.\"+str(I)+\".\"+str(P)\n",
    "                            if not P == \"label\":\n",
    "                                print(\"* \",\"pbn_t3_5.\"+str(I)+\".\"+str(P),\": \",eval(OBJ))\n"
   ]
  },
  {
   "cell_type": "markdown",
   "metadata": {},
   "source": [
    "# Creating mardown files and excel"
   ]
  },
  {
   "cell_type": "code",
   "execution_count": 7,
   "metadata": {},
   "outputs": [],
   "source": [
    "def getNameLabel(x):\n",
    "    try :\n",
    "        b = x.label[0]\n",
    "    except:\n",
    "        b = str(x)\n",
    "    return b"
   ]
  },
  {
   "cell_type": "markdown",
   "metadata": {},
   "source": [
    "### Creating the rest"
   ]
  },
  {
   "cell_type": "code",
   "execution_count": 8,
   "metadata": {},
   "outputs": [
    {
     "name": "stdout",
     "output_type": "stream",
     "text": [
      "aBlueprint\n"
     ]
    }
   ],
   "source": [
    "LINK = \"https://github.com/mm80843/T3.5/blob/pages/\"\n",
    "CLASSES = []\n",
    "NAMECLASSES = []\n",
    "for k in onto.classes():\n",
    "    K = str(k).split(\".\")[-1]\n",
    "    if (K  in [\"aBlueprint\"]) and len(k.instances()):\n",
    "        ClassName = K\n",
    "        print(K)\n",
    "        NAMECLASSES.append(K)\n",
    "        CLASS = {}\n",
    "        PATH = \"./docs/\"+K+\"/\"\n",
    "        #PATH = '7.pages/'+K+\"/\"\n",
    "        if not os.path.isdir(PATH):\n",
    "            os.mkdir(PATH)\n",
    "        #print(\"## \",K,\" -- \",len(k.instances()), \"instances.\")\n",
    "        for i in k.instances(): \n",
    "            try:\n",
    "                I = str(i).split(\".\")[-1]\n",
    "                CLASS[i] = {}\n",
    "                CLASS[i][\"ID\"] = I\n",
    "                MD = \"[Home](https://github.com/mm80843/T3.5/blob/pages/index.md) >> Class: [\"+K+\"](https://github.com/mm80843/T3.5/tree/main/docs/\"+K+\"/index.md)\"+\" >> Individual ID:\"+i.get_name()+\" \\n\\n\"\n",
    "                MD += \"# __\"+i.label[0]+\"__\\n\\n\"\n",
    "                FILENAME = PATH+i.get_name()+\".md\"\n",
    "                A = list(i.get_properties())\n",
    "                A.sort(key=lambda x: getNameLabel(x))\n",
    "                for p in A:\n",
    "                    P = str(p).split(\".\")[-1]\n",
    "                    OBJ = \"onto.\"+str(I)+\".\"+str(P)\n",
    "                    OB = eval(OBJ)\n",
    "                    E = eval(OBJ)[0]\n",
    "                    #print(I,A)\n",
    "                    if not (OB == [onto.nan]):\n",
    "                        if not P == \"label\":\n",
    "                            if not p.label:\n",
    "                                MD += \"## Property: \"+P+\"\\n\\n\"\n",
    "                            else:\n",
    "                                MD += \"## \"+str(p.label[0])+\"\\n\\n\"\n",
    "                                \n",
    "\n",
    "                            E = eval(OBJ)[0]\n",
    "\n",
    "                                                        \n",
    "                            if type(E) is str:\n",
    "                                MD += E + \"\\n\\n\"\n",
    "                                CLASS[i][P] = E\n",
    "                            else:\n",
    "\n",
    "                                A = [x.get_name() for x in eval(OBJ)]\n",
    "\n",
    "                                if \"_\" in str(A[0]):\n",
    "                                    XX = x.split(\"PBN__\")[1].split(\"_\")\n",
    "                                    XX = \"_\".join(XX[:-1])\n",
    "                                    A = [LINK+XX+\"/\"+x+\".md\" for x in A]\n",
    "                                    #print(str(A[0]),A)\n",
    "                                else:                                \n",
    "                                    A = [LINK+\"/Qid/\"+x+\".md\" for x in A]\n",
    "                                #print(A,eval(OBJ))\n",
    "                                if (OB[0].is_instance_of[0] == onto.Qid):\n",
    "                                    B = [() for x in eval(OBJ)]\n",
    "                                else:\n",
    "                                    B = [x.label[0] for x in eval(OBJ)]\n",
    "                                B.sort(key=lambda x: getNameLabel(x))\n",
    "                                for k in range(len(A)):\n",
    "                                    if not B[k] == \"Nan\":\n",
    "                                        if not \"-----\" in B[k]:\n",
    "                                            MD += \"* [\"+B[k]+\"](\"+A[k]+\")\\n\"\n",
    "                                MD += \"\\n\"\n",
    "                                CLASS[i][P] = [str(x) for x in B]\n",
    "\n",
    "                            CLASS[i][\"NAME\"] = E\n",
    "                            CLASS[i][\"PBNTYPE\"] = ClassName                                \n",
    "                        else:\n",
    "                            E = eval(OBJ)[0]\n",
    "                            CLASS[i][\"NAME\"] = E\n",
    "                            CLASS[i][\"PBNTYPE\"] = ClassName\n",
    "                #print(MD)\n",
    "                with open(FILENAME,\"w\",encoding=\"utf-8\") as f:\n",
    "                    f.write(MD)\n",
    "                print(FILENAME,\"-- dONE\")\n",
    "            except:\n",
    "                pass\n",
    "        CLASSES.append(CLASS)"
   ]
  },
  {
   "cell_type": "code",
   "execution_count": 9,
   "metadata": {},
   "outputs": [
    {
     "name": "stdout",
     "output_type": "stream",
     "text": [
      "BenefReturn\n",
      "Benef\n",
      "Article\n",
      "Risk\n",
      "ISO_Scale\n",
      "RiskHealth\n",
      "RiskType\n",
      "Stakeholder\n",
      "Stakeholder_Type\n",
      "Technology\n",
      "ISO_Impact\n",
      "ISO_Purpose\n",
      "Mitigation\n",
      "BP_Enabler\n",
      "BP_Transmission\n",
      "Blueprint\n",
      "BP_Scale\n",
      "BP_Phase\n",
      "BP_Permanent\n",
      "BP_Type\n",
      "BP_Intervention\n",
      "BP_Category\n",
      "BP_Theme\n",
      "PBNCategory\n",
      "aBlueprint\n"
     ]
    }
   ],
   "source": [
    "LINK = \"https://github.com/mm80843/T3.5/blob/pages/\"\n",
    "CLASSES = []\n",
    "NAMECLASSES = []\n",
    "for k in onto.classes():\n",
    "    K = str(k).split(\".\")[-1]\n",
    "    if (K not in [\"Qid\",\"PBNThing\"]) and len(k.instances()):\n",
    "        ClassName = K\n",
    "        print(K)\n",
    "        NAMECLASSES.append(K)\n",
    "        CLASS = {}\n",
    "        PATH = \"./docs/\"+K+\"/\"\n",
    "        #PATH = '7.pages/'+K+\"/\"\n",
    "        if not os.path.isdir(PATH):\n",
    "            os.mkdir(PATH)\n",
    "        #print(\"## \",K,\" -- \",len(k.instances()), \"instances.\")\n",
    "        for i in k.instances(): \n",
    "            try:\n",
    "                I = str(i).split(\".\")[-1]\n",
    "                CLASS[i] = {}\n",
    "                CLASS[i][\"ID\"] = I\n",
    "                MD = \"[Home](https://github.com/mm80843/T3.5/blob/pages/index.md) >> Class: [\"+K+\"](https://github.com/mm80843/T3.5/tree/main/docs/\"+K+\"/index.md)\"+\" >> Individual ID:\"+i.get_name()+\" \\n\\n\"\n",
    "                MD += \"# __\"+i.label[0]+\"__\\n\\n\"\n",
    "                FILENAME = PATH+i.get_name()+\".md\"\n",
    "                A = list(i.get_properties())\n",
    "                A.sort(key=lambda x: getNameLabel(x))\n",
    "                for p in A:\n",
    "                    P = str(p).split(\".\")[-1]\n",
    "                    OBJ = \"onto.\"+str(I)+\".\"+str(P)\n",
    "                    OB = eval(OBJ)\n",
    "                    E = eval(OBJ)[0]\n",
    "                    if not (OB == [onto.nan]):\n",
    "                        if not P == \"label\":\n",
    "                            if not p.label:\n",
    "                                MD += \"## Property: \"+P+\"\\n\\n\"\n",
    "                            else:\n",
    "                                MD += \"## \"+str(p.label[0])+\"\\n\\n\"\n",
    "                                \n",
    "\n",
    "                            E = eval(OBJ)[0]\n",
    "\n",
    "                                                        \n",
    "                            if type(E) is str:\n",
    "                                MD += E + \"\\n\\n\"\n",
    "                                CLASS[i][P] = E\n",
    "                            else:\n",
    "\n",
    "                                A = [x.get_name() for x in eval(OBJ)]\n",
    "                                if \"_\" in str(A[0]):\n",
    "                                    A = [LINK+x.split(\"PBN__\")[1].split(\"_\")[0]+\"/\"+x+\".md\" for x in A]\n",
    "                                    #print(str(A[0]),A)\n",
    "                                else:                           \n",
    "                                    A = [LINK+\"/Qid/\"+x+\".md\" for x in A]\n",
    "                                #print(A,eval(OBJ))\n",
    "                                if (OB[0].is_instance_of[0] == onto.Qid):\n",
    "                                    B = [() for x in eval(OBJ)]\n",
    "                                else:\n",
    "                                    B = [x.label[0] for x in eval(OBJ)]\n",
    "                                B.sort(key=lambda x: getNameLabel(x))\n",
    "                                for k in range(len(A)):\n",
    "                                    if not B[k] == \"Nan\":\n",
    "                                        if not \"-----\" in B[k]:\n",
    "                                            MD += \"* [\"+B[k]+\"](\"+A[k]+\")\\n\"\n",
    "                                MD += \"\\n\"\n",
    "                                CLASS[i][P] = [str(x) for x in B]\n",
    "\n",
    "                            CLASS[i][\"NAME\"] = E\n",
    "                            CLASS[i][\"PBNTYPE\"] = ClassName                                \n",
    "                        else:\n",
    "                            E = eval(OBJ)[0]\n",
    "                            CLASS[i][\"NAME\"] = E\n",
    "                            CLASS[i][\"PBNTYPE\"] = ClassName\n",
    "                #print(MD)\n",
    "                with open(FILENAME,\"w\",encoding=\"utf-8\") as f:\n",
    "                    f.write(MD)\n",
    "                #print(FILENAME,\"done\")\n",
    "            except:\n",
    "                pass\n",
    "        CLASSES.append(CLASS)"
   ]
  },
  {
   "cell_type": "code",
   "execution_count": 10,
   "metadata": {},
   "outputs": [
    {
     "data": {
      "text/plain": [
       "\"[Home](https://github.com/mm80843/T3.5/blob/pages/index.md) >> Class: [aBlueprint](https://github.com/mm80843/T3.5/tree/main/docs/aBlueprint/index.md) >> Individual ID:PBN__aBlueprint_49 \\n\\n# __Implementing Disease Surveillance and Resilience Measures__\\n\\n## 0. Blueprints points to this category of risks\\n\\n* [The hidden and unnoticed occurrence of covid-19 instances contributes to the silent spread of the virus.](https://github.com/mm80843/T3.5/blob/pages/PBNCategory/PBN__PBNCategory_99.md)\\n\\n## 1. Summary of the blueprint\\n\\n* The Blueprint is designed to address the risks and challenges associated with the spread and management of contagious diseases specifically within green building neighbourhoods - a growing trend that aims to host a healthy living and working environment. In these neighbourhoods, the impact of such diseases could be amplified due to factors like interconnectedness and visibility. Furthermore, in the light of increasing globalization and travel, the risk of importation and introduction of new cases leaves these communities particularly vulnerable. \\n\\n* The risks in these neighbourhoods primarily revolve around a domino effect of disruptions that one incident can trigger, coupled with difficulties in timely identification of cases, and the high number of undetected cases, including asymptomatic ones, which poses challenges for surveillance and containment efforts. In addition, there is a lack of sufficient monitoring of asymptomatic and unreported cases, perpetuating the spread of the disease. Under-reporting of cases and instances of reinfections further compounds the problem, intensifying concerns about the duration and effectiveness of immunity.\\n\\n* The Blueprint leverages varied mitigation measures to counter the contagion. These include the implementation of comprehensive testing and reporting strategies, strengthening of surveillance systems to detect and treat asymptomatic cases, an augmentation of testing capacities, and resorting to alternative surveillance methods. To ensure system resilience, there is a need to diversify dependencies and establish robust backup systems, identifying dependencies and inter-dependencies.\\n\\n* The benefits of implementing this mitigation Blueprint are significant. These include a reduction in importation of cases consequently leading to reduced disease spread. It enables the creation of a robust frontline defence in green building neighbourhoods against the spread of contagious diseases to make these sustainable communities resilient. This not only aids in the creation of a healthy living environment but also serves as an example of proactive preparedness and response to infectious diseases.\\n\\n## 2. Details of the blueprint\\n\\n* The Blueprint is a strategic toolkit designed as an effective defense against the propagation of contagious diseases in green building neighborhoods. The implementation of the Blueprint involves enhancing thorough testing and reporting systems, fortifying active surveillance mechanisms for asymptomatic cases, extending testing capacities, and developing unconventional surveillance methods. Essentially, the goal is to augment system resilience, diversify dependencies, and construct comprehensive backup systems. This approach, coupled with efficient communication channels between healthcare providers and public health authorities, can contribute significantly to containing disease spread in such settings.\\n \\n* The main entities empowered to implement this Blueprint are Healthcare organizations, Critical infrastructure operators, Businesses, Public health authorities, and Government agencies.\\n\\n* 'Neighbourhood'\\n\\n* The risks outlined in the Blueprint primarily pertain to the heightened potential for disease spread in interconnected communities like green building neighbourhoods. These risks include cascading disruptions where one incident sets off a chain of further disruptions, challenges in timely case identification and handling, and the reality of a significant number of undetected cases, including asymptomatic ones. The latter contributes to insufficient surveillance and containment efforts, under-recording of cases, and uncertainties regarding the duration and effectiveness of immunity after infection and recovery.\\n\\n## 3. Blueprint impacts these stakeholders\\n\\n* [Businesses](https://github.com/mm80843/T3.5/blob/pages/Stakeholder/PBN__Stakeholder_68.md)\\n* [Critical infrastructure operators](https://github.com/mm80843/T3.5/blob/pages/Stakeholder/PBN__Stakeholder_9.md)\\n* [General population](https://github.com/mm80843/T3.5/blob/pages/Stakeholder/PBN__Stakeholder_29.md)\\n* [General public](https://github.com/mm80843/T3.5/blob/pages/Stakeholder/PBN__Stakeholder_147.md)\\n* [Healthcare workers](https://github.com/mm80843/T3.5/blob/pages/Stakeholder/PBN__Stakeholder_273.md)\\n\\n## 4. Blueprint links to these mitigations\\n\\n* [Enhance system resilience, diversify dependencies, and establish backup systems](https://github.com/mm80843/T3.5/blob/pages/Mitigation/PBN__Mitigation_2298.md)\\n* [Identifying dependencies and interdependencies](https://github.com/mm80843/T3.5/blob/pages/Mitigation/PBN__Mitigation_2898.md)\\n* [Implement comprehensive testing and reporting strategies, improve data collection and analysis systems, and strengthen communication channels between healthcare providers and public health authorities.](https://github.com/mm80843/T3.5/blob/pages/Mitigation/PBN__Mitigation_1861.md)\\n* [Increase testing capacity and use alternative surveillance methods such as sewage surveillance](https://github.com/mm80843/T3.5/blob/pages/Mitigation/PBN__Mitigation_2830.md)\\n* [Strengthen surveillance systems to actively detect and treat asymptomatic and unreported cases](https://github.com/mm80843/T3.5/blob/pages/Mitigation/PBN__Mitigation_645.md)\\n\\n## 6. Blueprint links to these benefits\\n\\n* [Reduced disease spread](https://github.com/mm80843/T3.5/blob/pages/Benef/PBN__Benef_549.md)\\n* [Reduced importation of cases](https://github.com/mm80843/T3.5/blob/pages/Benef/PBN__Benef_958.md)\\n* [Reduced spread](https://github.com/mm80843/T3.5/blob/pages/Benef/PBN__Benef_1194.md)\\n\\n## 7. Blueprint links to these technology\\n\\n* [Border control](https://github.com/mm80843/T3.5/blob/pages/Technology/PBN__Technology_22.md)\\n* [Border control measures](https://github.com/mm80843/T3.5/blob/pages/Technology/PBN__Technology_3488.md)\\n* [Border controls](https://github.com/mm80843/T3.5/blob/pages/Technology/PBN__Technology_2297.md)\\n* [Travel bans](https://github.com/mm80843/T3.5/blob/pages/Technology/PBN__Technology_2485.md)\\n* [Travel management systems](https://github.com/mm80843/T3.5/blob/pages/Technology/PBN__Technology_2969.md)\\n* [Travel monitoring](https://github.com/mm80843/T3.5/blob/pages/Technology/PBN__Technology_3024.md)\\n* [Travel policies](https://github.com/mm80843/T3.5/blob/pages/Technology/PBN__Technology_3413.md)\\n* [Travel regulations](https://github.com/mm80843/T3.5/blob/pages/Technology/PBN__Technology_3414.md)\\n* [Travel tracking and monitoring systems](https://github.com/mm80843/T3.5/blob/pages/Technology/PBN__Technology_3415.md)\\n\\n## This stakeholders can act on the following general blueprint(s)\\n\\n* [Businesses](https://github.com/mm80843/T3.5/blob/pages/Stakeholder/PBN__Stakeholder_0.md)\\n* [Critical infrastructure operators](https://github.com/mm80843/T3.5/blob/pages/Stakeholder/PBN__Stakeholder_216.md)\\n* [Government agencies](https://github.com/mm80843/T3.5/blob/pages/Stakeholder/PBN__Stakeholder_55.md)\\n* [Healthcare organizations](https://github.com/mm80843/T3.5/blob/pages/Stakeholder/PBN__Stakeholder_147.md)\\n* [Public health authorities](https://github.com/mm80843/T3.5/blob/pages/Stakeholder/PBN__Stakeholder_273.md)\\n\\n\""
      ]
     },
     "execution_count": 10,
     "metadata": {},
     "output_type": "execute_result"
    }
   ],
   "source": [
    "MD"
   ]
  },
  {
   "cell_type": "code",
   "execution_count": 11,
   "metadata": {},
   "outputs": [
    {
     "data": {
      "text/plain": [
       "('aBlueprint', 'aBlueprint')"
      ]
     },
     "execution_count": 11,
     "metadata": {},
     "output_type": "execute_result"
    }
   ],
   "source": [
    "str(i.is_instance_of[0]).split(\".\")[-1],ClassName"
   ]
  },
  {
   "cell_type": "markdown",
   "metadata": {},
   "source": [
    "# Creating the excel of the KG"
   ]
  },
  {
   "cell_type": "code",
   "execution_count": 12,
   "metadata": {},
   "outputs": [],
   "source": [
    "if 0:\n",
    "    ALLDFs = []\n",
    "    for  k in range(len(CLASSES)):\n",
    "        D = pd.DataFrame(CLASSES[k]).T\n",
    "        if len(D):\n",
    "            D = D.convert_dtypes()\n",
    "            C = list(D.columns)\n",
    "            if len(C):\n",
    "                DT = D.dtypes\n",
    "                for x in range(len(DT)):\n",
    "                    if DT[x] == \"object\":\n",
    "                        if C[x] not in [ \"has_TechSource\"\t,\"has_TechGroup\",\t\"has_TechSubgroup\",\"has_BenefInArticle\"\t,\"has_RiskInArticle\",\t\"has_SourceMitigation\"\t,\"has_SourceTech\",\"has_BenefitForPeople\",\"has_Closest\",  \"has_SubjectRisk\", \"has_RiskOwner\" , \"has_RiskSource\", \"has_RiskHealth\",\"has_RiskISO_Purpose\",\"has_RiskISO_Impact\",\"has_RiskType\",\"has_RiskGBN\"]:\n",
    "                            D = D.explode(C[x])\n",
    "                D = D.convert_dtypes()\n",
    "                CC = [x for x in C if x not in [\"ID\",\"NAME\",\"PBNTYPE\"]]\n",
    "                CC = [\"PBNTYPE\",\"ID\",\"NAME\"] + CC\n",
    "                print(k,list(D.columns),list(CC))\n",
    "                D = D[CC]\n",
    "                ALLDFs.append(D)\n",
    "    # Sheets\n",
    "    i = 0\n",
    "    for OneSheet in ALLDFs:\n",
    "        title = OneSheet.iloc[0].PBNTYPE\n",
    "        print(i,title,len(OneSheet))\n",
    "        i += 1\n",
    "        \n",
    "    with pd.ExcelWriter(\"outputs/pbn_t3_5.xlsx\") as writer:\n",
    "        i = 0\n",
    "        for OneSheet in ALLDFs:\n",
    "            title = OneSheet.iloc[0].PBNTYPE\n",
    "            print(i,title,len(OneSheet))\n",
    "            i += 1\n",
    "            OneSheet[:(1048576-1)].to_excel(writer, sheet_name=title, index=False, engine=\"xlsxwriter\")\n",
    "            print(\"... done.\")\n"
   ]
  },
  {
   "cell_type": "markdown",
   "metadata": {},
   "source": [
    "# Creating  index"
   ]
  },
  {
   "cell_type": "markdown",
   "metadata": {},
   "source": [
    "### Creating general indexes"
   ]
  },
  {
   "cell_type": "code",
   "execution_count": 13,
   "metadata": {},
   "outputs": [
    {
     "name": "stdout",
     "output_type": "stream",
     "text": [
      "# Overview\n",
      "\n",
      "* _[aBlueprint](https://github.com/mm80843/T3.5/blob/pages/aBlueprint/index.md)_ -- 50 instances.\n",
      "* _[Article](https://github.com/mm80843/T3.5/blob/pages/Article/index.md)_ -- 376 instances.\n",
      "* _[Benef](https://github.com/mm80843/T3.5/blob/pages/Benef/index.md)_ -- 1409 instances.\n",
      "* _[BenefReturn](https://github.com/mm80843/T3.5/blob/pages/BenefReturn/index.md)_ -- 1606 instances.\n",
      "* _[Blueprint](https://github.com/mm80843/T3.5/blob/pages/Blueprint/index.md)_ -- 74 instances.\n",
      "* _[BP_Category](https://github.com/mm80843/T3.5/blob/pages/BP_Category/index.md)_ -- 3 instances.\n",
      "* _[BP_Enabler](https://github.com/mm80843/T3.5/blob/pages/BP_Enabler/index.md)_ -- 33 instances.\n",
      "* _[BP_Intervention](https://github.com/mm80843/T3.5/blob/pages/BP_Intervention/index.md)_ -- 40 instances.\n",
      "* _[BP_Permanent](https://github.com/mm80843/T3.5/blob/pages/BP_Permanent/index.md)_ -- 4 instances.\n",
      "* _[BP_Phase](https://github.com/mm80843/T3.5/blob/pages/BP_Phase/index.md)_ -- 4 instances.\n",
      "* _[BP_Scale](https://github.com/mm80843/T3.5/blob/pages/BP_Scale/index.md)_ -- 3 instances.\n",
      "* _[BP_Theme](https://github.com/mm80843/T3.5/blob/pages/BP_Theme/index.md)_ -- 10 instances.\n",
      "* _[BP_Transmission](https://github.com/mm80843/T3.5/blob/pages/BP_Transmission/index.md)_ -- 12 instances.\n",
      "* _[BP_Type](https://github.com/mm80843/T3.5/blob/pages/BP_Type/index.md)_ -- 2 instances.\n",
      "* _[ISO_Impact](https://github.com/mm80843/T3.5/blob/pages/ISO_Impact/index.md)_ -- 24 instances.\n",
      "* _[ISO_Purpose](https://github.com/mm80843/T3.5/blob/pages/ISO_Purpose/index.md)_ -- 18 instances.\n",
      "* _[ISO_Scale](https://github.com/mm80843/T3.5/blob/pages/ISO_Scale/index.md)_ -- 5 instances.\n",
      "* _[Mitigation](https://github.com/mm80843/T3.5/blob/pages/Mitigation/index.md)_ -- 5295 instances.\n",
      "* _[PBNCategory](https://github.com/mm80843/T3.5/blob/pages/PBNCategory/index.md)_ -- 330 instances.\n",
      "* _[Risk](https://github.com/mm80843/T3.5/blob/pages/Risk/index.md)_ -- 3418 instances.\n",
      "* _[RiskHealth](https://github.com/mm80843/T3.5/blob/pages/RiskHealth/index.md)_ -- 14 instances.\n",
      "* _[RiskType](https://github.com/mm80843/T3.5/blob/pages/RiskType/index.md)_ -- 22 instances.\n",
      "* _[Stakeholder](https://github.com/mm80843/T3.5/blob/pages/Stakeholder/index.md)_ -- 2640 instances.\n",
      "* _[Stakeholder_Type](https://github.com/mm80843/T3.5/blob/pages/Stakeholder_Type/index.md)_ -- 3 instances.\n",
      "* _[Technology](https://github.com/mm80843/T3.5/blob/pages/Technology/index.md)_ -- 3915 instances.\n",
      "\n"
     ]
    }
   ],
   "source": [
    "IDX = \"\"\n",
    "IDX += \"# Overview\\n\\n\"\n",
    "LINK = \"https://github.com/mm80843/T3.5/blob/pages/\"\n",
    "BB = list(onto.classes())\n",
    "BB.sort(key=lambda x: str(x).lower())\n",
    "for k in BB:\n",
    "    PATH =  \"./docs/\"\n",
    "    #PATH = \"7.pages/\" \n",
    "    if len(k.instances()):\n",
    "        MM = str(k).split(\".\")[-1]\n",
    "        if (not MM == \"RiskMitigation\") and (not MM == \"PBNThing\"):\n",
    "            IDX += \"* _[\"+MM+\"](\"+LINK+MM+\"/index.md)_ -- \"+str(len(k.instances()))+ \" instances.\\n\"\n",
    "with open(PATH+\"index.md\",\"w\",encoding=\"utf-8\") as f:\n",
    "        f.write(IDX)\n",
    "\n",
    "print(IDX)"
   ]
  },
  {
   "cell_type": "markdown",
   "metadata": {},
   "source": [
    "### Creating classes indexes"
   ]
  },
  {
   "cell_type": "code",
   "execution_count": 14,
   "metadata": {},
   "outputs": [
    {
     "name": "stdout",
     "output_type": "stream",
     "text": [
      "[Source](https://github.com/mm80843/T3.5/blob/pages/index.md)\n",
      "\n",
      "# aBlueprint -- 50 instances.\n",
      "\n",
      "* [Implementing Acoustic Design and Soundproofing Measures to Mitigate Noise Pollution Risks](https://github.com/mm80843/T3.5/blob/pages/aBlueprint/PBN__aBlueprint_16.md)\n",
      "* [Implementing Advanced Tech and Anti-Microbial Materials to Mitigate Contagious Disease Spread](https://github.com/mm80843/T3.5/blob/pages/aBlueprint/PBN__aBlueprint_47.md)\n",
      "* [Implementing Biohazard Mitigation Strategies](https://github.com/mm80843/T3.5/blob/pages/aBlueprint/PBN__aBlueprint_45.md)\n",
      "* [Implementing Biosecurity Measures and Technological Solutions to Counter Infectious Diseases](https://github.com/mm80843/T3.5/blob/pages/aBlueprint/PBN__aBlueprint_25.md)\n",
      "* [Implementing Collaborative Measures to Combat Contagious Diseases](https://github.com/mm80843/T3.5/blob/pages/aBlueprint/PBN__aBlueprint_4.md)\n",
      "* [Implementing Contagion Prevention Practices and Infrastructure](https://github.com/mm80843/T3.5/blob/pages/aBlueprint/PBN__aBlueprint_12.md)\n",
      "* [Implementing Contagious Disease Containment Strategies](https://github.com/mm80843/T3.5/blob/pages/aBlueprint/PBN__aBlueprint_42.md)\n",
      "* [Implementing Contagious Disease Control](https://github.com/mm80843/T3.5/blob/pages/aBlueprint/PBN__aBlueprint_35.md)\n",
      "* [Implementing Contagious Disease Control and Privacy Protection](https://github.com/mm80843/T3.5/blob/pages/aBlueprint/PBN__aBlueprint_30.md)\n",
      "* [Implementing Contagious Disease Control through Social Distancing and Digital Engagement](https://github.com/mm80843/T3.5/blob/pages/aBlueprint/PBN__aBlueprint_6.md)\n",
      "* [Implementing Contagious Disease Control: Stakeholders, Strategies, and Technologies](https://github.com/mm80843/T3.5/blob/pages/aBlueprint/PBN__aBlueprint_10.md)\n",
      "* [Implementing Contagious Disease Prevention](https://github.com/mm80843/T3.5/blob/pages/aBlueprint/PBN__aBlueprint_34.md)\n",
      "* [Implementing Cybersecurity and Transparency Strategies to Mitigate Contagious Disease Spread](https://github.com/mm80843/T3.5/blob/pages/aBlueprint/PBN__aBlueprint_36.md)\n",
      "* [Implementing Data-Driven Measures to Control Contagious Diseases](https://github.com/mm80843/T3.5/blob/pages/aBlueprint/PBN__aBlueprint_31.md)\n",
      "* [Implementing Digital Tracing and Proactive Infection Control Measures](https://github.com/mm80843/T3.5/blob/pages/aBlueprint/PBN__aBlueprint_7.md)\n",
      "* [Implementing Disease Containment Approaches](https://github.com/mm80843/T3.5/blob/pages/aBlueprint/PBN__aBlueprint_27.md)\n",
      "* [Implementing Disease Containment Scenarios and Supply Chain Adaptations](https://github.com/mm80843/T3.5/blob/pages/aBlueprint/PBN__aBlueprint_17.md)\n",
      "* [Implementing Disease Containment Strategies](https://github.com/mm80843/T3.5/blob/pages/aBlueprint/PBN__aBlueprint_14.md)\n",
      "* [Implementing Disease Containment Strategies and Technological Solutions](https://github.com/mm80843/T3.5/blob/pages/aBlueprint/PBN__aBlueprint_38.md)\n",
      "* [Implementing Disease Containment Strategies: Managing Contagious Risks with Social Distancing and Enhanced Sanitation Measures](https://github.com/mm80843/T3.5/blob/pages/aBlueprint/PBN__aBlueprint_8.md)\n",
      "* [Implementing Disease Control Strategies](https://github.com/mm80843/T3.5/blob/pages/aBlueprint/PBN__aBlueprint_24.md)\n",
      "* [Implementing Disease Control Strategies: Mitigating Contagion Risks through Hygiene Measures and Rapid Isolation](https://github.com/mm80843/T3.5/blob/pages/aBlueprint/PBN__aBlueprint_41.md)\n",
      "* [Implementing Disease Mitigation Strategies](https://github.com/mm80843/T3.5/blob/pages/aBlueprint/PBN__aBlueprint_19.md)\n",
      "* [Implementing Disease Mitigation Strategies: Addressing Wildlife Trade, Vector Control, and Environmental Hygiene](https://github.com/mm80843/T3.5/blob/pages/aBlueprint/PBN__aBlueprint_21.md)\n",
      "* [Implementing Disease Surveillance and Resilience Measures](https://github.com/mm80843/T3.5/blob/pages/aBlueprint/PBN__aBlueprint_49.md)\n",
      "* [Implementing Drainage System Improvements and PCR Protocol Standardization to Mitigate Disease Spread](https://github.com/mm80843/T3.5/blob/pages/aBlueprint/PBN__aBlueprint_18.md)\n",
      "* [Implementing Early-Warning Systems and Safety Protocols Against COVID-19 Spread](https://github.com/mm80843/T3.5/blob/pages/aBlueprint/PBN__aBlueprint_5.md)\n",
      "* [Implementing Effective Measures to Combat Contagious Diseases](https://github.com/mm80843/T3.5/blob/pages/aBlueprint/PBN__aBlueprint_2.md)\n",
      "* [Implementing Enhanced Sanitation and Hygiene Practices](https://github.com/mm80843/T3.5/blob/pages/aBlueprint/PBN__aBlueprint_44.md)\n",
      "* [Implementing Filtration and Protective Measures to Minimize Contagious Diseases](https://github.com/mm80843/T3.5/blob/pages/aBlueprint/PBN__aBlueprint_9.md)\n",
      "* [Implementing Indoor Air Quality Monitoring and Maintenance Protocols for Contagion Control](https://github.com/mm80843/T3.5/blob/pages/aBlueprint/PBN__aBlueprint_40.md)\n",
      "* [Implementing Infectious Disease Control Measures within Sustainable Urban Developments](https://github.com/mm80843/T3.5/blob/pages/aBlueprint/PBN__aBlueprint_22.md)\n",
      "* [Implementing Infectious Disease Prevention](https://github.com/mm80843/T3.5/blob/pages/aBlueprint/PBN__aBlueprint_26.md)\n",
      "* [Implementing Infrastructure Modifications and Community Engagement Strategies to Counter Contagious Diseases](https://github.com/mm80843/T3.5/blob/pages/aBlueprint/PBN__aBlueprint_23.md)\n",
      "* [Implementing Innovative Techniques to Thwart Contagious Disease Spread](https://github.com/mm80843/T3.5/blob/pages/aBlueprint/PBN__aBlueprint_37.md)\n",
      "* [Implementing Innovative Waste Management Strategies to Curtail Disease Spread](https://github.com/mm80843/T3.5/blob/pages/aBlueprint/PBN__aBlueprint_48.md)\n",
      "* [Implementing Mental Health Mitigation Strategies](https://github.com/mm80843/T3.5/blob/pages/aBlueprint/PBN__aBlueprint_3.md)\n",
      "* [Implementing Occupancy Controls and Physical Distancing](https://github.com/mm80843/T3.5/blob/pages/aBlueprint/PBN__aBlueprint_13.md)\n",
      "* [Implementing Pooled-Sample Analysis and Contact Tracing Systems](https://github.com/mm80843/T3.5/blob/pages/aBlueprint/PBN__aBlueprint_29.md)\n",
      "* [Implementing Proactive Measures to Control Disease Spread and Economic Disruptions](https://github.com/mm80843/T3.5/blob/pages/aBlueprint/PBN__aBlueprint_20.md)\n",
      "* [Implementing Real-time Epidemiological Data Collection and Analysis to Mitigate Virus Spread](https://github.com/mm80843/T3.5/blob/pages/aBlueprint/PBN__aBlueprint_28.md)\n",
      "* [Implementing Regular Cleaning, WBE and Quarantine Measures for Infectious Diseases Mitigation](https://github.com/mm80843/T3.5/blob/pages/aBlueprint/PBN__aBlueprint_0.md)\n",
      "* [Implementing Social Distancing and Surveillance](https://github.com/mm80843/T3.5/blob/pages/aBlueprint/PBN__aBlueprint_32.md)\n",
      "* [Implementing Strategic Measures to Counteract Contagious Diseases](https://github.com/mm80843/T3.5/blob/pages/aBlueprint/PBN__aBlueprint_33.md)\n",
      "* [Implementing Surface Disinfection Strategies](https://github.com/mm80843/T3.5/blob/pages/aBlueprint/PBN__aBlueprint_39.md)\n",
      "* [Implementing UV Based Technologies and Ventilation Improvements to Control Disease Spread](https://github.com/mm80843/T3.5/blob/pages/aBlueprint/PBN__aBlueprint_43.md)\n",
      "* [Implementing UVGI Systems to Combat Contagious Diseases](https://github.com/mm80843/T3.5/blob/pages/aBlueprint/PBN__aBlueprint_46.md)\n",
      "* [Implementing Vaccination Strategies and Awareness Campaigns](https://github.com/mm80843/T3.5/blob/pages/aBlueprint/PBN__aBlueprint_11.md)\n",
      "* [Implementing Ventilation and Filtration Strategies to Mitigate Disease Spread](https://github.com/mm80843/T3.5/blob/pages/aBlueprint/PBN__aBlueprint_15.md)\n",
      "* [Implementing Wastewater Monitoring and Enhanced Sanitation Measures to Mitigate SARS-CoV-2 Spread](https://github.com/mm80843/T3.5/blob/pages/aBlueprint/PBN__aBlueprint_1.md)\n",
      "\n"
     ]
    }
   ],
   "source": [
    "LINK = \"https://github.com/mm80843/T3.5/blob/pages/\"\n",
    "for k in onto.classes():\n",
    "    K = str(k).split(\".\")[-1]\n",
    "    if len(k.instances()):\n",
    "    #print(K)\n",
    "        PATH =  \"./docs/\"\n",
    "        #PATH = \"7.pages/\" \n",
    "        if K not in [\"PBNThing\",\"Qid\"]:\n",
    "            IDX = \"[Source](https://github.com/mm80843/T3.5/blob/pages/index.md)\"\n",
    "            IDX += \"\\n\\n# \"+str(K)+\" -- \"+str(len(k.instances()))+ \" instances.\\n\\n\"\n",
    "            BB = list(k.instances())\n",
    "            BB.sort(key=lambda x: x.label[0].lower())\n",
    "            for i in BB: \n",
    "                I = str(i).split(\".\")[-1]\n",
    "                if K == \"Qid\":\n",
    "                    if len(i.has_Qid_alias) > 0:\n",
    "\n",
    "                        IDX += \"* [\"+i.has_Qid_alias[0]+\"](\"+LINK+\"Qid/\"+str(I)+\".md)\\n\"\n",
    "                    else:\n",
    "                        IDX += \"* [\"+str(I)+\"]\\n\"\n",
    "                else:\n",
    "                    II = I.split(\"PBN__\")[1].split(\"_\")[0]\n",
    "                    A = i.label[0]\n",
    "                    if K == \"Article\":\n",
    "                        A = \" \".join(list(set(A.split(\" \")))).replace(\"nan\",\"\").strip()\n",
    "                    if \"Nan\" not in A:\n",
    "                        if \"----\" not in A:\n",
    "                            IDX += \"* [\"+A+\"](\"+LINK+II+\"/\"+str(I)+\".md)\\n\" \n",
    "            with open(PATH+K+\"/index.md\",\"w\",encoding=\"utf-8\") as f:\n",
    "                f.write(IDX)\n",
    "\n",
    "print(IDX)"
   ]
  },
  {
   "cell_type": "code",
   "execution_count": 15,
   "metadata": {},
   "outputs": [
    {
     "name": "stdout",
     "output_type": "stream",
     "text": [
      "DONE\n"
     ]
    }
   ],
   "source": [
    "print(\"DONE\")"
   ]
  }
 ],
 "metadata": {
  "kernelspec": {
   "display_name": "Python 3 (ipykernel)",
   "language": "python",
   "name": "python3"
  },
  "language_info": {
   "codemirror_mode": {
    "name": "ipython",
    "version": 3
   },
   "file_extension": ".py",
   "mimetype": "text/x-python",
   "name": "python",
   "nbconvert_exporter": "python",
   "pygments_lexer": "ipython3",
   "version": "3.10.12"
  }
 },
 "nbformat": 4,
 "nbformat_minor": 2
}
