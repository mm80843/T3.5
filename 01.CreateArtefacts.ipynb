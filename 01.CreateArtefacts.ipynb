{
 "cells": [
  {
   "cell_type": "code",
   "execution_count": 1,
   "metadata": {},
   "outputs": [
    {
     "name": "stdout",
     "output_type": "stream",
     "text": [
      "0.40\n"
     ]
    },
    {
     "name": "stderr",
     "output_type": "stream",
     "text": [
      "* Owlready2 * Warning: optimized Cython parser module 'owlready2_optimized' is not available, defaulting to slower Python implementation\n"
     ]
    }
   ],
   "source": [
    "import pandas as pd\n",
    "import os\n",
    "from owlready2 import *\n",
    "\n",
    "import owlready2\n",
    "print(owlready2.VERSION) ## Bugs when > 0.40 but works file at owlready2==0.40 "
   ]
  },
  {
   "cell_type": "code",
   "execution_count": 2,
   "metadata": {},
   "outputs": [],
   "source": [
    "onto = get_ontology(\"pbn_t3_5.owl\").load()"
   ]
  },
  {
   "cell_type": "markdown",
   "metadata": {},
   "source": [
    "# Overview"
   ]
  },
  {
   "cell_type": "code",
   "execution_count": 3,
   "metadata": {},
   "outputs": [],
   "source": [
    "debug = False\n",
    "if debug:\n",
    "    print(\"\\n# Overview\\n\")\n",
    "    for k in onto.classes():\n",
    "        if len(k.instances()):\n",
    "            print(\"* \",\"_\"+str(k).split(\".\")[-1]+\"_\",\" -- \",len(k.instances()), \"instances.\")\n",
    "    print(\"\\n# Details\\n\")\n",
    "    for k in onto.classes():\n",
    "        K = str(k).split(\".\")[-1]\n",
    "        if K not in [\"Qid\",\"PBNThing\"]:\n",
    "            print(\"## \",K,\" -- \",len(k.instances()), \"instances.\")\n",
    "            for i in k.instances()[:2]: \n",
    "                I = str(i).split(\".\")[-1]\n",
    "                if K == \"Qid\":\n",
    "                    if len(i.has_Qid_alias) > 0:\n",
    "                        print(\"### \",I,\" -> \",i.has_Qid_alias[0])\n",
    "                    else:\n",
    "                        print(\"### \",I)\n",
    "                    for p in list(i.get_properties()):\n",
    "                        P = str(p).split(\".\")[-1]\n",
    "                        OBJ = \"onto.\"+str(I)+\".\"+str(P)\n",
    "                        if not P == \"label\":\n",
    "                            print(\"* \",\"pbn_t3_5.\"+str(I)+\".\"+str(P),\": \",eval(OBJ))\n",
    "                else:\n",
    "                    print(\"### \",I,\" -> \",i.label[0])\n",
    "                    for p in list(i.get_properties()):\n",
    "                        P = str(p).split(\".\")[-1]\n",
    "                        OBJ = \"onto.\"+str(I)+\".\"+str(P)\n",
    "                        if not P == \"label\":\n",
    "                            print(\"* \",\"pbn_t3_5.\"+str(I)+\".\"+str(P),\": \",eval(OBJ))\n"
   ]
  },
  {
   "cell_type": "markdown",
   "metadata": {},
   "source": [
    "# Creating mardown files and excel"
   ]
  },
  {
   "cell_type": "markdown",
   "metadata": {},
   "source": [
    "### Creating QIDs"
   ]
  },
  {
   "cell_type": "code",
   "execution_count": 15,
   "metadata": {},
   "outputs": [
    {
     "name": "stdout",
     "output_type": "stream",
     "text": [
      "QID: 3636\n"
     ]
    }
   ],
   "source": [
    "LINK = \"https://github.com/mm80843/T3.5/blob/main/docs/\"\n",
    "for k in onto.classes():\n",
    "    K = str(k).split(\".\")[-1]\n",
    "    if K in [\"Qid\"]:\n",
    "        ClassName = K\n",
    "        PATH = \"./docs/\"+K+\"/\"\n",
    "        #PATH = '7.pages/'+K+\"/\"\n",
    "        if not os.path.isdir(PATH):\n",
    "            os.mkdir(PATH)\n",
    "        print(\"QID:\",len(k.instances()))\n",
    "        for i in k.instances(): \n",
    "            I = str(i).split(\".\")[-1]\n",
    "            MD = \"[Home](https://github.com/mm80843/T3.5/blob/main/docs/index.md) >> Class: [\"+K+\"](https://github.com/mm80843/T3.5/tree/main/docs/\"+K+\"/index.md)\"+\" >> Individual ID:\"+i.get_name()+\" \\n\\n\"\n",
    "            MD += \"# __\"+i.get_name()+\"__\\n\\n\"\n",
    "            FILENAME = PATH+i.get_name()+\".md\"\n",
    "            A = list(i.get_properties())\n",
    "            A.sort(key=lambda x: str(x))\n",
    "            for p in A:\n",
    "                P = str(p).split(\".\")[-1]\n",
    "                OBJ = \"onto.\"+str(I)+\".\"+str(P)\n",
    "                OB = eval(OBJ)\n",
    "                if not (OB == [onto.nan]):\n",
    "                    if not P == \"label\":\n",
    "                        if not p.label:\n",
    "                            MD += \"## Property: \"+P+\"\\n\\n\"\n",
    "                        else:\n",
    "                            MD += \"## \"+str(p.label[0])+\"\\n\\n\"\n",
    "                        E = eval(OBJ)[0]\n",
    "                        \n",
    "                        if type(E) is str:\n",
    "                            MD += E + \"\\n\\n\"\n",
    "                        else:\n",
    "\n",
    "                            A = [x.get_name() for x in eval(OBJ)]\n",
    "                            if \"_\" in str(A[0]):\n",
    "                                A = [LINK+x.split(\"PBN__\")[1].split(\"_\")[0]+\"/\"+x+\".md\" for x in A]\n",
    "                                #print(str(A[0]),A)\n",
    "                            else:                                \n",
    "                                A = [LINK+\"/Qid/\"+x+\".md\" for x in A]\n",
    "                            #print(A,eval(OBJ))\n",
    "                            if (OB[0].is_instance_of[0] == onto.Qid):\n",
    "                                B = [x.get_name() for x in eval(OBJ)]\n",
    "                            else:\n",
    "                                B = [x.label[0] for x in eval(OBJ)]\n",
    "                            for k in range(len(A)):\n",
    "                                if not B[k] == \"nan\":\n",
    "                                    MD += \"* [\"+B[k]+\"](\"+A[k]+\")\\n\"\n",
    "                            MD += \"\\n\"\n",
    "\n",
    "\n",
    "            #print(MD)\n",
    "            with open(FILENAME,\"w\",encoding=\"utf-8\") as f:\n",
    "                f.write(MD)"
   ]
  },
  {
   "cell_type": "markdown",
   "metadata": {},
   "source": [
    "### Creating the rest"
   ]
  },
  {
   "cell_type": "code",
   "execution_count": 14,
   "metadata": {},
   "outputs": [
    {
     "name": "stdout",
     "output_type": "stream",
     "text": [
      "Benef\n",
      "BenefReturn\n",
      "Article\n",
      "Risk\n",
      "RiskGBN\n",
      "RiskMitigation\n",
      "RiskHealth\n",
      "RiskType\n",
      "Stakeholder\n",
      "Technology\n",
      "RiskISO_Impact\n",
      "RiskISO_Purpose\n",
      "StakeholderGroup\n",
      "StakeholderSubgroup\n",
      "TechGroup\n",
      "TechSubgroup\n",
      "Enabler\n",
      "Intervention\n",
      "Blueprint\n",
      "BP_Category\n",
      "BP_Theme\n",
      "BP_Intervention\n",
      "Mitigation\n",
      "PBNCategory\n",
      "RiskISO\n"
     ]
    }
   ],
   "source": [
    "LINK = \"https://github.com/mm80843/T3.5/blob/main/docs/\"\n",
    "CLASSES = []\n",
    "NAMECLASSES = []\n",
    "for k in onto.classes():\n",
    "    K = str(k).split(\".\")[-1]\n",
    "    if (K not in [\"Qid\",\"PBNThing\"]) and len(k.instances()):\n",
    "        ClassName = K\n",
    "        print(K)\n",
    "        NAMECLASSES.append(K)\n",
    "        CLASS = {}\n",
    "        PATH = \"./docs/\"+K+\"/\"\n",
    "        #PATH = '7.pages/'+K+\"/\"\n",
    "        if not os.path.isdir(PATH):\n",
    "            os.mkdir(PATH)\n",
    "        #print(\"## \",K,\" -- \",len(k.instances()), \"instances.\")\n",
    "        for i in k.instances(): \n",
    "            try:\n",
    "                I = str(i).split(\".\")[-1]\n",
    "                CLASS[i] = {}\n",
    "                CLASS[i][\"ID\"] = I\n",
    "                MD = \"[Home](https://github.com/mm80843/T3.5/blob/main/docs/index.md) >> Class: [\"+K+\"](https://github.com/mm80843/T3.5/tree/main/docs/\"+K+\"/index.md)\"+\" >> Individual ID:\"+i.get_name()+\" \\n\\n\"\n",
    "                MD += \"# __\"+i.label[0]+\"__\\n\\n\"\n",
    "                FILENAME = PATH+i.get_name()+\".md\"\n",
    "                A = list(i.get_properties())\n",
    "                A.sort(key=lambda x: str(x))\n",
    "                for p in A:\n",
    "                    P = str(p).split(\".\")[-1]\n",
    "                    OBJ = \"onto.\"+str(I)+\".\"+str(P)\n",
    "                    OB = eval(OBJ)\n",
    "                    E = eval(OBJ)[0]\n",
    "                    if not (OB == [onto.nan]):\n",
    "                        if not P == \"label\":\n",
    "                            if not p.label:\n",
    "                                MD += \"## Property: \"+P+\"\\n\\n\"\n",
    "                            else:\n",
    "                                MD += \"## \"+str(p.label[0])+\"\\n\\n\"\n",
    "                                \n",
    "\n",
    "                            E = eval(OBJ)[0]\n",
    "\n",
    "                                                        \n",
    "                            if type(E) is str:\n",
    "                                MD += E + \"\\n\\n\"\n",
    "                                CLASS[i][P] = E\n",
    "                            else:\n",
    "\n",
    "                                A = [x.get_name() for x in eval(OBJ)]\n",
    "                                if \"_\" in str(A[0]):\n",
    "                                    A = [LINK+x.split(\"PBN__\")[1].split(\"_\")[0]+\"/\"+x+\".md\" for x in A]\n",
    "                                    #print(str(A[0]),A)\n",
    "                                else:                                \n",
    "                                    A = [LINK+\"/Qid/\"+x+\".md\" for x in A]\n",
    "                                #print(A,eval(OBJ))\n",
    "                                if (OB[0].is_instance_of[0] == onto.Qid):\n",
    "                                    B = [() for x in eval(OBJ)]\n",
    "                                else:\n",
    "                                    B = [x.label[0] for x in eval(OBJ)]\n",
    "                                for k in range(len(A)):\n",
    "                                    if not B[k] == \"nan\":\n",
    "                                        MD += \"* [\"+B[k]+\"](\"+A[k]+\")\\n\"\n",
    "                                MD += \"\\n\"\n",
    "                                CLASS[i][P] = [str(x) for x in B]\n",
    "\n",
    "                            CLASS[i][\"NAME\"] = E\n",
    "                            CLASS[i][\"PBNTYPE\"] = ClassName                                \n",
    "                        else:\n",
    "                            E = eval(OBJ)[0]\n",
    "                            CLASS[i][\"NAME\"] = E\n",
    "                            CLASS[i][\"PBNTYPE\"] = ClassName\n",
    "                #print(MD)\n",
    "                with open(FILENAME,\"w\",encoding=\"utf-8\") as f:\n",
    "                    f.write(MD)\n",
    "            except:\n",
    "                pass\n",
    "        CLASSES.append(CLASS)"
   ]
  },
  {
   "cell_type": "code",
   "execution_count": 16,
   "metadata": {},
   "outputs": [
    {
     "data": {
      "text/plain": [
       "('Qid', 'Qid')"
      ]
     },
     "execution_count": 16,
     "metadata": {},
     "output_type": "execute_result"
    }
   ],
   "source": [
    "str(i.is_instance_of[0]).split(\".\")[-1],ClassName"
   ]
  },
  {
   "cell_type": "markdown",
   "metadata": {},
   "source": [
    "# Creating the excel of the KG"
   ]
  },
  {
   "cell_type": "code",
   "execution_count": 17,
   "metadata": {},
   "outputs": [
    {
     "name": "stdout",
     "output_type": "stream",
     "text": [
      "0 ['ID', 'has_BenefDetails', 'NAME', 'PBNTYPE', 'has_BenefReturn', 'has_BenefSource', 'has_Beneficiary'] ['PBNTYPE', 'ID', 'NAME', 'has_BenefDetails', 'has_BenefReturn', 'has_BenefSource', 'has_Beneficiary']\n",
      "1 ['ID', 'NAME', 'PBNTYPE'] ['PBNTYPE', 'ID', 'NAME']\n",
      "2 ['ID', 'has_ArticleDOI', 'NAME', 'PBNTYPE', 'has_ArticleLLMShortSummary', 'has_ArticleLLMSummary', 'has_ArticleRef', 'has_ArticleTitle', 'has_ArticleYear', 'has_BenefInArticle', 'has_RiskInArticle', 'has_SourceMitigation'] ['PBNTYPE', 'ID', 'NAME', 'has_ArticleDOI', 'has_ArticleLLMShortSummary', 'has_ArticleLLMSummary', 'has_ArticleRef', 'has_ArticleTitle', 'has_ArticleYear', 'has_BenefInArticle', 'has_RiskInArticle', 'has_SourceMitigation']\n",
      "3 ['ID', 'has_Category', 'NAME', 'PBNTYPE', 'has_Closest', 'has_RiskMitigation', 'has_RiskDescription', 'has_RiskGBN', 'has_RiskHealth', 'has_RiskISO_Impact', 'has_RiskISO_Purpose', 'has_RiskName', 'has_RiskOwner', 'has_RiskSource', 'has_RiskSubject', 'has_RiskTechnology', 'has_RiskType'] ['PBNTYPE', 'ID', 'NAME', 'has_Category', 'has_Closest', 'has_RiskMitigation', 'has_RiskDescription', 'has_RiskGBN', 'has_RiskHealth', 'has_RiskISO_Impact', 'has_RiskISO_Purpose', 'has_RiskName', 'has_RiskOwner', 'has_RiskSource', 'has_RiskSubject', 'has_RiskTechnology', 'has_RiskType']\n",
      "4 ['ID', 'has_GBNRisk', 'NAME', 'PBNTYPE'] ['PBNTYPE', 'ID', 'NAME', 'has_GBNRisk']\n",
      "5 ['ID', 'has_Category', 'NAME', 'PBNTYPE', 'has_Closest', 'has_MitigationBenefit', 'has_MitigationRisk', 'has_InterventionBP', 'has_MitigationPrinciple', 'has_MitigationSource', 'has_MitigationTechnology'] ['PBNTYPE', 'ID', 'NAME', 'has_Category', 'has_Closest', 'has_MitigationBenefit', 'has_MitigationRisk', 'has_InterventionBP', 'has_MitigationPrinciple', 'has_MitigationSource', 'has_MitigationTechnology']\n",
      "6 ['ID', 'NAME', 'PBNTYPE'] ['PBNTYPE', 'ID', 'NAME']\n",
      "7 ['ID', 'NAME', 'PBNTYPE'] ['PBNTYPE', 'ID', 'NAME']\n",
      "8 ['ID', 'has_BenefitForPeople', 'NAME', 'PBNTYPE', 'has_Category', 'has_Closest', 'has_OwnerRisk', 'has_SubjectRisk', 'has_StakeholderGroup', 'has_StakeholderSubgroup', 'has_GroupStakeholder', 'has_SubgroupStakeholder'] ['PBNTYPE', 'ID', 'NAME', 'has_BenefitForPeople', 'has_Category', 'has_Closest', 'has_OwnerRisk', 'has_SubjectRisk', 'has_StakeholderGroup', 'has_StakeholderSubgroup', 'has_GroupStakeholder', 'has_SubgroupStakeholder']\n",
      "9 ['ID', 'has_Category', 'NAME', 'PBNTYPE', 'has_Closest', 'has_TechGroup', 'has_TechSubgroup', 'has_TechnologyMitigation', 'has_TechnologyRisk', 'has_GroupTech', 'has_SubgroupTech'] ['PBNTYPE', 'ID', 'NAME', 'has_Category', 'has_Closest', 'has_TechGroup', 'has_TechSubgroup', 'has_TechnologyMitigation', 'has_TechnologyRisk', 'has_GroupTech', 'has_SubgroupTech']\n",
      "10 ['ID', 'NAME', 'PBNTYPE'] ['PBNTYPE', 'ID', 'NAME']\n",
      "11 ['ID', 'NAME', 'PBNTYPE'] ['PBNTYPE', 'ID', 'NAME']\n",
      "12 ['ID', 'has_Closest', 'NAME', 'PBNTYPE', 'has_GroupStakeholder', 'has_Category', 'has_SubgroupStakeholder'] ['PBNTYPE', 'ID', 'NAME', 'has_Closest', 'has_GroupStakeholder', 'has_Category', 'has_SubgroupStakeholder']\n",
      "13 ['ID', 'has_Category', 'NAME', 'PBNTYPE', 'has_Closest', 'has_SubgroupStakeholder'] ['PBNTYPE', 'ID', 'NAME', 'has_Category', 'has_Closest', 'has_SubgroupStakeholder']\n",
      "14 ['ID', 'has_Category', 'NAME', 'PBNTYPE', 'has_Closest', 'has_GroupTech', 'has_SubgroupTech'] ['PBNTYPE', 'ID', 'NAME', 'has_Category', 'has_Closest', 'has_GroupTech', 'has_SubgroupTech']\n",
      "15 ['ID', 'has_Category', 'NAME', 'PBNTYPE', 'has_Closest', 'has_SubgroupTech'] ['PBNTYPE', 'ID', 'NAME', 'has_Category', 'has_Closest', 'has_SubgroupTech']\n",
      "16 ['ID', 'has_BP_EnablerTitle', 'NAME', 'PBNTYPE', 'has_Category', 'has_Closest', 'has_EnablerBP', 'has_TechEquivalent'] ['PBNTYPE', 'ID', 'NAME', 'has_BP_EnablerTitle', 'has_Category', 'has_Closest', 'has_EnablerBP', 'has_TechEquivalent']\n",
      "17 ['ID', 'has_InterventionBP', 'NAME', 'PBNTYPE'] ['PBNTYPE', 'ID', 'NAME', 'has_InterventionBP']\n",
      "18 ['ID', 'has_BPCapabilities', 'NAME', 'PBNTYPE', 'has_BPContext', 'has_BPDemonstrated', 'has_BPDescription', 'has_BPEnabler', 'has_BPIntervention', 'has_BPPermanent', 'has_BPPhase', 'has_BPProblem', 'has_BPReason', 'has_BPRestriction', 'has_BPScale', 'has_BPTitle', 'has_BPTransmission', 'has_BPType', 'has_BPValueProposition'] ['PBNTYPE', 'ID', 'NAME', 'has_BPCapabilities', 'has_BPContext', 'has_BPDemonstrated', 'has_BPDescription', 'has_BPEnabler', 'has_BPIntervention', 'has_BPPermanent', 'has_BPPhase', 'has_BPProblem', 'has_BPReason', 'has_BPRestriction', 'has_BPScale', 'has_BPTitle', 'has_BPTransmission', 'has_BPType', 'has_BPValueProposition']\n",
      "19 ['ID', 'has_BP_Theme', 'NAME', 'PBNTYPE', 'has_BP_CategoryTitle'] ['PBNTYPE', 'ID', 'NAME', 'has_BP_Theme', 'has_BP_CategoryTitle']\n",
      "20 ['ID', 'has_BP_Intervention', 'NAME', 'PBNTYPE', 'has_BP_ThemeTitle'] ['PBNTYPE', 'ID', 'NAME', 'has_BP_Intervention', 'has_BP_ThemeTitle']\n",
      "21 ['ID', 'NAME', 'PBNTYPE', 'has_BP_InterventionKey', 'has_BP_InterventionTitle'] ['PBNTYPE', 'ID', 'NAME', 'has_BP_InterventionKey', 'has_BP_InterventionTitle']\n",
      "22 ['ID', 'has_Category', 'NAME', 'PBNTYPE', 'has_Closest', 'has_MitigationPrinciple', 'has_MitigationRisk', 'has_MitigationSource', 'has_MitigationTechnology'] ['PBNTYPE', 'ID', 'NAME', 'has_Category', 'has_Closest', 'has_MitigationPrinciple', 'has_MitigationRisk', 'has_MitigationSource', 'has_MitigationTechnology']\n",
      "23 ['ID', 'has_CategoryElements', 'NAME', 'PBNTYPE'] ['PBNTYPE', 'ID', 'NAME', 'has_CategoryElements']\n",
      "24 ['ID', 'NAME', 'PBNTYPE'] ['PBNTYPE', 'ID', 'NAME']\n"
     ]
    }
   ],
   "source": [
    "ALLDFs = []\n",
    "for  k in range(len(CLASSES)):\n",
    "    D = pd.DataFrame(CLASSES[k]).T\n",
    "    if len(D):\n",
    "        D = D.convert_dtypes()\n",
    "        C = list(D.columns)\n",
    "        if len(C):\n",
    "            DT = D.dtypes\n",
    "            for x in range(len(DT)):\n",
    "                if DT[x] == \"object\":\n",
    "                    if C[x] not in [ \"has_BenefitForPeople\",\"has_Closest\",  \"has_SubjectRisk\", \"has_RiskOwner\" , \"has_RiskSource\", \"has_RiskHealth\",\"has_RiskISO_Purpose\",\"has_RiskISO_Impact\",\"has_RiskType\",\"has_RiskGBN\"]:\n",
    "                        D = D.explode(C[x])\n",
    "            D = D.convert_dtypes()\n",
    "            CC = [x for x in C if x not in [\"ID\",\"NAME\",\"PBNTYPE\"]]\n",
    "            CC = [\"PBNTYPE\",\"ID\",\"NAME\"] + CC\n",
    "            print(k,list(D.columns),list(CC))\n",
    "            D = D[CC]\n",
    "            ALLDFs.append(D)"
   ]
  },
  {
   "cell_type": "code",
   "execution_count": 18,
   "metadata": {},
   "outputs": [
    {
     "name": "stdout",
     "output_type": "stream",
     "text": [
      "0 Benef 11066\n",
      "1 BenefReturn 1606\n",
      "2 Article 481590\n",
      "3 Risk 36782\n",
      "4 RiskGBN 1590\n",
      "5 RiskMitigation 34434\n",
      "6 RiskHealth 14\n",
      "7 RiskType 22\n",
      "8 Stakeholder 11190\n",
      "9 Technology 57843\n",
      "10 RiskISO_Impact 24\n",
      "11 RiskISO_Purpose 18\n",
      "12 StakeholderGroup 3912\n",
      "13 StakeholderSubgroup 1943\n",
      "14 TechGroup 3900\n",
      "15 TechSubgroup 1811\n",
      "16 Enabler 420\n",
      "17 Intervention 81\n",
      "18 Blueprint 395\n",
      "19 BP_Category 13\n",
      "20 BP_Theme 50\n",
      "21 BP_Intervention 80\n",
      "22 Mitigation 29827\n",
      "23 PBNCategory 16805\n",
      "24 RiskISO 42\n"
     ]
    }
   ],
   "source": [
    "i = 0\n",
    "for OneSheet in ALLDFs:\n",
    "    title = OneSheet.iloc[0].PBNTYPE\n",
    "    print(i,title,len(OneSheet))\n",
    "    i += 1"
   ]
  },
  {
   "cell_type": "code",
   "execution_count": 19,
   "metadata": {},
   "outputs": [
    {
     "name": "stdout",
     "output_type": "stream",
     "text": [
      "0 Benef 11066\n",
      "... done.\n",
      "1 BenefReturn 1606\n",
      "... done.\n",
      "2 Article 481590\n",
      "... done.\n",
      "3 Risk 36782\n",
      "... done.\n",
      "4 RiskGBN 1590\n",
      "... done.\n",
      "5 RiskMitigation 34434\n",
      "... done.\n",
      "6 RiskHealth 14\n",
      "... done.\n",
      "7 RiskType 22\n",
      "... done.\n",
      "8 Stakeholder 11190\n",
      "... done.\n",
      "9 Technology 57843\n",
      "... done.\n",
      "10 RiskISO_Impact 24\n",
      "... done.\n",
      "11 RiskISO_Purpose 18\n",
      "... done.\n",
      "12 StakeholderGroup 3912\n",
      "... done.\n",
      "13 StakeholderSubgroup 1943\n",
      "... done.\n",
      "14 TechGroup 3900\n",
      "... done.\n",
      "15 TechSubgroup 1811\n",
      "... done.\n",
      "16 Enabler 420\n",
      "... done.\n",
      "17 Intervention 81\n",
      "... done.\n",
      "18 Blueprint 395\n",
      "... done.\n",
      "19 BP_Category 13\n",
      "... done.\n",
      "20 BP_Theme 50\n",
      "... done.\n",
      "21 BP_Intervention 80\n",
      "... done.\n",
      "22 Mitigation 29827\n",
      "... done.\n",
      "23 PBNCategory 16805\n",
      "... done.\n",
      "24 RiskISO 42\n",
      "... done.\n"
     ]
    }
   ],
   "source": [
    "with pd.ExcelWriter(\"outputs/pbn_t3_5.xlsx\") as writer:\n",
    "    i = 0\n",
    "    for OneSheet in ALLDFs:\n",
    "        title = OneSheet.iloc[0].PBNTYPE\n",
    "        print(i,title,len(OneSheet))\n",
    "        i += 1\n",
    "        OneSheet[:(1048576-1)].to_excel(writer, sheet_name=title, index=False, engine=\"xlsxwriter\")\n",
    "        print(\"... done.\")\n"
   ]
  },
  {
   "cell_type": "markdown",
   "metadata": {},
   "source": [
    "# Creating  index"
   ]
  },
  {
   "cell_type": "markdown",
   "metadata": {},
   "source": [
    "### Creating general indexes"
   ]
  },
  {
   "cell_type": "code",
   "execution_count": 20,
   "metadata": {},
   "outputs": [
    {
     "name": "stdout",
     "output_type": "stream",
     "text": [
      "# Overview\n",
      "\n",
      "* _[Qid](https://github.com/mm80843/T3.5/blob/main/docs/Qid/index.md)_ -- 3636 instances.\n",
      "* _[Benef](https://github.com/mm80843/T3.5/blob/main/docs/Benef/index.md)_ -- 1415 instances.\n",
      "* _[BenefReturn](https://github.com/mm80843/T3.5/blob/main/docs/BenefReturn/index.md)_ -- 1606 instances.\n",
      "* _[Article](https://github.com/mm80843/T3.5/blob/main/docs/Article/index.md)_ -- 376 instances.\n",
      "* _[Risk](https://github.com/mm80843/T3.5/blob/main/docs/Risk/index.md)_ -- 3736 instances.\n",
      "* _[RiskGBN](https://github.com/mm80843/T3.5/blob/main/docs/RiskGBN/index.md)_ -- 5 instances.\n",
      "* _[RiskHealth](https://github.com/mm80843/T3.5/blob/main/docs/RiskHealth/index.md)_ -- 14 instances.\n",
      "* _[RiskType](https://github.com/mm80843/T3.5/blob/main/docs/RiskType/index.md)_ -- 22 instances.\n",
      "* _[Stakeholder](https://github.com/mm80843/T3.5/blob/main/docs/Stakeholder/index.md)_ -- 3356 instances.\n",
      "* _[Technology](https://github.com/mm80843/T3.5/blob/main/docs/Technology/index.md)_ -- 4968 instances.\n",
      "* _[RiskISO_Impact](https://github.com/mm80843/T3.5/blob/main/docs/RiskISO_Impact/index.md)_ -- 24 instances.\n",
      "* _[RiskISO_Purpose](https://github.com/mm80843/T3.5/blob/main/docs/RiskISO_Purpose/index.md)_ -- 18 instances.\n",
      "* _[StakeholderGroup](https://github.com/mm80843/T3.5/blob/main/docs/StakeholderGroup/index.md)_ -- 212 instances.\n",
      "* _[StakeholderSubgroup](https://github.com/mm80843/T3.5/blob/main/docs/StakeholderSubgroup/index.md)_ -- 197 instances.\n",
      "* _[TechGroup](https://github.com/mm80843/T3.5/blob/main/docs/TechGroup/index.md)_ -- 373 instances.\n",
      "* _[TechSubgroup](https://github.com/mm80843/T3.5/blob/main/docs/TechSubgroup/index.md)_ -- 191 instances.\n",
      "* _[Enabler](https://github.com/mm80843/T3.5/blob/main/docs/Enabler/index.md)_ -- 336 instances.\n",
      "* _[Intervention](https://github.com/mm80843/T3.5/blob/main/docs/Intervention/index.md)_ -- 34 instances.\n",
      "* _[Blueprint](https://github.com/mm80843/T3.5/blob/main/docs/Blueprint/index.md)_ -- 24 instances.\n",
      "* _[BP_Category](https://github.com/mm80843/T3.5/blob/main/docs/BP_Category/index.md)_ -- 6 instances.\n",
      "* _[BP_Theme](https://github.com/mm80843/T3.5/blob/main/docs/BP_Theme/index.md)_ -- 20 instances.\n",
      "* _[BP_Intervention](https://github.com/mm80843/T3.5/blob/main/docs/BP_Intervention/index.md)_ -- 80 instances.\n",
      "* _[Mitigation](https://github.com/mm80843/T3.5/blob/main/docs/Mitigation/index.md)_ -- 4394 instances.\n",
      "* _[PBNCategory](https://github.com/mm80843/T3.5/blob/main/docs/PBNCategory/index.md)_ -- 401 instances.\n",
      "* _[RiskISO](https://github.com/mm80843/T3.5/blob/main/docs/RiskISO/index.md)_ -- 42 instances.\n",
      "\n"
     ]
    }
   ],
   "source": [
    "IDX = \"\"\n",
    "IDX += \"# Overview\\n\\n\"\n",
    "for k in onto.classes():\n",
    "    PATH =  \"./docs/\"\n",
    "    #PATH = \"7.pages/\" \n",
    "    if len(k.instances()):\n",
    "        MM = str(k).split(\".\")[-1]\n",
    "        if (not MM == \"RiskMitigation\") and (not MM == \"PBNThing\"):\n",
    "            IDX += \"* _[\"+MM+\"](\"+LINK+MM+\"/index.md)_ -- \"+str(len(k.instances()))+ \" instances.\\n\"\n",
    "with open(PATH+\"index.md\",\"w\",encoding=\"utf-8\") as f:\n",
    "        f.write(IDX)\n",
    "\n",
    "print(IDX)"
   ]
  },
  {
   "cell_type": "markdown",
   "metadata": {},
   "source": [
    "### Creating classes indexes"
   ]
  },
  {
   "cell_type": "code",
   "execution_count": 21,
   "metadata": {},
   "outputs": [
    {
     "name": "stdout",
     "output_type": "stream",
     "text": [
      "[Source](https://github.com/mm80843/T3.5/blob/main/docs/index.md)\n",
      "\n",
      "# RiskISO -- 42 instances.\n",
      "\n",
      "* [Resilience](https://github.com/mm80843/T3.5/blob/main/docs/RiskISO/PBN__RiskISO_Impact_2.md)\n",
      "* [Health and care](https://github.com/mm80843/T3.5/blob/main/docs/RiskISO/PBN__RiskISO_Impact_3.md)\n",
      "* [Responsible resource use](https://github.com/mm80843/T3.5/blob/main/docs/RiskISO/PBN__RiskISO_Impact_4.md)\n",
      "* [Well-being](https://github.com/mm80843/T3.5/blob/main/docs/RiskISO/PBN__RiskISO_Impact_1.md)\n",
      "* [Preserv. and improve. of the environment](https://github.com/mm80843/T3.5/blob/main/docs/RiskISO/PBN__RiskISO_Impact_7.md)\n",
      "* [Topic](https://github.com/mm80843/T3.5/blob/main/docs/RiskISO/PBN__RiskISO_Impact_12.md)\n",
      "* [Economy and sustainable production and consumption](https://github.com/mm80843/T3.5/blob/main/docs/RiskISO/PBN__RiskISO_Impact_10.md)\n",
      "* [Safety and security](https://github.com/mm80843/T3.5/blob/main/docs/RiskISO/PBN__RiskISO_Impact_0.md)\n",
      "* [Preservation and improvement of the environment](https://github.com/mm80843/T3.5/blob/main/docs/RiskISO/PBN__RiskISO_Impact_6.md)\n",
      "* [Mobility](https://github.com/mm80843/T3.5/blob/main/docs/RiskISO/PBN__RiskISO_Impact_14.md)\n",
      "* [Attractiveness](https://github.com/mm80843/T3.5/blob/main/docs/RiskISO/PBN__RiskISO_Impact_9.md)\n",
      "* [Research](https://github.com/mm80843/T3.5/blob/main/docs/RiskISO/PBN__RiskISO_Impact_11.md)\n",
      "* [nan](https://github.com/mm80843/T3.5/blob/main/docs/RiskISO/PBN__RiskISO_Impact_13.md)\n",
      "* [Technology and innovation](https://github.com/mm80843/T3.5/blob/main/docs/RiskISO/PBN__RiskISO_Impact_20.md)\n",
      "* [Innovation, Creativity and research](https://github.com/mm80843/T3.5/blob/main/docs/RiskISO/PBN__RiskISO_Impact_8.md)\n",
      "* [Social cohesion](https://github.com/mm80843/T3.5/blob/main/docs/RiskISO/PBN__RiskISO_Impact_5.md)\n",
      "* [Biodiversity and ecosystem services](https://github.com/mm80843/T3.5/blob/main/docs/RiskISO/PBN__RiskISO_Impact_15.md)\n",
      "* [Preservaion and improvement of the environment](https://github.com/mm80843/T3.5/blob/main/docs/RiskISO/PBN__RiskISO_Impact_16.md)\n",
      "* [Governance, empowerment and engagement](https://github.com/mm80843/T3.5/blob/main/docs/RiskISO/PBN__RiskISO_Impact_17.md)\n",
      "* [Preservations and improvement of the environment](https://github.com/mm80843/T3.5/blob/main/docs/RiskISO/PBN__RiskISO_Impact_18.md)\n",
      "* [Education and capacity building](https://github.com/mm80843/T3.5/blob/main/docs/RiskISO/PBN__RiskISO_Impact_19.md)\n",
      "* [-------------------------------------](https://github.com/mm80843/T3.5/blob/main/docs/RiskISO/PBN__RiskISO_Impact_21.md)\n",
      "* [Preserv. and improvement of the environment](https://github.com/mm80843/T3.5/blob/main/docs/RiskISO/PBN__RiskISO_Impact_22.md)\n",
      "* [Responsbile resource use](https://github.com/mm80843/T3.5/blob/main/docs/RiskISO/PBN__RiskISO_Impact_23.md)\n",
      "* [Economy and sustainable production and consumption](https://github.com/mm80843/T3.5/blob/main/docs/RiskISO/PBN__RiskISO_Purpose_8.md)\n",
      "* [Health and care](https://github.com/mm80843/T3.5/blob/main/docs/RiskISO/PBN__RiskISO_Purpose_0.md)\n",
      "* [Community infrastructures](https://github.com/mm80843/T3.5/blob/main/docs/RiskISO/PBN__RiskISO_Purpose_9.md)\n",
      "* [Biodiversity and ecosystem services](https://github.com/mm80843/T3.5/blob/main/docs/RiskISO/PBN__RiskISO_Purpose_4.md)\n",
      "* [Impact](https://github.com/mm80843/T3.5/blob/main/docs/RiskISO/PBN__RiskISO_Purpose_11.md)\n",
      "* [Safety and security](https://github.com/mm80843/T3.5/blob/main/docs/RiskISO/PBN__RiskISO_Purpose_5.md)\n",
      "* [Governance, empowerment and engagement](https://github.com/mm80843/T3.5/blob/main/docs/RiskISO/PBN__RiskISO_Purpose_6.md)\n",
      "* [Mobility](https://github.com/mm80843/T3.5/blob/main/docs/RiskISO/PBN__RiskISO_Purpose_14.md)\n",
      "* [Innovation, Creativity and research](https://github.com/mm80843/T3.5/blob/main/docs/RiskISO/PBN__RiskISO_Purpose_2.md)\n",
      "* [Education and capacity building](https://github.com/mm80843/T3.5/blob/main/docs/RiskISO/PBN__RiskISO_Purpose_7.md)\n",
      "* [Living and working environment](https://github.com/mm80843/T3.5/blob/main/docs/RiskISO/PBN__RiskISO_Purpose_1.md)\n",
      "* [nan](https://github.com/mm80843/T3.5/blob/main/docs/RiskISO/PBN__RiskISO_Purpose_3.md)\n",
      "* [Living together, interdependence and mutuality](https://github.com/mm80843/T3.5/blob/main/docs/RiskISO/PBN__RiskISO_Purpose_10.md)\n",
      "* [Culture and collective identity](https://github.com/mm80843/T3.5/blob/main/docs/RiskISO/PBN__RiskISO_Purpose_13.md)\n",
      "* [Well-being](https://github.com/mm80843/T3.5/blob/main/docs/RiskISO/PBN__RiskISO_Purpose_12.md)\n",
      "* [Social cohesion](https://github.com/mm80843/T3.5/blob/main/docs/RiskISO/PBN__RiskISO_Purpose_15.md)\n",
      "* [-----------------------------------------------------------------------------------------------](https://github.com/mm80843/T3.5/blob/main/docs/RiskISO/PBN__RiskISO_Purpose_16.md)\n",
      "* [Environment and sustainable production and consumption](https://github.com/mm80843/T3.5/blob/main/docs/RiskISO/PBN__RiskISO_Purpose_17.md)\n",
      "\n"
     ]
    }
   ],
   "source": [
    "LINK = \"https://github.com/mm80843/T3.5/blob/main/docs/\"\n",
    "for k in onto.classes():\n",
    "    K = str(k).split(\".\")[-1]\n",
    "    if len(k.instances()):\n",
    "    #print(K)\n",
    "        PATH =  \"./docs/\"\n",
    "        #PATH = \"7.pages/\" \n",
    "        if K not in [\"PBNThing\",\"Qid\"]:\n",
    "            IDX = \"[Source](https://github.com/mm80843/T3.5/blob/main/docs/index.md)\"\n",
    "            IDX += \"\\n\\n# \"+str(K)+\" -- \"+str(len(k.instances()))+ \" instances.\\n\\n\"\n",
    "            for i in k.instances(): \n",
    "                I = str(i).split(\".\")[-1]\n",
    "                if K == \"Qid\":\n",
    "                    if len(i.has_Qid_alias) > 0:\n",
    "\n",
    "                        IDX += \"* [\"+i.has_Qid_alias[0]+\"](\"+LINK+\"Qid/\"+str(I)+\".md)\\n\"\n",
    "                    else:\n",
    "                        IDX += \"* [\"+str(I)+\"]\\n\"\n",
    "                else:\n",
    "                    II = I.split(\"PBN__\")[1].split(\"_\")[0]\n",
    "                    A = i.label[0]\n",
    "                    if K == \"Article\":\n",
    "                        A = \" \".join(list(set(A.split(\" \")))).replace(\"nan\",\"\").strip()\n",
    "                    IDX += \"* [\"+A+\"](\"+LINK+II+\"/\"+str(I)+\".md)\\n\" \n",
    "            with open(PATH+K+\"/index.md\",\"w\",encoding=\"utf-8\") as f:\n",
    "                f.write(IDX)\n",
    "\n",
    "print(IDX)"
   ]
  },
  {
   "cell_type": "code",
   "execution_count": 23,
   "metadata": {},
   "outputs": [
    {
     "name": "stdout",
     "output_type": "stream",
     "text": [
      "DONE\n"
     ]
    }
   ],
   "source": [
    "print(\"DONE\")"
   ]
  }
 ],
 "metadata": {
  "kernelspec": {
   "display_name": "base",
   "language": "python",
   "name": "python3"
  },
  "language_info": {
   "codemirror_mode": {
    "name": "ipython",
    "version": 3
   },
   "file_extension": ".py",
   "mimetype": "text/x-python",
   "name": "python",
   "nbconvert_exporter": "python",
   "pygments_lexer": "ipython3",
   "version": "3.8.15"
  },
  "orig_nbformat": 4
 },
 "nbformat": 4,
 "nbformat_minor": 2
}
