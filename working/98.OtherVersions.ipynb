{
 "cells": [
  {
   "cell_type": "code",
   "execution_count": 1,
   "id": "6810107e",
   "metadata": {},
   "outputs": [
    {
     "name": "stdout",
     "output_type": "stream",
     "text": [
      "0.40\n"
     ]
    }
   ],
   "source": [
    "import pandas as pd\n",
    "import os, glob\n",
    "from owlready2 import *\n",
    "\n",
    "import owlready2\n",
    "print(owlready2.VERSION) ## Bugs when > 0.40 but works file at owlready2==0.40 \n",
    "\n",
    "#```Merging ontologies:\n",
    "#https://stackoverflow.com/questions/75102102/merge-two-ontologies-using-owlready\n",
    "#```\n",
    "\n",
    "def debug(onto):\n",
    "    print(\"\\n# Overview\\n\")\n",
    "    for k in onto.classes():\n",
    "        if len(k.instances()):\n",
    "            print(\"* \",\"_\"+str(k).split(\".\")[-1]+\"_\",\" -- \",len(k.instances()), \"instances.\")"
   ]
  },
  {
   "cell_type": "markdown",
   "id": "49446d82",
   "metadata": {},
   "source": [
    "# Destroys empty"
   ]
  },
  {
   "cell_type": "code",
   "execution_count": 8,
   "id": "2baa9595",
   "metadata": {},
   "outputs": [],
   "source": [
    "onto = get_ontology(\"../kg/pbn_t3_5.owl\").load()\n"
   ]
  },
  {
   "cell_type": "code",
   "execution_count": 13,
   "id": "792b2594",
   "metadata": {},
   "outputs": [
    {
     "name": "stdout",
     "output_type": "stream",
     "text": [
      "pbn_t3_5_BP.has_Qid_alias\n",
      "pbn_t3_5_BP.has_Qid_Desc\n",
      "pbn_t3_5_BP.has_Qid_Aliases\n",
      "pbn_t3_5_BP.has_Qid_WikidataURL\n",
      "pbn_t3_5_BP.has_BenefTitle\n",
      "pbn_t3_5_BP.has_BenefDetails\n",
      "pbn_t3_5_BP.has_RiskDescription\n",
      "pbn_t3_5_BP.has_RiskName\n",
      "pbn_t3_5_BP.has_StakeholderName\n",
      "pbn_t3_5_BP.has_ArticleDOI\n",
      "pbn_t3_5_BP.has_ArticleYear\n",
      "pbn_t3_5_BP.has_ArticleTitle\n",
      "pbn_t3_5_BP.has_ArticleLLMSummary\n",
      "pbn_t3_5_BP.has_ArticleLLMShortSummary\n",
      "pbn_t3_5_BP.has_MitigationScale\n",
      "pbn_t3_5_BP.has_MitigationPrinciple\n",
      "pbn_t3_5_BP.has_BPTitle\n",
      "pbn_t3_5_BP.has_BPDescription\n",
      "pbn_t3_5_BP.has_BPContext\n",
      "pbn_t3_5_BP.has_BPReason\n",
      "pbn_t3_5_BP.has_BPProblem\n",
      "pbn_t3_5_BP.has_BPValueProposition\n",
      "pbn_t3_5_BP.has_BPCapabilities\n",
      "pbn_t3_5_BP.has_BPRestriction\n",
      "pbn_t3_5_BP.has_BPDemonstrated\n",
      "pbn_t3_5_BP.has_BPDT\n",
      "pbn_t3_5_BP.has_BP_EnablerTitle\n",
      "pbn_t3_5_BP.has_BP_InterventionTitle\n",
      "pbn_t3_5_BP.has_BP_InterventionKey\n",
      "pbn_t3_5_BP.has_BP_ThemeTitle\n",
      "pbn_t3_5_BP.has_BP_CategoryTitle\n",
      "pbn_t3_5_BP.has_Closest\n",
      "pbn_t3_5_BP.has_Qid_isInstanceOf\n",
      "pbn_t3_5_BP.has_Qid_isSubclassOf\n",
      "pbn_t3_5_BP.has_Qid_isPartOf\n",
      "pbn_t3_5_BP.has_ReturnBenef\n",
      "pbn_t3_5_BP.has_BenefReturn\n",
      "pbn_t3_5_BP.has_RiskInArticle\n",
      "pbn_t3_5_BP.has_RiskSource\n",
      "pbn_t3_5_BP.has_BenefInArticle\n",
      "pbn_t3_5_BP.has_BenefSource\n",
      "pbn_t3_5_BP.has_ImpactRisk\n",
      "pbn_t3_5_BP.has_RiskImpact\n",
      "pbn_t3_5_BP.has_ISOScaleRisk\n",
      "pbn_t3_5_BP.has_RiskISOScale\n",
      "pbn_t3_5_BP.has_MitigationRisk\n",
      "pbn_t3_5_BP.has_RiskMitigation\n",
      "pbn_t3_5_BP.has_BenefitMitigation\n",
      "pbn_t3_5_BP.has_MitigationBenefit\n",
      "pbn_t3_5_BP.has_HealthRisk\n",
      "pbn_t3_5_BP.has_RiskHealth\n",
      "pbn_t3_5_BP.has_RiskType\n",
      "pbn_t3_5_BP.has_StakeholderType\n",
      "pbn_t3_5_BP.has_TypeStakeholder\n",
      "pbn_t3_5_BP.has_OwnerRisk\n",
      "pbn_t3_5_BP.has_RiskOwner\n",
      "pbn_t3_5_BP.has_BenefitForPeople\n",
      "pbn_t3_5_BP.has_Beneficiary\n",
      "pbn_t3_5_BP.has_SubjectRisk\n",
      "pbn_t3_5_BP.has_RiskSubject\n",
      "pbn_t3_5_BP.has_IDStakeholder\n",
      "pbn_t3_5_BP.has_StakeholderID\n",
      "pbn_t3_5_BP.has_TechnologyRisk\n",
      "pbn_t3_5_BP.has_RiskTechnology\n",
      "pbn_t3_5_BP.has_IDTechnology\n",
      "pbn_t3_5_BP.has_TechnologyID\n",
      "pbn_t3_5_BP.has_Impact_RiskISO\n",
      "pbn_t3_5_BP.has_RiskISO_Impact\n",
      "pbn_t3_5_BP.has_Purpose_RiskISO\n",
      "pbn_t3_5_BP.has_RiskISO_Purpose\n",
      "pbn_t3_5_BP.has_FamilyMitigation\n",
      "pbn_t3_5_BP.has_MitigationFamily\n",
      "pbn_t3_5_BP.has_FamilyImpact\n",
      "pbn_t3_5_BP.has_ImpactFamily\n",
      "pbn_t3_5_BP.has_GroupStakeholder\n",
      "pbn_t3_5_BP.has_StakeholderGroup\n",
      "pbn_t3_5_BP.has_SubgroupStakeholder\n",
      "pbn_t3_5_BP.has_StakeholderSubgroup\n",
      "pbn_t3_5_BP.has_GroupTech\n",
      "pbn_t3_5_BP.has_TechGroup\n",
      "pbn_t3_5_BP.has_SubgroupTech\n",
      "pbn_t3_5_BP.has_TechSubgroup\n",
      "pbn_t3_5_BP.has_ArticleRef\n",
      "pbn_t3_5_BP.has_TechnologyMitigation\n",
      "pbn_t3_5_BP.has_MitigationTechnology\n",
      "pbn_t3_5_BP.has_SourceMitigation\n",
      "pbn_t3_5_BP.has_MitigationSource\n",
      "pbn_t3_5_BP.has_EquivalentTech\n",
      "pbn_t3_5_BP.has_TechEquivalent\n",
      "pbn_t3_5_BP.has_TransmissionBP\n",
      "pbn_t3_5_BP.has_BPTransmission\n",
      "pbn_t3_5_BP.has_ScaleBP\n",
      "pbn_t3_5_BP.has_BPScale\n",
      "pbn_t3_5_BP.has_PhaseBP\n",
      "pbn_t3_5_BP.has_BPPhase\n",
      "pbn_t3_5_BP.has_PermanentBP\n",
      "pbn_t3_5_BP.has_BPPermanent\n",
      "pbn_t3_5_BP.has_TypeBP\n",
      "pbn_t3_5_BP.has_BPType\n",
      "pbn_t3_5_BP.has_InterventionBP\n",
      "pbn_t3_5_BP.has_BPIntervention\n",
      "pbn_t3_5_BP.has_EnablerBP\n",
      "pbn_t3_5_BP.has_BPEnabler\n",
      "pbn_t3_5_BP.has_RiskBP\n",
      "pbn_t3_5_BP.has_BPRisk\n",
      "pbn_t3_5_BP.has_MitigBP\n",
      "pbn_t3_5_BP.has_BPMitig\n",
      "pbn_t3_5_BP.has_BP_Theme\n",
      "pbn_t3_5_BP.has_BP_Intervention\n",
      "pbn_t3_5_BP.has_BP_Enabler\n",
      "pbn_t3_5_BP.has_SourceTech\n",
      "pbn_t3_5_BP.has_TechSource\n",
      "pbn_t3_5_BP.has_Category\n",
      "pbn_t3_5_BP.has_CategoryElements\n",
      "pbn_t3_5_BP.has_BPLink\n",
      "pbn_t3_5_BP.has_TechCloseEnabler\n",
      "pbn_t3_5_BP.has_EnablerCloseTech\n",
      "pbn_t3_5_BP.has_CategoryBP_PC\n",
      "pbn_t3_5_BP.has_BPInterventionPC\n"
     ]
    }
   ],
   "source": [
    "for k in onto.properties():\n",
    "    print(k)"
   ]
  },
  {
   "cell_type": "code",
   "execution_count": 3,
   "id": "89b39521",
   "metadata": {},
   "outputs": [
    {
     "name": "stdout",
     "output_type": "stream",
     "text": [
      "\n",
      "# Overview\n",
      "\n",
      "*  _PBNThing_  --  19210 instances.\n",
      "*  _BenefReturn_  --  1606 instances.\n",
      "*  _Benef_  --  1409 instances.\n",
      "*  _Article_  --  376 instances.\n",
      "*  _Risk_  --  3418 instances.\n",
      "*  _ISO_Scale_  --  5 instances.\n",
      "*  _RiskHealth_  --  14 instances.\n",
      "*  _RiskType_  --  22 instances.\n",
      "*  _Stakeholder_  --  2640 instances.\n",
      "*  _Stakeholder_Type_  --  3 instances.\n",
      "*  _Technology_  --  3915 instances.\n",
      "*  _ISO_Impact_  --  24 instances.\n",
      "*  _ISO_Purpose_  --  18 instances.\n",
      "*  _Mitigation_  --  5295 instances.\n",
      "*  _BP_Enabler_  --  33 instances.\n",
      "*  _BP_Transmission_  --  12 instances.\n",
      "*  _Blueprint_  --  24 instances.\n",
      "*  _BP_Scale_  --  3 instances.\n",
      "*  _BP_Phase_  --  4 instances.\n",
      "*  _BP_Permanent_  --  4 instances.\n",
      "*  _BP_Type_  --  2 instances.\n",
      "*  _BP_Intervention_  --  40 instances.\n",
      "*  _BP_Category_  --  3 instances.\n",
      "*  _BP_Theme_  --  10 instances.\n",
      "*  _PBNCategory_  --  330 instances.\n"
     ]
    }
   ],
   "source": [
    "onto = get_ontology(\"../kg/pbn_t3_5.owl\").load()\n",
    "debug(onto)\n",
    "for k in onto.classes():\n",
    "    if not len(k.instances()):\n",
    "        destroy_entity(k)\n",
    "onto.save(file = \"../kg/new/pbn_t3_5_a.owl\")\n",
    "onto.destroy()\n",
    "del onto"
   ]
  },
  {
   "cell_type": "markdown",
   "id": "8ce54a84",
   "metadata": {},
   "source": [
    "# Part B"
   ]
  },
  {
   "cell_type": "code",
   "execution_count": 4,
   "id": "1a12f05f",
   "metadata": {},
   "outputs": [
    {
     "name": "stdout",
     "output_type": "stream",
     "text": [
      "\n",
      "# Overview\n",
      "\n",
      "*  _PBNThing_  --  19186 instances.\n",
      "*  _BenefReturn_  --  1606 instances.\n",
      "*  _Benef_  --  1409 instances.\n",
      "*  _Article_  --  376 instances.\n",
      "*  _Risk_  --  3418 instances.\n",
      "*  _ISO_Scale_  --  5 instances.\n",
      "*  _RiskHealth_  --  14 instances.\n",
      "*  _RiskType_  --  22 instances.\n",
      "*  _Stakeholder_  --  2640 instances.\n",
      "*  _Stakeholder_Type_  --  3 instances.\n",
      "*  _Technology_  --  3915 instances.\n",
      "*  _ISO_Impact_  --  24 instances.\n",
      "*  _ISO_Purpose_  --  18 instances.\n",
      "*  _Mitigation_  --  5295 instances.\n",
      "*  _BP_Enabler_  --  33 instances.\n",
      "*  _BP_Transmission_  --  12 instances.\n",
      "*  _BP_Scale_  --  3 instances.\n",
      "*  _BP_Phase_  --  4 instances.\n",
      "*  _BP_Permanent_  --  4 instances.\n",
      "*  _BP_Type_  --  2 instances.\n",
      "*  _BP_Intervention_  --  40 instances.\n",
      "*  _BP_Category_  --  3 instances.\n",
      "*  _BP_Theme_  --  10 instances.\n",
      "*  _PBNCategory_  --  330 instances.\n"
     ]
    }
   ],
   "source": [
    "ontoB = get_ontology(\"../kg/new/pbn_t3_5_a.owl\").load()\n",
    "for k in ontoB.classes():\n",
    "    if len(k.instances()):\n",
    "        K = str(k).split(\".\")[-1]\n",
    "        #print(K)\n",
    "        if K.startswith(\"Blueprint\"):\n",
    "            destroy_entity(k)\n",
    "ontoB.save(file = \"../kg/new/pbn_t3_5_noBP.owl\")\n",
    "debug(ontoB)\n",
    "ontoB.destroy()"
   ]
  },
  {
   "cell_type": "markdown",
   "id": "cc221222",
   "metadata": {},
   "source": [
    "# Part C"
   ]
  },
  {
   "cell_type": "code",
   "execution_count": 7,
   "id": "5e7a1e18",
   "metadata": {},
   "outputs": [
    {
     "name": "stdout",
     "output_type": "stream",
     "text": [
      "\n",
      "# Overview\n",
      "\n",
      "*  _BP_Enabler_  --  33 instances.\n",
      "*  _BP_Transmission_  --  12 instances.\n",
      "*  _BP_Scale_  --  3 instances.\n",
      "*  _BP_Phase_  --  4 instances.\n",
      "*  _BP_Permanent_  --  4 instances.\n",
      "*  _BP_Type_  --  2 instances.\n",
      "*  _BP_Intervention_  --  40 instances.\n",
      "*  _BP_Category_  --  3 instances.\n",
      "*  _BP_Theme_  --  10 instances.\n",
      "*  _Blueprint_  --  24 instances.\n"
     ]
    },
    {
     "name": "stderr",
     "output_type": "stream",
     "text": [
      "* Owlready2 * Running HermiT...\n",
      "    java -Xmx2000M -cp /home/kelu/.local/lib/python3.10/site-packages/owlready2/hermit:/home/kelu/.local/lib/python3.10/site-packages/owlready2/hermit/HermiT.jar org.semanticweb.HermiT.cli.CommandLine -c -O -D -I file:////tmp/tmpqus2rszv\n",
      "* Owlready2 * HermiT took 24.15150237083435 seconds\n",
      "* Owlready * (NB: only changes on entities loaded in Python are shown, other changes are done but not listed)\n"
     ]
    },
    {
     "name": "stdout",
     "output_type": "stream",
     "text": [
      "\n",
      "# Overview\n",
      "\n",
      "*  _BP_Enabler_  --  33 instances.\n",
      "*  _BP_Transmission_  --  12 instances.\n",
      "*  _BP_Scale_  --  3 instances.\n",
      "*  _BP_Phase_  --  4 instances.\n",
      "*  _BP_Permanent_  --  4 instances.\n",
      "*  _BP_Type_  --  2 instances.\n",
      "*  _BP_Intervention_  --  40 instances.\n",
      "*  _BP_Category_  --  3 instances.\n",
      "*  _BP_Theme_  --  10 instances.\n",
      "*  _Blueprint_  --  24 instances.\n"
     ]
    }
   ],
   "source": [
    "ontoC = get_ontology(\"../kg/new/pbn_t3_5_a.owl\").load()\n",
    "debug(ontoC)\n",
    "for k in ontoC.classes():\n",
    "    if len(k.instances()):\n",
    "        K = str(k).split(\".\")[-1]\n",
    "        #print(K)\n",
    "        if not( (K.startswith(\"Blueprint\") or K.startswith(\"BP_\") ) ):\n",
    "            destroy_entity(k)\n",
    "            \n",
    "with ontoC:\n",
    "    sync_reasoner()\n",
    "\n",
    "debug(ontoC)\n",
    "ontoC.save(file = \"../kg/new/pbn_t3_5_BP.owl\")\n",
    "ontoC.destroy()"
   ]
  },
  {
   "cell_type": "markdown",
   "id": "486441bf",
   "metadata": {},
   "source": [
    "# Checks"
   ]
  },
  {
   "cell_type": "code",
   "execution_count": 6,
   "id": "e2b4d7af",
   "metadata": {},
   "outputs": [
    {
     "name": "stdout",
     "output_type": "stream",
     "text": [
      "\n",
      "# Overview\n",
      "\n",
      "*  _BP_Enabler_  --  33 instances.\n",
      "*  _BP_Transmission_  --  12 instances.\n",
      "*  _BP_Scale_  --  3 instances.\n",
      "*  _BP_Phase_  --  4 instances.\n",
      "*  _BP_Permanent_  --  4 instances.\n",
      "*  _BP_Type_  --  2 instances.\n",
      "*  _BP_Intervention_  --  40 instances.\n",
      "*  _BP_Category_  --  3 instances.\n",
      "*  _BP_Theme_  --  10 instances.\n",
      "*  _Blueprint_  --  24 instances.\n"
     ]
    }
   ],
   "source": [
    "ontoCheck = get_ontology(\"../kg/new/pbn_t3_5_BP.owl\").load()\n",
    "debug(ontoCheck)\n",
    "ontoCheck.destroy()"
   ]
  }
 ],
 "metadata": {
  "kernelspec": {
   "display_name": "Python 3 (ipykernel)",
   "language": "python",
   "name": "python3"
  },
  "language_info": {
   "codemirror_mode": {
    "name": "ipython",
    "version": 3
   },
   "file_extension": ".py",
   "mimetype": "text/x-python",
   "name": "python",
   "nbconvert_exporter": "python",
   "pygments_lexer": "ipython3",
   "version": "3.10.12"
  }
 },
 "nbformat": 4,
 "nbformat_minor": 5
}
