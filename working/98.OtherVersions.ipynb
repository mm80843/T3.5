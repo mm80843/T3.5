{
 "cells": [
  {
   "cell_type": "code",
   "execution_count": 1,
   "id": "6810107e",
   "metadata": {},
   "outputs": [
    {
     "name": "stdout",
     "output_type": "stream",
     "text": [
      "0.40\n"
     ]
    }
   ],
   "source": [
    "import pandas as pd\n",
    "import os, glob\n",
    "from owlready2 import *\n",
    "\n",
    "import owlready2\n",
    "print(owlready2.VERSION) ## Bugs when > 0.40 but works file at owlready2==0.40 \n",
    "\n",
    "#```Merging ontologies:\n",
    "#https://stackoverflow.com/questions/75102102/merge-two-ontologies-using-owlready\n",
    "#```"
   ]
  },
  {
   "cell_type": "code",
   "execution_count": 5,
   "id": "48d2d088",
   "metadata": {},
   "outputs": [],
   "source": [
    "def debug(onto):\n",
    "    print(\"\\n# Overview\\n\")\n",
    "    for k in onto.classes():\n",
    "        if len(k.instances()):\n",
    "            print(\"* \",\"_\"+str(k).split(\".\")[-1]+\"_\",\" -- \",len(k.instances()), \"instances.\")"
   ]
  },
  {
   "cell_type": "code",
   "execution_count": 6,
   "id": "89b39521",
   "metadata": {},
   "outputs": [
    {
     "name": "stdout",
     "output_type": "stream",
     "text": [
      "\n",
      "# Overview\n",
      "\n",
      "*  _PBNThing_  --  19210 instances.\n",
      "*  _BenefReturn_  --  1606 instances.\n",
      "*  _Benef_  --  1409 instances.\n",
      "*  _Article_  --  376 instances.\n",
      "*  _Risk_  --  3418 instances.\n",
      "*  _ISO_Scale_  --  5 instances.\n",
      "*  _RiskHealth_  --  14 instances.\n",
      "*  _RiskType_  --  22 instances.\n",
      "*  _Stakeholder_  --  2640 instances.\n",
      "*  _Stakeholder_Type_  --  3 instances.\n",
      "*  _Technology_  --  3915 instances.\n",
      "*  _ISO_Impact_  --  24 instances.\n",
      "*  _ISO_Purpose_  --  18 instances.\n",
      "*  _Mitigation_  --  5295 instances.\n",
      "*  _BP_Enabler_  --  33 instances.\n",
      "*  _BP_Transmission_  --  12 instances.\n",
      "*  _Blueprint_  --  24 instances.\n",
      "*  _BP_Scale_  --  3 instances.\n",
      "*  _BP_Phase_  --  4 instances.\n",
      "*  _BP_Permanent_  --  4 instances.\n",
      "*  _BP_Type_  --  2 instances.\n",
      "*  _BP_Intervention_  --  40 instances.\n",
      "*  _BP_Category_  --  3 instances.\n",
      "*  _BP_Theme_  --  10 instances.\n",
      "*  _PBNCategory_  --  330 instances.\n"
     ]
    }
   ],
   "source": [
    "onto = get_ontology(\"../kg/pbn_t3_5.owl\").load()\n",
    "debug(onto)"
   ]
  },
  {
   "cell_type": "code",
   "execution_count": null,
   "id": "b7e7bb81",
   "metadata": {},
   "outputs": [],
   "source": []
  },
  {
   "cell_type": "code",
   "execution_count": 4,
   "id": "09c222a5",
   "metadata": {},
   "outputs": [],
   "source": [
    "onto.save(\"../kg/new/pbn_t3_5_noPBN.owl\")"
   ]
  }
 ],
 "metadata": {
  "kernelspec": {
   "display_name": "Python 3 (ipykernel)",
   "language": "python",
   "name": "python3"
  },
  "language_info": {
   "codemirror_mode": {
    "name": "ipython",
    "version": 3
   },
   "file_extension": ".py",
   "mimetype": "text/x-python",
   "name": "python",
   "nbconvert_exporter": "python",
   "pygments_lexer": "ipython3",
   "version": "3.10.12"
  }
 },
 "nbformat": 4,
 "nbformat_minor": 5
}
