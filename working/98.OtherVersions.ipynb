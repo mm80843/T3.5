{
 "cells": [
  {
   "cell_type": "code",
   "execution_count": 1,
   "id": "6810107e",
   "metadata": {},
   "outputs": [
    {
     "name": "stdout",
     "output_type": "stream",
     "text": [
      "0.45\n"
     ]
    }
   ],
   "source": [
    "import pandas as pd\n",
    "import os, glob\n",
    "from owlready2 import *\n",
    "\n",
    "import owlready2\n",
    "print(owlready2.VERSION) ## Bugs when > 0.40 but works file at owlready2==0.40 \n",
    "\n",
    "#```Merging ontologies:\n",
    "#https://stackoverflow.com/questions/75102102/merge-two-ontologies-using-owlready\n",
    "#```\n",
    "\n",
    "from datetime import datetime\n",
    "\n",
    "def NOW():\n",
    "    now = datetime.now()\n",
    "    current_time = now.strftime(\"%H:%M:%S\")\n",
    "    return \"Current Time = \"+ str(current_time)\n",
    "\n",
    "NOW()\n",
    "\n",
    "def debug(onto):\n",
    "    print(\"\\n# Overview\\n\")\n",
    "    for k in onto.classes():\n",
    "        if len(k.instances()):\n",
    "            print(\"* \",\"_\"+str(k).split(\".\")[-1]+\"_\",\" -- \",len(k.instances()), \"instances.\")"
   ]
  },
  {
   "cell_type": "markdown",
   "id": "8ce54a84",
   "metadata": {},
   "source": [
    "# Removing PROBONO Blueprints"
   ]
  },
  {
   "cell_type": "code",
   "execution_count": 2,
   "id": "1a12f05f",
   "metadata": {},
   "outputs": [
    {
     "name": "stdout",
     "output_type": "stream",
     "text": [
      "\n",
      "# Overview\n",
      "\n",
      "*  _PBNThing_  --  19186 instances.\n",
      "*  _BenefReturn_  --  1606 instances.\n",
      "*  _Benef_  --  1409 instances.\n",
      "*  _Article_  --  376 instances.\n",
      "*  _Risk_  --  3418 instances.\n",
      "*  _ISO_Scale_  --  5 instances.\n",
      "*  _RiskHealth_  --  14 instances.\n",
      "*  _RiskType_  --  22 instances.\n",
      "*  _Stakeholder_  --  2640 instances.\n",
      "*  _Stakeholder_Type_  --  3 instances.\n",
      "*  _Technology_  --  3915 instances.\n",
      "*  _ISO_Impact_  --  24 instances.\n",
      "*  _ISO_Purpose_  --  18 instances.\n",
      "*  _Mitigation_  --  5295 instances.\n",
      "*  _BP_Enabler_  --  33 instances.\n",
      "*  _BP_Transmission_  --  12 instances.\n",
      "*  _BP_Scale_  --  3 instances.\n",
      "*  _BP_Phase_  --  4 instances.\n",
      "*  _BP_Permanent_  --  4 instances.\n",
      "*  _BP_Type_  --  2 instances.\n",
      "*  _BP_Intervention_  --  40 instances.\n",
      "*  _PBNCategory_  --  330 instances.\n",
      "*  _BP_Theme_  --  10 instances.\n",
      "*  _BP_Category_  --  3 instances.\n"
     ]
    }
   ],
   "source": [
    "ontoB = get_ontology(\"../kg/new/pbn_t3_5.owl\").load()\n",
    "\n",
    "ontoB.metadata.comment[4] = 'Version: 0.3.a'\n",
    "ontoB.metadata.comment[5] = 'VersionComment: 0.3 - limited to PROBONO blueprints'\n",
    "\n",
    "for k in ontoB.classes():\n",
    "    I = k.instances()\n",
    "    if len(I):\n",
    "        K = str(k).split(\".\")[-1]\n",
    "        #print(K)\n",
    "        if K.startswith(\"Blueprint\"):\n",
    "            for i in I:\n",
    "                destroy_entity(i)\n",
    "            destroy_entity(k)\n",
    "            \n",
    "ontoB.save(file = \"../kg/new/pbn_t3_5_noBP.owl\")\n",
    "debug(ontoB)\n",
    "ontoB.destroy()"
   ]
  },
  {
   "cell_type": "markdown",
   "id": "cc221222",
   "metadata": {},
   "source": [
    "# Keeping only PROBONO Blueprints"
   ]
  },
  {
   "cell_type": "code",
   "execution_count": 6,
   "id": "5e7a1e18",
   "metadata": {},
   "outputs": [
    {
     "name": "stdout",
     "output_type": "stream",
     "text": [
      "\n",
      "# Overview\n",
      "\n",
      "*  _BP_Enabler_  --  33 instances.\n",
      "*  _BP_Transmission_  --  12 instances.\n",
      "*  _Blueprint_  --  74 instances.\n",
      "*  _BP_Scale_  --  3 instances.\n",
      "*  _BP_Phase_  --  4 instances.\n",
      "*  _BP_Permanent_  --  4 instances.\n",
      "*  _BP_Type_  --  2 instances.\n",
      "*  _BP_Intervention_  --  40 instances.\n",
      "*  _BP_Theme_  --  10 instances.\n",
      "*  _BP_Category_  --  3 instances.\n",
      "*  _BenefReturn_  --  1606 instances.\n",
      "*  _Benef_  --  1409 instances.\n",
      "*  _Article_  --  376 instances.\n",
      "*  _Risk_  --  3418 instances.\n",
      "*  _ISO_Scale_  --  5 instances.\n",
      "*  _RiskHealth_  --  14 instances.\n",
      "*  _RiskType_  --  22 instances.\n",
      "*  _Stakeholder_  --  2640 instances.\n",
      "*  _Stakeholder_Type_  --  3 instances.\n",
      "*  _Technology_  --  3915 instances.\n",
      "*  _ISO_Impact_  --  24 instances.\n",
      "*  _ISO_Purpose_  --  18 instances.\n",
      "*  _Mitigation_  --  5295 instances.\n",
      "*  _PBNCategory_  --  330 instances.\n",
      "*  _aBlueprint_  --  50 instances.\n",
      "*  _PBNThing_  --  19260 instances.\n",
      "Keep BP_Enabler\n",
      "Keep BP_Transmission\n",
      "Keep Blueprint\n",
      "Keep BP_Scale\n",
      "Keep BP_Phase\n",
      "Keep BP_Permanent\n",
      "Keep BP_Type\n",
      "Keep BP_Intervention\n",
      "Keep BP_Theme\n",
      "Keep BP_Category\n",
      "Destroy BenefReturn\n",
      "Destroy Benef\n",
      "Destroy Article\n",
      "Destroy Risk\n",
      "Destroy ISO_Scale\n",
      "Destroy RiskHealth\n",
      "Destroy RiskType\n",
      "Destroy Stakeholder\n",
      "Destroy Stakeholder_Type\n",
      "Destroy Technology\n",
      "Destroy ISO_Impact\n",
      "Destroy ISO_Purpose\n",
      "Destroy Mitigation\n",
      "Destroy PBNCategory\n",
      "Destroy aBlueprint\n",
      "Keep PBNThing\n",
      "\n",
      "# Overview\n",
      "\n",
      "*  _BP_Enabler_  --  33 instances.\n",
      "*  _BP_Transmission_  --  12 instances.\n",
      "*  _Blueprint_  --  24 instances.\n",
      "*  _BP_Scale_  --  3 instances.\n",
      "*  _BP_Phase_  --  4 instances.\n",
      "*  _BP_Permanent_  --  4 instances.\n",
      "*  _BP_Type_  --  2 instances.\n",
      "*  _BP_Intervention_  --  40 instances.\n",
      "*  _BP_Theme_  --  10 instances.\n",
      "*  _BP_Category_  --  3 instances.\n",
      "*  _PBNThing_  --  135 instances.\n"
     ]
    }
   ],
   "source": [
    "ontoC = get_ontology(\"../kg/new/pbn_t3_5.owl\").load()\n",
    "ontoC.metadata.comment[4] = 'Version: 0.3.b'\n",
    "ontoC.metadata.comment[5] = 'VersionComment: 0.3 - but only literature review (and automated blueprints)'\n",
    "\n",
    "debug(ontoC)\n",
    "with ontoC:\n",
    "    for k in ontoC.classes():\n",
    "        I = k.instances()\n",
    "        if len(I):\n",
    "            K = str(k).split(\".\")[-1]\n",
    "            if not( (K.startswith(\"Blueprint\") or K.startswith(\"BP_\") or K == \"PBNThing\" ) ):\n",
    "                print(\"Destroy\",K)\n",
    "                for i in I:\n",
    "                    destroy_entity(i)\n",
    "                destroy_entity(k)\n",
    "            else:\n",
    "                print(\"Keep\",K)\n",
    "\n",
    "debug(ontoC)\n",
    "ontoC.save(file = \"../kg/new/pbn_t3_5_BP.owl\")\n",
    "ontoC.destroy()"
   ]
  },
  {
   "cell_type": "markdown",
   "id": "02d2129d",
   "metadata": {},
   "source": [
    "# Checks"
   ]
  },
  {
   "cell_type": "code",
   "execution_count": 7,
   "id": "430c55db",
   "metadata": {},
   "outputs": [
    {
     "name": "stdout",
     "output_type": "stream",
     "text": [
      "\n",
      "# Overview\n",
      "\n",
      "*  _BP_Enabler_  --  33 instances.\n",
      "*  _BP_Transmission_  --  12 instances.\n",
      "*  _Blueprint_  --  24 instances.\n",
      "*  _BP_Scale_  --  3 instances.\n",
      "*  _BP_Phase_  --  4 instances.\n",
      "*  _BP_Permanent_  --  4 instances.\n",
      "*  _BP_Type_  --  2 instances.\n",
      "*  _BP_Intervention_  --  40 instances.\n",
      "*  _BP_Theme_  --  10 instances.\n",
      "*  _BP_Category_  --  3 instances.\n",
      "*  _PBNThing_  --  135 instances.\n"
     ]
    }
   ],
   "source": [
    "ontoCheck = get_ontology(\"../kg/new/pbn_t3_5_BP.owl\").load()\n",
    "debug(ontoCheck)\n",
    "ontoCheck.destroy()"
   ]
  },
  {
   "cell_type": "code",
   "execution_count": 17,
   "id": "95c7f1e8",
   "metadata": {},
   "outputs": [
    {
     "ename": "NameError",
     "evalue": "name 'getontology' is not defined",
     "output_type": "error",
     "traceback": [
      "\u001b[0;31m---------------------------------------------------------------------------\u001b[0m",
      "\u001b[0;31mNameError\u001b[0m                                 Traceback (most recent call last)",
      "Cell \u001b[0;32mIn[17], line 1\u001b[0m\n\u001b[0;32m----> 1\u001b[0m OA \u001b[38;5;241m=\u001b[39m \u001b[43mgetontology\u001b[49m(\u001b[38;5;124m\"\u001b[39m\u001b[38;5;124m../kg/new/pbn_t3_5_BP.owl\u001b[39m\u001b[38;5;124m\"\u001b[39m)\u001b[38;5;241m.\u001b[39mload()\n\u001b[1;32m      2\u001b[0m OB \u001b[38;5;241m=\u001b[39m getontology(\u001b[38;5;124m\"\u001b[39m\u001b[38;5;124m../kg/new/pbn_t3_5_noBP.owl\u001b[39m\u001b[38;5;124m\"\u001b[39m)\u001b[38;5;241m.\u001b[39mload()\n\u001b[1;32m      4\u001b[0m OA\u001b[38;5;241m.\u001b[39mmergeonto(OB, search\u001b[38;5;241m=\u001b[39m\u001b[38;5;28;01mTrue\u001b[39;00m, deleteduplicates\u001b[38;5;241m=\u001b[39m\u001b[38;5;28;01mTrue\u001b[39;00m)\n",
      "\u001b[0;31mNameError\u001b[0m: name 'getontology' is not defined"
     ]
    }
   ],
   "source": [
    "if 0:\n",
    "    OA = get_ontology(\"../kg/new/pbn_t3_5_BP.owl\").load()\n",
    "    OB = get_ontology(\"../kg/new/pbn_t3_5_noBP.owl\").load()\n",
    "\n",
    "    OA.mergeonto(OB, search=True, deleteduplicates=True)"
   ]
  },
  {
   "cell_type": "markdown",
   "id": "e92536a5",
   "metadata": {},
   "source": [
    "# Checks"
   ]
  },
  {
   "cell_type": "code",
   "execution_count": 3,
   "id": "91438b13",
   "metadata": {},
   "outputs": [],
   "source": [
    "if 0:\n",
    "    onto = get_ontology(\"../kg/pbn_t3_5.owl\").load()\n",
    "    onto.metadata.comment[4] = 'Version: 0.3.c'\n",
    "    onto.metadata.comment[5] = 'VersionComment: 0.3 - total, reasoned'\n",
    "    debug(onto)\n",
    "    # Destroy empty classes\n",
    "    for k in onto.classes():\n",
    "        if not len(k.instances()):\n",
    "            destroy_entity(k)\n",
    "    # Destroy relations\n",
    "    for k in onto.properties():\n",
    "        N = len([x for x in k.get_relations()])\n",
    "        if not N:\n",
    "            destroy_entity(k)\n",
    "    # Finetune world reasoning\n",
    "    print(\"Start\",NOW())\n",
    "    with onto:\n",
    "        sync_reasoner_pellet(infer_property_values = True, infer_data_property_values = True)\n",
    "    print(\"Stop\",NOW())\n",
    "    # Saving the KG\n",
    "    onto.save(file = \"../kg/new/pbn_t3_5_reasoned.owl\")\n",
    "    onto.destroy()\n",
    "    del onto\n"
   ]
  }
 ],
 "metadata": {
  "kernelspec": {
   "display_name": "Python 3 (ipykernel)",
   "language": "python",
   "name": "python3"
  },
  "language_info": {
   "codemirror_mode": {
    "name": "ipython",
    "version": 3
   },
   "file_extension": ".py",
   "mimetype": "text/x-python",
   "name": "python",
   "nbconvert_exporter": "python",
   "pygments_lexer": "ipython3",
   "version": "3.10.12"
  }
 },
 "nbformat": 4,
 "nbformat_minor": 5
}
