{
 "cells": [
  {
   "cell_type": "code",
   "execution_count": 1,
   "id": "6810107e",
   "metadata": {},
   "outputs": [
    {
     "name": "stdout",
     "output_type": "stream",
     "text": [
      "0.40\n"
     ]
    }
   ],
   "source": [
    "import pandas as pd\n",
    "import os, glob\n",
    "from owlready2 import *\n",
    "\n",
    "import owlready2\n",
    "print(owlready2.VERSION) ## Bugs when > 0.40 but works file at owlready2==0.40 \n",
    "\n",
    "#```Merging ontologies:\n",
    "#https://stackoverflow.com/questions/75102102/merge-two-ontologies-using-owlready\n",
    "#```\n",
    "\n",
    "def debug(onto):\n",
    "    print(\"\\n# Overview\\n\")\n",
    "    for k in onto.classes():\n",
    "        if len(k.instances()):\n",
    "            print(\"* \",\"_\"+str(k).split(\".\")[-1]+\"_\",\" -- \",len(k.instances()), \"instances.\")"
   ]
  },
  {
   "cell_type": "code",
   "execution_count": 2,
   "id": "89b39521",
   "metadata": {},
   "outputs": [
    {
     "name": "stdout",
     "output_type": "stream",
     "text": [
      "\n",
      "# Overview\n",
      "\n",
      "*  _PBNThing_  --  19260 instances.\n",
      "*  _BenefReturn_  --  1606 instances.\n",
      "*  _Benef_  --  1409 instances.\n",
      "*  _Article_  --  376 instances.\n",
      "*  _Risk_  --  3418 instances.\n",
      "*  _ISO_Scale_  --  5 instances.\n",
      "*  _RiskHealth_  --  14 instances.\n",
      "*  _RiskType_  --  22 instances.\n",
      "*  _Stakeholder_  --  2640 instances.\n",
      "*  _Stakeholder_Type_  --  3 instances.\n",
      "*  _Technology_  --  3915 instances.\n",
      "*  _ISO_Impact_  --  24 instances.\n",
      "*  _ISO_Purpose_  --  18 instances.\n",
      "*  _Mitigation_  --  5295 instances.\n",
      "*  _BP_Enabler_  --  33 instances.\n",
      "*  _BP_Transmission_  --  12 instances.\n",
      "*  _Blueprint_  --  74 instances.\n",
      "*  _BP_Scale_  --  3 instances.\n",
      "*  _BP_Phase_  --  4 instances.\n",
      "*  _BP_Permanent_  --  4 instances.\n",
      "*  _BP_Type_  --  2 instances.\n",
      "*  _BP_Intervention_  --  40 instances.\n",
      "*  _BP_Category_  --  3 instances.\n",
      "*  _BP_Theme_  --  10 instances.\n",
      "*  _PBNCategory_  --  330 instances.\n",
      "*  _aBlueprint_  --  50 instances.\n"
     ]
    }
   ],
   "source": [
    "onto = get_ontology(\"../kg/new/pbn_t3_5.owl\").load()\n",
    "debug(onto)\n",
    "for k in onto.classes():\n",
    "    if not len(k.instances()):\n",
    "        destroy_entity(k)\n",
    "onto.save(\"../kg/new/pbn_t3_5_a.owl\")\n",
    "del onto"
   ]
  },
  {
   "cell_type": "markdown",
   "id": "8ce54a84",
   "metadata": {},
   "source": [
    "# Part B"
   ]
  },
  {
   "cell_type": "code",
   "execution_count": 2,
   "id": "1a12f05f",
   "metadata": {},
   "outputs": [
    {
     "name": "stdout",
     "output_type": "stream",
     "text": [
      "\n",
      "# Overview\n",
      "\n",
      "*  _PBNThing_  --  19186 instances.\n",
      "*  _BenefReturn_  --  1606 instances.\n",
      "*  _Benef_  --  1409 instances.\n",
      "*  _Article_  --  376 instances.\n",
      "*  _Risk_  --  3418 instances.\n",
      "*  _ISO_Scale_  --  5 instances.\n",
      "*  _RiskHealth_  --  14 instances.\n",
      "*  _RiskType_  --  22 instances.\n",
      "*  _Stakeholder_  --  2640 instances.\n",
      "*  _Stakeholder_Type_  --  3 instances.\n",
      "*  _Technology_  --  3915 instances.\n",
      "*  _ISO_Impact_  --  24 instances.\n",
      "*  _ISO_Purpose_  --  18 instances.\n",
      "*  _Mitigation_  --  5295 instances.\n",
      "*  _BP_Enabler_  --  33 instances.\n",
      "*  _BP_Transmission_  --  12 instances.\n",
      "*  _BP_Scale_  --  3 instances.\n",
      "*  _BP_Phase_  --  4 instances.\n",
      "*  _BP_Permanent_  --  4 instances.\n",
      "*  _BP_Type_  --  2 instances.\n",
      "*  _BP_Intervention_  --  40 instances.\n",
      "*  _BP_Category_  --  3 instances.\n",
      "*  _BP_Theme_  --  10 instances.\n",
      "*  _PBNCategory_  --  330 instances.\n",
      "*  _aBlueprint_  --  50 instances.\n"
     ]
    }
   ],
   "source": [
    "ontoB = get_ontology(\"../kg/new/pbn_t3_5_a.owl\").load()\n",
    "for k in ontoB.classes():\n",
    "    if len(k.instances()):\n",
    "        K = str(k).split(\".\")[-1]\n",
    "        #print(K)\n",
    "        if K.startswith(\"Blueprint\"):\n",
    "            destroy_entity(k)\n",
    "ontoB.save(\"../kg/new/pbn_t3_5_clean.owl\")\n",
    "debug(ontoB)\n",
    "del ontoB"
   ]
  },
  {
   "cell_type": "markdown",
   "id": "cc221222",
   "metadata": {},
   "source": [
    "# Part C"
   ]
  },
  {
   "cell_type": "code",
   "execution_count": 2,
   "id": "5e7a1e18",
   "metadata": {},
   "outputs": [
    {
     "name": "stdout",
     "output_type": "stream",
     "text": [
      "\n",
      "# Overview\n",
      "\n",
      "*  _PBNThing_  --  19260 instances.\n",
      "*  _BenefReturn_  --  1606 instances.\n",
      "*  _Benef_  --  1409 instances.\n",
      "*  _Article_  --  376 instances.\n",
      "*  _Risk_  --  3418 instances.\n",
      "*  _ISO_Scale_  --  5 instances.\n",
      "*  _RiskHealth_  --  14 instances.\n",
      "*  _RiskType_  --  22 instances.\n",
      "*  _Stakeholder_  --  2640 instances.\n",
      "*  _Stakeholder_Type_  --  3 instances.\n",
      "*  _Technology_  --  3915 instances.\n",
      "*  _ISO_Impact_  --  24 instances.\n",
      "*  _ISO_Purpose_  --  18 instances.\n",
      "*  _Mitigation_  --  5295 instances.\n",
      "*  _BP_Enabler_  --  33 instances.\n",
      "*  _BP_Transmission_  --  12 instances.\n",
      "*  _Blueprint_  --  74 instances.\n",
      "*  _BP_Scale_  --  3 instances.\n",
      "*  _BP_Phase_  --  4 instances.\n",
      "*  _BP_Permanent_  --  4 instances.\n",
      "*  _BP_Type_  --  2 instances.\n",
      "*  _BP_Intervention_  --  40 instances.\n",
      "*  _BP_Category_  --  3 instances.\n",
      "*  _BP_Theme_  --  10 instances.\n",
      "*  _PBNCategory_  --  330 instances.\n",
      "*  _aBlueprint_  --  50 instances.\n",
      "\n",
      "# Overview\n",
      "\n",
      "*  _BP_Enabler_  --  33 instances.\n",
      "*  _BP_Transmission_  --  12 instances.\n",
      "*  _Blueprint_  --  24 instances.\n",
      "*  _BP_Scale_  --  3 instances.\n",
      "*  _BP_Phase_  --  4 instances.\n",
      "*  _BP_Permanent_  --  4 instances.\n",
      "*  _BP_Type_  --  2 instances.\n",
      "*  _BP_Intervention_  --  40 instances.\n",
      "*  _BP_Category_  --  3 instances.\n",
      "*  _BP_Theme_  --  10 instances.\n"
     ]
    }
   ],
   "source": [
    "ontoC = get_ontology(\"../kg/new/pbn_t3_5_a.owl\").load()\n",
    "debug(ontoC)\n",
    "for k in ontoC.classes():\n",
    "    if len(k.instances()):\n",
    "        K = str(k).split(\".\")[-1]\n",
    "        #print(K)\n",
    "        if not( (K.startswith(\"Blueprint\") or K.startswith(\"BP_\") ) ):\n",
    "            destroy_entity(k)\n",
    "ontoC.save(\"../kg/new/pbn_t3_5_BP.owl\")\n",
    "debug(ontoC)\n",
    "del ontoC"
   ]
  }
 ],
 "metadata": {
  "kernelspec": {
   "display_name": "Python 3 (ipykernel)",
   "language": "python",
   "name": "python3"
  },
  "language_info": {
   "codemirror_mode": {
    "name": "ipython",
    "version": 3
   },
   "file_extension": ".py",
   "mimetype": "text/x-python",
   "name": "python",
   "nbconvert_exporter": "python",
   "pygments_lexer": "ipython3",
   "version": "3.10.12"
  }
 },
 "nbformat": 4,
 "nbformat_minor": 5
}
